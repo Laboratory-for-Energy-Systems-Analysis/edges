{
 "cells": [
  {
   "cell_type": "code",
   "id": "initial_id",
   "metadata": {
    "collapsed": true,
    "ExecuteTime": {
     "end_time": "2025-04-25T11:56:55.732236Z",
     "start_time": "2025-04-25T11:56:55.373856Z"
    }
   },
   "source": [
    "import csv\n",
    "import json\n",
    "import numpy as np\n",
    "import pandas as pd\n",
    "import country_converter as coco"
   ],
   "outputs": [],
   "execution_count": 1
  },
  {
   "metadata": {
    "ExecuteTime": {
     "end_time": "2025-04-25T11:56:55.742970Z",
     "start_time": "2025-04-25T11:56:55.740851Z"
    }
   },
   "cell_type": "code",
   "source": "fp = \"/Users/romain/GitHub/edges/dev/GeoPolRisk/geopolrisk_paired_cfs.xlsx\"",
   "id": "6d9bed3d139d791b",
   "outputs": [],
   "execution_count": 2
  },
  {
   "metadata": {
    "ExecuteTime": {
     "end_time": "2025-04-25T11:57:08.143446Z",
     "start_time": "2025-04-25T11:56:57.554936Z"
    }
   },
   "cell_type": "code",
   "source": [
    "# Load the data into a DataFrame\n",
    "df = pd.read_excel(fp, sheet_name=\"Sheet1\")"
   ],
   "id": "a9fabfd2e5b5083c",
   "outputs": [],
   "execution_count": 3
  },
  {
   "metadata": {
    "ExecuteTime": {
     "end_time": "2025-04-25T11:57:16.088191Z",
     "start_time": "2025-04-25T11:57:09.062818Z"
    }
   },
   "cell_type": "code",
   "source": [
    "country_map = {\n",
    "    c: coco.convert(c, to=\"iso2\") for c in df[\"Importing Country\"].unique()\n",
    "}\n",
    "\n",
    "country_map.update(\n",
    "    {c: coco.convert(c, to=\"iso2\") for c in df[\"Exporting Country\"].unique()}\n",
    ")\n",
    "\n",
    "for k, v in country_map.items():\n",
    "    if v == \"not found\":\n",
    "        print(k)\n",
    "\n",
    "country_map = {k: v for k, v in country_map.items() if v != \"not found\"}"
   ],
   "id": "827a471561038e24",
   "outputs": [
    {
     "name": "stderr",
     "output_type": "stream",
     "text": [
      "Other Asia, nes not found in regex\n",
      "Global not found in regex\n",
      "Other Asia, nes not found in regex\n"
     ]
    },
    {
     "name": "stdout",
     "output_type": "stream",
     "text": [
      "Other Asia, nes\n",
      "Global\n"
     ]
    }
   ],
   "execution_count": 4
  },
  {
   "metadata": {
    "ExecuteTime": {
     "end_time": "2025-04-25T11:57:28.677600Z",
     "start_time": "2025-04-25T11:57:24.240328Z"
    }
   },
   "cell_type": "code",
   "source": [
    "data = []\n",
    "\n",
    "df[\"Exporting Location\"] = df[\"Exporting Country\"].map(country_map).fillna(\"GLO\")\n",
    "df[\"Importing Location\"] = df[\"Importing Country\"].map(country_map).fillna(\"GLO\")\n",
    "\n",
    "\n",
    "grouped = df.groupby([\"Resource Name\", \"Exporting Country\", \"Importing Country\"])\n",
    "\n",
    "for (resource, export_country, importing_country), group in grouped:\n",
    "    if not group[\"GeoPolRisk Characterization Factor Normalized to copper [-]\"].empty:\n",
    "        if group[\"GeoPolRisk Characterization Factor Normalized to copper [-]\"].mean() != 0:\n",
    "            data.append({\n",
    "                \"supplier\": {\n",
    "                    \"name\": group[\"Dataset name\"].iloc[0],\n",
    "                    \"reference product\": group[\"Dataset reference product\"].iloc[0],\n",
    "                    \"location\": group[\"Exporting Location\"].iloc[0],\n",
    "                    \"operator\": group[\"operator\"].iloc[0],\n",
    "                    \"matrix\": \"technosphere\"\n",
    "                },\n",
    "                \"consumer\": {\n",
    "                    \"location\": group[\"Importing Location\"].iloc[0],\n",
    "                    \"matrix\": \"technosphere\"\n",
    "                },\n",
    "                \"value\": group[\"GeoPolRisk Characterization Factor Normalized to copper [-]\"].mean(),\n",
    "            })\n"
   ],
   "id": "5b4e28c22235e123",
   "outputs": [],
   "execution_count": 5
  },
  {
   "metadata": {
    "ExecuteTime": {
     "end_time": "2025-04-25T11:57:29.855535Z",
     "start_time": "2025-04-25T11:57:29.850620Z"
    }
   },
   "cell_type": "code",
   "source": "len(data)",
   "id": "b7963cdcde140774",
   "outputs": [
    {
     "data": {
      "text/plain": [
       "51932"
      ]
     },
     "execution_count": 6,
     "metadata": {},
     "output_type": "execute_result"
    }
   ],
   "execution_count": 6
  },
  {
   "metadata": {
    "ExecuteTime": {
     "end_time": "2025-04-25T11:57:31.878971Z",
     "start_time": "2025-04-25T11:57:31.875622Z"
    }
   },
   "cell_type": "code",
   "source": "data[0]",
   "id": "38336b5684220142",
   "outputs": [
    {
     "data": {
      "text/plain": [
       "{'supplier': {'name': 'aluminium production, primary',\n",
       "  'reference product': 'aluminium, primary',\n",
       "  'location': 'AU',\n",
       "  'operator': 'startswith',\n",
       "  'matrix': 'technosphere'},\n",
       " 'consumer': {'location': 'CA', 'matrix': 'technosphere'},\n",
       " 'value': 1.101763446251004e-10}"
      ]
     },
     "execution_count": 7,
     "metadata": {},
     "output_type": "execute_result"
    }
   ],
   "execution_count": 7
  },
  {
   "metadata": {
    "ExecuteTime": {
     "end_time": "2025-04-25T11:57:36.588035Z",
     "start_time": "2025-04-25T11:57:36.177799Z"
    }
   },
   "cell_type": "code",
   "source": [
    "fp_out = \"/Users/romain/GitHub/edges/edges/data/GeoPolRisk_paired_2024.json\"\n",
    "with open(fp_out, \"w\") as f:\n",
    "    json.dump(data, f, indent=2)"
   ],
   "id": "618875dd54487886",
   "outputs": [],
   "execution_count": 8
  },
  {
   "metadata": {},
   "cell_type": "code",
   "outputs": [],
   "execution_count": null,
   "source": "",
   "id": "e3dc0b1a985bfc36"
  }
 ],
 "metadata": {
  "kernelspec": {
   "display_name": "Python 3",
   "language": "python",
   "name": "python3"
  },
  "language_info": {
   "codemirror_mode": {
    "name": "ipython",
    "version": 2
   },
   "file_extension": ".py",
   "mimetype": "text/x-python",
   "name": "python",
   "nbconvert_exporter": "python",
   "pygments_lexer": "ipython2",
   "version": "2.7.6"
  }
 },
 "nbformat": 4,
 "nbformat_minor": 5
}

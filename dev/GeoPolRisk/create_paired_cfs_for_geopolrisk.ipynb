{
 "cells": [
  {
   "cell_type": "code",
   "execution_count": 1,
   "id": "initial_id",
   "metadata": {
    "ExecuteTime": {
     "end_time": "2025-05-18T09:47:05.318545Z",
     "start_time": "2025-05-18T09:47:04.883906Z"
    }
   },
   "outputs": [],
   "source": [
    "import csv\n",
    "import json\n",
    "import numpy as np\n",
    "import pandas as pd\n",
    "import country_converter as coco"
   ]
  },
  {
   "cell_type": "code",
   "execution_count": 2,
   "id": "6d9bed3d139d791b",
   "metadata": {
    "ExecuteTime": {
     "end_time": "2025-05-18T09:47:05.339768Z",
     "start_time": "2025-05-18T09:47:05.329837Z"
    }
   },
   "outputs": [],
   "source": [
    "fp = \"results_nonbilateral.xlsx\""
   ]
  },
  {
   "cell_type": "code",
   "execution_count": 3,
   "id": "a9fabfd2e5b5083c",
   "metadata": {
    "ExecuteTime": {
     "end_time": "2025-05-18T09:47:16.265191Z",
     "start_time": "2025-05-18T09:47:05.469142Z"
    }
   },
   "outputs": [],
   "source": [
    "# Load the data into a DataFrame\n",
    "df = pd.read_excel(fp, sheet_name=\"Sheet1\")"
   ]
  },
  {
   "cell_type": "code",
   "execution_count": 4,
   "id": "c0f8b52f-1212-4d52-8044-c684672df38b",
   "metadata": {},
   "outputs": [],
   "source": [
    "# Filter for year 2022\n",
    "df = df[df[\"Year\"] == 2022]"
   ]
  },
  {
   "cell_type": "code",
   "execution_count": 5,
   "id": "5dbecee5-329b-4ab4-bb58-f69e68067ee5",
   "metadata": {},
   "outputs": [
    {
     "name": "stdout",
     "output_type": "stream",
     "text": [
      "Deleted resources due to 'Unknown' entries:\n",
      "- Diatomite\n"
     ]
    }
   ],
   "source": [
    "# Define which rows have any \"Unknown\" entries in key columns\n",
    "unknown_mask = (\n",
    "    (df[\"Dataset name\"] == \"Unknown\") |\n",
    "    (df[\"Dataset reference product\"] == \"Unknown\") |\n",
    "    (df[\"Operator\"] == \"Unknown\")\n",
    ")\n",
    "\n",
    "# Print unique resources being deleted\n",
    "deleted_resources = df.loc[unknown_mask, \"Resource Name\"].unique()\n",
    "print(\"Deleted resources due to 'Unknown' entries:\")\n",
    "for r in deleted_resources:\n",
    "    print(\"-\", r)\n",
    "\n",
    "# Filter out the unwanted rows\n",
    "df = df.loc[~unknown_mask].copy()"
   ]
  },
  {
   "cell_type": "code",
   "execution_count": 6,
   "id": "13ce6b29-1dae-4c85-94db-4bf16dc912fe",
   "metadata": {},
   "outputs": [],
   "source": [
    "# Replace NaNs in string columns with empty strings\n",
    "string_columns = [\"Dataset name\", \"Dataset reference product\", \"Operator\", \"Excludes\"]\n",
    "df[string_columns] = df[string_columns].fillna(\"\")"
   ]
  },
  {
   "cell_type": "code",
   "execution_count": 7,
   "id": "c94256fa-4bf7-4210-9cb2-e460e5ad977b",
   "metadata": {},
   "outputs": [],
   "source": [
    "def add_market(x):\n",
    "    items = [item.strip() for item in str(x).split(\";\") if item.strip() and item.strip().lower() != \"nan\"]\n",
    "    if \"market\" not in items:\n",
    "        items.append(\"market\")\n",
    "    return \"; \".join(sorted(set(items))) if items else \"\"\n",
    "\n",
    "# def add_market(x):\n",
    "#     if pd.isna(x) or str(x).lower() == \"nan\":\n",
    "#         return \"market\"\n",
    "#     items = [item.strip() for item in str(x).split(\";\") if item.strip() and item.strip().lower() != \"nan\"]\n",
    "#     if \"market\" not in items:\n",
    "#         items.append(\"market\")\n",
    "#     return \"; \".join(sorted(set(items)))"
   ]
  },
  {
   "cell_type": "code",
   "execution_count": 8,
   "id": "827a471561038e24",
   "metadata": {
    "ExecuteTime": {
     "end_time": "2025-05-18T09:47:23.731487Z",
     "start_time": "2025-05-18T09:47:16.274486Z"
    }
   },
   "outputs": [
    {
     "name": "stderr",
     "output_type": "stream",
     "text": [
      "Other Asia, nes not found in regex\n",
      "Global not found in regex\n",
      "Other Asia, nes not found in regex\n",
      "Unknown not found in regex\n"
     ]
    },
    {
     "name": "stdout",
     "output_type": "stream",
     "text": [
      "Other Asia, nes\n",
      "Global\n",
      "Unknown\n"
     ]
    }
   ],
   "source": [
    "country_map = {\n",
    "    c: coco.convert(c, to=\"iso2\") for c in df[\"Importing Country\"].unique()\n",
    "}\n",
    "\n",
    "country_map.update(\n",
    "    {c: coco.convert(c, to=\"iso2\") for c in df[\"Exporting Country\"].unique()}\n",
    ")\n",
    "\n",
    "for k, v in country_map.items():\n",
    "    if v == \"not found\":\n",
    "        print(k)\n",
    "\n",
    "country_map = {k: v for k, v in country_map.items() if v != \"not found\"}"
   ]
  },
  {
   "cell_type": "code",
   "execution_count": 9,
   "id": "3b266ecd-1a4c-48d3-b425-ba07489e75b7",
   "metadata": {},
   "outputs": [],
   "source": [
    "data = []\n",
    "\n",
    "df[\"Exporting Location\"] = df[\"Exporting Country\"].map(country_map).fillna(\"GLO\")\n",
    "df[\"Importing Location\"] = df[\"Importing Country\"].map(country_map).fillna(\"GLO\")\n",
    "\n",
    "grouped = df.groupby([\"Resource Name\", \"Exporting Country\", \"Importing Country\"])\n",
    "\n",
    "for (resource, export_country, importing_country), group in grouped:\n",
    "    cf_series = group[\"GeoPolRisk Characterization Factor Normalized to copper [-]\"]\n",
    "    \n",
    "    if not cf_series.empty and cf_series.mean() != 0:\n",
    "        # Get values or use \"\" if missing\n",
    "        dataset_name = group[\"Dataset name\"].iloc[0]\n",
    "        ref_product = group[\"Dataset reference product\"].iloc[0]\n",
    "        operator = group[\"Operator\"].iloc[0]\n",
    "\n",
    "        supplier_info = {\n",
    "            \"name\": \"\" if pd.isna(dataset_name) else dataset_name,\n",
    "            \"reference product\": \"\" if pd.isna(ref_product) else ref_product,\n",
    "            \"location\": group[\"Exporting Location\"].iloc[0],\n",
    "            \"operator\": \"\" if pd.isna(operator) else operator,\n",
    "            \"matrix\": \"technosphere\"\n",
    "        }\n",
    "\n",
    "        excludes_val = group[\"Excludes\"].iloc[0]\n",
    "        if pd.isna(excludes_val) or excludes_val.strip() == \"\":\n",
    "            supplier_info[\"excludes\"] = []\n",
    "        else:\n",
    "            supplier_info[\"excludes\"] = [e.strip() for e in excludes_val.split(\";\") if e.strip()]\n",
    "\n",
    "        data.append({\n",
    "            \"supplier\": supplier_info,\n",
    "            \"consumer\": {\n",
    "                \"location\": group[\"Importing Location\"].iloc[0],\n",
    "                \"matrix\": \"technosphere\"\n",
    "            },\n",
    "            \"value\": cf_series.mean(),\n",
    "            \"weight\": group[\"Specific Imports\"].sum()\n",
    "        })\n"
   ]
  },
  {
   "cell_type": "code",
   "execution_count": 10,
   "id": "5b4e28c22235e123",
   "metadata": {
    "ExecuteTime": {
     "end_time": "2025-05-18T09:47:28.132955Z",
     "start_time": "2025-05-18T09:47:23.740955Z"
    }
   },
   "outputs": [],
   "source": [
    "# data = []\n",
    "\n",
    "# df[\"Exporting Location\"] = df[\"Exporting Country\"].map(country_map).fillna(\"GLO\")\n",
    "# df[\"Importing Location\"] = df[\"Importing Country\"].map(country_map).fillna(\"GLO\")\n",
    "\n",
    "\n",
    "# grouped = df.groupby([\"Resource Name\", \"Exporting Country\", \"Importing Country\"])\n",
    "\n",
    "# for (resource, export_country, importing_country), group in grouped:\n",
    "#     if not group[\"GeoPolRisk Characterization Factor Normalized to copper [-]\"].empty:\n",
    "#         if group[\"GeoPolRisk Characterization Factor Normalized to copper [-]\"].mean() != 0:\n",
    "#             data.append({\n",
    "#                 \"supplier\": {\n",
    "#                     \"name\": group[\"Dataset name\"].iloc[0],\n",
    "#                     \"reference product\": group[\"Dataset reference product\"].iloc[0],\n",
    "#                     \"location\": group[\"Exporting Location\"].iloc[0],\n",
    "#                     \"operator\": group[\"operator\"].iloc[0],\n",
    "#                     \"matrix\": \"technosphere\"\n",
    "#                 },\n",
    "#                 \"consumer\": {\n",
    "#                     \"location\": group[\"Importing Location\"].iloc[0],\n",
    "#                     \"matrix\": \"technosphere\"\n",
    "#                 },\n",
    "#                 \"value\": group[\"GeoPolRisk Characterization Factor Normalized to copper [-]\"].mean(),\n",
    "#             })\n"
   ]
  },
  {
   "cell_type": "code",
   "execution_count": 11,
   "id": "b7963cdcde140774",
   "metadata": {
    "ExecuteTime": {
     "end_time": "2025-05-18T09:47:28.616153Z",
     "start_time": "2025-05-18T09:47:28.612697Z"
    }
   },
   "outputs": [
    {
     "data": {
      "text/plain": [
       "41364"
      ]
     },
     "execution_count": 11,
     "metadata": {},
     "output_type": "execute_result"
    }
   ],
   "source": [
    "len(data)"
   ]
  },
  {
   "cell_type": "code",
   "execution_count": 12,
   "id": "8cc8786e-7a71-4dd1-afcd-331a901e8944",
   "metadata": {},
   "outputs": [
    {
     "data": {
      "text/plain": [
       "{'supplier': {'name': 'aluminium production, primary',\n",
       "  'reference product': 'aluminium, primary',\n",
       "  'location': 'AL',\n",
       "  'operator': 'startswith',\n",
       "  'matrix': 'technosphere',\n",
       "  'excludes': ['liquid', 'alloy', 'market']},\n",
       " 'consumer': {'location': 'BA', 'matrix': 'technosphere'},\n",
       " 'value': 0.0001192271411315043,\n",
       " 'weight': 11.81174393730462}"
      ]
     },
     "execution_count": 12,
     "metadata": {},
     "output_type": "execute_result"
    }
   ],
   "source": [
    "data[0]"
   ]
  },
  {
   "cell_type": "code",
   "execution_count": 13,
   "id": "2e7d894d-93c1-4856-8fe2-d1e41aea43b3",
   "metadata": {},
   "outputs": [
    {
     "data": {
      "text/plain": [
       "[{'supplier': {'name': 'aluminium production, primary',\n",
       "   'reference product': 'aluminium, primary',\n",
       "   'location': 'AU',\n",
       "   'operator': 'startswith',\n",
       "   'matrix': 'technosphere',\n",
       "   'excludes': ['liquid', 'alloy', 'market']},\n",
       "  'consumer': {'location': 'CA', 'matrix': 'technosphere'},\n",
       "  'value': 0.0002417527334203126,\n",
       "  'weight': 250.3944470393658}]"
      ]
     },
     "execution_count": 13,
     "metadata": {},
     "output_type": "execute_result"
    }
   ],
   "source": [
    "target_flow = [\n",
    "    d for d in data\n",
    "    if d[\"supplier\"][\"reference product\"] == \"aluminium, primary\"\n",
    "    and d[\"supplier\"][\"location\"] == \"AU\"\n",
    "    and d[\"consumer\"][\"location\"] == \"CA\"\n",
    "]\n",
    "target_flow"
   ]
  },
  {
   "cell_type": "code",
   "execution_count": 14,
   "id": "38336b5684220142",
   "metadata": {
    "ExecuteTime": {
     "end_time": "2025-05-18T09:47:28.629229Z",
     "start_time": "2025-05-18T09:47:28.626480Z"
    }
   },
   "outputs": [],
   "source": [
    "# data[0]"
   ]
  },
  {
   "cell_type": "code",
   "execution_count": 15,
   "id": "618875dd54487886",
   "metadata": {
    "ExecuteTime": {
     "end_time": "2025-05-18T09:48:14.280693Z",
     "start_time": "2025-05-18T09:48:13.825870Z"
    }
   },
   "outputs": [],
   "source": [
    "# fp_out = \"GeoPolRisk_paired_2024.json\"\n",
    "# with open(fp_out, \"w\") as f:\n",
    "#     json.dump(\n",
    "#             {\n",
    "#                 \"name\": f\"GeoPolRisk - country pairs\",\n",
    "#                 \"unit\": \"kg copper-eq.\",\n",
    "#                 \"version\": \"1.0\",\n",
    "#                 \"exchanges\": data,\n",
    "#             },\n",
    "#             f,\n",
    "#             indent=2\n",
    "#         )"
   ]
  },
  {
   "cell_type": "markdown",
   "id": "9feb1199-d2bb-4b4e-a237-d054b66a4e9d",
   "metadata": {},
   "source": [
    "# Add additional values"
   ]
  },
  {
   "cell_type": "code",
   "execution_count": 16,
   "id": "55bcf52b-50ca-4f42-9828-baa29796062d",
   "metadata": {},
   "outputs": [],
   "source": [
    "extra_cf_data = [\n",
    "    {\n",
    "        \"resource\": \"Silicon\",\n",
    "        \"value\": 11.85781223,\n",
    "        \"weight\": 1,\n",
    "        \"name\": \"silicon production\",\n",
    "        \"reference_product\": \"silicon, metallurgical\",\n",
    "        \"operator\": \"startswith\",\n",
    "        \"excludes\": [\"silicone\", \"market\"],\n",
    "    },\n",
    "    {\n",
    "        \"resource\": \"Potassium\",\n",
    "        \"value\": 0.297397074,\n",
    "        \"weight\": 1,\n",
    "        \"name\": \"\",\n",
    "        \"reference_product\": \"potassium hydroxide\",\n",
    "        \"operator\": \"contains\",\n",
    "        \"excludes\": [\"market\"],\n",
    "    },\n",
    "    {\n",
    "        \"resource\": \"Strontium\",\n",
    "        \"value\": 11.23780594,\n",
    "        \"weight\": 1,\n",
    "        \"name\": \"strontium carbonate\",\n",
    "        \"reference_product\": \"strontium carbonate\",\n",
    "        \"operator\": \"startswith\",\n",
    "        \"excludes\": [\"market\"],\n",
    "    },\n",
    "    {\n",
    "        \"resource\": \"Iridium\",\n",
    "        \"value\": 16813.59791,\n",
    "        \"weight\": 1,\n",
    "        \"name\": \"\",\n",
    "        \"reference_product\": \"iridium\",\n",
    "        \"operator\": \"startswith\",\n",
    "        \"excludes\": [\"market\"],\n",
    "    },\n",
    "    {\n",
    "        \"resource\": \"Ferrosilicon\",\n",
    "        \"value\": 1.648469856,\n",
    "        \"weight\": 1,\n",
    "        \"name\": \"ferrosilicon\",\n",
    "        \"reference_product\": \"ferrosilicon\",\n",
    "        \"operator\": \"startswith\",\n",
    "        \"excludes\": [\"market\"],\n",
    "    },\n",
    "    {\n",
    "        \"resource\": \"Ruthenium\",\n",
    "        \"value\": 20312.17118,\n",
    "        \"weight\": 1,\n",
    "        \"name\": \"\",\n",
    "        \"reference_product\": \"ruthenium\",\n",
    "        \"operator\": \"startswith\",\n",
    "        \"excludes\": [\"market\"],\n",
    "    }\n",
    "]"
   ]
  },
  {
   "cell_type": "code",
   "execution_count": 17,
   "id": "fdd90ac6-1d53-4534-96bd-80e8728c7f9a",
   "metadata": {},
   "outputs": [],
   "source": [
    "# silicon_locations = [\"APAC\",\"AU\",\"BR\",\"BT\",\"CA\",\"CN\",\"DE\",\"ES\",\"FR\",\"IN\",\"IS\",\n",
    "#                      \"KZ\",\"MY\",\"NO\",\"PL\",\"RU\",\"UA\",\"US\"]\n",
    "# ruthenium_locations = [\"CA\",\"RU\",\"ZA\",\"ZW\"]\n",
    "\n",
    "# potassium_locations = [\"RER\"]\n",
    "# ruthenium_locations = [\"\",\"\",\"\",\"\",\"\"]\n",
    "# ruthenium_locations = [\"\",\"\",\"\",\"\",\"\"]\n",
    "# ruthenium_locations = [\"\",\"\",\"\",\"\",\"\"]"
   ]
  },
  {
   "cell_type": "code",
   "execution_count": 18,
   "id": "3e40967f-62a7-4784-8622-7b35310e9d27",
   "metadata": {},
   "outputs": [],
   "source": [
    "# Add single global entry for each extra CF\n",
    "for item in extra_cf_data:\n",
    "    supplier = {\n",
    "        \"name\": item[\"name\"],\n",
    "        \"reference product\": item[\"reference_product\"],\n",
    "        \"location\": \"\",  # empty string for global match\n",
    "        \"operator\": item[\"operator\"],\n",
    "        \"matrix\": \"technosphere\",\n",
    "        \"excludes\": item[\"excludes\"]\n",
    "    }\n",
    "\n",
    "    consumer = {\n",
    "        \"location\": \"\",  # global match\n",
    "        \"matrix\": \"technosphere\"\n",
    "    }\n",
    "\n",
    "    data.append({\n",
    "        \"supplier\": supplier,\n",
    "        \"consumer\": consumer,\n",
    "        \"value\": item[\"value\"],\n",
    "        \"weight\": item[\"weight\"]\n",
    "    })"
   ]
  },
  {
   "cell_type": "code",
   "execution_count": 19,
   "id": "bd33a21e-e8a1-4791-b0cf-12758ea02ca7",
   "metadata": {},
   "outputs": [],
   "source": [
    "fp_out = \"GeoPolRisk_paired_2024.json\"\n",
    "with open(fp_out, \"w\") as f:\n",
    "    json.dump(\n",
    "        {\n",
    "            \"name\": f\"GeoPolRisk - country pairs\",\n",
    "            \"unit\": \"kg copper-eq.\",\n",
    "            \"version\": \"1.0\",\n",
    "            \"exchanges\": data,\n",
    "        },\n",
    "        f,\n",
    "        indent=2,  \n",
    "    )"
   ]
  },
  {
   "cell_type": "code",
   "execution_count": null,
   "id": "4c0e3804-4312-4982-b882-a57d9ea65fe2",
   "metadata": {},
   "outputs": [],
   "source": []
  }
 ],
 "metadata": {
  "kernelspec": {
   "display_name": "Python 3 (ipykernel)",
   "language": "python",
   "name": "python3"
  },
  "language_info": {
   "codemirror_mode": {
    "name": "ipython",
    "version": 3
   },
   "file_extension": ".py",
   "mimetype": "text/x-python",
   "name": "python",
   "nbconvert_exporter": "python",
   "pygments_lexer": "ipython3",
   "version": "3.11.13"
  }
 },
 "nbformat": 4,
 "nbformat_minor": 5
}

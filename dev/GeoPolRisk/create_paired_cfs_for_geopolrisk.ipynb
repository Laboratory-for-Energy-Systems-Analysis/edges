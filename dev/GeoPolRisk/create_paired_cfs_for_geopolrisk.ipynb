{
 "cells": [
  {
   "cell_type": "code",
   "execution_count": 1,
   "id": "initial_id",
   "metadata": {
    "ExecuteTime": {
     "end_time": "2025-05-18T09:47:05.318545Z",
     "start_time": "2025-05-18T09:47:04.883906Z"
    }
   },
   "outputs": [],
   "source": [
    "import csv\n",
    "import json\n",
    "import numpy as np\n",
    "import pandas as pd\n",
    "import country_converter as coco"
   ]
  },
  {
   "cell_type": "code",
   "execution_count": 2,
   "id": "6d9bed3d139d791b",
   "metadata": {
    "ExecuteTime": {
     "end_time": "2025-05-18T09:47:05.339768Z",
     "start_time": "2025-05-18T09:47:05.329837Z"
    }
   },
   "outputs": [],
   "source": [
    "fp = \"results_nonbilateral.xlsx\""
   ]
  },
  {
   "cell_type": "code",
   "execution_count": 3,
   "id": "a9fabfd2e5b5083c",
   "metadata": {
    "ExecuteTime": {
     "end_time": "2025-05-18T09:47:16.265191Z",
     "start_time": "2025-05-18T09:47:05.469142Z"
    }
   },
   "outputs": [],
   "source": [
    "# Load the data into a DataFrame\n",
    "df = pd.read_excel(fp, sheet_name=\"Sheet1\")"
   ]
  },
  {
   "cell_type": "code",
   "execution_count": 4,
   "id": "c0f8b52f-1212-4d52-8044-c684672df38b",
   "metadata": {},
   "outputs": [],
   "source": [
    "# Filter for year 2022\n",
    "df = df[df[\"Year\"] == 2022]"
   ]
  },
  {
   "cell_type": "code",
   "execution_count": 5,
   "id": "431a3b04-f791-4ee8-995e-a18b209030e4",
   "metadata": {},
   "outputs": [],
   "source": [
    "# Add 'market' to Excludes\n",
    "def add_market(x):\n",
    "    items = [item.strip() for item in str(x).split(\";\") if item.strip()]\n",
    "    if \"market\" not in items:\n",
    "        items.append(\"market\")\n",
    "    return \"; \".join(sorted(set(items)))\n",
    "\n",
    "df[\"Excludes\"] = df[\"Excludes\"].apply(add_market)"
   ]
  },
  {
   "cell_type": "code",
   "execution_count": 6,
   "id": "827a471561038e24",
   "metadata": {
    "ExecuteTime": {
     "end_time": "2025-05-18T09:47:23.731487Z",
     "start_time": "2025-05-18T09:47:16.274486Z"
    }
   },
   "outputs": [
    {
     "name": "stderr",
     "output_type": "stream",
     "text": [
      "Other Asia, nes not found in regex\n",
      "Global not found in regex\n",
      "Other Asia, nes not found in regex\n",
      "Unknown not found in regex\n"
     ]
    },
    {
     "name": "stdout",
     "output_type": "stream",
     "text": [
      "Other Asia, nes\n",
      "Global\n",
      "Unknown\n"
     ]
    }
   ],
   "source": [
    "country_map = {\n",
    "    c: coco.convert(c, to=\"iso2\") for c in df[\"Importing Country\"].unique()\n",
    "}\n",
    "\n",
    "country_map.update(\n",
    "    {c: coco.convert(c, to=\"iso2\") for c in df[\"Exporting Country\"].unique()}\n",
    ")\n",
    "\n",
    "for k, v in country_map.items():\n",
    "    if v == \"not found\":\n",
    "        print(k)\n",
    "\n",
    "country_map = {k: v for k, v in country_map.items() if v != \"not found\"}"
   ]
  },
  {
   "cell_type": "code",
   "execution_count": 7,
   "id": "68855bca-b8c0-4124-b642-f0dff1aa9642",
   "metadata": {},
   "outputs": [],
   "source": [
    "data = []\n",
    "\n",
    "df[\"Exporting Location\"] = df[\"Exporting Country\"].map(country_map).fillna(\"GLO\")\n",
    "df[\"Importing Location\"] = df[\"Importing Country\"].map(country_map).fillna(\"GLO\")\n",
    "\n",
    "grouped = df.groupby([\"Resource Name\", \"Exporting Country\", \"Importing Country\"])\n",
    "\n",
    "for (resource, export_country, importing_country), group in grouped:\n",
    "    cf_series = group[\"GeoPolRisk Characterization Factor Normalized to copper [-]\"]\n",
    "    if not cf_series.empty and cf_series.mean() != 0:\n",
    "        supplier_info = {\n",
    "            \"name\": group[\"Dataset name\"].iloc[0],\n",
    "            \"reference product\": group[\"Dataset reference product\"].iloc[0],\n",
    "            \"location\": group[\"Exporting Location\"].iloc[0],\n",
    "            \"operator\": group[\"Operator\"].iloc[0],\n",
    "            \"matrix\": \"technosphere\"\n",
    "        }\n",
    "\n",
    "        # Add excludes if available and non-null\n",
    "        excludes_val = group[\"Excludes\"].iloc[0]\n",
    "        if pd.notna(excludes_val) and excludes_val != \"\":\n",
    "            supplier_info[\"excludes\"] = [e.strip() for e in excludes_val.split(\";\") if e.strip()]\n",
    "\n",
    "        data.append({\n",
    "            \"supplier\": supplier_info,\n",
    "            \"consumer\": {\n",
    "                \"location\": group[\"Importing Location\"].iloc[0],\n",
    "                \"matrix\": \"technosphere\"\n",
    "            },\n",
    "            \"value\": cf_series.mean(),\n",
    "        })"
   ]
  },
  {
   "cell_type": "code",
   "execution_count": 8,
   "id": "5b4e28c22235e123",
   "metadata": {
    "ExecuteTime": {
     "end_time": "2025-05-18T09:47:28.132955Z",
     "start_time": "2025-05-18T09:47:23.740955Z"
    }
   },
   "outputs": [],
   "source": [
    "# data = []\n",
    "\n",
    "# df[\"Exporting Location\"] = df[\"Exporting Country\"].map(country_map).fillna(\"GLO\")\n",
    "# df[\"Importing Location\"] = df[\"Importing Country\"].map(country_map).fillna(\"GLO\")\n",
    "\n",
    "\n",
    "# grouped = df.groupby([\"Resource Name\", \"Exporting Country\", \"Importing Country\"])\n",
    "\n",
    "# for (resource, export_country, importing_country), group in grouped:\n",
    "#     if not group[\"GeoPolRisk Characterization Factor Normalized to copper [-]\"].empty:\n",
    "#         if group[\"GeoPolRisk Characterization Factor Normalized to copper [-]\"].mean() != 0:\n",
    "#             data.append({\n",
    "#                 \"supplier\": {\n",
    "#                     \"name\": group[\"Dataset name\"].iloc[0],\n",
    "#                     \"reference product\": group[\"Dataset reference product\"].iloc[0],\n",
    "#                     \"location\": group[\"Exporting Location\"].iloc[0],\n",
    "#                     \"operator\": group[\"operator\"].iloc[0],\n",
    "#                     \"matrix\": \"technosphere\"\n",
    "#                 },\n",
    "#                 \"consumer\": {\n",
    "#                     \"location\": group[\"Importing Location\"].iloc[0],\n",
    "#                     \"matrix\": \"technosphere\"\n",
    "#                 },\n",
    "#                 \"value\": group[\"GeoPolRisk Characterization Factor Normalized to copper [-]\"].mean(),\n",
    "#             })\n"
   ]
  },
  {
   "cell_type": "code",
   "execution_count": 9,
   "id": "b7963cdcde140774",
   "metadata": {
    "ExecuteTime": {
     "end_time": "2025-05-18T09:47:28.616153Z",
     "start_time": "2025-05-18T09:47:28.612697Z"
    }
   },
   "outputs": [
    {
     "data": {
      "text/plain": [
       "43015"
      ]
     },
     "execution_count": 9,
     "metadata": {},
     "output_type": "execute_result"
    }
   ],
   "source": [
    "len(data)"
   ]
  },
  {
   "cell_type": "code",
   "execution_count": 10,
   "id": "8cc8786e-7a71-4dd1-afcd-331a901e8944",
   "metadata": {},
   "outputs": [
    {
     "data": {
      "text/plain": [
       "{'supplier': {'name': 'aluminium production, primary',\n",
       "  'reference product': 'aluminium, primary',\n",
       "  'location': 'AL',\n",
       "  'operator': 'startswith',\n",
       "  'matrix': 'technosphere',\n",
       "  'excludes': ['alloy', 'liquid', 'market']},\n",
       " 'consumer': {'location': 'BA', 'matrix': 'technosphere'},\n",
       " 'value': 0.0001192271411315043}"
      ]
     },
     "execution_count": 10,
     "metadata": {},
     "output_type": "execute_result"
    }
   ],
   "source": [
    "data[0]"
   ]
  },
  {
   "cell_type": "code",
   "execution_count": 11,
   "id": "2e7d894d-93c1-4856-8fe2-d1e41aea43b3",
   "metadata": {},
   "outputs": [
    {
     "data": {
      "text/plain": [
       "[{'supplier': {'name': 'aluminium production, primary',\n",
       "   'reference product': 'aluminium, primary',\n",
       "   'location': 'AU',\n",
       "   'operator': 'startswith',\n",
       "   'matrix': 'technosphere',\n",
       "   'excludes': ['alloy', 'liquid', 'market']},\n",
       "  'consumer': {'location': 'CA', 'matrix': 'technosphere'},\n",
       "  'value': 0.0002417527334203126}]"
      ]
     },
     "execution_count": 11,
     "metadata": {},
     "output_type": "execute_result"
    }
   ],
   "source": [
    "target_flow = [\n",
    "    d for d in data\n",
    "    if d[\"supplier\"][\"reference product\"] == \"aluminium, primary\"\n",
    "    and d[\"supplier\"][\"location\"] == \"AU\"\n",
    "    and d[\"consumer\"][\"location\"] == \"CA\"\n",
    "]\n",
    "target_flow"
   ]
  },
  {
   "cell_type": "code",
   "execution_count": 7,
   "id": "38336b5684220142",
   "metadata": {
    "ExecuteTime": {
     "end_time": "2025-05-18T09:47:28.629229Z",
     "start_time": "2025-05-18T09:47:28.626480Z"
    }
   },
   "outputs": [
    {
     "data": {
      "text/plain": [
       "{'supplier': {'name': 'aluminium production, primary',\n",
       "  'reference product': 'aluminium, primary',\n",
       "  'location': 'AU',\n",
       "  'operator': 'startswith',\n",
       "  'matrix': 'technosphere'},\n",
       " 'consumer': {'location': 'CA', 'matrix': 'technosphere'},\n",
       " 'value': 1.101763446251004e-10}"
      ]
     },
     "execution_count": 7,
     "metadata": {},
     "output_type": "execute_result"
    }
   ],
   "source": [
    "# data[0]"
   ]
  },
  {
   "cell_type": "code",
   "execution_count": 12,
   "id": "618875dd54487886",
   "metadata": {
    "ExecuteTime": {
     "end_time": "2025-05-18T09:48:14.280693Z",
     "start_time": "2025-05-18T09:48:13.825870Z"
    }
   },
   "outputs": [],
   "source": [
    "fp_out = \"GeoPolRisk_paired_2024.json\"\n",
    "with open(fp_out, \"w\") as f:\n",
    "    json.dump(\n",
    "            {\n",
    "                \"name\": f\"GeoPolRisk - country pairs\",\n",
    "                \"unit\": \"kg copper-eq.\",\n",
    "                \"version\": \"1.0\",\n",
    "                \"exchanges\": data,\n",
    "            },\n",
    "            f,\n",
    "            indent=2\n",
    "        )"
   ]
  }
 ],
 "metadata": {
  "kernelspec": {
   "display_name": "Python 3 (ipykernel)",
   "language": "python",
   "name": "python3"
  },
  "language_info": {
   "codemirror_mode": {
    "name": "ipython",
    "version": 3
   },
   "file_extension": ".py",
   "mimetype": "text/x-python",
   "name": "python",
   "nbconvert_exporter": "python",
   "pygments_lexer": "ipython3",
   "version": "3.10.17"
  }
 },
 "nbformat": 4,
 "nbformat_minor": 5
}

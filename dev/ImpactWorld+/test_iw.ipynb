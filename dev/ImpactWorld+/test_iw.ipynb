{
 "cells": [
  {
   "cell_type": "code",
   "id": "initial_id",
   "metadata": {
    "ExecuteTime": {
     "end_time": "2025-03-15T15:15:27.384245Z",
     "start_time": "2025-03-15T15:15:25.557878Z"
    }
   },
   "source": [
    "import bw2data, bw2calc, bw2io\n",
    "from edges import EdgeLCIA, get_available_methods\n",
    "from bw2analyzer.contribution import ContributionAnalysis"
   ],
   "outputs": [],
   "execution_count": 1
  },
  {
   "metadata": {
    "ExecuteTime": {
     "end_time": "2025-03-15T15:15:30.821823Z",
     "start_time": "2025-03-15T15:15:30.618098Z"
    }
   },
   "cell_type": "code",
   "source": [
    "#bw2data.projects.set_current(\"bw25_ei310\")\n",
    "bw2data.projects.set_current(\"ecoinvent-3.10-cutoff\")\n",
    "act = bw2data.Database(\"ecoinvent-3.10.1-cutoff\").random()\n",
    "#act = [a for a in bw2data.Database(\"ecoinvent-3.10-cutoff\") if \"NMC\" in #a[\"name\"]][0]\n",
    "act"
   ],
   "id": "60fb4583bf7ce4de",
   "outputs": [
    {
     "data": {
      "text/plain": [
       "'wood preservation, spray tunnel/deluging, water-based preservative, outdoor use, no ground contact' (kilogram, RER, None)"
      ]
     },
     "execution_count": 3,
     "metadata": {},
     "output_type": "execute_result"
    }
   ],
   "execution_count": 3
  },
  {
   "metadata": {
    "ExecuteTime": {
     "end_time": "2025-03-15T15:15:31.709393Z",
     "start_time": "2025-03-15T15:15:31.705558Z"
    }
   },
   "cell_type": "code",
   "source": "[m for m in get_available_methods() if \"ImpactWorld\" in str(m)]",
   "id": "6b06ec0f62381f0b",
   "outputs": [
    {
     "data": {
      "text/plain": [
       "[('ImpactWorld+ 2.1', 'Freshwater acidification', 'damage'),\n",
       " ('ImpactWorld+ 2.1', 'Freshwater acidification', 'midpoint'),\n",
       " ('ImpactWorld+ 2.1', 'Freshwater eutrophication', 'damage'),\n",
       " ('ImpactWorld+ 2.1', 'Freshwater eutrophication', 'midpoint'),\n",
       " ('ImpactWorld+ 2.1', 'Land occupation, biodiversity', 'damage'),\n",
       " ('ImpactWorld+ 2.1', 'Land occupation, biodiversity', 'midpoint'),\n",
       " ('ImpactWorld+ 2.1', 'Land transformation, biodiversity', 'damage'),\n",
       " ('ImpactWorld+ 2.1', 'Land transformation, biodiversity', 'midpoint'),\n",
       " ('ImpactWorld+ 2.1', 'Marine eutrophication', 'damage'),\n",
       " ('ImpactWorld+ 2.1', 'Marine eutrophication', 'midpoint'),\n",
       " ('ImpactWorld+ 2.1', 'Terrestrial acidification', 'damage'),\n",
       " ('ImpactWorld+ 2.1', 'Terrestrial acidification', 'midpoint'),\n",
       " ('ImpactWorld+ 2.1', 'Thermally polluted water', 'damage'),\n",
       " ('ImpactWorld+ 2.1', 'Thermally polluted water', 'midpoint'),\n",
       " ('ImpactWorld+ 2.1', 'Water availability, freshwater ecosystem', 'damage'),\n",
       " ('ImpactWorld+ 2.1', 'Water availability, freshwater ecosystem', 'midpoint'),\n",
       " ('ImpactWorld+ 2.1', 'Water availability, human health', 'damage'),\n",
       " ('ImpactWorld+ 2.1', 'Water availability, human health', 'midpoint'),\n",
       " ('ImpactWorld+ 2.1', 'Water availability, terrestrial ecosystem', 'damage'),\n",
       " ('ImpactWorld+ 2.1', 'Water availability, terrestrial ecosystem', 'midpoint'),\n",
       " ('ImpactWorld+ 2.1', 'Water scarcity', 'damage'),\n",
       " ('ImpactWorld+ 2.1', 'Water scarcity', 'midpoint')]"
      ]
     },
     "execution_count": 4,
     "metadata": {},
     "output_type": "execute_result"
    }
   ],
   "execution_count": 4
  },
  {
   "cell_type": "code",
   "id": "34fbc8a561ae57cb",
   "metadata": {
    "ExecuteTime": {
     "end_time": "2025-03-15T15:15:36.937396Z",
     "start_time": "2025-03-15T15:15:32.445393Z"
    }
   },
   "source": [
    "import matplotlib.pyplot as plt\n",
    "#method = ('GeoPolRisk', '2024')\n",
    "# method = ('ImpactWorld+ 2.1', 'Land transformation, biodiversity', 'midpoint')\n",
    "methods = [m for m in get_available_methods() if \"ImpactWorld+\" in str(m) and \"midpoint\" in str(m)]\n",
    "methods = [('ImpactWorld+ 2.1', 'Land transformation, biodiversity', 'midpoint'),]\n",
    "for method in methods:\n",
    "    LCA = EdgeLCIA({act: 1}, method)\n",
    "    LCA.lci()\n",
    "    LCA.lcia()\n",
    "    df = LCA.generate_cf_table()\n",
    "\n",
    "    if \"water\" in str(method):\n",
    "        cutoff = 0.05\n",
    "        continue\n",
    "    else:\n",
    "        cutoff = 0.01\n",
    "\n",
    "    # remove rows for which \"amount\" is below the cutoff\n",
    "    total = df[\"impact\"].sum()\n",
    "    df = df[df[\"impact\"] > cutoff * total]\n",
    "\n",
    "    # Plotting\n",
    "    fig, axes = plt.subplots(3, 2, figsize=(10, 15))\n",
    "\n",
    "    # 1. Bar plot of \"amount\" by \"supplier name\"\n",
    "    df.groupby(\"supplier name\")[\"impact\"].sum().plot(kind=\"bar\", ax=axes[0, 0])\n",
    "    axes[0, 0].set_title(\"Impact by Supplier Name\")\n",
    "    axes[0, 0].set_ylabel(\"Impact\")\n",
    "    axes[0, 0].tick_params(axis=\"x\", rotation=45)\n",
    "\n",
    "    # 2. Bar plot of \"amount\" by \"consumer name\"\n",
    "    df.groupby(\"consumer name\")[\"impact\"].sum().plot(kind=\"bar\", ax=axes[0, 1])\n",
    "    axes[0, 1].set_title(\"Impact by Consumer Name\")\n",
    "    axes[0, 1].set_ylabel(\"Impact\")\n",
    "    axes[0, 1].set_xticklabels(\n",
    "        [label.get_text().replace(\", \", \"\\n\") for label in axes[0, 1].get_xticklabels()],\n",
    "        rotation=45,\n",
    "        ha=\"right\",\n",
    "    )\n",
    "\n",
    "    # 3. Bar plot of \"amount\" by \"consumer location\"\n",
    "    df.groupby(\"consumer location\")[\"impact\"].sum().plot(kind=\"bar\", ax=axes[1, 0])\n",
    "    axes[1, 0].set_title(\"Impact by Consumer Location\")\n",
    "    axes[1, 0].set_ylabel(\"Impact\")\n",
    "    axes[1, 0].tick_params(axis=\"x\", rotation=45)\n",
    "\n",
    "    # 4. Stacked bar plot for \"amount\" by \"consumer name\" and \"consumer location\"\n",
    "    df_grouped = df.groupby([\"consumer name\", \"consumer location\"])[\"impact\"].sum().unstack()\n",
    "    df_grouped.plot(kind=\"bar\", stacked=True, ax=axes[1, 1])\n",
    "    axes[1, 1].set_title(\"Impact by Consumer Name & Location (Stacked)\")\n",
    "    axes[1, 1].set_ylabel(\"Impact\")\n",
    "    axes[1, 1].set_xticklabels(\n",
    "        [label.get_text().replace(\", \", \"\\n\") for label in axes[1, 1].get_xticklabels()],\n",
    "        rotation=45,\n",
    "        ha=\"right\",\n",
    "    )\n",
    "    axes[1, 1].legend(title=\"Consumer Location\", loc=\"center left\", ncol=2)\n",
    "\n",
    "    # 5. Bar plot of average \"CF\" by \"consumer location\"\n",
    "    df.groupby([\"supplier name\", \"consumer location\"])[\"CF\"].mean().plot(kind=\"bar\", ax=axes[2, 0])\n",
    "    axes[2, 0].set_title(\"Average CF by Consumer Location\")\n",
    "    axes[2, 0].set_ylabel(\"CF\")\n",
    "    axes[2, 0].tick_params(axis=\"x\", rotation=45)\n",
    "\n",
    "    # remove last subplot\n",
    "    fig.delaxes(axes[2, 1])\n",
    "\n",
    "    plt.tight_layout()\n",
    "    plt.show()\n",
    "\n",
    "    \n",
    "\n",
    "  #LCA.score"
   ],
   "outputs": [
    {
     "name": "stderr",
     "output_type": "stream",
     "text": [
      "/opt/homebrew/Caskroom/miniforge/base/envs/bw2/lib/python3.11/site-packages/scikits/umfpack/umfpack.py:736: UmfpackWarning: (almost) singular matrix! (estimated cond. number: 4.83e+13)\n",
      "  warnings.warn(msg, UmfpackWarning)\n"
     ]
    },
    {
     "name": "stdout",
     "output_type": "stream",
     "text": [
      "Identifying eligible exchanges...\n"
     ]
    },
    {
     "name": "stderr",
     "output_type": "stream",
     "text": [
      "100%|██████████| 3676/3676 [00:00<00:00, 46158.87it/s]"
     ]
    },
    {
     "name": "stdout",
     "output_type": "stream",
     "text": [
      "Handling static regions..."
     ]
    },
    {
     "name": "stderr",
     "output_type": "stream",
     "text": [
      "\n"
     ]
    },
    {
     "name": "stdout",
     "output_type": "stream",
     "text": [
      "\n"
     ]
    },
    {
     "name": "stderr",
     "output_type": "stream",
     "text": [
      "100%|██████████| 1255/1255 [00:00<00:00, 28426.52it/s]\n"
     ]
    },
    {
     "name": "stdout",
     "output_type": "stream",
     "text": [
      "Handling dynamic regions...\n"
     ]
    },
    {
     "name": "stderr",
     "output_type": "stream",
     "text": [
      "100%|██████████| 1255/1255 [00:00<00:00, 1692.93it/s]\n"
     ]
    },
    {
     "name": "stdout",
     "output_type": "stream",
     "text": [
      "Handling unmatched locations...\n"
     ]
    },
    {
     "name": "stderr",
     "output_type": "stream",
     "text": [
      "100%|██████████| 311/311 [00:00<00:00, 14157.49it/s]\n"
     ]
    },
    {
     "name": "stdout",
     "output_type": "stream",
     "text": [
      "Handling remaining exchanges...\n"
     ]
    },
    {
     "name": "stderr",
     "output_type": "stream",
     "text": [
      "100%|██████████| 311/311 [00:00<00:00, 963.33it/s]\n"
     ]
    },
    {
     "name": "stdout",
     "output_type": "stream",
     "text": [
      "+---------------------------+--------------------------------------------+\n",
      "|          Activity         | wood preservation, spray tunnel/deluging,  |\n",
      "|                           | water-based preservative, outdoor use, no  |\n",
      "|                           |               ground contact               |\n",
      "|        Method name        | ('ImpactWorld+ 2.1', 'Land transformation, |\n",
      "|                           |         biodiversity', 'midpoint')         |\n",
      "|         Data file         |   ImpactWorld+ 2.1_Land transformation,    |\n",
      "|                           |           biodiversity_midpoint            |\n",
      "|    Unique CFs in method   |                    2258                    |\n",
      "|      Unique CFs used      |                    431                     |\n",
      "| CFs without eligible exc. |                    3148                    |\n",
      "|     Exc. characterized    |                    2417                    |\n",
      "|    Exc. uncharacterized   |                     0                      |\n",
      "+---------------------------+--------------------------------------------+\n",
      "Matrix type: biosphere\n"
     ]
    },
    {
     "data": {
      "text/plain": [
       "<Figure size 1000x1500 with 5 Axes>"
      ],
      "image/png": "[encoded data removed]"
     },
     "metadata": {},
     "output_type": "display_data"
    }
   ],
   "execution_count": 5
  },
  {
   "cell_type": "code",
   "execution_count": 9,
   "id": "9c27d5f8-fbf1-469f-8daa-7ce8f5eb4480",
   "metadata": {},
   "outputs": [
    {
     "data": {
      "text/plain": [
       "0.07824615248185379"
      ]
     },
     "execution_count": 9,
     "metadata": {},
     "output_type": "execute_result"
    }
   ],
   "source": [
    "df[\"impact\"].sum()"
   ]
  },
  {
   "cell_type": "code",
   "execution_count": 7,
   "id": "2c2841e9-ba9f-4536-82a0-5972d84ba459",
   "metadata": {},
   "outputs": [
    {
     "data": {
      "text/html": [
       "<div>\n",
       "<style scoped>\n",
       "    .dataframe tbody tr th:only-of-type {\n",
       "        vertical-align: middle;\n",
       "    }\n",
       "\n",
       "    .dataframe tbody tr th {\n",
       "        vertical-align: top;\n",
       "    }\n",
       "\n",
       "    .dataframe thead th {\n",
       "        text-align: right;\n",
       "    }\n",
       "</style>\n",
       "<table border=\"1\" class=\"dataframe\">\n",
       "  <thead>\n",
       "    <tr style=\"text-align: right;\">\n",
       "      <th></th>\n",
       "      <th>supplier name</th>\n",
       "      <th>supplier categories</th>\n",
       "      <th>consumer name</th>\n",
       "      <th>consumer reference product</th>\n",
       "      <th>consumer location</th>\n",
       "      <th>amount</th>\n",
       "      <th>CF</th>\n",
       "      <th>impact</th>\n",
       "    </tr>\n",
       "  </thead>\n",
       "  <tbody>\n",
       "    <tr>\n",
       "      <th>1409</th>\n",
       "      <td>Transformation, to annual crop</td>\n",
       "      <td>(natural resource, land)</td>\n",
       "      <td>soybean production</td>\n",
       "      <td>soybean</td>\n",
       "      <td>BR-MT</td>\n",
       "      <td>0.000133</td>\n",
       "      <td>150.878435</td>\n",
       "      <td>0.020124</td>\n",
       "    </tr>\n",
       "    <tr>\n",
       "      <th>1427</th>\n",
       "      <td>Transformation, to annual crop</td>\n",
       "      <td>(natural resource, land)</td>\n",
       "      <td>soybean production</td>\n",
       "      <td>soybean</td>\n",
       "      <td>BR-RS</td>\n",
       "      <td>0.000048</td>\n",
       "      <td>150.878435</td>\n",
       "      <td>0.007286</td>\n",
       "    </tr>\n",
       "    <tr>\n",
       "      <th>1436</th>\n",
       "      <td>Transformation, to annual crop</td>\n",
       "      <td>(natural resource, land)</td>\n",
       "      <td>soybean production</td>\n",
       "      <td>soybean</td>\n",
       "      <td>BR-GO</td>\n",
       "      <td>0.000048</td>\n",
       "      <td>150.878435</td>\n",
       "      <td>0.007317</td>\n",
       "    </tr>\n",
       "    <tr>\n",
       "      <th>1437</th>\n",
       "      <td>Transformation, to annual crop</td>\n",
       "      <td>(natural resource, land)</td>\n",
       "      <td>soybean production</td>\n",
       "      <td>soybean</td>\n",
       "      <td>BR-SP</td>\n",
       "      <td>0.000015</td>\n",
       "      <td>150.878435</td>\n",
       "      <td>0.002307</td>\n",
       "    </tr>\n",
       "    <tr>\n",
       "      <th>1443</th>\n",
       "      <td>Transformation, to annual crop</td>\n",
       "      <td>(natural resource, land)</td>\n",
       "      <td>soybean production</td>\n",
       "      <td>soybean</td>\n",
       "      <td>BR-PI</td>\n",
       "      <td>0.000011</td>\n",
       "      <td>150.878435</td>\n",
       "      <td>0.001602</td>\n",
       "    </tr>\n",
       "    <tr>\n",
       "      <th>1447</th>\n",
       "      <td>Transformation, to annual crop</td>\n",
       "      <td>(natural resource, land)</td>\n",
       "      <td>soybean production</td>\n",
       "      <td>soybean</td>\n",
       "      <td>BR-MS</td>\n",
       "      <td>0.000041</td>\n",
       "      <td>150.878435</td>\n",
       "      <td>0.006151</td>\n",
       "    </tr>\n",
       "    <tr>\n",
       "      <th>1454</th>\n",
       "      <td>Transformation, to annual crop</td>\n",
       "      <td>(natural resource, land)</td>\n",
       "      <td>soybean production</td>\n",
       "      <td>soybean</td>\n",
       "      <td>BR-TO</td>\n",
       "      <td>0.000013</td>\n",
       "      <td>150.878435</td>\n",
       "      <td>0.001909</td>\n",
       "    </tr>\n",
       "    <tr>\n",
       "      <th>1470</th>\n",
       "      <td>Transformation, to annual crop</td>\n",
       "      <td>(natural resource, land)</td>\n",
       "      <td>soybean production</td>\n",
       "      <td>soybean</td>\n",
       "      <td>BR-BA</td>\n",
       "      <td>0.000024</td>\n",
       "      <td>150.878435</td>\n",
       "      <td>0.003546</td>\n",
       "    </tr>\n",
       "  </tbody>\n",
       "</table>\n",
       "</div>"
      ],
      "text/plain": [
       "                       supplier name       supplier categories  \\\n",
       "1409  Transformation, to annual crop  (natural resource, land)   \n",
       "1427  Transformation, to annual crop  (natural resource, land)   \n",
       "1436  Transformation, to annual crop  (natural resource, land)   \n",
       "1437  Transformation, to annual crop  (natural resource, land)   \n",
       "1443  Transformation, to annual crop  (natural resource, land)   \n",
       "1447  Transformation, to annual crop  (natural resource, land)   \n",
       "1454  Transformation, to annual crop  (natural resource, land)   \n",
       "1470  Transformation, to annual crop  (natural resource, land)   \n",
       "\n",
       "           consumer name consumer reference product consumer location  \\\n",
       "1409  soybean production                    soybean             BR-MT   \n",
       "1427  soybean production                    soybean             BR-RS   \n",
       "1436  soybean production                    soybean             BR-GO   \n",
       "1437  soybean production                    soybean             BR-SP   \n",
       "1443  soybean production                    soybean             BR-PI   \n",
       "1447  soybean production                    soybean             BR-MS   \n",
       "1454  soybean production                    soybean             BR-TO   \n",
       "1470  soybean production                    soybean             BR-BA   \n",
       "\n",
       "        amount          CF    impact  \n",
       "1409  0.000133  150.878435  0.020124  \n",
       "1427  0.000048  150.878435  0.007286  \n",
       "1436  0.000048  150.878435  0.007317  \n",
       "1437  0.000015  150.878435  0.002307  \n",
       "1443  0.000011  150.878435  0.001602  \n",
       "1447  0.000041  150.878435  0.006151  \n",
       "1454  0.000013  150.878435  0.001909  \n",
       "1470  0.000024  150.878435  0.003546  "
      ]
     },
     "execution_count": 7,
     "metadata": {},
     "output_type": "execute_result"
    }
   ],
   "source": [
    "df.loc[df[\"consumer name\"] == \"soybean production\"]"
   ]
  },
  {
   "cell_type": "code",
   "execution_count": 10,
   "id": "dc28b7a7-ed66-4e0b-ae43-116ea78b61c4",
   "metadata": {},
   "outputs": [
    {
     "data": {
      "text/html": [
       "<div>\n",
       "<style scoped>\n",
       "    .dataframe tbody tr th:only-of-type {\n",
       "        vertical-align: middle;\n",
       "    }\n",
       "\n",
       "    .dataframe tbody tr th {\n",
       "        vertical-align: top;\n",
       "    }\n",
       "\n",
       "    .dataframe thead th {\n",
       "        text-align: right;\n",
       "    }\n",
       "</style>\n",
       "<table border=\"1\" class=\"dataframe\">\n",
       "  <thead>\n",
       "    <tr style=\"text-align: right;\">\n",
       "      <th></th>\n",
       "      <th>supplier name</th>\n",
       "      <th>supplier categories</th>\n",
       "      <th>consumer name</th>\n",
       "      <th>consumer reference product</th>\n",
       "      <th>consumer location</th>\n",
       "      <th>amount</th>\n",
       "      <th>CF</th>\n",
       "      <th>impact</th>\n",
       "    </tr>\n",
       "  </thead>\n",
       "  <tbody>\n",
       "    <tr>\n",
       "      <th>1790</th>\n",
       "      <td>Transformation, to mineral extraction site</td>\n",
       "      <td>(natural resource, land)</td>\n",
       "      <td>onshore petroleum field infrastructure constru...</td>\n",
       "      <td>onshore petroleum field infrastructure</td>\n",
       "      <td>GLO</td>\n",
       "      <td>0.000138</td>\n",
       "      <td>108.941609</td>\n",
       "      <td>0.015058</td>\n",
       "    </tr>\n",
       "    <tr>\n",
       "      <th>1409</th>\n",
       "      <td>Transformation, to annual crop</td>\n",
       "      <td>(natural resource, land)</td>\n",
       "      <td>soybean production</td>\n",
       "      <td>soybean</td>\n",
       "      <td>BR-MT</td>\n",
       "      <td>0.000133</td>\n",
       "      <td>150.878435</td>\n",
       "      <td>0.020124</td>\n",
       "    </tr>\n",
       "    <tr>\n",
       "      <th>1436</th>\n",
       "      <td>Transformation, to annual crop</td>\n",
       "      <td>(natural resource, land)</td>\n",
       "      <td>soybean production</td>\n",
       "      <td>soybean</td>\n",
       "      <td>BR-GO</td>\n",
       "      <td>0.000048</td>\n",
       "      <td>150.878435</td>\n",
       "      <td>0.007317</td>\n",
       "    </tr>\n",
       "    <tr>\n",
       "      <th>1427</th>\n",
       "      <td>Transformation, to annual crop</td>\n",
       "      <td>(natural resource, land)</td>\n",
       "      <td>soybean production</td>\n",
       "      <td>soybean</td>\n",
       "      <td>BR-RS</td>\n",
       "      <td>0.000048</td>\n",
       "      <td>150.878435</td>\n",
       "      <td>0.007286</td>\n",
       "    </tr>\n",
       "    <tr>\n",
       "      <th>1447</th>\n",
       "      <td>Transformation, to annual crop</td>\n",
       "      <td>(natural resource, land)</td>\n",
       "      <td>soybean production</td>\n",
       "      <td>soybean</td>\n",
       "      <td>BR-MS</td>\n",
       "      <td>0.000041</td>\n",
       "      <td>150.878435</td>\n",
       "      <td>0.006151</td>\n",
       "    </tr>\n",
       "    <tr>\n",
       "      <th>1419</th>\n",
       "      <td>Transformation, to annual crop</td>\n",
       "      <td>(natural resource, land)</td>\n",
       "      <td>pipeline construction, natural gas, high press...</td>\n",
       "      <td>pipeline, natural gas, high pressure distribut...</td>\n",
       "      <td>RoW</td>\n",
       "      <td>0.000031</td>\n",
       "      <td>150.708486</td>\n",
       "      <td>0.004637</td>\n",
       "    </tr>\n",
       "    <tr>\n",
       "      <th>1470</th>\n",
       "      <td>Transformation, to annual crop</td>\n",
       "      <td>(natural resource, land)</td>\n",
       "      <td>soybean production</td>\n",
       "      <td>soybean</td>\n",
       "      <td>BR-BA</td>\n",
       "      <td>0.000024</td>\n",
       "      <td>150.878435</td>\n",
       "      <td>0.003546</td>\n",
       "    </tr>\n",
       "    <tr>\n",
       "      <th>1793</th>\n",
       "      <td>Transformation, to mineral extraction site</td>\n",
       "      <td>(natural resource, land)</td>\n",
       "      <td>onshore well production, oil/gas</td>\n",
       "      <td>onshore well, oil/gas</td>\n",
       "      <td>GLO</td>\n",
       "      <td>0.000023</td>\n",
       "      <td>108.941609</td>\n",
       "      <td>0.002548</td>\n",
       "    </tr>\n",
       "    <tr>\n",
       "      <th>1437</th>\n",
       "      <td>Transformation, to annual crop</td>\n",
       "      <td>(natural resource, land)</td>\n",
       "      <td>soybean production</td>\n",
       "      <td>soybean</td>\n",
       "      <td>BR-SP</td>\n",
       "      <td>0.000015</td>\n",
       "      <td>150.878435</td>\n",
       "      <td>0.002307</td>\n",
       "    </tr>\n",
       "    <tr>\n",
       "      <th>1731</th>\n",
       "      <td>Transformation, to heterogeneous, agricultural</td>\n",
       "      <td>(natural resource, land)</td>\n",
       "      <td>pipeline construction, petroleum</td>\n",
       "      <td>pipeline, petroleum</td>\n",
       "      <td>RER</td>\n",
       "      <td>0.000013</td>\n",
       "      <td>62.932928</td>\n",
       "      <td>0.000828</td>\n",
       "    </tr>\n",
       "    <tr>\n",
       "      <th>1454</th>\n",
       "      <td>Transformation, to annual crop</td>\n",
       "      <td>(natural resource, land)</td>\n",
       "      <td>soybean production</td>\n",
       "      <td>soybean</td>\n",
       "      <td>BR-TO</td>\n",
       "      <td>0.000013</td>\n",
       "      <td>150.878435</td>\n",
       "      <td>0.001909</td>\n",
       "    </tr>\n",
       "    <tr>\n",
       "      <th>1443</th>\n",
       "      <td>Transformation, to annual crop</td>\n",
       "      <td>(natural resource, land)</td>\n",
       "      <td>soybean production</td>\n",
       "      <td>soybean</td>\n",
       "      <td>BR-PI</td>\n",
       "      <td>0.000011</td>\n",
       "      <td>150.878435</td>\n",
       "      <td>0.001602</td>\n",
       "    </tr>\n",
       "    <tr>\n",
       "      <th>1446</th>\n",
       "      <td>Transformation, to annual crop</td>\n",
       "      <td>(natural resource, land)</td>\n",
       "      <td>pipeline construction, natural gas, high press...</td>\n",
       "      <td>pipeline, natural gas, high pressure distribut...</td>\n",
       "      <td>Europe without Switzerland</td>\n",
       "      <td>0.000010</td>\n",
       "      <td>314.374577</td>\n",
       "      <td>0.003210</td>\n",
       "    </tr>\n",
       "    <tr>\n",
       "      <th>1778</th>\n",
       "      <td>Transformation, to mineral extraction site</td>\n",
       "      <td>(natural resource, land)</td>\n",
       "      <td>hard coal mine operation and hard coal prepara...</td>\n",
       "      <td>hard coal</td>\n",
       "      <td>CN</td>\n",
       "      <td>0.000006</td>\n",
       "      <td>166.600686</td>\n",
       "      <td>0.000957</td>\n",
       "    </tr>\n",
       "    <tr>\n",
       "      <th>1872</th>\n",
       "      <td>Transformation, to mineral extraction site</td>\n",
       "      <td>(natural resource, land)</td>\n",
       "      <td>lignite mine operation</td>\n",
       "      <td>lignite</td>\n",
       "      <td>IN</td>\n",
       "      <td>0.000004</td>\n",
       "      <td>170.950818</td>\n",
       "      <td>0.000766</td>\n",
       "    </tr>\n",
       "  </tbody>\n",
       "</table>\n",
       "</div>"
      ],
      "text/plain": [
       "                                       supplier name  \\\n",
       "1790      Transformation, to mineral extraction site   \n",
       "1409                  Transformation, to annual crop   \n",
       "1436                  Transformation, to annual crop   \n",
       "1427                  Transformation, to annual crop   \n",
       "1447                  Transformation, to annual crop   \n",
       "1419                  Transformation, to annual crop   \n",
       "1470                  Transformation, to annual crop   \n",
       "1793      Transformation, to mineral extraction site   \n",
       "1437                  Transformation, to annual crop   \n",
       "1731  Transformation, to heterogeneous, agricultural   \n",
       "1454                  Transformation, to annual crop   \n",
       "1443                  Transformation, to annual crop   \n",
       "1446                  Transformation, to annual crop   \n",
       "1778      Transformation, to mineral extraction site   \n",
       "1872      Transformation, to mineral extraction site   \n",
       "\n",
       "           supplier categories  \\\n",
       "1790  (natural resource, land)   \n",
       "1409  (natural resource, land)   \n",
       "1436  (natural resource, land)   \n",
       "1427  (natural resource, land)   \n",
       "1447  (natural resource, land)   \n",
       "1419  (natural resource, land)   \n",
       "1470  (natural resource, land)   \n",
       "1793  (natural resource, land)   \n",
       "1437  (natural resource, land)   \n",
       "1731  (natural resource, land)   \n",
       "1454  (natural resource, land)   \n",
       "1443  (natural resource, land)   \n",
       "1446  (natural resource, land)   \n",
       "1778  (natural resource, land)   \n",
       "1872  (natural resource, land)   \n",
       "\n",
       "                                          consumer name  \\\n",
       "1790  onshore petroleum field infrastructure constru...   \n",
       "1409                                 soybean production   \n",
       "1436                                 soybean production   \n",
       "1427                                 soybean production   \n",
       "1447                                 soybean production   \n",
       "1419  pipeline construction, natural gas, high press...   \n",
       "1470                                 soybean production   \n",
       "1793                   onshore well production, oil/gas   \n",
       "1437                                 soybean production   \n",
       "1731                   pipeline construction, petroleum   \n",
       "1454                                 soybean production   \n",
       "1443                                 soybean production   \n",
       "1446  pipeline construction, natural gas, high press...   \n",
       "1778  hard coal mine operation and hard coal prepara...   \n",
       "1872                             lignite mine operation   \n",
       "\n",
       "                             consumer reference product  \\\n",
       "1790             onshore petroleum field infrastructure   \n",
       "1409                                            soybean   \n",
       "1436                                            soybean   \n",
       "1427                                            soybean   \n",
       "1447                                            soybean   \n",
       "1419  pipeline, natural gas, high pressure distribut...   \n",
       "1470                                            soybean   \n",
       "1793                              onshore well, oil/gas   \n",
       "1437                                            soybean   \n",
       "1731                                pipeline, petroleum   \n",
       "1454                                            soybean   \n",
       "1443                                            soybean   \n",
       "1446  pipeline, natural gas, high pressure distribut...   \n",
       "1778                                          hard coal   \n",
       "1872                                            lignite   \n",
       "\n",
       "               consumer location    amount          CF    impact  \n",
       "1790                         GLO  0.000138  108.941609  0.015058  \n",
       "1409                       BR-MT  0.000133  150.878435  0.020124  \n",
       "1436                       BR-GO  0.000048  150.878435  0.007317  \n",
       "1427                       BR-RS  0.000048  150.878435  0.007286  \n",
       "1447                       BR-MS  0.000041  150.878435  0.006151  \n",
       "1419                         RoW  0.000031  150.708486  0.004637  \n",
       "1470                       BR-BA  0.000024  150.878435  0.003546  \n",
       "1793                         GLO  0.000023  108.941609  0.002548  \n",
       "1437                       BR-SP  0.000015  150.878435  0.002307  \n",
       "1731                         RER  0.000013   62.932928  0.000828  \n",
       "1454                       BR-TO  0.000013  150.878435  0.001909  \n",
       "1443                       BR-PI  0.000011  150.878435  0.001602  \n",
       "1446  Europe without Switzerland  0.000010  314.374577  0.003210  \n",
       "1778                          CN  0.000006  166.600686  0.000957  \n",
       "1872                          IN  0.000004  170.950818  0.000766  "
      ]
     },
     "execution_count": 10,
     "metadata": {},
     "output_type": "execute_result"
    }
   ],
   "source": [
    "df.sort_values(\"amount\", ascending=False)"
   ]
  },
  {
   "cell_type": "code",
   "execution_count": 8,
   "id": "cf52fe08-b6a8-4c48-9ef0-4a68164c6e12",
   "metadata": {},
   "outputs": [
    {
     "data": {
      "text/plain": [
       "array([150.87843498, 150.70848584, 314.37457713,  62.9329279 ,\n",
       "       166.60068556, 108.9416093 , 170.95081809])"
      ]
     },
     "execution_count": 8,
     "metadata": {},
     "output_type": "execute_result"
    }
   ],
   "source": [
    "df[\"CF\"].unique()"
   ]
  },
  {
   "cell_type": "code",
   "execution_count": 16,
   "id": "b0d04e502fddab85",
   "metadata": {
    "ExecuteTime": {
     "end_time": "2025-03-14T12:57:31.989343Z",
     "start_time": "2025-03-14T12:57:31.985563Z"
    }
   },
   "outputs": [
    {
     "data": {
      "text/plain": [
       "supplier name   consumer location         \n",
       "Sulfur dioxide  Europe without Switzerland     4.368280\n",
       "                GLO                            2.481095\n",
       "                RU                            24.675845\n",
       "Name: CF, dtype: float64"
      ]
     },
     "execution_count": 16,
     "metadata": {},
     "output_type": "execute_result"
    }
   ],
   "source": [
    "df.groupby([\"supplier name\", \"consumer location\"])[\"CF\"].mean()"
   ]
  },
  {
   "cell_type": "code",
   "execution_count": 21,
   "id": "bc3b8566460bf0f",
   "metadata": {
    "ExecuteTime": {
     "end_time": "2025-03-14T12:21:26.350483Z",
     "start_time": "2025-03-14T12:21:26.348120Z"
    }
   },
   "outputs": [
    {
     "data": {
      "text/plain": [
       "124526838126026753"
      ]
     },
     "execution_count": 21,
     "metadata": {},
     "output_type": "execute_result"
    }
   ],
   "source": [
    "list(LCA.demand.keys())[0]"
   ]
  },
  {
   "cell_type": "code",
   "execution_count": 1,
   "id": "10e5992c6e7da7a5",
   "metadata": {
    "ExecuteTime": {
     "end_time": "2025-03-13T18:44:05.856654Z",
     "start_time": "2025-03-13T18:44:05.790055Z"
    }
   },
   "outputs": [
    {
     "data": {
      "text/plain": [
       "['PG', ('ecoinvent', 'UN-MELANESIA'), ('ecoinvent', 'UN-OCEANIA'), 'GLO']"
      ]
     },
     "execution_count": 1,
     "metadata": {},
     "output_type": "execute_result"
    }
   ],
   "source": [
    "from constructive_geometries import geomatcher\n",
    "geo = geomatcher.Geomatcher()\n",
    "\n",
    "geo.within(\"PG\", biggest_first=False)"
   ]
  },
  {
   "cell_type": "code",
   "execution_count": 2,
   "id": "dfb2406d-779e-4dc0-aa90-495c900003b8",
   "metadata": {},
   "outputs": [
    {
     "data": {
      "text/plain": [
       "['PG']"
      ]
     },
     "execution_count": 2,
     "metadata": {},
     "output_type": "execute_result"
    }
   ],
   "source": [
    "geo.contained(\"PG\", biggest_first=False)"
   ]
  },
  {
   "cell_type": "code",
   "execution_count": 6,
   "id": "791d371ddd317c5f",
   "metadata": {
    "ExecuteTime": {
     "end_time": "2025-03-13T11:32:15.968542Z",
     "start_time": "2025-03-13T11:32:15.903143Z"
    }
   },
   "outputs": [
    {
     "data": {
      "text/plain": [
       "{'Water',\n",
       " 'Water, cooling, unspecified natural origin',\n",
       " 'Water, in air',\n",
       " 'Water, lake',\n",
       " 'Water, river',\n",
       " 'Water, turbine use, unspecified natural origin',\n",
       " 'Water, unspecified natural origin',\n",
       " 'Water, well, in ground'}"
      ]
     },
     "execution_count": 6,
     "metadata": {},
     "output_type": "execute_result"
    }
   ],
   "source": [
    "set([x[\"supplier\"][\"name\"] for x in LCA.ignored_method_exchanges])"
   ]
  },
  {
   "cell_type": "code",
   "execution_count": 7,
   "id": "a6184f20f6cb9f89",
   "metadata": {
    "ExecuteTime": {
     "end_time": "2025-03-13T11:24:29.740003Z",
     "start_time": "2025-03-13T11:24:27.371772Z"
    }
   },
   "outputs": [
    {
     "name": "stdout",
     "output_type": "stream",
     "text": [
      "Matrix type: biosphere\n"
     ]
    },
    {
     "data": {
      "text/html": [
       "<div>\n",
       "<style scoped>\n",
       "    .dataframe tbody tr th:only-of-type {\n",
       "        vertical-align: middle;\n",
       "    }\n",
       "\n",
       "    .dataframe tbody tr th {\n",
       "        vertical-align: top;\n",
       "    }\n",
       "\n",
       "    .dataframe thead th {\n",
       "        text-align: right;\n",
       "    }\n",
       "</style>\n",
       "<table border=\"1\" class=\"dataframe\">\n",
       "  <thead>\n",
       "    <tr style=\"text-align: right;\">\n",
       "      <th></th>\n",
       "      <th>supplier name</th>\n",
       "      <th>supplier categories</th>\n",
       "      <th>consumer name</th>\n",
       "      <th>consumer reference product</th>\n",
       "      <th>consumer location</th>\n",
       "      <th>amount</th>\n",
       "      <th>CF</th>\n",
       "      <th>impact</th>\n",
       "    </tr>\n",
       "  </thead>\n",
       "  <tbody>\n",
       "    <tr>\n",
       "      <th>0</th>\n",
       "      <td>Water, cooling, unspecified natural origin</td>\n",
       "      <td>(natural resource, in water)</td>\n",
       "      <td>particleboard production, uncoated, from virgi...</td>\n",
       "      <td>particleboard, uncoated</td>\n",
       "      <td>RoW</td>\n",
       "      <td>6.544631e-11</td>\n",
       "      <td>20.179399</td>\n",
       "      <td>1.320667e-09</td>\n",
       "    </tr>\n",
       "    <tr>\n",
       "      <th>1</th>\n",
       "      <td>Water, cooling, unspecified natural origin</td>\n",
       "      <td>(natural resource, in water)</td>\n",
       "      <td>heat and power co-generation, lignite</td>\n",
       "      <td>electricity, high voltage</td>\n",
       "      <td>SI</td>\n",
       "      <td>1.453419e-07</td>\n",
       "      <td>1.087201</td>\n",
       "      <td>1.580158e-07</td>\n",
       "    </tr>\n",
       "    <tr>\n",
       "      <th>2</th>\n",
       "      <td>Water, cooling, unspecified natural origin</td>\n",
       "      <td>(natural resource, in water)</td>\n",
       "      <td>atrazine production</td>\n",
       "      <td>atrazine</td>\n",
       "      <td>RoW</td>\n",
       "      <td>4.228744e-12</td>\n",
       "      <td>19.819034</td>\n",
       "      <td>8.380961e-11</td>\n",
       "    </tr>\n",
       "    <tr>\n",
       "      <th>3</th>\n",
       "      <td>Water, cooling, unspecified natural origin</td>\n",
       "      <td>(natural resource, in water)</td>\n",
       "      <td>sheet rolling, copper</td>\n",
       "      <td>sheet rolling, copper</td>\n",
       "      <td>RoW</td>\n",
       "      <td>1.290820e-10</td>\n",
       "      <td>19.819034</td>\n",
       "      <td>2.558280e-09</td>\n",
       "    </tr>\n",
       "    <tr>\n",
       "      <th>4</th>\n",
       "      <td>Water, cooling, unspecified natural origin</td>\n",
       "      <td>(natural resource, in water)</td>\n",
       "      <td>phosphoric acid production, dihydrate process</td>\n",
       "      <td>phosphoric acid, fertiliser grade, without wat...</td>\n",
       "      <td>MA</td>\n",
       "      <td>5.123237e-08</td>\n",
       "      <td>54.031045</td>\n",
       "      <td>2.768139e-06</td>\n",
       "    </tr>\n",
       "    <tr>\n",
       "      <th>...</th>\n",
       "      <td>...</td>\n",
       "      <td>...</td>\n",
       "      <td>...</td>\n",
       "      <td>...</td>\n",
       "      <td>...</td>\n",
       "      <td>...</td>\n",
       "      <td>...</td>\n",
       "      <td>...</td>\n",
       "    </tr>\n",
       "    <tr>\n",
       "      <th>4923</th>\n",
       "      <td>Water, in air</td>\n",
       "      <td>(natural resource, in air)</td>\n",
       "      <td>soy-based resin production</td>\n",
       "      <td>polyester resin, unsaturated</td>\n",
       "      <td>US</td>\n",
       "      <td>4.729868e-16</td>\n",
       "      <td>9.087076</td>\n",
       "      <td>4.298067e-15</td>\n",
       "    </tr>\n",
       "    <tr>\n",
       "      <th>4924</th>\n",
       "      <td>Water, in air</td>\n",
       "      <td>(natural resource, in air)</td>\n",
       "      <td>soy-based resin production</td>\n",
       "      <td>polyester resin, unsaturated</td>\n",
       "      <td>RoW</td>\n",
       "      <td>1.378576e-15</td>\n",
       "      <td>20.175187</td>\n",
       "      <td>2.781303e-14</td>\n",
       "    </tr>\n",
       "    <tr>\n",
       "      <th>4925</th>\n",
       "      <td>Water, in air</td>\n",
       "      <td>(natural resource, in air)</td>\n",
       "      <td>clinker production</td>\n",
       "      <td>clinker</td>\n",
       "      <td>RoW</td>\n",
       "      <td>1.625316e-09</td>\n",
       "      <td>20.627229</td>\n",
       "      <td>3.352577e-08</td>\n",
       "    </tr>\n",
       "    <tr>\n",
       "      <th>4926</th>\n",
       "      <td>Water, in air</td>\n",
       "      <td>(natural resource, in air)</td>\n",
       "      <td>particleboard production, cement bonded</td>\n",
       "      <td>particleboard, cement bonded</td>\n",
       "      <td>RER</td>\n",
       "      <td>8.635607e-19</td>\n",
       "      <td>6.750246</td>\n",
       "      <td>5.829247e-18</td>\n",
       "    </tr>\n",
       "    <tr>\n",
       "      <th>4927</th>\n",
       "      <td>Water, in air</td>\n",
       "      <td>(natural resource, in air)</td>\n",
       "      <td>liquid packaging board production</td>\n",
       "      <td>bark</td>\n",
       "      <td>RoW</td>\n",
       "      <td>2.185130e-18</td>\n",
       "      <td>19.819034</td>\n",
       "      <td>4.330716e-17</td>\n",
       "    </tr>\n",
       "  </tbody>\n",
       "</table>\n",
       "<p>4928 rows × 8 columns</p>\n",
       "</div>"
      ],
      "text/plain": [
       "                                   supplier name  \\\n",
       "0     Water, cooling, unspecified natural origin   \n",
       "1     Water, cooling, unspecified natural origin   \n",
       "2     Water, cooling, unspecified natural origin   \n",
       "3     Water, cooling, unspecified natural origin   \n",
       "4     Water, cooling, unspecified natural origin   \n",
       "...                                          ...   \n",
       "4923                               Water, in air   \n",
       "4924                               Water, in air   \n",
       "4925                               Water, in air   \n",
       "4926                               Water, in air   \n",
       "4927                               Water, in air   \n",
       "\n",
       "               supplier categories  \\\n",
       "0     (natural resource, in water)   \n",
       "1     (natural resource, in water)   \n",
       "2     (natural resource, in water)   \n",
       "3     (natural resource, in water)   \n",
       "4     (natural resource, in water)   \n",
       "...                            ...   \n",
       "4923    (natural resource, in air)   \n",
       "4924    (natural resource, in air)   \n",
       "4925    (natural resource, in air)   \n",
       "4926    (natural resource, in air)   \n",
       "4927    (natural resource, in air)   \n",
       "\n",
       "                                          consumer name  \\\n",
       "0     particleboard production, uncoated, from virgi...   \n",
       "1                 heat and power co-generation, lignite   \n",
       "2                                   atrazine production   \n",
       "3                                 sheet rolling, copper   \n",
       "4         phosphoric acid production, dihydrate process   \n",
       "...                                                 ...   \n",
       "4923                         soy-based resin production   \n",
       "4924                         soy-based resin production   \n",
       "4925                                 clinker production   \n",
       "4926            particleboard production, cement bonded   \n",
       "4927                  liquid packaging board production   \n",
       "\n",
       "                             consumer reference product consumer location  \\\n",
       "0                               particleboard, uncoated               RoW   \n",
       "1                             electricity, high voltage                SI   \n",
       "2                                              atrazine               RoW   \n",
       "3                                 sheet rolling, copper               RoW   \n",
       "4     phosphoric acid, fertiliser grade, without wat...                MA   \n",
       "...                                                 ...               ...   \n",
       "4923                       polyester resin, unsaturated                US   \n",
       "4924                       polyester resin, unsaturated               RoW   \n",
       "4925                                            clinker               RoW   \n",
       "4926                       particleboard, cement bonded               RER   \n",
       "4927                                               bark               RoW   \n",
       "\n",
       "            amount         CF        impact  \n",
       "0     6.544631e-11  20.179399  1.320667e-09  \n",
       "1     1.453419e-07   1.087201  1.580158e-07  \n",
       "2     4.228744e-12  19.819034  8.380961e-11  \n",
       "3     1.290820e-10  19.819034  2.558280e-09  \n",
       "4     5.123237e-08  54.031045  2.768139e-06  \n",
       "...            ...        ...           ...  \n",
       "4923  4.729868e-16   9.087076  4.298067e-15  \n",
       "4924  1.378576e-15  20.175187  2.781303e-14  \n",
       "4925  1.625316e-09  20.627229  3.352577e-08  \n",
       "4926  8.635607e-19   6.750246  5.829247e-18  \n",
       "4927  2.185130e-18  19.819034  4.330716e-17  \n",
       "\n",
       "[4928 rows x 8 columns]"
      ]
     },
     "execution_count": 7,
     "metadata": {},
     "output_type": "execute_result"
    }
   ],
   "source": [
    "LCA.generate_cf_table()"
   ]
  },
  {
   "cell_type": "code",
   "execution_count": 7,
   "id": "7961940618b7aca6",
   "metadata": {
    "ExecuteTime": {
     "end_time": "2024-12-15T17:50:34.701932Z",
     "start_time": "2024-12-15T17:50:34.696160Z"
    }
   },
   "outputs": [
    {
     "data": {
      "text/plain": [
       "set()"
      ]
     },
     "execution_count": 7,
     "metadata": {},
     "output_type": "execute_result"
    }
   ],
   "source": [
    "LCA.ignored_locations"
   ]
  },
  {
   "cell_type": "code",
   "execution_count": 9,
   "id": "92b1b43be6023d7a",
   "metadata": {
    "ExecuteTime": {
     "end_time": "2025-03-12T15:31:19.780115Z",
     "start_time": "2025-03-12T15:31:19.775152Z"
    }
   },
   "outputs": [],
   "source": [
    "method = ('AWARE 1.2c', 'Country', 'mixed', 'yearly')\n",
    "convmethod = (\n",
    "  # 'ecoinvent-3.10',\n",
    "  'EF v3.1 EN15804',\n",
    "  'water use',\n",
    "  'user deprivation potential (deprivation-weighted water consumption)')"
   ]
  },
  {
   "cell_type": "code",
   "execution_count": 10,
   "id": "e4bc7f7d309a36bf",
   "metadata": {
    "ExecuteTime": {
     "end_time": "2025-03-12T15:31:21.118432Z",
     "start_time": "2025-03-12T15:31:20.271537Z"
    }
   },
   "outputs": [
    {
     "name": "stderr",
     "output_type": "stream",
     "text": [
      "/opt/homebrew/Caskroom/miniforge/base/envs/bw2/lib/python3.11/site-packages/scikits/umfpack/umfpack.py:736: UmfpackWarning: (almost) singular matrix! (estimated cond. number: 4.83e+13)\n",
      "  warnings.warn(msg, UmfpackWarning)\n"
     ]
    },
    {
     "data": {
      "text/plain": [
       "0.06176615560312869"
      ]
     },
     "execution_count": 10,
     "metadata": {},
     "output_type": "execute_result"
    }
   ],
   "source": [
    "import bw2calc\n",
    "\n",
    "convLCA = bw2calc.LCA({act: 1}, convmethod)\n",
    "convLCA.lci()\n",
    "convLCA.lcia()\n",
    "convLCA.score"
   ]
  },
  {
   "cell_type": "code",
   "execution_count": null,
   "id": "693d8b4bbb10bedb",
   "metadata": {},
   "outputs": [],
   "source": []
  }
 ],
 "metadata": {
  "kernelspec": {
   "display_name": "Python 3 (ipykernel)",
   "language": "python",
   "name": "python3"
  },
  "language_info": {
   "codemirror_mode": {
    "name": "ipython",
    "version": 3
   },
   "file_extension": ".py",
   "mimetype": "text/x-python",
   "name": "python",
   "nbconvert_exporter": "python",
   "pygments_lexer": "ipython3",
   "version": "3.11.10"
  }
 },
 "nbformat": 4,
 "nbformat_minor": 5
}

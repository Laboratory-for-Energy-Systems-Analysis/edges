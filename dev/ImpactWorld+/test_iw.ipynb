{
 "cells": [
  {
   "metadata": {
    "ExecuteTime": {
     "end_time": "2025-03-28T08:16:46.939091Z",
     "start_time": "2025-03-28T08:16:42.660606Z"
    }
   },
   "cell_type": "code",
   "source": [
    "import bw2data, bw2calc, bw2io\n",
    "import pandas as pd\n",
    "\n",
    "from edges import EdgeLCIA, get_available_methods\n",
    "from bw2analyzer.contribution import ContributionAnalysis"
   ],
   "id": "b00c5c8de6bf61ec",
   "outputs": [],
   "execution_count": 1
  },
  {
   "metadata": {
    "ExecuteTime": {
     "end_time": "2025-03-28T08:16:46.946055Z",
     "start_time": "2025-03-28T08:16:46.941791Z"
    }
   },
   "cell_type": "code",
   "source": "[m for m in get_available_methods() if \"ImpactWorld+\" in str(m) and \"midpoint\" in str(m)]",
   "id": "d194b7551bfc6d14",
   "outputs": [
    {
     "data": {
      "text/plain": [
       "[('ImpactWorld+ 2.1', 'Fisheries impact', 'midpoint'),\n",
       " ('ImpactWorld+ 2.1', 'Freshwater acidification', 'midpoint'),\n",
       " ('ImpactWorld+ 2.1', 'Freshwater ecotoxicity', 'midpoint'),\n",
       " ('ImpactWorld+ 2.1', 'Freshwater ecotoxicity, long term', 'midpoint'),\n",
       " ('ImpactWorld+ 2.1', 'Freshwater ecotoxicity, short term', 'midpoint'),\n",
       " ('ImpactWorld+ 2.1', 'Freshwater eutrophication', 'midpoint'),\n",
       " ('ImpactWorld+ 2.1', 'Land occupation, biodiversity', 'midpoint'),\n",
       " ('ImpactWorld+ 2.1', 'Land transformation, biodiversity', 'midpoint'),\n",
       " ('ImpactWorld+ 2.1', 'Marine ecotoxicity, long term', 'midpoint'),\n",
       " ('ImpactWorld+ 2.1', 'Marine ecotoxicity, short term', 'midpoint'),\n",
       " ('ImpactWorld+ 2.1', 'Marine eutrophication', 'midpoint'),\n",
       " ('ImpactWorld+ 2.1', 'Particulate matter formation', 'midpoint'),\n",
       " ('ImpactWorld+ 2.1', 'Photochemical ozone formation', 'midpoint'),\n",
       " ('ImpactWorld+ 2.1',\n",
       "  'Photochemical ozone formation, ecosystem quality',\n",
       "  'midpoint'),\n",
       " ('ImpactWorld+ 2.1',\n",
       "  'Photochemical ozone formation, human health',\n",
       "  'midpoint'),\n",
       " ('ImpactWorld+ 2.1', 'Terrestrial acidification', 'midpoint'),\n",
       " ('ImpactWorld+ 2.1', 'Terrestrial ecotoxicity, long term', 'midpoint'),\n",
       " ('ImpactWorld+ 2.1', 'Terrestrial ecotoxicity, short term', 'midpoint'),\n",
       " ('ImpactWorld+ 2.1', 'Thermally polluted water', 'midpoint'),\n",
       " ('ImpactWorld+ 2.1', 'Water availability, freshwater ecosystem', 'midpoint'),\n",
       " ('ImpactWorld+ 2.1', 'Water availability, human health', 'midpoint'),\n",
       " ('ImpactWorld+ 2.1', 'Water availability, terrestrial ecosystem', 'midpoint'),\n",
       " ('ImpactWorld+ 2.1', 'Water scarcity', 'midpoint')]"
      ]
     },
     "execution_count": 2,
     "metadata": {},
     "output_type": "execute_result"
    }
   ],
   "execution_count": 2
  },
  {
   "metadata": {
    "ExecuteTime": {
     "end_time": "2025-03-28T08:24:03.738438Z",
     "start_time": "2025-03-28T08:24:02.949639Z"
    }
   },
   "cell_type": "code",
   "source": [
    "bw2data.projects.set_current(\"bw25_ei310\")\n",
    "# bw2data.projects.set_current(\"ecoinvent-3.10-cutoff\")\n",
    "# act = bw2data.Database(\"ecoinvent-3.10-cutoff\").random()\n",
    "# act = [a for a in bw2data.Database(\"ecoinvent-3.10-cutoff\") if a[\"name\"] == \"heat and power co-generation, natural gas, combined cycle power plant, 400MW electrical\" and a[\"location\"] == \"ES\" and a[\"reference product\"] == \"heat, district or industrial, natural gas\"][0]\n",
    "# act = [a for a in bw2data.Database(\"ecoinvent-3.10-cutoff\") if a[\"name\"] == \"1,4-butanediol production\" and a[\"location\"] == \"RER\" and a[\"reference product\"] == \"1,4-butanediol\"][0]\n",
    "act = [a for a in bw2data.Database(\"ecoinvent-3.10-cutoff\") if a[\"name\"] == \"market for potato\" and a[\"location\"] == \"US-CO\" ][0]\n",
    "act"
   ],
   "id": "e09ccf2c0a6831c7",
   "outputs": [
    {
     "data": {
      "text/plain": [
       "'market for potato' (kilogram, US-CO, None)"
      ]
     },
     "execution_count": 11,
     "metadata": {},
     "output_type": "execute_result"
    }
   ],
   "execution_count": 11
  },
  {
   "metadata": {
    "ExecuteTime": {
     "end_time": "2025-03-28T08:24:06.947877Z",
     "start_time": "2025-03-28T08:24:06.944727Z"
    }
   },
   "cell_type": "code",
   "source": "act.id",
   "id": "9a96246a8846c116",
   "outputs": [
    {
     "data": {
      "text/plain": [
       "124526853481373698"
      ]
     },
     "execution_count": 12,
     "metadata": {},
     "output_type": "execute_result"
    }
   ],
   "execution_count": 12
  },
  {
   "metadata": {
    "ExecuteTime": {
     "end_time": "2025-03-28T08:28:55.692601Z",
     "start_time": "2025-03-28T08:28:55.690350Z"
    }
   },
   "cell_type": "code",
   "source": [
    "acts = [\n",
    "    124526820098908160,\n",
    "    124526843280826368,\n",
    "    124526853481373698\n",
    "]"
   ],
   "id": "c3298a4ae04bb656",
   "outputs": [],
   "execution_count": 17
  },
  {
   "metadata": {
    "ExecuteTime": {
     "end_time": "2025-03-28T08:44:53.226068Z",
     "start_time": "2025-03-28T08:43:14.343238Z"
    }
   },
   "cell_type": "code",
   "source": [
    "import matplotlib.pyplot as plt\n",
    "#method = ('GeoPolRisk', '2024')\n",
    "# method = ('ImpactWorld+ 2.1', 'Land transformation, biodiversity', 'midpoint')\n",
    "#methods = [m for m in get_available_methods() if \"ImpactWorld+\" in str(m) and \"midpoint\" in str(m)][:1]\n",
    "results = []\n",
    "results_df = []\n",
    "methods = [\n",
    "    ('ImpactWorld+ 2.1', 'Land occupation, biodiversity', 'midpoint'),\n",
    "    ('ImpactWorld+ 2.1', 'Marine eutrophication', 'midpoint'),\n",
    "    ('ImpactWorld+ 2.1', 'Water availability, freshwater ecosystem', 'damage')\n",
    "]\n",
    "for method in methods:\n",
    "    for act in acts:\n",
    "        LCA = EdgeLCIA({act: 1}, method)\n",
    "        LCA.lci()\n",
    "        LCA.map_exchanges()\n",
    "        LCA.map_aggregate_locations()\n",
    "        LCA.map_dynamic_locations()\n",
    "        LCA.map_contained_locations()\n",
    "        LCA.map_remaining_locations_to_global()\n",
    "        LCA.evaluate_cfs()\n",
    "        LCA.lcia()\n",
    "        df = LCA.generate_cf_table()\n",
    "        results.append([bw2data.get_activity(act)[\"name\"], method, LCA.score])\n",
    "        results_df.append([bw2data.get_activity(act)[\"name\"], method, df])\n",
    "\n",
    "  #LCA.score"
   ],
   "id": "a9ed9026df2ab10a",
   "outputs": [
    {
     "name": "stderr",
     "output_type": "stream",
     "text": [
      "/Users/romain/anaconda3/envs/bw25/lib/python3.11/site-packages/scikits/umfpack/umfpack.py:736: UmfpackWarning: (almost) singular matrix! (estimated cond. number: 1.21e+13)\n",
      "  warnings.warn(msg, UmfpackWarning)\n"
     ]
    },
    {
     "name": "stdout",
     "output_type": "stream",
     "text": [
      "Identifying eligible exchanges...\n"
     ]
    },
    {
     "name": "stderr",
     "output_type": "stream",
     "text": [
      "100%|██████████| 10600/10600 [00:00<00:00, 224219.67it/s]"
     ]
    },
    {
     "name": "stdout",
     "output_type": "stream",
     "text": [
      "Handling static regions...\n"
     ]
    },
    {
     "name": "stderr",
     "output_type": "stream",
     "text": [
      "\n",
      "Processing static groups (pass 1): 100%|██████████| 11/11 [00:00<00:00, 531.24it/s]\n"
     ]
    },
    {
     "name": "stdout",
     "output_type": "stream",
     "text": [
      "Handling dynamic regions...\n"
     ]
    },
    {
     "name": "stderr",
     "output_type": "stream",
     "text": [
      "Processing dynamic groups (pass 1): 100%|██████████| 1388/1388 [00:02<00:00, 535.24it/s]\n"
     ]
    },
    {
     "name": "stdout",
     "output_type": "stream",
     "text": [
      "Handling contained locations...\n"
     ]
    },
    {
     "name": "stderr",
     "output_type": "stream",
     "text": [
      "Processing contained groups (pass 1): 100%|██████████| 224/224 [00:00<00:00, 68945.78it/s]\n"
     ]
    },
    {
     "name": "stdout",
     "output_type": "stream",
     "text": [
      "Handling remaining exchanges...\n"
     ]
    },
    {
     "name": "stderr",
     "output_type": "stream",
     "text": [
      "/Users/romain/anaconda3/envs/bw25/lib/python3.11/site-packages/scikits/umfpack/umfpack.py:736: UmfpackWarning: (almost) singular matrix! (estimated cond. number: 1.21e+13)\n",
      "  warnings.warn(msg, UmfpackWarning)\n"
     ]
    },
    {
     "name": "stdout",
     "output_type": "stream",
     "text": [
      "Identifying eligible exchanges...\n"
     ]
    },
    {
     "name": "stderr",
     "output_type": "stream",
     "text": [
      "100%|██████████| 10600/10600 [00:00<00:00, 88701.75it/s]"
     ]
    },
    {
     "name": "stdout",
     "output_type": "stream",
     "text": [
      "Handling static regions...\n"
     ]
    },
    {
     "name": "stderr",
     "output_type": "stream",
     "text": [
      "\n",
      "Processing static groups (pass 1): 100%|██████████| 11/11 [00:00<00:00, 527.91it/s]\n"
     ]
    },
    {
     "name": "stdout",
     "output_type": "stream",
     "text": [
      "Handling dynamic regions...\n"
     ]
    },
    {
     "name": "stderr",
     "output_type": "stream",
     "text": [
      "Processing dynamic groups (pass 1): 100%|██████████| 1388/1388 [00:02<00:00, 584.55it/s]\n"
     ]
    },
    {
     "name": "stdout",
     "output_type": "stream",
     "text": [
      "Handling contained locations...\n"
     ]
    },
    {
     "name": "stderr",
     "output_type": "stream",
     "text": [
      "Processing contained groups (pass 1): 100%|██████████| 224/224 [00:00<00:00, 65100.06it/s]\n"
     ]
    },
    {
     "name": "stdout",
     "output_type": "stream",
     "text": [
      "Handling remaining exchanges...\n"
     ]
    },
    {
     "name": "stderr",
     "output_type": "stream",
     "text": [
      "/Users/romain/anaconda3/envs/bw25/lib/python3.11/site-packages/scikits/umfpack/umfpack.py:736: UmfpackWarning: (almost) singular matrix! (estimated cond. number: 1.21e+13)\n",
      "  warnings.warn(msg, UmfpackWarning)\n"
     ]
    },
    {
     "name": "stdout",
     "output_type": "stream",
     "text": [
      "Identifying eligible exchanges...\n"
     ]
    },
    {
     "name": "stderr",
     "output_type": "stream",
     "text": [
      "100%|██████████| 10600/10600 [00:00<00:00, 251428.63it/s]"
     ]
    },
    {
     "name": "stdout",
     "output_type": "stream",
     "text": [
      "Handling static regions...\n"
     ]
    },
    {
     "name": "stderr",
     "output_type": "stream",
     "text": [
      "\n",
      "Processing static groups (pass 1): 100%|██████████| 11/11 [00:00<00:00, 506.35it/s]\n"
     ]
    },
    {
     "name": "stdout",
     "output_type": "stream",
     "text": [
      "Handling dynamic regions...\n"
     ]
    },
    {
     "name": "stderr",
     "output_type": "stream",
     "text": [
      "Processing dynamic groups (pass 1): 100%|██████████| 1388/1388 [00:02<00:00, 585.88it/s]\n"
     ]
    },
    {
     "name": "stdout",
     "output_type": "stream",
     "text": [
      "Handling contained locations...\n"
     ]
    },
    {
     "name": "stderr",
     "output_type": "stream",
     "text": [
      "Processing contained groups (pass 1): 100%|██████████| 224/224 [00:00<00:00, 61103.28it/s]\n"
     ]
    },
    {
     "name": "stdout",
     "output_type": "stream",
     "text": [
      "Handling remaining exchanges...\n"
     ]
    },
    {
     "name": "stderr",
     "output_type": "stream",
     "text": [
      "/Users/romain/anaconda3/envs/bw25/lib/python3.11/site-packages/scikits/umfpack/umfpack.py:736: UmfpackWarning: (almost) singular matrix! (estimated cond. number: 1.21e+13)\n",
      "  warnings.warn(msg, UmfpackWarning)\n"
     ]
    },
    {
     "name": "stdout",
     "output_type": "stream",
     "text": [
      "Identifying eligible exchanges...\n"
     ]
    },
    {
     "name": "stderr",
     "output_type": "stream",
     "text": [
      "100%|██████████| 10722/10722 [00:00<00:00, 259279.94it/s]"
     ]
    },
    {
     "name": "stdout",
     "output_type": "stream",
     "text": [
      "Handling static regions...\n"
     ]
    },
    {
     "name": "stderr",
     "output_type": "stream",
     "text": [
      "\n",
      "Processing static groups (pass 1): 100%|██████████| 16/16 [00:00<00:00, 504.04it/s]\n"
     ]
    },
    {
     "name": "stdout",
     "output_type": "stream",
     "text": [
      "Handling dynamic regions...\n"
     ]
    },
    {
     "name": "stderr",
     "output_type": "stream",
     "text": [
      "Processing dynamic groups (pass 1): 100%|██████████| 2146/2146 [00:04<00:00, 475.06it/s]\n"
     ]
    },
    {
     "name": "stdout",
     "output_type": "stream",
     "text": [
      "Handling contained locations...\n"
     ]
    },
    {
     "name": "stderr",
     "output_type": "stream",
     "text": [
      "Processing contained groups (pass 1): 100%|██████████| 43/43 [00:00<00:00, 52110.68it/s]\n"
     ]
    },
    {
     "name": "stdout",
     "output_type": "stream",
     "text": [
      "Handling remaining exchanges...\n"
     ]
    },
    {
     "name": "stderr",
     "output_type": "stream",
     "text": [
      "Processing global groups (pass 1): 100%|██████████| 2/2 [00:00<00:00, 342.87it/s]\n",
      "/Users/romain/anaconda3/envs/bw25/lib/python3.11/site-packages/scikits/umfpack/umfpack.py:736: UmfpackWarning: (almost) singular matrix! (estimated cond. number: 1.21e+13)\n",
      "  warnings.warn(msg, UmfpackWarning)\n"
     ]
    },
    {
     "name": "stdout",
     "output_type": "stream",
     "text": [
      "Identifying eligible exchanges...\n"
     ]
    },
    {
     "name": "stderr",
     "output_type": "stream",
     "text": [
      "100%|██████████| 10722/10722 [00:00<00:00, 259922.83it/s]"
     ]
    },
    {
     "name": "stdout",
     "output_type": "stream",
     "text": [
      "Handling static regions...\n"
     ]
    },
    {
     "name": "stderr",
     "output_type": "stream",
     "text": [
      "\n",
      "Processing static groups (pass 1): 100%|██████████| 16/16 [00:00<00:00, 500.49it/s]\n"
     ]
    },
    {
     "name": "stdout",
     "output_type": "stream",
     "text": [
      "Handling dynamic regions...\n"
     ]
    },
    {
     "name": "stderr",
     "output_type": "stream",
     "text": [
      "Processing dynamic groups (pass 1): 100%|██████████| 2146/2146 [00:04<00:00, 487.77it/s]\n"
     ]
    },
    {
     "name": "stdout",
     "output_type": "stream",
     "text": [
      "Handling contained locations...\n"
     ]
    },
    {
     "name": "stderr",
     "output_type": "stream",
     "text": [
      "Processing contained groups (pass 1): 100%|██████████| 43/43 [00:00<00:00, 54422.17it/s]\n"
     ]
    },
    {
     "name": "stdout",
     "output_type": "stream",
     "text": [
      "Handling remaining exchanges...\n"
     ]
    },
    {
     "name": "stderr",
     "output_type": "stream",
     "text": [
      "Processing global groups (pass 1): 100%|██████████| 2/2 [00:00<00:00, 318.67it/s]\n",
      "/Users/romain/anaconda3/envs/bw25/lib/python3.11/site-packages/scikits/umfpack/umfpack.py:736: UmfpackWarning: (almost) singular matrix! (estimated cond. number: 1.21e+13)\n",
      "  warnings.warn(msg, UmfpackWarning)\n"
     ]
    },
    {
     "name": "stdout",
     "output_type": "stream",
     "text": [
      "Identifying eligible exchanges...\n"
     ]
    },
    {
     "name": "stderr",
     "output_type": "stream",
     "text": [
      "100%|██████████| 10722/10722 [00:00<00:00, 252265.26it/s]"
     ]
    },
    {
     "name": "stdout",
     "output_type": "stream",
     "text": [
      "Handling static regions...\n"
     ]
    },
    {
     "name": "stderr",
     "output_type": "stream",
     "text": [
      "\n",
      "Processing static groups (pass 1): 100%|██████████| 16/16 [00:00<00:00, 496.57it/s]\n"
     ]
    },
    {
     "name": "stdout",
     "output_type": "stream",
     "text": [
      "Handling dynamic regions...\n"
     ]
    },
    {
     "name": "stderr",
     "output_type": "stream",
     "text": [
      "Processing dynamic groups (pass 1): 100%|██████████| 2146/2146 [00:04<00:00, 457.12it/s]\n"
     ]
    },
    {
     "name": "stdout",
     "output_type": "stream",
     "text": [
      "Handling contained locations...\n"
     ]
    },
    {
     "name": "stderr",
     "output_type": "stream",
     "text": [
      "Processing contained groups (pass 1): 100%|██████████| 43/43 [00:00<00:00, 53343.71it/s]\n"
     ]
    },
    {
     "name": "stdout",
     "output_type": "stream",
     "text": [
      "Handling remaining exchanges...\n"
     ]
    },
    {
     "name": "stderr",
     "output_type": "stream",
     "text": [
      "Processing global groups (pass 1): 100%|██████████| 2/2 [00:00<00:00, 184.86it/s]\n",
      "/Users/romain/anaconda3/envs/bw25/lib/python3.11/site-packages/scikits/umfpack/umfpack.py:736: UmfpackWarning: (almost) singular matrix! (estimated cond. number: 1.21e+13)\n",
      "  warnings.warn(msg, UmfpackWarning)\n"
     ]
    },
    {
     "name": "stdout",
     "output_type": "stream",
     "text": [
      "Identifying eligible exchanges...\n"
     ]
    },
    {
     "name": "stderr",
     "output_type": "stream",
     "text": [
      "100%|██████████| 8382/8382 [00:00<00:00, 256128.11it/s]"
     ]
    },
    {
     "name": "stdout",
     "output_type": "stream",
     "text": [
      "Handling static regions...\n"
     ]
    },
    {
     "name": "stderr",
     "output_type": "stream",
     "text": [
      "\n",
      "Processing static groups (pass 1): 100%|██████████| 8/8 [00:00<00:00, 480.34it/s]\n"
     ]
    },
    {
     "name": "stdout",
     "output_type": "stream",
     "text": [
      "Handling dynamic regions...\n"
     ]
    },
    {
     "name": "stderr",
     "output_type": "stream",
     "text": [
      "Processing dynamic groups (pass 1): 100%|██████████| 2273/2273 [00:03<00:00, 624.45it/s]\n"
     ]
    },
    {
     "name": "stdout",
     "output_type": "stream",
     "text": [
      "Handling contained locations...\n"
     ]
    },
    {
     "name": "stderr",
     "output_type": "stream",
     "text": [
      "Processing contained groups (pass 1): 100%|██████████| 38/38 [00:00<00:00, 55457.05it/s]\n"
     ]
    },
    {
     "name": "stdout",
     "output_type": "stream",
     "text": [
      "Handling remaining exchanges...\n"
     ]
    },
    {
     "name": "stderr",
     "output_type": "stream",
     "text": [
      "Processing global groups (pass 1): 100%|██████████| 3/3 [00:00<00:00, 418.12it/s]\n",
      "/Users/romain/anaconda3/envs/bw25/lib/python3.11/site-packages/scikits/umfpack/umfpack.py:736: UmfpackWarning: (almost) singular matrix! (estimated cond. number: 1.21e+13)\n",
      "  warnings.warn(msg, UmfpackWarning)\n"
     ]
    },
    {
     "name": "stdout",
     "output_type": "stream",
     "text": [
      "Identifying eligible exchanges...\n"
     ]
    },
    {
     "name": "stderr",
     "output_type": "stream",
     "text": [
      "100%|██████████| 8382/8382 [00:00<00:00, 264582.44it/s]"
     ]
    },
    {
     "name": "stdout",
     "output_type": "stream",
     "text": [
      "Handling static regions...\n"
     ]
    },
    {
     "name": "stderr",
     "output_type": "stream",
     "text": [
      "\n",
      "Processing static groups (pass 1): 100%|██████████| 8/8 [00:00<00:00, 423.90it/s]\n"
     ]
    },
    {
     "name": "stdout",
     "output_type": "stream",
     "text": [
      "Handling dynamic regions...\n"
     ]
    },
    {
     "name": "stderr",
     "output_type": "stream",
     "text": [
      "Processing dynamic groups (pass 1): 100%|██████████| 2273/2273 [00:03<00:00, 568.63it/s]\n"
     ]
    },
    {
     "name": "stdout",
     "output_type": "stream",
     "text": [
      "Handling contained locations...\n"
     ]
    },
    {
     "name": "stderr",
     "output_type": "stream",
     "text": [
      "Processing contained groups (pass 1): 100%|██████████| 38/38 [00:00<00:00, 61609.41it/s]\n"
     ]
    },
    {
     "name": "stdout",
     "output_type": "stream",
     "text": [
      "Handling remaining exchanges...\n"
     ]
    },
    {
     "name": "stderr",
     "output_type": "stream",
     "text": [
      "Processing global groups (pass 1): 100%|██████████| 3/3 [00:00<00:00, 414.02it/s]\n",
      "/Users/romain/anaconda3/envs/bw25/lib/python3.11/site-packages/scikits/umfpack/umfpack.py:736: UmfpackWarning: (almost) singular matrix! (estimated cond. number: 1.21e+13)\n",
      "  warnings.warn(msg, UmfpackWarning)\n"
     ]
    },
    {
     "name": "stdout",
     "output_type": "stream",
     "text": [
      "Identifying eligible exchanges...\n"
     ]
    },
    {
     "name": "stderr",
     "output_type": "stream",
     "text": [
      "100%|██████████| 8382/8382 [00:00<00:00, 70600.80it/s]"
     ]
    },
    {
     "name": "stdout",
     "output_type": "stream",
     "text": [
      "Handling static regions...\n"
     ]
    },
    {
     "name": "stderr",
     "output_type": "stream",
     "text": [
      "\n",
      "Processing static groups (pass 1): 100%|██████████| 8/8 [00:00<00:00, 487.50it/s]\n"
     ]
    },
    {
     "name": "stdout",
     "output_type": "stream",
     "text": [
      "Handling dynamic regions...\n"
     ]
    },
    {
     "name": "stderr",
     "output_type": "stream",
     "text": [
      "Processing dynamic groups (pass 1): 100%|██████████| 2273/2273 [00:03<00:00, 609.35it/s]\n"
     ]
    },
    {
     "name": "stdout",
     "output_type": "stream",
     "text": [
      "Handling contained locations...\n"
     ]
    },
    {
     "name": "stderr",
     "output_type": "stream",
     "text": [
      "Processing contained groups (pass 1): 100%|██████████| 38/38 [00:00<00:00, 59851.13it/s]\n"
     ]
    },
    {
     "name": "stdout",
     "output_type": "stream",
     "text": [
      "Handling remaining exchanges...\n"
     ]
    },
    {
     "name": "stderr",
     "output_type": "stream",
     "text": [
      "Processing global groups (pass 1): 100%|██████████| 3/3 [00:00<00:00, 412.43it/s]\n"
     ]
    }
   ],
   "execution_count": 29
  },
  {
   "metadata": {
    "ExecuteTime": {
     "end_time": "2025-03-28T08:33:18.297488Z",
     "start_time": "2025-03-28T08:33:18.289113Z"
    }
   },
   "cell_type": "code",
   "source": [
    "simapro_values = {\n",
    "    ('ImpactWorld+ 2.1', 'Land occupation, biodiversity', 'midpoint'): {\n",
    "        bw2data.get_activity(124526820098908160)[\"name\"]: 0.085261781,\n",
    "        bw2data.get_activity(124526843280826368)[\"name\"]: 2.59e-05,\n",
    "        bw2data.get_activity(124526853481373698)[\"name\"]: 0.240580783\n",
    "    },\n",
    "    ('ImpactWorld+ 2.1', 'Marine eutrophication', 'midpoint'): {\n",
    "        bw2data.get_activity(124526820098908160)[\"name\"]: 0.000240308,\n",
    "        bw2data.get_activity(124526843280826368)[\"name\"]: 9.06E-07,\n",
    "        bw2data.get_activity(124526853481373698)[\"name\"]: 0.000151469\n",
    "},\n",
    "    ('ImpactWorld+ 2.1', 'Water availability, freshwater ecosystem', 'damage'): {\n",
    "        bw2data.get_activity(124526820098908160)[\"name\"]: 7.87E-05,\n",
    "        bw2data.get_activity(124526843280826368)[\"name\"]: 1.33E-08,\n",
    "        bw2data.get_activity(124526853481373698)[\"name\"]: 7.06E-06\n",
    "}\n",
    "}"
   ],
   "id": "f5ac89f4f02b2a78",
   "outputs": [],
   "execution_count": 21
  },
  {
   "metadata": {
    "ExecuteTime": {
     "end_time": "2025-03-28T08:33:43.635558Z",
     "start_time": "2025-03-28T08:33:43.626212Z"
    }
   },
   "cell_type": "code",
   "source": [
    "import pandas as pd\n",
    "df = pd.DataFrame(results, columns=[\"activity\", \"method\", \"score\"])\n",
    "df"
   ],
   "id": "68fe3f10aaf1ac50",
   "outputs": [
    {
     "data": {
      "text/plain": [
       "                                            activity  \\\n",
       "0                          1,4-butanediol production   \n",
       "1  heat and power co-generation, natural gas, com...   \n",
       "2                                  market for potato   \n",
       "3                          1,4-butanediol production   \n",
       "4  heat and power co-generation, natural gas, com...   \n",
       "5                                  market for potato   \n",
       "6                          1,4-butanediol production   \n",
       "7  heat and power co-generation, natural gas, com...   \n",
       "8                                  market for potato   \n",
       "\n",
       "                                              method         score  \n",
       "0  (ImpactWorld+ 2.1, Land occupation, biodiversi...  1.065449e-01  \n",
       "1  (ImpactWorld+ 2.1, Land occupation, biodiversi...  2.816685e-05  \n",
       "2  (ImpactWorld+ 2.1, Land occupation, biodiversi...  2.598335e-01  \n",
       "3  (ImpactWorld+ 2.1, Marine eutrophication, midp...  2.344185e-04  \n",
       "4  (ImpactWorld+ 2.1, Marine eutrophication, midp...  7.694016e-07  \n",
       "5  (ImpactWorld+ 2.1, Marine eutrophication, midp...  1.270241e-04  \n",
       "6  (ImpactWorld+ 2.1, Water availability, freshwa...  7.866688e-05  \n",
       "7  (ImpactWorld+ 2.1, Water availability, freshwa...  1.331934e-08  \n",
       "8  (ImpactWorld+ 2.1, Water availability, freshwa...  7.053593e-06  "
      ],
      "text/html": [
       "<div>\n",
       "<style scoped>\n",
       "    .dataframe tbody tr th:only-of-type {\n",
       "        vertical-align: middle;\n",
       "    }\n",
       "\n",
       "    .dataframe tbody tr th {\n",
       "        vertical-align: top;\n",
       "    }\n",
       "\n",
       "    .dataframe thead th {\n",
       "        text-align: right;\n",
       "    }\n",
       "</style>\n",
       "<table border=\"1\" class=\"dataframe\">\n",
       "  <thead>\n",
       "    <tr style=\"text-align: right;\">\n",
       "      <th></th>\n",
       "      <th>activity</th>\n",
       "      <th>method</th>\n",
       "      <th>score</th>\n",
       "    </tr>\n",
       "  </thead>\n",
       "  <tbody>\n",
       "    <tr>\n",
       "      <th>0</th>\n",
       "      <td>1,4-butanediol production</td>\n",
       "      <td>(ImpactWorld+ 2.1, Land occupation, biodiversi...</td>\n",
       "      <td>1.065449e-01</td>\n",
       "    </tr>\n",
       "    <tr>\n",
       "      <th>1</th>\n",
       "      <td>heat and power co-generation, natural gas, com...</td>\n",
       "      <td>(ImpactWorld+ 2.1, Land occupation, biodiversi...</td>\n",
       "      <td>2.816685e-05</td>\n",
       "    </tr>\n",
       "    <tr>\n",
       "      <th>2</th>\n",
       "      <td>market for potato</td>\n",
       "      <td>(ImpactWorld+ 2.1, Land occupation, biodiversi...</td>\n",
       "      <td>2.598335e-01</td>\n",
       "    </tr>\n",
       "    <tr>\n",
       "      <th>3</th>\n",
       "      <td>1,4-butanediol production</td>\n",
       "      <td>(ImpactWorld+ 2.1, Marine eutrophication, midp...</td>\n",
       "      <td>2.344185e-04</td>\n",
       "    </tr>\n",
       "    <tr>\n",
       "      <th>4</th>\n",
       "      <td>heat and power co-generation, natural gas, com...</td>\n",
       "      <td>(ImpactWorld+ 2.1, Marine eutrophication, midp...</td>\n",
       "      <td>7.694016e-07</td>\n",
       "    </tr>\n",
       "    <tr>\n",
       "      <th>5</th>\n",
       "      <td>market for potato</td>\n",
       "      <td>(ImpactWorld+ 2.1, Marine eutrophication, midp...</td>\n",
       "      <td>1.270241e-04</td>\n",
       "    </tr>\n",
       "    <tr>\n",
       "      <th>6</th>\n",
       "      <td>1,4-butanediol production</td>\n",
       "      <td>(ImpactWorld+ 2.1, Water availability, freshwa...</td>\n",
       "      <td>7.866688e-05</td>\n",
       "    </tr>\n",
       "    <tr>\n",
       "      <th>7</th>\n",
       "      <td>heat and power co-generation, natural gas, com...</td>\n",
       "      <td>(ImpactWorld+ 2.1, Water availability, freshwa...</td>\n",
       "      <td>1.331934e-08</td>\n",
       "    </tr>\n",
       "    <tr>\n",
       "      <th>8</th>\n",
       "      <td>market for potato</td>\n",
       "      <td>(ImpactWorld+ 2.1, Water availability, freshwa...</td>\n",
       "      <td>7.053593e-06</td>\n",
       "    </tr>\n",
       "  </tbody>\n",
       "</table>\n",
       "</div>"
      ]
     },
     "execution_count": 24,
     "metadata": {},
     "output_type": "execute_result"
    }
   ],
   "execution_count": 24
  },
  {
   "metadata": {
    "ExecuteTime": {
     "end_time": "2025-03-28T08:34:52.848606Z",
     "start_time": "2025-03-28T08:34:52.844039Z"
    }
   },
   "cell_type": "code",
   "source": [
    "df[\"simapro\"] = df.apply(lambda x: simapro_values[x[\"method\"]][x[\"activity\"]], axis=1)\n",
    "df[\"diff %\"] = ((df[\"score\"] - df[\"simapro\"]) / df[\"simapro\"]) * 100"
   ],
   "id": "81e1ed068ceff34a",
   "outputs": [],
   "execution_count": 26
  },
  {
   "metadata": {
    "ExecuteTime": {
     "end_time": "2025-03-28T08:37:47.897880Z",
     "start_time": "2025-03-28T08:37:47.892304Z"
    }
   },
   "cell_type": "code",
   "source": "df.to_excel(\"comparison.xlsx\")",
   "id": "cf41ccea9a7787da",
   "outputs": [],
   "execution_count": 28
  },
  {
   "metadata": {
    "ExecuteTime": {
     "end_time": "2025-03-28T09:35:43.484113Z",
     "start_time": "2025-03-28T09:35:43.097471Z"
    }
   },
   "cell_type": "code",
   "source": "results_df[4][2].to_excel(\"results_marine_eutro_CHP.xlsx\")",
   "id": "b46dd269cbac336",
   "outputs": [],
   "execution_count": 34
  },
  {
   "metadata": {},
   "cell_type": "code",
   "outputs": [],
   "execution_count": null,
   "source": "df.sort_values(\"amount\", ascending=False)",
   "id": "19597ab549a60ee7"
  },
  {
   "metadata": {},
   "cell_type": "code",
   "outputs": [],
   "execution_count": null,
   "source": "df[\"CF\"].unique()",
   "id": "4963d2caaa79f1aa"
  },
  {
   "metadata": {},
   "cell_type": "code",
   "outputs": [],
   "execution_count": null,
   "source": "df.groupby([\"supplier name\", \"consumer location\"])[\"CF\"].mean()",
   "id": "ff7c94f69cfecea8"
  },
  {
   "metadata": {},
   "cell_type": "code",
   "outputs": [],
   "execution_count": null,
   "source": "list(LCA.demand.keys())[0]",
   "id": "c843de6f3493e046"
  },
  {
   "metadata": {},
   "cell_type": "code",
   "outputs": [],
   "execution_count": null,
   "source": [
    "from constructive_geometries import geomatcher\n",
    "geo = geomatcher.Geomatcher()\n",
    "\n",
    "geo.within(\"FR\", biggest_first=False, include_self=False)"
   ],
   "id": "99946d5ac076e820"
  },
  {
   "metadata": {},
   "cell_type": "code",
   "outputs": [],
   "execution_count": null,
   "source": "geo.contained(\"PG\", biggest_first=False)",
   "id": "924849d3bbc6e45b"
  },
  {
   "metadata": {},
   "cell_type": "code",
   "outputs": [],
   "execution_count": null,
   "source": "set([x[\"supplier\"][\"name\"] for x in LCA.ignored_method_exchanges])",
   "id": "f0e0dcb078d0131d"
  },
  {
   "metadata": {},
   "cell_type": "code",
   "outputs": [],
   "execution_count": null,
   "source": "LCA.generate_cf_table()",
   "id": "1a1e80e8924125dc"
  },
  {
   "metadata": {},
   "cell_type": "code",
   "outputs": [],
   "execution_count": null,
   "source": "LCA.ignored_locations",
   "id": "bb85346687cbd28e"
  },
  {
   "metadata": {},
   "cell_type": "code",
   "outputs": [],
   "execution_count": null,
   "source": [
    "method = ('AWARE 1.2c', 'Country', 'mixed', 'yearly')\n",
    "convmethod = (\n",
    "  # 'ecoinvent-3.10',\n",
    "  'EF v3.1 EN15804',\n",
    "  'water use',\n",
    "  'user deprivation potential (deprivation-weighted water consumption)')"
   ],
   "id": "6b032459a8f50a4f"
  },
  {
   "metadata": {},
   "cell_type": "code",
   "outputs": [],
   "execution_count": null,
   "source": [
    "import bw2calc\n",
    "\n",
    "convLCA = bw2calc.LCA({act: 1}, convmethod)\n",
    "convLCA.lci()\n",
    "convLCA.lcia()\n",
    "convLCA.score"
   ],
   "id": "86e00fb3f51c3abc"
  },
  {
   "metadata": {},
   "cell_type": "code",
   "outputs": [],
   "execution_count": null,
   "source": "",
   "id": "f5102734d3988c03"
  }
 ],
 "metadata": {
  "kernelspec": {
   "display_name": "Python 3 (ipykernel)",
   "language": "python",
   "name": "python3"
  },
  "language_info": {
   "codemirror_mode": {
    "name": "ipython",
    "version": 3
   },
   "file_extension": ".py",
   "mimetype": "text/x-python",
   "name": "python",
   "nbconvert_exporter": "python",
   "pygments_lexer": "ipython3",
   "version": "3.11.11"
  }
 },
 "nbformat": 4,
 "nbformat_minor": 5
}

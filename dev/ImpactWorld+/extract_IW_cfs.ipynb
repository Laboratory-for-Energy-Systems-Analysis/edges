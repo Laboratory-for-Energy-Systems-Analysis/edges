{
 "cells": [
  {
   "cell_type": "code",
   "id": "2910f323b9a6ab0c",
   "metadata": {
    "ExecuteTime": {
     "end_time": "2025-05-15T19:32:10.706569Z",
     "start_time": "2025-05-15T19:32:10.700404Z"
    }
   },
   "source": "import pandas as pd",
   "outputs": [],
   "execution_count": 22
  },
  {
   "cell_type": "code",
   "id": "357115a3318cf6d5",
   "metadata": {
    "ExecuteTime": {
     "end_time": "2025-05-15T19:32:32.774363Z",
     "start_time": "2025-05-15T19:32:11.061359Z"
    }
   },
   "source": [
    "cfs = pd.read_excel(\"impact_world_plus_2.1_dev.xlsx\", sheet_name=\"Sheet1\")\n",
    "cfs = cfs.loc[cfs[\"CF value\"]!=0]\n",
    "cfs = cfs.loc[\n",
    "    (cfs[\"Native geographical resolution scale\"] == \"Country\")\n",
    "    # | (cfs[\"Native geographical resolution scale\"] == \"Continent\")\n",
    "]\n",
    "cfs.head()"
   ],
   "outputs": [
    {
     "data": {
      "text/plain": [
       "      Unnamed: 0           Impact category    CF unit Compartment  \\\n",
       "3050        3050  Freshwater acidification  kg SO2 eq         Air   \n",
       "3051        3051  Freshwater acidification  kg SO2 eq         Air   \n",
       "3052        3052  Freshwater acidification  kg SO2 eq         Air   \n",
       "3053        3053  Freshwater acidification  kg SO2 eq         Air   \n",
       "3054        3054  Freshwater acidification  kg SO2 eq         Air   \n",
       "\n",
       "                 Sub-compartment Elem flow name CAS number  CF value  \\\n",
       "3050               (unspecified)    Ammonia, AD  7664-41-7  0.180141   \n",
       "3051                  high. pop.    Ammonia, AD  7664-41-7  0.180141   \n",
       "3052                   low. pop.    Ammonia, AD  7664-41-7  0.180141   \n",
       "3053  stratosphere + troposphere    Ammonia, AD  7664-41-7  0.180141   \n",
       "3054                      indoor    Ammonia, AD  7664-41-7  0.180141   \n",
       "\n",
       "     Elem flow unit MP or Damage Native geographical resolution scale  \n",
       "3050             kg     Midpoint                              Country  \n",
       "3051             kg     Midpoint                              Country  \n",
       "3052             kg     Midpoint                              Country  \n",
       "3053             kg     Midpoint                              Country  \n",
       "3054             kg     Midpoint                              Country  "
      ],
      "text/html": [
       "<div>\n",
       "<style scoped>\n",
       "    .dataframe tbody tr th:only-of-type {\n",
       "        vertical-align: middle;\n",
       "    }\n",
       "\n",
       "    .dataframe tbody tr th {\n",
       "        vertical-align: top;\n",
       "    }\n",
       "\n",
       "    .dataframe thead th {\n",
       "        text-align: right;\n",
       "    }\n",
       "</style>\n",
       "<table border=\"1\" class=\"dataframe\">\n",
       "  <thead>\n",
       "    <tr style=\"text-align: right;\">\n",
       "      <th></th>\n",
       "      <th>Unnamed: 0</th>\n",
       "      <th>Impact category</th>\n",
       "      <th>CF unit</th>\n",
       "      <th>Compartment</th>\n",
       "      <th>Sub-compartment</th>\n",
       "      <th>Elem flow name</th>\n",
       "      <th>CAS number</th>\n",
       "      <th>CF value</th>\n",
       "      <th>Elem flow unit</th>\n",
       "      <th>MP or Damage</th>\n",
       "      <th>Native geographical resolution scale</th>\n",
       "    </tr>\n",
       "  </thead>\n",
       "  <tbody>\n",
       "    <tr>\n",
       "      <th>3050</th>\n",
       "      <td>3050</td>\n",
       "      <td>Freshwater acidification</td>\n",
       "      <td>kg SO2 eq</td>\n",
       "      <td>Air</td>\n",
       "      <td>(unspecified)</td>\n",
       "      <td>Ammonia, AD</td>\n",
       "      <td>7664-41-7</td>\n",
       "      <td>0.180141</td>\n",
       "      <td>kg</td>\n",
       "      <td>Midpoint</td>\n",
       "      <td>Country</td>\n",
       "    </tr>\n",
       "    <tr>\n",
       "      <th>3051</th>\n",
       "      <td>3051</td>\n",
       "      <td>Freshwater acidification</td>\n",
       "      <td>kg SO2 eq</td>\n",
       "      <td>Air</td>\n",
       "      <td>high. pop.</td>\n",
       "      <td>Ammonia, AD</td>\n",
       "      <td>7664-41-7</td>\n",
       "      <td>0.180141</td>\n",
       "      <td>kg</td>\n",
       "      <td>Midpoint</td>\n",
       "      <td>Country</td>\n",
       "    </tr>\n",
       "    <tr>\n",
       "      <th>3052</th>\n",
       "      <td>3052</td>\n",
       "      <td>Freshwater acidification</td>\n",
       "      <td>kg SO2 eq</td>\n",
       "      <td>Air</td>\n",
       "      <td>low. pop.</td>\n",
       "      <td>Ammonia, AD</td>\n",
       "      <td>7664-41-7</td>\n",
       "      <td>0.180141</td>\n",
       "      <td>kg</td>\n",
       "      <td>Midpoint</td>\n",
       "      <td>Country</td>\n",
       "    </tr>\n",
       "    <tr>\n",
       "      <th>3053</th>\n",
       "      <td>3053</td>\n",
       "      <td>Freshwater acidification</td>\n",
       "      <td>kg SO2 eq</td>\n",
       "      <td>Air</td>\n",
       "      <td>stratosphere + troposphere</td>\n",
       "      <td>Ammonia, AD</td>\n",
       "      <td>7664-41-7</td>\n",
       "      <td>0.180141</td>\n",
       "      <td>kg</td>\n",
       "      <td>Midpoint</td>\n",
       "      <td>Country</td>\n",
       "    </tr>\n",
       "    <tr>\n",
       "      <th>3054</th>\n",
       "      <td>3054</td>\n",
       "      <td>Freshwater acidification</td>\n",
       "      <td>kg SO2 eq</td>\n",
       "      <td>Air</td>\n",
       "      <td>indoor</td>\n",
       "      <td>Ammonia, AD</td>\n",
       "      <td>7664-41-7</td>\n",
       "      <td>0.180141</td>\n",
       "      <td>kg</td>\n",
       "      <td>Midpoint</td>\n",
       "      <td>Country</td>\n",
       "    </tr>\n",
       "  </tbody>\n",
       "</table>\n",
       "</div>"
      ]
     },
     "execution_count": 23,
     "metadata": {},
     "output_type": "execute_result"
    }
   ],
   "execution_count": 23
  },
  {
   "cell_type": "code",
   "id": "95509480ca887c09",
   "metadata": {
    "ExecuteTime": {
     "end_time": "2025-05-15T19:32:33.147694Z",
     "start_time": "2025-05-15T19:32:32.839817Z"
    }
   },
   "source": [
    "# create a column called `location` where we extract teh location from the `Elem flow name` column\n",
    "# location are capital letters after the last comma\n",
    "cfs[\"location\"] = cfs[\"Elem flow name\"].str.extract(r',\\s*([A-Z-]+)$')\n",
    "cfs[\"location\"].unique()"
   ],
   "outputs": [
    {
     "data": {
      "text/plain": [
       "array(['AD', 'AE', 'AF', 'AG', 'AI', 'AL', 'AM', 'AO', 'AQ', 'AR', 'AS',\n",
       "       'AT', 'AU', 'AU-NSW', 'AU-QLD', 'AU-SA', 'AU-TAS', 'AU-VIC',\n",
       "       'AU-WA', 'AW', 'AZ', 'BA', 'BB', 'BD', 'BE', 'BF', 'BG', 'BH',\n",
       "       'BI', 'BJ', 'BN', 'BO', 'BR', 'BR-AC', 'BR-AL', 'BR-AM', 'BR-AP',\n",
       "       'BR-BA', 'BR-CE', 'BR-DF', 'BR-ES', 'BR-GO', 'BR-MA', 'BR-MG',\n",
       "       'BR-MS', 'BR-MT', nan, 'BR-PA', 'BR-PB', 'BR-PE', 'BR-PI', 'BR-PR',\n",
       "       'BR-RJ', 'BR-RN', 'BR-RO', 'BR-RR', 'BR-RS', 'BR-SC', 'BR-SE',\n",
       "       'BR-SP', 'BR-TO', 'BS', 'BT', 'BV', 'BW', 'BY', 'BZ', 'CA',\n",
       "       'CA-AB', 'CA-BC', 'CA-MB', 'CA-NB', 'CA-NF', 'CA-NS', 'CA-NT',\n",
       "       'CA-NU', 'CA-ON', 'CA-PE', 'CA-QC', 'CA-SK', 'CA-YK', 'CD', 'CF',\n",
       "       'CG', 'CH', 'CI', 'CK', 'CL', 'CM', 'CN', 'CN-AH', 'CN-BJ',\n",
       "       'CN-CCG', 'CN-CQ', 'CN-CSG', 'CN-ECGC', 'CN-FJ', 'CN-GD', 'CN-GS',\n",
       "       'CN-GX', 'CN-GZ', 'CN-HA', 'CN-HB', 'CN-HE', 'CN-HL', 'CN-HN',\n",
       "       'CN-HU', 'CN-JL', 'CN-JS', 'CN-JX', 'CN-LN', 'CN-NCGC', 'CN-NECG',\n",
       "       'CN-NM', 'CN-NWG', 'CN-NX', 'CN-QH', 'CN-SA', 'CN-SC', 'CN-SD',\n",
       "       'CN-SGCC', 'CN-SH', 'CN-SWG', 'CN-SX', 'CN-TJ', 'CN-XJ', 'CN-XZ',\n",
       "       'CN-YN', 'CN-ZJ', 'CO', 'CR', 'CU', 'CV', 'CW', 'CX', 'CY', 'CZ',\n",
       "       'DE', 'DJ', 'DK', 'DM', 'DO', 'DZ', 'EC', 'EE', 'EG', 'EH', 'ER',\n",
       "       'ES', 'ET', 'FI', 'FJ', 'FK', 'FM', 'FO', 'FR', 'GA', 'GB', 'GD',\n",
       "       'GE', 'GF', 'GH', 'GL', 'GM', 'GN', 'GP', 'GQ', 'GR', 'GS', 'GT',\n",
       "       'GU', 'GW', 'GY', 'HK', 'HN', 'HR', 'HT', 'HU', 'ID', 'IE', 'IL',\n",
       "       'IM', 'IN', 'IN-AP', 'IN-AR', 'IN-AS', 'IN-BR', 'IN-CH', 'IN-CT',\n",
       "       'IN-DD', 'IN-DL', 'IN-DN', 'IN-GA', 'IN-GJ', 'IN-HP', 'IN-HR',\n",
       "       'IN-JH', 'IN-JK', 'IN-KA', 'IN-KL', 'IN-MH', 'IN-ML', 'IN-MN',\n",
       "       'IN-MP', 'IN-MZ', 'IN-NL', 'IN-OR', 'IN-PB', 'IN-PY', 'IN-RJ',\n",
       "       'IN-SK', 'IN-TN', 'IN-TR', 'IN-UP', 'IN-UT', 'IN-WB', 'IO', 'IQ',\n",
       "       'IR', 'IS', 'IT', 'JE', 'JM', 'JO', 'JP', 'KE', 'KG', 'KH', 'KI',\n",
       "       'KM', 'KN', 'KP', 'KR', 'KW', 'KZ', 'LA', 'LB', 'LC', 'LI', 'LK',\n",
       "       'LR', 'LS', 'LT', 'LU', 'LV', 'LY', 'MA', 'MD', 'ME', 'MG', 'MK',\n",
       "       'ML', 'MM', 'MN', 'MQ', 'MR', 'MS', 'MT', 'MU', 'MW', 'MX', 'MY',\n",
       "       'MZ', 'NA', 'NC', 'NE', 'NG', 'NI', 'NL', 'NO', 'NP', 'NU', 'NZ',\n",
       "       'OCE', 'OM', 'PA', 'PE', 'PF', 'PG', 'PH', 'PK', 'PL', 'PR', 'PS',\n",
       "       'PT', 'PW', 'PY', 'QA', 'RAF', 'RAS', 'RE', 'RER', 'RLA', 'RME',\n",
       "       'RNA', 'RO', 'RS', 'RU', 'RW', 'SA', 'SB', 'SC', 'SD', 'SE', 'SG',\n",
       "       'SH', 'SI', 'SJ', 'SK', 'SL', 'SN', 'SO', 'SR', 'SS', 'ST', 'SV',\n",
       "       'SY', 'SZ', 'TC', 'TD', 'TF', 'TG', 'TH', 'TJ', 'TL', 'TM', 'TN',\n",
       "       'TO', 'TR', 'TT', 'TW', 'TZ', 'UA', 'UG', 'UN-OCEANIA', 'US',\n",
       "       'US-ASCC', 'US-CA', 'US-CO', 'US-FL', 'US-HICC', 'US-IA', 'US-ID',\n",
       "       'US-IL', 'US-IN', 'US-MN', 'US-MRO', 'US-ND', 'US-NE', 'US-NPCC',\n",
       "       'US-OH', 'US-OR', 'US-PR', 'US-RFC', 'US-SD', 'US-SERC', 'US-TRE',\n",
       "       'US-WA', 'US-WECC', 'US-WI', 'UY', 'UZ', 'VC', 'VE', 'VG', 'VN',\n",
       "       'VU', 'WF', 'WS', 'XK', 'YE', 'YT', 'ZA', 'ZM', 'ZW', 'BM', 'CC',\n",
       "       'GG', 'GI', 'MC', 'MH', 'MV', 'NR', 'PN', 'SM', 'TV', 'VA', 'CS',\n",
       "       'AX', 'BQ', 'KY', 'MF', 'MO', 'MP', 'NF', 'UM', 'VI', 'SAS',\n",
       "       'UN-SEASIA', 'WECC', 'ENTSO-E', 'NORDEL', 'UCTE', 'WEU', 'AU-ACT',\n",
       "       'AU-JBT', 'AU-NT', 'IN-AN', 'IN-LA', 'IN-TG', 'US-AK', 'US-AL',\n",
       "       'US-AR', 'US-AZ', 'US-CT', 'US-DC', 'US-DE', 'US-GA', 'US-HI',\n",
       "       'US-KS', 'US-KY', 'US-LA', 'US-MA', 'US-MD', 'US-ME', 'US-MI',\n",
       "       'US-MO', 'US-MS', 'US-MT', 'US-NC', 'US-NH', 'US-NJ', 'US-NM',\n",
       "       'US-NV', 'US-NY', 'US-OK', 'US-PA', 'US-RI', 'US-SC', 'US-TN',\n",
       "       'US-TX', 'US-UT', 'US-VA', 'US-VT', 'US-WV', 'US-WY'], dtype=object)"
      ]
     },
     "execution_count": 24,
     "metadata": {},
     "output_type": "execute_result"
    }
   ],
   "execution_count": 24
  },
  {
   "cell_type": "code",
   "id": "f54b34e68218bef9",
   "metadata": {
    "ExecuteTime": {
     "end_time": "2025-05-15T19:32:33.282785Z",
     "start_time": "2025-05-15T19:32:33.171072Z"
    }
   },
   "source": [
    "# fix values under `Elem flow name` column, by removing the location and the comma preceding it\n",
    "cfs[\"Elem flow name\"] = cfs[\"Elem flow name\"].str.rsplit(', ', n=1).str[0]\n",
    "cfs[\"Elem flow name\"].unique()"
   ],
   "outputs": [
    {
     "data": {
      "text/plain": [
       "array(['Ammonia', 'Ammonia, as N', 'Ammonium carbonate',\n",
       "       'Ammonium nitrate', 'Ammonium, ion', 'Nitrate', 'Nitric oxide',\n",
       "       'Nitrite', 'Nitrogen dioxide', 'Nitrogen oxides', 'Sulfate',\n",
       "       'Sulfur dioxide', 'Sulfur trioxide', 'Sulfuric acid', 'BOD', 'COD',\n",
       "       'Phosphate', 'Phosphoric acid', 'Phosphorus pentoxide',\n",
       "       'Phosphorus', 'Occupation, agriculture, mosaic (agroforestry)',\n",
       "       'Occupation, annual crops', 'Occupation, artificial areas',\n",
       "       'Occupation, forest, used', 'Occupation, pasture/meadow',\n",
       "       'Occupation, permanent crops', 'Occupation, secondary vegetation',\n",
       "       'Occupation, unspecified',\n",
       "       'Transformation, from agriculture, mosaic (agroforestry)',\n",
       "       'Transformation, from annual crops',\n",
       "       'Transformation, from artificial areas',\n",
       "       'Transformation, from forest, used',\n",
       "       'Transformation, from pasture/meadow',\n",
       "       'Transformation, from permanent crops',\n",
       "       'Transformation, from secondary vegetation',\n",
       "       'Transformation, from unspecified',\n",
       "       'Transformation, to agriculture, mosaic (agroforestry)',\n",
       "       'Transformation, to annual crops',\n",
       "       'Transformation, to artificial areas',\n",
       "       'Transformation, to forest, used',\n",
       "       'Transformation, to pasture/meadow',\n",
       "       'Transformation, to permanent crops',\n",
       "       'Transformation, to secondary vegetation',\n",
       "       'Transformation, to unspecified', 'HNO3', 'Nitric acid',\n",
       "       'Ammonia, Europe', 'Ammonia, IAI Area', 'Ammonia, IAI Area, Asia',\n",
       "       'Nitrogen oxides, Europe', 'Nitrogen oxides, IAI Area',\n",
       "       'Nitrogen oxides, IAI Area, Asia', 'Particulates, < 10 um',\n",
       "       'Particulates, < 10 um, Europe', 'Particulates, < 10 um, IAI Area',\n",
       "       'Particulates, < 10 um, IAI Area, Asia', 'Particulates, < 2.5 um',\n",
       "       'Particulates, < 2.5 um, Europe',\n",
       "       'Particulates, < 2.5 um, IAI Area',\n",
       "       'Particulates, < 2.5 um, IAI Area, Asia', 'Sulfur dioxide, Europe',\n",
       "       'Sulfur dioxide, IAI Area', 'Sulfur dioxide, IAI Area, Asia',\n",
       "       'Water', 'Water, agri',\n",
       "       'Water, cooling, unspecified natural origin', 'Water, lake',\n",
       "       'Water, non-agri', 'Water, river',\n",
       "       'Water, unspecified natural origin', 'Water, well, in ground',\n",
       "       'Acoupa weakfish', 'African moonfish', 'African sicklefish',\n",
       "       'Alaska plaice', 'Alaska pollock(=Walleye poll.)', 'Albacore',\n",
       "       'Alewife', 'Alexandria pompano', 'Alfonsino',\n",
       "       'Amer. plaice(=Long rough dab)', 'American angler', 'American eel',\n",
       "       'American shad', 'Anchoveta(=Peruvian anchovy)', 'Angler(=Monk)',\n",
       "       'Angolan dentex', 'Annular seabream', 'Antarctic toothfish',\n",
       "       'Araucanian herring', 'Argentine anchovy', 'Argentine angelshark',\n",
       "       'Argentine conger', 'Argentine croaker', 'Argentine hake',\n",
       "       'Argentine menhaden', 'Argentine seabass', 'Argentine',\n",
       "       'Argentinian sandperch', 'Arrowtooth flounder', 'Atka mackerel',\n",
       "       'Atlantic Spanish mackerel', 'Atlantic anchoveta',\n",
       "       'Atlantic bluefin tuna', 'Atlantic bonito', 'Atlantic bumper',\n",
       "       'Atlantic butterfish', 'Atlantic chub mackerel', 'Atlantic cod',\n",
       "       'Atlantic croaker', 'Atlantic emperor', 'Atlantic halibut',\n",
       "       'Atlantic herring', 'Atlantic horse mackerel', 'Atlantic mackerel',\n",
       "       'Atlantic menhaden', 'Atlantic moonfish', 'Atlantic pomfret',\n",
       "       'Atlantic sailfish', 'Atlantic salmon', 'Atlantic saury',\n",
       "       'Atlantic silverside', 'Atlantic thread herring',\n",
       "       'Atlantic tomcod', 'Atlantic white marlin', 'Atlantic wolffish',\n",
       "       'Australian pilchard', 'Australian salmon', 'Axillary seabream',\n",
       "       \"Baird's slickhead\", 'Bali sardinella', 'Ballyhoo halfbeak',\n",
       "       'Barramundi(=Giant seaperch)', 'Barred grunt', 'Bartail flathead',\n",
       "       'Basking shark', 'Bastard halibut', 'Beaked redfish',\n",
       "       'Bearded brotula', 'Benguela hake', 'Big-scale sand smelt',\n",
       "       'Bigeye grunt', 'Bigeye scad', 'Bigeye tuna',\n",
       "       'Black and Caspian Sea sprat', 'Black cardinal fish',\n",
       "       'Black cusk-eel', 'Black drum', 'Black marlin', 'Black oreo',\n",
       "       'Black pomfret', 'Black scabbardfish', 'Black seabass',\n",
       "       'Black seabream', 'Black skipjack', 'Black-streaked monocle bream',\n",
       "       'Blackbanded trevally', 'Blackbelly rosefish',\n",
       "       'Blackfin goosefish', 'Blackfin icefish', 'Blackfin tuna',\n",
       "       'Blackhead seabream', 'Blackmouth catshark', 'Blackmouth croaker',\n",
       "       'Blackspot(=red) seabream', 'Blackthroat seaperch',\n",
       "       'Blacktip shark', 'Blonde ray', 'Blotched picarel',\n",
       "       'Blue butterfish', 'Blue grenadier', 'Blue jack mackerel',\n",
       "       'Blue ling', 'Blue mackerel', 'Blue marlin', 'Blue runner',\n",
       "       'Blue shark', 'Blue skate', 'Blue whiting(=Poutassou)',\n",
       "       'Bluefin gurnard', 'Bluefish', 'Bluenose warehou',\n",
       "       'Bluespine unicornfish', 'Bluespot mullet', 'Boarfish',\n",
       "       'Bobo croaker', 'Bobo mullet', 'Boe drum', 'Bogue', 'Bombay-duck',\n",
       "       'Bonefish', 'Bonga shad', 'Brazilian codling',\n",
       "       'Brazilian flathead', 'Brazilian menhaden', 'Brazilian sardinella',\n",
       "       'Brill', 'Brushtooth lizardfish', 'Buccaneer anchovy',\n",
       "       'Bullet tuna', 'Burbot', 'Cabinza grunt', 'California pilchard',\n",
       "       'Californian anchovy', 'Canary drum(=Baardman)',\n",
       "       'Cape bonnetmouth', 'Cape dory', 'Cape elephantfish',\n",
       "       'Cape gurnard', 'Cape hakes', 'Cape horse mackerel', 'Capelin',\n",
       "       'Carpenter seabream', 'Cassava croaker', 'Castaneta', 'Cero',\n",
       "       'Chacunda gizzard shad', 'Chilean jack mackerel',\n",
       "       'Chilean silverside', 'Chinese gizzard shad',\n",
       "       'Chinook(=Spring=King) salmon', 'Chocolate hind', 'Choicy ruff',\n",
       "       'Chola guitarfish', 'Chum(=Keta=Dog) salmon', 'Cobia',\n",
       "       'Coho(=Silver) salmon', 'Common dab', 'Common dentex',\n",
       "       'Common dolphinfish', 'Common mora', 'Common pandora',\n",
       "       'Common silver-biddy', 'Common snook', 'Common sole',\n",
       "       'Common warehou', 'Congo dentex', 'Corvina drum', 'Crevalle jack',\n",
       "       'Cuckoo ray', 'Cunene horse mackerel', 'Daggertooth pike conger',\n",
       "       'Dark ghost shark', 'Demersal fish', 'Demersal fish, discarded',\n",
       "       'Devil anglerfish', 'Dogtooth tuna', 'Donkey croaker',\n",
       "       'Dorab wolf-herring', 'Dotted gizzard shad', 'Dover sole',\n",
       "       'Dusky grouper', 'Dusky smooth-hound', 'Eastern Pacific bonito',\n",
       "       'Eelpout', 'Elongate ilisha', 'English sole', 'Eulachon',\n",
       "       'European anchovy', 'European conger', 'European eel',\n",
       "       'European flounder', 'European hake', 'European perch',\n",
       "       'European pilchard(=Sardine)', 'European plaice',\n",
       "       'European seabass', 'European smelt', 'European sprat',\n",
       "       'European whitefish', 'Falkland sprat', 'False scad',\n",
       "       'False trevally', 'Flathead grey mullet', 'Flathead sole',\n",
       "       'Florida pompano', 'Forkbeard', 'Fourfinger threadfin',\n",
       "       'Freshwater bream', 'Frigate tuna', 'Gag', 'Garfish',\n",
       "       'Geelbek croaker', 'Ghost shark', 'Giant African threadfin',\n",
       "       'Giant catfish', 'Giant stargazer', 'Giant trevally',\n",
       "       'Gilthead seabream', 'Golden grey mullet', 'Golden redfish',\n",
       "       'Golden threadfin bream', 'Golden trevally',\n",
       "       'Goldstripe sardinella', 'Greasy grouper',\n",
       "       'Great Northern tilefish', 'Great barracuda', 'Greater amberjack',\n",
       "       'Greater argentine', 'Greater forkbeard', 'Greater lizardfish',\n",
       "       'Greater weever', 'Green weakfish', 'Greenback horse mackerel',\n",
       "       'Greenland cod', 'Greenland halibut', 'Grey gurnard',\n",
       "       'Grey rockcod', 'Guinean striped mojarra', 'Gulf kingcroaker',\n",
       "       'Gulf menhaden', 'Gulper shark', 'Gummy shark', 'Haddock',\n",
       "       'Haffara seabream', 'Hapuku wreckfish', 'Hilsa shad', 'Hogfish',\n",
       "       'Honeycomb grouper', 'Honnibe croaker', 'Humpback grouper',\n",
       "       'Humped rockcod', 'Humphead wrasse', 'Indian halibut',\n",
       "       'Indian mackerel', 'Indian oil sardine', 'Indian pellona',\n",
       "       'Indian scad', 'Indian threadfin', 'Indo-Pacific king mackerel',\n",
       "       'Indo-Pacific sailfish', 'Indo-Pacific tarpon', 'Irish mojarra',\n",
       "       'Jamaica weakfish', 'Japanese Spanish mackerel',\n",
       "       'Japanese anchovy', 'Japanese flyingfish', 'Japanese halfbeak',\n",
       "       'Japanese jack mackerel', 'Japanese pilchard', 'Japanese sandfish',\n",
       "       'Japanese sardinella', 'Japanese scad', 'Japanese seabass',\n",
       "       'Japanese threadfin bream', 'Javelin grunter', 'John dory',\n",
       "       \"John's snapper\", 'Kamchatka flounder', 'Kawakawa',\n",
       "       'King mackerel', 'King soldier bream', 'King weakfish', 'Kingklip',\n",
       "       \"Klunzinger's mullet\", 'Korean sandlance', 'Ladyfish',\n",
       "       'Lane snapper', 'Large yellow croaker', 'Large-eye dentex',\n",
       "       'Largehead hairtail', 'Law croaker', 'Leafscale gulper shark',\n",
       "       'Lebranche mullet', 'Leerfish', 'Lemon sole',\n",
       "       'Leopard coralgrouper', 'Lesser African threadfin', 'Ling',\n",
       "       'Lingcod', 'Little skate', 'Little tunny(=Atl.black skipj)',\n",
       "       'Longnose anchovy', 'Longtail Southern cod', 'Longtail tuna',\n",
       "       'Lorna drum', 'Lumpfish(=Lumpsucker)', 'Lusitanian cownose ray',\n",
       "       'Mackerel icefish', 'Madeiran sardinella', 'Malabar blood snapper',\n",
       "       'Mangrove red snapper', 'Masu(=Cherry) salmon', 'Meagre',\n",
       "       'Mediterranean horse mackerel', 'Megrim', 'Mi-iuy (brown) croaker',\n",
       "       'Milk shark', 'Milkfish', 'Mirror dory', 'Moonfish',\n",
       "       'Mote sculpin', 'Mud sole', 'Narrow-barred Spanish mackerel',\n",
       "       'Narrownose smooth-hound', 'Nassau grouper', 'Navaga(=Wachna cod)',\n",
       "       'New Zealand blue cod', 'New Zealand rough skate',\n",
       "       'New Zealand smooth skate', 'North Pacific hake', 'Northern pike',\n",
       "       'Northern puffer', 'Northern red snapper', 'Northern wolffish',\n",
       "       'Norway pout', 'Nursehound', 'Ocean pout', 'Ocean whitefish',\n",
       "       'Oilfish', 'Okhotsk atka mackerel', 'Opah', 'Orange roughy',\n",
       "       'Orange-spotted grouper', 'Orangespotted trevally',\n",
       "       'Pacific anchoveta', 'Pacific angelshark', 'Pacific bluefin tuna',\n",
       "       'Pacific bumper', 'Pacific chub mackerel', 'Pacific cod',\n",
       "       'Pacific cornetfish', 'Pacific guitarfish', 'Pacific halibut',\n",
       "       'Pacific herring', 'Pacific jack mackerel', 'Pacific menhaden',\n",
       "       'Pacific ocean perch', 'Pacific red snapper', 'Pacific rudderfish',\n",
       "       'Pacific sandlance', 'Pacific saury', 'Pacific sierra',\n",
       "       'Pacific thread herring', 'Panga seabream', 'Parona leatherjacket',\n",
       "       'Parore', 'Patagonian blennie', 'Patagonian grenadier',\n",
       "       'Patagonian toothfish', 'Pelagic fish', 'Pelagic fish, discarded',\n",
       "       'Peruvian banded croaker', 'Peruvian moonfish', 'Peruvian morwong',\n",
       "       'Peruvian rock seabass', 'Peruvian weakfish', 'Petrale sole',\n",
       "       'Picked dogfish', 'Pike-perch', 'Pink cusk-eel',\n",
       "       'Pink ear emperor', 'Pink(=Humpback) salmon', 'Plain bonito',\n",
       "       'Plownose chimaera', 'Polar cod', 'Pollack', 'Pontic shad',\n",
       "       'Poor cod', 'Porbeagle', 'Portuguese dogfish', 'Pouting(=Bib)',\n",
       "       'Rainbow runner', 'Rainbow sardine', 'Rainbow smelt', 'Red bigeye',\n",
       "       'Red codling', 'Red cusk-eel', 'Red drum', 'Red grouper',\n",
       "       'Red gurnard', 'Red hake', 'Red mullet', 'Red pandora',\n",
       "       'Red porgy', 'Red-eye round herring', 'Redfish',\n",
       "       'Ridge scaled rattail', 'Roach', 'Rock sole', 'Rough scad',\n",
       "       'Roughhead grenadier', 'Round sardinella', 'Roundnose grenadier',\n",
       "       'Royal threadfin', 'Rubberlip grunt', 'Rubyfish', 'Ruff',\n",
       "       'Sablefish', 'Saddled seabream', 'Saffron cod', 'Saithe(=Pollock)',\n",
       "       'Salema', 'Sand sole', 'Sand steenbras', 'Sand weakfish', 'Scup',\n",
       "       'Sea trout', 'Senegalese hake', 'Serra Spanish mackerel',\n",
       "       'Shallow-water Cape hake', 'Sheepshead', 'Shi drum',\n",
       "       'Short mackerel', 'Shortfin mako', 'Shortfin scad',\n",
       "       'Shortjaw leatherjacket', 'Shortspine thornyhead', 'Silky shark',\n",
       "       'Silver croaker', 'Silver gemfish', 'Silver grunt', 'Silver hake',\n",
       "       'Silver pomfret', 'Silver scabbardfish', 'Silver seabream',\n",
       "       'Silver sillago', 'Silver warehou', 'Silvery lightfish',\n",
       "       'Silvery pout', 'Skipjack tuna', 'Sky emperor',\n",
       "       'Small-spotted catshark', 'Smooth weakfish', 'Smooth-hound',\n",
       "       'Snoek', 'Snubnose emperor', 'So-iny (redlip) mullet',\n",
       "       'So-iuy mullet', 'Sockeye(=Red) salmon', 'Sompat grunt',\n",
       "       'South American pilchard', 'South Georgia icefish',\n",
       "       'South Pacific hake', 'Southern African anchovy',\n",
       "       'Southern blue whiting', 'Southern bluefin tuna', 'Southern hake',\n",
       "       'Southern meagre(=Mulloway)', 'Southern rays bream',\n",
       "       'Southern red snapper', 'Southern stingray',\n",
       "       'Southwest Atlantic butterfish', 'Spangled emperor',\n",
       "       'Spot croaker', 'Spotted estuary smooth-hound', 'Spotted ray',\n",
       "       'Spotted rose snapper', 'Spotted sardinella', 'Spotted seabass',\n",
       "       'Spotted sicklefish', 'Spotted weakfish', 'Spotted wolffish',\n",
       "       'Squeteague(=Gray weakfish)', 'Starry ray', 'Striped bass',\n",
       "       'Striped bonito', 'Striped marlin', 'Striped piggy',\n",
       "       'Striped weakfish', 'Stripped weakfish', 'Summer flounder',\n",
       "       'Surmullet', 'Swordfish', 'Tadpole codling', 'Talang queenfish',\n",
       "       \"Tanaka's snailfish\", 'Tarakihi', 'Tarpon', 'Tautog',\n",
       "       'Thornback ray', 'Thorntooth grenadier', 'Threadsail filefish',\n",
       "       'Three-spined stickleback', 'Tigertooth croaker', 'Toli shad',\n",
       "       'Tope shark', 'Torpedo scad', 'Totoaba', 'Tub gurnard', 'Turbot',\n",
       "       'Tusk(=Cusk)', 'Twobar seabream', 'Unicorn cod', 'Vadigo',\n",
       "       'Velvet leatherjacket', 'Vendace', 'Vermilion snapper', 'Wahoo',\n",
       "       'West African Spanish mackerel', 'West African goatfish',\n",
       "       'West African ilisha', 'West African ladyfish', 'West coast sole',\n",
       "       'Whip stingray', 'White croaker', 'White grouper', 'White grunt',\n",
       "       'White hake', 'White mullet', 'White seabream', 'White trevally',\n",
       "       'White warehou', 'White weakfish', 'White-blotched grouper',\n",
       "       'Whitefin wolf-herring', \"Whitehead's round herring\",\n",
       "       'Whitemouth croaker', 'Whitespotted conger',\n",
       "       'Whitespotted wedgefish', 'Whiting', 'Windowpane flounder',\n",
       "       'Winter flounder', 'Witch flounder', 'Wreckfish', 'Yellow croaker',\n",
       "       'Yellow snapper', 'Yellow striped flounder',\n",
       "       'Yellow-edged lyretail', 'Yellowfin seabream', 'Yellowfin sole',\n",
       "       'Yellowfin tuna', 'Yellowstripe scad', 'Yellowtail amberjack',\n",
       "       'Yellowtail flounder', 'Yellowtail scad', 'Yellowtail snapper'],\n",
       "      dtype=object)"
      ]
     },
     "execution_count": 25,
     "metadata": {},
     "output_type": "execute_result"
    }
   ],
   "execution_count": 25
  },
  {
   "metadata": {
    "ExecuteTime": {
     "end_time": "2025-05-15T19:32:33.322938Z",
     "start_time": "2025-05-15T19:32:33.292444Z"
    }
   },
   "cell_type": "code",
   "source": "cfs = cfs.loc[~cfs[\"location\"].isnull()]",
   "id": "33b99f4d1231c22d",
   "outputs": [],
   "execution_count": 26
  },
  {
   "cell_type": "code",
   "id": "c0b49d42bd6da428",
   "metadata": {
    "ExecuteTime": {
     "end_time": "2025-05-15T19:32:33.396668Z",
     "start_time": "2025-05-15T19:32:33.338713Z"
    }
   },
   "source": [
    "# Load IW <-> ecoinvent mapping\n",
    "df_map = pd.read_excel(\"ei_iw_mapping.xlsx\")"
   ],
   "outputs": [],
   "execution_count": 27
  },
  {
   "metadata": {
    "ExecuteTime": {
     "end_time": "2025-05-15T19:32:33.434707Z",
     "start_time": "2025-05-15T19:32:33.405252Z"
    }
   },
   "cell_type": "code",
   "source": [
    "# Create the defaultdict(list) mapping from 'iw name' to 'ecoinvent name'\n",
    "from collections import defaultdict\n",
    "\n",
    "iw_to_ei = defaultdict(list)\n",
    "\n",
    "# Iterate over the rows and populate the mapping\n",
    "for _, row in df_map.iterrows():\n",
    "    iw_to_ei[row['iw name']].append(row['ecoinvent name'])"
   ],
   "id": "9b7021e8bd52758c",
   "outputs": [],
   "execution_count": 28
  },
  {
   "cell_type": "code",
   "id": "2ac359b4d3a87a24",
   "metadata": {
    "ExecuteTime": {
     "end_time": "2025-05-15T19:32:33.447509Z",
     "start_time": "2025-05-15T19:32:33.444763Z"
    }
   },
   "source": "iw_to_ei[\"Ammonium, ion\"]",
   "outputs": [
    {
     "data": {
      "text/plain": [
       "['Ammonium, ion', 'Ammonium']"
      ]
     },
     "execution_count": 29,
     "metadata": {},
     "output_type": "execute_result"
    }
   ],
   "execution_count": 29
  },
  {
   "metadata": {
    "ExecuteTime": {
     "end_time": "2025-05-15T19:32:33.472780Z",
     "start_time": "2025-05-15T19:32:33.469359Z"
    }
   },
   "cell_type": "code",
   "source": "iw_to_ei[\"Occupation, forest, intensive\"]",
   "id": "ec2f4e976db75f8e",
   "outputs": [
    {
     "data": {
      "text/plain": [
       "[]"
      ]
     },
     "execution_count": 30,
     "metadata": {},
     "output_type": "execute_result"
    }
   ],
   "execution_count": 30
  },
  {
   "cell_type": "code",
   "id": "96edc564fea5ee3b",
   "metadata": {
    "ExecuteTime": {
     "end_time": "2025-05-15T19:32:33.521773Z",
     "start_time": "2025-05-15T19:32:33.505894Z"
    }
   },
   "source": [
    "# create a `ecoinvent main compartment` column, and map the\n",
    "# `Compartment` column to ecoinvent main compartments\n",
    "# using the main_comp dictionary\n",
    "\n",
    "main_comp = {\"Air\": \"air\", \"Raw\": \"natural resource\", \"Soil\": \"soil\", \"Water\": \"water\"}\n",
    "cfs[\"ecoinvent_main_compartment\"] = cfs[\"Compartment\"].map(main_comp)\n",
    "\n",
    "print(cfs.loc[cfs[\"ecoinvent_main_compartment\"].isna(), \"Compartment\"].unique())"
   ],
   "outputs": [
    {
     "name": "stdout",
     "output_type": "stream",
     "text": [
      "[]\n"
     ]
    }
   ],
   "execution_count": 31
  },
  {
   "cell_type": "code",
   "id": "9066506c7b322d58",
   "metadata": {
    "ExecuteTime": {
     "end_time": "2025-05-15T19:32:33.551761Z",
     "start_time": "2025-05-15T19:32:33.531609Z"
    }
   },
   "source": [
    "# create a `ecoinvent sub compartment` column, and map the\n",
    "# `Sub-compartment` column to ecoinvent main compartments\n",
    "# using the sub_comp dictionary\n",
    "\n",
    "sub_comp = {\n",
    "    \"(unspecified)\": \"unspecified\",\n",
    "    \"agricultural\": \"agricultural\",\n",
    "    \"biotic\": \"biotic\",\n",
    "    \"groundwater\": \"ground-\",\n",
    "    \"groundwater, long-term\": \"ground-, long-term\",\n",
    "    \"high. pop.\": \"urban air close to ground\",\n",
    "    \"in air\": \"in air\",\n",
    "    \"in ground\": \"in ground\",\n",
    "    \"in water\": \"in water\",\n",
    "    \"indoor\": \"indoor\",\n",
    "    \"industrial\": \"industrial\",\n",
    "    \"lake\": \"surface water\",\n",
    "    \"land\": \"land\",\n",
    "    \"low. pop.\": \"non-urban air or from high stacks\",\n",
    "    \"low. pop., long-term\": \"low population density, long-term\",\n",
    "    \"ocean\": \"ocean\",\n",
    "    \"river\": \"surface water\",\n",
    "    \"stratosphere + troposphere\": \"lower stratosphere + upper troposphere\"\n",
    "}\n",
    "\n",
    "cfs[\"ecoinvent_sub_compartment\"] = cfs[\"Sub-compartment\"].map(sub_comp)\n",
    "print(cfs.loc[cfs[\"ecoinvent_sub_compartment\"].isna(), \"Sub-compartment\"].unique())"
   ],
   "outputs": [
    {
     "name": "stdout",
     "output_type": "stream",
     "text": [
      "[]\n"
     ]
    }
   ],
   "execution_count": 32
  },
  {
   "cell_type": "code",
   "id": "f63326a2e888307b",
   "metadata": {
    "ExecuteTime": {
     "end_time": "2025-05-15T19:32:33.599128Z",
     "start_time": "2025-05-15T19:32:33.582945Z"
    }
   },
   "source": "\"Occupation, artificial areas\" in cfs[\"Elem flow name\"].unique()",
   "outputs": [
    {
     "data": {
      "text/plain": [
       "True"
      ]
     },
     "execution_count": 33,
     "metadata": {},
     "output_type": "execute_result"
    }
   ],
   "execution_count": 33
  },
  {
   "cell_type": "code",
   "id": "7ee0850d2e243b69",
   "metadata": {
    "ExecuteTime": {
     "end_time": "2025-05-15T19:34:36.907602Z",
     "start_time": "2025-05-15T19:32:33.609314Z"
    }
   },
   "source": [
    "import copy\n",
    "cfs_data = {}\n",
    "for c, category in enumerate(cfs[\"Impact category\"].unique()):\n",
    "    for t, impact_type in enumerate(cfs[\"MP or Damage\"].unique()):\n",
    "        subset = cfs.loc[\n",
    "            (cfs[\"Impact category\"] == category)\n",
    "            & (cfs[\"MP or Damage\"] == impact_type)\n",
    "        ]\n",
    "\n",
    "        if len(subset) == 0:\n",
    "            continue\n",
    "\n",
    "        cfs_data[f\"{category}_{impact_type.lower()}\"] = []\n",
    "\n",
    "        # iterate through rows\n",
    "        for _, row in subset.iterrows():\n",
    "            if row[\"CF value\"] != 0:\n",
    "                for ecoinvent_name in iw_to_ei[row[\"Elem flow name\"]]:\n",
    "                    data = {\n",
    "                        \"supplier\": {\n",
    "                            \"name\": ecoinvent_name,\n",
    "                            \"categories\": [row[\"ecoinvent_main_compartment\"], row[\"ecoinvent_sub_compartment\"]] if row[\"ecoinvent_sub_compartment\"] != \"unspecified\" else [row[\"ecoinvent_main_compartment\"]],\n",
    "                            \"matrix\": \"biosphere\"\n",
    "                        },\n",
    "                        \"consumer\": {\n",
    "                            \"location\": row[\"location\"],\n",
    "                            \"matrix\": \"technosphere\"\n",
    "                        },\n",
    "                        \"value\": row[\"CF value\"]\n",
    "                    }\n",
    "                    if data not in cfs_data[f\"{category}_{impact_type.lower()}\"]:\n",
    "                        cfs_data[f\"{category}_{impact_type.lower()}\"].append(data)\n"
   ],
   "outputs": [],
   "execution_count": 34
  },
  {
   "cell_type": "code",
   "id": "32793fdfb170456",
   "metadata": {
    "ExecuteTime": {
     "end_time": "2025-05-15T19:34:39.260614Z",
     "start_time": "2025-05-15T19:34:36.929277Z"
    }
   },
   "source": [
    "# save each category as a separate json file\n",
    "import json\n",
    "\n",
    "units = {\n",
    "    'Climate change, long term_midpoint':'kg CO2 eq (long)',\n",
    "    'Climate change, short term_midpoint':'kg CO2 eq (short)',\n",
    "    'Fossil and nuclear energy use_midpoint':'MJ deprived',\n",
    "    'Freshwater acidification_midpoint':'kg SO2 eq',\n",
    "    'Freshwater ecotoxicity_midpoint':'CTUe',\n",
    "    'Freshwater eutrophication_midpoint':'kg PO4 P-lim eq',\n",
    "    'Human toxicity cancer_midpoint':'CTUh',\n",
    "    'Human toxicity non-cancer_midpoint':'CTUh',\n",
    "    'Ionizing radiations_midpoint':'Bq C-14 eq',\n",
    "    'Land occupation, biodiversity_midpoint':'m2 arable land eq .yr',\n",
    "    'Land transformation, biodiversity_midpoint':'m2 arable land eq',\n",
    "    'Marine eutrophication_midpoint':'kg N N-lim eq',\n",
    "    'Mineral resources use_midpoint':'kg deprived',\n",
    "    'Ozone layer depletion_midpoint':'kg CFC-11 eq',\n",
    "    'Particulate matter formation_midpoint':'kg PM2.5 eq',\n",
    "    'Photochemical ozone formation_midpoint':'kgNOxeq',\n",
    "    'Plastics physical effects on biota_midpoint':'CTUe',\n",
    "    'Terrestrial acidification_midpoint':'kg SO2 eq',\n",
    "    'Water scarcity_midpoint':'m3 world-eq',\n",
    "    'Climate change, human health, long term_damage':'DALY',\n",
    "    'Climate change, human health, short term_damage':'DALY',\n",
    "    'Human toxicity cancer, long term_damage':'DALY',\n",
    "    'Human toxicity cancer, short term_damage':'DALY',\n",
    "    'Human toxicity non-cancer, long term_damage':'DALY',\n",
    "    'Human toxicity non-cancer, short term_damage':'DALY',\n",
    "    'Ionizing radiations, human health_damage':'DALY',\n",
    "    'Ozone layer depletion_damage':'DALY',\n",
    "    'Particulate matter formation_damage':'DALY',\n",
    "    'Photochemical ozone formation, human health_damage':'DALY',\n",
    "    'Water availability, human health_damage':'DALY',\n",
    "    'Climate change, ecosystem quality, long term_damage':'PDF.m2.yr',\n",
    "    'Climate change, ecosystem quality, short term_damage':'PDF.m2.yr',\n",
    "    'Fisheries impact_damage':'PDF.m2.yr',\n",
    "    'Freshwater acidification_damage':'PDF.m2.yr',\n",
    "    'Freshwater ecotoxicity, long term_damage':'PDF.m2.yr',\n",
    "    'Freshwater ecotoxicity, short term_damage':'PDF.m2.yr',\n",
    "    'Freshwater eutrophication_damage':'PDF.m2.yr',\n",
    "    'Ionizing radiations, ecosystem quality_damage':'PDF.m2.yr',\n",
    "    'Land occupation, biodiversity_damage':'PDF.m2.yr',\n",
    "    'Land transformation, biodiversity_damage':'PDF.m2.yr',\n",
    "    'Marine acidification, long term_damage':'PDF.m2.yr',\n",
    "    'Marine acidification, short term_damage':'PDF.m2.yr',\n",
    "    'Marine ecotoxicity, long term_damage':'PDF.m2.yr',\n",
    "    'Marine ecotoxicity, short term_damage':'PDF.m2.yr',\n",
    "    'Marine eutrophication_damage':'PDF.m2.yr',\n",
    "    'Photochemical ozone formation, ecosystem quality_damage':'PDF.m2.yr',\n",
    "    'Plastics physical effects on biota_damage':'PDF.m2.yr',\n",
    "    'Terrestrial acidification_damage':'PDF.m2.yr',\n",
    "    'Terrestrial ecotoxicity, long term_damage':'PDF.m2.yr',\n",
    "    'Terrestrial ecotoxicity, short term_damage':'PDF.m2.yr',\n",
    "    'Thermally polluted water_damage':'PDF.m2.yr',\n",
    "    'Water availability, freshwater ecosystem_damage':'PDF.m2.yr',\n",
    "    'Water availability, terrestrial ecosystem_damage':'PDF.m2.yr',\n",
    "}\n",
    "\n",
    "for category in cfs_data:\n",
    "    with open(f\"/Users/romain/GitHub/edges/edges/data/ImpactWorld+ 2.1_{category}.json\", \"w\") as f:\n",
    "        print(f\"Saving {category}\")\n",
    "        json.dump(\n",
    "            {\n",
    "                \"name\": f\"ImpactWorld+ 2.1 - {category}\",\n",
    "                \"unit\": units[category],\n",
    "                \"version\": \"2.1\",\n",
    "                \"exchanges\": cfs_data[category],\n",
    "            },\n",
    "            f,\n",
    "            indent=2\n",
    "        )"
   ],
   "outputs": [
    {
     "name": "stdout",
     "output_type": "stream",
     "text": [
      "Saving Freshwater acidification_midpoint\n",
      "Saving Freshwater acidification_damage\n",
      "Saving Freshwater ecotoxicity_midpoint\n",
      "Saving Freshwater eutrophication_midpoint\n",
      "Saving Freshwater eutrophication_damage\n",
      "Saving Land occupation, biodiversity_midpoint\n",
      "Saving Land occupation, biodiversity_damage\n",
      "Saving Land transformation, biodiversity_midpoint\n",
      "Saving Land transformation, biodiversity_damage\n",
      "Saving Marine eutrophication_midpoint\n",
      "Saving Marine eutrophication_damage\n",
      "Saving Particulate matter formation_midpoint\n",
      "Saving Particulate matter formation_damage\n",
      "Saving Photochemical ozone formation_midpoint\n",
      "Saving Terrestrial acidification_midpoint\n",
      "Saving Terrestrial acidification_damage\n",
      "Saving Water scarcity_midpoint\n",
      "Saving Photochemical ozone formation, human health_damage\n",
      "Saving Water availability, human health_damage\n",
      "Saving Freshwater ecotoxicity, long term_damage\n",
      "Saving Freshwater ecotoxicity, short term_damage\n",
      "Saving Marine ecotoxicity, long term_damage\n",
      "Saving Marine ecotoxicity, short term_damage\n",
      "Saving Photochemical ozone formation, ecosystem quality_damage\n",
      "Saving Terrestrial ecotoxicity, long term_damage\n",
      "Saving Terrestrial ecotoxicity, short term_damage\n",
      "Saving Thermally polluted water_damage\n",
      "Saving Water availability, freshwater ecosystem_damage\n",
      "Saving Water availability, terrestrial ecosystem_damage\n"
     ]
    }
   ],
   "execution_count": 35
  },
  {
   "metadata": {
    "ExecuteTime": {
     "end_time": "2025-05-15T19:28:46.721974Z",
     "start_time": "2025-05-15T19:28:46.714878Z"
    }
   },
   "cell_type": "code",
   "source": "list(cfs_data.keys())",
   "id": "b5ab39daba6202e1",
   "outputs": [
    {
     "data": {
      "text/plain": [
       "['Freshwater acidification_midpoint',\n",
       " 'Freshwater acidification_damage',\n",
       " 'Freshwater ecotoxicity_midpoint',\n",
       " 'Freshwater ecotoxicity_damage',\n",
       " 'Freshwater eutrophication_midpoint',\n",
       " 'Freshwater eutrophication_damage',\n",
       " 'Land occupation, biodiversity_midpoint',\n",
       " 'Land occupation, biodiversity_damage',\n",
       " 'Land transformation, biodiversity_midpoint',\n",
       " 'Land transformation, biodiversity_damage',\n",
       " 'Marine eutrophication_midpoint',\n",
       " 'Marine eutrophication_damage',\n",
       " 'Particulate matter formation_midpoint',\n",
       " 'Particulate matter formation_damage',\n",
       " 'Photochemical ozone formation_midpoint',\n",
       " 'Photochemical ozone formation_damage',\n",
       " 'Terrestrial acidification_midpoint',\n",
       " 'Terrestrial acidification_damage',\n",
       " 'Water scarcity_midpoint',\n",
       " 'Water scarcity_damage',\n",
       " 'Photochemical ozone formation, human health_midpoint',\n",
       " 'Photochemical ozone formation, human health_damage',\n",
       " 'Water availability, human health_midpoint',\n",
       " 'Water availability, human health_damage',\n",
       " 'Freshwater ecotoxicity, long term_midpoint',\n",
       " 'Freshwater ecotoxicity, long term_damage',\n",
       " 'Freshwater ecotoxicity, short term_midpoint',\n",
       " 'Freshwater ecotoxicity, short term_damage',\n",
       " 'Marine ecotoxicity, long term_midpoint',\n",
       " 'Marine ecotoxicity, long term_damage',\n",
       " 'Marine ecotoxicity, short term_midpoint',\n",
       " 'Marine ecotoxicity, short term_damage',\n",
       " 'Photochemical ozone formation, ecosystem quality_midpoint',\n",
       " 'Photochemical ozone formation, ecosystem quality_damage',\n",
       " 'Terrestrial ecotoxicity, long term_midpoint',\n",
       " 'Terrestrial ecotoxicity, long term_damage',\n",
       " 'Terrestrial ecotoxicity, short term_midpoint',\n",
       " 'Terrestrial ecotoxicity, short term_damage',\n",
       " 'Thermally polluted water_midpoint',\n",
       " 'Thermally polluted water_damage',\n",
       " 'Water availability, freshwater ecosystem_midpoint',\n",
       " 'Water availability, freshwater ecosystem_damage',\n",
       " 'Water availability, terrestrial ecosystem_midpoint',\n",
       " 'Water availability, terrestrial ecosystem_damage']"
      ]
     },
     "execution_count": 21,
     "metadata": {},
     "output_type": "execute_result"
    }
   ],
   "execution_count": 21
  },
  {
   "cell_type": "code",
   "id": "28f07d661e0dd916",
   "metadata": {
    "ExecuteTime": {
     "end_time": "2025-03-28T08:16:07.544229Z",
     "start_time": "2025-03-28T08:16:07.484085Z"
    }
   },
   "source": [
    "import json\n",
    "\n",
    "#load json\n",
    "with open(\"/Users/romain/Github/edges/edges/data/ImpactWorld+ 2.1_Freshwater acidification_midpoint.json\") as f:\n",
    "    data = json.load(f)\n",
    "\n",
    "def get_key(record):\n",
    "    supplier = record[\"supplier\"]\n",
    "    consumer = record[\"consumer\"]\n",
    "    # If order doesn't matter in categories, sort them:\n",
    "    categories = tuple(sorted(supplier[\"categories\"]))\n",
    "    return (\n",
    "        supplier[\"name\"],\n",
    "        categories,\n",
    "        supplier[\"matrix\"],\n",
    "        consumer[\"location\"],\n",
    "        consumer[\"matrix\"]\n",
    "    )\n",
    "\n",
    "seen_keys = set()\n",
    "duplicates = []\n",
    "for rec in data:\n",
    "    key = get_key(rec)\n",
    "    if key in seen_keys:\n",
    "        duplicates.append(rec)\n",
    "    else:\n",
    "        seen_keys.add(key)\n",
    "\n",
    "if duplicates:\n",
    "    print(\"Duplicates found:\")\n",
    "    for dup in duplicates:\n",
    "        print(dup)"
   ],
   "outputs": [
    {
     "name": "stdout",
     "output_type": "stream",
     "text": [
      "Duplicates found:\n"
     ]
    }
   ],
   "execution_count": 20
  },
  {
   "metadata": {},
   "cell_type": "code",
   "outputs": [],
   "execution_count": null,
   "source": "",
   "id": "b94a2f21a48a1595"
  }
 ],
 "metadata": {
  "kernelspec": {
   "display_name": "Python 3 (ipykernel)",
   "language": "python",
   "name": "python3"
  },
  "language_info": {
   "codemirror_mode": {
    "name": "ipython",
    "version": 3
   },
   "file_extension": ".py",
   "mimetype": "text/x-python",
   "name": "python",
   "nbconvert_exporter": "python",
   "pygments_lexer": "ipython3",
   "version": "3.11.10"
  }
 },
 "nbformat": 4,
 "nbformat_minor": 5
}

{
 "cells": [
  {
   "cell_type": "markdown",
   "metadata": {},
   "source": [
    "# Use examples of [edges](https://github.com/romainsacchi/edges)\n",
    "\n",
    "Author: [romainsacchi](https://github.com/romainsacchi)\n",
    "\n",
    "This notebook shows examples on how to use `edge` to use exchange-specific\n",
    "characterization factors in the characterization matrix of `bw2calc`.\n",
    "\n",
    "## Requirements\n",
    "\n",
    "* **Pyhton 3.10 or higher (up to 3.11) is highly recommended**"
   ]
  },
  {
   "cell_type": "markdown",
   "metadata": {},
   "source": [
    "# Use case with [brightway2](https://brightway.dev/)\n",
    "\n",
    "`brightway2` is an open source LCA framework for Python.\n",
    "To use `premise` from `brightway2`, it requires that you have an activated `brightway2` project with a `biosphere3` database as well as an [ecoinvent](https://ecoinvent.prg) v.3 cut-off or consequential database registered in that project. Please refer to the brightway [documentation](https://brightway.dev) if you do not know how to create a project and install ecoinvent."
   ]
  },
  {
   "cell_type": "markdown",
   "metadata": {},
   "source": [
    "## Example 1: simple biosphere-technosphere LCIA"
   ]
  },
  {
   "cell_type": "code",
   "metadata": {},
   "source": [
    "from edges import EdgeLCIA, get_available_methods, setup_package_logging\n",
    "import bw2data"
   ],
   "outputs": [],
   "execution_count": null
  },
  {
   "cell_type": "markdown",
   "metadata": {},
   "source": [
    "One can simply build its own LCIA file.\n",
    "Let's consider the following LCIA file (saved under `lcia_example_1.json`):"
   ]
  },
  {
   "cell_type": "code",
   "metadata": {},
   "source": [
    "method = {\n",
    "  \"name\": \"Example LCIA Method\",\n",
    "    \"version\": \"1.0\",\n",
    "    \"description\": \"Example LCIA method for greenhouse gas emissions\",\n",
    "    \"unit\": \"kg CO2e\",\n",
    "    \"strategies\": [\n",
    "        \"map_exchanges\"\n",
    "    ],\n",
    "  \"exchanges\": [\n",
    "    {\n",
    "      \"supplier\": {\n",
    "        \"name\": \"Carbon dioxide\",\n",
    "        \"operator\": \"startswith\",\n",
    "        \"matrix\": \"biosphere\"\n",
    "      },\n",
    "      \"consumer\": {\n",
    "        \"matrix\": \"technosphere\",\n",
    "      },\n",
    "      \"value\": 1.0\n",
    "    },\n",
    "    {\n",
    "      \"supplier\": {\n",
    "        \"name\": \"Methane, fossil\",\n",
    "        \"operator\": \"contains\",\n",
    "        \"matrix\": \"biosphere\"\n",
    "      },\n",
    "      \"consumer\": {\n",
    "        \"matrix\": \"technosphere\",\n",
    "      },\n",
    "      \"value\": 28.0\n",
    "    },\n",
    "    {\n",
    "      \"supplier\": {\n",
    "        \"name\": \"Dinitrogen monoxide\",\n",
    "        \"operator\": \"equals\",\n",
    "        \"matrix\": \"biosphere\"\n",
    "      },\n",
    "      \"consumer\": {\n",
    "        \"matrix\": \"technosphere\",\n",
    "      },\n",
    "      \"value\": 265.0\n",
    "    }\n",
    "  ]\n",
    "}"
   ],
   "outputs": [],
   "execution_count": null
  },
  {
   "cell_type": "code",
   "metadata": {},
   "source": [
    "# activate the bw project\n",
    "#bw2data.projects.set_current(\"ecoinvent-3.11-cutoff\")\n",
    "bw2data.projects.set_current(\"bw25_ei310\")\n",
    "#act = bw2data.Database(\"ecoinvent-3.11-cutoff\").random()\n",
    "act = bw2data.Database(\"ecoinvent-3.10.1-cutoff\").random()\n",
    "act"
   ],
   "outputs": [],
   "execution_count": null
  },
  {
   "cell_type": "code",
   "metadata": {},
   "source": [
    "LCA = EdgeLCIA(\n",
    "    demand={act: 1},\n",
    "    method=method,\n",
    ")\n",
    "LCA.lci()\n",
    "\n",
    "LCA.apply_strategies()\n",
    "#LCA.map_exchanges()\n",
    "\n",
    "LCA.evaluate_cfs()\n",
    "LCA.lcia()\n",
    "LCA.score"
   ],
   "outputs": [],
   "execution_count": null
  },
  {
   "cell_type": "markdown",
   "metadata": {},
   "source": [
    "We can print some statistics:"
   ]
  },
  {
   "cell_type": "code",
   "metadata": {},
   "source": [
    "LCA.statistics()"
   ],
   "outputs": [],
   "execution_count": null
  },
  {
   "cell_type": "markdown",
   "metadata": {},
   "source": [
    "### Generate dataframe of characterization factors used\n",
    "\n",
    "The `generate_cf_table` method generates a dataframe of the characterization factors used in the calculation. One can see the characterization factors used for each exchange in the system."
   ]
  },
  {
   "cell_type": "code",
   "metadata": {},
   "source": [
    "df = LCA.generate_cf_table(include_unmatched=False)"
   ],
   "outputs": [],
   "execution_count": null
  },
  {
   "cell_type": "code",
   "metadata": {},
   "source": [
    "# we can see under the \"CF\" column\n",
    "# the characterization factors used for each exchange in the system\n",
    "df"
   ],
   "outputs": [],
   "execution_count": null
  },
  {
   "cell_type": "code",
   "metadata": {},
   "source": [
    "df.groupby(\"supplier name\")[\"CF\"].mean()"
   ],
   "outputs": [],
   "execution_count": null
  },
  {
   "cell_type": "markdown",
   "metadata": {},
   "source": [
    "## Example 2: biosphere-technosphere LCIA with parameters and scenarios"
   ]
  },
  {
   "cell_type": "markdown",
   "metadata": {},
   "source": [
    "In this example, the evaluation of the CFs for `methane` and `dinitrogen monoxide` is a **symbolic expression depending on the value of the parameter `co2ppm`**. It is a simple approximation of the GWP100 factor of these gases as a function of the atmospheric CO₂ concentration."
   ]
  },
  {
   "cell_type": "code",
   "metadata": {},
   "source": [
    "method = {\n",
    "  \"name\": \"Example LCIA Method\",\n",
    "    \"version\": \"1.0\",\n",
    "    \"description\": \"Example LCIA method for greenhouse gas emissions\",\n",
    "    \"unit\": \"kg CO2e\",\n",
    "    \"exchanges\": [\n",
    "      {\n",
    "        \"supplier\": {\n",
    "          \"name\": \"Carbon dioxide\",\n",
    "          \"operator\": \"startswith\",\n",
    "          \"matrix\": \"biosphere\"\n",
    "        },\n",
    "        \"consumer\": {\n",
    "          \"matrix\": \"technosphere\",\n",
    "        },\n",
    "        \"value\": \"1.0\"\n",
    "      },\n",
    "      {\n",
    "        \"supplier\": {\n",
    "          \"name\": \"Methane, fossil\",\n",
    "          \"operator\": \"contains\",\n",
    "          \"matrix\": \"biosphere\"\n",
    "        },\n",
    "        \"consumer\": {\n",
    "          \"matrix\": \"technosphere\",\n",
    "        },\n",
    "        \"value\": \"28 * (1 + 0.001 * (co2ppm - 410))\"\n",
    "      },\n",
    "      {\n",
    "        \"supplier\": {\n",
    "          \"name\": \"Dinitrogen monoxide\",\n",
    "          \"operator\": \"equals\",\n",
    "          \"matrix\": \"biosphere\"\n",
    "        },\n",
    "        \"consumer\": {\n",
    "          \"matrix\": \"technosphere\",\n",
    "        },\n",
    "        \"value\": \"265 * (1 + 0.0005 * (co2ppm - 410))\"\n",
    "      }\n",
    "  ]\n",
    "}"
   ],
   "outputs": [],
   "execution_count": null
  },
  {
   "cell_type": "code",
   "metadata": {},
   "source": [
    "import bw2data\n",
    "from edges import EdgeLCIA\n",
    "\n",
    "# Select an activity from the LCA database\n",
    "#bw2data.projects.set_current(\"ecoinvent-3.11-cutoff\")\n",
    "bw2data.projects.set_current(\"bw25_ei310\")\n",
    "act = bw2data.Database(\"ecoinvent-3.10.1-cutoff\").random()\n",
    "print(act)\n",
    "\n",
    "# Define scenario parameters (e.g., atmospheric CO₂ concentration and time horizon)\n",
    "params = {\n",
    "    \"some scenario\": {\n",
    "         \"co2ppm\": {\n",
    "             \"2020\": 410,\n",
    "             \"2050\": 450,\n",
    "             \"2100\": 500},\n",
    "        \"h\": {\n",
    "            \"2020\": 100,\n",
    "            \"2050\": 100,\n",
    "            \"2100\": 100\n",
    "        }\n",
    "    }\n",
    "}\n",
    "\n",
    "# Initialize LCIA\n",
    "lcia = EdgeLCIA(\n",
    "   demand={act: 1},\n",
    "   method=method,\n",
    "   parameters=params\n",
    ")\n",
    "\n",
    "# Perform inventory calculations (once)\n",
    "lcia.lci()\n",
    "\n",
    "# Map exchanges to CF entries (once)\n",
    "lcia.map_exchanges()\n",
    "\n",
    "\n",
    "# Run scenarios efficiently\n",
    "results = []\n",
    "for idx in {\"2020\", \"2050\", \"2100\"}:\n",
    "    lcia.evaluate_cfs(idx)\n",
    "    lcia.lcia()\n",
    "    #df = lcia.generate_cf_table()\n",
    "\n",
    "    #scenario_result = {\n",
    "    #    \"scenario\": idx,\n",
    "    #    \"co2ppm\": params[\"some scenario\"][\"co2ppm\"][idx],\n",
    "    #    \"score\": lcia.score,\n",
    "    #    \"CF_table\": df\n",
    "    #}\n",
    "    #results.append(scenario_result)\n",
    "\n",
    "    print(f\"Scenario (CO₂ {params['some scenario']['co2ppm'][idx]} ppm): Impact = {lcia.score}\")"
   ],
   "outputs": [],
   "execution_count": null
  },
  {
   "cell_type": "markdown",
   "metadata": {},
   "source": [
    "## Example 3: biosphere-technosphere LCIA with function call"
   ]
  },
  {
   "cell_type": "markdown",
   "metadata": {},
   "source": [
    "In this example, the evaluation of the CFs for `methane` and `dinitrogen monoxide` is returned by a call to an external function `GWP`.\n",
    "\n",
    "We first create a function that will claculate the GWP of a given over a given tine horizon.\n",
    "Inspired from the IPCC AR5, 2021."
   ]
  },
  {
   "cell_type": "code",
   "metadata": {},
   "source": [
    "import numpy as np\n",
    "# Physical constants\n",
    "M_atm = 5.15e18  # kg, total mass of Earth's atmosphere\n",
    "M_air = 28.96    # g/mol, average molar mass of air\n",
    "\n",
    "# Gas-specific molecular weights (g/mol)\n",
    "M_gas = {\n",
    "    'CO2': 44.01,\n",
    "    'CH4': 16.04,\n",
    "    'N2O': 44.013\n",
    "}\n",
    "\n",
    "# IPCC concentration parameters (Myhre et al. 1998 / IPCC AR6)\n",
    "RF_COEFF = {\n",
    "    'CH4': 0.036,  # W·m⁻²·ppb⁻½ for CH4\n",
    "    'N2O': 0.12    # W·m⁻²·ppb⁻½ for N2O\n",
    "}\n",
    "\n",
    "# Reference atmospheric concentrations (IPCC AR6, ~2019)\n",
    "C_REF = {\n",
    "    'CH4': 1866,  # ppb\n",
    "    'N2O': 332    # ppb\n",
    "}\n",
    "\n",
    "# Indirect forcing factor for methane (IPCC AR6)\n",
    "INDIRECT_FACTOR = {\n",
    "    'CH4': 1.65,\n",
    "    'N2O': 1.0\n",
    "}\n",
    "\n",
    "# Gas-specific atmospheric lifetimes (years, IPCC AR6)\n",
    "TAU_GAS = {\n",
    "    'CH4': 11.8,\n",
    "    'N2O': 109\n",
    "}\n",
    "\n",
    "# CO2 impulse response function parameters (IPCC AR5/AR6)\n",
    "CO2_IRF = {\n",
    "    'a0': 0.2173,\n",
    "    'a': [0.2240, 0.2824, 0.2763],\n",
    "    'tau': [394.4, 36.54, 4.304]\n",
    "}\n",
    "\n",
    "# Convert concentration-based radiative efficiency to mass-based (W·m⁻²·kg⁻¹)\n",
    "def convert_ppb_to_mass_rf(a_ppb, gas):\n",
    "    return a_ppb * (M_atm / M_gas[gas]) * (M_air / 1e9)\n",
    "\n",
    "# Calculate concentration-dependent radiative efficiency\n",
    "def radiative_efficiency_concentration(gas, concentration_ppb):\n",
    "    alpha = RF_COEFF[gas]\n",
    "    return (alpha / (2 * np.sqrt(concentration_ppb))) * INDIRECT_FACTOR[gas]\n",
    "\n",
    "# AGWP for CO2 (mass-based)\n",
    "def AGWP_CO2(H):\n",
    "    integral_CO2 = CO2_IRF['a0'] * H + sum(\n",
    "        a * tau * (1 - np.exp(-H / tau))\n",
    "        for a, tau in zip(CO2_IRF['a'], CO2_IRF['tau'])\n",
    "    )\n",
    "    am_CO2 = convert_ppb_to_mass_rf(1.37e-5, 'CO2')  # fixed IPCC radiative efficiency for CO2\n",
    "    return am_CO2 * integral_CO2\n",
    "\n",
    "# AGWP for gas at given concentration\n",
    "def AGWP_gas(gas, H, concentration_ppb):\n",
    "    aa_gas = radiative_efficiency_concentration(gas, concentration_ppb)\n",
    "    am_gas = convert_ppb_to_mass_rf(aa_gas, gas)\n",
    "    tau_gas = TAU_GAS[gas]\n",
    "    return am_gas * tau_gas * (1 - np.exp(-H / tau_gas))\n",
    "\n",
    "# Calculate concentration-dependent GWP\n",
    "def GWP(gas, H, concentration_ppb):\n",
    "    AGWP_g = AGWP_gas(gas, H, concentration_ppb)\n",
    "    AGWP_ref = AGWP_CO2(H)\n",
    "    return AGWP_g / AGWP_ref\n"
   ],
   "outputs": [],
   "execution_count": null
  },
  {
   "cell_type": "code",
   "metadata": {},
   "source": [
    "GWP('CH4', 100, 1911)"
   ],
   "outputs": [],
   "execution_count": null
  },
  {
   "cell_type": "code",
   "metadata": {},
   "source": [
    "method = {\n",
    "  \"name\": [\n",
    "    \"Parameterized GWP method\"\n",
    "  ],\n",
    "  \"unit\": \"kg CO2-eq\",\n",
    "  \"description\": \"Parameterized GWP factors.\",\n",
    "  \"version\": \"1.0\",\n",
    "  \"exchanges\": [\n",
    "    {\n",
    "      \"supplier\": {\n",
    "        \"name\": \"Carbon dioxide\",\n",
    "        \"operator\": \"startswith\",\n",
    "        \"matrix\": \"biosphere\"\n",
    "      },\n",
    "      \"consumer\": {\n",
    "        \"matrix\": \"technosphere\",\n",
    "      },\n",
    "      \"value\": \"1.0\"\n",
    "    },\n",
    "    {\n",
    "        \"supplier\": {\n",
    "          \"name\": \"Methane, fossil\",\n",
    "          \"operator\": \"contains\",\n",
    "          \"matrix\": \"biosphere\"\n",
    "        },\n",
    "        \"consumer\": {\n",
    "          \"matrix\": \"technosphere\",\n",
    "        },\n",
    "        \"value\": \"GWP('CH4',H, C_CH4)\"\n",
    "      },\n",
    "    {\n",
    "      \"supplier\": {\n",
    "        \"name\": \"Dinitrogen monoxide\",\n",
    "        \"operator\": \"equals\",\n",
    "        \"matrix\": \"biosphere\"\n",
    "      },\n",
    "      \"consumer\": {\n",
    "        \"matrix\": \"technosphere\",\n",
    "      },\n",
    "      \"value\": \"GWP('N2O',H, C_N2O)\"\n",
    "    }\n",
    "  ],\n",
    "  \"scenarios\": {\n",
    "    \"RCP1.9\": {\n",
    "      \"C_CH4\": {\n",
    "        \"2020\": 1866,\n",
    "        \"2050\": 1428,\n",
    "        \"2080\": 1150,\n",
    "        \"2100\": 1036\n",
    "      },\n",
    "      \"C_N2O\": {\n",
    "        \"2020\": 332,\n",
    "        \"2050\": 344,\n",
    "        \"2080\": 350,\n",
    "        \"2100\": 354\n",
    "      },\n",
    "      \"H\": {\n",
    "        \"2020\": 100,\n",
    "        \"2050\": 100,\n",
    "        \"2080\": 100,\n",
    "        \"2100\": 100\n",
    "      }\n",
    "    },\n",
    "    \"RCP2.6\": {\n",
    "      \"C_CH4\": {\n",
    "        \"2020\": 1866,\n",
    "        \"2050\": 1519,\n",
    "        \"2080\": 1197,\n",
    "        \"2100\": 1056\n",
    "      },\n",
    "      \"C_N2O\": {\n",
    "        \"2020\": 332,\n",
    "        \"2050\": 344,\n",
    "        \"2080\": 349,\n",
    "        \"2100\": 354\n",
    "      },\n",
    "      \"H\": {\n",
    "        \"2020\": 100,\n",
    "        \"2050\": 100,\n",
    "        \"2080\": 100,\n",
    "        \"2100\": 100\n",
    "      }\n",
    "    },\n",
    "    \"RCP4.5\": {\n",
    "      \"C_CH4\": {\n",
    "        \"2020\": 1866,\n",
    "        \"2050\": 2020,\n",
    "        \"2080\": 1779,\n",
    "        \"2100\": 1683\n",
    "      },\n",
    "      \"C_N2O\": {\n",
    "        \"2020\": 332,\n",
    "        \"2050\": 356,\n",
    "        \"2080\": 373,\n",
    "        \"2100\": 377\n",
    "      },\n",
    "      \"H\": {\n",
    "        \"2020\": 100,\n",
    "        \"2050\": 100,\n",
    "        \"2080\": 100,\n",
    "        \"2100\": 100\n",
    "      }\n",
    "    },\n",
    "    \"RCP8.5\": {\n",
    "      \"C_CH4\": {\n",
    "        \"2020\": 1866,\n",
    "        \"2050\": 2446,\n",
    "        \"2080\": 2652,\n",
    "        \"2100\": 2415\n",
    "      },\n",
    "      \"C_N2O\": {\n",
    "        \"2020\": 332,\n",
    "        \"2050\": 358,\n",
    "        \"2080\": 380,\n",
    "        \"2100\": 392\n",
    "      },\n",
    "      \"H\": {\n",
    "        \"2020\": 100,\n",
    "        \"2050\": 100,\n",
    "        \"2080\": 100,\n",
    "        \"2100\": 100\n",
    "      }\n",
    "    }\n",
    "  }\n",
    "}\n",
    "\n"
   ],
   "outputs": [],
   "execution_count": null
  },
  {
   "cell_type": "code",
   "metadata": {},
   "source": [
    "# we declare the function\n",
    "allowed_funcs = {\"GWP\": GWP}"
   ],
   "outputs": [],
   "execution_count": null
  },
  {
   "cell_type": "code",
   "metadata": {},
   "source": [
    "all_results = []  # To collect results\n",
    "\n",
    "# Initialize LCIA\n",
    "lcia = EdgeLCIA(\n",
    "    demand={act: 1},\n",
    "    method=method,\n",
    "    allowed_functions=allowed_funcs # we declare the functions to call.\n",
    ")\n",
    "\n",
    "# Usual LCIA steps\n",
    "lcia.lci()\n",
    "lcia.map_exchanges()\n",
    "\n",
    "results = []\n",
    "# Loop over scenarios\n",
    "for scenario in [\n",
    "    \"RCP1.9\",\n",
    "    \"RCP2.6\",\n",
    "    \"RCP4.5\",\n",
    "    \"RCP8.5\",\n",
    "]:\n",
    "    for year in [\n",
    "        \"2020\",\n",
    "        \"2050\",\n",
    "        \"2080\",\n",
    "        \"2100\",\n",
    "    ]:\n",
    "        print(scenario, year)\n",
    "        lcia.evaluate_cfs(scenario=scenario, scenario_idx=year)\n",
    "        lcia.lcia()\n",
    "        # df = lcia.generate_cf_table()\n",
    "\n",
    "        #scenario_result = {\n",
    "        #    \"year\": int(year),\n",
    "        #    \"rcp\": scenario,\n",
    "        #    \"score\": lcia.score,\n",
    "        #    \"CF_table\": df\n",
    "        #}\n",
    "        #all_results.append(scenario_result)\n",
    "\n",
    "        print(f\"Year {year} | {scenario}: Impact = {lcia.score}\")"
   ],
   "outputs": [],
   "execution_count": null
  },
  {
   "cell_type": "markdown",
   "metadata": {},
   "source": [
    "## Example 5: biosphere-technosphere LCIA with geographies and uncertainty"
   ]
  },
  {
   "cell_type": "markdown",
   "metadata": {},
   "source": [
    "In this example, we try to characterize water withdrawals, and uncertainty information."
   ]
  },
  {
   "cell_type": "code",
   "metadata": {},
   "source": [
    "from edges import EdgeLCIA, get_available_methods, setup_package_logging\n",
    "import bw2data"
   ],
   "outputs": [],
   "execution_count": null
  },
  {
   "cell_type": "code",
   "metadata": {},
   "source": [
    "method = {\n",
    "  \"name\": \"Example LCIA Method\",\n",
    "    \"version\": \"1.0\",\n",
    "    \"description\": \"Example LCIA method for water withdrawals\",\n",
    "    \"unit\": \"m3 freshwater\",\n",
    "    \"strategies\": [\n",
    "        \"map_exchanges\",\n",
    "        \"map_contained_locations\"\n",
    "    ],\n",
    "  \"exchanges\": [\n",
    "    {\n",
    "         \"supplier\": {\n",
    "            \"name\": \"Water\",\n",
    "            \"matrix\": \"biosphere\"\n",
    "         },\n",
    "         \"consumer\": {\n",
    "            \"location\": \"RER\",\n",
    "            \"matrix\": \"technosphere\",\n",
    "         },\n",
    "         \"value\": 17,\n",
    "         \"weight\": 213938000,\n",
    "         \"uncertainty\": {\n",
    "            \"distribution\": \"discrete_empirical\",\n",
    "            \"parameters\": {\n",
    "               \"values\": [\n",
    "                  6.87,\n",
    "                  7.56,\n",
    "                  13.4,\n",
    "                  15.5,\n",
    "                  18.7,\n",
    "                  19.1,\n",
    "                  21.5,\n",
    "                  21.8,\n",
    "                  27.6,\n",
    "                  29.8,\n",
    "                  31.0,\n",
    "                  33.5,\n",
    "                  33.7,\n",
    "                  34.6\n",
    "               ],\n",
    "               \"weights\": [\n",
    "                  0.153,\n",
    "                  0.324,\n",
    "                  0.015,\n",
    "                  0.038,\n",
    "                  0.079,\n",
    "                  0.008,\n",
    "                  0.0,\n",
    "                  0.075,\n",
    "                  0.074,\n",
    "                  0.0,\n",
    "                  0.008,\n",
    "                  0.013,\n",
    "                  0.08,\n",
    "                  0.131\n",
    "               ]\n",
    "            }\n",
    "         }\n",
    "      },\n",
    "      {\n",
    "         \"supplier\": {\n",
    "            \"name\": \"Water\",\n",
    "            \"matrix\": \"biosphere\"\n",
    "         },\n",
    "         \"consumer\": {\n",
    "            \"location\": \"FR\",\n",
    "            \"matrix\": \"technosphere\",\n",
    "            \"classifications\": {\n",
    "               \"CPC\": [\n",
    "                  \"01\"\n",
    "               ]\n",
    "            }\n",
    "         },\n",
    "         \"value\": 10,\n",
    "         \"weight\": 213938000,\n",
    "         \"uncertainty\": {\n",
    "            \"distribution\": \"triang\",\n",
    "            \"parameters\": {\n",
    "               \"loc\": 11,\n",
    "               \"minimum\": 0.752,\n",
    "               \"maximum\": 50.6\n",
    "            }\n",
    "         }\n",
    "      }\n",
    "  ]\n",
    "}"
   ],
   "outputs": [],
   "execution_count": null
  },
  {
   "cell_type": "code",
   "metadata": {},
   "source": [
    "# bw2data.projects.set_current(\"ecoinvent-3.11-cutoff-bw25\")\n",
    "bw2data.projects.set_current(\"bw25_ei310\")\n",
    "act = bw2data.Database(\"ecoinvent-3.10.1-cutoff\").random()\n",
    "act"
   ],
   "outputs": [],
   "execution_count": null
  },
  {
   "cell_type": "code",
   "metadata": {},
   "source": [
    "LCA = EdgeLCIA(\n",
    "    demand={act: 1},\n",
    "    method=method,\n",
    ")\n",
    "LCA.lci()\n",
    "\n",
    "LCA.apply_strategies()\n",
    "#LCA.map_exchanges()\n",
    "\n",
    "LCA.evaluate_cfs()\n",
    "LCA.lcia()\n",
    "LCA.score"
   ],
   "outputs": [],
   "execution_count": null
  },
  {
   "cell_type": "code",
   "metadata": {},
   "source": [
    "df = LCA.generate_cf_table()"
   ],
   "outputs": [],
   "execution_count": null
  },
  {
   "cell_type": "code",
   "metadata": {},
   "source": [
    "df"
   ],
   "outputs": [],
   "execution_count": null
  },
  {
   "cell_type": "code",
   "metadata": {},
   "source": "df.groupby(\"consumer location\")[\"CF\"].unique()",
   "outputs": [],
   "execution_count": null
  },
  {
   "metadata": {},
   "cell_type": "code",
   "source": [
    "df.loc[\n",
    "    (df[\"consumer location\"] == \"FR\")\n",
    "]"
   ],
   "outputs": [],
   "execution_count": null
  },
  {
   "cell_type": "code",
   "metadata": {},
   "source": [
    "act = [x for x in bw2data.Database(\"ecoinvent-3.10.1-cutoff\") if x['location']=='FR' and \"electricity production, hydro\" in x[\"name\"]][0]\n",
    "print(act)\n",
    "LCA = EdgeLCIA(\n",
    "    demand={act: 1},\n",
    "    method=method,\n",
    "    use_distributions=True,\n",
    "    iterations=10_000\n",
    ")\n",
    "LCA.lci()\n",
    "\n",
    "LCA.apply_strategies()\n",
    "#LCA.map_exchanges()\n",
    "\n",
    "LCA.evaluate_cfs()\n",
    "LCA.lcia()\n",
    "LCA.score"
   ],
   "outputs": [],
   "execution_count": null
  },
  {
   "cell_type": "code",
   "metadata": {},
   "source": [
    "type(LCA.score.data)"
   ],
   "outputs": [],
   "execution_count": null
  },
  {
   "cell_type": "code",
   "metadata": {},
   "source": [
    "import matplotlib.pyplot as plt\n",
    "plt.hist(LCA.score.data, bins=50)"
   ],
   "outputs": [],
   "execution_count": null
  },
  {
   "cell_type": "code",
   "metadata": {},
   "source": [
    "df = LCA.generate_cf_table()"
   ],
   "outputs": [],
   "execution_count": null
  },
  {
   "cell_type": "code",
   "metadata": {},
   "source": [
    "df"
   ],
   "outputs": [],
   "execution_count": null
  },
  {
   "cell_type": "markdown",
   "metadata": {},
   "source": [
    "### Bonus: Sankey diagram"
   ]
  },
  {
   "cell_type": "code",
   "metadata": {},
   "source": [
    "from edges import SupplyChain"
   ],
   "outputs": [],
   "execution_count": null
  },
  {
   "cell_type": "code",
   "metadata": {},
   "source": [
    "sc = SupplyChain(\n",
    "    activity=act,\n",
    "    method=method,\n",
    "    amount=1,\n",
    "    level=8,\n",
    "    cutoff=0.01,\n",
    "    cutoff_basis=\"total\",\n",
    "    collapse_markets=False,\n",
    ")\n",
    "total = sc.bootstrap()\n",
    "df, total_score, ref_amount = sc.calculate()\n",
    "\n",
    "sc.save_html(\n",
    "    df,\n",
    "    path=\"example_sankey.html\",\n",
    "    height_max=1000,\n",
    "    width_max=2400,\n",
    "    node_instance_mode=\"by_parent\",  # or \"by_child_level\" / \"by_level\"\n",
    "    node_thickness=12\n",
    ")"
   ],
   "outputs": [],
   "execution_count": null
  },
  {
   "cell_type": "markdown",
   "metadata": {},
   "source": [
    "## Example 6: technosphere-technosphere LCIA"
   ]
  },
  {
   "cell_type": "markdown",
   "metadata": {},
   "source": [
    "In this example, we want to characterize intermediate product exchanges.\n",
    "Here, we are interested in the amount of **secondary copper** flowing in the system."
   ]
  },
  {
   "cell_type": "code",
   "metadata": {},
   "source": [
    "from edges import EdgeLCIA, get_available_methods, setup_package_logging\n",
    "import bw2data"
   ],
   "outputs": [],
   "execution_count": null
  },
  {
   "cell_type": "code",
   "metadata": {},
   "source": [
    "method = {\n",
    "  \"name\": \"ecoinvent 3.10/3.11 - RELICS - Copper, secondary\",\n",
    "  \"unit\": \"kg\",\n",
    "  \"version\": \"1.0\",\n",
    "  \"strategies\": [\n",
    "       \"map_exchanges\"\n",
    "   ],\n",
    "  \"exchanges\": [\n",
    "    {\n",
    "      \"supplier\": {\n",
    "        \"name\": \"treatment of\",\n",
    "        \"reference product\": \"copper, cathode\",\n",
    "        \"operator\": \"startswith\",\n",
    "        \"matrix\": \"technosphere\",\n",
    "        \"excludes\": [\n",
    "          \"market\"\n",
    "        ]\n",
    "      },\n",
    "      \"consumer\": {\n",
    "        \"matrix\": \"technosphere\"\n",
    "      },\n",
    "      \"value\": 1.0\n",
    "    },\n",
    "    {\n",
    "        \"supplier\": {\n",
    "          \"name\": \"treatment of\",\n",
    "          \"reference product\": \"copper, anode\",\n",
    "          \"operator\": \"startswith\",\n",
    "          \"matrix\": \"technosphere\",\n",
    "          \"excludes\": [\n",
    "            \"market\",\n",
    "            \"slime\"\n",
    "          ]\n",
    "        },\n",
    "        \"consumer\": {\n",
    "          \"matrix\": \"technosphere\"\n",
    "        },\n",
    "        \"value\": 1.0\n",
    "      }\n",
    "  ]\n",
    "}"
   ],
   "outputs": [],
   "execution_count": null
  },
  {
   "cell_type": "code",
   "metadata": {},
   "source": [
    "bw2data.projects.set_current(\"ecoinvent-3.11-cutoff-bw25\")\n",
    "act = bw2data.Database(\"ecoinvent-3.11-cutoff\").random()\n",
    "act"
   ],
   "outputs": [],
   "execution_count": null
  },
  {
   "cell_type": "code",
   "metadata": {},
   "source": [
    "LCA = EdgeLCIA(\n",
    "    demand={act: 1000},\n",
    "    method=method,\n",
    ")\n",
    "LCA.lci()\n",
    "\n",
    "LCA.apply_strategies()\n",
    "#LCA.map_exchanges()\n",
    "\n",
    "LCA.evaluate_cfs()\n",
    "LCA.lcia()\n",
    "LCA.score"
   ],
   "outputs": [],
   "execution_count": null
  },
  {
   "cell_type": "code",
   "metadata": {},
   "source": [
    "df = LCA.generate_cf_table()"
   ],
   "outputs": [],
   "execution_count": null
  },
  {
   "cell_type": "code",
   "metadata": {},
   "source": [
    "df"
   ],
   "outputs": [],
   "execution_count": null
  },
  {
   "cell_type": "code",
   "metadata": {},
   "source": [],
   "outputs": [],
   "execution_count": null
  }
 ],
 "metadata": {
  "kernelspec": {
   "display_name": "Python 3 (ipykernel)",
   "language": "python",
   "name": "python3"
  },
  "language_info": {
   "codemirror_mode": {
    "name": "ipython",
    "version": 3
   },
   "file_extension": ".py",
   "mimetype": "text/x-python",
   "name": "python",
   "nbconvert_exporter": "python",
   "pygments_lexer": "ipython3",
   "version": "3.11.13"
  }
 },
 "nbformat": 4,
 "nbformat_minor": 4
}

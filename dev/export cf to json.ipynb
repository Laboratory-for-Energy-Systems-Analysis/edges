{
 "cells": [
  {
   "metadata": {
    "ExecuteTime": {
     "end_time": "2024-12-11T09:38:28.255432Z",
     "start_time": "2024-12-11T09:38:28.252439Z"
    }
   },
   "cell_type": "code",
   "source": [
    "import csv\n",
    "fp = \"/Users/romain/GitHub/edges/edges/data/aware_cf.csv\" "
   ],
   "id": "8aa2f92e784ad7f6",
   "outputs": [],
   "execution_count": 2
  },
  {
   "metadata": {
    "ExecuteTime": {
     "end_time": "2024-12-11T09:38:28.801658Z",
     "start_time": "2024-12-11T09:38:28.794947Z"
    }
   },
   "cell_type": "code",
   "source": [
    "with open(fp) as f:\n",
    "    reader = csv.reader(f)\n",
    "    data = [row for row in reader]"
   ],
   "id": "feaaec471e9cd63c",
   "outputs": [],
   "execution_count": 3
  },
  {
   "metadata": {
    "ExecuteTime": {
     "end_time": "2024-12-11T09:38:29.290214Z",
     "start_time": "2024-12-11T09:38:29.288012Z"
    }
   },
   "cell_type": "code",
   "source": "cfs = {}",
   "id": "f04326c0cb3e2bf5",
   "outputs": [],
   "execution_count": 4
  },
  {
   "metadata": {
    "ExecuteTime": {
     "end_time": "2024-12-11T09:40:20.641515Z",
     "start_time": "2024-12-11T09:40:20.639375Z"
    }
   },
   "cell_type": "code",
   "source": "categories = data[0][2:]",
   "id": "d2c6e01032867d16",
   "outputs": [],
   "execution_count": 7
  },
  {
   "metadata": {
    "ExecuteTime": {
     "end_time": "2024-12-11T10:52:21.802298Z",
     "start_time": "2024-12-11T10:52:21.595119Z"
    }
   },
   "cell_type": "code",
   "source": [
    "for c, category in enumerate(categories):\n",
    "    cfs[category] = []\n",
    "    print(category)\n",
    "    for row in data[1:]:\n",
    "        val = float(row[c+2])\n",
    "        \n",
    "        if val == 0:\n",
    "            continue\n",
    "            \n",
    "        cfs[category].extend([\n",
    "            {\n",
    "                \"supplier\": {\n",
    "                    \"name\": \"Water\", \"categories\": ('water',), \"matrix\": \"biosphere\"\n",
    "                }, \"consumer\": {\n",
    "                    \"location\": row[1], \"matrix\": \"technosphere\"\n",
    "                }, \"value\": val * -1\n",
    "            },\n",
    "            {\n",
    "                \"supplier\": {\n",
    "                    \"name\": \"Water\", \"categories\":\t('water', 'surface water'), \"matrix\": \"biosphere\"\n",
    "                }, \"consumer\": {\n",
    "                    \"location\": row[1], \"matrix\": \"technosphere\"\n",
    "                }, \"value\": val * -1\n",
    "            },\n",
    "            {\n",
    "                \"supplier\": {\n",
    "                    \"name\": \"Water\", \"categories\":\t('water', 'ground-'), \"matrix\": \"biosphere\"\n",
    "                }, \"consumer\": {\n",
    "                    \"location\": row[1], \"matrix\": \"technosphere\"\n",
    "                }, \"value\": val * -1\n",
    "            },\n",
    "            {\n",
    "                \"supplier\": {\n",
    "                    \"name\": \"Water, cooling, unspecified natural origin\", \"categories\": ('natural resource', 'in water'), \"matrix\": \"biosphere\"\n",
    "                }, \"consumer\": {\n",
    "                    \"location\": row[1], \"matrix\": \"technosphere\"\n",
    "                }, \"value\": val\n",
    "            },\n",
    "            {\n",
    "                \"supplier\": {\n",
    "                    \"name\": \"Water, in air\", \"categories\":\t('natural resource', 'in air'), \"matrix\": \"biosphere\"\n",
    "                }, \"consumer\": {\n",
    "                    \"location\": row[1], \"matrix\": \"technosphere\"\n",
    "                }, \"value\": val\n",
    "            },\n",
    "            {\n",
    "                \"supplier\": {\n",
    "                    \"name\": \"Water, lake\", \"categories\":\t('natural resource', 'in water'), \"matrix\": \"biosphere\"\n",
    "                }, \"consumer\": {\n",
    "                    \"location\": row[1], \"matrix\": \"technosphere\"\n",
    "                }, \"value\": val\n",
    "            },\n",
    "            {\n",
    "                \"supplier\": {\n",
    "                    \"name\": \"Water, river\", \"categories\":\t('natural resource', 'in water'), \"matrix\": \"biosphere\"\n",
    "                }, \"consumer\": {\n",
    "                    \"location\": row[1], \"matrix\": \"technosphere\"\n",
    "                }, \"value\": val\n",
    "            },\n",
    "            {\n",
    "                \"supplier\": {\n",
    "                    \"name\": \"Water, turbine use, unspecified natural origin\", \"categories\": \t('natural resource', 'in water'), \"matrix\": \"biosphere\"\n",
    "                }, \"consumer\": {\n",
    "                    \"location\": row[1], \"matrix\": \"technosphere\"\n",
    "                }, \"value\": val\n",
    "            },\n",
    "            {\n",
    "                \"supplier\": {\n",
    "                    \"name\": \"Water, unspecified natural origin\", \"categories\": \t('natural resource', 'in water'), \"matrix\": \"biosphere\"\n",
    "                }, \"consumer\": {\n",
    "                    \"location\": row[1], \"matrix\": \"technosphere\"\n",
    "                }, \"value\": val\n",
    "            },\n",
    "            {\n",
    "                \"supplier\": {\n",
    "                    \"name\": \"Water, well, in ground\", \"categories\": ('natural resource', 'in water'), \"matrix\": \"biosphere\"\n",
    "                }, \"consumer\": {\n",
    "                    \"location\": row[1], \"matrix\": \"technosphere\"\n",
    "                }, \"value\": val\n",
    "            },\n",
    "        ])\n"
   ],
   "id": "a9b4d8225cf08c3e",
   "outputs": [
    {
     "name": "stdout",
     "output_type": "stream",
     "text": [
      "Agg_CF_irri_yearly\n",
      "Agg_CF_non_irri_yearly\n",
      "Agg_CF_unspecified_yearly\n",
      "Agg_CF_irri_jan\n",
      "Agg_CF_irri_feb\n",
      "Agg_CF_irri_mar\n",
      "Agg_CF_irri_apr\n",
      "Agg_CF_irri_may\n",
      "Agg_CF_irri_jun\n",
      "Agg_CF_irri_jul\n",
      "Agg_CF_irri_aug\n",
      "Agg_CF_irri_sep\n",
      "Agg_CF_irri_oct\n",
      "Agg_CF_irri_nov\n",
      "Agg_CF_irri_dec\n",
      "Agg_CF_non_irri_jan\n",
      "Agg_CF_non_irri_feb\n",
      "Agg_CF_non_irri_mar\n",
      "Agg_CF_non_irri_apr\n",
      "Agg_CF_non_irri_may\n",
      "Agg_CF_non_irri_jun\n",
      "Agg_CF_non_irri_jul\n",
      "Agg_CF_non_irri_aug\n",
      "Agg_CF_non_irri_sep\n",
      "Agg_CF_non_irri_oct\n",
      "Agg_CF_non_irri_nov\n",
      "Agg_CF_non_irri_dec\n",
      "Agg_CF_unspecified_jan\n",
      "Agg_CF_unspecified_feb\n",
      "Agg_CF_unspecified_mar\n",
      "Agg_CF_unspecified_apr\n",
      "Agg_CF_unspecified_may\n",
      "Agg_CF_unspecified_jun\n",
      "Agg_CF_unspecified_jul\n",
      "Agg_CF_unspecified_aug\n",
      "Agg_CF_unspecified_sep\n",
      "Agg_CF_unspecified_oct\n",
      "Agg_CF_unspecified_nov\n",
      "Agg_CF_unspecified_dec\n"
     ]
    }
   ],
   "execution_count": 13
  },
  {
   "metadata": {
    "ExecuteTime": {
     "end_time": "2024-12-11T10:52:24.444510Z",
     "start_time": "2024-12-11T10:52:23.606072Z"
    }
   },
   "cell_type": "code",
   "source": [
    "# save each category as a separate json file\n",
    "import json\n",
    "\n",
    "for category in categories:\n",
    "    with open(f\"/Users/romain/GitHub/edges/edges/data/AWARE 1.2c_{category.replace('_CF', '').replace('Agg', 'Country')}.json\", \"w\") as f:\n",
    "        print(f\"Saving {category.replace('_CF', '').replace('Agg', 'Country')}\")\n",
    "        json.dump(cfs[category], f)\n",
    "        \n",
    "        "
   ],
   "id": "535f1ad518615c5b",
   "outputs": [
    {
     "name": "stdout",
     "output_type": "stream",
     "text": [
      "Saving Country_irri_yearly\n",
      "Saving Country_non_irri_yearly\n",
      "Saving Country_unspecified_yearly\n",
      "Saving Country_irri_jan\n",
      "Saving Country_irri_feb\n",
      "Saving Country_irri_mar\n",
      "Saving Country_irri_apr\n",
      "Saving Country_irri_may\n",
      "Saving Country_irri_jun\n",
      "Saving Country_irri_jul\n",
      "Saving Country_irri_aug\n",
      "Saving Country_irri_sep\n",
      "Saving Country_irri_oct\n",
      "Saving Country_irri_nov\n",
      "Saving Country_irri_dec\n",
      "Saving Country_non_irri_jan\n",
      "Saving Country_non_irri_feb\n",
      "Saving Country_non_irri_mar\n",
      "Saving Country_non_irri_apr\n",
      "Saving Country_non_irri_may\n",
      "Saving Country_non_irri_jun\n",
      "Saving Country_non_irri_jul\n",
      "Saving Country_non_irri_aug\n",
      "Saving Country_non_irri_sep\n",
      "Saving Country_non_irri_oct\n",
      "Saving Country_non_irri_nov\n",
      "Saving Country_non_irri_dec\n",
      "Saving Country_unspecified_jan\n",
      "Saving Country_unspecified_feb\n",
      "Saving Country_unspecified_mar\n",
      "Saving Country_unspecified_apr\n",
      "Saving Country_unspecified_may\n",
      "Saving Country_unspecified_jun\n",
      "Saving Country_unspecified_jul\n",
      "Saving Country_unspecified_aug\n",
      "Saving Country_unspecified_sep\n",
      "Saving Country_unspecified_oct\n",
      "Saving Country_unspecified_nov\n",
      "Saving Country_unspecified_dec\n"
     ]
    }
   ],
   "execution_count": 14
  },
  {
   "metadata": {},
   "cell_type": "code",
   "outputs": [],
   "execution_count": null,
   "source": "",
   "id": "9072c909a11d2da1"
  }
 ],
 "metadata": {
  "kernelspec": {
   "display_name": "Python 3",
   "language": "python",
   "name": "python3"
  },
  "language_info": {
   "codemirror_mode": {
    "name": "ipython",
    "version": 2
   },
   "file_extension": ".py",
   "mimetype": "text/x-python",
   "name": "python",
   "nbconvert_exporter": "python",
   "pygments_lexer": "ipython2",
   "version": "2.7.6"
  }
 },
 "nbformat": 4,
 "nbformat_minor": 5
}

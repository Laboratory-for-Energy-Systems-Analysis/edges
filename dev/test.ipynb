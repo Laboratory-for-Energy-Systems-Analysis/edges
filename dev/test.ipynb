{
 "cells": [
  {
   "cell_type": "code",
   "id": "initial_id",
   "metadata": {
    "collapsed": true,
    "ExecuteTime": {
     "end_time": "2025-03-15T17:39:09.803385Z",
     "start_time": "2025-03-15T17:39:07.714732Z"
    }
   },
   "source": [
    "import bw2data, bw2calc, bw2io\n",
    "from edges import EdgeLCIA, get_available_methods\n",
    "from bw2analyzer.contribution import ContributionAnalysis"
   ],
   "outputs": [],
   "execution_count": 1
  },
  {
   "metadata": {
    "ExecuteTime": {
     "end_time": "2025-03-15T17:39:10.037862Z",
     "start_time": "2025-03-15T17:39:09.806819Z"
    }
   },
   "cell_type": "code",
   "source": "bw2data.projects.set_current(\"ecoinvent-3.10-cutoff\")",
   "id": "5dfdb1946f981316",
   "outputs": [],
   "execution_count": 2
  },
  {
   "metadata": {
    "ExecuteTime": {
     "end_time": "2025-03-15T17:39:10.110139Z",
     "start_time": "2025-03-15T17:39:10.088828Z"
    }
   },
   "cell_type": "code",
   "source": [
    "act = bw2data.Database(\"ecoinvent-3.10.1-cutoff\").random()\n",
    "#act = [a for a in bw2data.Database(\"ecoinvent-3.10-cutoff\") if \"NMC\" in #a[\"name\"]][0]\n",
    "act"
   ],
   "id": "f6fdb8103539902c",
   "outputs": [
    {
     "data": {
      "text/plain": [
       "'natural gas, high pressure, import from RU' (cubic meter, IT, None)"
      ]
     },
     "execution_count": 3,
     "metadata": {},
     "output_type": "execute_result"
    }
   ],
   "execution_count": 3
  },
  {
   "metadata": {
    "ExecuteTime": {
     "end_time": "2025-03-15T17:41:18.513420Z",
     "start_time": "2025-03-15T17:41:13.686895Z"
    }
   },
   "cell_type": "code",
   "source": [
    "#method = ('GeoPolRisk', '2024')\n",
    "method = ('AWARE 1.2c', 'Country', 'non', 'irri', 'yearly')\n",
    "LCA = EdgeLCIA(\n",
    "    demand={act: 1},\n",
    "    method=method,\n",
    "    filepath=\"/Users/romain/GitHub/edges/edges/data/AWARE 1.2c_Country_irri_jun.json\"\n",
    ")\n",
    "LCA.lci()\n",
    "LCA.lcia()\n",
    "LCA.score"
   ],
   "id": "34fbc8a561ae57cb",
   "outputs": [
    {
     "name": "stdout",
     "output_type": "stream",
     "text": [
      "Identifying eligible exchanges...\n"
     ]
    },
    {
     "name": "stderr",
     "output_type": "stream",
     "text": [
      "100%|██████████| 2590/2590 [00:00<00:00, 66258.71it/s]\n"
     ]
    },
    {
     "name": "stdout",
     "output_type": "stream",
     "text": [
      "Handling static regions...\n"
     ]
    },
    {
     "name": "stderr",
     "output_type": "stream",
     "text": [
      "100%|██████████| 5026/5026 [00:00<00:00, 62354.35it/s]\n"
     ]
    },
    {
     "name": "stdout",
     "output_type": "stream",
     "text": [
      "Handling dynamic regions...\n"
     ]
    },
    {
     "name": "stderr",
     "output_type": "stream",
     "text": [
      "100%|██████████| 5026/5026 [00:02<00:00, 2415.32it/s]\n"
     ]
    },
    {
     "name": "stdout",
     "output_type": "stream",
     "text": [
      "Handling unmatched locations...\n"
     ]
    },
    {
     "name": "stderr",
     "output_type": "stream",
     "text": [
      "100%|██████████| 115/115 [00:00<00:00, 44268.08it/s]\n"
     ]
    },
    {
     "name": "stdout",
     "output_type": "stream",
     "text": [
      "Handling remaining exchanges...\n"
     ]
    },
    {
     "name": "stderr",
     "output_type": "stream",
     "text": [
      "100%|██████████| 115/115 [00:00<00:00, 1115.48it/s]"
     ]
    },
    {
     "name": "stdout",
     "output_type": "stream",
     "text": [
      "+---------------------------+--------------------------------------------+\n",
      "|          Activity         | natural gas, high pressure, import from RU |\n",
      "|        Method name        |  ('AWARE 1.2c', 'Country', 'non', 'irri',  |\n",
      "|                           |                 'yearly')                  |\n",
      "|         Data file         |        AWARE 1.2c_Country_irri_jun         |\n",
      "|    Unique CFs in method   |                    598                     |\n",
      "|      Unique CFs used      |                    560                     |\n",
      "| CFs without eligible exc. |                    1931                    |\n",
      "|     Exc. characterized    |                    8877                    |\n",
      "|    Exc. uncharacterized   |                     0                      |\n",
      "+---------------------------+--------------------------------------------+\n"
     ]
    },
    {
     "name": "stderr",
     "output_type": "stream",
     "text": [
      "\n"
     ]
    },
    {
     "data": {
      "text/plain": [
       "0.035216378918725866"
      ]
     },
     "execution_count": 7,
     "metadata": {},
     "output_type": "execute_result"
    }
   ],
   "execution_count": 7
  },
  {
   "metadata": {
    "ExecuteTime": {
     "end_time": "2025-03-13T12:07:23.976311Z",
     "start_time": "2025-03-13T12:07:19.315335Z"
    }
   },
   "cell_type": "code",
   "source": "LCA.generate_cf_table().to_excel(\"df.xlsx\")",
   "id": "b0d04e502fddab85",
   "outputs": [
    {
     "name": "stdout",
     "output_type": "stream",
     "text": [
      "Matrix type: biosphere\n"
     ]
    }
   ],
   "execution_count": 8
  },
  {
   "metadata": {
    "ExecuteTime": {
     "end_time": "2025-03-13T11:32:15.968542Z",
     "start_time": "2025-03-13T11:32:15.903143Z"
    }
   },
   "cell_type": "code",
   "source": "set([x[\"supplier\"][\"name\"] for x in LCA.ignored_method_exchanges])",
   "id": "791d371ddd317c5f",
   "outputs": [
    {
     "data": {
      "text/plain": [
       "{'Water',\n",
       " 'Water, cooling, unspecified natural origin',\n",
       " 'Water, in air',\n",
       " 'Water, lake',\n",
       " 'Water, river',\n",
       " 'Water, turbine use, unspecified natural origin',\n",
       " 'Water, unspecified natural origin',\n",
       " 'Water, well, in ground'}"
      ]
     },
     "execution_count": 6,
     "metadata": {},
     "output_type": "execute_result"
    }
   ],
   "execution_count": 6
  },
  {
   "metadata": {
    "ExecuteTime": {
     "end_time": "2025-03-13T11:24:29.740003Z",
     "start_time": "2025-03-13T11:24:27.371772Z"
    }
   },
   "cell_type": "code",
   "source": "LCA.generate_cf_table()",
   "id": "a6184f20f6cb9f89",
   "outputs": [
    {
     "name": "stdout",
     "output_type": "stream",
     "text": [
      "Matrix type: biosphere\n"
     ]
    },
    {
     "data": {
      "text/plain": [
       "                                   supplier name  \\\n",
       "0     Water, cooling, unspecified natural origin   \n",
       "1     Water, cooling, unspecified natural origin   \n",
       "2     Water, cooling, unspecified natural origin   \n",
       "3     Water, cooling, unspecified natural origin   \n",
       "4     Water, cooling, unspecified natural origin   \n",
       "...                                          ...   \n",
       "4923                               Water, in air   \n",
       "4924                               Water, in air   \n",
       "4925                               Water, in air   \n",
       "4926                               Water, in air   \n",
       "4927                               Water, in air   \n",
       "\n",
       "               supplier categories  \\\n",
       "0     (natural resource, in water)   \n",
       "1     (natural resource, in water)   \n",
       "2     (natural resource, in water)   \n",
       "3     (natural resource, in water)   \n",
       "4     (natural resource, in water)   \n",
       "...                            ...   \n",
       "4923    (natural resource, in air)   \n",
       "4924    (natural resource, in air)   \n",
       "4925    (natural resource, in air)   \n",
       "4926    (natural resource, in air)   \n",
       "4927    (natural resource, in air)   \n",
       "\n",
       "                                          consumer name  \\\n",
       "0     particleboard production, uncoated, from virgi...   \n",
       "1                 heat and power co-generation, lignite   \n",
       "2                                   atrazine production   \n",
       "3                                 sheet rolling, copper   \n",
       "4         phosphoric acid production, dihydrate process   \n",
       "...                                                 ...   \n",
       "4923                         soy-based resin production   \n",
       "4924                         soy-based resin production   \n",
       "4925                                 clinker production   \n",
       "4926            particleboard production, cement bonded   \n",
       "4927                  liquid packaging board production   \n",
       "\n",
       "                             consumer reference product consumer location  \\\n",
       "0                               particleboard, uncoated               RoW   \n",
       "1                             electricity, high voltage                SI   \n",
       "2                                              atrazine               RoW   \n",
       "3                                 sheet rolling, copper               RoW   \n",
       "4     phosphoric acid, fertiliser grade, without wat...                MA   \n",
       "...                                                 ...               ...   \n",
       "4923                       polyester resin, unsaturated                US   \n",
       "4924                       polyester resin, unsaturated               RoW   \n",
       "4925                                            clinker               RoW   \n",
       "4926                       particleboard, cement bonded               RER   \n",
       "4927                                               bark               RoW   \n",
       "\n",
       "            amount         CF        impact  \n",
       "0     6.544631e-11  20.179399  1.320667e-09  \n",
       "1     1.453419e-07   1.087201  1.580158e-07  \n",
       "2     4.228744e-12  19.819034  8.380961e-11  \n",
       "3     1.290820e-10  19.819034  2.558280e-09  \n",
       "4     5.123237e-08  54.031045  2.768139e-06  \n",
       "...            ...        ...           ...  \n",
       "4923  4.729868e-16   9.087076  4.298067e-15  \n",
       "4924  1.378576e-15  20.175187  2.781303e-14  \n",
       "4925  1.625316e-09  20.627229  3.352577e-08  \n",
       "4926  8.635607e-19   6.750246  5.829247e-18  \n",
       "4927  2.185130e-18  19.819034  4.330716e-17  \n",
       "\n",
       "[4928 rows x 8 columns]"
      ],
      "text/html": [
       "<div>\n",
       "<style scoped>\n",
       "    .dataframe tbody tr th:only-of-type {\n",
       "        vertical-align: middle;\n",
       "    }\n",
       "\n",
       "    .dataframe tbody tr th {\n",
       "        vertical-align: top;\n",
       "    }\n",
       "\n",
       "    .dataframe thead th {\n",
       "        text-align: right;\n",
       "    }\n",
       "</style>\n",
       "<table border=\"1\" class=\"dataframe\">\n",
       "  <thead>\n",
       "    <tr style=\"text-align: right;\">\n",
       "      <th></th>\n",
       "      <th>supplier name</th>\n",
       "      <th>supplier categories</th>\n",
       "      <th>consumer name</th>\n",
       "      <th>consumer reference product</th>\n",
       "      <th>consumer location</th>\n",
       "      <th>amount</th>\n",
       "      <th>CF</th>\n",
       "      <th>impact</th>\n",
       "    </tr>\n",
       "  </thead>\n",
       "  <tbody>\n",
       "    <tr>\n",
       "      <th>0</th>\n",
       "      <td>Water, cooling, unspecified natural origin</td>\n",
       "      <td>(natural resource, in water)</td>\n",
       "      <td>particleboard production, uncoated, from virgi...</td>\n",
       "      <td>particleboard, uncoated</td>\n",
       "      <td>RoW</td>\n",
       "      <td>6.544631e-11</td>\n",
       "      <td>20.179399</td>\n",
       "      <td>1.320667e-09</td>\n",
       "    </tr>\n",
       "    <tr>\n",
       "      <th>1</th>\n",
       "      <td>Water, cooling, unspecified natural origin</td>\n",
       "      <td>(natural resource, in water)</td>\n",
       "      <td>heat and power co-generation, lignite</td>\n",
       "      <td>electricity, high voltage</td>\n",
       "      <td>SI</td>\n",
       "      <td>1.453419e-07</td>\n",
       "      <td>1.087201</td>\n",
       "      <td>1.580158e-07</td>\n",
       "    </tr>\n",
       "    <tr>\n",
       "      <th>2</th>\n",
       "      <td>Water, cooling, unspecified natural origin</td>\n",
       "      <td>(natural resource, in water)</td>\n",
       "      <td>atrazine production</td>\n",
       "      <td>atrazine</td>\n",
       "      <td>RoW</td>\n",
       "      <td>4.228744e-12</td>\n",
       "      <td>19.819034</td>\n",
       "      <td>8.380961e-11</td>\n",
       "    </tr>\n",
       "    <tr>\n",
       "      <th>3</th>\n",
       "      <td>Water, cooling, unspecified natural origin</td>\n",
       "      <td>(natural resource, in water)</td>\n",
       "      <td>sheet rolling, copper</td>\n",
       "      <td>sheet rolling, copper</td>\n",
       "      <td>RoW</td>\n",
       "      <td>1.290820e-10</td>\n",
       "      <td>19.819034</td>\n",
       "      <td>2.558280e-09</td>\n",
       "    </tr>\n",
       "    <tr>\n",
       "      <th>4</th>\n",
       "      <td>Water, cooling, unspecified natural origin</td>\n",
       "      <td>(natural resource, in water)</td>\n",
       "      <td>phosphoric acid production, dihydrate process</td>\n",
       "      <td>phosphoric acid, fertiliser grade, without wat...</td>\n",
       "      <td>MA</td>\n",
       "      <td>5.123237e-08</td>\n",
       "      <td>54.031045</td>\n",
       "      <td>2.768139e-06</td>\n",
       "    </tr>\n",
       "    <tr>\n",
       "      <th>...</th>\n",
       "      <td>...</td>\n",
       "      <td>...</td>\n",
       "      <td>...</td>\n",
       "      <td>...</td>\n",
       "      <td>...</td>\n",
       "      <td>...</td>\n",
       "      <td>...</td>\n",
       "      <td>...</td>\n",
       "    </tr>\n",
       "    <tr>\n",
       "      <th>4923</th>\n",
       "      <td>Water, in air</td>\n",
       "      <td>(natural resource, in air)</td>\n",
       "      <td>soy-based resin production</td>\n",
       "      <td>polyester resin, unsaturated</td>\n",
       "      <td>US</td>\n",
       "      <td>4.729868e-16</td>\n",
       "      <td>9.087076</td>\n",
       "      <td>4.298067e-15</td>\n",
       "    </tr>\n",
       "    <tr>\n",
       "      <th>4924</th>\n",
       "      <td>Water, in air</td>\n",
       "      <td>(natural resource, in air)</td>\n",
       "      <td>soy-based resin production</td>\n",
       "      <td>polyester resin, unsaturated</td>\n",
       "      <td>RoW</td>\n",
       "      <td>1.378576e-15</td>\n",
       "      <td>20.175187</td>\n",
       "      <td>2.781303e-14</td>\n",
       "    </tr>\n",
       "    <tr>\n",
       "      <th>4925</th>\n",
       "      <td>Water, in air</td>\n",
       "      <td>(natural resource, in air)</td>\n",
       "      <td>clinker production</td>\n",
       "      <td>clinker</td>\n",
       "      <td>RoW</td>\n",
       "      <td>1.625316e-09</td>\n",
       "      <td>20.627229</td>\n",
       "      <td>3.352577e-08</td>\n",
       "    </tr>\n",
       "    <tr>\n",
       "      <th>4926</th>\n",
       "      <td>Water, in air</td>\n",
       "      <td>(natural resource, in air)</td>\n",
       "      <td>particleboard production, cement bonded</td>\n",
       "      <td>particleboard, cement bonded</td>\n",
       "      <td>RER</td>\n",
       "      <td>8.635607e-19</td>\n",
       "      <td>6.750246</td>\n",
       "      <td>5.829247e-18</td>\n",
       "    </tr>\n",
       "    <tr>\n",
       "      <th>4927</th>\n",
       "      <td>Water, in air</td>\n",
       "      <td>(natural resource, in air)</td>\n",
       "      <td>liquid packaging board production</td>\n",
       "      <td>bark</td>\n",
       "      <td>RoW</td>\n",
       "      <td>2.185130e-18</td>\n",
       "      <td>19.819034</td>\n",
       "      <td>4.330716e-17</td>\n",
       "    </tr>\n",
       "  </tbody>\n",
       "</table>\n",
       "<p>4928 rows × 8 columns</p>\n",
       "</div>"
      ]
     },
     "execution_count": 7,
     "metadata": {},
     "output_type": "execute_result"
    }
   ],
   "execution_count": 7
  },
  {
   "metadata": {
    "ExecuteTime": {
     "end_time": "2024-12-15T17:50:34.701932Z",
     "start_time": "2024-12-15T17:50:34.696160Z"
    }
   },
   "cell_type": "code",
   "source": "LCA.ignored_locations",
   "id": "7961940618b7aca6",
   "outputs": [
    {
     "data": {
      "text/plain": [
       "set()"
      ]
     },
     "execution_count": 7,
     "metadata": {},
     "output_type": "execute_result"
    }
   ],
   "execution_count": 7
  },
  {
   "metadata": {
    "ExecuteTime": {
     "end_time": "2025-03-12T15:31:19.780115Z",
     "start_time": "2025-03-12T15:31:19.775152Z"
    }
   },
   "cell_type": "code",
   "source": [
    "method = ('AWARE 1.2c', 'Country', 'mixed', 'yearly')\n",
    "convmethod = (\n",
    "  # 'ecoinvent-3.10',\n",
    "  'EF v3.1 EN15804',\n",
    "  'water use',\n",
    "  'user deprivation potential (deprivation-weighted water consumption)')"
   ],
   "id": "92b1b43be6023d7a",
   "outputs": [],
   "execution_count": 9
  },
  {
   "metadata": {
    "ExecuteTime": {
     "end_time": "2025-03-12T15:31:21.118432Z",
     "start_time": "2025-03-12T15:31:20.271537Z"
    }
   },
   "cell_type": "code",
   "source": [
    "import bw2calc\n",
    "\n",
    "convLCA = bw2calc.LCA({act: 1}, convmethod)\n",
    "convLCA.lci()\n",
    "convLCA.lcia()\n",
    "convLCA.score"
   ],
   "id": "e4bc7f7d309a36bf",
   "outputs": [
    {
     "name": "stderr",
     "output_type": "stream",
     "text": [
      "/opt/homebrew/Caskroom/miniforge/base/envs/bw2/lib/python3.11/site-packages/scikits/umfpack/umfpack.py:736: UmfpackWarning: (almost) singular matrix! (estimated cond. number: 4.83e+13)\n",
      "  warnings.warn(msg, UmfpackWarning)\n"
     ]
    },
    {
     "data": {
      "text/plain": [
       "0.06176615560312869"
      ]
     },
     "execution_count": 10,
     "metadata": {},
     "output_type": "execute_result"
    }
   ],
   "execution_count": 10
  },
  {
   "metadata": {},
   "cell_type": "code",
   "outputs": [],
   "execution_count": null,
   "source": "",
   "id": "693d8b4bbb10bedb"
  }
 ],
 "metadata": {
  "kernelspec": {
   "display_name": "Python 3",
   "language": "python",
   "name": "python3"
  },
  "language_info": {
   "codemirror_mode": {
    "name": "ipython",
    "version": 2
   },
   "file_extension": ".py",
   "mimetype": "text/x-python",
   "name": "python",
   "nbconvert_exporter": "python",
   "pygments_lexer": "ipython2",
   "version": "2.7.6"
  }
 },
 "nbformat": 4,
 "nbformat_minor": 5
}

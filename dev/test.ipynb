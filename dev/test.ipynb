{
 "cells": [
  {
   "cell_type": "code",
   "id": "initial_id",
   "metadata": {
    "collapsed": true,
    "ExecuteTime": {
     "end_time": "2024-12-11T18:36:41.604745Z",
     "start_time": "2024-12-11T18:36:39.349378Z"
    }
   },
   "source": [
    "import bw2data, bw2calc, bw2io\n",
    "from edges import RegionalLCA, get_available_methods\n",
    "from bw2analyzer.contribution import ContributionAnalysis"
   ],
   "outputs": [],
   "execution_count": 1
  },
  {
   "metadata": {
    "ExecuteTime": {
     "end_time": "2024-12-11T18:36:41.619179Z",
     "start_time": "2024-12-11T18:36:41.608287Z"
    }
   },
   "cell_type": "code",
   "source": "bw2data.projects.set_current(\"bw25_ei310\")",
   "id": "5dfdb1946f981316",
   "outputs": [],
   "execution_count": 2
  },
  {
   "metadata": {
    "ExecuteTime": {
     "end_time": "2024-12-11T18:36:41.675091Z",
     "start_time": "2024-12-11T18:36:41.664892Z"
    }
   },
   "cell_type": "code",
   "source": [
    "act = bw2data.Database(\"ecoinvent-3.10-cutoff\").random()\n",
    "act"
   ],
   "id": "f6fdb8103539902c",
   "outputs": [
    {
     "data": {
      "text/plain": [
       "'electricity, high voltage, import from DK' (kilowatt hour, SE, None)"
      ]
     },
     "execution_count": 3,
     "metadata": {},
     "output_type": "execute_result"
    }
   ],
   "execution_count": 3
  },
  {
   "metadata": {
    "ExecuteTime": {
     "end_time": "2024-12-11T18:36:41.738092Z",
     "start_time": "2024-12-11T18:36:41.736009Z"
    }
   },
   "cell_type": "code",
   "source": [
    "method = ('AWARE 1.2c', 'Country', 'unspecified', 'yearly')\n",
    "convmethod = ('ecoinvent-3.10',\n",
    "  'EF v3.1 EN15804',\n",
    "  'water use',\n",
    "  'user deprivation potential (deprivation-weighted water consumption)')"
   ],
   "id": "92b1b43be6023d7a",
   "outputs": [],
   "execution_count": 4
  },
  {
   "metadata": {
    "ExecuteTime": {
     "end_time": "2024-12-11T18:36:42.639021Z",
     "start_time": "2024-12-11T18:36:41.982043Z"
    }
   },
   "cell_type": "code",
   "source": [
    "import bw2calc\n",
    "\n",
    "convLCA = bw2calc.LCA({act: 1}, convmethod)\n",
    "convLCA.lci()\n",
    "convLCA.lcia()\n",
    "convLCA.score"
   ],
   "id": "e4bc7f7d309a36bf",
   "outputs": [
    {
     "name": "stderr",
     "output_type": "stream",
     "text": [
      "/opt/homebrew/Caskroom/miniforge/base/envs/bw25/lib/python3.11/site-packages/scikits/umfpack/umfpack.py:736: UmfpackWarning: (almost) singular matrix! (estimated cond. number: 1.21e+13)\n",
      "  warnings.warn(msg, UmfpackWarning)\n"
     ]
    },
    {
     "data": {
      "text/plain": [
       "0.27949965457115666"
      ]
     },
     "execution_count": 5,
     "metadata": {},
     "output_type": "execute_result"
    }
   ],
   "execution_count": 5
  },
  {
   "metadata": {
    "ExecuteTime": {
     "end_time": "2024-12-11T18:38:49.809707Z",
     "start_time": "2024-12-11T18:36:43.699531Z"
    }
   },
   "cell_type": "code",
   "source": [
    "LCA = RegionalLCA({act: 1}, method)\n",
    "LCA.lci()\n",
    "LCA.lcia()\n",
    "LCA.score"
   ],
   "id": "94850550b5f1fff",
   "outputs": [
    {
     "ename": "KeyError",
     "evalue": "\"Can't find location: IN-DN.\"",
     "output_type": "error",
     "traceback": [
      "\u001B[0;31m---------------------------------------------------------------------------\u001B[0m",
      "\u001B[0;31mKeyError\u001B[0m                                  Traceback (most recent call last)",
      "Cell \u001B[0;32mIn[6], line 3\u001B[0m\n\u001B[1;32m      1\u001B[0m LCA \u001B[38;5;241m=\u001B[39m RegionalLCA({act: \u001B[38;5;241m1\u001B[39m}, method)\n\u001B[1;32m      2\u001B[0m LCA\u001B[38;5;241m.\u001B[39mlci()\n\u001B[0;32m----> 3\u001B[0m \u001B[43mLCA\u001B[49m\u001B[38;5;241;43m.\u001B[39;49m\u001B[43mlcia\u001B[49m\u001B[43m(\u001B[49m\u001B[43m)\u001B[49m\n\u001B[1;32m      4\u001B[0m LCA\u001B[38;5;241m.\u001B[39mscore\n",
      "File \u001B[0;32m/opt/homebrew/Caskroom/miniforge/base/envs/bw25/lib/python3.11/site-packages/bw2calc/lca_base.py:208\u001B[0m, in \u001B[0;36mLCABase.lcia\u001B[0;34m(self, demand)\u001B[0m\n\u001B[1;32m    203\u001B[0m     \u001B[38;5;28;01mraise\u001B[39;00m EmptyBiosphere\n\u001B[1;32m    205\u001B[0m \u001B[38;5;28;01mif\u001B[39;00m \u001B[38;5;129;01mnot\u001B[39;00m (\n\u001B[1;32m    206\u001B[0m     \u001B[38;5;28mhasattr\u001B[39m(\u001B[38;5;28mself\u001B[39m, \u001B[38;5;124m\"\u001B[39m\u001B[38;5;124mcharacterization_matrix\u001B[39m\u001B[38;5;124m\"\u001B[39m) \u001B[38;5;129;01mor\u001B[39;00m \u001B[38;5;28mhasattr\u001B[39m(\u001B[38;5;28mself\u001B[39m, \u001B[38;5;124m\"\u001B[39m\u001B[38;5;124mcharacterization_matrices\u001B[39m\u001B[38;5;124m\"\u001B[39m)\n\u001B[1;32m    207\u001B[0m ):\n\u001B[0;32m--> 208\u001B[0m     \u001B[38;5;28;43mself\u001B[39;49m\u001B[38;5;241;43m.\u001B[39;49m\u001B[43mload_lcia_data\u001B[49m\u001B[43m(\u001B[49m\u001B[43m)\u001B[49m\n\u001B[1;32m    209\u001B[0m \u001B[38;5;28;01mif\u001B[39;00m demand \u001B[38;5;129;01mis\u001B[39;00m \u001B[38;5;129;01mnot\u001B[39;00m \u001B[38;5;28;01mNone\u001B[39;00m:\n\u001B[1;32m    210\u001B[0m     \u001B[38;5;28mself\u001B[39m\u001B[38;5;241m.\u001B[39mcheck_demand(demand)\n",
      "File \u001B[0;32m~/GitHub/edges/edges/regionallcia.py:391\u001B[0m, in \u001B[0;36mRegionalLCA.load_lcia_data\u001B[0;34m(self, data_objs)\u001B[0m\n\u001B[1;32m    388\u001B[0m \u001B[38;5;28;01mwith\u001B[39;00m \u001B[38;5;28mopen\u001B[39m(data_file, \u001B[38;5;124m\"\u001B[39m\u001B[38;5;124mr\u001B[39m\u001B[38;5;124m\"\u001B[39m) \u001B[38;5;28;01mas\u001B[39;00m f:\n\u001B[1;32m    389\u001B[0m     \u001B[38;5;28mself\u001B[39m\u001B[38;5;241m.\u001B[39mcfs_data \u001B[38;5;241m=\u001B[39m format_data(json\u001B[38;5;241m.\u001B[39mload(f))\n\u001B[0;32m--> 391\u001B[0m \u001B[38;5;28;43mself\u001B[39;49m\u001B[38;5;241;43m.\u001B[39;49m\u001B[43mfill_in_lcia_matrix\u001B[49m\u001B[43m(\u001B[49m\u001B[43m)\u001B[49m\n",
      "File \u001B[0;32m~/GitHub/edges/edges/regionallcia.py:565\u001B[0m, in \u001B[0;36mRegionalLCA.fill_in_lcia_matrix\u001B[0;34m(self)\u001B[0m\n\u001B[1;32m    562\u001B[0m \u001B[38;5;28mself\u001B[39m\u001B[38;5;241m.\u001B[39mbiosphere_characterization_matrix \u001B[38;5;241m=\u001B[39m initialize_lcia_matrix(\u001B[38;5;28mself\u001B[39m)\n\u001B[1;32m    563\u001B[0m \u001B[38;5;28mself\u001B[39m\u001B[38;5;241m.\u001B[39mtechnosphere_characterization_matrix \u001B[38;5;241m=\u001B[39m initialize_lcia_matrix(\u001B[38;5;28mself\u001B[39m)\n\u001B[0;32m--> 565\u001B[0m \u001B[38;5;28;43mself\u001B[39;49m\u001B[38;5;241;43m.\u001B[39;49m\u001B[43midentify_exchanges\u001B[49m\u001B[43m(\u001B[49m\u001B[43m)\u001B[49m\n\u001B[1;32m    567\u001B[0m \u001B[38;5;28;01mfor\u001B[39;00m cf \u001B[38;5;129;01min\u001B[39;00m \u001B[38;5;28mself\u001B[39m\u001B[38;5;241m.\u001B[39mcfs_data:\n\u001B[1;32m    568\u001B[0m     \u001B[38;5;28;01mfor\u001B[39;00m supplier, consumer \u001B[38;5;129;01min\u001B[39;00m cf\u001B[38;5;241m.\u001B[39mget(\u001B[38;5;124m\"\u001B[39m\u001B[38;5;124mbiosphere-technosphere\u001B[39m\u001B[38;5;124m\"\u001B[39m, []):\n",
      "File \u001B[0;32m~/GitHub/edges/edges/regionallcia.py:529\u001B[0m, in \u001B[0;36mRegionalLCA.identify_exchanges\u001B[0;34m(self)\u001B[0m\n\u001B[1;32m    526\u001B[0m \u001B[38;5;28;01mfor\u001B[39;00m constituent \u001B[38;5;129;01min\u001B[39;00m constituents:\n\u001B[1;32m    527\u001B[0m     \u001B[38;5;28;01mif\u001B[39;00m \u001B[38;5;28mlen\u001B[39m(constituent) \u001B[38;5;241m>\u001B[39m \u001B[38;5;241m2\u001B[39m:\n\u001B[1;32m    528\u001B[0m         extra_constituents\u001B[38;5;241m.\u001B[39mextend(\n\u001B[0;32m--> 529\u001B[0m             [_(g) \u001B[38;5;28;01mfor\u001B[39;00m g \u001B[38;5;129;01min\u001B[39;00m \u001B[43mgeo\u001B[49m\u001B[38;5;241;43m.\u001B[39;49m\u001B[43mcontained\u001B[49m\u001B[43m(\u001B[49m\u001B[43mconstituent\u001B[49m\u001B[43m)\u001B[49m]\n\u001B[1;32m    530\u001B[0m         )\n\u001B[1;32m    531\u001B[0m constituents \u001B[38;5;241m=\u001B[39m \u001B[38;5;28mlist\u001B[39m(\u001B[38;5;28mset\u001B[39m(constituents \u001B[38;5;241m+\u001B[39m extra_constituents))\n\u001B[1;32m    533\u001B[0m \u001B[38;5;66;03m# get the weighting\u001B[39;00m\n",
      "File \u001B[0;32m/opt/homebrew/Caskroom/miniforge/base/envs/bw25/lib/python3.11/site-packages/constructive_geometries/geomatcher.py:220\u001B[0m, in \u001B[0;36mGeomatcher.contained\u001B[0;34m(self, key, include_self, exclusive, biggest_first, only)\u001B[0m\n\u001B[1;32m    216\u001B[0m         only\u001B[38;5;241m.\u001B[39mpop(only\u001B[38;5;241m.\u001B[39mindex(\u001B[38;5;124m\"\u001B[39m\u001B[38;5;124mRoE\u001B[39m\u001B[38;5;124m\"\u001B[39m))\n\u001B[1;32m    218\u001B[0m possibles \u001B[38;5;241m=\u001B[39m \u001B[38;5;28mself\u001B[39m\u001B[38;5;241m.\u001B[39mtopology \u001B[38;5;28;01mif\u001B[39;00m only \u001B[38;5;129;01mis\u001B[39;00m \u001B[38;5;28;01mNone\u001B[39;00m \u001B[38;5;28;01melse\u001B[39;00m {k: \u001B[38;5;28mself\u001B[39m[k] \u001B[38;5;28;01mfor\u001B[39;00m k \u001B[38;5;129;01min\u001B[39;00m only}\n\u001B[0;32m--> 220\u001B[0m faces \u001B[38;5;241m=\u001B[39m \u001B[38;5;28;43mself\u001B[39;49m\u001B[43m[\u001B[49m\u001B[43mkey\u001B[49m\u001B[43m]\u001B[49m\n\u001B[1;32m    221\u001B[0m lst \u001B[38;5;241m=\u001B[39m [(k, \u001B[38;5;28mlen\u001B[39m(v)) \u001B[38;5;28;01mfor\u001B[39;00m k, v \u001B[38;5;129;01min\u001B[39;00m possibles\u001B[38;5;241m.\u001B[39mitems() \u001B[38;5;28;01mif\u001B[39;00m v \u001B[38;5;129;01mand\u001B[39;00m faces\u001B[38;5;241m.\u001B[39missuperset(v)]\n\u001B[1;32m    222\u001B[0m \u001B[38;5;28;01mreturn\u001B[39;00m \u001B[38;5;28mself\u001B[39m\u001B[38;5;241m.\u001B[39m_finish_filter(lst, key, include_self, exclusive, biggest_first)\n",
      "File \u001B[0;32m/opt/homebrew/Caskroom/miniforge/base/envs/bw25/lib/python3.11/site-packages/constructive_geometries/geomatcher.py:88\u001B[0m, in \u001B[0;36mGeomatcher.__getitem__\u001B[0;34m(self, key)\u001B[0m\n\u001B[1;32m     86\u001B[0m \u001B[38;5;28;01mif\u001B[39;00m key \u001B[38;5;241m==\u001B[39m \u001B[38;5;124m\"\u001B[39m\u001B[38;5;124mRoE\u001B[39m\u001B[38;5;124m\"\u001B[39m \u001B[38;5;129;01mand\u001B[39;00m \u001B[38;5;124m\"\u001B[39m\u001B[38;5;124mRoE\u001B[39m\u001B[38;5;124m\"\u001B[39m \u001B[38;5;129;01mnot\u001B[39;00m \u001B[38;5;129;01min\u001B[39;00m \u001B[38;5;28mself\u001B[39m\u001B[38;5;241m.\u001B[39mtopology:\n\u001B[1;32m     87\u001B[0m     \u001B[38;5;28;01mreturn\u001B[39;00m \u001B[38;5;28mset\u001B[39m()\n\u001B[0;32m---> 88\u001B[0m \u001B[38;5;28;01mreturn\u001B[39;00m \u001B[38;5;28mself\u001B[39m\u001B[38;5;241m.\u001B[39mtopology[\u001B[38;5;28;43mself\u001B[39;49m\u001B[38;5;241;43m.\u001B[39;49m\u001B[43m_actual_key\u001B[49m\u001B[43m(\u001B[49m\u001B[43mkey\u001B[49m\u001B[43m)\u001B[49m]\n",
      "File \u001B[0;32m/opt/homebrew/Caskroom/miniforge/base/envs/bw25/lib/python3.11/site-packages/constructive_geometries/geomatcher.py:121\u001B[0m, in \u001B[0;36mGeomatcher._actual_key\u001B[0;34m(self, key)\u001B[0m\n\u001B[1;32m    118\u001B[0m             \u001B[38;5;28mprint\u001B[39m(\u001B[38;5;124m\"\u001B[39m\u001B[38;5;124mGeomatcher: Used \u001B[39m\u001B[38;5;124m'\u001B[39m\u001B[38;5;132;01m{}\u001B[39;00m\u001B[38;5;124m'\u001B[39m\u001B[38;5;124m for \u001B[39m\u001B[38;5;124m'\u001B[39m\u001B[38;5;132;01m{}\u001B[39;00m\u001B[38;5;124m'\u001B[39m\u001B[38;5;124m\"\u001B[39m\u001B[38;5;241m.\u001B[39mformat(new, key))\n\u001B[1;32m    119\u001B[0m         \u001B[38;5;28;01mreturn\u001B[39;00m new\n\u001B[0;32m--> 121\u001B[0m \u001B[38;5;28;01mraise\u001B[39;00m \u001B[38;5;167;01mKeyError\u001B[39;00m(\u001B[38;5;124m\"\u001B[39m\u001B[38;5;124mCan\u001B[39m\u001B[38;5;124m'\u001B[39m\u001B[38;5;124mt find location: \u001B[39m\u001B[38;5;132;01m{}\u001B[39;00m\u001B[38;5;124m.\u001B[39m\u001B[38;5;124m\"\u001B[39m\u001B[38;5;241m.\u001B[39mformat(key))\n",
      "\u001B[0;31mKeyError\u001B[0m: \"Can't find location: IN-DN.\""
     ]
    }
   ],
   "execution_count": 6
  },
  {
   "metadata": {
    "ExecuteTime": {
     "end_time": "2024-12-11T17:56:25.147019Z",
     "start_time": "2024-12-11T17:56:25.143468Z"
    }
   },
   "cell_type": "code",
   "source": "LCA.ignored_locations",
   "id": "96d7bfa250c0556e",
   "outputs": [
    {
     "data": {
      "text/plain": [
       "{'RoW'}"
      ]
     },
     "execution_count": 7,
     "metadata": {},
     "output_type": "execute_result"
    }
   ],
   "execution_count": 7
  },
  {
   "metadata": {
    "ExecuteTime": {
     "end_time": "2024-12-11T17:56:29.558592Z",
     "start_time": "2024-12-11T17:56:27.470418Z"
    }
   },
   "cell_type": "code",
   "source": "LCA.generate_cf_table()",
   "id": "f612c191acd851bb",
   "outputs": [
    {
     "data": {
      "text/plain": [
       "                                                   flow  \\\n",
       "0     (Water, cooling, unspecified natural origin, (...   \n",
       "1     (Water, cooling, unspecified natural origin, (...   \n",
       "2     (Water, cooling, unspecified natural origin, (...   \n",
       "3     (Water, cooling, unspecified natural origin, (...   \n",
       "4     (Water, cooling, unspecified natural origin, (...   \n",
       "...                                                 ...   \n",
       "6503                    (Water, (water, surface water))   \n",
       "6504                    (Water, (water, surface water))   \n",
       "6505                    (Water, (water, surface water))   \n",
       "6506                    (Water, (water, surface water))   \n",
       "6507                    (Water, (water, surface water))   \n",
       "\n",
       "                                                   name  \\\n",
       "0                   polystyrene production, high impact   \n",
       "1                           electricity production, oil   \n",
       "2                   polypropylene production, granulate   \n",
       "3                       electricity production, lignite   \n",
       "4     electricity production, nuclear, boiling water...   \n",
       "...                                                 ...   \n",
       "6503              petroleum and gas production, onshore   \n",
       "6504  treatment of waste emulsion paint, municipal i...   \n",
       "6505     aluminium production, primary, liquid, prebake   \n",
       "6506                             citric acid production   \n",
       "6507  treatment of leachate, SLF, refinery sludge, w...   \n",
       "\n",
       "                   reference product                                location  \\\n",
       "0           polystyrene, high impact                                     RER   \n",
       "1          electricity, high voltage                                   CA-PE   \n",
       "2           polypropylene, granulate                                     RER   \n",
       "3          electricity, high voltage                                      MK   \n",
       "4          electricity, high voltage                                      TW   \n",
       "...                              ...                                     ...   \n",
       "6503      natural gas, high pressure                                      TH   \n",
       "6504            waste emulsion paint                                      CH   \n",
       "6505      aluminium, primary, liquid  IAI Area, Russia & RER w/o EU27 & EFTA   \n",
       "6506                     citric acid                                     RNA   \n",
       "6507  leachate, SLF, refinery sludge                                      CH   \n",
       "\n",
       "            amount         CF        impact  \n",
       "0     1.674379e-06  17.328016  2.901367e-05  \n",
       "1     5.183546e-10   1.713382  8.881395e-10  \n",
       "2     7.999907e-09  17.328016  1.386225e-07  \n",
       "3     7.527580e-07  48.894393  3.680565e-05  \n",
       "4     3.310310e-06   2.225805  7.368105e-06  \n",
       "...            ...        ...           ...  \n",
       "6503  6.980740e-10  -6.981635 -4.873697e-09  \n",
       "6504  3.573480e-12  -0.965402 -3.449846e-12  \n",
       "6505  1.261293e-07 -12.226962 -1.542178e-06  \n",
       "6506  1.843685e-10 -27.325808 -5.038020e-09  \n",
       "6507  2.679022e-14  -0.965402 -2.586334e-14  \n",
       "\n",
       "[6508 rows x 7 columns]"
      ],
      "text/html": [
       "<div>\n",
       "<style scoped>\n",
       "    .dataframe tbody tr th:only-of-type {\n",
       "        vertical-align: middle;\n",
       "    }\n",
       "\n",
       "    .dataframe tbody tr th {\n",
       "        vertical-align: top;\n",
       "    }\n",
       "\n",
       "    .dataframe thead th {\n",
       "        text-align: right;\n",
       "    }\n",
       "</style>\n",
       "<table border=\"1\" class=\"dataframe\">\n",
       "  <thead>\n",
       "    <tr style=\"text-align: right;\">\n",
       "      <th></th>\n",
       "      <th>flow</th>\n",
       "      <th>name</th>\n",
       "      <th>reference product</th>\n",
       "      <th>location</th>\n",
       "      <th>amount</th>\n",
       "      <th>CF</th>\n",
       "      <th>impact</th>\n",
       "    </tr>\n",
       "  </thead>\n",
       "  <tbody>\n",
       "    <tr>\n",
       "      <th>0</th>\n",
       "      <td>(Water, cooling, unspecified natural origin, (...</td>\n",
       "      <td>polystyrene production, high impact</td>\n",
       "      <td>polystyrene, high impact</td>\n",
       "      <td>RER</td>\n",
       "      <td>1.674379e-06</td>\n",
       "      <td>17.328016</td>\n",
       "      <td>2.901367e-05</td>\n",
       "    </tr>\n",
       "    <tr>\n",
       "      <th>1</th>\n",
       "      <td>(Water, cooling, unspecified natural origin, (...</td>\n",
       "      <td>electricity production, oil</td>\n",
       "      <td>electricity, high voltage</td>\n",
       "      <td>CA-PE</td>\n",
       "      <td>5.183546e-10</td>\n",
       "      <td>1.713382</td>\n",
       "      <td>8.881395e-10</td>\n",
       "    </tr>\n",
       "    <tr>\n",
       "      <th>2</th>\n",
       "      <td>(Water, cooling, unspecified natural origin, (...</td>\n",
       "      <td>polypropylene production, granulate</td>\n",
       "      <td>polypropylene, granulate</td>\n",
       "      <td>RER</td>\n",
       "      <td>7.999907e-09</td>\n",
       "      <td>17.328016</td>\n",
       "      <td>1.386225e-07</td>\n",
       "    </tr>\n",
       "    <tr>\n",
       "      <th>3</th>\n",
       "      <td>(Water, cooling, unspecified natural origin, (...</td>\n",
       "      <td>electricity production, lignite</td>\n",
       "      <td>electricity, high voltage</td>\n",
       "      <td>MK</td>\n",
       "      <td>7.527580e-07</td>\n",
       "      <td>48.894393</td>\n",
       "      <td>3.680565e-05</td>\n",
       "    </tr>\n",
       "    <tr>\n",
       "      <th>4</th>\n",
       "      <td>(Water, cooling, unspecified natural origin, (...</td>\n",
       "      <td>electricity production, nuclear, boiling water...</td>\n",
       "      <td>electricity, high voltage</td>\n",
       "      <td>TW</td>\n",
       "      <td>3.310310e-06</td>\n",
       "      <td>2.225805</td>\n",
       "      <td>7.368105e-06</td>\n",
       "    </tr>\n",
       "    <tr>\n",
       "      <th>...</th>\n",
       "      <td>...</td>\n",
       "      <td>...</td>\n",
       "      <td>...</td>\n",
       "      <td>...</td>\n",
       "      <td>...</td>\n",
       "      <td>...</td>\n",
       "      <td>...</td>\n",
       "    </tr>\n",
       "    <tr>\n",
       "      <th>6503</th>\n",
       "      <td>(Water, (water, surface water))</td>\n",
       "      <td>petroleum and gas production, onshore</td>\n",
       "      <td>natural gas, high pressure</td>\n",
       "      <td>TH</td>\n",
       "      <td>6.980740e-10</td>\n",
       "      <td>-6.981635</td>\n",
       "      <td>-4.873697e-09</td>\n",
       "    </tr>\n",
       "    <tr>\n",
       "      <th>6504</th>\n",
       "      <td>(Water, (water, surface water))</td>\n",
       "      <td>treatment of waste emulsion paint, municipal i...</td>\n",
       "      <td>waste emulsion paint</td>\n",
       "      <td>CH</td>\n",
       "      <td>3.573480e-12</td>\n",
       "      <td>-0.965402</td>\n",
       "      <td>-3.449846e-12</td>\n",
       "    </tr>\n",
       "    <tr>\n",
       "      <th>6505</th>\n",
       "      <td>(Water, (water, surface water))</td>\n",
       "      <td>aluminium production, primary, liquid, prebake</td>\n",
       "      <td>aluminium, primary, liquid</td>\n",
       "      <td>IAI Area, Russia &amp; RER w/o EU27 &amp; EFTA</td>\n",
       "      <td>1.261293e-07</td>\n",
       "      <td>-12.226962</td>\n",
       "      <td>-1.542178e-06</td>\n",
       "    </tr>\n",
       "    <tr>\n",
       "      <th>6506</th>\n",
       "      <td>(Water, (water, surface water))</td>\n",
       "      <td>citric acid production</td>\n",
       "      <td>citric acid</td>\n",
       "      <td>RNA</td>\n",
       "      <td>1.843685e-10</td>\n",
       "      <td>-27.325808</td>\n",
       "      <td>-5.038020e-09</td>\n",
       "    </tr>\n",
       "    <tr>\n",
       "      <th>6507</th>\n",
       "      <td>(Water, (water, surface water))</td>\n",
       "      <td>treatment of leachate, SLF, refinery sludge, w...</td>\n",
       "      <td>leachate, SLF, refinery sludge</td>\n",
       "      <td>CH</td>\n",
       "      <td>2.679022e-14</td>\n",
       "      <td>-0.965402</td>\n",
       "      <td>-2.586334e-14</td>\n",
       "    </tr>\n",
       "  </tbody>\n",
       "</table>\n",
       "<p>6508 rows × 7 columns</p>\n",
       "</div>"
      ]
     },
     "execution_count": 8,
     "metadata": {},
     "output_type": "execute_result"
    }
   ],
   "execution_count": 8
  },
  {
   "metadata": {
    "ExecuteTime": {
     "end_time": "2024-12-11T13:09:38.037783Z",
     "start_time": "2024-12-11T13:09:38.030048Z"
    }
   },
   "cell_type": "code",
   "source": "ContributionAnalysis().annotated_top_emissions(LCA, limit=10)",
   "id": "88bfe49c3ac61ce3",
   "outputs": [
    {
     "data": {
      "text/plain": [
       "[(-0.7163026759599563,\n",
       "  0.2935884512561416,\n",
       "  'Water' (cubic meter, None, ('water',))),\n",
       " (0.6688484258710877,\n",
       "  0.23508477974056977,\n",
       "  'Water, turbine use, unspecified natural origin' (cubic meter, None, ('natural resource', 'in water'))),\n",
       " (0.04781804107790834,\n",
       "  0.055576536835671285,\n",
       "  'Water, cooling, unspecified natural origin' (cubic meter, None, ('natural resource', 'in water'))),\n",
       " (0.00020712443746158797,\n",
       "  0.0014826398294574454,\n",
       "  'Water, river' (cubic meter, None, ('natural resource', 'in water'))),\n",
       " (0.00013507704946424606,\n",
       "  2.457000304668285e-05,\n",
       "  'Water, unspecified natural origin' (cubic meter, None, ('natural resource', 'in water'))),\n",
       " (9.184280114282116e-05,\n",
       "  0.0038333509602456743,\n",
       "  'Water, well, in ground' (cubic meter, None, ('natural resource', 'in water'))),\n",
       " (-3.826499647325903e-05,\n",
       "  6.488861959737442e-05,\n",
       "  'Water' (cubic meter, None, ('water', 'surface water'))),\n",
       " (-5.463602033553495e-06,\n",
       "  1.1898117270160745e-06,\n",
       "  'Water' (cubic meter, None, ('water', 'ground-'))),\n",
       " (3.166310893956576e-07,\n",
       "  2.8186650568565596e-07,\n",
       "  'Water, lake' (cubic meter, None, ('natural resource', 'in water'))),\n",
       " (9.115978231575217e-11,\n",
       "  4.9774689689532955e-09,\n",
       "  'Water, in air' (cubic meter, None, ('natural resource', 'in air')))]"
      ]
     },
     "execution_count": 10,
     "metadata": {},
     "output_type": "execute_result"
    }
   ],
   "execution_count": 10
  },
  {
   "metadata": {
    "ExecuteTime": {
     "end_time": "2024-12-11T13:12:57.650796Z",
     "start_time": "2024-12-11T13:12:56.451484Z"
    }
   },
   "cell_type": "code",
   "source": "LCA.generate_cf_table()",
   "id": "e0b1eff0a7f0be40",
   "outputs": [
    {
     "data": {
      "text/plain": [
       "                                                   flow  \\\n",
       "0     (Water, cooling, unspecified natural origin, (...   \n",
       "1     (Water, cooling, unspecified natural origin, (...   \n",
       "2     (Water, cooling, unspecified natural origin, (...   \n",
       "3     (Water, cooling, unspecified natural origin, (...   \n",
       "4     (Water, cooling, unspecified natural origin, (...   \n",
       "...                                                 ...   \n",
       "3859                    (Water, (water, surface water))   \n",
       "3860                    (Water, (water, surface water))   \n",
       "3861                    (Water, (water, surface water))   \n",
       "3862                    (Water, (water, surface water))   \n",
       "3863                    (Water, (water, surface water))   \n",
       "\n",
       "                                                   name  \\\n",
       "0                           electricity production, oil   \n",
       "1                       electricity production, lignite   \n",
       "2     electricity production, nuclear, boiling water...   \n",
       "3                           electricity production, oil   \n",
       "4         phosphoric acid production, dihydrate process   \n",
       "...                                                 ...   \n",
       "3859  treatment of waste polyethylene, municipal inc...   \n",
       "3860              petroleum and gas production, onshore   \n",
       "3861              petroleum and gas production, onshore   \n",
       "3862  treatment of waste emulsion paint, municipal i...   \n",
       "3863  treatment of leachate, SLF, refinery sludge, w...   \n",
       "\n",
       "                                      reference product location  \\\n",
       "0                             electricity, high voltage    CA-PE   \n",
       "1                             electricity, high voltage       MK   \n",
       "2                             electricity, high voltage       TW   \n",
       "3                             electricity, high voltage    IN-BR   \n",
       "4     fluosilicic acid, without water, in 22% soluti...       MA   \n",
       "...                                                 ...      ...   \n",
       "3859                                 waste polyethylene       CH   \n",
       "3860                                          petroleum       QA   \n",
       "3861                         natural gas, high pressure       TH   \n",
       "3862                               waste emulsion paint       CH   \n",
       "3863                     leachate, SLF, refinery sludge       CH   \n",
       "\n",
       "            amount         CF        impact  \n",
       "0     6.246820e-08   1.713382  7.600501e-09  \n",
       "1     8.000828e-05  48.894393  2.669999e-04  \n",
       "2     4.689918e-04   2.225805  6.656068e-05  \n",
       "3     2.416318e-06  14.183279  3.046240e-06  \n",
       "4     1.076705e-08  87.352520  3.328043e-07  \n",
       "...            ...        ...           ...  \n",
       "3859  6.462038e-07  -0.965402 -1.287748e-10  \n",
       "3860  1.151298e-04 -49.511931 -9.146944e-08  \n",
       "3861  7.372886e-05  -6.981635 -3.358919e-08  \n",
       "3862  9.712645e-09  -0.965402 -5.519384e-11  \n",
       "3863  1.553337e-13  -0.965402 -1.496842e-13  \n",
       "\n",
       "[3864 rows x 7 columns]"
      ],
      "text/html": [
       "<div>\n",
       "<style scoped>\n",
       "    .dataframe tbody tr th:only-of-type {\n",
       "        vertical-align: middle;\n",
       "    }\n",
       "\n",
       "    .dataframe tbody tr th {\n",
       "        vertical-align: top;\n",
       "    }\n",
       "\n",
       "    .dataframe thead th {\n",
       "        text-align: right;\n",
       "    }\n",
       "</style>\n",
       "<table border=\"1\" class=\"dataframe\">\n",
       "  <thead>\n",
       "    <tr style=\"text-align: right;\">\n",
       "      <th></th>\n",
       "      <th>flow</th>\n",
       "      <th>name</th>\n",
       "      <th>reference product</th>\n",
       "      <th>location</th>\n",
       "      <th>amount</th>\n",
       "      <th>CF</th>\n",
       "      <th>impact</th>\n",
       "    </tr>\n",
       "  </thead>\n",
       "  <tbody>\n",
       "    <tr>\n",
       "      <th>0</th>\n",
       "      <td>(Water, cooling, unspecified natural origin, (...</td>\n",
       "      <td>electricity production, oil</td>\n",
       "      <td>electricity, high voltage</td>\n",
       "      <td>CA-PE</td>\n",
       "      <td>6.246820e-08</td>\n",
       "      <td>1.713382</td>\n",
       "      <td>7.600501e-09</td>\n",
       "    </tr>\n",
       "    <tr>\n",
       "      <th>1</th>\n",
       "      <td>(Water, cooling, unspecified natural origin, (...</td>\n",
       "      <td>electricity production, lignite</td>\n",
       "      <td>electricity, high voltage</td>\n",
       "      <td>MK</td>\n",
       "      <td>8.000828e-05</td>\n",
       "      <td>48.894393</td>\n",
       "      <td>2.669999e-04</td>\n",
       "    </tr>\n",
       "    <tr>\n",
       "      <th>2</th>\n",
       "      <td>(Water, cooling, unspecified natural origin, (...</td>\n",
       "      <td>electricity production, nuclear, boiling water...</td>\n",
       "      <td>electricity, high voltage</td>\n",
       "      <td>TW</td>\n",
       "      <td>4.689918e-04</td>\n",
       "      <td>2.225805</td>\n",
       "      <td>6.656068e-05</td>\n",
       "    </tr>\n",
       "    <tr>\n",
       "      <th>3</th>\n",
       "      <td>(Water, cooling, unspecified natural origin, (...</td>\n",
       "      <td>electricity production, oil</td>\n",
       "      <td>electricity, high voltage</td>\n",
       "      <td>IN-BR</td>\n",
       "      <td>2.416318e-06</td>\n",
       "      <td>14.183279</td>\n",
       "      <td>3.046240e-06</td>\n",
       "    </tr>\n",
       "    <tr>\n",
       "      <th>4</th>\n",
       "      <td>(Water, cooling, unspecified natural origin, (...</td>\n",
       "      <td>phosphoric acid production, dihydrate process</td>\n",
       "      <td>fluosilicic acid, without water, in 22% soluti...</td>\n",
       "      <td>MA</td>\n",
       "      <td>1.076705e-08</td>\n",
       "      <td>87.352520</td>\n",
       "      <td>3.328043e-07</td>\n",
       "    </tr>\n",
       "    <tr>\n",
       "      <th>...</th>\n",
       "      <td>...</td>\n",
       "      <td>...</td>\n",
       "      <td>...</td>\n",
       "      <td>...</td>\n",
       "      <td>...</td>\n",
       "      <td>...</td>\n",
       "      <td>...</td>\n",
       "    </tr>\n",
       "    <tr>\n",
       "      <th>3859</th>\n",
       "      <td>(Water, (water, surface water))</td>\n",
       "      <td>treatment of waste polyethylene, municipal inc...</td>\n",
       "      <td>waste polyethylene</td>\n",
       "      <td>CH</td>\n",
       "      <td>6.462038e-07</td>\n",
       "      <td>-0.965402</td>\n",
       "      <td>-1.287748e-10</td>\n",
       "    </tr>\n",
       "    <tr>\n",
       "      <th>3860</th>\n",
       "      <td>(Water, (water, surface water))</td>\n",
       "      <td>petroleum and gas production, onshore</td>\n",
       "      <td>petroleum</td>\n",
       "      <td>QA</td>\n",
       "      <td>1.151298e-04</td>\n",
       "      <td>-49.511931</td>\n",
       "      <td>-9.146944e-08</td>\n",
       "    </tr>\n",
       "    <tr>\n",
       "      <th>3861</th>\n",
       "      <td>(Water, (water, surface water))</td>\n",
       "      <td>petroleum and gas production, onshore</td>\n",
       "      <td>natural gas, high pressure</td>\n",
       "      <td>TH</td>\n",
       "      <td>7.372886e-05</td>\n",
       "      <td>-6.981635</td>\n",
       "      <td>-3.358919e-08</td>\n",
       "    </tr>\n",
       "    <tr>\n",
       "      <th>3862</th>\n",
       "      <td>(Water, (water, surface water))</td>\n",
       "      <td>treatment of waste emulsion paint, municipal i...</td>\n",
       "      <td>waste emulsion paint</td>\n",
       "      <td>CH</td>\n",
       "      <td>9.712645e-09</td>\n",
       "      <td>-0.965402</td>\n",
       "      <td>-5.519384e-11</td>\n",
       "    </tr>\n",
       "    <tr>\n",
       "      <th>3863</th>\n",
       "      <td>(Water, (water, surface water))</td>\n",
       "      <td>treatment of leachate, SLF, refinery sludge, w...</td>\n",
       "      <td>leachate, SLF, refinery sludge</td>\n",
       "      <td>CH</td>\n",
       "      <td>1.553337e-13</td>\n",
       "      <td>-0.965402</td>\n",
       "      <td>-1.496842e-13</td>\n",
       "    </tr>\n",
       "  </tbody>\n",
       "</table>\n",
       "<p>3864 rows × 7 columns</p>\n",
       "</div>"
      ]
     },
     "execution_count": 6,
     "metadata": {},
     "output_type": "execute_result"
    }
   ],
   "execution_count": 6
  },
  {
   "metadata": {},
   "cell_type": "code",
   "outputs": [],
   "execution_count": null,
   "source": "",
   "id": "49aa43ef7e982f22"
  }
 ],
 "metadata": {
  "kernelspec": {
   "display_name": "Python 3",
   "language": "python",
   "name": "python3"
  },
  "language_info": {
   "codemirror_mode": {
    "name": "ipython",
    "version": 2
   },
   "file_extension": ".py",
   "mimetype": "text/x-python",
   "name": "python",
   "nbconvert_exporter": "python",
   "pygments_lexer": "ipython2",
   "version": "2.7.6"
  }
 },
 "nbformat": 4,
 "nbformat_minor": 5
}

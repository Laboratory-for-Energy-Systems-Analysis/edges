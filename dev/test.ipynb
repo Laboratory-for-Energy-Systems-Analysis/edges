{
 "cells": [
  {
   "cell_type": "code",
   "id": "initial_id",
   "metadata": {
    "collapsed": true,
    "ExecuteTime": {
     "end_time": "2025-03-12T15:29:41.203735Z",
     "start_time": "2025-03-12T15:29:39.206949Z"
    }
   },
   "source": [
    "import bw2data, bw2calc, bw2io\n",
    "from edges import EdgeLCIA, get_available_methods\n",
    "from bw2analyzer.contribution import ContributionAnalysis"
   ],
   "outputs": [],
   "execution_count": 1
  },
  {
   "metadata": {
    "ExecuteTime": {
     "end_time": "2025-03-12T15:29:41.487456Z",
     "start_time": "2025-03-12T15:29:41.207902Z"
    }
   },
   "cell_type": "code",
   "source": "bw2data.projects.set_current(\"ecoinvent-3.10-cutoff\")",
   "id": "5dfdb1946f981316",
   "outputs": [],
   "execution_count": 2
  },
  {
   "metadata": {
    "ExecuteTime": {
     "end_time": "2025-03-12T15:29:41.553122Z",
     "start_time": "2025-03-12T15:29:41.532514Z"
    }
   },
   "cell_type": "code",
   "source": [
    "act = bw2data.Database(\"ecoinvent-3.10.1-cutoff\").random()\n",
    "#act = [a for a in bw2data.Database(\"ecoinvent-3.10-cutoff\") if \"NMC\" in #a[\"name\"]][0]\n",
    "act"
   ],
   "id": "f6fdb8103539902c",
   "outputs": [
    {
     "data": {
      "text/plain": [
       "'evaporation of natural gas, import from ID' (cubic meter, KR, None)"
      ]
     },
     "execution_count": 3,
     "metadata": {},
     "output_type": "execute_result"
    }
   ],
   "execution_count": 3
  },
  {
   "metadata": {
    "ExecuteTime": {
     "end_time": "2025-03-12T15:30:02.911689Z",
     "start_time": "2025-03-12T15:29:41.622768Z"
    }
   },
   "cell_type": "code",
   "source": [
    "#method = ('GeoPolRisk', '2024')\n",
    "method = ('AWARE 1.2c', 'Country', 'non', 'irri', 'yearly')\n",
    "LCA = EdgeLCIA({act: 1}, method)\n",
    "LCA.lci()\n",
    "LCA.lcia()\n",
    "LCA.score"
   ],
   "id": "34fbc8a561ae57cb",
   "outputs": [
    {
     "name": "stderr",
     "output_type": "stream",
     "text": [
      "/opt/homebrew/Caskroom/miniforge/base/envs/bw2/lib/python3.11/site-packages/scikits/umfpack/umfpack.py:736: UmfpackWarning: (almost) singular matrix! (estimated cond. number: 4.83e+13)\n",
      "  warnings.warn(msg, UmfpackWarning)\n"
     ]
    },
    {
     "name": "stdout",
     "output_type": "stream",
     "text": [
      "+-------------------------------------+----------------------------------------------------+\n",
      "|             Method name             | ('AWARE 1.2c', 'Country', 'non', 'irri', 'yearly') |\n",
      "|              Data file              |         AWARE 1.2c_Country_non_irri_yearly         |\n",
      "|       Number of CFs in method       |                        3420                        |\n",
      "|          Number of CFs used         |                        572                         |\n",
      "|  Number of exchanges characterized  |                        8877                        |\n",
      "| Number of exchanges uncharacterized |                         0                          |\n",
      "+-------------------------------------+----------------------------------------------------+\n"
     ]
    },
    {
     "data": {
      "text/plain": [
       "0.025975336750489575"
      ]
     },
     "execution_count": 4,
     "metadata": {},
     "output_type": "execute_result"
    }
   ],
   "execution_count": 4
  },
  {
   "metadata": {
    "ExecuteTime": {
     "end_time": "2025-03-12T15:30:36.288110Z",
     "start_time": "2025-03-12T15:30:32.478351Z"
    }
   },
   "cell_type": "code",
   "source": "LCA.generate_cf_table()",
   "id": "a6184f20f6cb9f89",
   "outputs": [
    {
     "name": "stdout",
     "output_type": "stream",
     "text": [
      "Matrix type: biosphere\n"
     ]
    },
    {
     "data": {
      "text/plain": [
       "                                   supplier name  \\\n",
       "0     Water, cooling, unspecified natural origin   \n",
       "1     Water, cooling, unspecified natural origin   \n",
       "2     Water, cooling, unspecified natural origin   \n",
       "3     Water, cooling, unspecified natural origin   \n",
       "4     Water, cooling, unspecified natural origin   \n",
       "...                                          ...   \n",
       "8872                                       Water   \n",
       "8873                                       Water   \n",
       "8874                                       Water   \n",
       "8875                                       Water   \n",
       "8876                                       Water   \n",
       "\n",
       "               supplier categories  \\\n",
       "0     (natural resource, in water)   \n",
       "1     (natural resource, in water)   \n",
       "2     (natural resource, in water)   \n",
       "3     (natural resource, in water)   \n",
       "4     (natural resource, in water)   \n",
       "...                            ...   \n",
       "8872        (water, surface water)   \n",
       "8873        (water, surface water)   \n",
       "8874        (water, surface water)   \n",
       "8875        (water, surface water)   \n",
       "8876        (water, surface water)   \n",
       "\n",
       "                                          consumer name  \\\n",
       "0     particleboard production, uncoated, from virgi...   \n",
       "1                 heat and power co-generation, lignite   \n",
       "2                                   atrazine production   \n",
       "3                                 sheet rolling, copper   \n",
       "4         phosphoric acid production, dihydrate process   \n",
       "...                                                 ...   \n",
       "8872  kerosene production, petroleum refinery operation   \n",
       "8873  treatment of residue from mechanical treatment...   \n",
       "8874  treatment of sewage sludge, 70% water, WWT-SLF...   \n",
       "8875              petroleum and gas production, onshore   \n",
       "8876              petroleum and gas production, onshore   \n",
       "\n",
       "                             consumer reference product consumer location  \\\n",
       "0                               particleboard, uncoated               RoW   \n",
       "1                             electricity, high voltage                SI   \n",
       "2                                              atrazine               RoW   \n",
       "3                                 sheet rolling, copper               RoW   \n",
       "4     phosphoric acid, fertiliser grade, without wat...                MA   \n",
       "...                                                 ...               ...   \n",
       "8872                                           kerosene                BR   \n",
       "8873    residue from mechanical treatment, IT accessory                CH   \n",
       "8874  sewage sludge, 70% water, WWT-SLF, waste polye...               GLO   \n",
       "8875                         natural gas, high pressure                VE   \n",
       "8876                                          petroleum                MY   \n",
       "\n",
       "            amount         CF        impact  \n",
       "0     1.044026e-10  20.179399  2.106782e-09  \n",
       "1     8.116760e-07   1.087201  8.824547e-07  \n",
       "2     2.020677e-11  19.819034  4.004786e-10  \n",
       "3     2.248532e-09  19.819034  4.456374e-08  \n",
       "4     2.137708e-07  54.031045  1.155026e-05  \n",
       "...            ...        ...           ...  \n",
       "8872  4.541320e-10  -1.898993 -8.623936e-10  \n",
       "8873  5.577962e-20  -0.737323 -4.112761e-20  \n",
       "8874  1.118355e-15 -19.820964 -2.216687e-14  \n",
       "8875  1.644462e-09  -4.584610 -7.539218e-09  \n",
       "8876  1.366136e-10  -0.516838 -7.060711e-11  \n",
       "\n",
       "[8877 rows x 8 columns]"
      ],
      "text/html": [
       "<div>\n",
       "<style scoped>\n",
       "    .dataframe tbody tr th:only-of-type {\n",
       "        vertical-align: middle;\n",
       "    }\n",
       "\n",
       "    .dataframe tbody tr th {\n",
       "        vertical-align: top;\n",
       "    }\n",
       "\n",
       "    .dataframe thead th {\n",
       "        text-align: right;\n",
       "    }\n",
       "</style>\n",
       "<table border=\"1\" class=\"dataframe\">\n",
       "  <thead>\n",
       "    <tr style=\"text-align: right;\">\n",
       "      <th></th>\n",
       "      <th>supplier name</th>\n",
       "      <th>supplier categories</th>\n",
       "      <th>consumer name</th>\n",
       "      <th>consumer reference product</th>\n",
       "      <th>consumer location</th>\n",
       "      <th>amount</th>\n",
       "      <th>CF</th>\n",
       "      <th>impact</th>\n",
       "    </tr>\n",
       "  </thead>\n",
       "  <tbody>\n",
       "    <tr>\n",
       "      <th>0</th>\n",
       "      <td>Water, cooling, unspecified natural origin</td>\n",
       "      <td>(natural resource, in water)</td>\n",
       "      <td>particleboard production, uncoated, from virgi...</td>\n",
       "      <td>particleboard, uncoated</td>\n",
       "      <td>RoW</td>\n",
       "      <td>1.044026e-10</td>\n",
       "      <td>20.179399</td>\n",
       "      <td>2.106782e-09</td>\n",
       "    </tr>\n",
       "    <tr>\n",
       "      <th>1</th>\n",
       "      <td>Water, cooling, unspecified natural origin</td>\n",
       "      <td>(natural resource, in water)</td>\n",
       "      <td>heat and power co-generation, lignite</td>\n",
       "      <td>electricity, high voltage</td>\n",
       "      <td>SI</td>\n",
       "      <td>8.116760e-07</td>\n",
       "      <td>1.087201</td>\n",
       "      <td>8.824547e-07</td>\n",
       "    </tr>\n",
       "    <tr>\n",
       "      <th>2</th>\n",
       "      <td>Water, cooling, unspecified natural origin</td>\n",
       "      <td>(natural resource, in water)</td>\n",
       "      <td>atrazine production</td>\n",
       "      <td>atrazine</td>\n",
       "      <td>RoW</td>\n",
       "      <td>2.020677e-11</td>\n",
       "      <td>19.819034</td>\n",
       "      <td>4.004786e-10</td>\n",
       "    </tr>\n",
       "    <tr>\n",
       "      <th>3</th>\n",
       "      <td>Water, cooling, unspecified natural origin</td>\n",
       "      <td>(natural resource, in water)</td>\n",
       "      <td>sheet rolling, copper</td>\n",
       "      <td>sheet rolling, copper</td>\n",
       "      <td>RoW</td>\n",
       "      <td>2.248532e-09</td>\n",
       "      <td>19.819034</td>\n",
       "      <td>4.456374e-08</td>\n",
       "    </tr>\n",
       "    <tr>\n",
       "      <th>4</th>\n",
       "      <td>Water, cooling, unspecified natural origin</td>\n",
       "      <td>(natural resource, in water)</td>\n",
       "      <td>phosphoric acid production, dihydrate process</td>\n",
       "      <td>phosphoric acid, fertiliser grade, without wat...</td>\n",
       "      <td>MA</td>\n",
       "      <td>2.137708e-07</td>\n",
       "      <td>54.031045</td>\n",
       "      <td>1.155026e-05</td>\n",
       "    </tr>\n",
       "    <tr>\n",
       "      <th>...</th>\n",
       "      <td>...</td>\n",
       "      <td>...</td>\n",
       "      <td>...</td>\n",
       "      <td>...</td>\n",
       "      <td>...</td>\n",
       "      <td>...</td>\n",
       "      <td>...</td>\n",
       "      <td>...</td>\n",
       "    </tr>\n",
       "    <tr>\n",
       "      <th>8872</th>\n",
       "      <td>Water</td>\n",
       "      <td>(water, surface water)</td>\n",
       "      <td>kerosene production, petroleum refinery operation</td>\n",
       "      <td>kerosene</td>\n",
       "      <td>BR</td>\n",
       "      <td>4.541320e-10</td>\n",
       "      <td>-1.898993</td>\n",
       "      <td>-8.623936e-10</td>\n",
       "    </tr>\n",
       "    <tr>\n",
       "      <th>8873</th>\n",
       "      <td>Water</td>\n",
       "      <td>(water, surface water)</td>\n",
       "      <td>treatment of residue from mechanical treatment...</td>\n",
       "      <td>residue from mechanical treatment, IT accessory</td>\n",
       "      <td>CH</td>\n",
       "      <td>5.577962e-20</td>\n",
       "      <td>-0.737323</td>\n",
       "      <td>-4.112761e-20</td>\n",
       "    </tr>\n",
       "    <tr>\n",
       "      <th>8874</th>\n",
       "      <td>Water</td>\n",
       "      <td>(water, surface water)</td>\n",
       "      <td>treatment of sewage sludge, 70% water, WWT-SLF...</td>\n",
       "      <td>sewage sludge, 70% water, WWT-SLF, waste polye...</td>\n",
       "      <td>GLO</td>\n",
       "      <td>1.118355e-15</td>\n",
       "      <td>-19.820964</td>\n",
       "      <td>-2.216687e-14</td>\n",
       "    </tr>\n",
       "    <tr>\n",
       "      <th>8875</th>\n",
       "      <td>Water</td>\n",
       "      <td>(water, surface water)</td>\n",
       "      <td>petroleum and gas production, onshore</td>\n",
       "      <td>natural gas, high pressure</td>\n",
       "      <td>VE</td>\n",
       "      <td>1.644462e-09</td>\n",
       "      <td>-4.584610</td>\n",
       "      <td>-7.539218e-09</td>\n",
       "    </tr>\n",
       "    <tr>\n",
       "      <th>8876</th>\n",
       "      <td>Water</td>\n",
       "      <td>(water, surface water)</td>\n",
       "      <td>petroleum and gas production, onshore</td>\n",
       "      <td>petroleum</td>\n",
       "      <td>MY</td>\n",
       "      <td>1.366136e-10</td>\n",
       "      <td>-0.516838</td>\n",
       "      <td>-7.060711e-11</td>\n",
       "    </tr>\n",
       "  </tbody>\n",
       "</table>\n",
       "<p>8877 rows × 8 columns</p>\n",
       "</div>"
      ]
     },
     "execution_count": 5,
     "metadata": {},
     "output_type": "execute_result"
    }
   ],
   "execution_count": 5
  },
  {
   "metadata": {
    "ExecuteTime": {
     "end_time": "2024-12-15T17:50:34.701932Z",
     "start_time": "2024-12-15T17:50:34.696160Z"
    }
   },
   "cell_type": "code",
   "source": "LCA.ignored_locations",
   "id": "7961940618b7aca6",
   "outputs": [
    {
     "data": {
      "text/plain": [
       "set()"
      ]
     },
     "execution_count": 7,
     "metadata": {},
     "output_type": "execute_result"
    }
   ],
   "execution_count": 7
  },
  {
   "metadata": {
    "ExecuteTime": {
     "end_time": "2025-03-12T15:31:19.780115Z",
     "start_time": "2025-03-12T15:31:19.775152Z"
    }
   },
   "cell_type": "code",
   "source": [
    "method = ('AWARE 1.2c', 'Country', 'mixed', 'yearly')\n",
    "convmethod = (\n",
    "  # 'ecoinvent-3.10',\n",
    "  'EF v3.1 EN15804',\n",
    "  'water use',\n",
    "  'user deprivation potential (deprivation-weighted water consumption)')"
   ],
   "id": "92b1b43be6023d7a",
   "outputs": [],
   "execution_count": 9
  },
  {
   "metadata": {
    "ExecuteTime": {
     "end_time": "2025-03-12T15:31:21.118432Z",
     "start_time": "2025-03-12T15:31:20.271537Z"
    }
   },
   "cell_type": "code",
   "source": [
    "import bw2calc\n",
    "\n",
    "convLCA = bw2calc.LCA({act: 1}, convmethod)\n",
    "convLCA.lci()\n",
    "convLCA.lcia()\n",
    "convLCA.score"
   ],
   "id": "e4bc7f7d309a36bf",
   "outputs": [
    {
     "name": "stderr",
     "output_type": "stream",
     "text": [
      "/opt/homebrew/Caskroom/miniforge/base/envs/bw2/lib/python3.11/site-packages/scikits/umfpack/umfpack.py:736: UmfpackWarning: (almost) singular matrix! (estimated cond. number: 4.83e+13)\n",
      "  warnings.warn(msg, UmfpackWarning)\n"
     ]
    },
    {
     "data": {
      "text/plain": [
       "0.06176615560312869"
      ]
     },
     "execution_count": 10,
     "metadata": {},
     "output_type": "execute_result"
    }
   ],
   "execution_count": 10
  },
  {
   "metadata": {},
   "cell_type": "code",
   "outputs": [],
   "execution_count": null,
   "source": "",
   "id": "693d8b4bbb10bedb"
  }
 ],
 "metadata": {
  "kernelspec": {
   "display_name": "Python 3",
   "language": "python",
   "name": "python3"
  },
  "language_info": {
   "codemirror_mode": {
    "name": "ipython",
    "version": 2
   },
   "file_extension": ".py",
   "mimetype": "text/x-python",
   "name": "python",
   "nbconvert_exporter": "python",
   "pygments_lexer": "ipython2",
   "version": "2.7.6"
  }
 },
 "nbformat": 4,
 "nbformat_minor": 5
}

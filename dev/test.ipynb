{
 "cells": [
  {
   "cell_type": "code",
   "id": "initial_id",
   "metadata": {
    "collapsed": true,
    "ExecuteTime": {
     "end_time": "2024-12-13T17:02:01.960714Z",
     "start_time": "2024-12-13T17:02:00.607898Z"
    }
   },
   "source": [
    "import bw2data, bw2calc, bw2io\n",
    "from edges import SpatialLCA, get_available_methods\n",
    "from bw2analyzer.contribution import ContributionAnalysis"
   ],
   "outputs": [],
   "execution_count": 1
  },
  {
   "metadata": {
    "ExecuteTime": {
     "end_time": "2024-12-13T17:02:01.971531Z",
     "start_time": "2024-12-13T17:02:01.963227Z"
    }
   },
   "cell_type": "code",
   "source": "bw2data.projects.set_current(\"bw25_ei310\")",
   "id": "5dfdb1946f981316",
   "outputs": [],
   "execution_count": 2
  },
  {
   "metadata": {
    "ExecuteTime": {
     "end_time": "2024-12-13T17:02:02.011751Z",
     "start_time": "2024-12-13T17:02:02.004108Z"
    }
   },
   "cell_type": "code",
   "source": [
    "act = bw2data.Database(\"ecoinvent-3.10-cutoff\").random()\n",
    "act"
   ],
   "id": "f6fdb8103539902c",
   "outputs": [
    {
     "data": {
      "text/plain": [
       "'market for cement, CEM V/B' (kilogram, RoW, None)"
      ]
     },
     "execution_count": 3,
     "metadata": {},
     "output_type": "execute_result"
    }
   ],
   "execution_count": 3
  },
  {
   "metadata": {
    "ExecuteTime": {
     "end_time": "2024-12-13T17:02:02.075513Z",
     "start_time": "2024-12-13T17:02:02.073185Z"
    }
   },
   "cell_type": "code",
   "source": [
    "method = ('AWARE 1.2c', 'Country', 'unspecified', 'yearly')\n",
    "convmethod = ('ecoinvent-3.10',\n",
    "  'EF v3.1 EN15804',\n",
    "  'water use',\n",
    "  'user deprivation potential (deprivation-weighted water consumption)')"
   ],
   "id": "92b1b43be6023d7a",
   "outputs": [],
   "execution_count": 4
  },
  {
   "metadata": {
    "ExecuteTime": {
     "end_time": "2024-12-13T17:02:03.060118Z",
     "start_time": "2024-12-13T17:02:02.638651Z"
    }
   },
   "cell_type": "code",
   "source": [
    "import bw2calc\n",
    "\n",
    "convLCA = bw2calc.LCA({act: 1}, convmethod)\n",
    "convLCA.lci()\n",
    "convLCA.lcia()\n",
    "convLCA.score"
   ],
   "id": "e4bc7f7d309a36bf",
   "outputs": [
    {
     "name": "stderr",
     "output_type": "stream",
     "text": [
      "/Users/romain/anaconda3/envs/bw25/lib/python3.11/site-packages/scikits/umfpack/umfpack.py:736: UmfpackWarning: (almost) singular matrix! (estimated cond. number: 1.21e+13)\n",
      "  warnings.warn(msg, UmfpackWarning)\n"
     ]
    },
    {
     "data": {
      "text/plain": [
       "0.033590708813681126"
      ]
     },
     "execution_count": 5,
     "metadata": {},
     "output_type": "execute_result"
    }
   ],
   "execution_count": 5
  },
  {
   "metadata": {
    "ExecuteTime": {
     "end_time": "2024-12-13T17:02:09.233912Z",
     "start_time": "2024-12-13T17:02:03.320829Z"
    }
   },
   "cell_type": "code",
   "source": [
    "LCA = SpatialLCA({act: 1}, method)\n",
    "LCA.lci()\n",
    "LCA.lcia()\n",
    "LCA.score"
   ],
   "id": "94850550b5f1fff",
   "outputs": [
    {
     "data": {
      "text/plain": [
       "0.023794393464582342"
      ]
     },
     "execution_count": 6,
     "metadata": {},
     "output_type": "execute_result"
    }
   ],
   "execution_count": 6
  },
  {
   "metadata": {
    "ExecuteTime": {
     "end_time": "2024-12-13T17:04:19.138898Z",
     "start_time": "2024-12-13T17:04:19.134725Z"
    }
   },
   "cell_type": "code",
   "source": "LCA.ignored_locations",
   "id": "96d7bfa250c0556e",
   "outputs": [
    {
     "data": {
      "text/plain": [
       "set()"
      ]
     },
     "execution_count": 7,
     "metadata": {},
     "output_type": "execute_result"
    }
   ],
   "execution_count": 7
  },
  {
   "metadata": {
    "ExecuteTime": {
     "end_time": "2024-12-13T17:04:26.118371Z",
     "start_time": "2024-12-13T17:04:23.935187Z"
    }
   },
   "cell_type": "code",
   "source": "LCA.generate_cf_table()",
   "id": "f612c191acd851bb",
   "outputs": [
    {
     "data": {
      "text/plain": [
       "                                                   flow  \\\n",
       "0     (Water, cooling, unspecified natural origin, (...   \n",
       "1     (Water, cooling, unspecified natural origin, (...   \n",
       "2     (Water, cooling, unspecified natural origin, (...   \n",
       "3     (Water, cooling, unspecified natural origin, (...   \n",
       "4     (Water, cooling, unspecified natural origin, (...   \n",
       "...                                                 ...   \n",
       "8872                    (Water, (water, surface water))   \n",
       "8873                    (Water, (water, surface water))   \n",
       "8874                    (Water, (water, surface water))   \n",
       "8875                    (Water, (water, surface water))   \n",
       "8876                    (Water, (water, surface water))   \n",
       "\n",
       "                                                   name  \\\n",
       "0                                  cast iron production   \n",
       "1                   polystyrene production, high impact   \n",
       "2                            cast iron milling, average   \n",
       "3                           electricity production, oil   \n",
       "4                   polypropylene production, granulate   \n",
       "...                                                 ...   \n",
       "8872              petroleum and gas production, onshore   \n",
       "8873  treatment of waste emulsion paint, municipal i...   \n",
       "8874     aluminium production, primary, liquid, prebake   \n",
       "8875                             citric acid production   \n",
       "8876  treatment of leachate, SLF, refinery sludge, w...   \n",
       "\n",
       "                          reference product  \\\n",
       "0                                 cast iron   \n",
       "1                  polystyrene, high impact   \n",
       "2     cast iron removed by milling, average   \n",
       "3                 electricity, high voltage   \n",
       "4                  polypropylene, granulate   \n",
       "...                                     ...   \n",
       "8872             natural gas, high pressure   \n",
       "8873                   waste emulsion paint   \n",
       "8874             aluminium, primary, liquid   \n",
       "8875                            citric acid   \n",
       "8876         leachate, SLF, refinery sludge   \n",
       "\n",
       "                                    location        amount         CF  \\\n",
       "0                                        RoW  6.640284e-07  28.180497   \n",
       "1                                        RER  3.500437e-10  17.328016   \n",
       "2                                        RoW  5.763341e-13  28.180497   \n",
       "3                                      CA-PE  8.667783e-10   1.713382   \n",
       "4                                        RER  6.467695e-08  17.328016   \n",
       "...                                      ...           ...        ...   \n",
       "8872                                      TH  1.059531e-09  -6.981635   \n",
       "8873                                      CH  8.205367e-11  -0.965402   \n",
       "8874  IAI Area, Russia & RER w/o EU27 & EFTA  1.456452e-08 -12.226962   \n",
       "8875                                     RNA  1.872882e-10 -27.325808   \n",
       "8876                                      CH  1.558448e-13  -0.965402   \n",
       "\n",
       "            impact  \n",
       "0     1.871265e-05  \n",
       "1     6.065562e-09  \n",
       "2     1.624138e-11  \n",
       "3     1.485122e-09  \n",
       "4     1.120723e-06  \n",
       "...            ...  \n",
       "8872 -7.397259e-09  \n",
       "8873 -7.921480e-11  \n",
       "8874 -1.780799e-07  \n",
       "8875 -5.117801e-09  \n",
       "8876 -1.504529e-13  \n",
       "\n",
       "[8877 rows x 7 columns]"
      ],
      "text/html": [
       "<div>\n",
       "<style scoped>\n",
       "    .dataframe tbody tr th:only-of-type {\n",
       "        vertical-align: middle;\n",
       "    }\n",
       "\n",
       "    .dataframe tbody tr th {\n",
       "        vertical-align: top;\n",
       "    }\n",
       "\n",
       "    .dataframe thead th {\n",
       "        text-align: right;\n",
       "    }\n",
       "</style>\n",
       "<table border=\"1\" class=\"dataframe\">\n",
       "  <thead>\n",
       "    <tr style=\"text-align: right;\">\n",
       "      <th></th>\n",
       "      <th>flow</th>\n",
       "      <th>name</th>\n",
       "      <th>reference product</th>\n",
       "      <th>location</th>\n",
       "      <th>amount</th>\n",
       "      <th>CF</th>\n",
       "      <th>impact</th>\n",
       "    </tr>\n",
       "  </thead>\n",
       "  <tbody>\n",
       "    <tr>\n",
       "      <th>0</th>\n",
       "      <td>(Water, cooling, unspecified natural origin, (...</td>\n",
       "      <td>cast iron production</td>\n",
       "      <td>cast iron</td>\n",
       "      <td>RoW</td>\n",
       "      <td>6.640284e-07</td>\n",
       "      <td>28.180497</td>\n",
       "      <td>1.871265e-05</td>\n",
       "    </tr>\n",
       "    <tr>\n",
       "      <th>1</th>\n",
       "      <td>(Water, cooling, unspecified natural origin, (...</td>\n",
       "      <td>polystyrene production, high impact</td>\n",
       "      <td>polystyrene, high impact</td>\n",
       "      <td>RER</td>\n",
       "      <td>3.500437e-10</td>\n",
       "      <td>17.328016</td>\n",
       "      <td>6.065562e-09</td>\n",
       "    </tr>\n",
       "    <tr>\n",
       "      <th>2</th>\n",
       "      <td>(Water, cooling, unspecified natural origin, (...</td>\n",
       "      <td>cast iron milling, average</td>\n",
       "      <td>cast iron removed by milling, average</td>\n",
       "      <td>RoW</td>\n",
       "      <td>5.763341e-13</td>\n",
       "      <td>28.180497</td>\n",
       "      <td>1.624138e-11</td>\n",
       "    </tr>\n",
       "    <tr>\n",
       "      <th>3</th>\n",
       "      <td>(Water, cooling, unspecified natural origin, (...</td>\n",
       "      <td>electricity production, oil</td>\n",
       "      <td>electricity, high voltage</td>\n",
       "      <td>CA-PE</td>\n",
       "      <td>8.667783e-10</td>\n",
       "      <td>1.713382</td>\n",
       "      <td>1.485122e-09</td>\n",
       "    </tr>\n",
       "    <tr>\n",
       "      <th>4</th>\n",
       "      <td>(Water, cooling, unspecified natural origin, (...</td>\n",
       "      <td>polypropylene production, granulate</td>\n",
       "      <td>polypropylene, granulate</td>\n",
       "      <td>RER</td>\n",
       "      <td>6.467695e-08</td>\n",
       "      <td>17.328016</td>\n",
       "      <td>1.120723e-06</td>\n",
       "    </tr>\n",
       "    <tr>\n",
       "      <th>...</th>\n",
       "      <td>...</td>\n",
       "      <td>...</td>\n",
       "      <td>...</td>\n",
       "      <td>...</td>\n",
       "      <td>...</td>\n",
       "      <td>...</td>\n",
       "      <td>...</td>\n",
       "    </tr>\n",
       "    <tr>\n",
       "      <th>8872</th>\n",
       "      <td>(Water, (water, surface water))</td>\n",
       "      <td>petroleum and gas production, onshore</td>\n",
       "      <td>natural gas, high pressure</td>\n",
       "      <td>TH</td>\n",
       "      <td>1.059531e-09</td>\n",
       "      <td>-6.981635</td>\n",
       "      <td>-7.397259e-09</td>\n",
       "    </tr>\n",
       "    <tr>\n",
       "      <th>8873</th>\n",
       "      <td>(Water, (water, surface water))</td>\n",
       "      <td>treatment of waste emulsion paint, municipal i...</td>\n",
       "      <td>waste emulsion paint</td>\n",
       "      <td>CH</td>\n",
       "      <td>8.205367e-11</td>\n",
       "      <td>-0.965402</td>\n",
       "      <td>-7.921480e-11</td>\n",
       "    </tr>\n",
       "    <tr>\n",
       "      <th>8874</th>\n",
       "      <td>(Water, (water, surface water))</td>\n",
       "      <td>aluminium production, primary, liquid, prebake</td>\n",
       "      <td>aluminium, primary, liquid</td>\n",
       "      <td>IAI Area, Russia &amp; RER w/o EU27 &amp; EFTA</td>\n",
       "      <td>1.456452e-08</td>\n",
       "      <td>-12.226962</td>\n",
       "      <td>-1.780799e-07</td>\n",
       "    </tr>\n",
       "    <tr>\n",
       "      <th>8875</th>\n",
       "      <td>(Water, (water, surface water))</td>\n",
       "      <td>citric acid production</td>\n",
       "      <td>citric acid</td>\n",
       "      <td>RNA</td>\n",
       "      <td>1.872882e-10</td>\n",
       "      <td>-27.325808</td>\n",
       "      <td>-5.117801e-09</td>\n",
       "    </tr>\n",
       "    <tr>\n",
       "      <th>8876</th>\n",
       "      <td>(Water, (water, surface water))</td>\n",
       "      <td>treatment of leachate, SLF, refinery sludge, w...</td>\n",
       "      <td>leachate, SLF, refinery sludge</td>\n",
       "      <td>CH</td>\n",
       "      <td>1.558448e-13</td>\n",
       "      <td>-0.965402</td>\n",
       "      <td>-1.504529e-13</td>\n",
       "    </tr>\n",
       "  </tbody>\n",
       "</table>\n",
       "<p>8877 rows × 7 columns</p>\n",
       "</div>"
      ]
     },
     "execution_count": 8,
     "metadata": {},
     "output_type": "execute_result"
    }
   ],
   "execution_count": 8
  },
  {
   "metadata": {
    "ExecuteTime": {
     "end_time": "2024-12-11T13:09:38.037783Z",
     "start_time": "2024-12-11T13:09:38.030048Z"
    }
   },
   "cell_type": "code",
   "source": "ContributionAnalysis().annotated_top_emissions(LCA, limit=10)",
   "id": "88bfe49c3ac61ce3",
   "outputs": [
    {
     "data": {
      "text/plain": [
       "[(-0.7163026759599563,\n",
       "  0.2935884512561416,\n",
       "  'Water' (cubic meter, None, ('water',))),\n",
       " (0.6688484258710877,\n",
       "  0.23508477974056977,\n",
       "  'Water, turbine use, unspecified natural origin' (cubic meter, None, ('natural resource', 'in water'))),\n",
       " (0.04781804107790834,\n",
       "  0.055576536835671285,\n",
       "  'Water, cooling, unspecified natural origin' (cubic meter, None, ('natural resource', 'in water'))),\n",
       " (0.00020712443746158797,\n",
       "  0.0014826398294574454,\n",
       "  'Water, river' (cubic meter, None, ('natural resource', 'in water'))),\n",
       " (0.00013507704946424606,\n",
       "  2.457000304668285e-05,\n",
       "  'Water, unspecified natural origin' (cubic meter, None, ('natural resource', 'in water'))),\n",
       " (9.184280114282116e-05,\n",
       "  0.0038333509602456743,\n",
       "  'Water, well, in ground' (cubic meter, None, ('natural resource', 'in water'))),\n",
       " (-3.826499647325903e-05,\n",
       "  6.488861959737442e-05,\n",
       "  'Water' (cubic meter, None, ('water', 'surface water'))),\n",
       " (-5.463602033553495e-06,\n",
       "  1.1898117270160745e-06,\n",
       "  'Water' (cubic meter, None, ('water', 'ground-'))),\n",
       " (3.166310893956576e-07,\n",
       "  2.8186650568565596e-07,\n",
       "  'Water, lake' (cubic meter, None, ('natural resource', 'in water'))),\n",
       " (9.115978231575217e-11,\n",
       "  4.9774689689532955e-09,\n",
       "  'Water, in air' (cubic meter, None, ('natural resource', 'in air')))]"
      ]
     },
     "execution_count": 10,
     "metadata": {},
     "output_type": "execute_result"
    }
   ],
   "execution_count": 10
  },
  {
   "metadata": {
    "ExecuteTime": {
     "end_time": "2024-12-13T17:19:34.742366Z",
     "start_time": "2024-12-13T17:19:34.736278Z"
    }
   },
   "cell_type": "code",
   "source": "get_available_methods()",
   "id": "8d9cc1007237b6f3",
   "outputs": [
    {
     "data": {
      "text/plain": [
       "[('AWARE 1.2c', 'Country', 'irri', 'apr'),\n",
       " ('AWARE 1.2c', 'Country', 'irri', 'aug'),\n",
       " ('AWARE 1.2c', 'Country', 'irri', 'dec'),\n",
       " ('AWARE 1.2c', 'Country', 'irri', 'feb'),\n",
       " ('AWARE 1.2c', 'Country', 'irri', 'jan'),\n",
       " ('AWARE 1.2c', 'Country', 'irri', 'jul'),\n",
       " ('AWARE 1.2c', 'Country', 'irri', 'jun'),\n",
       " ('AWARE 1.2c', 'Country', 'irri', 'mar'),\n",
       " ('AWARE 1.2c', 'Country', 'irri', 'may'),\n",
       " ('AWARE 1.2c', 'Country', 'irri', 'nov'),\n",
       " ('AWARE 1.2c', 'Country', 'irri', 'oct'),\n",
       " ('AWARE 1.2c', 'Country', 'irri', 'sep'),\n",
       " ('AWARE 1.2c', 'Country', 'irri', 'yearly'),\n",
       " ('AWARE 1.2c', 'Country', 'non', 'irri', 'apr'),\n",
       " ('AWARE 1.2c', 'Country', 'non', 'irri', 'aug'),\n",
       " ('AWARE 1.2c', 'Country', 'non', 'irri', 'dec'),\n",
       " ('AWARE 1.2c', 'Country', 'non', 'irri', 'feb'),\n",
       " ('AWARE 1.2c', 'Country', 'non', 'irri', 'jan'),\n",
       " ('AWARE 1.2c', 'Country', 'non', 'irri', 'jul'),\n",
       " ('AWARE 1.2c', 'Country', 'non', 'irri', 'jun'),\n",
       " ('AWARE 1.2c', 'Country', 'non', 'irri', 'mar'),\n",
       " ('AWARE 1.2c', 'Country', 'non', 'irri', 'may'),\n",
       " ('AWARE 1.2c', 'Country', 'non', 'irri', 'nov'),\n",
       " ('AWARE 1.2c', 'Country', 'non', 'irri', 'oct'),\n",
       " ('AWARE 1.2c', 'Country', 'non', 'irri', 'sep'),\n",
       " ('AWARE 1.2c', 'Country', 'non', 'irri', 'yearly'),\n",
       " ('AWARE 1.2c', 'Country', 'unspecified', 'apr'),\n",
       " ('AWARE 1.2c', 'Country', 'unspecified', 'aug'),\n",
       " ('AWARE 1.2c', 'Country', 'unspecified', 'dec'),\n",
       " ('AWARE 1.2c', 'Country', 'unspecified', 'feb'),\n",
       " ('AWARE 1.2c', 'Country', 'unspecified', 'jan'),\n",
       " ('AWARE 1.2c', 'Country', 'unspecified', 'jul'),\n",
       " ('AWARE 1.2c', 'Country', 'unspecified', 'jun'),\n",
       " ('AWARE 1.2c', 'Country', 'unspecified', 'mar'),\n",
       " ('AWARE 1.2c', 'Country', 'unspecified', 'may'),\n",
       " ('AWARE 1.2c', 'Country', 'unspecified', 'nov'),\n",
       " ('AWARE 1.2c', 'Country', 'unspecified', 'oct'),\n",
       " ('AWARE 1.2c', 'Country', 'unspecified', 'sep'),\n",
       " ('AWARE 1.2c', 'Country', 'unspecified', 'yearly')]"
      ]
     },
     "execution_count": 9,
     "metadata": {},
     "output_type": "execute_result"
    }
   ],
   "execution_count": 9
  },
  {
   "metadata": {
    "ExecuteTime": {
     "end_time": "2024-12-11T13:12:57.650796Z",
     "start_time": "2024-12-11T13:12:56.451484Z"
    }
   },
   "cell_type": "code",
   "source": "LCA.generate_cf_table()",
   "id": "e0b1eff0a7f0be40",
   "outputs": [
    {
     "data": {
      "text/plain": [
       "                                                   flow  \\\n",
       "0     (Water, cooling, unspecified natural origin, (...   \n",
       "1     (Water, cooling, unspecified natural origin, (...   \n",
       "2     (Water, cooling, unspecified natural origin, (...   \n",
       "3     (Water, cooling, unspecified natural origin, (...   \n",
       "4     (Water, cooling, unspecified natural origin, (...   \n",
       "...                                                 ...   \n",
       "3859                    (Water, (water, surface water))   \n",
       "3860                    (Water, (water, surface water))   \n",
       "3861                    (Water, (water, surface water))   \n",
       "3862                    (Water, (water, surface water))   \n",
       "3863                    (Water, (water, surface water))   \n",
       "\n",
       "                                                   name  \\\n",
       "0                           electricity production, oil   \n",
       "1                       electricity production, lignite   \n",
       "2     electricity production, nuclear, boiling water...   \n",
       "3                           electricity production, oil   \n",
       "4         phosphoric acid production, dihydrate process   \n",
       "...                                                 ...   \n",
       "3859  treatment of waste polyethylene, municipal inc...   \n",
       "3860              petroleum and gas production, onshore   \n",
       "3861              petroleum and gas production, onshore   \n",
       "3862  treatment of waste emulsion paint, municipal i...   \n",
       "3863  treatment of leachate, SLF, refinery sludge, w...   \n",
       "\n",
       "                                      reference product location  \\\n",
       "0                             electricity, high voltage    CA-PE   \n",
       "1                             electricity, high voltage       MK   \n",
       "2                             electricity, high voltage       TW   \n",
       "3                             electricity, high voltage    IN-BR   \n",
       "4     fluosilicic acid, without water, in 22% soluti...       MA   \n",
       "...                                                 ...      ...   \n",
       "3859                                 waste polyethylene       CH   \n",
       "3860                                          petroleum       QA   \n",
       "3861                         natural gas, high pressure       TH   \n",
       "3862                               waste emulsion paint       CH   \n",
       "3863                     leachate, SLF, refinery sludge       CH   \n",
       "\n",
       "            amount         CF        impact  \n",
       "0     6.246820e-08   1.713382  7.600501e-09  \n",
       "1     8.000828e-05  48.894393  2.669999e-04  \n",
       "2     4.689918e-04   2.225805  6.656068e-05  \n",
       "3     2.416318e-06  14.183279  3.046240e-06  \n",
       "4     1.076705e-08  87.352520  3.328043e-07  \n",
       "...            ...        ...           ...  \n",
       "3859  6.462038e-07  -0.965402 -1.287748e-10  \n",
       "3860  1.151298e-04 -49.511931 -9.146944e-08  \n",
       "3861  7.372886e-05  -6.981635 -3.358919e-08  \n",
       "3862  9.712645e-09  -0.965402 -5.519384e-11  \n",
       "3863  1.553337e-13  -0.965402 -1.496842e-13  \n",
       "\n",
       "[3864 rows x 7 columns]"
      ],
      "text/html": [
       "<div>\n",
       "<style scoped>\n",
       "    .dataframe tbody tr th:only-of-type {\n",
       "        vertical-align: middle;\n",
       "    }\n",
       "\n",
       "    .dataframe tbody tr th {\n",
       "        vertical-align: top;\n",
       "    }\n",
       "\n",
       "    .dataframe thead th {\n",
       "        text-align: right;\n",
       "    }\n",
       "</style>\n",
       "<table border=\"1\" class=\"dataframe\">\n",
       "  <thead>\n",
       "    <tr style=\"text-align: right;\">\n",
       "      <th></th>\n",
       "      <th>flow</th>\n",
       "      <th>name</th>\n",
       "      <th>reference product</th>\n",
       "      <th>location</th>\n",
       "      <th>amount</th>\n",
       "      <th>CF</th>\n",
       "      <th>impact</th>\n",
       "    </tr>\n",
       "  </thead>\n",
       "  <tbody>\n",
       "    <tr>\n",
       "      <th>0</th>\n",
       "      <td>(Water, cooling, unspecified natural origin, (...</td>\n",
       "      <td>electricity production, oil</td>\n",
       "      <td>electricity, high voltage</td>\n",
       "      <td>CA-PE</td>\n",
       "      <td>6.246820e-08</td>\n",
       "      <td>1.713382</td>\n",
       "      <td>7.600501e-09</td>\n",
       "    </tr>\n",
       "    <tr>\n",
       "      <th>1</th>\n",
       "      <td>(Water, cooling, unspecified natural origin, (...</td>\n",
       "      <td>electricity production, lignite</td>\n",
       "      <td>electricity, high voltage</td>\n",
       "      <td>MK</td>\n",
       "      <td>8.000828e-05</td>\n",
       "      <td>48.894393</td>\n",
       "      <td>2.669999e-04</td>\n",
       "    </tr>\n",
       "    <tr>\n",
       "      <th>2</th>\n",
       "      <td>(Water, cooling, unspecified natural origin, (...</td>\n",
       "      <td>electricity production, nuclear, boiling water...</td>\n",
       "      <td>electricity, high voltage</td>\n",
       "      <td>TW</td>\n",
       "      <td>4.689918e-04</td>\n",
       "      <td>2.225805</td>\n",
       "      <td>6.656068e-05</td>\n",
       "    </tr>\n",
       "    <tr>\n",
       "      <th>3</th>\n",
       "      <td>(Water, cooling, unspecified natural origin, (...</td>\n",
       "      <td>electricity production, oil</td>\n",
       "      <td>electricity, high voltage</td>\n",
       "      <td>IN-BR</td>\n",
       "      <td>2.416318e-06</td>\n",
       "      <td>14.183279</td>\n",
       "      <td>3.046240e-06</td>\n",
       "    </tr>\n",
       "    <tr>\n",
       "      <th>4</th>\n",
       "      <td>(Water, cooling, unspecified natural origin, (...</td>\n",
       "      <td>phosphoric acid production, dihydrate process</td>\n",
       "      <td>fluosilicic acid, without water, in 22% soluti...</td>\n",
       "      <td>MA</td>\n",
       "      <td>1.076705e-08</td>\n",
       "      <td>87.352520</td>\n",
       "      <td>3.328043e-07</td>\n",
       "    </tr>\n",
       "    <tr>\n",
       "      <th>...</th>\n",
       "      <td>...</td>\n",
       "      <td>...</td>\n",
       "      <td>...</td>\n",
       "      <td>...</td>\n",
       "      <td>...</td>\n",
       "      <td>...</td>\n",
       "      <td>...</td>\n",
       "    </tr>\n",
       "    <tr>\n",
       "      <th>3859</th>\n",
       "      <td>(Water, (water, surface water))</td>\n",
       "      <td>treatment of waste polyethylene, municipal inc...</td>\n",
       "      <td>waste polyethylene</td>\n",
       "      <td>CH</td>\n",
       "      <td>6.462038e-07</td>\n",
       "      <td>-0.965402</td>\n",
       "      <td>-1.287748e-10</td>\n",
       "    </tr>\n",
       "    <tr>\n",
       "      <th>3860</th>\n",
       "      <td>(Water, (water, surface water))</td>\n",
       "      <td>petroleum and gas production, onshore</td>\n",
       "      <td>petroleum</td>\n",
       "      <td>QA</td>\n",
       "      <td>1.151298e-04</td>\n",
       "      <td>-49.511931</td>\n",
       "      <td>-9.146944e-08</td>\n",
       "    </tr>\n",
       "    <tr>\n",
       "      <th>3861</th>\n",
       "      <td>(Water, (water, surface water))</td>\n",
       "      <td>petroleum and gas production, onshore</td>\n",
       "      <td>natural gas, high pressure</td>\n",
       "      <td>TH</td>\n",
       "      <td>7.372886e-05</td>\n",
       "      <td>-6.981635</td>\n",
       "      <td>-3.358919e-08</td>\n",
       "    </tr>\n",
       "    <tr>\n",
       "      <th>3862</th>\n",
       "      <td>(Water, (water, surface water))</td>\n",
       "      <td>treatment of waste emulsion paint, municipal i...</td>\n",
       "      <td>waste emulsion paint</td>\n",
       "      <td>CH</td>\n",
       "      <td>9.712645e-09</td>\n",
       "      <td>-0.965402</td>\n",
       "      <td>-5.519384e-11</td>\n",
       "    </tr>\n",
       "    <tr>\n",
       "      <th>3863</th>\n",
       "      <td>(Water, (water, surface water))</td>\n",
       "      <td>treatment of leachate, SLF, refinery sludge, w...</td>\n",
       "      <td>leachate, SLF, refinery sludge</td>\n",
       "      <td>CH</td>\n",
       "      <td>1.553337e-13</td>\n",
       "      <td>-0.965402</td>\n",
       "      <td>-1.496842e-13</td>\n",
       "    </tr>\n",
       "  </tbody>\n",
       "</table>\n",
       "<p>3864 rows × 7 columns</p>\n",
       "</div>"
      ]
     },
     "execution_count": 6,
     "metadata": {},
     "output_type": "execute_result"
    }
   ],
   "execution_count": 6
  },
  {
   "metadata": {
    "ExecuteTime": {
     "end_time": "2024-12-13T16:56:20.949270Z",
     "start_time": "2024-12-13T16:56:20.887577Z"
    }
   },
   "cell_type": "code",
   "source": [
    "from constructive_geometries import geomatcher\n",
    "\n",
    "geo = geomatcher.Geomatcher()\n",
    "geo.contained(\"RER\")"
   ],
   "id": "49aa43ef7e982f22",
   "outputs": [
    {
     "data": {
      "text/plain": [
       "[('ecoinvent', 'RER'),\n",
       " ('ecoinvent', 'Europe without Austria'),\n",
       " ('ecoinvent', 'Europe without Switzerland'),\n",
       " ('ecoinvent', 'Europe without Switzerland and Austria'),\n",
       " ('ecoinvent', 'RER w/o CH+DE'),\n",
       " ('ecoinvent', 'Europe, without Russia and Türkiye'),\n",
       " ('ecoinvent', 'RER w/o RU'),\n",
       " ('ecoinvent', 'Europe without Switzerland and France'),\n",
       " ('ecoinvent', 'RER w/o DE+NL+RU'),\n",
       " ('ecoinvent', 'RER w/o DE+NL+NO'),\n",
       " ('ecoinvent', 'ENTSO-E'),\n",
       " ('ecoinvent', 'Europe without NORDEL (NCPA)'),\n",
       " ('ecoinvent', 'RER w/o DE+NL+NO+RU'),\n",
       " ('ecoinvent', 'RER w/o AT+BE+CH+DE+FR+IT'),\n",
       " ('ecoinvent', 'UCTE'),\n",
       " ('ecoinvent', 'IAI Area, EU27 & EFTA'),\n",
       " ('ecoinvent', 'UCTE without Germany'),\n",
       " ('ecoinvent', 'UCTE without France'),\n",
       " ('ecoinvent', 'UCTE without Germany and France'),\n",
       " ('ecoinvent', 'UN-SEUROPE'),\n",
       " ('ecoinvent', 'UN-NEUROPE'),\n",
       " 'GB',\n",
       " ('ecoinvent', 'WEU'),\n",
       " ('ecoinvent', 'NORDEL'),\n",
       " 'SI',\n",
       " ('ecoinvent', 'BALTSO'),\n",
       " 'IT',\n",
       " ('ecoinvent', 'Russia (Europe)'),\n",
       " 'LV',\n",
       " 'NO',\n",
       " 'FR',\n",
       " 'GR',\n",
       " 'MK',\n",
       " ('ecoinvent', 'CENTREL'),\n",
       " 'ES',\n",
       " 'MT',\n",
       " 'SE',\n",
       " 'FI',\n",
       " 'CS',\n",
       " 'HR',\n",
       " 'HU',\n",
       " 'MD',\n",
       " 'RO',\n",
       " 'IE',\n",
       " 'CH',\n",
       " 'DE',\n",
       " 'PT',\n",
       " 'UA',\n",
       " 'XK',\n",
       " 'BG',\n",
       " 'RS',\n",
       " 'ME',\n",
       " 'NL',\n",
       " 'SJ',\n",
       " 'BA',\n",
       " 'EE',\n",
       " 'DK',\n",
       " 'LI',\n",
       " 'AX',\n",
       " 'PL',\n",
       " 'CZ',\n",
       " 'BE',\n",
       " 'IS',\n",
       " 'AL',\n",
       " 'LT',\n",
       " 'AT',\n",
       " 'SM',\n",
       " ('ecoinvent', 'Canary Islands'),\n",
       " 'SK',\n",
       " 'AD',\n",
       " 'BY',\n",
       " 'GG',\n",
       " 'LU',\n",
       " 'IM',\n",
       " 'GI',\n",
       " 'JE',\n",
       " 'MC',\n",
       " 'VA']"
      ]
     },
     "execution_count": 8,
     "metadata": {},
     "output_type": "execute_result"
    }
   ],
   "execution_count": 8
  },
  {
   "metadata": {},
   "cell_type": "code",
   "outputs": [],
   "execution_count": null,
   "source": "",
   "id": "f7e59393edc184bb"
  }
 ],
 "metadata": {
  "kernelspec": {
   "display_name": "Python 3",
   "language": "python",
   "name": "python3"
  },
  "language_info": {
   "codemirror_mode": {
    "name": "ipython",
    "version": 2
   },
   "file_extension": ".py",
   "mimetype": "text/x-python",
   "name": "python",
   "nbconvert_exporter": "python",
   "pygments_lexer": "ipython2",
   "version": "2.7.6"
  }
 },
 "nbformat": 4,
 "nbformat_minor": 5
}

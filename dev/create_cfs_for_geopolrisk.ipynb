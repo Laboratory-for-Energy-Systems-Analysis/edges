{
 "cells": [
  {
   "cell_type": "code",
   "id": "initial_id",
   "metadata": {
    "collapsed": true,
    "ExecuteTime": {
     "end_time": "2024-12-15T17:18:32.665202Z",
     "start_time": "2024-12-15T17:18:32.648966Z"
    }
   },
   "source": [
    "import csv\n",
    "import json\n",
    "import numpy as np\n",
    "import pandas as pd\n",
    "import country_converter as coco"
   ],
   "outputs": [],
   "execution_count": 9
  },
  {
   "metadata": {
    "ExecuteTime": {
     "end_time": "2024-12-15T17:17:53.415452Z",
     "start_time": "2024-12-15T17:17:53.413320Z"
    }
   },
   "cell_type": "code",
   "source": "fp = \"/Users/romain/GitHub/edges/dev/geopolrisk_cfs.xlsx\" ",
   "id": "6d9bed3d139d791b",
   "outputs": [],
   "execution_count": 6
  },
  {
   "metadata": {
    "ExecuteTime": {
     "end_time": "2024-12-15T17:17:54.294596Z",
     "start_time": "2024-12-15T17:17:53.846706Z"
    }
   },
   "cell_type": "code",
   "source": [
    "# Load the data into a DataFrame\n",
    "df = pd.read_excel(fp, sheet_name=\"long table\")"
   ],
   "id": "a9fabfd2e5b5083c",
   "outputs": [],
   "execution_count": 7
  },
  {
   "metadata": {
    "ExecuteTime": {
     "end_time": "2024-12-15T17:17:55.721245Z",
     "start_time": "2024-12-15T17:17:55.709852Z"
    }
   },
   "cell_type": "code",
   "source": "df",
   "id": "b770e80db3bcec19",
   "outputs": [
    {
     "data": {
      "text/plain": [
       "       Material      Country     Value  \\\n",
       "0     Aluminium  Afghanistan  0.322992   \n",
       "1        Baryte  Afghanistan  0.123092   \n",
       "2      Chromium  Afghanistan  0.000069   \n",
       "3          Coal  Afghanistan  0.112219   \n",
       "4     Crude oil  Afghanistan  0.049085   \n",
       "...         ...          ...       ...   \n",
       "5332        Tin     Zimbabwe  0.101446   \n",
       "5333   Titanium     Zimbabwe  0.082589   \n",
       "5334   Tungsten     Zimbabwe  0.014046   \n",
       "5335       Zinc     Zimbabwe  0.076558   \n",
       "5336  Zirconium     Zimbabwe  0.104943   \n",
       "\n",
       "                                   Dataset name Dataset reference product  \\\n",
       "0                 aluminium production, primary        aluminium, primary   \n",
       "1                             barite production                    barite   \n",
       "2                           chromium production                  chromium   \n",
       "3                                     hard coal                 hard coal   \n",
       "4                  petroleum and gas production                 petroleum   \n",
       "...                                         ...                       ...   \n",
       "5332                             tin production                       tin   \n",
       "5333                        titanium production                  titanium   \n",
       "5334  tungsten mine operation and beneficiation      tungsten concentrate   \n",
       "5335   primary zinc production from concentrate                      zinc   \n",
       "5336                                  zirconium                 zirconium   \n",
       "\n",
       "        operator  \n",
       "0     startswith  \n",
       "1     startswith  \n",
       "2     startswith  \n",
       "3     startswith  \n",
       "4     startswith  \n",
       "...          ...  \n",
       "5332  startswith  \n",
       "5333  startswith  \n",
       "5334  startswith  \n",
       "5335  startswith  \n",
       "5336  startswith  \n",
       "\n",
       "[5337 rows x 6 columns]"
      ],
      "text/html": [
       "<div>\n",
       "<style scoped>\n",
       "    .dataframe tbody tr th:only-of-type {\n",
       "        vertical-align: middle;\n",
       "    }\n",
       "\n",
       "    .dataframe tbody tr th {\n",
       "        vertical-align: top;\n",
       "    }\n",
       "\n",
       "    .dataframe thead th {\n",
       "        text-align: right;\n",
       "    }\n",
       "</style>\n",
       "<table border=\"1\" class=\"dataframe\">\n",
       "  <thead>\n",
       "    <tr style=\"text-align: right;\">\n",
       "      <th></th>\n",
       "      <th>Material</th>\n",
       "      <th>Country</th>\n",
       "      <th>Value</th>\n",
       "      <th>Dataset name</th>\n",
       "      <th>Dataset reference product</th>\n",
       "      <th>operator</th>\n",
       "    </tr>\n",
       "  </thead>\n",
       "  <tbody>\n",
       "    <tr>\n",
       "      <th>0</th>\n",
       "      <td>Aluminium</td>\n",
       "      <td>Afghanistan</td>\n",
       "      <td>0.322992</td>\n",
       "      <td>aluminium production, primary</td>\n",
       "      <td>aluminium, primary</td>\n",
       "      <td>startswith</td>\n",
       "    </tr>\n",
       "    <tr>\n",
       "      <th>1</th>\n",
       "      <td>Baryte</td>\n",
       "      <td>Afghanistan</td>\n",
       "      <td>0.123092</td>\n",
       "      <td>barite production</td>\n",
       "      <td>barite</td>\n",
       "      <td>startswith</td>\n",
       "    </tr>\n",
       "    <tr>\n",
       "      <th>2</th>\n",
       "      <td>Chromium</td>\n",
       "      <td>Afghanistan</td>\n",
       "      <td>0.000069</td>\n",
       "      <td>chromium production</td>\n",
       "      <td>chromium</td>\n",
       "      <td>startswith</td>\n",
       "    </tr>\n",
       "    <tr>\n",
       "      <th>3</th>\n",
       "      <td>Coal</td>\n",
       "      <td>Afghanistan</td>\n",
       "      <td>0.112219</td>\n",
       "      <td>hard coal</td>\n",
       "      <td>hard coal</td>\n",
       "      <td>startswith</td>\n",
       "    </tr>\n",
       "    <tr>\n",
       "      <th>4</th>\n",
       "      <td>Crude oil</td>\n",
       "      <td>Afghanistan</td>\n",
       "      <td>0.049085</td>\n",
       "      <td>petroleum and gas production</td>\n",
       "      <td>petroleum</td>\n",
       "      <td>startswith</td>\n",
       "    </tr>\n",
       "    <tr>\n",
       "      <th>...</th>\n",
       "      <td>...</td>\n",
       "      <td>...</td>\n",
       "      <td>...</td>\n",
       "      <td>...</td>\n",
       "      <td>...</td>\n",
       "      <td>...</td>\n",
       "    </tr>\n",
       "    <tr>\n",
       "      <th>5332</th>\n",
       "      <td>Tin</td>\n",
       "      <td>Zimbabwe</td>\n",
       "      <td>0.101446</td>\n",
       "      <td>tin production</td>\n",
       "      <td>tin</td>\n",
       "      <td>startswith</td>\n",
       "    </tr>\n",
       "    <tr>\n",
       "      <th>5333</th>\n",
       "      <td>Titanium</td>\n",
       "      <td>Zimbabwe</td>\n",
       "      <td>0.082589</td>\n",
       "      <td>titanium production</td>\n",
       "      <td>titanium</td>\n",
       "      <td>startswith</td>\n",
       "    </tr>\n",
       "    <tr>\n",
       "      <th>5334</th>\n",
       "      <td>Tungsten</td>\n",
       "      <td>Zimbabwe</td>\n",
       "      <td>0.014046</td>\n",
       "      <td>tungsten mine operation and beneficiation</td>\n",
       "      <td>tungsten concentrate</td>\n",
       "      <td>startswith</td>\n",
       "    </tr>\n",
       "    <tr>\n",
       "      <th>5335</th>\n",
       "      <td>Zinc</td>\n",
       "      <td>Zimbabwe</td>\n",
       "      <td>0.076558</td>\n",
       "      <td>primary zinc production from concentrate</td>\n",
       "      <td>zinc</td>\n",
       "      <td>startswith</td>\n",
       "    </tr>\n",
       "    <tr>\n",
       "      <th>5336</th>\n",
       "      <td>Zirconium</td>\n",
       "      <td>Zimbabwe</td>\n",
       "      <td>0.104943</td>\n",
       "      <td>zirconium</td>\n",
       "      <td>zirconium</td>\n",
       "      <td>startswith</td>\n",
       "    </tr>\n",
       "  </tbody>\n",
       "</table>\n",
       "<p>5337 rows × 6 columns</p>\n",
       "</div>"
      ]
     },
     "execution_count": 8,
     "metadata": {},
     "output_type": "execute_result"
    }
   ],
   "execution_count": 8
  },
  {
   "metadata": {
    "ExecuteTime": {
     "end_time": "2024-12-15T17:32:48.712778Z",
     "start_time": "2024-12-15T17:32:44.563519Z"
    }
   },
   "cell_type": "code",
   "source": [
    "country_map = {\n",
    "    c: coco.convert(c, to=\"iso2\") for c in df[\"Country\"].unique()\n",
    "}\n",
    "country_map = {k: v for k, v in country_map.items() if v != \"not found\"}"
   ],
   "id": "827a471561038e24",
   "outputs": [
    {
     "name": "stderr",
     "output_type": "stream",
     "text": [
      "Other Asia, nes not found in regex\n",
      "Cura√ßao not found in regex\n"
     ]
    }
   ],
   "execution_count": 18
  },
  {
   "metadata": {
    "ExecuteTime": {
     "end_time": "2024-12-15T17:33:16.070379Z",
     "start_time": "2024-12-15T17:33:15.897673Z"
    }
   },
   "cell_type": "code",
   "source": [
    "data = []\n",
    "# iterate through rows with iterrows()\n",
    "for index, row in df.iterrows():\n",
    "    # proceed only if all values are not NaN\n",
    "    if not pd.isna(row[\"Dataset name\"]) and not pd.isna(row[\"Dataset reference product\"]) and not pd.isna(row[\"operator\"]) and not pd.isna(row[\"Country\"]) and not pd.isna(row[\"Value\"]):\n",
    "        if row[\"Country\"] in country_map:\n",
    "            data.append(\n",
    "                {\n",
    "                    \"supplier\": {\n",
    "                        \"name\": row[\"Dataset name\"],\n",
    "                        \"reference product\": row[\"Dataset reference product\"],\n",
    "                        \"operator\": row[\"operator\"],\n",
    "                        \"matrix\": \"technosphere\"\n",
    "                    },\n",
    "                    \"consumer\": {\n",
    "                        \"location\": country_map[row[\"Country\"]],\n",
    "                    },\n",
    "                    \"value\": row[\"Value\"],\n",
    "                }\n",
    "            )"
   ],
   "id": "5b4e28c22235e123",
   "outputs": [],
   "execution_count": 22
  },
  {
   "metadata": {
    "ExecuteTime": {
     "end_time": "2024-12-15T17:33:36.302580Z",
     "start_time": "2024-12-15T17:33:36.296549Z"
    }
   },
   "cell_type": "code",
   "source": "len(data)",
   "id": "b7963cdcde140774",
   "outputs": [
    {
     "data": {
      "text/plain": [
       "5026"
      ]
     },
     "execution_count": 24,
     "metadata": {},
     "output_type": "execute_result"
    }
   ],
   "execution_count": 24
  },
  {
   "metadata": {
    "ExecuteTime": {
     "end_time": "2024-12-15T17:33:20.509354Z",
     "start_time": "2024-12-15T17:33:20.468678Z"
    }
   },
   "cell_type": "code",
   "source": [
    "fp_out = \"/Users/romain/GitHub/edges/edges/data/GeoPolRisk_2024.json\" \n",
    "with open(fp_out, \"w\") as f:\n",
    "    json.dump(data, f, indent=2)"
   ],
   "id": "618875dd54487886",
   "outputs": [],
   "execution_count": 23
  },
  {
   "metadata": {},
   "cell_type": "code",
   "outputs": [],
   "execution_count": null,
   "source": "",
   "id": "e3dc0b1a985bfc36"
  }
 ],
 "metadata": {
  "kernelspec": {
   "display_name": "Python 3",
   "language": "python",
   "name": "python3"
  },
  "language_info": {
   "codemirror_mode": {
    "name": "ipython",
    "version": 2
   },
   "file_extension": ".py",
   "mimetype": "text/x-python",
   "name": "python",
   "nbconvert_exporter": "python",
   "pygments_lexer": "ipython2",
   "version": "2.7.6"
  }
 },
 "nbformat": 4,
 "nbformat_minor": 5
}

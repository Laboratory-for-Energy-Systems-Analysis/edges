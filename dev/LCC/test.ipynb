{
 "cells": [
  {
   "cell_type": "code",
   "id": "initial_id",
   "metadata": {},
   "source": [
    "import bw2data, bw2calc, bw2io\n",
    "from edges import EdgeLCIA, CostLCIA, get_available_methods\n",
    "from bw2analyzer.contribution import ContributionAnalysis\n",
    "#bw2data.projects.set_current(\"EdgeLCC-Test-bw25\")\n",
    "bw2data.projects.set_current(\"bw25_ei310\")\n",
    "act = bw2data.Database(\"ecoinvent-3.10.1-cutoff\").random()\n",
    "#act = [a for a in bw2data.Database(\"lcc-test-db\") if a[\"name\"] == \"Use of chair\"][0]\n",
    "act"
   ],
   "outputs": [],
   "execution_count": null
  },
  {
   "cell_type": "code",
   "id": "14f64a04471eb877",
   "metadata": {},
   "source": [
    "#method = ('GeoPolRisk', '2024')\n",
    "method = ('LCC 1.0', '2023')\n",
    "LCA = CostLCIA(\n",
    "    demand={act: 1},\n",
    "    method=method,\n",
    "    #filepath=\"lcia_cost_example.json\"\n",
    "    #use_distributions=True,\n",
    "    #iterations=1000\n",
    ")"
   ],
   "outputs": [],
   "execution_count": null
  },
  {
   "cell_type": "code",
   "id": "4249fb00-04a8-43b3-8b0a-fec1e73469ba",
   "metadata": {},
   "source": [
    "LCA.lci()\n",
    "LCA.map_exchanges()\n",
    "#LCA.map_aggregate_locations()\n",
    "#LCA.map_contained_locations()\n",
    "#LCA.map_remaining_locations_to_global()"
   ],
   "outputs": [],
   "execution_count": null
  },
  {
   "cell_type": "code",
   "id": "c8db117e-b1db-4fb3-bab4-d689e5bc5f4b",
   "metadata": {},
   "source": [
    "LCA.build_price_vector()\n",
    "#LCA.evaluate_cfs()"
   ],
   "outputs": [],
   "execution_count": null
  },
  {
   "cell_type": "code",
   "id": "ddd78804-4f87-4425-94f1-7c326f541f4a",
   "metadata": {},
   "source": [
    "LCA.infer_missing_costs()"
   ],
   "outputs": [],
   "execution_count": null
  },
  {
   "cell_type": "code",
   "id": "914e4918-92d4-4b67-910c-bc76760990c7",
   "metadata": {},
   "source": [
    "LCA.infer_missing_costs_highspy()"
   ],
   "outputs": [],
   "execution_count": null
  },
  {
   "cell_type": "code",
   "id": "6b026050-a690-4893-aab8-44cf5bf79eae",
   "metadata": {},
   "source": [
    "df = LCA.generate_cf_table()"
   ],
   "outputs": [],
   "execution_count": null
  },
  {
   "cell_type": "code",
   "id": "5dd14bdd-d868-47a3-a38c-133d3087c415",
   "metadata": {},
   "source": [
    "df.to_excel(\"exchanges_with_costs.xlsx\")"
   ],
   "outputs": [],
   "execution_count": null
  },
  {
   "cell_type": "code",
   "id": "a6b7cfc5-2867-48a9-a127-4a9e36a727c6",
   "metadata": {},
   "source": [
    "len(LCA.processed_technosphere_edges)"
   ],
   "outputs": [],
   "execution_count": null
  },
  {
   "cell_type": "code",
   "id": "c2e74011-c73a-4e0c-bc4b-72514b6636fe",
   "metadata": {},
   "source": [
    "len(LCA.unprocessed_technosphere_edges)"
   ],
   "outputs": [],
   "execution_count": null
  },
  {
   "cell_type": "code",
   "id": "e4efc258-0d5a-4b76-ac46-cc85f042d0fd",
   "metadata": {},
   "source": [
    "LCA.unprocessed_technosphere_edges[0]"
   ],
   "outputs": [],
   "execution_count": null
  },
  {
   "cell_type": "code",
   "id": "d0946a25-a8d2-4447-ac0a-b6b8b7b478e7",
   "metadata": {},
   "source": [
    "# LCA.technosphere_flow_matrix.todense()"
   ],
   "outputs": [],
   "execution_count": null
  },
  {
   "cell_type": "code",
   "id": "ffe3f5a9-c760-4732-a9f6-d660f4e4f2c7",
   "metadata": {},
   "source": [],
   "outputs": [],
   "execution_count": null
  },
  {
   "cell_type": "code",
   "id": "4f76803d-c9fd-4edd-b036-8df642c64d07",
   "metadata": {},
   "source": [
    "type(LCA.price_vector)"
   ],
   "outputs": [],
   "execution_count": null
  },
  {
   "cell_type": "code",
   "id": "4c83628e-1820-46c4-8b21-2bdcffbb7305",
   "metadata": {},
   "source": [],
   "outputs": [],
   "execution_count": null
  },
  {
   "cell_type": "code",
   "id": "5163daa5-6616-4748-bb6c-6598e2688bb5",
   "metadata": {},
   "source": [
    "activities_missing, activities_non_missing = [], []\n",
    "for x, p in enumerate(LCA.price_vector.tolist()):\n",
    "    if p == 0:\n",
    "        activities_missing.append(x)\n",
    "    else:\n",
    "        activities_non_missing.append(x)"
   ],
   "outputs": [],
   "execution_count": null
  },
  {
   "cell_type": "code",
   "id": "5cde8b0c-7b42-4dbf-9f7c-d0e61f93fdc6",
   "metadata": {},
   "source": [
    "d = []\n",
    "for x in activities_non_missing:\n",
    "    act = bw2data.get_activity(LCA.reversed_activity[x])\n",
    "    classification = None\n",
    "    if \"classifications\" in act:\n",
    "        for c in act[\"classifications\"]:\n",
    "            if c[0].lower() == \"cpc\":\n",
    "                classification = c[1].split(\":\")[0].strip()\n",
    "    d.append(\n",
    "        [act[\"name\"], act[\"reference product\"], act[\"location\"], classification]\n",
    "    )\n",
    "import pandas as pd\n",
    "pd.DataFrame(d, columns=[\"name\", \"reference product\", \"location\", \"CPC code\"]).to_excel(\"identified.xlsx\")"
   ],
   "outputs": [],
   "execution_count": null
  },
  {
   "cell_type": "code",
   "id": "d7007f42-ed41-463a-be20-20c23646c6a6",
   "metadata": {},
   "source": [
    "d = []\n",
    "for x in activities_missing:\n",
    "    act = bw2data.get_activity(LCA.reversed_activity[x])\n",
    "    classification = None\n",
    "    if \"classifications\" in act:\n",
    "        for c in act[\"classifications\"]:\n",
    "            if c[0].lower() == \"cpc\":\n",
    "                classification = c[1].split(\":\")[0].strip()\n",
    "    d.append(\n",
    "        [act[\"name\"], act[\"reference product\"], act[\"location\"], classification]\n",
    "    )\n",
    "import pandas as pd\n",
    "pd.DataFrame(d, columns=[\"name\", \"reference product\", \"location\", \"CPC code\"]).to_excel(\"non_identified.xlsx\")"
   ],
   "outputs": [],
   "execution_count": null
  },
  {
   "cell_type": "code",
   "id": "40d2d452-4061-4c2d-97b0-bc4e2dafbacd",
   "metadata": {},
   "source": [
    "len(activities_missing)"
   ],
   "outputs": [],
   "execution_count": null
  },
  {
   "cell_type": "code",
   "id": "0e867721-b267-49bd-af92-ea4b40f7fa8a",
   "metadata": {},
   "source": [
    "LCA.reversed_activity"
   ],
   "outputs": [],
   "execution_count": null
  },
  {
   "cell_type": "code",
   "id": "e9f2b417-0486-451b-825f-4497a25c69e8",
   "metadata": {},
   "source": [
    "LCA.price_vector.sum()"
   ],
   "outputs": [],
   "execution_count": null
  },
  {
   "cell_type": "code",
   "id": "ff3c279c-476d-4a8f-9a87-63c5cf8ebbf6",
   "metadata": {},
   "source": [],
   "outputs": [],
   "execution_count": null
  },
  {
   "cell_type": "code",
   "id": "9d0ff173-f364-40fe-80ce-a62398fce791",
   "metadata": {},
   "source": [],
   "outputs": [],
   "execution_count": null
  },
  {
   "cell_type": "code",
   "id": "2d980e55-abac-4215-884d-399117e05e09",
   "metadata": {},
   "source": [
    "LCA.price_vector"
   ],
   "outputs": [],
   "execution_count": null
  },
  {
   "cell_type": "code",
   "id": "f298d362-0183-4610-9744-25e59469d359",
   "metadata": {},
   "source": [
    "LCA.evaluate_cfs()"
   ],
   "outputs": [],
   "execution_count": null
  },
  {
   "cell_type": "code",
   "id": "48925ad8-b872-471d-bebf-06f063a1bcbb",
   "metadata": {},
   "source": [
    "df = LCA.generate_cf_table()"
   ],
   "outputs": [],
   "execution_count": null
  },
  {
   "cell_type": "code",
   "id": "ca2df75d-517f-4ea9-a55a-1d6226f40a5b",
   "metadata": {},
   "source": [
    "df"
   ],
   "outputs": [],
   "execution_count": null
  },
  {
   "cell_type": "code",
   "id": "9cba8df3-0e17-4f22-b143-0427ae3c3e45",
   "metadata": {},
   "source": [
    "LCA.characterization_matrix.todense()"
   ],
   "outputs": [],
   "execution_count": null
  },
  {
   "cell_type": "code",
   "id": "ddfdd910-9223-4881-9b1c-4c042950d53e",
   "metadata": {},
   "source": [
    "LCA.post_process_characterization_matrix()"
   ],
   "outputs": [],
   "execution_count": null
  },
  {
   "cell_type": "code",
   "id": "2b262f42-fdae-4df4-a82b-e0142ae7e37e",
   "metadata": {},
   "source": [
    "LCA.characterization_matrix.todense()"
   ],
   "outputs": [],
   "execution_count": null
  },
  {
   "cell_type": "code",
   "id": "3446fac2-8e88-4419-ac90-d225a71c79bc",
   "metadata": {},
   "source": [
    "LCA.technosphere_flow_matrix.todense()"
   ],
   "outputs": [],
   "execution_count": null
  },
  {
   "cell_type": "code",
   "id": "6bc6253b-338e-4e88-9fcc-46ab233ab161",
   "metadata": {},
   "source": [
    "LCA.lcia()"
   ],
   "outputs": [],
   "execution_count": null
  },
  {
   "cell_type": "code",
   "id": "20b03636-6109-4e96-be86-4b1409b65a48",
   "metadata": {},
   "source": [
    "LCA.characterized_inventory.todense()"
   ],
   "outputs": [],
   "execution_count": null
  },
  {
   "cell_type": "code",
   "id": "8aab652f-aad9-4562-a403-4d804e8953d0",
   "metadata": {},
   "source": [
    "LCA.characterized_inventory.sum()"
   ],
   "outputs": [],
   "execution_count": null
  },
  {
   "cell_type": "code",
   "id": "071be6ca-a3b0-407a-bcba-7b0eef0f973d",
   "metadata": {},
   "source": [],
   "outputs": [],
   "execution_count": null
  }
 ],
 "metadata": {
  "kernelspec": {
   "display_name": "Python 3 (ipykernel)",
   "language": "python",
   "name": "python3"
  },
  "language_info": {
   "codemirror_mode": {
    "name": "ipython",
    "version": 3
   },
   "file_extension": ".py",
   "mimetype": "text/x-python",
   "name": "python",
   "nbconvert_exporter": "python",
   "pygments_lexer": "ipython3",
   "version": "3.11.12"
  }
 },
 "nbformat": 4,
 "nbformat_minor": 5
}

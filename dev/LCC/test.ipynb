{
 "cells": [
  {
   "cell_type": "code",
   "execution_count": 1,
   "id": "initial_id",
   "metadata": {
    "ExecuteTime": {
     "end_time": "2025-05-08T10:03:45.069260Z",
     "start_time": "2025-05-08T10:03:23.630789Z"
    }
   },
   "outputs": [
    {
     "name": "stdout",
     "output_type": "stream",
     "text": [
      "\u001b[2m13:56:43+0200\u001b[0m [\u001b[33m\u001b[1mwarning  \u001b[0m] \u001b[1mCan't import `SimaProBlockCSVImporter` - please install `bw2io` with `pip install bw2io[multifunctional]` or install `multifunctional` and `bw_simapro_csv` manually.\u001b[0m\n"
     ]
    },
    {
     "data": {
      "text/plain": [
       "'Use of chair' (unit, CH, None)"
      ]
     },
     "execution_count": 1,
     "metadata": {},
     "output_type": "execute_result"
    }
   ],
   "source": [
    "import bw2data, bw2calc, bw2io\n",
    "from edges import EdgeLCIA, CostLCIA, get_available_methods\n",
    "from bw2analyzer.contribution import ContributionAnalysis\n",
    "bw2data.projects.set_current(\"EdgeLCC-Test-bw25\")\n",
    "#act = bw2data.Database(\"ecoinvent-3.10.1-cutoff\").random()\n",
    "act = [a for a in bw2data.Database(\"lcc-test-db\") if a[\"name\"] == \"Use of chair\"][0]\n",
    "act"
   ]
  },
  {
   "cell_type": "code",
   "execution_count": 2,
   "id": "14f64a04471eb877",
   "metadata": {
    "ExecuteTime": {
     "end_time": "2025-04-23T07:11:12.438071Z",
     "start_time": "2025-04-23T07:11:00.120754Z"
    }
   },
   "outputs": [],
   "source": [
    "#method = ('GeoPolRisk', '2024')\n",
    "method = ('LCC 1.0', '2023')\n",
    "LCA = CostLCIA(\n",
    "    demand={act: 1},\n",
    "    method=method,\n",
    "    filepath=\"lcia_cost_example.json\"\n",
    "    #use_distributions=True,\n",
    "    #iterations=1000\n",
    ")"
   ]
  },
  {
   "cell_type": "code",
   "execution_count": 3,
   "id": "4249fb00-04a8-43b3-8b0a-fec1e73469ba",
   "metadata": {},
   "outputs": [
    {
     "name": "stderr",
     "output_type": "stream",
     "text": [
      "/Users/romain/micromamba/envs/edges/lib/python3.11/site-packages/bw2calc/lca_base.py:87: UserWarning: No valid biosphere flows found. No inventory results can be calculated, `lcia` will raise an error\n",
      "  warnings.warn(\n",
      "100%|██████████████████████████████████████████| 4/4 [00:00<00:00, 11626.62it/s]"
     ]
    },
    {
     "name": "stdout",
     "output_type": "stream",
     "text": [
      "Processed edges: 9\n"
     ]
    },
    {
     "name": "stderr",
     "output_type": "stream",
     "text": [
      "\n"
     ]
    }
   ],
   "source": [
    "LCA.lci()\n",
    "LCA.map_exchanges()"
   ]
  },
  {
   "cell_type": "code",
   "execution_count": 4,
   "id": "c80922c9-7d40-426a-94a6-de03670bf474",
   "metadata": {},
   "outputs": [
    {
     "name": "stdout",
     "output_type": "stream",
     "text": [
      "(0, 0)\n",
      "(0, 1)\n",
      "(0, 3)\n",
      "(2, 1)\n",
      "(2, 2)\n",
      "(3, 3)\n",
      "(3, 4)\n",
      "(5, 4)\n",
      "(5, 5)\n"
     ]
    }
   ],
   "source": [
    "for cf in LCA.cfs_mapping:\n",
    "    for position in cf.get(\"positions\", []):\n",
    "        print(position)"
   ]
  },
  {
   "cell_type": "code",
   "execution_count": 5,
   "id": "91fcabed-80cd-4e62-acac-d5bc741d9c07",
   "metadata": {},
   "outputs": [
    {
     "data": {
      "text/plain": [
       "matrix([[ 1. , -0.5,  0. , -2. ,  0. ,  0. ],\n",
       "        [ 0. ,  5. ,  0. , -5. ,  0. ,  0. ],\n",
       "        [ 0. , -7. ,  1. ,  0. ,  0. ,  0. ],\n",
       "        [ 0. ,  0. ,  0. ,  5. , -5. ,  0. ],\n",
       "        [ 0. ,  0. ,  0. ,  0. , 10. ,  0. ],\n",
       "        [ 0. ,  0. ,  0. ,  0. , -5. , -1. ]])"
      ]
     },
     "execution_count": 5,
     "metadata": {},
     "output_type": "execute_result"
    }
   ],
   "source": [
    "LCA.lca.technosphere_matrix.todense()"
   ]
  },
  {
   "cell_type": "code",
   "execution_count": 6,
   "id": "d0946a25-a8d2-4447-ac0a-b6b8b7b478e7",
   "metadata": {},
   "outputs": [
    {
     "data": {
      "text/plain": [
       "matrix([[0.25, 0.05, 0.  , 0.2 , 0.  , 0.  ],\n",
       "        [0.  , 0.5 , 0.  , 0.5 , 0.  , 0.  ],\n",
       "        [0.  , 0.7 , 0.7 , 0.  , 0.  , 0.  ],\n",
       "        [0.  , 0.  , 0.  , 0.5 , 0.5 , 0.  ],\n",
       "        [0.  , 0.  , 0.  , 0.  , 1.  , 0.  ],\n",
       "        [0.  , 0.  , 0.  , 0.  , 0.5 , 0.5 ]])"
      ]
     },
     "execution_count": 6,
     "metadata": {},
     "output_type": "execute_result"
    }
   ],
   "source": [
    "LCA.technosphere_flow_matrix.todense()"
   ]
  },
  {
   "cell_type": "code",
   "execution_count": 7,
   "id": "ffe3f5a9-c760-4732-a9f6-d660f4e4f2c7",
   "metadata": {},
   "outputs": [
    {
     "name": "stdout",
     "output_type": "stream",
     "text": [
      "Build price vector\n"
     ]
    }
   ],
   "source": [
    "LCA.build_price_vector()"
   ]
  },
  {
   "cell_type": "code",
   "execution_count": 8,
   "id": "e9f2b417-0486-451b-825f-4497a25c69e8",
   "metadata": {},
   "outputs": [
    {
     "data": {
      "text/plain": [
       "array([ 5.,  0.,  1., 25.,  0., -2.])"
      ]
     },
     "execution_count": 8,
     "metadata": {},
     "output_type": "execute_result"
    }
   ],
   "source": [
    "LCA.price_vector"
   ]
  },
  {
   "cell_type": "code",
   "execution_count": 9,
   "id": "ff9865e4-cc63-4449-bc59-9457d2ac4091",
   "metadata": {},
   "outputs": [
    {
     "name": "stdout",
     "output_type": "stream",
     "text": [
      "Infer missing costs in the technosphere matrix\n",
      "Inferred missing prices successfully.\n"
     ]
    }
   ],
   "source": [
    "LCA.infer_missing_costs()"
   ]
  },
  {
   "cell_type": "code",
   "execution_count": 10,
   "id": "2d980e55-abac-4215-884d-399117e05e09",
   "metadata": {},
   "outputs": [
    {
     "data": {
      "text/plain": [
       "array([ 5. ,  1.9,  1. , 25. , 11.5, -2. ])"
      ]
     },
     "execution_count": 10,
     "metadata": {},
     "output_type": "execute_result"
    }
   ],
   "source": [
    "LCA.price_vector"
   ]
  },
  {
   "cell_type": "code",
   "execution_count": 11,
   "id": "f298d362-0183-4610-9744-25e59469d359",
   "metadata": {},
   "outputs": [],
   "source": [
    "LCA.evaluate_cfs()"
   ]
  },
  {
   "cell_type": "code",
   "execution_count": 12,
   "id": "2b262f42-fdae-4df4-a82b-e0142ae7e37e",
   "metadata": {},
   "outputs": [
    {
     "data": {
      "text/plain": [
       "matrix([[ 5. ,  5. ,  0. ,  5. ,  0. ,  0. ],\n",
       "        [ 0. ,  1.9,  0. ,  1.9,  0. ,  0. ],\n",
       "        [ 0. ,  1. ,  1. ,  0. ,  0. ,  0. ],\n",
       "        [ 0. ,  0. ,  0. , 25. , 25. ,  0. ],\n",
       "        [ 0. ,  0. ,  0. ,  0. , 11.5,  0. ],\n",
       "        [ 0. ,  0. ,  0. ,  0. , -2. , -2. ]])"
      ]
     },
     "execution_count": 12,
     "metadata": {},
     "output_type": "execute_result"
    }
   ],
   "source": [
    "LCA.characterization_matrix.todense()"
   ]
  },
  {
   "cell_type": "code",
   "execution_count": 13,
   "id": "3446fac2-8e88-4419-ac90-d225a71c79bc",
   "metadata": {},
   "outputs": [
    {
     "data": {
      "text/plain": [
       "matrix([[ 0.25, -0.05,  0.  , -0.2 ,  0.  ,  0.  ],\n",
       "        [ 0.  ,  0.5 ,  0.  , -0.5 ,  0.  ,  0.  ],\n",
       "        [ 0.  , -0.7 ,  0.7 ,  0.  ,  0.  ,  0.  ],\n",
       "        [ 0.  ,  0.  ,  0.  ,  0.5 , -0.5 ,  0.  ],\n",
       "        [ 0.  ,  0.  ,  0.  ,  0.  ,  1.  ,  0.  ],\n",
       "        [ 0.  ,  0.  ,  0.  ,  0.  , -0.5 ,  0.5 ]])"
      ]
     },
     "execution_count": 13,
     "metadata": {},
     "output_type": "execute_result"
    }
   ],
   "source": [
    "LCA.technosphere_flow_matrix.todense()"
   ]
  },
  {
   "cell_type": "code",
   "execution_count": 14,
   "id": "6bc6253b-338e-4e88-9fcc-46ab233ab161",
   "metadata": {},
   "outputs": [],
   "source": [
    "LCA.lcia()"
   ]
  },
  {
   "cell_type": "code",
   "execution_count": 15,
   "id": "20b03636-6109-4e96-be86-4b1409b65a48",
   "metadata": {},
   "outputs": [
    {
     "data": {
      "text/plain": [
       "matrix([[  1.25,  -0.25,   0.  ,  -1.  ,   0.  ,   0.  ],\n",
       "        [  0.  ,   0.95,   0.  ,  -0.95,   0.  ,   0.  ],\n",
       "        [  0.  ,  -0.7 ,   0.7 ,   0.  ,   0.  ,   0.  ],\n",
       "        [  0.  ,   0.  ,   0.  ,  12.5 , -12.5 ,   0.  ],\n",
       "        [  0.  ,   0.  ,   0.  ,   0.  ,  11.5 ,   0.  ],\n",
       "        [  0.  ,   0.  ,   0.  ,   0.  ,   1.  ,  -1.  ]])"
      ]
     },
     "execution_count": 15,
     "metadata": {},
     "output_type": "execute_result"
    }
   ],
   "source": [
    "LCA.characterized_inventory.todense()"
   ]
  },
  {
   "cell_type": "code",
   "execution_count": 16,
   "id": "8aab652f-aad9-4562-a403-4d804e8953d0",
   "metadata": {},
   "outputs": [
    {
     "data": {
      "text/plain": [
       "11.5"
      ]
     },
     "execution_count": 16,
     "metadata": {},
     "output_type": "execute_result"
    }
   ],
   "source": [
    "LCA.characterized_inventory.sum()"
   ]
  },
  {
   "cell_type": "code",
   "execution_count": null,
   "id": "071be6ca-a3b0-407a-bcba-7b0eef0f973d",
   "metadata": {},
   "outputs": [],
   "source": []
  }
 ],
 "metadata": {
  "kernelspec": {
   "display_name": "Python 3 (ipykernel)",
   "language": "python",
   "name": "python3"
  },
  "language_info": {
   "codemirror_mode": {
    "name": "ipython",
    "version": 3
   },
   "file_extension": ".py",
   "mimetype": "text/x-python",
   "name": "python",
   "nbconvert_exporter": "python",
   "pygments_lexer": "ipython3",
   "version": "3.11.12"
  }
 },
 "nbformat": 4,
 "nbformat_minor": 5
}

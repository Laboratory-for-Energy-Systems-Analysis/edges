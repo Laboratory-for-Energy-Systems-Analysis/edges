{
 "cells": [
  {
   "cell_type": "markdown",
   "id": "2b4d6921-ad3a-4db9-a53d-83c38b4ba4c6",
   "metadata": {},
   "source": [
    "# LCC - Matrix Approach"
   ]
  },
  {
   "cell_type": "markdown",
   "id": "8ed00162-6876-446f-a5db-d08db7c4aec8",
   "metadata": {},
   "source": [
    "This notebook demonstrates our approach to life cycle costing (LCC), which can handle reference products with a price of zero or missing price data.\n",
    "\n",
    "We adapt the example from Heijungs et al. (2013) and Moreau et al. (2015), with the addition of a timber production step. In our case, the price of wood is assumed to be unknown. As a result, we must address two challenges: a functional unit with a monetary value of zero, and a production activity where the product has known costs but an unknown market price."
   ]
  },
  {
   "cell_type": "markdown",
   "id": "fc05cc58-22e3-48c2-8d88-2ae487e60102",
   "metadata": {},
   "source": [
    "Authors:<br>\n",
    "  - Alvaro J. Hahn Menacho (alvaro.hahn-menacho@psi.ch)<br>\n",
    "  - Romain Sacchi (romain.sacchi@psi.ch)"
   ]
  },
  {
   "cell_type": "code",
   "execution_count": 1,
   "id": "21732bc9-25c5-4462-8686-476d9e59a575",
   "metadata": {},
   "outputs": [],
   "source": [
    "import pandas as pd\n",
    "import numpy as np\n",
    "from scipy.optimize import linprog"
   ]
  },
  {
   "cell_type": "markdown",
   "id": "8cd732ce-2a33-4762-ae63-d8fc059f5145",
   "metadata": {},
   "source": [
    "| **Activity**              | **Reference product**  | **Physical inputs**                               | **Physical outputs**              | **Price of the reference product** |\n",
    "|---------------------------|------------------------|---------------------------------------------------|-----------------------------------|-------------------------------------|\n",
    "| Production of electricity | Electricity            | -                                                 | 1 MJ electricity                  | 5  \\$/MJ                             |\n",
    "| Production of wood        | Wood                   | • 0.5 MJ electricity<br>• 7 kg timber              | 5 kg wood                         | N.A.                               |\n",
    "| Production of timber      | Timber                 | -                                                 | 1 kg timber                       | 1  \\$/kg                             |\n",
    "| Production of chair       | Chair                  | • 2 MJ electricity<br>• 5 kg wood                  | 5 pieces chair                    | 25  \\$/piece                         |\n",
    "| Use of chair              | Sitting                | • 5 pieces chair<br>• 5 pieces of broken chair     | 10 years of sitting               | 0  \\$/year                           |\n",
    "| Disposal of broken chair  | Broken chair           | -                                                 | -1 piece chair                    | -2  \\$/piece                         |\n"
   ]
  },
  {
   "cell_type": "markdown",
   "id": "a4f1dd6a-48a3-4ca5-abe2-2b64065633b2",
   "metadata": {},
   "source": [
    "## a) Technology matrix, **A**"
   ]
  },
  {
   "cell_type": "markdown",
   "id": "c72decba-50a8-429d-9ae9-2c0f7916785a",
   "metadata": {},
   "source": [
    "Firstly, let's define the row and column labels"
   ]
  },
  {
   "cell_type": "code",
   "execution_count": 2,
   "id": "ac367bab-f9c7-465d-ab16-a427825ce008",
   "metadata": {},
   "outputs": [],
   "source": [
    "rows_A = [\"Electricity\", \"Wood\", \"Timber\", \"Chair\", \"Sitting\", \"Broken chair\"]"
   ]
  },
  {
   "cell_type": "code",
   "execution_count": 3,
   "id": "a91a40eb-5393-493e-afc9-001874b8ebdd",
   "metadata": {},
   "outputs": [],
   "source": [
    "columns_A = [\n",
    "    \"Production of electricity\", \n",
    "    \"Production of wood\", \n",
    "    \"Production of timber\", \n",
    "    \"Production of chair\", \n",
    "    \"Use of chair\", \n",
    "    \"Disposal of broken chair\",\n",
    "]"
   ]
  },
  {
   "cell_type": "markdown",
   "id": "79f8a3b2-217b-403d-9c91-203b92f080fd",
   "metadata": {},
   "source": [
    "Populating the A matrix:"
   ]
  },
  {
   "cell_type": "code",
   "execution_count": 4,
   "id": "370cb566-dcec-405a-8103-1464386931d1",
   "metadata": {},
   "outputs": [],
   "source": [
    "A_data = [\n",
    "    [1, -0.5, 0, -2, 0, 0],\n",
    "    [0, 5, 0, -5, 0, 0],\n",
    "    [0, -7, 1, 0, 0, 0],\n",
    "    [0, 0, 0, 5, -5, 0],\n",
    "    [0, 0, 0, 0, 10, 0],\n",
    "    [0, 0, 0, 0, 5, -1]\n",
    "]"
   ]
  },
  {
   "cell_type": "markdown",
   "id": "bd343a3c-aed4-4176-8f49-f3d993d21cd6",
   "metadata": {},
   "source": [
    "Combine everything in a dataframe:"
   ]
  },
  {
   "cell_type": "code",
   "execution_count": 5,
   "id": "ccfe59b1-e5ab-4316-9829-9ebc6166d27e",
   "metadata": {},
   "outputs": [
    {
     "data": {
      "text/html": [
       "<div>\n",
       "<style scoped>\n",
       "    .dataframe tbody tr th:only-of-type {\n",
       "        vertical-align: middle;\n",
       "    }\n",
       "\n",
       "    .dataframe tbody tr th {\n",
       "        vertical-align: top;\n",
       "    }\n",
       "\n",
       "    .dataframe thead th {\n",
       "        text-align: right;\n",
       "    }\n",
       "</style>\n",
       "<table border=\"1\" class=\"dataframe\">\n",
       "  <thead>\n",
       "    <tr style=\"text-align: right;\">\n",
       "      <th></th>\n",
       "      <th>Production of electricity</th>\n",
       "      <th>Production of wood</th>\n",
       "      <th>Production of timber</th>\n",
       "      <th>Production of chair</th>\n",
       "      <th>Use of chair</th>\n",
       "      <th>Disposal of broken chair</th>\n",
       "    </tr>\n",
       "  </thead>\n",
       "  <tbody>\n",
       "    <tr>\n",
       "      <th>Electricity</th>\n",
       "      <td>1</td>\n",
       "      <td>-0.5</td>\n",
       "      <td>0</td>\n",
       "      <td>-2</td>\n",
       "      <td>0</td>\n",
       "      <td>0</td>\n",
       "    </tr>\n",
       "    <tr>\n",
       "      <th>Wood</th>\n",
       "      <td>0</td>\n",
       "      <td>5.0</td>\n",
       "      <td>0</td>\n",
       "      <td>-5</td>\n",
       "      <td>0</td>\n",
       "      <td>0</td>\n",
       "    </tr>\n",
       "    <tr>\n",
       "      <th>Timber</th>\n",
       "      <td>0</td>\n",
       "      <td>-7.0</td>\n",
       "      <td>1</td>\n",
       "      <td>0</td>\n",
       "      <td>0</td>\n",
       "      <td>0</td>\n",
       "    </tr>\n",
       "    <tr>\n",
       "      <th>Chair</th>\n",
       "      <td>0</td>\n",
       "      <td>0.0</td>\n",
       "      <td>0</td>\n",
       "      <td>5</td>\n",
       "      <td>-5</td>\n",
       "      <td>0</td>\n",
       "    </tr>\n",
       "    <tr>\n",
       "      <th>Sitting</th>\n",
       "      <td>0</td>\n",
       "      <td>0.0</td>\n",
       "      <td>0</td>\n",
       "      <td>0</td>\n",
       "      <td>10</td>\n",
       "      <td>0</td>\n",
       "    </tr>\n",
       "    <tr>\n",
       "      <th>Broken chair</th>\n",
       "      <td>0</td>\n",
       "      <td>0.0</td>\n",
       "      <td>0</td>\n",
       "      <td>0</td>\n",
       "      <td>5</td>\n",
       "      <td>-1</td>\n",
       "    </tr>\n",
       "  </tbody>\n",
       "</table>\n",
       "</div>"
      ],
      "text/plain": [
       "              Production of electricity  Production of wood  \\\n",
       "Electricity                           1                -0.5   \n",
       "Wood                                  0                 5.0   \n",
       "Timber                                0                -7.0   \n",
       "Chair                                 0                 0.0   \n",
       "Sitting                               0                 0.0   \n",
       "Broken chair                          0                 0.0   \n",
       "\n",
       "              Production of timber  Production of chair  Use of chair  \\\n",
       "Electricity                      0                   -2             0   \n",
       "Wood                             0                   -5             0   \n",
       "Timber                           1                    0             0   \n",
       "Chair                            0                    5            -5   \n",
       "Sitting                          0                    0            10   \n",
       "Broken chair                     0                    0             5   \n",
       "\n",
       "              Disposal of broken chair  \n",
       "Electricity                          0  \n",
       "Wood                                 0  \n",
       "Timber                               0  \n",
       "Chair                                0  \n",
       "Sitting                              0  \n",
       "Broken chair                        -1  "
      ]
     },
     "execution_count": 5,
     "metadata": {},
     "output_type": "execute_result"
    }
   ],
   "source": [
    "A_matrix = pd.DataFrame(A_data, index=rows_A, columns=columns_A)\n",
    "A_matrix"
   ]
  },
  {
   "cell_type": "markdown",
   "id": "fcb8409e-a1fe-4db2-a963-db0f55110d50",
   "metadata": {},
   "source": [
    "## a) Price vector, **α**"
   ]
  },
  {
   "cell_type": "markdown",
   "id": "47640350-e505-4484-ab90-bc9b171158a7",
   "metadata": {},
   "source": [
    "Again, let's start defining the rows"
   ]
  },
  {
   "cell_type": "code",
   "execution_count": 6,
   "id": "7ed327bc-3853-4399-aaa9-4e08f5f0bf13",
   "metadata": {},
   "outputs": [],
   "source": [
    "rows_alpha = [\"Electricity\", \"Wood\", \"Timber\", \"Chair\", \"Sitting\", \"Broken chair\"]"
   ]
  },
  {
   "cell_type": "markdown",
   "id": "248194a0-ad33-455e-9207-5cce4b796fb0",
   "metadata": {},
   "source": [
    "Populating the B matrix"
   ]
  },
  {
   "cell_type": "code",
   "execution_count": 7,
   "id": "be244b17-5321-4e68-9b42-444e30e64277",
   "metadata": {},
   "outputs": [],
   "source": [
    "alpha_data = [\n",
    "    [5],\n",
    "    [0],\n",
    "    [1],\n",
    "    [25],\n",
    "    [0],\n",
    "    [-2],\n",
    "]"
   ]
  },
  {
   "cell_type": "code",
   "execution_count": 8,
   "id": "e5d17cea-8498-469d-9abd-15bca2f89539",
   "metadata": {},
   "outputs": [
    {
     "data": {
      "text/html": [
       "<div>\n",
       "<style scoped>\n",
       "    .dataframe tbody tr th:only-of-type {\n",
       "        vertical-align: middle;\n",
       "    }\n",
       "\n",
       "    .dataframe tbody tr th {\n",
       "        vertical-align: top;\n",
       "    }\n",
       "\n",
       "    .dataframe thead th {\n",
       "        text-align: right;\n",
       "    }\n",
       "</style>\n",
       "<table border=\"1\" class=\"dataframe\">\n",
       "  <thead>\n",
       "    <tr style=\"text-align: right;\">\n",
       "      <th></th>\n",
       "      <th>Price</th>\n",
       "    </tr>\n",
       "  </thead>\n",
       "  <tbody>\n",
       "    <tr>\n",
       "      <th>Electricity</th>\n",
       "      <td>5</td>\n",
       "    </tr>\n",
       "    <tr>\n",
       "      <th>Wood</th>\n",
       "      <td>0</td>\n",
       "    </tr>\n",
       "    <tr>\n",
       "      <th>Timber</th>\n",
       "      <td>1</td>\n",
       "    </tr>\n",
       "    <tr>\n",
       "      <th>Chair</th>\n",
       "      <td>25</td>\n",
       "    </tr>\n",
       "    <tr>\n",
       "      <th>Sitting</th>\n",
       "      <td>0</td>\n",
       "    </tr>\n",
       "    <tr>\n",
       "      <th>Broken chair</th>\n",
       "      <td>-2</td>\n",
       "    </tr>\n",
       "  </tbody>\n",
       "</table>\n",
       "</div>"
      ],
      "text/plain": [
       "              Price\n",
       "Electricity       5\n",
       "Wood              0\n",
       "Timber            1\n",
       "Chair            25\n",
       "Sitting           0\n",
       "Broken chair     -2"
      ]
     },
     "execution_count": 8,
     "metadata": {},
     "output_type": "execute_result"
    }
   ],
   "source": [
    "alpha_matrix = pd.DataFrame(alpha_data, index=rows_alpha, columns=[\"Price\"])\n",
    "alpha_matrix"
   ]
  },
  {
   "cell_type": "markdown",
   "id": "9f358511-d86b-4a2e-8142-6178bd8e8a1e",
   "metadata": {},
   "source": [
    "Aligned with the work by Moreau et al. (2015), we do not want activities witth negative value added. Thus, the zero price of the refernce product and the resulting negative value added of the use activity is considered a conceptual error. Furthermore, we want to eliminate cutoff errors by inferring missing costs.\n",
    "\n",
    "Hence, we modify the set of prices so that:"
   ]
  },
  {
   "cell_type": "markdown",
   "id": "5e7f8622-7201-4915-bc54-580af35bdff8",
   "metadata": {},
   "source": [
    "1. Each product’s price covers the cost of its inputs, propagated through the system.<br><br>\n",
    "Additionally:<br><br>\n",
    "3. Anchored prices are respected as lower bounds.\n",
    "4. The solution yields minimum total cost, consistent with the system structure."
   ]
  },
  {
   "cell_type": "markdown",
   "id": "71c648f0-0dae-4322-85e6-a82ee7dacdb1",
   "metadata": {},
   "source": [
    "## *Formulation for consistent price vector in Life Cycle Costing"
   ]
  },
  {
   "cell_type": "markdown",
   "id": "5ce37723-606c-4cf7-86f8-7bd5f457e982",
   "metadata": {},
   "source": [
    "### **Input**"
   ]
  },
  {
   "cell_type": "markdown",
   "id": "0f88a5a5-11f4-4168-8878-bb97f9edbbbc",
   "metadata": {},
   "source": [
    "\n",
    "- Technology matrix \\( $A$ \\):\n",
    "\n",
    "$$\n",
    "A \\in \\mathbb{R}^{n \\times n},\\quad \\text{where}\\quad A_{ij}\\text{ is the amount of product }i\\text{ used (negative) or produced (positive) by process }j.\n",
    "$$\n",
    "\n",
    "- Original price vector \\( $p^{0}$ \\):\n",
    "\n",
    "$$\n",
    "p^{0} \\in \\mathbb{R}^{n},\\quad\\text{possibly incomplete or inconsistent.}\n",
    "$$\n",
    "\n",
    "- Set of indices with anchored prices \\( $\\mathcal{K}$ \\):\n",
    "\n",
    "$$\n",
    "\\mathcal{K} \\subseteq \\{1,\\dots,n\\}\n",
    "$$\n",
    "\n",
    "- Anchor prices \\( $a_{k}$ \\):\n",
    "\n",
    "$$\n",
    "a_{k} \\in \\mathbb{R}_{>0},\\quad\\text{lower bound (anchor) price for each } k \\in \\mathcal{K}.\n",
    "$$\n"
   ]
  },
  {
   "cell_type": "markdown",
   "id": "f1f7ab2c-37fe-44bd-a88a-6adbcb17998c",
   "metadata": {},
   "source": [
    "### **Step 1: Normalize A to Input Coefficients Matrix A∗A∗**"
   ]
  },
  {
   "cell_type": "markdown",
   "id": "42d49630-d62f-438e-8b5d-8e40d4a6a294",
   "metadata": {},
   "source": [
    "Let each column $j$ of $A$ represent a production process with output $A_{jj} > 0$.\n",
    "\n",
    "Define the normalized input coefficients $A_{ij}^*$ as:\n",
    "\n",
    "$$\n",
    "A_{ij}^* =\n",
    "\\begin{cases}\n",
    "\\displaystyle -\\frac{A_{ij}}{A_{jj}} & \\text{if } i \\ne j \\text{ and } A_{jj} \\ne 0 \\\\\n",
    "0 & \\text{otherwise}\n",
    "\\end{cases}\n",
    "$$\n",
    "\n",
    "This gives the amount of input $i$ required per unit of output from process $j$."
   ]
  },
  {
   "cell_type": "markdown",
   "id": "38d28b12-3c60-4990-b1d3-3806fa06cb1d",
   "metadata": {},
   "source": [
    "### **Step 2: Pricing Constraints**"
   ]
  },
  {
   "cell_type": "markdown",
   "id": "94016658-b4cc-4d22-be3d-025d6cd23304",
   "metadata": {},
   "source": [
    "We impose that for every product $j \\in \\{1, \\dots, n\\}$ that has at least one input:\n",
    "\n",
    "$$\n",
    "p_j \\geq \\sum_{i \\ne j} A_{ij}^* \\cdot p_i\n",
    "$$\n",
    "\n",
    "This ensures that the price of product $j$ is at least equal to the sum of the prices of the inputs required to produce one unit of it.\n",
    "\n",
    "We define three types of pricing constraints:\n",
    "\n",
    "- For every product $k \\in \\mathcal{F}$ that has no inputs (i.e. independent processes), we fix its price to the value provided in the original price vector:\n",
    "\n",
    "$$\n",
    "p_k = a_k\n",
    "$$\n",
    "\n",
    "- For every product $k \\in \\mathcal{K}$ with a known positive price and at least one input, we enforce a lower bound:\n",
    "\n",
    "$$\n",
    "p_k \\geq a_k\n",
    "$$\n",
    "\n",
    "- For all other products, we require:\n",
    "\n",
    "$$\n",
    "p_j \\geq 0\n",
    "$$\n",
    "\n",
    "**Treatment activities** are handled consistently through this rule:  \n",
    "If a treatment process has no inputs and a non-positive price in the original vector, that price is fixed. This avoids assigning positive value to waste treatment and ensures disposal costs propagate upstream."
   ]
  },
  {
   "cell_type": "markdown",
   "id": "3b89c022-ff65-4805-95d9-4d450ebc6a1b",
   "metadata": {},
   "source": [
    "### **Step 3: Objective Function**"
   ]
  },
  {
   "cell_type": "markdown",
   "id": "160cc04d-716e-4d81-b5ef-3a792d4fd272",
   "metadata": {},
   "source": [
    "To make the solution conservative and efficient, we minimize the total sum of prices:\n",
    "\n",
    "$$\n",
    "\\min_{p \\in \\mathbb{R}^n} \\sum_{j=1}^{n} p_j\n",
    "$$\n",
    "\n",
    "This selects the lowest-cost solution consistent with the production structure and pricing constraints."
   ]
  },
  {
   "cell_type": "markdown",
   "id": "b7e7472d-7e06-4c8f-aa01-8ed8c6adae89",
   "metadata": {},
   "source": [
    "### **Final Linear Program**"
   ]
  },
  {
   "cell_type": "markdown",
   "id": "62603e4c-4729-48ee-b692-1881a28bc268",
   "metadata": {},
   "source": [
    "Minimize:\n",
    "\n",
    "$$\n",
    "\\sum_{j=1}^{n} p_j\n",
    "$$\n",
    "\n",
    "Subject to:\n",
    "\n",
    "$$\n",
    "p_j - \\sum_{i \\ne j} A_{ij}^* \\cdot p_i \\geq 0 \\quad \\forall j \\notin \\mathcal{F}\n",
    "$$\n",
    "\n",
    "$$\n",
    "p_k = a_k \\quad \\forall k \\in \\mathcal{F}\n",
    "$$\n",
    "\n",
    "$$\n",
    "p_k \\geq a_k \\quad \\forall k \\in \\mathcal{K}\n",
    "$$\n",
    "\n",
    "$$\n",
    "p_j \\geq 0 \\quad \\forall j \\in \\{1, \\dots, n\\}\n",
    "$$"
   ]
  },
  {
   "cell_type": "code",
   "execution_count": 9,
   "id": "635fdee4-9258-4a11-8f19-304719248595",
   "metadata": {},
   "outputs": [],
   "source": [
    "def compute_consistent_alpha(A_matrix: pd.DataFrame,\n",
    "                             alpha_matrix: pd.DataFrame) -> pd.DataFrame:\n",
    "    \"\"\"\n",
    "    Compute a consistent alpha (price) vector using constrained Leontief-style cost propagation.\n",
    "    \n",
    "    Rules:\n",
    "    - If a process has no inputs, its price is fixed to the value given in alpha_matrix (positive or negative).\n",
    "    - If a process has inputs and a positive price, the price is enforced as a lower bound.\n",
    "    - All other prices are inferred, but must be non-negative.\n",
    "    \n",
    "    Parameters:\n",
    "    - A_matrix (pd.DataFrame): Square technology matrix.\n",
    "    - alpha_matrix (pd.DataFrame): Initial price vector (some values may be zero or negative).\n",
    "    \n",
    "    Returns:\n",
    "    - pd.DataFrame: New consistent price vector.\n",
    "    \"\"\"\n",
    "    rows = list(A_matrix.index)\n",
    "    n = len(rows)\n",
    "\n",
    "    T = A_matrix.to_numpy()\n",
    "    A_star = np.zeros_like(T)\n",
    "    for j in range(n):\n",
    "        output = T[j, j]\n",
    "        if output == 0:\n",
    "            continue\n",
    "        for i in range(n):\n",
    "            if i != j:\n",
    "                A_star[i, j] = -T[i, j] / output\n",
    "\n",
    "    original_prices = alpha_matrix[\"Price\"].values.astype(float)\n",
    "    bounds = []\n",
    "    A_ub = []\n",
    "    b_ub = []\n",
    "\n",
    "    for j in range(n):\n",
    "        column = T[:, j]\n",
    "        is_independent = np.allclose(column - np.eye(n)[:, j] * T[j, j], 0)\n",
    "        price = original_prices[j]\n",
    "\n",
    "        if is_independent:\n",
    "            bounds.append((price, price))  # Fix price\n",
    "            continue  # Don't add constraint: p_j ≥ inputs (inputs are none)\n",
    "        else:\n",
    "            # Constraint: p_j ≥ sum of inputs\n",
    "            row = np.zeros(n)\n",
    "            row[j] = -1\n",
    "            for i in range(n):\n",
    "                row[i] += A_star[i, j]\n",
    "            A_ub.append(row)\n",
    "            b_ub.append(0)\n",
    "\n",
    "            # Set bounds\n",
    "            if price > 0:\n",
    "                bounds.append((price, None))\n",
    "            else:\n",
    "                bounds.append((0, None))\n",
    "\n",
    "    A_ub = np.array(A_ub)\n",
    "    b_ub = np.array(b_ub)\n",
    "    c = np.ones(n)\n",
    "\n",
    "    result = linprog(c, A_ub=A_ub, b_ub=b_ub, bounds=bounds, method='highs')\n",
    "\n",
    "    if result.success:\n",
    "        return pd.DataFrame({\"Price\": result.x}, index=rows)\n",
    "    else:\n",
    "        raise RuntimeError(\"Linear program failed to find a consistent price vector.\")"
   ]
  },
  {
   "cell_type": "code",
   "execution_count": 10,
   "id": "a120cdda-e1af-4207-9a79-39410121281f",
   "metadata": {},
   "outputs": [
    {
     "name": "stdout",
     "output_type": "stream",
     "text": [
      "              Price\n",
      "Electricity     5.0\n",
      "Wood            1.9\n",
      "Timber          1.0\n",
      "Chair          25.0\n",
      "Sitting        13.5\n",
      "Broken chair   -2.0\n"
     ]
    }
   ],
   "source": [
    "new_alpha = compute_consistent_alpha(A_matrix, alpha_matrix)\n",
    "print(new_alpha)"
   ]
  },
  {
   "cell_type": "markdown",
   "id": "12b00a5b-0dff-45d2-939c-5bdeeb8229b1",
   "metadata": {},
   "source": [
    "## b) Demand vector, **f**"
   ]
  },
  {
   "cell_type": "code",
   "execution_count": 11,
   "id": "51d1e1ce-fda0-4d2d-b92c-23c9ce25dbb7",
   "metadata": {},
   "outputs": [],
   "source": [
    "f_data = [\n",
    "    [0],\n",
    "    [0],\n",
    "    [0],\n",
    "    [0],\n",
    "    [1],\n",
    "    [0],\n",
    "]"
   ]
  },
  {
   "cell_type": "code",
   "execution_count": 12,
   "id": "dd4ece29-f0e1-4a02-a43e-7b0a5b09ac36",
   "metadata": {},
   "outputs": [
    {
     "data": {
      "text/html": [
       "<div>\n",
       "<style scoped>\n",
       "    .dataframe tbody tr th:only-of-type {\n",
       "        vertical-align: middle;\n",
       "    }\n",
       "\n",
       "    .dataframe tbody tr th {\n",
       "        vertical-align: top;\n",
       "    }\n",
       "\n",
       "    .dataframe thead th {\n",
       "        text-align: right;\n",
       "    }\n",
       "</style>\n",
       "<table border=\"1\" class=\"dataframe\">\n",
       "  <thead>\n",
       "    <tr style=\"text-align: right;\">\n",
       "      <th></th>\n",
       "      <th>Final demand</th>\n",
       "    </tr>\n",
       "  </thead>\n",
       "  <tbody>\n",
       "    <tr>\n",
       "      <th>Electricity</th>\n",
       "      <td>0</td>\n",
       "    </tr>\n",
       "    <tr>\n",
       "      <th>Wood</th>\n",
       "      <td>0</td>\n",
       "    </tr>\n",
       "    <tr>\n",
       "      <th>Timber</th>\n",
       "      <td>0</td>\n",
       "    </tr>\n",
       "    <tr>\n",
       "      <th>Chair</th>\n",
       "      <td>0</td>\n",
       "    </tr>\n",
       "    <tr>\n",
       "      <th>Sitting</th>\n",
       "      <td>1</td>\n",
       "    </tr>\n",
       "    <tr>\n",
       "      <th>Broken chair</th>\n",
       "      <td>0</td>\n",
       "    </tr>\n",
       "  </tbody>\n",
       "</table>\n",
       "</div>"
      ],
      "text/plain": [
       "              Final demand\n",
       "Electricity              0\n",
       "Wood                     0\n",
       "Timber                   0\n",
       "Chair                    0\n",
       "Sitting                  1\n",
       "Broken chair             0"
      ]
     },
     "execution_count": 12,
     "metadata": {},
     "output_type": "execute_result"
    }
   ],
   "source": [
    "f_vector = pd.DataFrame(f_data, index=rows_A, columns=[\"Final demand\"])\n",
    "f_vector"
   ]
  },
  {
   "cell_type": "markdown",
   "id": "4aa03709-e0c4-4d0f-b834-a3e2cad79c25",
   "metadata": {},
   "source": [
    "## c) Scaling factors"
   ]
  },
  {
   "cell_type": "markdown",
   "id": "ce4b3c21-867e-4fbe-b1a4-2d5287076b3d",
   "metadata": {},
   "source": [
    "Scaling factors $s$ are obtained by solving the standard linear system:"
   ]
  },
  {
   "cell_type": "markdown",
   "id": "e45c4d9b-70c5-4f6e-b009-0af8929daaef",
   "metadata": {},
   "source": [
    "$$\n",
    "s = A^{-1} \\cdot f\n",
    "$$\n",
    "\n",
    "where:\n",
    "- $A$ is the technology matrix,\n",
    "- $f$ is the final demand vector,\n",
    "- and $s$ is the scaling vector representing the activity levels required to meet $f$."
   ]
  },
  {
   "cell_type": "code",
   "execution_count": 13,
   "id": "bec0800e-5f00-456e-ad23-c86aaafd33a8",
   "metadata": {},
   "outputs": [
    {
     "data": {
      "text/plain": [
       "array([[0.25],\n",
       "       [0.1 ],\n",
       "       [0.7 ],\n",
       "       [0.1 ],\n",
       "       [0.1 ],\n",
       "       [0.5 ]])"
      ]
     },
     "execution_count": 13,
     "metadata": {},
     "output_type": "execute_result"
    }
   ],
   "source": [
    "s = np.linalg.solve(A_matrix.to_numpy(), f_vector.to_numpy())\n",
    "s"
   ]
  },
  {
   "cell_type": "markdown",
   "id": "b12e043e-3df2-4314-abfd-a326eef71d29",
   "metadata": {},
   "source": [
    "And the process matrix:"
   ]
  },
  {
   "cell_type": "code",
   "execution_count": 14,
   "id": "19d64620-65fc-4ea9-b44e-39ad8880d0e0",
   "metadata": {},
   "outputs": [
    {
     "data": {
      "text/plain": [
       "array([[ 0.25 , -0.125,  0.   , -0.5  ,  0.   ,  0.   ],\n",
       "       [ 0.   ,  0.5  ,  0.   , -0.5  ,  0.   ,  0.   ],\n",
       "       [ 0.   , -4.9  ,  0.7  ,  0.   ,  0.   ,  0.   ],\n",
       "       [ 0.   ,  0.   ,  0.   ,  0.5  , -0.5  ,  0.   ],\n",
       "       [ 0.   ,  0.   ,  0.   ,  0.   ,  1.   ,  0.   ],\n",
       "       [ 0.   ,  0.   ,  0.   ,  0.   ,  2.5  , -0.5  ]])"
      ]
     },
     "execution_count": 14,
     "metadata": {},
     "output_type": "execute_result"
    }
   ],
   "source": [
    "A_scaled = A_matrix.to_numpy() * s \n",
    "A_scaled"
   ]
  },
  {
   "cell_type": "markdown",
   "id": "af7aa249-782e-407c-bd47-63fdcb5580a6",
   "metadata": {},
   "source": [
    "## d) Transform the 'physical' technology matrix into its monetary form"
   ]
  },
  {
   "cell_type": "markdown",
   "id": "74ea51a4-1e12-4adc-926b-166da7256203",
   "metadata": {},
   "source": [
    "The monetary technology matrix is obtained by scaling each **row** of the physical technology matrix $A$ by the corresponding price in the vector $\\alpha$:\n",
    "\n",
    "$$\n",
    "A_m = \\text{diag}(\\alpha) \\cdot A\n",
    "$$\n",
    "\n",
    "where:\n",
    "- $\\alpha$ is the price vector (in units of currency per unit of product),\n",
    "- $A$ is the physical technology matrix (product × process),\n",
    "- and $A_m$ is the monetary technology matrix (currency × process),\n",
    "- i.e., each entry of $A_m$ represents the cost contribution of product $i$ to process $j$."
   ]
  },
  {
   "cell_type": "code",
   "execution_count": 15,
   "id": "591ef3da-c2b1-4617-930c-720ba37e8f1e",
   "metadata": {},
   "outputs": [
    {
     "data": {
      "text/html": [
       "<div>\n",
       "<style scoped>\n",
       "    .dataframe tbody tr th:only-of-type {\n",
       "        vertical-align: middle;\n",
       "    }\n",
       "\n",
       "    .dataframe tbody tr th {\n",
       "        vertical-align: top;\n",
       "    }\n",
       "\n",
       "    .dataframe thead th {\n",
       "        text-align: right;\n",
       "    }\n",
       "</style>\n",
       "<table border=\"1\" class=\"dataframe\">\n",
       "  <thead>\n",
       "    <tr style=\"text-align: right;\">\n",
       "      <th></th>\n",
       "      <th>Production of electricity</th>\n",
       "      <th>Production of wood</th>\n",
       "      <th>Production of timber</th>\n",
       "      <th>Production of chair</th>\n",
       "      <th>Use of chair</th>\n",
       "      <th>Disposal of broken chair</th>\n",
       "    </tr>\n",
       "  </thead>\n",
       "  <tbody>\n",
       "    <tr>\n",
       "      <th>Electricity</th>\n",
       "      <td>5.0</td>\n",
       "      <td>-2.5</td>\n",
       "      <td>0.0</td>\n",
       "      <td>-10.0</td>\n",
       "      <td>0.0</td>\n",
       "      <td>0.0</td>\n",
       "    </tr>\n",
       "    <tr>\n",
       "      <th>Wood</th>\n",
       "      <td>0.0</td>\n",
       "      <td>9.5</td>\n",
       "      <td>0.0</td>\n",
       "      <td>-9.5</td>\n",
       "      <td>0.0</td>\n",
       "      <td>0.0</td>\n",
       "    </tr>\n",
       "    <tr>\n",
       "      <th>Timber</th>\n",
       "      <td>0.0</td>\n",
       "      <td>-7.0</td>\n",
       "      <td>1.0</td>\n",
       "      <td>0.0</td>\n",
       "      <td>0.0</td>\n",
       "      <td>0.0</td>\n",
       "    </tr>\n",
       "    <tr>\n",
       "      <th>Chair</th>\n",
       "      <td>0.0</td>\n",
       "      <td>0.0</td>\n",
       "      <td>0.0</td>\n",
       "      <td>125.0</td>\n",
       "      <td>-125.0</td>\n",
       "      <td>0.0</td>\n",
       "    </tr>\n",
       "    <tr>\n",
       "      <th>Sitting</th>\n",
       "      <td>0.0</td>\n",
       "      <td>0.0</td>\n",
       "      <td>0.0</td>\n",
       "      <td>0.0</td>\n",
       "      <td>135.0</td>\n",
       "      <td>0.0</td>\n",
       "    </tr>\n",
       "    <tr>\n",
       "      <th>Broken chair</th>\n",
       "      <td>0.0</td>\n",
       "      <td>0.0</td>\n",
       "      <td>0.0</td>\n",
       "      <td>0.0</td>\n",
       "      <td>-10.0</td>\n",
       "      <td>2.0</td>\n",
       "    </tr>\n",
       "  </tbody>\n",
       "</table>\n",
       "</div>"
      ],
      "text/plain": [
       "              Production of electricity  Production of wood  \\\n",
       "Electricity                         5.0                -2.5   \n",
       "Wood                                0.0                 9.5   \n",
       "Timber                              0.0                -7.0   \n",
       "Chair                               0.0                 0.0   \n",
       "Sitting                             0.0                 0.0   \n",
       "Broken chair                        0.0                 0.0   \n",
       "\n",
       "              Production of timber  Production of chair  Use of chair  \\\n",
       "Electricity                    0.0                -10.0           0.0   \n",
       "Wood                           0.0                 -9.5           0.0   \n",
       "Timber                         1.0                  0.0           0.0   \n",
       "Chair                          0.0                125.0        -125.0   \n",
       "Sitting                        0.0                  0.0         135.0   \n",
       "Broken chair                   0.0                  0.0         -10.0   \n",
       "\n",
       "              Disposal of broken chair  \n",
       "Electricity                        0.0  \n",
       "Wood                               0.0  \n",
       "Timber                             0.0  \n",
       "Chair                              0.0  \n",
       "Sitting                            0.0  \n",
       "Broken chair                       2.0  "
      ]
     },
     "execution_count": 15,
     "metadata": {},
     "output_type": "execute_result"
    }
   ],
   "source": [
    "Am = np.diag(new_alpha.to_numpy().flatten()) @ A_matrix.to_numpy()\n",
    "Am_df = pd.DataFrame(Am, index=A_matrix.index, columns=A_matrix.columns)\n",
    "Am_df"
   ]
  },
  {
   "cell_type": "markdown",
   "id": "045ce003-d40a-4a21-96f1-de6f6e3c8799",
   "metadata": {},
   "source": [
    "## e) Scale the monetary technology matrix"
   ]
  },
  {
   "cell_type": "markdown",
   "id": "eb8d36f5-ade7-441a-b22b-30d98e9cae8a",
   "metadata": {},
   "source": [
    "Each column of the monetary technology matrix $A_m$ is scaled by the corresponding activity level in $s_m$:\n",
    "\n",
    "$$\n",
    "A_{m, \\text{scaled}} = A_m \\cdot \\text{diag}(s_m)\n",
    "$$\n",
    "\n",
    "This yields the scaled monetary process matrix, where each entry represents the actual monetary flow associated with product $i$ and process $j$."
   ]
  },
  {
   "cell_type": "code",
   "execution_count": 16,
   "id": "5c697571-72da-408c-a7fc-0bfd7e2eacee",
   "metadata": {},
   "outputs": [
    {
     "data": {
      "text/plain": [
       "Electricity      0.0\n",
       "Wood             0.0\n",
       "Timber           0.0\n",
       "Chair            0.0\n",
       "Sitting         13.5\n",
       "Broken chair     0.0\n",
       "dtype: float64"
      ]
     },
     "execution_count": 16,
     "metadata": {},
     "output_type": "execute_result"
    }
   ],
   "source": [
    "f_m = pd.Series(0.0, index=A_matrix.index)\n",
    "f_m[\"Sitting\"] = new_alpha.loc[\"Sitting\", \"Price\"]\n",
    "f_m"
   ]
  },
  {
   "cell_type": "code",
   "execution_count": 17,
   "id": "73c7ccee-fca5-4b24-9e55-02af8ac3fff3",
   "metadata": {},
   "outputs": [],
   "source": [
    "Am = Am_df.to_numpy()\n",
    "s_m = np.linalg.solve(Am, f_m.to_numpy())"
   ]
  },
  {
   "cell_type": "code",
   "execution_count": 18,
   "id": "e3b1dda6-8332-4bb9-9814-33c6c978eb03",
   "metadata": {},
   "outputs": [
    {
     "data": {
      "text/html": [
       "<div>\n",
       "<style scoped>\n",
       "    .dataframe tbody tr th:only-of-type {\n",
       "        vertical-align: middle;\n",
       "    }\n",
       "\n",
       "    .dataframe tbody tr th {\n",
       "        vertical-align: top;\n",
       "    }\n",
       "\n",
       "    .dataframe thead th {\n",
       "        text-align: right;\n",
       "    }\n",
       "</style>\n",
       "<table border=\"1\" class=\"dataframe\">\n",
       "  <thead>\n",
       "    <tr style=\"text-align: right;\">\n",
       "      <th></th>\n",
       "      <th>Production of electricity</th>\n",
       "      <th>Production of wood</th>\n",
       "      <th>Production of timber</th>\n",
       "      <th>Production of chair</th>\n",
       "      <th>Use of chair</th>\n",
       "      <th>Disposal of broken chair</th>\n",
       "    </tr>\n",
       "  </thead>\n",
       "  <tbody>\n",
       "    <tr>\n",
       "      <th>Electricity</th>\n",
       "      <td>1.25</td>\n",
       "      <td>-0.25</td>\n",
       "      <td>0.0</td>\n",
       "      <td>-1.00</td>\n",
       "      <td>0.0</td>\n",
       "      <td>0.0</td>\n",
       "    </tr>\n",
       "    <tr>\n",
       "      <th>Wood</th>\n",
       "      <td>0.00</td>\n",
       "      <td>0.95</td>\n",
       "      <td>0.0</td>\n",
       "      <td>-0.95</td>\n",
       "      <td>0.0</td>\n",
       "      <td>0.0</td>\n",
       "    </tr>\n",
       "    <tr>\n",
       "      <th>Timber</th>\n",
       "      <td>0.00</td>\n",
       "      <td>-0.70</td>\n",
       "      <td>0.7</td>\n",
       "      <td>0.00</td>\n",
       "      <td>0.0</td>\n",
       "      <td>0.0</td>\n",
       "    </tr>\n",
       "    <tr>\n",
       "      <th>Chair</th>\n",
       "      <td>0.00</td>\n",
       "      <td>0.00</td>\n",
       "      <td>0.0</td>\n",
       "      <td>12.50</td>\n",
       "      <td>-12.5</td>\n",
       "      <td>0.0</td>\n",
       "    </tr>\n",
       "    <tr>\n",
       "      <th>Sitting</th>\n",
       "      <td>0.00</td>\n",
       "      <td>0.00</td>\n",
       "      <td>0.0</td>\n",
       "      <td>0.00</td>\n",
       "      <td>13.5</td>\n",
       "      <td>0.0</td>\n",
       "    </tr>\n",
       "    <tr>\n",
       "      <th>Broken chair</th>\n",
       "      <td>0.00</td>\n",
       "      <td>0.00</td>\n",
       "      <td>0.0</td>\n",
       "      <td>0.00</td>\n",
       "      <td>-1.0</td>\n",
       "      <td>1.0</td>\n",
       "    </tr>\n",
       "  </tbody>\n",
       "</table>\n",
       "</div>"
      ],
      "text/plain": [
       "              Production of electricity  Production of wood  \\\n",
       "Electricity                        1.25               -0.25   \n",
       "Wood                               0.00                0.95   \n",
       "Timber                             0.00               -0.70   \n",
       "Chair                              0.00                0.00   \n",
       "Sitting                            0.00                0.00   \n",
       "Broken chair                       0.00                0.00   \n",
       "\n",
       "              Production of timber  Production of chair  Use of chair  \\\n",
       "Electricity                    0.0                -1.00           0.0   \n",
       "Wood                           0.0                -0.95           0.0   \n",
       "Timber                         0.7                 0.00           0.0   \n",
       "Chair                          0.0                12.50         -12.5   \n",
       "Sitting                        0.0                 0.00          13.5   \n",
       "Broken chair                   0.0                 0.00          -1.0   \n",
       "\n",
       "              Disposal of broken chair  \n",
       "Electricity                        0.0  \n",
       "Wood                               0.0  \n",
       "Timber                             0.0  \n",
       "Chair                              0.0  \n",
       "Sitting                            0.0  \n",
       "Broken chair                       1.0  "
      ]
     },
     "execution_count": 18,
     "metadata": {},
     "output_type": "execute_result"
    }
   ],
   "source": [
    "Am_scaled = Am * s_m\n",
    "Am_scaled_df = pd.DataFrame(Am_scaled, index=A_matrix.index, columns=A_matrix.columns)\n",
    "Am_scaled_df"
   ]
  },
  {
   "cell_type": "markdown",
   "id": "5d2443d4-2424-4c51-9aba-65b73e12dcd9",
   "metadata": {},
   "source": [
    "## f) Value added per process, $v$"
   ]
  },
  {
   "cell_type": "markdown",
   "id": "3a6f51b6-430d-4d4b-b663-a35976998474",
   "metadata": {},
   "source": [
    "\n",
    "The total cost (value added) per process is obtained by summing all monetary inputs across rows:\n",
    "\n",
    "$$\n",
    "v = A_{m, \\text{scaled}}^\\top \\cdot \\mathbf{l}\n",
    "$$\n",
    "\n",
    "where:\n",
    "- $A_{m, \\text{scaled}}^\\top$ is the transposed scaled monetary matrix,\n",
    "- $\\mathbf{l}$ is a vector of ones (i.e., the summation operator),\n",
    "- and $v$ is a vector containing the total cost of each process."
   ]
  },
  {
   "cell_type": "code",
   "execution_count": 19,
   "id": "f806a73c-0714-482b-ae6e-70b6ac1451c0",
   "metadata": {},
   "outputs": [],
   "source": [
    "l = np.ones(Am_scaled_df.shape[0])\n",
    "v = Am_scaled_df.T @ l "
   ]
  },
  {
   "cell_type": "code",
   "execution_count": 20,
   "id": "e039a895-07c8-4516-9e5c-f6b99b455772",
   "metadata": {},
   "outputs": [
    {
     "data": {
      "text/html": [
       "<div>\n",
       "<style scoped>\n",
       "    .dataframe tbody tr th:only-of-type {\n",
       "        vertical-align: middle;\n",
       "    }\n",
       "\n",
       "    .dataframe tbody tr th {\n",
       "        vertical-align: top;\n",
       "    }\n",
       "\n",
       "    .dataframe thead th {\n",
       "        text-align: right;\n",
       "    }\n",
       "</style>\n",
       "<table border=\"1\" class=\"dataframe\">\n",
       "  <thead>\n",
       "    <tr style=\"text-align: right;\">\n",
       "      <th></th>\n",
       "      <th>Value added</th>\n",
       "    </tr>\n",
       "  </thead>\n",
       "  <tbody>\n",
       "    <tr>\n",
       "      <th>Production of electricity</th>\n",
       "      <td>1.25</td>\n",
       "    </tr>\n",
       "    <tr>\n",
       "      <th>Production of wood</th>\n",
       "      <td>0.00</td>\n",
       "    </tr>\n",
       "    <tr>\n",
       "      <th>Production of timber</th>\n",
       "      <td>0.70</td>\n",
       "    </tr>\n",
       "    <tr>\n",
       "      <th>Production of chair</th>\n",
       "      <td>10.55</td>\n",
       "    </tr>\n",
       "    <tr>\n",
       "      <th>Use of chair</th>\n",
       "      <td>0.00</td>\n",
       "    </tr>\n",
       "    <tr>\n",
       "      <th>Disposal of broken chair</th>\n",
       "      <td>1.00</td>\n",
       "    </tr>\n",
       "  </tbody>\n",
       "</table>\n",
       "</div>"
      ],
      "text/plain": [
       "                           Value added\n",
       "Production of electricity         1.25\n",
       "Production of wood                0.00\n",
       "Production of timber              0.70\n",
       "Production of chair              10.55\n",
       "Use of chair                      0.00\n",
       "Disposal of broken chair          1.00"
      ]
     },
     "execution_count": 20,
     "metadata": {},
     "output_type": "execute_result"
    }
   ],
   "source": [
    "value_added = pd.DataFrame({\"Value added\": v}, index=A_matrix.columns)\n",
    "value_added"
   ]
  },
  {
   "cell_type": "markdown",
   "id": "5712da3e-46c9-48f7-b961-6998d9bf8236",
   "metadata": {},
   "source": [
    "The sum of the $v$ vector is 13.5$, namely the life cycle cost. We thus define the life cycle cost as \"the sum of all value added over the life cycle\"."
   ]
  }
 ],
 "metadata": {
  "kernelspec": {
   "display_name": "Python 3 (ipykernel)",
   "language": "python",
   "name": "python3"
  },
  "language_info": {
   "codemirror_mode": {
    "name": "ipython",
    "version": 3
   },
   "file_extension": ".py",
   "mimetype": "text/x-python",
   "name": "python",
   "nbconvert_exporter": "python",
   "pygments_lexer": "ipython3",
   "version": "3.11.10"
  }
 },
 "nbformat": 4,
 "nbformat_minor": 5
}

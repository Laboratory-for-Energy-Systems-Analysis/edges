{
 "cells": [
  {
   "cell_type": "markdown",
   "id": "27e81e08-f901-473f-8552-b5aebf909bf5",
   "metadata": {},
   "source": [
    "# **Example concentration-dependent GWP | Use case 3**"
   ]
  },
  {
   "cell_type": "markdown",
   "id": "6790740b-b4e2-4759-baab-6ad67d0e8665",
   "metadata": {},
   "source": [
    "**Author:**  \n",
    "[Romain Sacchi](mailto:romain.sacchi@psi.ch)"
   ]
  },
  {
   "cell_type": "markdown",
   "id": "f267e1fc-0b92-4359-adc1-f46d6249c81e",
   "metadata": {},
   "source": [
    "This notebook presents an example to build an edges-based LCA using a concentration-dependent GWP method."
   ]
  },
  {
   "cell_type": "markdown",
   "id": "97350ee1-d46b-493e-bfa8-6d544356e83d",
   "metadata": {},
   "source": [
    "## Structure"
   ]
  },
  {
   "cell_type": "markdown",
   "id": "41c861f5-f092-42c4-9599-1dd3bb63a838",
   "metadata": {},
   "source": [
    "1. [Import *edges* and set *bw2 project*](#sec_import_edges)\n",
    "2. [Import hydrogen production, PEM, LCI](#sec_import_h2)\n",
    "3. [Select *Functional Unit* and *method*](#sec_select_fu)\n",
    "4. [Run edges based LCA and export results](#sec_run_edges_lca)\n",
    "6. [Plot results](#sec_plot_results)"
   ]
  },
  {
   "cell_type": "markdown",
   "id": "6dd4679c-ceac-4f8c-8ee4-cd91ab38ab16",
   "metadata": {},
   "source": [
    "<a id=\"sec_import_edges\"></a>\n",
    "# 1. Import edges and set bw2 project"
   ]
  },
  {
   "cell_type": "code",
   "execution_count": 1,
   "id": "e5d5d48e-c53d-447b-8fb1-0b1b7f1285fa",
   "metadata": {},
   "outputs": [
    {
     "name": "stdout",
     "output_type": "stream",
     "text": [
      "16:52:06+0200 [warning  ] Can't import `SimaProBlockCSVImporter` - please install `bw2io` with `pip install bw2io[multifunctional]` or install `multifunctional` and `bw_simapro_csv` manually.\n"
     ]
    }
   ],
   "source": [
    "from edges import EdgeLCIA\n",
    "import bw2data, bw2io"
   ]
  },
  {
   "cell_type": "code",
   "execution_count": 2,
   "id": "a7253f27-dab8-4224-a4a1-a74789ed7ddb",
   "metadata": {},
   "outputs": [],
   "source": [
    "bw2data.projects.set_current(\"ecoinvent-3.10.1-cutoff\")"
   ]
  },
  {
   "cell_type": "markdown",
   "id": "b109f0b4-7e28-40ea-be33-3eb3de611fda",
   "metadata": {},
   "source": [
    "<a id=\"sec_import_h2\"></a>\n",
    "# 2. Import hydrogen production, PEM, LCI"
   ]
  },
  {
   "cell_type": "code",
   "execution_count": 3,
   "id": "0b0340f8-dc2d-4aa6-b7f3-a09ef24cbd07",
   "metadata": {},
   "outputs": [
    {
     "name": "stdout",
     "output_type": "stream",
     "text": [
      "Extracted 1 worksheets in 0.14 seconds\n",
      "Applying strategy: csv_restore_tuples\n",
      "Applying strategy: csv_restore_booleans\n",
      "Applying strategy: csv_numerize\n",
      "Applying strategy: csv_drop_unknown\n",
      "Applying strategy: csv_add_missing_exchanges_section\n",
      "Applying strategy: normalize_units\n",
      "Applying strategy: normalize_biosphere_categories\n",
      "Applying strategy: normalize_biosphere_names\n",
      "Applying strategy: strip_biosphere_exc_locations\n",
      "Applying strategy: set_code_by_activity_hash\n",
      "Applying strategy: link_iterable_by_fields\n",
      "Applying strategy: assign_only_product_as_production\n",
      "Applying strategy: link_technosphere_by_activity_hash\n",
      "Applying strategy: drop_falsey_uncertainty_fields_but_keep_zeros\n",
      "Applying strategy: convert_uncertainty_types_to_integers\n",
      "Applying strategy: convert_activity_parameters_to_list\n",
      "Applied 16 strategies in 0.25 seconds\n",
      "Applying strategy: link_iterable_by_fields\n",
      "Applying strategy: link_iterable_by_fields\n",
      "Applying strategy: link_iterable_by_fields\n",
      "Graph statistics for `h2_pem` importer:\n",
      "11 graph nodes:\n",
      "\tNone: 11\n",
      "214 graph edges:\n",
      "\ttechnosphere: 124\n",
      "\tbiosphere: 79\n",
      "\tproduction: 11\n",
      "213 edges to the following databases:\n",
      "\tecoinvent-3.10.1-cutoff: 98\n",
      "\tbiosphere: 78\n",
      "\th2_pem: 37\n",
      "1 unique unlinked edges (1 total):\n",
      "\tbiosphere: 1\n",
      "\n",
      "\n",
      "Applying strategy: drop_unlinked\n",
      "Applied 1 strategies in 0.00 seconds\n",
      "Applying strategy: drop_unlinked\n",
      "Applied 1 strategies in 0.00 seconds\n",
      "16:52:16+0200 [warning  ] Not able to determine geocollections for all datasets. This database is not ready for regionalization.\n"
     ]
    },
    {
     "name": "stderr",
     "output_type": "stream",
     "text": [
      "100%|██████████████████████████████████████████████████████████████████████████████████████████████████████████████████████████████████████████████████████████████████████████| 11/11 [00:00<00:00, 228.77it/s]\n"
     ]
    },
    {
     "name": "stdout",
     "output_type": "stream",
     "text": [
      "16:52:16+0200 [info     ] Vacuuming database            \n",
      "Created database: h2_pem\n"
     ]
    }
   ],
   "source": [
    "if \"h2_pem\" in bw2data.databases:\n",
    "    del bw2data.databases[\"h2_pem\"]\n",
    "lci = bw2io.ExcelImporter(\"lci-hydrogen-electrolysis.xlsx\")\n",
    "lci.apply_strategies()\n",
    "lci.match_database(fields=[\"name\", \"reference product\", \"location\"])\n",
    "lci.match_database(\"ecoinvent-3.10.1-cutoff\",fields=[\"name\", \"reference product\", \"location\"])\n",
    "lci.match_database(\"biosphere\",fields=[\"name\", \"categories\"])\n",
    "lci.statistics()\n",
    "lci.drop_unlinked(i_am_reckless=True)\n",
    "lci.drop_unlinked(i_am_reckless=True)\n",
    "if len(list(lci.unlinked)) == 0:\n",
    "    lci.write_database()\n",
    "\n",
    "\n",
    "classifications = {\n",
    "    \"hydrogen production, gaseous, 30 bar, from PEM electrolysis, from grid electricity\": (\"CPC\", \"34210\"),\n",
    "    \"hydrogen production, gaseous, 30 bar, from PEM electrolysis, from solar photovoltaic electricity\": (\"CPC\", \"34210\"),\n",
    "    \"hydrogen production, gaseous, 30 bar, from PEM electrolysis, from onshore wind electricity\": (\"CPC\", \"34210\"),\n",
    "    \"hydrogen production, gaseous, 30 bar, from PEM electrolysis, from offshore wind electricity\": (\"CPC\", \"34210\"),\n",
    "    \"hydrogen production, gaseous, 30 bar, from PEM electrolysis, from geothermal electricity\": (\"CPC\", \"34210\"),\n",
    "    \"electrolyzer production, 1MWe, PEM, Stack\": (\"CPC\", \"4220:Construction of utility projects\"),\n",
    "    \"treatment of electrolyzer stack, 1MWe, PEM\": (\"CPC\", \"3830\"),\n",
    "    \"electrolyzer production, 1MWe, PEM, Balance of Plant\": (\"CPC\", \"4220:Construction of utility projects\"),\n",
    "    \"treatment of electrolyzer balance of plant, 1MWe, PEM\": (\"CPC\", \"3830\"),\n",
    "    \"platinum group metal, extraction and refinery operations\": (\"CPC\", \"2420\"),\n",
    "    \"deionized water production, via reverse osmosis, from brackish water\": (\"CPC\", \"34210\")\n",
    "}\n",
    "for ds in bw2data.Database(\"h2_pem\"):\n",
    "    if ds[\"name\"] in classifications:\n",
    "        ds[\"classifications\"] = [classifications[ds[\"name\"]]]\n",
    "        ds.save()"
   ]
  },
  {
   "cell_type": "markdown",
   "id": "efc2d1b9-7d52-48db-abb0-8dfd82cba7f0",
   "metadata": {},
   "source": [
    "<a id=\"sec_select_fu\"></a>\n",
    "# 3. Select Functional Unit and method"
   ]
  },
  {
   "cell_type": "markdown",
   "id": "9eb4fb77-3c6c-45e6-9f34-4b0f677c2ea0",
   "metadata": {},
   "source": [
    "### 3.1. Select FU"
   ]
  },
  {
   "cell_type": "code",
   "execution_count": 4,
   "id": "b210a5cc-45db-46dd-be6e-8d558814bf89",
   "metadata": {},
   "outputs": [
    {
     "data": {
      "text/plain": [
       "'hydrogen production, gaseous, 30 bar, from PEM electrolysis, from offshore wind electricity' (kilogram, FR, None)"
      ]
     },
     "execution_count": 4,
     "metadata": {},
     "output_type": "execute_result"
    }
   ],
   "source": [
    "act = [a for a in bw2data.Database(\"h2_pem\") if a[\"name\"] == \"hydrogen production, gaseous, 30 bar, from PEM electrolysis, from offshore wind electricity\"][0]\n",
    "act"
   ]
  },
  {
   "cell_type": "markdown",
   "id": "c70ec283-0eea-4029-8061-e4a387148437",
   "metadata": {},
   "source": [
    "### 3.2. Select method"
   ]
  },
  {
   "cell_type": "code",
   "execution_count": 5,
   "id": "94cf51c8-5f45-49c4-9e74-57378745d97d",
   "metadata": {},
   "outputs": [],
   "source": [
    "import numpy as np"
   ]
  },
  {
   "cell_type": "code",
   "execution_count": 6,
   "id": "a7b9c933-2ede-4c82-b776-4f3d525f2f40",
   "metadata": {},
   "outputs": [],
   "source": [
    "# Physical constants\n",
    "M_atm = 5.15e18  # kg, total mass of Earth's atmosphere\n",
    "M_air = 28.96    # g/mol, average molar mass of air\n",
    "\n",
    "# Gas-specific molecular weights (g/mol)\n",
    "M_gas = {\n",
    "    'CO2': 44.01,\n",
    "    'CH4': 16.04,\n",
    "    'N2O': 44.013\n",
    "}\n",
    "\n",
    "# IPCC concentration parameters (Myhre et al. 1998 / IPCC AR6)\n",
    "RF_COEFF = {\n",
    "    'CH4': 0.036,  # W·m⁻²·ppb⁻½ for CH4\n",
    "    'N2O': 0.12    # W·m⁻²·ppb⁻½ for N2O\n",
    "}\n",
    "\n",
    "# Reference atmospheric concentrations (IPCC AR6, ~2019)\n",
    "C_REF = {\n",
    "    'CH4': 1866,  # ppb\n",
    "    'N2O': 332    # ppb\n",
    "}\n",
    "\n",
    "# Indirect forcing factor for methane (IPCC AR6)\n",
    "INDIRECT_FACTOR = {\n",
    "    'CH4': 1.65,\n",
    "    'N2O': 1.0\n",
    "}\n",
    "\n",
    "# Gas-specific atmospheric lifetimes (years, IPCC AR6)\n",
    "TAU_GAS = {\n",
    "    'CH4': 11.8,\n",
    "    'N2O': 109\n",
    "}\n",
    "\n",
    "# CO2 impulse response function parameters (IPCC AR5/AR6)\n",
    "CO2_IRF = {\n",
    "    'a0': 0.2173,\n",
    "    'a': [0.2240, 0.2824, 0.2763],\n",
    "    'tau': [394.4, 36.54, 4.304]\n",
    "}\n",
    "\n",
    "# Convert concentration-based radiative efficiency to mass-based (W·m⁻²·kg⁻¹)\n",
    "def convert_ppb_to_mass_rf(a_ppb, gas):\n",
    "    return a_ppb * (M_atm / M_gas[gas]) * (M_air / 1e9)\n",
    "\n",
    "# Calculate concentration-dependent radiative efficiency\n",
    "def radiative_efficiency_concentration(gas, concentration_ppb):\n",
    "    alpha = RF_COEFF[gas]\n",
    "    return (alpha / (2 * np.sqrt(concentration_ppb))) * INDIRECT_FACTOR[gas]\n",
    "\n",
    "# AGWP for CO2 (mass-based)\n",
    "def AGWP_CO2(H):\n",
    "    integral_CO2 = CO2_IRF['a0'] * H + sum(\n",
    "        a * tau * (1 - np.exp(-H / tau))\n",
    "        for a, tau in zip(CO2_IRF['a'], CO2_IRF['tau'])\n",
    "    )\n",
    "    am_CO2 = convert_ppb_to_mass_rf(1.37e-5, 'CO2')  # fixed IPCC radiative efficiency for CO2\n",
    "    return am_CO2 * integral_CO2\n",
    "\n",
    "# AGWP for gas at given concentration\n",
    "def AGWP_gas(gas, H, concentration_ppb):\n",
    "    aa_gas = radiative_efficiency_concentration(gas, concentration_ppb)\n",
    "    am_gas = convert_ppb_to_mass_rf(aa_gas, gas)\n",
    "    tau_gas = TAU_GAS[gas]\n",
    "    return am_gas * tau_gas * (1 - np.exp(-H / tau_gas))\n",
    "\n",
    "# Calculate concentration-dependent GWP\n",
    "def GWP(gas, H, concentration_ppb):\n",
    "    AGWP_g = AGWP_gas(gas, H, concentration_ppb)\n",
    "    AGWP_ref = AGWP_CO2(H)\n",
    "    return AGWP_g / AGWP_ref\n"
   ]
  },
  {
   "cell_type": "code",
   "execution_count": 7,
   "id": "bbc3a39b-b3e1-46bb-a919-c2cd9694a409",
   "metadata": {},
   "outputs": [
    {
     "data": {
      "text/plain": [
       "np.float64(30.660731597024444)"
      ]
     },
     "execution_count": 7,
     "metadata": {},
     "output_type": "execute_result"
    }
   ],
   "source": [
    "GWP('CH4', 100, 1911)"
   ]
  },
  {
   "cell_type": "code",
   "execution_count": 8,
   "id": "075076c8-f4f7-4db5-84f7-0cec83351d17",
   "metadata": {
    "scrolled": true
   },
   "outputs": [],
   "source": [
    "# GWP and LCIA setup\n",
    "allowed_funcs = {\"GWP\": GWP}\n",
    "method = ('GWP', 'scenario-dependent', '100 years')"
   ]
  },
  {
   "cell_type": "markdown",
   "id": "d7030b18-23cc-4c7b-9bb5-4c7e6820ee37",
   "metadata": {},
   "source": [
    "<a id=\"sec_run_edges_lca\"></a>\n",
    "# 4. Run edges-based LCA and export results"
   ]
  },
  {
   "cell_type": "code",
   "execution_count": 9,
   "id": "d1bc2fe8-fb03-4bc7-b94d-a41147752132",
   "metadata": {},
   "outputs": [
    {
     "name": "stderr",
     "output_type": "stream",
     "text": [
      "Mapping exchanges: 100%|█████████████████████████████████████████████████████████████████████████████████████████████████████████████████████████████████████████████████████████| 3/3 [00:00<00:00, 777.88it/s]\n"
     ]
    },
    {
     "name": "stdout",
     "output_type": "stream",
     "text": [
      "Processed edges: 0\n",
      "RCP1.9 2020\n"
     ]
    },
    {
     "name": "stderr",
     "output_type": "stream",
     "text": [
      "No exchanges were matched or characterized. Score is set to 0.\n",
      "generate_cf_table() called before evaluate_cfs(). Returning empty DataFrame.\n"
     ]
    },
    {
     "name": "stdout",
     "output_type": "stream",
     "text": [
      "Year 2020 | RCP1.9: Impact = 0\n",
      "RCP1.9 2050\n"
     ]
    },
    {
     "name": "stderr",
     "output_type": "stream",
     "text": [
      "No exchanges were matched or characterized. Score is set to 0.\n",
      "generate_cf_table() called before evaluate_cfs(). Returning empty DataFrame.\n"
     ]
    },
    {
     "name": "stdout",
     "output_type": "stream",
     "text": [
      "Year 2050 | RCP1.9: Impact = 0\n",
      "RCP1.9 2080\n"
     ]
    },
    {
     "name": "stderr",
     "output_type": "stream",
     "text": [
      "No exchanges were matched or characterized. Score is set to 0.\n",
      "generate_cf_table() called before evaluate_cfs(). Returning empty DataFrame.\n"
     ]
    },
    {
     "name": "stdout",
     "output_type": "stream",
     "text": [
      "Year 2080 | RCP1.9: Impact = 0\n",
      "RCP1.9 2100\n"
     ]
    },
    {
     "name": "stderr",
     "output_type": "stream",
     "text": [
      "No exchanges were matched or characterized. Score is set to 0.\n",
      "generate_cf_table() called before evaluate_cfs(). Returning empty DataFrame.\n"
     ]
    },
    {
     "name": "stdout",
     "output_type": "stream",
     "text": [
      "Year 2100 | RCP1.9: Impact = 0\n",
      "RCP2.6 2020\n"
     ]
    },
    {
     "name": "stderr",
     "output_type": "stream",
     "text": [
      "No exchanges were matched or characterized. Score is set to 0.\n",
      "generate_cf_table() called before evaluate_cfs(). Returning empty DataFrame.\n"
     ]
    },
    {
     "name": "stdout",
     "output_type": "stream",
     "text": [
      "Year 2020 | RCP2.6: Impact = 0\n",
      "RCP2.6 2050\n"
     ]
    },
    {
     "name": "stderr",
     "output_type": "stream",
     "text": [
      "No exchanges were matched or characterized. Score is set to 0.\n",
      "generate_cf_table() called before evaluate_cfs(). Returning empty DataFrame.\n"
     ]
    },
    {
     "name": "stdout",
     "output_type": "stream",
     "text": [
      "Year 2050 | RCP2.6: Impact = 0\n",
      "RCP2.6 2080\n"
     ]
    },
    {
     "name": "stderr",
     "output_type": "stream",
     "text": [
      "No exchanges were matched or characterized. Score is set to 0.\n",
      "generate_cf_table() called before evaluate_cfs(). Returning empty DataFrame.\n"
     ]
    },
    {
     "name": "stdout",
     "output_type": "stream",
     "text": [
      "Year 2080 | RCP2.6: Impact = 0\n",
      "RCP2.6 2100\n"
     ]
    },
    {
     "name": "stderr",
     "output_type": "stream",
     "text": [
      "No exchanges were matched or characterized. Score is set to 0.\n",
      "generate_cf_table() called before evaluate_cfs(). Returning empty DataFrame.\n"
     ]
    },
    {
     "name": "stdout",
     "output_type": "stream",
     "text": [
      "Year 2100 | RCP2.6: Impact = 0\n",
      "RCP4.5 2020\n"
     ]
    },
    {
     "name": "stderr",
     "output_type": "stream",
     "text": [
      "No exchanges were matched or characterized. Score is set to 0.\n",
      "generate_cf_table() called before evaluate_cfs(). Returning empty DataFrame.\n"
     ]
    },
    {
     "name": "stdout",
     "output_type": "stream",
     "text": [
      "Year 2020 | RCP4.5: Impact = 0\n",
      "RCP4.5 2050\n"
     ]
    },
    {
     "name": "stderr",
     "output_type": "stream",
     "text": [
      "No exchanges were matched or characterized. Score is set to 0.\n",
      "generate_cf_table() called before evaluate_cfs(). Returning empty DataFrame.\n"
     ]
    },
    {
     "name": "stdout",
     "output_type": "stream",
     "text": [
      "Year 2050 | RCP4.5: Impact = 0\n",
      "RCP4.5 2080\n"
     ]
    },
    {
     "name": "stderr",
     "output_type": "stream",
     "text": [
      "No exchanges were matched or characterized. Score is set to 0.\n",
      "generate_cf_table() called before evaluate_cfs(). Returning empty DataFrame.\n"
     ]
    },
    {
     "name": "stdout",
     "output_type": "stream",
     "text": [
      "Year 2080 | RCP4.5: Impact = 0\n",
      "RCP4.5 2100\n"
     ]
    },
    {
     "name": "stderr",
     "output_type": "stream",
     "text": [
      "No exchanges were matched or characterized. Score is set to 0.\n",
      "generate_cf_table() called before evaluate_cfs(). Returning empty DataFrame.\n"
     ]
    },
    {
     "name": "stdout",
     "output_type": "stream",
     "text": [
      "Year 2100 | RCP4.5: Impact = 0\n",
      "RCP8.5 2020\n"
     ]
    },
    {
     "name": "stderr",
     "output_type": "stream",
     "text": [
      "No exchanges were matched or characterized. Score is set to 0.\n",
      "generate_cf_table() called before evaluate_cfs(). Returning empty DataFrame.\n"
     ]
    },
    {
     "name": "stdout",
     "output_type": "stream",
     "text": [
      "Year 2020 | RCP8.5: Impact = 0\n",
      "RCP8.5 2050\n"
     ]
    },
    {
     "name": "stderr",
     "output_type": "stream",
     "text": [
      "No exchanges were matched or characterized. Score is set to 0.\n",
      "generate_cf_table() called before evaluate_cfs(). Returning empty DataFrame.\n"
     ]
    },
    {
     "name": "stdout",
     "output_type": "stream",
     "text": [
      "Year 2050 | RCP8.5: Impact = 0\n",
      "RCP8.5 2080\n"
     ]
    },
    {
     "name": "stderr",
     "output_type": "stream",
     "text": [
      "No exchanges were matched or characterized. Score is set to 0.\n",
      "generate_cf_table() called before evaluate_cfs(). Returning empty DataFrame.\n"
     ]
    },
    {
     "name": "stdout",
     "output_type": "stream",
     "text": [
      "Year 2080 | RCP8.5: Impact = 0\n",
      "RCP8.5 2100\n"
     ]
    },
    {
     "name": "stderr",
     "output_type": "stream",
     "text": [
      "No exchanges were matched or characterized. Score is set to 0.\n",
      "generate_cf_table() called before evaluate_cfs(). Returning empty DataFrame.\n"
     ]
    },
    {
     "name": "stdout",
     "output_type": "stream",
     "text": [
      "Year 2100 | RCP8.5: Impact = 0\n"
     ]
    }
   ],
   "source": [
    "all_results = []  # To collect results\n",
    "\n",
    "# Initialize LCIA\n",
    "lcia = EdgeLCIA(\n",
    "    demand={act: 1},\n",
    "    filepath=\"lcia_parameterized_gwp.json\",\n",
    "    scenario=\"RCP1.9\",\n",
    "    allowed_functions=allowed_funcs\n",
    ")\n",
    "\n",
    "# Usual LCIA steps\n",
    "lcia.lci()\n",
    "lcia.map_exchanges()\n",
    "\n",
    "results = []\n",
    "# Loop over scenarios\n",
    "for scenario in [\n",
    "    \"RCP1.9\",\n",
    "    \"RCP2.6\",\n",
    "    \"RCP4.5\",\n",
    "    \"RCP8.5\",\n",
    "]:\n",
    "    for year in [\n",
    "        \"2020\",\n",
    "        \"2050\",\n",
    "        \"2080\",\n",
    "        \"2100\",\n",
    "    ]:\n",
    "        print(scenario, year)\n",
    "        lcia.evaluate_cfs(scenario=scenario, scenario_idx=year)\n",
    "        lcia.lcia()\n",
    "        df = lcia.generate_cf_table()\n",
    "\n",
    "        scenario_result = {\n",
    "            \"year\": int(year),\n",
    "            \"rcp\": scenario,\n",
    "            \"score\": lcia.score,\n",
    "            \"CF_table\": df\n",
    "        }\n",
    "        all_results.append(scenario_result)\n",
    "\n",
    "        print(f\"Year {year} | {scenario}: Impact = {lcia.score}\")"
   ]
  },
  {
   "cell_type": "markdown",
   "id": "472c10c2-9508-4347-8a91-93829fb775e6",
   "metadata": {},
   "source": [
    "<a id=\"sec_plot_results\"></a>\n",
    "# 5. Plot results"
   ]
  },
  {
   "cell_type": "code",
   "execution_count": 10,
   "id": "a354a0e2-3a79-45ae-9adb-9a8b6be79c27",
   "metadata": {},
   "outputs": [],
   "source": [
    "import pandas as pd\n",
    "import matplotlib.pyplot as plt\n",
    "import matplotlib.lines as mlines"
   ]
  },
  {
   "cell_type": "code",
   "execution_count": 11,
   "id": "6e27acfd-a8b5-4289-b406-68bfb4b43112",
   "metadata": {},
   "outputs": [
    {
     "ename": "KeyError",
     "evalue": "'supplier name'",
     "output_type": "error",
     "traceback": [
      "\u001b[31m---------------------------------------------------------------------------\u001b[39m",
      "\u001b[31mKeyError\u001b[39m                                  Traceback (most recent call last)",
      "\u001b[36mCell\u001b[39m\u001b[36m \u001b[39m\u001b[32mIn[11]\u001b[39m\u001b[32m, line 34\u001b[39m\n\u001b[32m     31\u001b[39m cf_table = res[\u001b[33m\"\u001b[39m\u001b[33mCF_table\u001b[39m\u001b[33m\"\u001b[39m]\n\u001b[32m     33\u001b[39m \u001b[38;5;66;03m# Filter for only gases of interest\u001b[39;00m\n\u001b[32m---> \u001b[39m\u001b[32m34\u001b[39m cf_filtered = cf_table[\u001b[43mcf_table\u001b[49m\u001b[43m[\u001b[49m\u001b[33;43m\"\u001b[39;49m\u001b[33;43msupplier name\u001b[39;49m\u001b[33;43m\"\u001b[39;49m\u001b[43m]\u001b[49m.isin(gases_of_interest)]\n\u001b[32m     36\u001b[39m \u001b[38;5;66;03m# For each gas separately\u001b[39;00m\n\u001b[32m     37\u001b[39m \u001b[38;5;28;01mfor\u001b[39;00m gas \u001b[38;5;129;01min\u001b[39;00m gases_of_interest:\n",
      "\u001b[36mFile \u001b[39m\u001b[32m~\\AppData\\Local\\miniconda3\\envs\\edges\\Lib\\site-packages\\pandas\\core\\frame.py:4107\u001b[39m, in \u001b[36mDataFrame.__getitem__\u001b[39m\u001b[34m(self, key)\u001b[39m\n\u001b[32m   4105\u001b[39m \u001b[38;5;28;01mif\u001b[39;00m \u001b[38;5;28mself\u001b[39m.columns.nlevels > \u001b[32m1\u001b[39m:\n\u001b[32m   4106\u001b[39m     \u001b[38;5;28;01mreturn\u001b[39;00m \u001b[38;5;28mself\u001b[39m._getitem_multilevel(key)\n\u001b[32m-> \u001b[39m\u001b[32m4107\u001b[39m indexer = \u001b[38;5;28;43mself\u001b[39;49m\u001b[43m.\u001b[49m\u001b[43mcolumns\u001b[49m\u001b[43m.\u001b[49m\u001b[43mget_loc\u001b[49m\u001b[43m(\u001b[49m\u001b[43mkey\u001b[49m\u001b[43m)\u001b[49m\n\u001b[32m   4108\u001b[39m \u001b[38;5;28;01mif\u001b[39;00m is_integer(indexer):\n\u001b[32m   4109\u001b[39m     indexer = [indexer]\n",
      "\u001b[36mFile \u001b[39m\u001b[32m~\\AppData\\Local\\miniconda3\\envs\\edges\\Lib\\site-packages\\pandas\\core\\indexes\\range.py:417\u001b[39m, in \u001b[36mRangeIndex.get_loc\u001b[39m\u001b[34m(self, key)\u001b[39m\n\u001b[32m    415\u001b[39m         \u001b[38;5;28;01mraise\u001b[39;00m \u001b[38;5;167;01mKeyError\u001b[39;00m(key) \u001b[38;5;28;01mfrom\u001b[39;00m\u001b[38;5;250m \u001b[39m\u001b[34;01merr\u001b[39;00m\n\u001b[32m    416\u001b[39m \u001b[38;5;28;01mif\u001b[39;00m \u001b[38;5;28misinstance\u001b[39m(key, Hashable):\n\u001b[32m--> \u001b[39m\u001b[32m417\u001b[39m     \u001b[38;5;28;01mraise\u001b[39;00m \u001b[38;5;167;01mKeyError\u001b[39;00m(key)\n\u001b[32m    418\u001b[39m \u001b[38;5;28mself\u001b[39m._check_indexing_error(key)\n\u001b[32m    419\u001b[39m \u001b[38;5;28;01mraise\u001b[39;00m \u001b[38;5;167;01mKeyError\u001b[39;00m(key)\n",
      "\u001b[31mKeyError\u001b[39m: 'supplier name'"
     ]
    },
    {
     "data": {
      "image/png": "[encoded data removed]",
      "text/plain": [
       "<Figure size 400x600 with 2 Axes>"
      ]
     },
     "metadata": {},
     "output_type": "display_data"
    }
   ],
   "source": [
    "# Turn all_results into a DataFrame\n",
    "df = pd.DataFrame(all_results)\n",
    "\n",
    "# Make sure year is numeric\n",
    "df[\"year\"] = df[\"year\"].astype(int)\n",
    "\n",
    "# Set up subplots\n",
    "fig, (ax1, ax2) = plt.subplots(2, 1, figsize=(4, 6), sharex=False)\n",
    "\n",
    "# ---- Top plot: GWP factor per gas ----\n",
    "\n",
    "# Gases to track\n",
    "gases_of_interest = [\"Carbon dioxide, fossil\", \"Methane, fossil\", \"Dinitrogen monoxide\"]\n",
    "\n",
    "# Colors per RCP\n",
    "rcp_colors = {\n",
    "    \"RCP1.9\": \"blue\",\n",
    "    \"RCP2.6\": \"green\",\n",
    "    \"RCP4.5\": \"orange\",\n",
    "    #\"RCP6.0\": \"orange\",\n",
    "    \"RCP8.5\": \"red\"\n",
    "}\n",
    "\n",
    "# Create empty dataframe to collect\n",
    "gas_cf_data = []\n",
    "\n",
    "# Loop over results\n",
    "for res in all_results:\n",
    "    year = res[\"year\"]\n",
    "    rcp = res[\"rcp\"]\n",
    "    cf_table = res[\"CF_table\"]\n",
    "    \n",
    "    # Filter for only gases of interest\n",
    "    cf_filtered = cf_table[cf_table[\"supplier name\"].isin(gases_of_interest)]\n",
    "    \n",
    "    # For each gas separately\n",
    "    for gas in gases_of_interest:\n",
    "        cf_gas = cf_filtered[cf_filtered[\"supplier name\"] == gas]\n",
    "        if not cf_gas.empty:\n",
    "            avg_cf = cf_gas[\"CF\"].mean()\n",
    "            gas_cf_data.append({\n",
    "                \"year\": year,\n",
    "                \"rcp\": rcp,\n",
    "                \"gas\": gas,\n",
    "                \"avg_CF\": avg_cf\n",
    "            })\n",
    "\n",
    "# Convert to DataFrame\n",
    "df_gas_cf = pd.DataFrame(gas_cf_data)\n",
    "\n",
    "# Plot: one line per gas and RCP, with RCP color\n",
    "for gas in gases_of_interest:\n",
    "    if gas == \"Carbon dioxide, fossil\":\n",
    "        continue\n",
    "    for rcp in df_gas_cf[\"rcp\"].unique():\n",
    "        df_plot = df_gas_cf[(df_gas_cf[\"gas\"] == gas) & (df_gas_cf[\"rcp\"] == rcp)]\n",
    "        ax1.plot(df_plot[\"year\"], df_plot[\"avg_CF\"], marker='o', color=rcp_colors[rcp])\n",
    "\n",
    "# ---- Add manual annotations for gases ----\n",
    "\n",
    "# Pick a representative point for each gas (e.g., latest year, latest scenario)\n",
    "for gas in gases_of_interest:\n",
    "    df_gas = df_gas_cf[(df_gas_cf[\"gas\"] == gas) & (df_gas_cf[\"rcp\"] == \"RCP8.5\")]  # Pick RCP8.5 to annotate at right\n",
    "    if not df_gas.empty:\n",
    "        latest_point = df_gas[df_gas[\"year\"] == df_gas[\"year\"].max()]\n",
    "        x = latest_point[\"year\"].values[0]\n",
    "        y = latest_point[\"avg_CF\"].values[0]\n",
    "        gas = gas.replace(\", fossil\", \"\")\n",
    "        if gas==\"Dinitrogen monoxide\":\n",
    "            gas = \"$N_2$0\"\n",
    "            ax1.annotate(gas.replace(\" \", \"\\n\"), (x, y),\n",
    "                         textcoords=\"offset points\", xytext=(-40,-10), ha='left', fontsize=9)\n",
    "        elif gas == \"Methane\":\n",
    "            gas = \"$CH_4$\"\n",
    "            ax1.annotate(gas.replace(\" \", \"\\n\"), (x, y),\n",
    "                         textcoords=\"offset points\", xytext=(-40,15), ha='left', fontsize=9)\n",
    "        else:\n",
    "            gas = \"$CO_2$\"\n",
    "            #ax1.annotate(gas.replace(\" \", \"\\n\"), (x, y),\n",
    "            #             textcoords=\"offset points\", xytext=(-40,5), ha='left', fontsize=9)\n",
    "\n",
    "# ---- Custom legend only for RCPs ----\n",
    "\n",
    "custom_lines = [\n",
    "    mlines.Line2D([], [], color=\"blue\", marker='o', linestyle='-', label=\"RCP1.9\"),\n",
    "    mlines.Line2D([], [], color=\"green\", marker='o', linestyle='-', label=\"RCP2.6\"),\n",
    "    mlines.Line2D([], [], color=\"orange\", marker='o', linestyle='-', label=\"RCP4.5\"),\n",
    "    mlines.Line2D([], [], color=\"red\", marker='o', linestyle='-', label=\"RCP8.5\"),\n",
    "]\n",
    "ax1.legend(handles=custom_lines, title=\"Scenario\", loc=\"center left\")\n",
    "\n",
    "ax1.set_title(\"a) Characterization factor per gas\")\n",
    "ax1.set_ylabel(\"kg $CO_2$-eq./kg\")\n",
    "ax1.grid(True)\n",
    "ax1.set_ylim(bottom=-10)\n",
    "\n",
    "# ---- Bottom plot: LCIA Scores ----\n",
    "\n",
    "for rcp in df[\"rcp\"].unique():\n",
    "    df_rcp = df[df[\"rcp\"] == rcp]\n",
    "    ax2.plot(df_rcp[\"year\"], df_rcp[\"score\"], marker='o', color=rcp_colors[rcp], label=rcp)\n",
    "\n",
    "ax2.set_title(\"b) LCIA score per scenario\")\n",
    "ax2.set_xlabel(\"\")\n",
    "ax2.set_ylabel(\"kg $CO_2$-eq./kg $H_2$\")\n",
    "ax2.set_ylim(1.6, 1.8)\n",
    "ax2.grid(True)\n",
    "ax2.legend(title=\"Scenario\")\n",
    "\n",
    "plt.tight_layout()\n",
    "plt.savefig(\"figure_3.png\", bbox_inches=\"tight\", dpi=150)\n",
    "plt.show()"
   ]
  }
 ],
 "metadata": {
  "kernelspec": {
   "display_name": "Python 3 (ipykernel)",
   "language": "python",
   "name": "python3"
  },
  "language_info": {
   "codemirror_mode": {
    "name": "ipython",
    "version": 3
   },
   "file_extension": ".py",
   "mimetype": "text/x-python",
   "name": "python",
   "nbconvert_exporter": "python",
   "pygments_lexer": "ipython3",
   "version": "3.11.13"
  }
 },
 "nbformat": 4,
 "nbformat_minor": 5
}

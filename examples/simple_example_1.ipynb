{
 "cells": [
  {
   "cell_type": "markdown",
   "metadata": {},
   "source": [
    "# Use examples of [edges](https://github.com/romainsacchi/edges)\n",
    "\n",
    "Author: [romainsacchi](https://github.com/romainsacchi)\n",
    "\n",
    "This notebook shows examples on how to use `edge` to use exchange-specific\n",
    "characterization factors in the characterization matrix of `bw2calc`.\n",
    "\n",
    "## Requirements\n",
    "\n",
    "* **Pyhton 3.10 or higher (up to 3.11) is highly recommended**"
   ]
  },
  {
   "cell_type": "markdown",
   "metadata": {},
   "source": [
    "# Use case with [brightway2](https://brightway.dev/)\n",
    "\n",
    "`brightway2` is an open source LCA framework for Python.\n",
    "To use `premise` from `brightway2`, it requires that you have an activated `brightway2` project with a `biosphere3` database as well as an [ecoinvent](https://ecoinvent.prg) v.3 cut-off or consequential database registered in that project. Please refer to the brightway [documentation](https://brightway.dev) if you do not know how to create a project and install ecoinvent."
   ]
  },
  {
   "cell_type": "code",
   "metadata": {
    "ExecuteTime": {
     "end_time": "2025-03-20T09:57:05.378146Z",
     "start_time": "2025-03-20T09:57:04.218865Z"
    }
   },
   "source": [
    "from edges import EdgeLCIA, get_available_methods\n",
    "import bw2data"
   ],
   "outputs": [],
   "execution_count": 1
  },
  {
   "metadata": {},
   "cell_type": "markdown",
   "source": [
    "One can simply build its own LCIA file.\n",
    "Let's consider the following LCIA file (saved under `lcia_example_1.json`):"
   ]
  },
  {
   "metadata": {
    "ExecuteTime": {
     "end_time": "2025-03-17T14:24:28.111651Z",
     "start_time": "2025-03-17T14:24:28.102477Z"
    }
   },
   "cell_type": "code",
   "source": [
    "[\n",
    "  {\n",
    "    \"supplier\": {\n",
    "      \"operator\": \"startswith\", # can be \"equals\", \"contains\", \"startswith\"\n",
    "      \"matrix\": \"biosphere\", # can be \"biosphere\" or \"technosphere\"\n",
    "      \"name\": \"Carbon dioxide\", # edges will search for any supplier in the biosphere matrix that has a name starting with \"Carbon dioxide\"\n",
    "    },\n",
    "    \"consumer\": {\n",
    "      \"matrix\": \"technosphere\", # the consumer is in the technosphere matrix\n",
    "      \"type\": \"process\" # the consumer is a process\n",
    "    },\n",
    "    \"value\": 1.0 # the characterization factor\n",
    "  },\n",
    "  {\n",
    "    \"supplier\": {\n",
    "      \"name\": \"Methane, fossil\",\n",
    "      \"operator\": \"contains\", # different operator\n",
    "      \"matrix\": \"biosphere\"\n",
    "    },\n",
    "    \"consumer\": {\n",
    "      \"matrix\": \"technosphere\",\n",
    "      \"type\": \"process\"\n",
    "    },\n",
    "    \"value\": 28.0\n",
    "  },\n",
    "  {\n",
    "    \"supplier\": {\n",
    "      \"name\": \"Dinitrogen monoxide\",\n",
    "      \"operator\": \"equals\", # different operator\n",
    "      \"matrix\": \"biosphere\"\n",
    "    },\n",
    "    \"consumer\": {\n",
    "      \"matrix\": \"technosphere\",\n",
    "      \"type\": \"process\"\n",
    "    },\n",
    "    \"value\": 265.0\n",
    "  }\n",
    "]"
   ],
   "outputs": [
    {
     "data": {
      "text/plain": [
       "[{'supplier': {'operator': 'startswith',\n",
       "   'matrix': 'biosphere',\n",
       "   'name': 'Carbon dioxide'},\n",
       "  'consumer': {'matrix': 'technosphere', 'type': 'process'},\n",
       "  'value': 1.0},\n",
       " {'supplier': {'name': 'Methane, fossil',\n",
       "   'operator': 'contains',\n",
       "   'matrix': 'biosphere'},\n",
       "  'consumer': {'matrix': 'technosphere', 'type': 'process'},\n",
       "  'value': 28.0},\n",
       " {'supplier': {'name': 'Dinitrogen monoxide',\n",
       "   'operator': 'equals',\n",
       "   'matrix': 'biosphere'},\n",
       "  'consumer': {'matrix': 'technosphere', 'type': 'process'},\n",
       "  'value': 265.0}]"
      ]
     },
     "execution_count": 2,
     "metadata": {},
     "output_type": "execute_result"
    }
   ],
   "execution_count": 2
  },
  {
   "metadata": {
    "ExecuteTime": {
     "end_time": "2025-03-20T09:57:12.238002Z",
     "start_time": "2025-03-20T09:57:12.036195Z"
    }
   },
   "cell_type": "code",
   "source": [
    "# activate the bw project\n",
    "bw2data.projects.set_current(\"ecoinvent-3.10-cutoff\")"
   ],
   "outputs": [],
   "execution_count": 2
  },
  {
   "cell_type": "code",
   "metadata": {
    "ExecuteTime": {
     "end_time": "2025-03-20T09:57:12.735173Z",
     "start_time": "2025-03-20T09:57:12.716316Z"
    }
   },
   "source": [
    "act = bw2data.Database(\"ecoinvent-3.10.1-cutoff\").random()\n",
    "act"
   ],
   "outputs": [
    {
     "data": {
      "text/plain": [
       "'maize grain production' (kilogram, US-WI, None)"
      ]
     },
     "execution_count": 3,
     "metadata": {},
     "output_type": "execute_result"
    }
   ],
   "execution_count": 3
  },
  {
   "metadata": {
    "ExecuteTime": {
     "end_time": "2025-03-20T09:57:18.301814Z",
     "start_time": "2025-03-20T09:57:16.050516Z"
    }
   },
   "cell_type": "code",
   "source": [
    "LCA = EdgeLCIA(\n",
    "    demand={act: 1},\n",
    "    method=(\"some\", \"method\"),\n",
    "    filepath=\"lcia_example_1.json\"\n",
    ")\n",
    "LCA.lci()\n",
    "\n",
    "LCA.map_exchanges()\n",
    "\n",
    "LCA.evaluate_cfs()\n",
    "LCA.lcia()\n",
    "LCA.score"
   ],
   "outputs": [
    {
     "name": "stderr",
     "output_type": "stream",
     "text": [
      "/opt/homebrew/Caskroom/miniforge/base/envs/bw2/lib/python3.11/site-packages/scikits/umfpack/umfpack.py:736: UmfpackWarning: (almost) singular matrix! (estimated cond. number: 4.83e+13)\n",
      "  warnings.warn(msg, UmfpackWarning)\n"
     ]
    },
    {
     "name": "stdout",
     "output_type": "stream",
     "text": [
      "Identifying eligible exchanges...\n"
     ]
    },
    {
     "name": "stderr",
     "output_type": "stream",
     "text": [
      "100%|██████████| 3/3 [00:00<00:00, 35.46it/s]\n"
     ]
    },
    {
     "data": {
      "text/plain": [
       "1.6424403416511533"
      ]
     },
     "execution_count": 4,
     "metadata": {},
     "output_type": "execute_result"
    }
   ],
   "execution_count": 4
  },
  {
   "metadata": {},
   "cell_type": "markdown",
   "source": "We can print some statistics:"
  },
  {
   "metadata": {
    "ExecuteTime": {
     "end_time": "2025-03-20T09:57:20.892299Z",
     "start_time": "2025-03-20T09:57:20.885709Z"
    }
   },
   "cell_type": "code",
   "source": "LCA.statistics()",
   "outputs": [
    {
     "name": "stdout",
     "output_type": "stream",
     "text": [
      "+----------------------+------------------------+\n",
      "|       Activity       | maize grain production |\n",
      "|     Method name      |   ('some', 'method')   |\n",
      "|      Data file       |     lcia_example_1     |\n",
      "| Unique CFs in method |           3            |\n",
      "|   Unique CFs used    |           3            |\n",
      "|  Exc. characterized  |         12788          |\n",
      "| Exc. uncharacterized |         323121         |\n",
      "+----------------------+------------------------+\n"
     ]
    }
   ],
   "execution_count": 5
  },
  {
   "cell_type": "markdown",
   "metadata": {},
   "source": [
    "### Generate dataframe of characterization factors used\n",
    "\n",
    "The `generate_cf_table` method generates a dataframe of the characterization factors used in the calculation. One can see the characterization factors used for each exchange in the system."
   ]
  },
  {
   "metadata": {
    "ExecuteTime": {
     "end_time": "2025-03-20T09:57:30.295629Z",
     "start_time": "2025-03-20T09:57:25.198277Z"
    }
   },
   "cell_type": "code",
   "source": "df = LCA.generate_cf_table()",
   "outputs": [],
   "execution_count": 6
  },
  {
   "metadata": {
    "ExecuteTime": {
     "end_time": "2025-03-20T09:57:30.322113Z",
     "start_time": "2025-03-20T09:57:30.310931Z"
    }
   },
   "cell_type": "code",
   "source": [
    "# we can see under the \"CF\" column\n",
    "# the characterization factors used for each exchange in the system\n",
    "df"
   ],
   "outputs": [
    {
     "data": {
      "text/plain": [
       "                    supplier name               supplier categories  \\\n",
       "0      Carbon dioxide, non-fossil  (air, urban air close to ground)   \n",
       "1      Carbon dioxide, non-fossil  (air, urban air close to ground)   \n",
       "2      Carbon dioxide, non-fossil  (air, urban air close to ground)   \n",
       "3      Carbon dioxide, non-fossil  (air, urban air close to ground)   \n",
       "4      Carbon dioxide, non-fossil  (air, urban air close to ground)   \n",
       "...                           ...                               ...   \n",
       "12783         Dinitrogen monoxide                            (air,)   \n",
       "12784         Dinitrogen monoxide                            (air,)   \n",
       "12785         Dinitrogen monoxide                            (air,)   \n",
       "12786         Dinitrogen monoxide                            (air,)   \n",
       "12787         Dinitrogen monoxide                            (air,)   \n",
       "\n",
       "                                           consumer name  \\\n",
       "0      heat and power co-generation, wood chips, 6667 kW   \n",
       "1              lath, softwood, raw, kiln drying to u=10%   \n",
       "2       sulfate pulp production, from softwood, bleached   \n",
       "3      treatment of waste wood, untreated, municipal ...   \n",
       "4      biomethane, low pressure burned in micro gas t...   \n",
       "...                                                  ...   \n",
       "12783  kerosene production, petroleum refinery operation   \n",
       "12784  transport, freight, lorry 7.5-16 metric ton, E...   \n",
       "12785               market for electricity, high voltage   \n",
       "12786                        fibreboard production, hard   \n",
       "12787               market for electricity, high voltage   \n",
       "\n",
       "                              consumer reference product consumer location  \\\n",
       "0      heat, district or industrial, other than natur...             IN-OR   \n",
       "1           sawnwood, lath, softwood, raw, dried (u=10%)             CA-QC   \n",
       "2                                        tall oil, crude               RER   \n",
       "3                                  waste wood, untreated                CH   \n",
       "4      heat, central or small-scale, other than natur...                CH   \n",
       "...                                                  ...               ...   \n",
       "12783                                           kerosene                BR   \n",
       "12784  transport, freight, lorry 7.5-16 metric ton, E...               RER   \n",
       "12785                          electricity, high voltage                NE   \n",
       "12786                                 residual wood, dry               RoW   \n",
       "12787                          electricity, high voltage   IN-Eastern grid   \n",
       "\n",
       "             amount     CF        impact  \n",
       "0      1.419378e-08    1.0  1.419378e-08  \n",
       "1      8.625774e-09    1.0  8.625774e-09  \n",
       "2      7.287865e-10    1.0  7.287865e-10  \n",
       "3      5.306133e-05    1.0  5.306133e-05  \n",
       "4      2.314395e-18    1.0  2.314395e-18  \n",
       "...             ...    ...           ...  \n",
       "12783  8.170086e-14  265.0  2.165073e-11  \n",
       "12784  4.625460e-11  265.0  1.225747e-08  \n",
       "12785  7.565686e-12  265.0  2.004907e-09  \n",
       "12786  1.651729e-15  265.0  4.377081e-13  \n",
       "12787  1.479470e-09  265.0  3.920596e-07  \n",
       "\n",
       "[12788 rows x 8 columns]"
      ],
      "text/html": [
       "<div>\n",
       "<style scoped>\n",
       "    .dataframe tbody tr th:only-of-type {\n",
       "        vertical-align: middle;\n",
       "    }\n",
       "\n",
       "    .dataframe tbody tr th {\n",
       "        vertical-align: top;\n",
       "    }\n",
       "\n",
       "    .dataframe thead th {\n",
       "        text-align: right;\n",
       "    }\n",
       "</style>\n",
       "<table border=\"1\" class=\"dataframe\">\n",
       "  <thead>\n",
       "    <tr style=\"text-align: right;\">\n",
       "      <th></th>\n",
       "      <th>supplier name</th>\n",
       "      <th>supplier categories</th>\n",
       "      <th>consumer name</th>\n",
       "      <th>consumer reference product</th>\n",
       "      <th>consumer location</th>\n",
       "      <th>amount</th>\n",
       "      <th>CF</th>\n",
       "      <th>impact</th>\n",
       "    </tr>\n",
       "  </thead>\n",
       "  <tbody>\n",
       "    <tr>\n",
       "      <th>0</th>\n",
       "      <td>Carbon dioxide, non-fossil</td>\n",
       "      <td>(air, urban air close to ground)</td>\n",
       "      <td>heat and power co-generation, wood chips, 6667 kW</td>\n",
       "      <td>heat, district or industrial, other than natur...</td>\n",
       "      <td>IN-OR</td>\n",
       "      <td>1.419378e-08</td>\n",
       "      <td>1.0</td>\n",
       "      <td>1.419378e-08</td>\n",
       "    </tr>\n",
       "    <tr>\n",
       "      <th>1</th>\n",
       "      <td>Carbon dioxide, non-fossil</td>\n",
       "      <td>(air, urban air close to ground)</td>\n",
       "      <td>lath, softwood, raw, kiln drying to u=10%</td>\n",
       "      <td>sawnwood, lath, softwood, raw, dried (u=10%)</td>\n",
       "      <td>CA-QC</td>\n",
       "      <td>8.625774e-09</td>\n",
       "      <td>1.0</td>\n",
       "      <td>8.625774e-09</td>\n",
       "    </tr>\n",
       "    <tr>\n",
       "      <th>2</th>\n",
       "      <td>Carbon dioxide, non-fossil</td>\n",
       "      <td>(air, urban air close to ground)</td>\n",
       "      <td>sulfate pulp production, from softwood, bleached</td>\n",
       "      <td>tall oil, crude</td>\n",
       "      <td>RER</td>\n",
       "      <td>7.287865e-10</td>\n",
       "      <td>1.0</td>\n",
       "      <td>7.287865e-10</td>\n",
       "    </tr>\n",
       "    <tr>\n",
       "      <th>3</th>\n",
       "      <td>Carbon dioxide, non-fossil</td>\n",
       "      <td>(air, urban air close to ground)</td>\n",
       "      <td>treatment of waste wood, untreated, municipal ...</td>\n",
       "      <td>waste wood, untreated</td>\n",
       "      <td>CH</td>\n",
       "      <td>5.306133e-05</td>\n",
       "      <td>1.0</td>\n",
       "      <td>5.306133e-05</td>\n",
       "    </tr>\n",
       "    <tr>\n",
       "      <th>4</th>\n",
       "      <td>Carbon dioxide, non-fossil</td>\n",
       "      <td>(air, urban air close to ground)</td>\n",
       "      <td>biomethane, low pressure burned in micro gas t...</td>\n",
       "      <td>heat, central or small-scale, other than natur...</td>\n",
       "      <td>CH</td>\n",
       "      <td>2.314395e-18</td>\n",
       "      <td>1.0</td>\n",
       "      <td>2.314395e-18</td>\n",
       "    </tr>\n",
       "    <tr>\n",
       "      <th>...</th>\n",
       "      <td>...</td>\n",
       "      <td>...</td>\n",
       "      <td>...</td>\n",
       "      <td>...</td>\n",
       "      <td>...</td>\n",
       "      <td>...</td>\n",
       "      <td>...</td>\n",
       "      <td>...</td>\n",
       "    </tr>\n",
       "    <tr>\n",
       "      <th>12783</th>\n",
       "      <td>Dinitrogen monoxide</td>\n",
       "      <td>(air,)</td>\n",
       "      <td>kerosene production, petroleum refinery operation</td>\n",
       "      <td>kerosene</td>\n",
       "      <td>BR</td>\n",
       "      <td>8.170086e-14</td>\n",
       "      <td>265.0</td>\n",
       "      <td>2.165073e-11</td>\n",
       "    </tr>\n",
       "    <tr>\n",
       "      <th>12784</th>\n",
       "      <td>Dinitrogen monoxide</td>\n",
       "      <td>(air,)</td>\n",
       "      <td>transport, freight, lorry 7.5-16 metric ton, E...</td>\n",
       "      <td>transport, freight, lorry 7.5-16 metric ton, E...</td>\n",
       "      <td>RER</td>\n",
       "      <td>4.625460e-11</td>\n",
       "      <td>265.0</td>\n",
       "      <td>1.225747e-08</td>\n",
       "    </tr>\n",
       "    <tr>\n",
       "      <th>12785</th>\n",
       "      <td>Dinitrogen monoxide</td>\n",
       "      <td>(air,)</td>\n",
       "      <td>market for electricity, high voltage</td>\n",
       "      <td>electricity, high voltage</td>\n",
       "      <td>NE</td>\n",
       "      <td>7.565686e-12</td>\n",
       "      <td>265.0</td>\n",
       "      <td>2.004907e-09</td>\n",
       "    </tr>\n",
       "    <tr>\n",
       "      <th>12786</th>\n",
       "      <td>Dinitrogen monoxide</td>\n",
       "      <td>(air,)</td>\n",
       "      <td>fibreboard production, hard</td>\n",
       "      <td>residual wood, dry</td>\n",
       "      <td>RoW</td>\n",
       "      <td>1.651729e-15</td>\n",
       "      <td>265.0</td>\n",
       "      <td>4.377081e-13</td>\n",
       "    </tr>\n",
       "    <tr>\n",
       "      <th>12787</th>\n",
       "      <td>Dinitrogen monoxide</td>\n",
       "      <td>(air,)</td>\n",
       "      <td>market for electricity, high voltage</td>\n",
       "      <td>electricity, high voltage</td>\n",
       "      <td>IN-Eastern grid</td>\n",
       "      <td>1.479470e-09</td>\n",
       "      <td>265.0</td>\n",
       "      <td>3.920596e-07</td>\n",
       "    </tr>\n",
       "  </tbody>\n",
       "</table>\n",
       "<p>12788 rows × 8 columns</p>\n",
       "</div>"
      ]
     },
     "execution_count": 7,
     "metadata": {},
     "output_type": "execute_result"
    }
   ],
   "execution_count": 7
  },
  {
   "metadata": {
    "ExecuteTime": {
     "end_time": "2025-03-20T09:57:31.135826Z",
     "start_time": "2025-03-20T09:57:31.126567Z"
    }
   },
   "cell_type": "code",
   "source": "df.groupby(\"supplier name\")[\"CF\"].mean()",
   "outputs": [
    {
     "data": {
      "text/plain": [
       "supplier name\n",
       "Carbon dioxide, fossil                               1.0\n",
       "Carbon dioxide, from soil or biomass stock           1.0\n",
       "Carbon dioxide, in air                               1.0\n",
       "Carbon dioxide, non-fossil                           1.0\n",
       "Carbon dioxide, non-fossil, resource correction      1.0\n",
       "Carbon dioxide, to soil or biomass stock             1.0\n",
       "Dinitrogen monoxide                                265.0\n",
       "Methane, fossil                                     28.0\n",
       "Name: CF, dtype: float64"
      ]
     },
     "execution_count": 8,
     "metadata": {},
     "output_type": "execute_result"
    }
   ],
   "execution_count": 8
  },
  {
   "metadata": {},
   "cell_type": "code",
   "outputs": [],
   "execution_count": null,
   "source": ""
  }
 ],
 "metadata": {
  "kernelspec": {
   "display_name": "Python 3 (ipykernel)",
   "language": "python",
   "name": "python3"
  },
  "language_info": {
   "codemirror_mode": {
    "name": "ipython",
    "version": 3
   },
   "file_extension": ".py",
   "mimetype": "text/x-python",
   "name": "python",
   "nbconvert_exporter": "python",
   "pygments_lexer": "ipython3",
   "version": "3.11.8"
  }
 },
 "nbformat": 4,
 "nbformat_minor": 4
}

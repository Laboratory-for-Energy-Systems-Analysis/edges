{
 "cells": [
  {
   "cell_type": "markdown",
   "id": "e33447ab-c36e-45bc-9320-e703b401b7f0",
   "metadata": {},
   "source": [
    "# **Example GLAM3 | Impacts of land occupation and transformation on biodiversity**"
   ]
  },
  {
   "cell_type": "markdown",
   "id": "f0ca2759-74b2-472e-9f9e-8dbb81afba71",
   "metadata": {},
   "source": [
    "**Authors:**\n",
    "[Romain Sacchi](mailto:romain.sacchi@psi.ch)\n",
    "[Alvaro Hahn Menacho](mailto:alvaro.hahn-menacho@psi.ch)"
   ]
  },
  {
   "cell_type": "markdown",
   "id": "3c87910d-d850-47a0-9e0e-8a42fdbc4f8d",
   "metadata": {},
   "source": [
    "This notebook presents an example to obtain an exchange-based LCA score using the [Biodiversity impacts](https://pubs.acs.org/doi/full/10.1021/acs.est.3c04191) method developed by Scherrer et al., 2023. The method is implemented in the `edges` package and can be used in `brightway2` and `brightway25` via the `EdgeLCIA` class.\n",
    "\n",
    "The method, when used, should be cited as follows:\n",
    "\n",
    "Scherer L, Rosa F, Sun Z, et al (2023)\n",
    "Biodiversity Impact Assessment Considering Land Use Intensities and Fragmentation.\n",
    "Environ Sci Technol https://doi.org/10.1021/acs.est.3c04191\n"
   ]
  },
  {
   "cell_type": "markdown",
   "id": "4d1b02c4-b5ad-4503-a014-1e579085838d",
   "metadata": {},
   "source": [
    "## Structure"
   ]
  },
  {
   "cell_type": "markdown",
   "id": "6792397a-ca45-4ba2-a74d-ad577b0ae615",
   "metadata": {},
   "source": [
    "1. [Import *edges* and set *bw2 project*](#sec_import_edges)\n",
    "2. [Import hydrogen production, PEM, LCI](#sec_import_h2)\n",
    "3. [Select *Functional Unit* and *method*](#sec_select_fu)\n",
    "4. [Run edges based LCA](#sec_run_edges_lca)\n",
    "5. [Export results](#sec_export_results)\n",
    "6. [Plot results](#sec_plot_results)"
   ]
  },
  {
   "cell_type": "markdown",
   "id": "c07977f3-5100-4525-af3d-2fd98654d2c2",
   "metadata": {},
   "source": [
    "<a id=\"sec_import_edges\"></a>\n",
    "# 1. Import the ``edges`` and set up a ``brightway`` project"
   ]
  },
  {
   "cell_type": "code",
   "execution_count": 1,
   "id": "e5d5d48e-c53d-447b-8fb1-0b1b7f1285fa",
   "metadata": {
    "ExecuteTime": {
     "end_time": "2025-10-10T08:52:50.060399Z",
     "start_time": "2025-10-10T08:52:44.624615Z"
    }
   },
   "outputs": [
    {
     "name": "stdout",
     "output_type": "stream",
     "text": [
      "\u001b[2m10:52:49+0200\u001b[0m [\u001b[33m\u001b[1mwarning  \u001b[0m] \u001b[1mCan't import `SimaProBlockCSVImporter` - please install `bw2io` with `pip install bw2io[multifunctional]` or install `multifunctional` and `bw_simapro_csv` manually.\u001b[0m\n"
     ]
    }
   ],
   "source": [
    "import pandas as pd\n",
    "\n",
    "from edges import EdgeLCIA, get_available_methods, setup_package_logging\n",
    "import logging\n",
    "import bw2data, bw2io\n",
    "\n",
    "# we want the logger to log things into edges.log\n",
    "setup_package_logging(level=logging.INFO)\n",
    "# if you want full debug:\n",
    "#setup_package_logging(level=logging.DEBUG)"
   ]
  },
  {
   "cell_type": "markdown",
   "id": "0ce87893-ee71-4ebf-b90c-958726e807df",
   "metadata": {},
   "source": [
    "For our example, we activate a ``brighway`` project that contains ecoinvent 3.10 cut-off."
   ]
  },
  {
   "cell_type": "code",
   "execution_count": 13,
   "id": "a7253f27-dab8-4224-a4a1-a74789ed7ddb",
   "metadata": {
    "ExecuteTime": {
     "end_time": "2025-10-10T08:55:30.053197Z",
     "start_time": "2025-10-10T08:55:30.045959Z"
    }
   },
   "outputs": [],
   "source": [
    "bw2data.projects.set_current(\"bw25_ei310\")\n",
    "# bw2data.projects.set_current(\"ecoinvent-3.10-cutoff\")"
   ]
  },
  {
   "cell_type": "code",
   "execution_count": 14,
   "id": "4f921eb28316190f",
   "metadata": {
    "ExecuteTime": {
     "end_time": "2025-10-10T08:55:31.142711Z",
     "start_time": "2025-10-10T08:55:31.138690Z"
    }
   },
   "outputs": [
    {
     "data": {
      "text/plain": [
       "Databases dictionary with 2 object(s):\n",
       "\tbiosphere\n",
       "\tecoinvent-3.10.1-cutoff"
      ]
     },
     "execution_count": 14,
     "metadata": {},
     "output_type": "execute_result"
    }
   ],
   "source": [
    "bw2data.databases"
   ]
  },
  {
   "cell_type": "markdown",
   "id": "56dbab51-e9f9-4db1-861d-6637c27e8a77",
   "metadata": {},
   "source": [
    "<a id=\"sec_import_h2\"></a>\n",
    "# 2. Import hydrogen production, PEM, LCI\n",
    "\n",
    "To illustrate our water footprint case, we need to import some inventories representing the production of hydrogen using a PEM electrolyzer, powered with offshore wind power in France. The inventories are provided in this repository (``lci-hydrogen-electrolysis-ei310.xlsx``)."
   ]
  },
  {
   "cell_type": "code",
   "execution_count": 17,
   "id": "0b0340f8-dc2d-4aa6-b7f3-a09ef24cbd07",
   "metadata": {
    "ExecuteTime": {
     "end_time": "2025-10-10T08:58:02.206853Z",
     "start_time": "2025-10-10T08:57:52.959456Z"
    }
   },
   "outputs": [
    {
     "name": "stdout",
     "output_type": "stream",
     "text": [
      "Extracted 1 worksheets in 0.03 seconds\n",
      "Applying strategy: csv_restore_tuples\n",
      "Applying strategy: csv_restore_booleans\n",
      "Applying strategy: csv_numerize\n",
      "Applying strategy: csv_drop_unknown\n",
      "Applying strategy: csv_add_missing_exchanges_section\n",
      "Applying strategy: normalize_units\n",
      "Applying strategy: normalize_biosphere_categories\n",
      "Applying strategy: normalize_biosphere_names\n",
      "Applying strategy: strip_biosphere_exc_locations\n",
      "Applying strategy: set_code_by_activity_hash\n",
      "Applying strategy: link_iterable_by_fields\n",
      "Applying strategy: assign_only_product_as_production\n",
      "Applying strategy: link_technosphere_by_activity_hash\n",
      "Applying strategy: drop_falsey_uncertainty_fields_but_keep_zeros\n",
      "Applying strategy: convert_uncertainty_types_to_integers\n",
      "Applying strategy: convert_activity_parameters_to_list\n",
      "Applied 16 strategies in 0.09 seconds\n",
      "Applying strategy: link_iterable_by_fields\n",
      "Applying strategy: link_iterable_by_fields\n",
      "Applying strategy: link_iterable_by_fields\n",
      "Graph statistics for `h2_pem` importer:\n",
      "11 graph nodes:\n",
      "\tNone: 11\n",
      "214 graph edges:\n",
      "\ttechnosphere: 124\n",
      "\tbiosphere: 79\n",
      "\tproduction: 11\n",
      "214 edges to the following databases:\n",
      "\tecoinvent-3.10.1-cutoff: 98\n",
      "\tbiosphere: 79\n",
      "\th2_pem: 37\n",
      "0 unique unlinked edges (0 total):\n",
      "\n",
      "\n",
      "Applying strategy: drop_unlinked\n",
      "Applied 1 strategies in 0.00 seconds\n",
      "\u001b[2m10:57:55+0200\u001b[0m [\u001b[33m\u001b[1mwarning  \u001b[0m] \u001b[1mNot able to determine geocollections for all datasets. This database is not ready for regionalization.\u001b[0m\n"
     ]
    },
    {
     "name": "stderr",
     "output_type": "stream",
     "text": [
      "100%|██████████| 11/11 [00:00<00:00, 567.45it/s]"
     ]
    },
    {
     "name": "stdout",
     "output_type": "stream",
     "text": [
      "\u001b[2m10:57:55+0200\u001b[0m [\u001b[32m\u001b[1minfo     \u001b[0m] \u001b[1mVacuuming database            \u001b[0m\n"
     ]
    },
    {
     "name": "stderr",
     "output_type": "stream",
     "text": [
      "\n"
     ]
    },
    {
     "name": "stdout",
     "output_type": "stream",
     "text": [
      "Created database: h2_pem\n"
     ]
    }
   ],
   "source": [
    "if \"h2_pem\" in bw2data.databases:\n",
    "    del bw2data.databases[\"h2_pem\"]\n",
    "lci = bw2io.ExcelImporter(\"lci-hydrogen-electrolysis-ei310.xlsx\")\n",
    "lci.apply_strategies()\n",
    "lci.match_database(fields=[\"name\", \"reference product\", \"location\"])\n",
    "lci.match_database(\"ecoinvent-3.10.1-cutoff\",fields=[\"name\", \"reference product\", \"location\"])\n",
    "lci.match_database(\"biosphere\",fields=[\"name\", \"categories\"])\n",
    "lci.statistics()\n",
    "lci.drop_unlinked(i_am_reckless=True)\n",
    "if len(list(lci.unlinked)) == 0:\n",
    "    lci.write_database()\n",
    "\n",
    "# we assign manually classifications to activities\n",
    "# since it is unclear how to do that in the Excel inventory file.\n",
    "\n",
    "classifications = {\n",
    "    \"hydrogen production, gaseous, 30 bar, from PEM electrolysis, from grid electricity\": (\"CPC\", \"34210\"),\n",
    "    \"hydrogen production, gaseous, 30 bar, from PEM electrolysis, from solar photovoltaic electricity\": (\"CPC\", \"34210\"),\n",
    "    \"hydrogen production, gaseous, 30 bar, from PEM electrolysis, from onshore wind electricity\": (\"CPC\", \"34210\"),\n",
    "    \"hydrogen production, gaseous, 30 bar, from PEM electrolysis, from offshore wind electricity\": (\"CPC\", \"34210\"),\n",
    "    \"hydrogen production, gaseous, 30 bar, from PEM electrolysis, from geothermal electricity\": (\"CPC\", \"34210\"),\n",
    "    \"electrolyzer production, 1MWe, PEM, Stack\": (\"CPC\", \"4220:Construction of utility projects\"),\n",
    "    \"treatment of electrolyzer stack, 1MWe, PEM\": (\"CPC\", \"3830\"),\n",
    "    \"electrolyzer production, 1MWe, PEM, Balance of Plant\": (\"CPC\", \"4220:Construction of utility projects\"),\n",
    "    \"treatment of electrolyzer balance of plant, 1MWe, PEM\": (\"CPC\", \"3830\"),\n",
    "    \"platinum group metal, extraction and refinery operations\": (\"CPC\", \"2420\"),\n",
    "    \"deionized water production, via reverse osmosis, from brackish water\": (\"CPC\", \"34210\")\n",
    "}\n",
    "for ds in bw2data.Database(\"h2_pem\"):\n",
    "    if ds[\"name\"] in classifications:\n",
    "        ds[\"classifications\"] = [classifications[ds[\"name\"]]]\n",
    "        ds.save()\n"
   ]
  },
  {
   "cell_type": "markdown",
   "id": "7d4e19aa-80f6-4dd3-840d-ca0bda0920de",
   "metadata": {},
   "source": [
    "<a id=\"sec_select_fu\"></a>\n",
    "# 3. Select Functional Unit and method"
   ]
  },
  {
   "cell_type": "markdown",
   "id": "869d336f-2206-446b-9898-636a2bae0473",
   "metadata": {},
   "source": [
    "### 3.1. Select FU\n",
    "We select the activity to run the LCA for. In our case, it is the production of 1 kg of hydrogen, using a PEM electrolyzer, powered with offshore wind power, in France."
   ]
  },
  {
   "cell_type": "code",
   "execution_count": 18,
   "id": "b210a5cc-45db-46dd-be6e-8d558814bf89",
   "metadata": {
    "ExecuteTime": {
     "end_time": "2025-10-10T08:58:13.938571Z",
     "start_time": "2025-10-10T08:58:13.932366Z"
    }
   },
   "outputs": [
    {
     "data": {
      "text/plain": [
       "'hydrogen production, gaseous, 30 bar, from PEM electrolysis, from offshore wind electricity' (kilogram, FR, None)"
      ]
     },
     "execution_count": 18,
     "metadata": {},
     "output_type": "execute_result"
    }
   ],
   "source": [
    "act = [a for a in bw2data.Database(\"h2_pem\") if a[\"name\"] == \"hydrogen production, gaseous, 30 bar, from PEM electrolysis, from offshore wind electricity\"][0]\n",
    "act"
   ]
  },
  {
   "cell_type": "markdown",
   "id": "7ddb655e-6074-4df2-9609-3f14c92e0113",
   "metadata": {},
   "source": [
    "### 3.2. Select method\n",
    "``edges`` comes with a numbers of LCIA methods. You can list them using the `get_available_methods()` function.\n",
    "We currently have several flavors of `GLAM3 biodiversity`:\n",
    "\n",
    "* 'GLAM3', 'biodiversity', 'occupation', 'average', 'amphibians'\n",
    "* 'GLAM3', 'biodiversity', 'occupation', 'average', 'birds'\n",
    "* 'GLAM3', 'biodiversity', 'occupation', 'average', 'eukaryota'\n",
    "* 'GLAM3', 'biodiversity', 'occupation', 'average', 'mammals'\n",
    "* 'GLAM3', 'biodiversity', 'occupation', 'average', 'plants'\n",
    "* 'GLAM3', 'biodiversity', 'occupation', 'average', 'reptiles'\n",
    "* 'GLAM3', 'biodiversity', 'transformation', 'average', 'amphibians'\n",
    "* 'GLAM3', 'biodiversity', 'transformation', 'average', 'birds'\n",
    "* 'GLAM3', 'biodiversity', 'transformation', 'average', 'eukaryota'\n",
    "* 'GLAM3', 'biodiversity', 'transformation', 'average', 'mammals'\n",
    "* 'GLAM3', 'biodiversity', 'transformation', 'average', 'plants'\n",
    "* 'GLAM3', 'biodiversity', 'transformation', 'average', 'reptiles'\n",
    "\n",
    "\n",
    "These methods present different scopes:\n",
    "\n",
    "* Occupation CFs (in PDF·m²⁻¹) quantify impacts per unit area and time of land occupation.\n",
    "* Transformation CFs (in PDF·yr·m²⁻¹) quantify impacts per unit area transformed, accounting for regeneration time.\n",
    "* CFs are provided as average, at country level, with ecoregion-specific CFs for sensitivity purpose, across five biome types.\n",
    "* The CFs integrate land fragmentation (via the Equivalent Connected Area, ECA) and land use intensity—both drivers of biodiversity loss not jointly included in earlier models.\n",
    "* CFs cannot be used to assess changes in fragmentation degree, as fragmentation is internally parameterized.\n",
    "* The Eukaryota CFs represent an aggregated proxy combining plants and vertebrates (amphibians, birds, mammals, reptiles), each weighted equally. They thus serve as a generic biodiversity indicator for overall potential species loss across taxa.\n",
    "\n",
    "For more information about its implementation and use, refer to [the page about](https://edges.readthedocs.io/en/latest/methods.html#glam3-land-use-impacts-on-biodiversity) `GLAM3 biodiversity` in the ``edges`` documentation, and for more information about the method itself, refer to:\n",
    "\n",
    "Scherer L, Rosa F, Sun Z, et al (2023)\n",
    "Biodiversity Impact Assessment Considering Land Use Intensities and Fragmentation.\n",
    "Environ Sci Technol https://doi.org/10.1021/acs.est.3c04191\n"
   ]
  },
  {
   "cell_type": "code",
   "execution_count": 19,
   "id": "7cae387f-9f34-4933-9e04-ef5cfb9bece8",
   "metadata": {
    "ExecuteTime": {
     "end_time": "2025-10-10T08:58:34.353875Z",
     "start_time": "2025-10-10T08:58:34.349665Z"
    },
    "scrolled": true
   },
   "outputs": [
    {
     "data": {
      "text/plain": [
       "[('AWARE 2.0', 'Country', 'all', 'yearly'),\n",
       " ('AWARE 2.0', 'Country', 'irri', 'yearly'),\n",
       " ('AWARE 2.0', 'Country', 'non', 'irri', 'yearly'),\n",
       " ('AWARE 2.0', 'Country', 'unspecified', 'yearly'),\n",
       " ('GLAM3', 'biodiversity', 'occupation', 'average', 'amphibians'),\n",
       " ('GLAM3', 'biodiversity', 'occupation', 'average', 'birds'),\n",
       " ('GLAM3', 'biodiversity', 'occupation', 'average', 'eukaryota'),\n",
       " ('GLAM3', 'biodiversity', 'occupation', 'average', 'mammals'),\n",
       " ('GLAM3', 'biodiversity', 'occupation', 'average', 'plants'),\n",
       " ('GLAM3', 'biodiversity', 'occupation', 'average', 'reptiles'),\n",
       " ('GLAM3', 'biodiversity', 'transformation', 'average', 'amphibians'),\n",
       " ('GLAM3', 'biodiversity', 'transformation', 'average', 'birds'),\n",
       " ('GLAM3', 'biodiversity', 'transformation', 'average', 'eukaryota'),\n",
       " ('GLAM3', 'biodiversity', 'transformation', 'average', 'mammals'),\n",
       " ('GLAM3', 'biodiversity', 'transformation', 'average', 'plants'),\n",
       " ('GLAM3', 'biodiversity', 'transformation', 'average', 'reptiles'),\n",
       " ('GeoPolRisk', 'paired', '2024'),\n",
       " ('ImpactWorld+ 2.1', 'Freshwater acidification', 'damage'),\n",
       " ('ImpactWorld+ 2.1', 'Freshwater acidification', 'midpoint'),\n",
       " ('ImpactWorld+ 2.1', 'Freshwater ecotoxicity', 'midpoint'),\n",
       " ('ImpactWorld+ 2.1', 'Freshwater ecotoxicity, long term', 'damage'),\n",
       " ('ImpactWorld+ 2.1', 'Freshwater ecotoxicity, short term', 'damage'),\n",
       " ('ImpactWorld+ 2.1', 'Freshwater eutrophication', 'damage'),\n",
       " ('ImpactWorld+ 2.1', 'Freshwater eutrophication', 'midpoint'),\n",
       " ('ImpactWorld+ 2.1', 'Land occupation, biodiversity', 'damage'),\n",
       " ('ImpactWorld+ 2.1', 'Land occupation, biodiversity', 'midpoint'),\n",
       " ('ImpactWorld+ 2.1', 'Land transformation, biodiversity', 'damage'),\n",
       " ('ImpactWorld+ 2.1', 'Land transformation, biodiversity', 'midpoint'),\n",
       " ('ImpactWorld+ 2.1', 'Marine ecotoxicity, long term', 'damage'),\n",
       " ('ImpactWorld+ 2.1', 'Marine ecotoxicity, short term', 'damage'),\n",
       " ('ImpactWorld+ 2.1', 'Marine eutrophication', 'damage'),\n",
       " ('ImpactWorld+ 2.1', 'Marine eutrophication', 'midpoint'),\n",
       " ('ImpactWorld+ 2.1', 'Particulate matter formation', 'damage'),\n",
       " ('ImpactWorld+ 2.1', 'Particulate matter formation', 'midpoint'),\n",
       " ('ImpactWorld+ 2.1', 'Photochemical ozone formation', 'midpoint'),\n",
       " ('ImpactWorld+ 2.1',\n",
       "  'Photochemical ozone formation, ecosystem quality',\n",
       "  'damage'),\n",
       " ('ImpactWorld+ 2.1', 'Photochemical ozone formation, human health', 'damage'),\n",
       " ('ImpactWorld+ 2.1', 'Terrestrial acidification', 'damage'),\n",
       " ('ImpactWorld+ 2.1', 'Terrestrial acidification', 'midpoint'),\n",
       " ('ImpactWorld+ 2.1', 'Terrestrial ecotoxicity, long term', 'damage'),\n",
       " ('ImpactWorld+ 2.1', 'Terrestrial ecotoxicity, short term', 'damage'),\n",
       " ('ImpactWorld+ 2.1', 'Thermally polluted water', 'damage'),\n",
       " ('ImpactWorld+ 2.1', 'Water availability, freshwater ecosystem', 'damage'),\n",
       " ('ImpactWorld+ 2.1', 'Water availability, human health', 'damage'),\n",
       " ('ImpactWorld+ 2.1', 'Water availability, terrestrial ecosystem', 'damage'),\n",
       " ('ImpactWorld+ 2.1', 'Water scarcity', 'midpoint'),\n",
       " ('LCC 1.0', '2023'),\n",
       " ('RELICS', 'copper', 'primary'),\n",
       " ('RELICS', 'copper', 'secondary'),\n",
       " ('SCP', '1.0')]"
      ]
     },
     "execution_count": 19,
     "metadata": {},
     "output_type": "execute_result"
    }
   ],
   "source": [
    "get_available_methods()"
   ]
  },
  {
   "cell_type": "code",
   "execution_count": 20,
   "id": "075076c8-f4f7-4db5-84f7-0cec83351d17",
   "metadata": {
    "ExecuteTime": {
     "end_time": "2025-10-10T09:05:04.333026Z",
     "start_time": "2025-10-10T09:05:04.329085Z"
    },
    "scrolled": true
   },
   "outputs": [
    {
     "data": {
      "text/plain": [
       "[('GLAM3', 'biodiversity', 'occupation', 'average', 'amphibians'),\n",
       " ('GLAM3', 'biodiversity', 'occupation', 'average', 'birds'),\n",
       " ('GLAM3', 'biodiversity', 'occupation', 'average', 'mammals'),\n",
       " ('GLAM3', 'biodiversity', 'occupation', 'average', 'plants'),\n",
       " ('GLAM3', 'biodiversity', 'occupation', 'average', 'reptiles')]"
      ]
     },
     "execution_count": 20,
     "metadata": {},
     "output_type": "execute_result"
    }
   ],
   "source": [
    "methods = [\n",
    "    ('GLAM3', 'biodiversity', 'occupation', 'average', 'amphibians'),\n",
    "    ('GLAM3', 'biodiversity', 'occupation', 'average', 'birds'),\n",
    "    # ('GLAM3', 'biodiversity', 'occupation', 'average', 'eukaryota'), <- we remove the eukaryota indicator as it is an aggregate of the other five\n",
    "    ('GLAM3', 'biodiversity', 'occupation', 'average', 'mammals'),\n",
    "    ('GLAM3', 'biodiversity', 'occupation', 'average', 'plants'),\n",
    "    ('GLAM3', 'biodiversity', 'occupation', 'average', 'reptiles'),\n",
    "]\n",
    "methods"
   ]
  },
  {
   "cell_type": "markdown",
   "id": "289d16de-f20c-4c92-8675-dee30274266e",
   "metadata": {},
   "source": [
    "<a id=\"sec_run_edges_lca\"></a>\n",
    "# 4. Run edges-based LCA"
   ]
  },
  {
   "cell_type": "code",
   "execution_count": 24,
   "id": "2c1a5d4e-20a7-4f9e-9823-cf96609cd6eb",
   "metadata": {
    "ExecuteTime": {
     "end_time": "2025-10-10T09:14:14.162254Z",
     "start_time": "2025-10-10T09:08:03.566327Z"
    },
    "scrolled": true
   },
   "outputs": [
    {
     "name": "stderr",
     "output_type": "stream",
     "text": [
      "Mapping exchanges: 100%|██████████| 4600/4600 [00:20<00:00, 219.61it/s]\n",
      "Processing static groups (pass 1): 100%|██████████| 17/17 [00:00<00:00, 83.71it/s]\n",
      "Processing dynamic groups (pass 1): 100%|██████████| 17/17 [00:00<00:00, 30.84it/s]\n",
      "Processing contained groups (pass 1): 100%|██████████| 12/12 [00:00<00:00, 30596.75it/s]\n",
      "Processing global groups (pass 1): 100%|██████████| 17/17 [00:00<00:00, 308671.72it/s]\n",
      "Processing global groups (pass 1): 100%|██████████| 17/17 [00:00<00:00, 333192.37it/s]\n",
      "Processing global groups (pass 1): 100%|██████████| 17/17 [00:00<00:00, 424423.62it/s]\n",
      "Processing global groups (pass 1): 100%|██████████| 17/17 [00:00<00:00, 434775.41it/s]\n",
      "Processing global groups (pass 1): 100%|██████████| 17/17 [00:00<00:00, 284076.37it/s]\n",
      "Processing global groups (pass 1): 100%|██████████| 17/17 [00:00<00:00, 111064.12it/s]\n",
      "Mapping exchanges: 100%|██████████| 4600/4600 [00:21<00:00, 217.00it/s]\n",
      "Processing static groups (pass 1): 100%|██████████| 17/17 [00:00<00:00, 86.07it/s]\n",
      "Processing dynamic groups (pass 1): 100%|██████████| 17/17 [00:00<00:00, 31.04it/s]\n",
      "Processing contained groups (pass 1): 100%|██████████| 12/12 [00:00<00:00, 30859.38it/s]\n",
      "Processing global groups (pass 1): 100%|██████████| 17/17 [00:00<00:00, 308671.72it/s]\n",
      "Processing global groups (pass 1): 100%|██████████| 17/17 [00:00<00:00, 361945.02it/s]\n",
      "Processing global groups (pass 1): 100%|██████████| 17/17 [00:00<00:00, 424423.62it/s]\n",
      "Processing global groups (pass 1): 100%|██████████| 17/17 [00:00<00:00, 193758.61it/s]\n",
      "Processing global groups (pass 1): 100%|██████████| 17/17 [00:00<00:00, 377265.44it/s]\n",
      "Processing global groups (pass 1): 100%|██████████| 17/17 [00:00<00:00, 385422.53it/s]\n",
      "Mapping exchanges: 100%|██████████| 4600/4600 [00:20<00:00, 222.28it/s]\n",
      "Processing static groups (pass 1): 100%|██████████| 17/17 [00:00<00:00, 85.09it/s]\n",
      "Processing dynamic groups (pass 1): 100%|██████████| 17/17 [00:00<00:00, 31.41it/s]\n",
      "Processing contained groups (pass 1): 100%|██████████| 12/12 [00:00<00:00, 29468.18it/s]\n",
      "Processing global groups (pass 1): 100%|██████████| 17/17 [00:00<00:00, 308671.72it/s]\n",
      "Processing global groups (pass 1): 100%|██████████| 17/17 [00:00<00:00, 367542.10it/s]\n",
      "Processing global groups (pass 1): 100%|██████████| 17/17 [00:00<00:00, 460020.44it/s]\n",
      "Processing global groups (pass 1): 100%|██████████| 17/17 [00:00<00:00, 363791.67it/s]\n",
      "Processing global groups (pass 1): 100%|██████████| 17/17 [00:00<00:00, 44150.57it/s]\n",
      "Processing global groups (pass 1): 100%|██████████| 17/17 [00:00<00:00, 93451.07it/s]\n",
      "Mapping exchanges: 100%|██████████| 8096/8096 [00:43<00:00, 185.54it/s] \n",
      "Processing static groups (pass 1): 100%|██████████| 31/31 [00:00<00:00, 70.07it/s]\n",
      "Processing dynamic groups (pass 1): 100%|██████████| 31/31 [00:01<00:00, 23.79it/s]\n",
      "Processing contained groups (pass 1): 100%|██████████| 19/19 [00:00<00:00, 5929.89it/s]\n",
      "Processing global groups (pass 1): 100%|██████████| 31/31 [00:00<00:00, 492512.97it/s]\n",
      "Processing global groups (pass 1): 100%|██████████| 31/31 [00:00<00:00, 500090.09it/s]\n",
      "Processing global groups (pass 1): 100%|██████████| 31/31 [00:00<00:00, 526410.62it/s]\n",
      "Processing global groups (pass 1): 100%|██████████| 31/31 [00:00<00:00, 476276.28it/s]\n",
      "Processing global groups (pass 1): 100%|██████████| 31/31 [00:00<00:00, 492512.97it/s]\n",
      "Processing global groups (pass 1): 100%|██████████| 31/31 [00:00<00:00, 553291.17it/s]\n",
      "Mapping exchanges: 100%|██████████| 4600/4600 [00:21<00:00, 214.32it/s]\n",
      "Processing static groups (pass 1): 100%|██████████| 17/17 [00:00<00:00, 83.40it/s]\n",
      "Processing dynamic groups (pass 1): 100%|██████████| 17/17 [00:00<00:00, 30.88it/s]\n",
      "Processing contained groups (pass 1): 100%|██████████| 12/12 [00:00<00:00, 31398.41it/s]\n",
      "Processing global groups (pass 1): 100%|██████████| 17/17 [00:00<00:00, 346131.88it/s]\n",
      "Processing global groups (pass 1): 100%|██████████| 17/17 [00:00<00:00, 314110.87it/s]\n",
      "Processing global groups (pass 1): 100%|██████████| 17/17 [00:00<00:00, 414553.30it/s]\n",
      "Processing global groups (pass 1): 100%|██████████| 17/17 [00:00<00:00, 41431.24it/s]\n",
      "Processing global groups (pass 1): 100%|██████████| 17/17 [00:00<00:00, 361945.02it/s]\n",
      "Processing global groups (pass 1): 100%|██████████| 17/17 [00:00<00:00, 53132.02it/s]\n"
     ]
    }
   ],
   "source": [
    "import pandas as pd\n",
    "\n",
    "main_df = pd.DataFrame()\n",
    "\n",
    "for method in methods:\n",
    "    # we instantiate EdgeLCIA, which builds on the `bw2calc.LCA` class\n",
    "    LCA = EdgeLCIA(\n",
    "        demand={act: 1}, # <- we define a functional unit\n",
    "        method=method, # <- we specify the LCIA method\n",
    "        use_distributions=True, # <- we want to consider variability across ecoregions\n",
    "        iterations=10000 # <- we specific the number of iterations\n",
    "    )\n",
    "\n",
    "    # apply strategies\n",
    "    LCA.apply_strategies()\n",
    "    LCA.evaluate_cfs()\n",
    "    LCA.lcia()\n",
    "\n",
    "    df = LCA.generate_cf_table()\n",
    "    df[\"method\"] = \" \".join(method)\n",
    "    main_df = pd.concat([main_df, df], ignore_index=True)"
   ]
  },
  {
   "cell_type": "code",
   "execution_count": 26,
   "id": "706b4010f69e2703",
   "metadata": {
    "ExecuteTime": {
     "end_time": "2025-10-10T09:19:21.293331Z",
     "start_time": "2025-10-10T09:19:21.290733Z"
    }
   },
   "outputs": [
    {
     "data": {
      "text/plain": [
       "Index(['supplier name', 'supplier categories', 'consumer name',\n",
       "       'consumer reference product', 'consumer location', 'amount',\n",
       "       'CF (mean)', 'CF (std)', 'CF (min)', 'CF (5th)', 'CF (25th)',\n",
       "       'CF (50th)', 'CF (75th)', 'CF (95th)', 'CF (max)', 'impact (mean)',\n",
       "       'impact (std)', 'impact (min)', 'impact (5th)', 'impact (25th)',\n",
       "       'impact (50th)', 'impact (75th)', 'impact (95th)', 'impact (max)',\n",
       "       'method'],\n",
       "      dtype='object')"
      ]
     },
     "execution_count": 26,
     "metadata": {},
     "output_type": "execute_result"
    }
   ],
   "source": [
    "main_df.columns"
   ]
  },
  {
   "cell_type": "code",
   "execution_count": 33,
   "id": "6c34a6694371642",
   "metadata": {
    "ExecuteTime": {
     "end_time": "2025-10-10T09:41:50.277324Z",
     "start_time": "2025-10-10T09:41:50.272928Z"
    }
   },
   "outputs": [
    {
     "data": {
      "text/plain": [
       "array(['amphibians', 'birds', 'mammals', 'plants', 'reptiles'],\n",
       "      dtype=object)"
      ]
     },
     "execution_count": 33,
     "metadata": {},
     "output_type": "execute_result"
    }
   ],
   "source": [
    "main_df[\"method\"].unique()"
   ]
  },
  {
   "cell_type": "code",
   "execution_count": 32,
   "id": "f06cc0ef9e2251e3",
   "metadata": {
    "ExecuteTime": {
     "end_time": "2025-10-10T09:41:48.586921Z",
     "start_time": "2025-10-10T09:41:48.554860Z"
    }
   },
   "outputs": [],
   "source": [
    "main_df = main_df.replace(\"GLAM3 biodiversity occupation average \", \"\", regex=True)"
   ]
  },
  {
   "cell_type": "markdown",
   "id": "e3436915-1dbf-4eb2-90f6-e7dc10ea6169",
   "metadata": {},
   "source": [
    "<a id=\"sec_plot_results\"></a>\n",
    "# 6. Plot results\n",
    "Script used to produce Figure 2 in the Sacchi et al. 2025 article."
   ]
  },
  {
   "cell_type": "code",
   "execution_count": 83,
   "id": "333242c1-ffd1-4901-a84a-9c2fa8fed29f",
   "metadata": {
    "ExecuteTime": {
     "end_time": "2025-10-10T12:42:32.190722Z",
     "start_time": "2025-10-10T12:42:31.706882Z"
    }
   },
   "outputs": [
    {
     "data": {
      "image/png": "[encoded data removed]",
      "text/plain": [
       "<Figure size 600x550 with 4 Axes>"
      ]
     },
     "metadata": {},
     "output_type": "display_data"
    }
   ],
   "source": [
    "import numpy as np\n",
    "import pandas as pd\n",
    "import matplotlib.pyplot as plt\n",
    "from matplotlib.lines import Line2D\n",
    "\n",
    "cutoff = 0.00\n",
    "\n",
    "# --- Figure & style (2 x 2 layout) ---\n",
    "fig, axes = plt.subplots(2, 2, figsize=(6, 5.5))\n",
    "ax_a, ax_b = axes[0, 0], axes[0, 1]\n",
    "ax_c, ax_d = axes[1, 0], axes[1, 1]\n",
    "\n",
    "plt.rcParams.update({\n",
    "    'font.family': 'sans-serif',\n",
    "    'font.sans-serif': ['Arial'],\n",
    "    'font.size': 8\n",
    "})\n",
    "\n",
    "# Legend entry for CI 25–75\n",
    "errorbar_legend = Line2D(\n",
    "    [0], [0],\n",
    "    color='black',\n",
    "    linestyle='none',\n",
    "    marker='_',\n",
    "    markersize=10,\n",
    "    markeredgewidth=1.5,\n",
    "    label='25–75% CI'\n",
    ")\n",
    "\n",
    "# --- Prep / filtering ---\n",
    "df_table = main_df.copy()\n",
    "m = df_table.loc[df_table[\"impact (mean)\"] > 0, \"impact (mean)\"].max()\n",
    "df = df_table[df_table[\"impact (mean)\"].abs() > cutoff * m].copy()\n",
    "\n",
    "# Needed for (a): sign of amount by CF sign (if you want \"net\")\n",
    "df_net = df.copy()\n",
    "# Common percentile flags\n",
    "lower_percentile = \"(25th)\"\n",
    "top_percentile = \"(75th)\"\n",
    "has_cf_percentiles = f\"CF {lower_percentile}\" in df.columns and f\"CF {top_percentile}\" in df.columns\n",
    "has_imp_percentiles = f\"impact {lower_percentile}\" in df.columns and f\"impact {top_percentile}\" in df.columns\n",
    "\n",
    "# =========================================================\n",
    "# (a) Land occupation — top-5 locations by (signed) amount\n",
    "# =========================================================\n",
    "d = df_net.groupby(\"consumer location\").sum(numeric_only=True)\n",
    "d = d.sort_values(by=\"amount\", ascending=False).head(5)\n",
    "\n",
    "d[\"amount\"].plot(kind=\"bar\", ax=ax_a, xlabel='', width=0.6)\n",
    "ax_a.set_title(\"a) Land occupation\")\n",
    "ax_a.set_ylabel(\"m$^2$\")\n",
    "ax_a.set_xticks(range(len(d)))\n",
    "ax_a.set_xticklabels(d.index, rotation=0)\n",
    "ax_a.set_yscale('log')\n",
    "\n",
    "# Keep consistent order of locations from (a)\n",
    "loc_order = d.index.tolist()\n",
    "\n",
    "# =========================================================\n",
    "# (b) Characterization factor by location — CLUSTERED by method\n",
    "# =========================================================\n",
    "df_b = main_df.copy()\n",
    "\n",
    "# Keep percentiles bracketing the mean\n",
    "\n",
    "\n",
    "# Pick available CF columns safely\n",
    "cf_cols = [\"CF (mean)\", f\"CF {lower_percentile}\", \"CF (50th)\", f\"CF {top_percentile}\"]\n",
    "cf_cols = [c for c in cf_cols if c in df_b.columns]\n",
    "\n",
    "# Aggregate correctly (select cols FIRST, then .mean())\n",
    "gb_b = (\n",
    "    df_b\n",
    "    .groupby([\"consumer location\", \"method\"])[cf_cols]\n",
    "    .mean(numeric_only=True)\n",
    "    .reset_index()\n",
    ")\n",
    "\n",
    "# Restrict to (a)'s locations, preserve order\n",
    "gb_b = gb_b[gb_b[\"consumer location\"].isin(loc_order)]\n",
    "gb_b[\"consumer location\"] = pd.Categorical(gb_b[\"consumer location\"], categories=loc_order, ordered=True)\n",
    "gb_b = gb_b.sort_values([\"consumer location\", \"method\"])\n",
    "\n",
    "methods_b = list(gb_b[\"method\"].unique())\n",
    "n_methods_b = max(1, len(methods_b))\n",
    "x = np.arange(len(loc_order))\n",
    "bar_width = min(0.8 / n_methods_b, 0.25)\n",
    "\n",
    "# per-method lookup\n",
    "b_dict = {m: gb_b[gb_b[\"method\"] == m].set_index(\"consumer location\") for m in methods_b}\n",
    "\n",
    "for i, meth in enumerate(methods_b):\n",
    "    vals = b_dict[meth].reindex(loc_order)\n",
    "    y = vals[\"CF (50th)\"].values\n",
    "\n",
    "    if has_cf_percentiles:\n",
    "        lower = y - vals[f\"CF {lower_percentile}\"].values\n",
    "        upper = vals[f\"CF {top_percentile}\"].values - y\n",
    "        cf_errors = np.clip(np.vstack([lower, upper]), 0, None)\n",
    "    else:\n",
    "        cf_errors = None\n",
    "\n",
    "    positions = x - (n_methods_b - 1) * bar_width / 2 + i * bar_width\n",
    "    ax_b.bar(positions, y, yerr=cf_errors, capsize=4, width=bar_width, label=str(meth))\n",
    "\n",
    "ax_b.set_title(\"b) Characterization factor by location\")\n",
    "ax_b.set_ylabel(\"PDF/m$^2$\")\n",
    "ax_b.set_xticks(x)\n",
    "ax_b.set_xticklabels(loc_order, rotation=0)\n",
    "\n",
    "# Legend: methods + CI marker\n",
    "handles_b, labels_b = ax_b.get_legend_handles_labels()\n",
    "handles_b.append(errorbar_legend)\n",
    "labels_b.append('25–75% CI')\n",
    "ax_b.legend(handles=handles_b, labels=labels_b, loc='upper right', fontsize=8)\n",
    "\n",
    "# =========================================================\n",
    "# (c) Process contribution — CLUSTERED by method (top-4 labels)\n",
    "# =========================================================\n",
    "df_c = main_df.copy()\n",
    "df_c[\"consumer name\"] = df_c[\"consumer name\"].str.split(\", \").str[0]\n",
    "df_c[\"label\"] = df_c[\"consumer name\"] + \" (\" + df_c[\"consumer location\"] + \")\"\n",
    "\n",
    "# Select top 4 labels by total mean impact (across methods)\n",
    "top_labels = (df_c.groupby(\"label\", as_index=False)[\"impact (50th)\"]\n",
    "                .sum(numeric_only=True)\n",
    "                .sort_values(\"impact (50th)\", ascending=False)\n",
    "                .head(4)[\"label\"]\n",
    "                .tolist())\n",
    "\n",
    "agg_c = {\"impact (50th)\": \"sum\"}\n",
    "if has_imp_percentiles:\n",
    "    agg_c[f\"impact {lower_percentile}\"] = \"sum\"\n",
    "    agg_c[f\"impact {top_percentile}\"] = \"sum\"\n",
    "\n",
    "gb_c = (df_c[df_c[\"label\"].isin(top_labels)]\n",
    "        .groupby([\"label\", \"method\"])\n",
    "        .agg(agg_c)\n",
    "        .reset_index())\n",
    "\n",
    "gb_c[\"label\"] = pd.Categorical(gb_c[\"label\"], categories=top_labels, ordered=True)\n",
    "gb_c = gb_c.sort_values([\"label\", \"method\"])\n",
    "\n",
    "methods_c = list(gb_c[\"method\"].unique())\n",
    "n_methods_c = max(1, len(methods_c))\n",
    "x_c = np.arange(len(top_labels))\n",
    "bar_width_c = min(0.8 / n_methods_c, 0.25)\n",
    "\n",
    "# per-method lookup\n",
    "c_dict = {m: gb_c[gb_c[\"method\"] == m].set_index(\"label\") for m in methods_c}\n",
    "\n",
    "for i, meth in enumerate(methods_c):\n",
    "    vals = c_dict[meth].reindex(top_labels)\n",
    "    y = vals[\"impact (50th)\"].values\n",
    "\n",
    "    if has_imp_percentiles:\n",
    "        err_lower = y - vals.get(f\"impact {lower_percentile}\", pd.Series(index=vals.index, dtype=float)).values\n",
    "        err_upper = vals.get(f\"impact {top_percentile}\", pd.Series(index=vals.index, dtype=float)).values - y\n",
    "        errors = np.clip(np.vstack([err_lower, err_upper]), 0, None)\n",
    "    else:\n",
    "        errors = None\n",
    "\n",
    "    positions = x_c - (n_methods_c - 1) * bar_width_c / 2 + i * bar_width_c\n",
    "    ax_c.bar(positions, y, yerr=errors, capsize=4, width=bar_width_c, label=str(meth))\n",
    "\n",
    "# Tidy labels (shorten + line break), and annotate with country codes at cluster top\n",
    "short_labels = pd.Series(top_labels).str.replace(r\" \\(([^)]+)\\)$\", \"\", regex=True)\n",
    "countries = pd.Series(top_labels).str.extract(r\"\\(([^)]+)\\)$\")[0]\n",
    "short_labels = [lbl.rsplit(\" \", 1)[0] + \"\\n\" + lbl.rsplit(\" \", 1)[1] if \" \" in lbl else lbl\n",
    "                for lbl in short_labels]\n",
    "short_labels = [lbl.replace(\"deionized\", \"\").replace(\"gravel and sand \", \"\") for lbl in short_labels]\n",
    "\n",
    "ax_c.set_xticks(x_c)\n",
    "ax_c.set_xticklabels(short_labels, rotation=0, ha=\"center\", size=7)\n",
    "ax_c.set_title(\"c) Process contribution\")\n",
    "ax_c.set_ylabel(\"PDF\")\n",
    "ax_c.tick_params(axis=\"x\", labelsize=8)\n",
    "\n",
    "# annotate with country code over the tallest bar in each cluster\n",
    "cluster_tops = []\n",
    "for j in range(len(x_c)):\n",
    "    ys = []\n",
    "    for meth in methods_c:\n",
    "        vals = c_dict[meth].reindex(top_labels)\n",
    "        ys.append(vals[\"impact (50th)\"].values[j] if j < len(vals) else np.nan)\n",
    "    cluster_tops.append(np.nanmax(ys))\n",
    "for xi, yi, code in zip(x_c, cluster_tops, countries):\n",
    "    if pd.notna(yi):\n",
    "        ax_c.annotate(code, (xi, yi), textcoords=\"offset points\", xytext=(2, 2), ha='left', fontsize=8)\n",
    "\n",
    "# Legend: methods + CI marker\n",
    "handles_c, labels_c = ax_c.get_legend_handles_labels()\n",
    "handles_c.append(errorbar_legend)\n",
    "labels_c.append('25–75% CI')\n",
    "ax_c.legend(handles=handles_c, labels=labels_c, loc='upper right', fontsize=8)\n",
    "\n",
    "# =========================================================\n",
    "# (d) LCIA score — Global vs Regionalized\n",
    "# =========================================================\n",
    "from io import StringIO\n",
    "\n",
    "# --- 1) Put your CF table into a small DataFrame ---\n",
    "cf_text = \"\"\"species_group\tkingdom\thabitat_id\thabitat\tCF_occ_avg_glo\n",
    "Amphibians\tAnimalia\t2.5\tCropland_LightIntense\t3.70E-12\n",
    "Amphibians\tAnimalia\t4\tCropland_Minimal\t2.19E-12\n",
    "Amphibians\tAnimalia\t5\tManaged_forest_Intense\t1.87E-12\n",
    "Amphibians\tAnimalia\t6\tManaged_forest_Light\t6.75E-13\n",
    "Amphibians\tAnimalia\t7\tManaged_forest_Minimal\t1.63E-13\n",
    "Amphibians\tAnimalia\t8.5\tPasture_LightIntense\t3.08E-12\n",
    "Amphibians\tAnimalia\t10\tPasture_Minimal\t5.03E-11\n",
    "Amphibians\tAnimalia\t11.5\tPlantation_LightIntense\t8.15E-12\n",
    "Amphibians\tAnimalia\t13\tPlantation_Minimal\t6.24E-12\n",
    "Amphibians\tAnimalia\t14\tUrban_Intense\t7.51E-12\n",
    "Amphibians\tAnimalia\t15\tUrban_Light\t6.60E-12\n",
    "Amphibians\tAnimalia\t16\tUrban_Minimal\t5.80E-12\n",
    "Birds\tAnimalia\t2.5\tCropland_LightIntense\t2.18E-12\n",
    "Birds\tAnimalia\t4\tCropland_Minimal\t1.42E-12\n",
    "Birds\tAnimalia\t5\tManaged_forest_Intense\t9.01E-13\n",
    "Birds\tAnimalia\t6\tManaged_forest_Light\t3.12E-13\n",
    "Birds\tAnimalia\t7\tManaged_forest_Minimal\t7.20E-14\n",
    "Birds\tAnimalia\t8.5\tPasture_LightIntense\t1.88E-12\n",
    "Birds\tAnimalia\t10\tPasture_Minimal\t2.20E-12\n",
    "Birds\tAnimalia\t11.5\tPlantation_LightIntense\t3.32E-12\n",
    "Birds\tAnimalia\t13\tPlantation_Minimal\t2.83E-12\n",
    "Birds\tAnimalia\t14\tUrban_Intense\t4.20E-12\n",
    "Birds\tAnimalia\t15\tUrban_Light\t3.67E-12\n",
    "Birds\tAnimalia\t16\tUrban_Minimal\t3.12E-12\n",
    "Mammals\tAnimalia\t2.5\tCropland_LightIntense\t2.80E-12\n",
    "Mammals\tAnimalia\t4\tCropland_Minimal\t1.84E-12\n",
    "Mammals\tAnimalia\t5\tManaged_forest_Intense\t1.08E-12\n",
    "Mammals\tAnimalia\t6\tManaged_forest_Light\t4.02E-13\n",
    "Mammals\tAnimalia\t7\tManaged_forest_Minimal\t9.57E-14\n",
    "Mammals\tAnimalia\t8.5\tPasture_LightIntense\t2.22E-12\n",
    "Mammals\tAnimalia\t10\tPasture_Minimal\t2.65E-12\n",
    "Mammals\tAnimalia\t11.5\tPlantation_LightIntense\t4.42E-12\n",
    "Mammals\tAnimalia\t13\tPlantation_Minimal\t3.54E-12\n",
    "Mammals\tAnimalia\t14\tUrban_Intense\t4.92E-12\n",
    "Mammals\tAnimalia\t15\tUrban_Light\t4.24E-12\n",
    "Mammals\tAnimalia\t16\tUrban_Minimal\t3.66E-12\n",
    "Reptiles\tAnimalia\t2.5\tCropland_LightIntense\t3.93E-12\n",
    "Reptiles\tAnimalia\t4\tCropland_Minimal\t2.56E-12\n",
    "Reptiles\tAnimalia\t5\tManaged_forest_Intense\t1.65E-12\n",
    "Reptiles\tAnimalia\t6\tManaged_forest_Light\t6.17E-13\n",
    "Reptiles\tAnimalia\t7\tManaged_forest_Minimal\t1.46E-13\n",
    "Reptiles\tAnimalia\t8.5\tPasture_LightIntense\t3.08E-12\n",
    "Reptiles\tAnimalia\t10\tPasture_Minimal\t2.57E-11\n",
    "Reptiles\tAnimalia\t11.5\tPlantation_LightIntense\t7.66E-12\n",
    "Reptiles\tAnimalia\t13\tPlantation_Minimal\t5.91E-12\n",
    "Reptiles\tAnimalia\t14\tUrban_Intense\t7.31E-12\n",
    "Reptiles\tAnimalia\t15\tUrban_Light\t6.76E-12\n",
    "Reptiles\tAnimalia\t16\tUrban_Minimal\t6.36E-12\n",
    "Plants\tPlantae\t2\tCropland_Intense\t3.75E-12\n",
    "Plants\tPlantae\t3\tCropland_Light\t2.46E-12\n",
    "Plants\tPlantae\t4\tCropland_Minimal\t1.93E-12\n",
    "Plants\tPlantae\t5\tManaged_forest_Intense\t2.90E-12\n",
    "Plants\tPlantae\t6\tManaged_forest_Light\t1.82E-12\n",
    "Plants\tPlantae\t7\tManaged_forest_Minimal\t7.24E-13\n",
    "Plants\tPlantae\t8\tPasture_Intense\t3.20E-12\n",
    "Plants\tPlantae\t9\tPasture_Light\t1.68E-12\n",
    "Plants\tPlantae\t10\tPasture_Minimal\t7.73E-13\n",
    "Plants\tPlantae\t11\tPlantation_Intense\t5.68E-12\n",
    "Plants\tPlantae\t12.5\tPlantation_MinimalLight\t3.96E-12\n",
    "Plants\tPlantae\t14\tUrban_Intense\t5.84E-12\n",
    "Plants\tPlantae\t15\tUrban_Light\t2.62E-13\n",
    "Plants\tPlantae\t16\tUrban_Minimal\t0\n",
    "\"\"\"\n",
    "cf_df = pd.read_csv(StringIO(cf_text), sep=r\"\\s+\", engine=\"python\")\n",
    "\n",
    "# --- 2) Aggregate to one CF per habitat ---\n",
    "# Choice: mean across species groups (change to .sum() if you want to sum taxa)\n",
    "cf_by_habitat = (cf_df.groupby(\"habitat\")[\"CF_occ_avg_glo\"]\n",
    "                        .mean())  # or .sum()\n",
    "\n",
    "# --- 3) Your flow→habitat mapping ---\n",
    "occupation_flows = {\n",
    "    'Occupation, annual crop': 'Cropland_Intense',\n",
    "    'Occupation, annual crop, flooded crop': 'Cropland_Intense',\n",
    "    'Occupation, annual crop, greenhouse': 'Urban_Light',\n",
    "    'Occupation, annual crop, irrigated': 'Cropland_Intense',\n",
    "    'Occupation, annual crop, irrigated, extensive': 'Cropland_Light',\n",
    "    'Occupation, annual crop, irrigated, intensive': 'Cropland_Intense',\n",
    "    'Occupation, annual crop, non-irrigated': 'Cropland_Intense',\n",
    "    'Occupation, annual crop, non-irrigated, extensive': 'Cropland_Minimal',\n",
    "    'Occupation, annual crop, non-irrigated, intensive': 'Cropland_Intense',\n",
    "    'Occupation, arable land, unspecified use': 'Cropland_Intense',\n",
    "    'Occupation, construction site': 'Urban_Intense',\n",
    "    'Occupation, cropland fallow (non-use)': 'Cropland_Minimal',\n",
    "    'Occupation, dump site': 'Urban_Intense',\n",
    "    'Occupation, field margin/hedgerow': 'Cropland_Minimal',\n",
    "    'Occupation, forest, extensive': 'Pasture_Light',\n",
    "    'Occupation, forest, intensive': 'Managed_forest_Intense',\n",
    "    'Occupation, forest, primary (non-use)': 'Managed_forest_Minimal',\n",
    "    'Occupation, forest, secondary (non-use)': 'Pasture_Light',\n",
    "    'Occupation, forest, unspecified': 'Managed_forest_Intense',\n",
    "    'Occupation, grassland, natural (non-use)': 'Pasture_Minimal',\n",
    "    'Occupation, grassland, natural, for livestock grazing': 'Pasture_Minimal',\n",
    "    'Occupation, heterogeneous, agricultural': 'Cropland_Minimal',\n",
    "    'Occupation, industrial area': 'Urban_Intense',\n",
    "    'Occupation, mineral extraction site': 'Urban_Intense',\n",
    "    'Occupation, pasture, man made': 'Pasture_Intense',\n",
    "    'Occupation, pasture, man made, extensive': 'Pasture_Light',\n",
    "    'Occupation, pasture, man made, intensive': 'Pasture_Intense',\n",
    "    'Occupation, permanent crop': 'Cropland_Intense',\n",
    "    'Occupation, permanent crop, irrigated': 'Cropland_Intense',\n",
    "    'Occupation, permanent crop, irrigated, extensive': 'Cropland_Light',\n",
    "    'Occupation, permanent crop, irrigated, intensive': 'Cropland_Intense',\n",
    "    'Occupation, permanent crop, non-irrigated': 'Cropland_Intense',\n",
    "    'Occupation, permanent crop, non-irrigated, extensive': 'Cropland_Minimal',\n",
    "    'Occupation, permanent crop, non-irrigated, intensive': 'Cropland_Intense',\n",
    "    'Occupation, shrub land, sclerophyllous': 'Managed_forest_Minimal',\n",
    "    'Occupation, traffic area, rail network': 'Urban_Intense',\n",
    "    'Occupation, traffic area, rail/road embankment': 'Urban_Light',\n",
    "    'Occupation, traffic area, road network': 'Urban_Intense',\n",
    "    'Occupation, unspecified': 'Urban_Intense',\n",
    "    'Occupation, unspecified, natural (non-use)': 'Pasture_Minimal',\n",
    "    'Occupation, urban, continuously built': 'Urban_Intense',\n",
    "    'Occupation, urban, discontinuously built': 'Urban_Light',\n",
    "    'Occupation, urban, green area': 'Urban_Minimal',\n",
    "    'Occupation, urban/industrial fallow (non-use)': 'Urban_Light',\n",
    "}\n",
    "\n",
    "# --- 4) Build the Global df using the mapping (replaces your 0.307 line) ---\n",
    "df_global = df_table.copy()\n",
    "\n",
    "# Map flow name -> habitat key (assuming the occupation flow name is in 'supplier name')\n",
    "df_global[\"habitat_key\"] = df_global[\"supplier name\"].map(occupation_flows)\n",
    "\n",
    "# Map habitat -> CF value from lookup\n",
    "df_global[\"CF (50th)\"] = df_global[\"habitat_key\"].map(cf_by_habitat)\n",
    "\n",
    "# Fallback for flows that didn't map (keep a constant so the plot doesn't break)\n",
    "fallback_cf = 0.0  # or a small default like 0.0; set to np.nan if you prefer to drop them\n",
    "df_global[\"CF (50th)\"] = df_global[\"CF (50th)\"].fillna(fallback_cf)\n",
    "\n",
    "# Recompute impact for Global case\n",
    "df_global[\"impact (50th)\"] = df_global[\"amount\"] * df_global[\"CF (50th)\"]\n",
    "\n",
    "# This is what you will plot as \"Global\" in (d):\n",
    "total_global = df_global[\"impact (50th)\"].sum()\n",
    "\n",
    "\n",
    "total_regionalized = df_table.copy()\n",
    "regional_mean = total_regionalized[\"impact (50th)\"].sum()\n",
    "regional_min = total_regionalized[f\"impact {lower_percentile}\"].sum() if has_imp_percentiles else regional_mean\n",
    "regional_max = total_regionalized[f\"impact {top_percentile}\"].sum() if has_imp_percentiles else regional_mean\n",
    "\n",
    "ax_d.bar([\"Global\"], [total_global], color=\"gray\", label=\"Global (CF=0.307)\", width=.6)\n",
    "ax_d.bar(\n",
    "    1,\n",
    "    regional_mean,\n",
    "    yerr=None if not has_imp_percentiles else [[np.clip(regional_mean - regional_min, 0, None)],\n",
    "                                               [np.clip(regional_max - regional_mean, 0, None)]],\n",
    "    capsize=4,\n",
    "    width=.6,\n",
    "    label='Regionalized'\n",
    ")\n",
    "\n",
    "ax_d.set_title(\"d) LCIA score\")\n",
    "ax_d.set_ylabel(\"PDF/kg H$_2$\")\n",
    "ax_d.set_ylim(0, regional_mean * 4\n",
    "              )\n",
    "ax_d.set_xticks([0, 1])\n",
    "ax_d.set_xticklabels([\"Global\", \"Regionalized\"])\n",
    "\n",
    "handles_d, labels_d = ax_d.get_legend_handles_labels()\n",
    "if has_imp_percentiles:\n",
    "    handles_d.append(errorbar_legend)\n",
    "    labels_d.append('25–75% CI')\n",
    "ax_d.legend(handles=handles_d, labels=labels_d, loc='upper left', fontsize=7)\n",
    "\n",
    "# --- Layout & export ---\n",
    "plt.tight_layout(rect=[0, 0.03, 1, 0.97])\n",
    "plt.subplots_adjust(hspace=0.3, wspace=0.3)\n",
    "plt.savefig(\"figure_1.png\", bbox_inches=\"tight\", dpi=150)\n",
    "plt.show()\n"
   ]
  },
  {
   "cell_type": "code",
   "execution_count": null,
   "id": "e32c3138fa32aa78",
   "metadata": {},
   "outputs": [],
   "source": []
  }
 ],
 "metadata": {
  "kernelspec": {
   "display_name": "Python 3 (ipykernel)",
   "language": "python",
   "name": "python3"
  },
  "language_info": {
   "codemirror_mode": {
    "name": "ipython",
    "version": 3
   },
   "file_extension": ".py",
   "mimetype": "text/x-python",
   "name": "python",
   "nbconvert_exporter": "python",
   "pygments_lexer": "ipython3",
   "version": "3.11.14"
  }
 },
 "nbformat": 4,
 "nbformat_minor": 5
}

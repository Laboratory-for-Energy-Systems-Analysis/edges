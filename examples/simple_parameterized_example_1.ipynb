{
 "cells": [
  {
   "cell_type": "markdown",
   "metadata": {},
   "source": [
    "# Use examples of [edges](https://github.com/romainsacchi/edges)\n",
    "\n",
    "Author: [romainsacchi](https://github.com/romainsacchi)\n",
    "\n",
    "This notebook shows examples on how to use `edge` to use exchange-specific\n",
    "characterization factors in the characterization matrix of `bw2calc`, combining the use of exchange names and locations.\n",
    "\n",
    "## Requirements\n",
    "\n",
    "* **Pyhton 3.10 or higher (up to 3.11) is highly recommended**"
   ]
  },
  {
   "cell_type": "markdown",
   "metadata": {},
   "source": [
    "# Use case with [brightway2](https://brightway.dev/)\n",
    "\n",
    "`brightway2` is an open source LCA framework for Python.\n",
    "To use `premise` from `brightway2`, it requires that you have an activated `brightway2` project with a `biosphere3` database as well as an [ecoinvent](https://ecoinvent.prg) v.3 cut-off or consequential database registered in that project. Please refer to the brightway [documentation](https://brightway.dev) if you do not know how to create a project and install ecoinvent."
   ]
  },
  {
   "cell_type": "code",
   "execution_count": 1,
   "metadata": {
    "ExecuteTime": {
     "end_time": "2025-03-20T10:50:53.663872Z",
     "start_time": "2025-03-20T10:50:52.437151Z"
    }
   },
   "outputs": [],
   "source": [
    "from edges import EdgeLCIA, get_available_methods\n",
    "import bw2data"
   ]
  },
  {
   "cell_type": "markdown",
   "metadata": {},
   "source": [
    "One can simply build its own LCIA file.\n",
    "In this example, we will consider the use of parameters (saved under `lcia_example_3.json`).\n",
    "Here, we can see that the evaluation of the CF for methane and dinitrogen monoxide depends on the value of the parameter `co2ppm`. It is a simple approximation of the GWP100 factor of these gases as a function of the atmospheric CO₂ concentration."
   ]
  },
  {
   "cell_type": "code",
   "execution_count": 2,
   "metadata": {
    "ExecuteTime": {
     "end_time": "2025-03-19T11:14:54.205998Z",
     "start_time": "2025-03-19T11:14:54.199900Z"
    }
   },
   "outputs": [
    {
     "data": {
      "text/plain": [
       "[{'supplier': {'name': 'Carbon dioxide',\n",
       "   'operator': 'startswith',\n",
       "   'matrix': 'biosphere'},\n",
       "  'consumer': {'matrix': 'technosphere', 'type': 'process'},\n",
       "  'value': '1.0'},\n",
       " {'supplier': {'name': 'Methane, fossil',\n",
       "   'operator': 'contains',\n",
       "   'matrix': 'biosphere'},\n",
       "  'consumer': {'matrix': 'technosphere', 'type': 'process'},\n",
       "  'value': '28 * (1 + 0.001 * (co2ppm - 410))'},\n",
       " {'supplier': {'name': 'Dinitrogen monoxide',\n",
       "   'operator': 'equals',\n",
       "   'matrix': 'biosphere'},\n",
       "  'consumer': {'matrix': 'technosphere', 'type': 'process'},\n",
       "  'value': '265 * (1 + 0.0005 * (co2ppm - 410))'}]"
      ]
     },
     "execution_count": 2,
     "metadata": {},
     "output_type": "execute_result"
    }
   ],
   "source": [
    "[\n",
    "  {\n",
    "    \"supplier\": {\n",
    "      \"name\": \"Carbon dioxide\",\n",
    "      \"operator\": \"startswith\",\n",
    "      \"matrix\": \"biosphere\"\n",
    "    },\n",
    "    \"consumer\": {\n",
    "      \"matrix\": \"technosphere\",\n",
    "      \"type\": \"process\"\n",
    "    },\n",
    "    \"value\": \"1.0\"\n",
    "  },\n",
    "  {\n",
    "    \"supplier\": {\n",
    "      \"name\": \"Methane, fossil\",\n",
    "      \"operator\": \"contains\",\n",
    "      \"matrix\": \"biosphere\"\n",
    "    },\n",
    "    \"consumer\": {\n",
    "      \"matrix\": \"technosphere\",\n",
    "      \"type\": \"process\"\n",
    "    },\n",
    "    \"value\": \"28 * (1 + 0.001 * (co2ppm - 410))\"\n",
    "  },\n",
    "  {\n",
    "    \"supplier\": {\n",
    "      \"name\": \"Dinitrogen monoxide\",\n",
    "      \"operator\": \"equals\",\n",
    "      \"matrix\": \"biosphere\"\n",
    "    },\n",
    "    \"consumer\": {\n",
    "      \"matrix\": \"technosphere\",\n",
    "      \"type\": \"process\"\n",
    "    },\n",
    "    \"value\": \"265 * (1 + 0.0005 * (co2ppm - 410))\"\n",
    "  }\n",
    "]"
   ]
  },
  {
   "cell_type": "markdown",
   "metadata": {},
   "source": [
    "We can instantiate the EdgeLCIA() class as usual, except that we need to pass the parameters as a dictionary.\n",
    "Then we proceed to the mapping steps. Finally, we iterate over the scenarios and evaluate the CFs."
   ]
  },
  {
   "cell_type": "code",
   "execution_count": 3,
   "metadata": {
    "ExecuteTime": {
     "end_time": "2025-03-20T10:51:25.330231Z",
     "start_time": "2025-03-20T10:51:06.285884Z"
    }
   },
   "outputs": [
    {
     "name": "stderr",
     "output_type": "stream",
     "text": [
      "/opt/homebrew/Caskroom/miniforge/base/envs/bw2/lib/python3.11/site-packages/bw2data/backends/peewee/database.py:127: UserWarning: This database is empty\n",
      "  warnings.warn(\"This database is empty\")\n"
     ]
    },
    {
     "name": "stdout",
     "output_type": "stream",
     "text": [
      "None\n"
     ]
    },
    {
     "ename": "ValueError",
     "evalue": "Invalid demand dictionary",
     "output_type": "error",
     "traceback": [
      "\u001b[31m---------------------------------------------------------------------------\u001b[39m",
      "\u001b[31mValueError\u001b[39m                                Traceback (most recent call last)",
      "\u001b[36mCell\u001b[39m\u001b[36m \u001b[39m\u001b[32mIn[3]\u001b[39m\u001b[32m, line 16\u001b[39m\n\u001b[32m     13\u001b[39m method = (\u001b[33m'\u001b[39m\u001b[33mGWP\u001b[39m\u001b[33m'\u001b[39m, \u001b[33m'\u001b[39m\u001b[33mscenario-dependent\u001b[39m\u001b[33m'\u001b[39m, \u001b[33m'\u001b[39m\u001b[33m100 years\u001b[39m\u001b[33m'\u001b[39m)\n\u001b[32m     15\u001b[39m \u001b[38;5;66;03m# Initialize LCIA\u001b[39;00m\n\u001b[32m---> \u001b[39m\u001b[32m16\u001b[39m lcia = \u001b[43mEdgeLCIA\u001b[49m\u001b[43m(\u001b[49m\n\u001b[32m     17\u001b[39m \u001b[43m   \u001b[49m\u001b[43mdemand\u001b[49m\u001b[43m=\u001b[49m\u001b[43m{\u001b[49m\u001b[43mact\u001b[49m\u001b[43m:\u001b[49m\u001b[43m \u001b[49m\u001b[32;43m1\u001b[39;49m\u001b[43m}\u001b[49m\u001b[43m,\u001b[49m\n\u001b[32m     18\u001b[39m \u001b[43m   \u001b[49m\u001b[43mfilepath\u001b[49m\u001b[43m=\u001b[49m\u001b[33;43m\"\u001b[39;49m\u001b[33;43mlcia_example_3.json\u001b[39;49m\u001b[33;43m\"\u001b[39;49m\u001b[43m,\u001b[49m\n\u001b[32m     19\u001b[39m \u001b[43m   \u001b[49m\u001b[43mparameters\u001b[49m\u001b[43m=\u001b[49m\u001b[43mparams\u001b[49m\n\u001b[32m     20\u001b[39m \u001b[43m)\u001b[49m\n\u001b[32m     22\u001b[39m \u001b[38;5;66;03m# Perform inventory calculations (once)\u001b[39;00m\n\u001b[32m     23\u001b[39m lcia.lci()\n",
      "\u001b[36mFile \u001b[39m\u001b[32m~/GitHub/edges/edges/edgelcia.py:156\u001b[39m, in \u001b[36mEdgeLCIA.__init__\u001b[39m\u001b[34m(self, demand, method, weight, parameters, scenario, filepath, allowed_functions, use_distributions, random_seed, iterations)\u001b[39m\n\u001b[32m    153\u001b[39m \u001b[38;5;28mself\u001b[39m.random_seed = random_seed \u001b[38;5;28;01mif\u001b[39;00m random_seed \u001b[38;5;129;01mis\u001b[39;00m \u001b[38;5;129;01mnot\u001b[39;00m \u001b[38;5;28;01mNone\u001b[39;00m \u001b[38;5;28;01melse\u001b[39;00m \u001b[32m42\u001b[39m\n\u001b[32m    154\u001b[39m \u001b[38;5;28mself\u001b[39m.random_state = np.random.default_rng(\u001b[38;5;28mself\u001b[39m.random_seed)\n\u001b[32m--> \u001b[39m\u001b[32m156\u001b[39m \u001b[38;5;28mself\u001b[39m.lca = \u001b[43mbw2calc\u001b[49m\u001b[43m.\u001b[49m\u001b[43mLCA\u001b[49m\u001b[43m(\u001b[49m\u001b[43mdemand\u001b[49m\u001b[43m=\u001b[49m\u001b[38;5;28;43mself\u001b[39;49m\u001b[43m.\u001b[49m\u001b[43mdemand\u001b[49m\u001b[43m)\u001b[49m\n\u001b[32m    157\u001b[39m \u001b[38;5;28mself\u001b[39m.load_raw_lcia_data()\n\u001b[32m    158\u001b[39m \u001b[38;5;28mself\u001b[39m.cfs_mapping = []\n",
      "\u001b[36mFile \u001b[39m\u001b[32m/opt/homebrew/Caskroom/miniforge/base/envs/bw2/lib/python3.11/site-packages/bw2calc/lca.py:73\u001b[39m, in \u001b[36mLCA.__init__\u001b[39m\u001b[34m(self, demand, method, weighting, normalization, database_filepath, log_config, presamples, seed, override_presamples_seed)\u001b[39m\n\u001b[32m     71\u001b[39m \u001b[38;5;28;01mfor\u001b[39;00m key \u001b[38;5;129;01min\u001b[39;00m demand:\n\u001b[32m     72\u001b[39m     \u001b[38;5;28;01mif\u001b[39;00m \u001b[38;5;129;01mnot\u001b[39;00m key:\n\u001b[32m---> \u001b[39m\u001b[32m73\u001b[39m         \u001b[38;5;28;01mraise\u001b[39;00m \u001b[38;5;167;01mValueError\u001b[39;00m(\u001b[33m\"\u001b[39m\u001b[33mInvalid demand dictionary\u001b[39m\u001b[33m\"\u001b[39m)\n\u001b[32m     75\u001b[39m \u001b[38;5;28;01mif\u001b[39;00m log_config:\n\u001b[32m     76\u001b[39m     create_logger(**log_config)\n",
      "\u001b[31mValueError\u001b[39m: Invalid demand dictionary"
     ]
    }
   ],
   "source": [
    "\n",
    "import bw2data\n",
    "from edges import EdgeLCIA\n",
    "\n",
    "# Select an activity from the LCA database\n",
    "bw2data.projects.set_current(\"ecoinvent-3.10-cutoff\")\n",
    "act = bw2data.Database(\"ecoinvent-3.10.1-cutoff\").random()\n",
    "print(act)\n",
    "\n",
    "# Define scenario parameters (e.g., atmospheric CO₂ concentration and time horizon)\n",
    "params = {\"co2ppm\": [410, 450, 500], \"h\": 100}\n",
    "\n",
    "# Define an LCIA method (symbolic CF expressions stored in JSON)\n",
    "method = ('GWP', 'scenario-dependent', '100 years')\n",
    "\n",
    "# Initialize LCIA\n",
    "lcia = EdgeLCIA(\n",
    "   demand={act: 1},\n",
    "   filepath=\"lcia_example_3.json\",\n",
    "   parameters=params\n",
    ")\n",
    "\n",
    "# Perform inventory calculations (once)\n",
    "lcia.lci()\n",
    "\n",
    "# Map exchanges to CF entries (once)\n",
    "lcia.map_exchanges()\n",
    "\n",
    "# Optionally, resolve geographic overlaps and disaggregations (once)\n",
    "lcia.map_aggregate_locations()\n",
    "lcia.map_dynamic_locations()\n",
    "lcia.map_remaining_locations_to_global()\n",
    "\n",
    "# Run scenarios efficiently\n",
    "results = []\n",
    "for idx in range(lcia.scenario_length):\n",
    "    lcia.evaluate_cfs(idx)\n",
    "    lcia.lcia()\n",
    "    df = lcia.generate_cf_table()\n",
    "\n",
    "    scenario_result = {\n",
    "        \"scenario\": idx,\n",
    "        \"co2ppm\": params[\"co2ppm\"][idx],\n",
    "        \"score\": lcia.score,\n",
    "        \"CF_table\": df\n",
    "    }\n",
    "    results.append(scenario_result)\n",
    "\n",
    "    print(f\"Scenario {idx+1} (CO₂ {params['co2ppm'][idx]} ppm): Impact = {lcia.score}\")"
   ]
  },
  {
   "cell_type": "code",
   "execution_count": null,
   "metadata": {},
   "outputs": [],
   "source": []
  },
  {
   "cell_type": "code",
   "execution_count": null,
   "metadata": {},
   "outputs": [],
   "source": []
  }
 ],
 "metadata": {
  "kernelspec": {
   "display_name": "Python 3 (ipykernel)",
   "language": "python",
   "name": "python3"
  },
  "language_info": {
   "codemirror_mode": {
    "name": "ipython",
    "version": 3
   },
   "file_extension": ".py",
   "mimetype": "text/x-python",
   "name": "python",
   "nbconvert_exporter": "python",
   "pygments_lexer": "ipython3",
   "version": "3.11.11"
  }
 },
 "nbformat": 4,
 "nbformat_minor": 4
}

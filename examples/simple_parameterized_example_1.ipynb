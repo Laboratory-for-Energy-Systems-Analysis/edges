{
 "cells": [
  {
   "cell_type": "markdown",
   "metadata": {},
   "source": [
    "# Use examples of [edges](https://github.com/romainsacchi/edges)\n",
    "\n",
    "Author: [romainsacchi](https://github.com/romainsacchi)\n",
    "\n",
    "This notebook shows examples on how to use `edge` to use exchange-specific\n",
    "characterization factors in the characterization matrix of `bw2calc`, combining the use of exchange names and locations.\n",
    "\n",
    "## Requirements\n",
    "\n",
    "* **Pyhton 3.10 or higher (up to 3.11) is highly recommended**"
   ]
  },
  {
   "cell_type": "markdown",
   "metadata": {},
   "source": [
    "# Use case with [brightway2](https://brightway.dev/)\n",
    "\n",
    "`brightway2` is an open source LCA framework for Python.\n",
    "To use `premise` from `brightway2`, it requires that you have an activated `brightway2` project with a `biosphere3` database as well as an [ecoinvent](https://ecoinvent.prg) v.3 cut-off or consequential database registered in that project. Please refer to the brightway [documentation](https://brightway.dev) if you do not know how to create a project and install ecoinvent."
   ]
  },
  {
   "cell_type": "code",
   "metadata": {
    "ExecuteTime": {
     "end_time": "2025-03-19T11:10:48.816042Z",
     "start_time": "2025-03-19T11:10:47.678565Z"
    }
   },
   "source": [
    "from edges import EdgeLCIA, get_available_methods\n",
    "import bw2data"
   ],
   "outputs": [],
   "execution_count": 1
  },
  {
   "metadata": {},
   "cell_type": "markdown",
   "source": [
    "One can simply build its own LCIA file.\n",
    "In this example, we will consider the use of parameters (saved under `lcia_example_3.json`).\n",
    "Here, we can see that the evaluation of the CF for methane and dinitrogen monoxide depends on the value of the parameter `co2ppm`. It is a simple approximation of the GWP100 factor of these gases as a function of the atmospheric CO₂ concentration."
   ]
  },
  {
   "metadata": {
    "ExecuteTime": {
     "end_time": "2025-03-19T11:14:54.205998Z",
     "start_time": "2025-03-19T11:14:54.199900Z"
    }
   },
   "cell_type": "code",
   "source": [
    "[\n",
    "  {\n",
    "    \"supplier\": {\n",
    "      \"name\": \"Carbon dioxide\",\n",
    "      \"operator\": \"startswith\",\n",
    "      \"matrix\": \"biosphere\"\n",
    "    },\n",
    "    \"consumer\": {\n",
    "      \"matrix\": \"technosphere\",\n",
    "      \"type\": \"process\"\n",
    "    },\n",
    "    \"value\": \"1.0\"\n",
    "  },\n",
    "  {\n",
    "    \"supplier\": {\n",
    "      \"name\": \"Methane, fossil\",\n",
    "      \"operator\": \"contains\",\n",
    "      \"matrix\": \"biosphere\"\n",
    "    },\n",
    "    \"consumer\": {\n",
    "      \"matrix\": \"technosphere\",\n",
    "      \"type\": \"process\"\n",
    "    },\n",
    "    \"value\": \"28 * (1 + 0.001 * (co2ppm - 410))\"\n",
    "  },\n",
    "  {\n",
    "    \"supplier\": {\n",
    "      \"name\": \"Dinitrogen monoxide\",\n",
    "      \"operator\": \"equals\",\n",
    "      \"matrix\": \"biosphere\"\n",
    "    },\n",
    "    \"consumer\": {\n",
    "      \"matrix\": \"technosphere\",\n",
    "      \"type\": \"process\"\n",
    "    },\n",
    "    \"value\": \"265 * (1 + 0.0005 * (co2ppm - 410))\"\n",
    "  }\n",
    "]"
   ],
   "outputs": [
    {
     "data": {
      "text/plain": [
       "[{'supplier': {'name': 'Carbon dioxide',\n",
       "   'operator': 'startswith',\n",
       "   'matrix': 'biosphere'},\n",
       "  'consumer': {'matrix': 'technosphere', 'type': 'process'},\n",
       "  'value': '1.0'},\n",
       " {'supplier': {'name': 'Methane, fossil',\n",
       "   'operator': 'contains',\n",
       "   'matrix': 'biosphere'},\n",
       "  'consumer': {'matrix': 'technosphere', 'type': 'process'},\n",
       "  'value': '28 * (1 + 0.001 * (co2ppm - 410))'},\n",
       " {'supplier': {'name': 'Dinitrogen monoxide',\n",
       "   'operator': 'equals',\n",
       "   'matrix': 'biosphere'},\n",
       "  'consumer': {'matrix': 'technosphere', 'type': 'process'},\n",
       "  'value': '265 * (1 + 0.0005 * (co2ppm - 410))'}]"
      ]
     },
     "execution_count": 1,
     "metadata": {},
     "output_type": "execute_result"
    }
   ],
   "execution_count": 1
  },
  {
   "metadata": {},
   "cell_type": "markdown",
   "source": [
    "We can instantiate the EdgeLCIA() class as usual, except that we need to pass the parameters as a dictionary.\n",
    "Then we proceed to the mapping steps. Finally, we iterate over the scenarios and evaluate the CFs."
   ]
  },
  {
   "metadata": {
    "ExecuteTime": {
     "end_time": "2025-03-19T11:18:17.676580Z",
     "start_time": "2025-03-19T11:17:58.978160Z"
    }
   },
   "cell_type": "code",
   "source": [
    "\n",
    "import bw2data\n",
    "from edges import EdgeLCIA\n",
    "\n",
    "# Select an activity from the LCA database\n",
    "bw2data.projects.set_current(\"ecoinvent-3.10-cutoff\")\n",
    "act = bw2data.Database(\"ecoinvent-3.10.1-cutoff\").random()\n",
    "print(act)\n",
    "\n",
    "# Define scenario parameters (e.g., atmospheric CO₂ concentration and time horizon)\n",
    "params = {\"co2ppm\": [410, 450, 500], \"h\": 100}\n",
    "\n",
    "# Define an LCIA method (symbolic CF expressions stored in JSON)\n",
    "method = ('GWP', 'scenario-dependent', '100 years')\n",
    "\n",
    "# Initialize LCIA\n",
    "lcia = EdgeLCIA(\n",
    "   demand={act: 1},\n",
    "   filepath=\"lcia_example_3.json\",\n",
    "   parameters=params\n",
    ")\n",
    "\n",
    "# Perform inventory calculations (once)\n",
    "lcia.lci()\n",
    "\n",
    "# Map exchanges to CF entries (once)\n",
    "lcia.map_exchanges()\n",
    "\n",
    "# Optionally, resolve geographic overlaps and disaggregations (once)\n",
    "lcia.map_aggregate_locations()\n",
    "lcia.map_dynamic_locations()\n",
    "lcia.map_remaining_locations_to_global()\n",
    "\n",
    "# Run scenarios efficiently\n",
    "results = []\n",
    "for idx in range(lcia.scenario_length):\n",
    "    lcia.evaluate_cfs(idx)\n",
    "    lcia.lcia()\n",
    "    df = lcia.generate_cf_table()\n",
    "\n",
    "    scenario_result = {\n",
    "        \"scenario\": idx,\n",
    "        \"co2ppm\": params[\"co2ppm\"][idx],\n",
    "        \"score\": lcia.score,\n",
    "        \"CF_table\": df\n",
    "    }\n",
    "    results.append(scenario_result)\n",
    "\n",
    "    print(f\"Scenario {idx+1} (CO₂ {params['co2ppm'][idx]} ppm): Impact = {lcia.score}\")"
   ],
   "outputs": [
    {
     "name": "stdout",
     "output_type": "stream",
     "text": [
      "'deep well drilling, for deep geothermal power' (meter, WECC, None)\n"
     ]
    },
    {
     "name": "stderr",
     "output_type": "stream",
     "text": [
      "/opt/homebrew/Caskroom/miniforge/base/envs/bw2/lib/python3.11/site-packages/scikits/umfpack/umfpack.py:736: UmfpackWarning: (almost) singular matrix! (estimated cond. number: 4.83e+13)\n",
      "  warnings.warn(msg, UmfpackWarning)\n"
     ]
    },
    {
     "name": "stdout",
     "output_type": "stream",
     "text": [
      "Identifying eligible exchanges...\n"
     ]
    },
    {
     "name": "stderr",
     "output_type": "stream",
     "text": [
      "100%|██████████| 3/3 [00:00<00:00, 33.84it/s]"
     ]
    },
    {
     "name": "stdout",
     "output_type": "stream",
     "text": [
      "Handling static regions...\n"
     ]
    },
    {
     "name": "stderr",
     "output_type": "stream",
     "text": [
      "\n",
      "Processing locations: 100%|██████████| 1/1 [00:00<00:00, 909.83it/s]\n",
      "Processing locations: 0it [00:00, ?it/s]\n"
     ]
    },
    {
     "name": "stdout",
     "output_type": "stream",
     "text": [
      "Handling dynamic regions...\n"
     ]
    },
    {
     "name": "stderr",
     "output_type": "stream",
     "text": [
      "Processing dynamic edges: 100%|██████████| 323121/323121 [00:00<00:00, 440435.39it/s]\n",
      "Processing dynamic edges: 0it [00:00, ?it/s]\n"
     ]
    },
    {
     "name": "stdout",
     "output_type": "stream",
     "text": [
      "Handling remaining exchanges...\n"
     ]
    },
    {
     "name": "stderr",
     "output_type": "stream",
     "text": [
      "Processing remaining global edges: 100%|██████████| 323121/323121 [00:00<00:00, 379881.76it/s]\n",
      "Processing remaining global edges: 0it [00:00, ?it/s]\n"
     ]
    },
    {
     "name": "stdout",
     "output_type": "stream",
     "text": [
      "Scenario 1 (CO₂ 410 ppm): Impact = 2740.538529597275\n",
      "Scenario 2 (CO₂ 450 ppm): Impact = 2748.3996361101395\n",
      "Scenario 3 (CO₂ 500 ppm): Impact = 2758.2260192512194\n"
     ]
    }
   ],
   "execution_count": 6
  },
  {
   "metadata": {},
   "cell_type": "code",
   "outputs": [],
   "execution_count": null,
   "source": ""
  }
 ],
 "metadata": {
  "kernelspec": {
   "display_name": "Python 3 (ipykernel)",
   "language": "python",
   "name": "python3"
  },
  "language_info": {
   "codemirror_mode": {
    "name": "ipython",
    "version": 3
   },
   "file_extension": ".py",
   "mimetype": "text/x-python",
   "name": "python",
   "nbconvert_exporter": "python",
   "pygments_lexer": "ipython3",
   "version": "3.11.8"
  }
 },
 "nbformat": 4,
 "nbformat_minor": 4
}

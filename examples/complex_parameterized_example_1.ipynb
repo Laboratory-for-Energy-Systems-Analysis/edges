{
 "cells": [
  {
   "cell_type": "markdown",
   "metadata": {},
   "source": [
    "# Use examples of [edges](https://github.com/romainsacchi/edges)\n",
    "\n",
    "Author: [romainsacchi](https://github.com/romainsacchi)\n",
    "\n",
    "This notebook shows examples on how to use `edge` to use exchange-specific\n",
    "characterization factors in the characterization matrix of `bw2calc`, combining the use of exchange names and custom functions.\n",
    "\n",
    "## Requirements\n",
    "\n",
    "* **Pyhton 3.10 or higher (up to 3.11) is highly recommended**"
   ]
  },
  {
   "cell_type": "markdown",
   "metadata": {},
   "source": [
    "# Use case with [brightway2](https://brightway.dev/)\n",
    "\n",
    "`brightway2` is an open source LCA framework for Python.\n",
    "To use `premise` from `brightway2`, it requires that you have an activated `brightway2` project with a `biosphere3` database as well as an [ecoinvent](https://ecoinvent.prg) v.3 cut-off or consequential database registered in that project. Please refer to the brightway [documentation](https://brightway.dev) if you do not know how to create a project and install ecoinvent."
   ]
  },
  {
   "cell_type": "code",
   "metadata": {
    "ExecuteTime": {
     "end_time": "2025-03-24T13:21:11.704219Z",
     "start_time": "2025-03-24T13:21:10.204909Z"
    }
   },
   "source": [
    "from edges import EdgeLCIA, get_available_methods\n",
    "import bw2data"
   ],
   "outputs": [],
   "execution_count": 1
  },
  {
   "metadata": {},
   "cell_type": "markdown",
   "source": [
    "In this example, we will consider a more complex use of parameters based on thre previous example (saved under `lcia_example_4.json`) together with user-defined functions.\n",
    "Here, we define the CF for methane and dinitrogen monoxide based on `H` (time horizon) and the gas concentration."
   ]
  },
  {
   "metadata": {
    "ExecuteTime": {
     "end_time": "2025-03-24T13:21:13.275883Z",
     "start_time": "2025-03-24T13:21:13.269962Z"
    }
   },
   "cell_type": "code",
   "source": [
    "import numpy as np\n",
    "\n",
    "# Physical constants\n",
    "M_atm = 5.15e18  # kg, total mass of Earth's atmosphere\n",
    "M_air = 28.96    # g/mol, average molar mass of air\n",
    "\n",
    "# Gas-specific molecular weights (g/mol)\n",
    "M_gas = {\n",
    "    'CO2': 44.01,\n",
    "    'CH4': 16.04,\n",
    "    'N2O': 44.013\n",
    "}\n",
    "\n",
    "# IPCC concentration parameters (Myhre et al. 1998 / IPCC AR6)\n",
    "RF_COEFF = {\n",
    "    'CH4': 0.036,  # W·m⁻²·ppb⁻½ for CH4\n",
    "    'N2O': 0.12    # W·m⁻²·ppb⁻½ for N2O\n",
    "}\n",
    "\n",
    "# Reference atmospheric concentrations (IPCC AR6, ~2019)\n",
    "C_REF = {\n",
    "    'CH4': 1866,  # ppb\n",
    "    'N2O': 332    # ppb\n",
    "}\n",
    "\n",
    "# Indirect forcing factor for methane (IPCC AR6)\n",
    "INDIRECT_FACTOR = {\n",
    "    'CH4': 1.65,\n",
    "    'N2O': 1.0\n",
    "}\n",
    "\n",
    "# Gas-specific atmospheric lifetimes (years, IPCC AR6)\n",
    "TAU_GAS = {\n",
    "    'CH4': 11.8,\n",
    "    'N2O': 109\n",
    "}\n",
    "\n",
    "# CO2 impulse response function parameters (IPCC AR5/AR6)\n",
    "CO2_IRF = {\n",
    "    'a0': 0.2173,\n",
    "    'a': [0.2240, 0.2824, 0.2763],\n",
    "    'tau': [394.4, 36.54, 4.304]\n",
    "}\n",
    "\n",
    "# Convert concentration-based radiative efficiency to mass-based (W·m⁻²·kg⁻¹)\n",
    "def convert_ppb_to_mass_rf(a_ppb, gas):\n",
    "    return a_ppb * (M_atm / M_gas[gas]) * (M_air / 1e9)\n",
    "\n",
    "# Calculate concentration-dependent radiative efficiency\n",
    "def radiative_efficiency_concentration(gas, concentration_ppb):\n",
    "    alpha = RF_COEFF[gas]\n",
    "    return (alpha / (2 * np.sqrt(concentration_ppb))) * INDIRECT_FACTOR[gas]\n",
    "\n",
    "# AGWP for CO2 (mass-based)\n",
    "def AGWP_CO2(H):\n",
    "    integral_CO2 = CO2_IRF['a0'] * H + sum(\n",
    "        a * tau * (1 - np.exp(-H / tau))\n",
    "        for a, tau in zip(CO2_IRF['a'], CO2_IRF['tau'])\n",
    "    )\n",
    "    am_CO2 = convert_ppb_to_mass_rf(1.37e-5, 'CO2')  # fixed IPCC radiative efficiency for CO2\n",
    "    return am_CO2 * integral_CO2\n",
    "\n",
    "# AGWP for gas at given concentration\n",
    "def AGWP_gas(gas, H, concentration_ppb):\n",
    "    aa_gas = radiative_efficiency_concentration(gas, concentration_ppb)\n",
    "    am_gas = convert_ppb_to_mass_rf(aa_gas, gas)\n",
    "    tau_gas = TAU_GAS[gas]\n",
    "    return am_gas * tau_gas * (1 - np.exp(-H / tau_gas))\n",
    "\n",
    "# Calculate concentration-dependent GWP\n",
    "def GWP(gas, H, concentration_ppb):\n",
    "    AGWP_g = AGWP_gas(gas, H, concentration_ppb)\n",
    "    AGWP_ref = AGWP_CO2(H)\n",
    "    return AGWP_g / AGWP_ref\n"
   ],
   "outputs": [],
   "execution_count": 2
  },
  {
   "metadata": {
    "ExecuteTime": {
     "end_time": "2025-03-24T13:21:15.297209Z",
     "start_time": "2025-03-24T13:21:15.290880Z"
    }
   },
   "cell_type": "code",
   "source": "GWP('CH4', 100, 1911)",
   "outputs": [
    {
     "data": {
      "text/plain": [
       "30.660731597024444"
      ]
     },
     "execution_count": 3,
     "metadata": {},
     "output_type": "execute_result"
    }
   ],
   "execution_count": 3
  },
  {
   "metadata": {},
   "cell_type": "markdown",
   "source": "We do not get exactly 28 for H=100, as the IPCC does, because there are some carbon feedback loops and other kind of complex and non-linear interactions that are not considered in this simple model."
  },
  {
   "metadata": {},
   "cell_type": "markdown",
   "source": "Our JSON file looks like this below. This time, we call `GWP()` and pass it a few parameters (e.g., gas type, time horizon, and gas concentration)."
  },
  {
   "metadata": {
    "ExecuteTime": {
     "end_time": "2025-03-19T11:14:54.205998Z",
     "start_time": "2025-03-19T11:14:54.199900Z"
    }
   },
   "cell_type": "code",
   "source": [
    "[\n",
    "  {\n",
    "    \"supplier\": {\n",
    "      \"name\": \"Carbon dioxide\",\n",
    "      \"operator\": \"startswith\",\n",
    "      \"matrix\": \"biosphere\"\n",
    "    },\n",
    "    \"consumer\": {\n",
    "      \"matrix\": \"technosphere\",\n",
    "      \"type\": \"process\"\n",
    "    },\n",
    "    \"value\": \"1.0\"\n",
    "  },\n",
    "  {\n",
    "      \"supplier\": {\n",
    "        \"name\": \"Methane, fossil\",\n",
    "        \"operator\": \"contains\",\n",
    "        \"matrix\": \"biosphere\"\n",
    "      },\n",
    "      \"consumer\": {\n",
    "        \"matrix\": \"technosphere\",\n",
    "        \"type\": \"process\"\n",
    "      },\n",
    "      \"value\": \"GWP('CH4',H, C_CH4)\"\n",
    "    },\n",
    "  {\n",
    "    \"supplier\": {\n",
    "      \"name\": \"Dinitrogen monoxide\",\n",
    "      \"operator\": \"equals\",\n",
    "      \"matrix\": \"biosphere\"\n",
    "    },\n",
    "    \"consumer\": {\n",
    "      \"matrix\": \"technosphere\",\n",
    "      \"type\": \"process\"\n",
    "    },\n",
    "    \"value\": \"GWP('N2O',H, C_N2O)\"\n",
    "  }\n",
    "]"
   ],
   "outputs": [
    {
     "data": {
      "text/plain": [
       "[{'supplier': {'name': 'Carbon dioxide',\n",
       "   'operator': 'startswith',\n",
       "   'matrix': 'biosphere'},\n",
       "  'consumer': {'matrix': 'technosphere', 'type': 'process'},\n",
       "  'value': '1.0'},\n",
       " {'supplier': {'name': 'Methane, fossil',\n",
       "   'operator': 'contains',\n",
       "   'matrix': 'biosphere'},\n",
       "  'consumer': {'matrix': 'technosphere', 'type': 'process'},\n",
       "  'value': '28 * (1 + 0.001 * (co2ppm - 410))'},\n",
       " {'supplier': {'name': 'Dinitrogen monoxide',\n",
       "   'operator': 'equals',\n",
       "   'matrix': 'biosphere'},\n",
       "  'consumer': {'matrix': 'technosphere', 'type': 'process'},\n",
       "  'value': '265 * (1 + 0.0005 * (co2ppm - 410))'}]"
      ]
     },
     "execution_count": 1,
     "metadata": {},
     "output_type": "execute_result"
    }
   ],
   "execution_count": 1
  },
  {
   "metadata": {},
   "cell_type": "markdown",
   "source": [
    "We can instantiate the EdgeLCIA() class as usual, except that we need to pass the parameters as a dictionary.\n",
    "Then we proceed to the mapping steps. Finally, we iterate over the scenarios and evaluate the CFs."
   ]
  },
  {
   "metadata": {
    "ExecuteTime": {
     "end_time": "2025-03-24T13:24:20.257247Z",
     "start_time": "2025-03-24T13:24:00.494004Z"
    }
   },
   "cell_type": "code",
   "source": [
    "\n",
    "import bw2data\n",
    "from edges import EdgeLCIA\n",
    "\n",
    "# Select an activity from the LCA database\n",
    "bw2data.projects.set_current(\"ecoinvent-3.10-cutoff\")\n",
    "act = bw2data.Database(\"ecoinvent-3.10.1-cutoff\").random()\n",
    "print(act)\n",
    "\n",
    "# Define the new allowed function\n",
    "allowed_funcs = {\"GWP\": GWP}\n",
    "\n",
    "# Define scenario parameters (e.g., atmospheric CO₂ concentration and time horizon)\n",
    "params = {\n",
    "    \"H\": 100,\n",
    "    \"C_CH4\": [1991, 2000, 2100], # possible ppb concentrations in the future\n",
    "    \"C_N2O\": [332, 340, 350] # possible ppb concentrations in the future\n",
    "}\n",
    "\n",
    "# Define an LCIA method (symbolic CF expressions stored in JSON)\n",
    "method = ('GWP', 'scenario-dependent', '100 years')\n",
    "\n",
    "# Initialize LCIA\n",
    "lcia = EdgeLCIA(\n",
    "   demand={act: 1},\n",
    "   filepath=\"lcia_example_4.json\",\n",
    "   parameters=params,\n",
    "   allowed_functions=allowed_funcs\n",
    ")\n",
    "\n",
    "# Perform inventory calculations (once)\n",
    "lcia.lci()\n",
    "\n",
    "# Map exchanges to CF entries (once)\n",
    "lcia.map_exchanges()\n",
    "\n",
    "# Optionally, resolve geographic overlaps and disaggregations (once)\n",
    "lcia.map_aggregate_locations()\n",
    "lcia.map_dynamic_locations()\n",
    "lcia.map_remaining_locations_to_global()\n",
    "\n",
    "# Run scenarios efficiently\n",
    "results = []\n",
    "for idx in range(lcia.scenario_length):\n",
    "    lcia.evaluate_cfs(idx)\n",
    "    lcia.lcia()\n",
    "    df = lcia.generate_cf_table()\n",
    "\n",
    "    scenario_result = {\n",
    "        \"scenario\": idx,\n",
    "        \"score\": lcia.score,\n",
    "        \"CF_table\": df\n",
    "    }\n",
    "    results.append(scenario_result)\n",
    "\n",
    "    print(f\"Scenario {idx+1}: Impact = {lcia.score}\")"
   ],
   "outputs": [
    {
     "name": "stdout",
     "output_type": "stream",
     "text": [
      "'market for selective coat, copper sheet, black majic' (square meter, GLO, None)\n"
     ]
    },
    {
     "name": "stderr",
     "output_type": "stream",
     "text": [
      "/opt/homebrew/Caskroom/miniforge/base/envs/bw2/lib/python3.11/site-packages/scikits/umfpack/umfpack.py:736: UmfpackWarning: (almost) singular matrix! (estimated cond. number: 4.83e+13)\n",
      "  warnings.warn(msg, UmfpackWarning)\n"
     ]
    },
    {
     "name": "stdout",
     "output_type": "stream",
     "text": [
      "Identifying eligible exchanges...\n"
     ]
    },
    {
     "name": "stderr",
     "output_type": "stream",
     "text": [
      "100%|██████████| 3/3 [00:00<00:00, 35.90it/s]"
     ]
    },
    {
     "name": "stdout",
     "output_type": "stream",
     "text": [
      "Handling static regions...\n"
     ]
    },
    {
     "name": "stderr",
     "output_type": "stream",
     "text": [
      "\n"
     ]
    },
    {
     "name": "stdout",
     "output_type": "stream",
     "text": [
      "Handling dynamic regions...\n",
      "Handling remaining exchanges...\n"
     ]
    },
    {
     "name": "stderr",
     "output_type": "stream",
     "text": [
      "Processing remaining global edges (pass 2): 100%|██████████| 323142/323142 [00:00<00:00, 660157.96it/s]\n"
     ]
    },
    {
     "name": "stdout",
     "output_type": "stream",
     "text": [
      "Scenario 1: Impact = 1.789613057709253\n",
      "Scenario 2: Impact = 1.7890401821120638\n",
      "Scenario 3: Impact = 1.7852831824280173\n"
     ]
    }
   ],
   "execution_count": 11
  },
  {
   "metadata": {
    "ExecuteTime": {
     "end_time": "2025-03-24T13:24:26.511363Z",
     "start_time": "2025-03-24T13:24:26.499274Z"
    }
   },
   "cell_type": "code",
   "source": "scenario_result[\"CF_table\"][\"CF\"].unique()",
   "outputs": [
    {
     "data": {
      "text/plain": [
       "array([  1.        ,  29.24847381, 292.626264  ])"
      ]
     },
     "execution_count": 12,
     "metadata": {},
     "output_type": "execute_result"
    }
   ],
   "execution_count": 12
  },
  {
   "metadata": {},
   "cell_type": "code",
   "outputs": [],
   "execution_count": null,
   "source": ""
  }
 ],
 "metadata": {
  "kernelspec": {
   "display_name": "Python 3 (ipykernel)",
   "language": "python",
   "name": "python3"
  },
  "language_info": {
   "codemirror_mode": {
    "name": "ipython",
    "version": 3
   },
   "file_extension": ".py",
   "mimetype": "text/x-python",
   "name": "python",
   "nbconvert_exporter": "python",
   "pygments_lexer": "ipython3",
   "version": "3.11.8"
  }
 },
 "nbformat": 4,
 "nbformat_minor": 4
}

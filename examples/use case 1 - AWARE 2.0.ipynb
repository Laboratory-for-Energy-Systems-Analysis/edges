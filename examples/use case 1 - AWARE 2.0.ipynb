{
 "cells": [
  {
   "cell_type": "markdown",
   "id": "e33447ab-c36e-45bc-9320-e703b401b7f0",
   "metadata": {},
   "source": [
    "# **Example AWARE | Use case 1**"
   ]
  },
  {
   "cell_type": "markdown",
   "id": "f0ca2759-74b2-472e-9f9e-8dbb81afba71",
   "metadata": {},
   "source": [
    "**Authors:**  \n",
    "[Romain Sacchi](mailto:romain.sacchi@psi.ch)  \n",
    "[Alvaro Hahn Menacho](mailto:alvaro.hahn-menacho@psi.ch)"
   ]
  },
  {
   "cell_type": "markdown",
   "id": "3c87910d-d850-47a0-9e0e-8a42fdbc4f8d",
   "metadata": {},
   "source": [
    "This notebook presents an example to obtain an exchange-based LCA score using the [AWARE 2.0](https://wulca-waterlca.org/aware/) method.  \n",
    "This example is part of the following publication:\n",
    "\n",
    "**Sacchi, R., Menacho, A. H., Seitfudem, G., Agez, M., Schlesinger, J., Koyamparambath, A., Saldivar, J. S., Loubet, P., & Bauer, C.** (2025). *Contextual LCIA Without the Overhead: An Exchange-based Framework for Flexible Impact Assessment.*  \n",
    "International Journal of Life Cycle Assessment.\n"
   ]
  },
  {
   "cell_type": "markdown",
   "id": "4d1b02c4-b5ad-4503-a014-1e579085838d",
   "metadata": {},
   "source": [
    "## Structure"
   ]
  },
  {
   "cell_type": "markdown",
   "id": "6792397a-ca45-4ba2-a74d-ad577b0ae615",
   "metadata": {},
   "source": [
    "1. [Import *edges* and set *bw2 project*](#sec_import_edges)\n",
    "2. [Import hydrogen production, PEM, LCI](#sec_import_h2)\n",
    "3. [Select *Functional Unit* and *method*](#sec_select_fu)\n",
    "4. [Run edges based LCA](#sec_run_edges_lca)\n",
    "5. [Export results](#sec_export_results)\n",
    "6. [Plot results](#sec_plot_results)"
   ]
  },
  {
   "cell_type": "markdown",
   "id": "c07977f3-5100-4525-af3d-2fd98654d2c2",
   "metadata": {},
   "source": [
    "<a id=\"sec_import_edges\"></a>\n",
    "# 1. Import the ``edges`` and set up a ``brightway`` project"
   ]
  },
  {
   "cell_type": "code",
   "execution_count": 1,
   "id": "e5d5d48e-c53d-447b-8fb1-0b1b7f1285fa",
   "metadata": {
    "ExecuteTime": {
     "end_time": "2025-09-06T16:57:32.284134Z",
     "start_time": "2025-09-06T16:57:26.594515Z"
    }
   },
   "outputs": [
    {
     "name": "stderr",
     "output_type": "stream",
     "text": [
      "/opt/homebrew/Caskroom/miniforge/base/envs/bw25/lib/python3.11/site-packages/scikits/__init__.py:1: UserWarning: pkg_resources is deprecated as an API. See https://setuptools.pypa.io/en/latest/pkg_resources.html. The pkg_resources package is slated for removal as early as 2025-11-30. Refrain from using this package or pin to Setuptools<81.\n",
      "  __import__('pkg_resources').declare_namespace(__name__)\n"
     ]
    },
    {
     "name": "stdout",
     "output_type": "stream",
     "text": [
      "\u001b[2m13:02:30+0200\u001b[0m [\u001b[33m\u001b[1mwarning  \u001b[0m] \u001b[1mCan't import `SimaProBlockCSVImporter` - please install `bw2io` with `pip install bw2io[multifunctional]` or install `multifunctional` and `bw_simapro_csv` manually.\u001b[0m\n"
     ]
    }
   ],
   "source": [
    "from edges import EdgeLCIA, get_available_methods, setup_package_logging\n",
    "import logging\n",
    "import bw2data, bw2io\n",
    "\n",
    "# we want the logger to log things into edges.log\n",
    "setup_package_logging(level=logging.INFO)\n",
    "# if you want full debug:\n",
    "#setup_package_logging(level=logging.DEBUG)"
   ]
  },
  {
   "cell_type": "markdown",
   "id": "0ce87893-ee71-4ebf-b90c-958726e807df",
   "metadata": {},
   "source": [
    "For our example, we activate a ``brighway`` project that contains ecoinvent 3.10 cut-off."
   ]
  },
  {
   "cell_type": "code",
   "execution_count": 2,
   "id": "a7253f27-dab8-4224-a4a1-a74789ed7ddb",
   "metadata": {},
   "outputs": [],
   "source": [
    "bw2data.projects.set_current(\"bw25_ei310\")"
   ]
  },
  {
   "cell_type": "markdown",
   "id": "56dbab51-e9f9-4db1-861d-6637c27e8a77",
   "metadata": {},
   "source": [
    "<a id=\"sec_import_h2\"></a>\n",
    "# 2. Import hydrogen production, PEM, LCI\n",
    "\n",
    "To illustrate our water footprint case, we need to import some inventories representing the production of hydrogen using a PEM electrolyzer, powered with offshore wind power in France. The inventories are provided in this repository (``lci-hydrogen-electrolysis-ei310.xlsx``)."
   ]
  },
  {
   "cell_type": "code",
   "execution_count": 5,
   "id": "0b0340f8-dc2d-4aa6-b7f3-a09ef24cbd07",
   "metadata": {},
   "outputs": [
    {
     "name": "stdout",
     "output_type": "stream",
     "text": [
      "Extracted 1 worksheets in 0.04 seconds\n",
      "Applying strategy: csv_restore_tuples\n",
      "Applying strategy: csv_restore_booleans\n",
      "Applying strategy: csv_numerize\n",
      "Applying strategy: csv_drop_unknown\n",
      "Applying strategy: csv_add_missing_exchanges_section\n",
      "Applying strategy: normalize_units\n",
      "Applying strategy: normalize_biosphere_categories\n",
      "Applying strategy: normalize_biosphere_names\n",
      "Applying strategy: strip_biosphere_exc_locations\n",
      "Applying strategy: set_code_by_activity_hash\n",
      "Applying strategy: link_iterable_by_fields\n",
      "Applying strategy: assign_only_product_as_production\n",
      "Applying strategy: link_technosphere_by_activity_hash\n",
      "Applying strategy: drop_falsey_uncertainty_fields_but_keep_zeros\n",
      "Applying strategy: convert_uncertainty_types_to_integers\n",
      "Applying strategy: convert_activity_parameters_to_list\n",
      "Applied 16 strategies in 0.07 seconds\n",
      "Applying strategy: link_iterable_by_fields\n",
      "Applying strategy: link_iterable_by_fields\n",
      "Applying strategy: link_iterable_by_fields\n",
      "Graph statistics for `h2_pem` importer:\n",
      "11 graph nodes:\n",
      "\tNone: 11\n",
      "214 graph edges:\n",
      "\ttechnosphere: 124\n",
      "\tbiosphere: 79\n",
      "\tproduction: 11\n",
      "214 edges to the following databases:\n",
      "\tecoinvent-3.10-cutoff: 98\n",
      "\tbiosphere: 79\n",
      "\th2_pem: 37\n",
      "0 unique unlinked edges (0 total):\n",
      "\n",
      "\n",
      "Applying strategy: drop_unlinked\n",
      "Applied 1 strategies in 0.00 seconds\n",
      "\u001b[2m19:03:17+0200\u001b[0m [\u001b[33m\u001b[1mwarning  \u001b[0m] \u001b[1mNot able to determine geocollections for all datasets. This database is not ready for regionalization.\u001b[0m\n"
     ]
    },
    {
     "name": "stderr",
     "output_type": "stream",
     "text": [
      "100%|██████████████████████████████████████████| 11/11 [00:00<00:00, 652.74it/s]"
     ]
    },
    {
     "name": "stdout",
     "output_type": "stream",
     "text": [
      "\u001b[2m19:03:17+0200\u001b[0m [\u001b[32m\u001b[1minfo     \u001b[0m] \u001b[1mVacuuming database            \u001b[0m\n"
     ]
    },
    {
     "name": "stderr",
     "output_type": "stream",
     "text": [
      "\n"
     ]
    },
    {
     "name": "stdout",
     "output_type": "stream",
     "text": [
      "Created database: h2_pem\n"
     ]
    }
   ],
   "source": [
    "if \"h2_pem\" in bw2data.databases:\n",
    "    del bw2data.databases[\"h2_pem\"]\n",
    "lci = bw2io.ExcelImporter(\"lci-hydrogen-electrolysis-ei310.xlsx\")\n",
    "lci.apply_strategies()\n",
    "lci.match_database(fields=[\"name\", \"reference product\", \"location\"])\n",
    "lci.match_database(\"ecoinvent-3.10-cutoff\",fields=[\"name\", \"reference product\", \"location\"])\n",
    "lci.match_database(\"biosphere\",fields=[\"name\", \"categories\"])\n",
    "lci.statistics()\n",
    "lci.drop_unlinked(i_am_reckless=True)\n",
    "if len(list(lci.unlinked)) == 0:\n",
    "    lci.write_database()\n",
    "\n",
    "# we assign manually classifications to activities\n",
    "# since it is unclear how to do that in the Excel inventory file.\n",
    "\n",
    "classifications = {\n",
    "    \"hydrogen production, gaseous, 30 bar, from PEM electrolysis, from grid electricity\": (\"CPC\", \"34210\"),\n",
    "    \"hydrogen production, gaseous, 30 bar, from PEM electrolysis, from solar photovoltaic electricity\": (\"CPC\", \"34210\"),\n",
    "    \"hydrogen production, gaseous, 30 bar, from PEM electrolysis, from onshore wind electricity\": (\"CPC\", \"34210\"),\n",
    "    \"hydrogen production, gaseous, 30 bar, from PEM electrolysis, from offshore wind electricity\": (\"CPC\", \"34210\"),\n",
    "    \"hydrogen production, gaseous, 30 bar, from PEM electrolysis, from geothermal electricity\": (\"CPC\", \"34210\"),\n",
    "    \"electrolyzer production, 1MWe, PEM, Stack\": (\"CPC\", \"4220:Construction of utility projects\"),\n",
    "    \"treatment of electrolyzer stack, 1MWe, PEM\": (\"CPC\", \"3830\"),\n",
    "    \"electrolyzer production, 1MWe, PEM, Balance of Plant\": (\"CPC\", \"4220:Construction of utility projects\"),\n",
    "    \"treatment of electrolyzer balance of plant, 1MWe, PEM\": (\"CPC\", \"3830\"),\n",
    "    \"platinum group metal, extraction and refinery operations\": (\"CPC\", \"2420\"),\n",
    "    \"deionized water production, via reverse osmosis, from brackish water\": (\"CPC\", \"34210\")\n",
    "}\n",
    "for ds in bw2data.Database(\"h2_pem\"):\n",
    "    if ds[\"name\"] in classifications:\n",
    "        ds[\"classifications\"] = [classifications[ds[\"name\"]]]\n",
    "        ds.save()\n",
    "    "
   ]
  },
  {
   "cell_type": "markdown",
   "id": "7d4e19aa-80f6-4dd3-840d-ca0bda0920de",
   "metadata": {},
   "source": [
    "<a id=\"sec_select_fu\"></a>\n",
    "# 3. Select Functional Unit and method"
   ]
  },
  {
   "cell_type": "markdown",
   "id": "869d336f-2206-446b-9898-636a2bae0473",
   "metadata": {},
   "source": [
    "### 3.1. Select FU\n",
    "We select the activity to run the LCA for. In our case, it is the production of 1 kg of hydrogen, using a PEM electrolyzer, powered with offshore wind power, in France."
   ]
  },
  {
   "cell_type": "code",
   "execution_count": 3,
   "id": "b210a5cc-45db-46dd-be6e-8d558814bf89",
   "metadata": {},
   "outputs": [
    {
     "data": {
      "text/plain": [
       "'hydrogen production, gaseous, 30 bar, from PEM electrolysis, from offshore wind electricity' (kilogram, FR, None)"
      ]
     },
     "execution_count": 3,
     "metadata": {},
     "output_type": "execute_result"
    }
   ],
   "source": [
    "act = [a for a in bw2data.Database(\"h2_pem\") if a[\"name\"] == \"hydrogen production, gaseous, 30 bar, from PEM electrolysis, from offshore wind electricity\"][0]\n",
    "act"
   ]
  },
  {
   "cell_type": "markdown",
   "id": "7ddb655e-6074-4df2-9609-3f14c92e0113",
   "metadata": {},
   "source": [
    "### 3.2. Select method\n",
    "``edges`` comes with a numbers of LCIA methods. You can list them using the `get_available_methods()` function.\n",
    "We currently have four flavors of `AWARE` 2.0:\n",
    "\n",
    "* 'AWARE 2.0', 'Country', 'all', 'yearly'\n",
    "* 'AWARE 2.0', 'Country', 'irri', 'yearly'\n",
    "* 'AWARE 2.0', 'Country', 'non', 'irri', 'yearly'\n",
    "* 'AWARE 2.0', 'Country', 'unspecified', 'yearly'\n",
    "\n",
    "All four variants provide characterization factors (CFs) at the country level.\n",
    "The `irri`, `non-irri`, and `unspecified` methods distinguish between water consumption patterns: irrigation-related, non-irrigation-related, and activities where the type of consumption is unknown. This discrimination is based on CPC classification codes of the activities.\n",
    "\n",
    "The `all` method bundles these three variants into a single method: for each CF, it provides separate factors for irrigation-related consumers (e.g., farming, crop cultivation), non-irrigation activities, and cases where the consumption type cannot be specified.\n",
    "\n",
    "For more information about its implementation and use, refer to [the page about](https://edges.readthedocs.io/en/latest/methods.html#aware-2-0) AWARE in the ``edges`` documentation, and for more information about the AWARE method itself, refer to:\n",
    "\n",
    "**Seitfudem, G., Berger, M., Schmied, H. M., & Boulay, A.-M. (2025)**. *The updated and improved method for water scarcity impact assessment in LCA, AWARE2.0*. Journal of Industrial Ecology, 29, 891–907. https://doi.org/10.1111/jiec.70023\n"
   ]
  },
  {
   "cell_type": "code",
   "execution_count": 4,
   "id": "7cae387f-9f34-4933-9e04-ef5cfb9bece8",
   "metadata": {
    "scrolled": true
   },
   "outputs": [
    {
     "data": {
      "text/plain": [
       "[('AWARE 2.0', 'Country', 'all', 'yearly'),\n",
       " ('AWARE 2.0', 'Country', 'irri', 'yearly'),\n",
       " ('AWARE 2.0', 'Country', 'non', 'irri', 'yearly'),\n",
       " ('AWARE 2.0', 'Country', 'unspecified', 'yearly'),\n",
       " ('GeoPolRisk', 'elementary flows', '2024'),\n",
       " ('GeoPolRisk', 'paired', '2024'),\n",
       " ('GeoPolRisk', 'paired', '2024', 'short'),\n",
       " ('ImpactWorld+ 2.1', 'Freshwater acidification', 'damage'),\n",
       " ('ImpactWorld+ 2.1', 'Freshwater acidification', 'midpoint'),\n",
       " ('ImpactWorld+ 2.1', 'Freshwater ecotoxicity', 'damage'),\n",
       " ('ImpactWorld+ 2.1', 'Freshwater ecotoxicity', 'midpoint'),\n",
       " ('ImpactWorld+ 2.1', 'Freshwater ecotoxicity, long term', 'damage'),\n",
       " ('ImpactWorld+ 2.1', 'Freshwater ecotoxicity, long term', 'midpoint'),\n",
       " ('ImpactWorld+ 2.1', 'Freshwater ecotoxicity, short term', 'damage'),\n",
       " ('ImpactWorld+ 2.1', 'Freshwater ecotoxicity, short term', 'midpoint'),\n",
       " ('ImpactWorld+ 2.1', 'Freshwater eutrophication', 'damage'),\n",
       " ('ImpactWorld+ 2.1', 'Freshwater eutrophication', 'midpoint'),\n",
       " ('ImpactWorld+ 2.1', 'Land occupation, biodiversity', 'damage'),\n",
       " ('ImpactWorld+ 2.1', 'Land occupation, biodiversity', 'midpoint'),\n",
       " ('ImpactWorld+ 2.1', 'Land transformation, biodiversity', 'damage'),\n",
       " ('ImpactWorld+ 2.1', 'Land transformation, biodiversity', 'midpoint'),\n",
       " ('ImpactWorld+ 2.1', 'Marine ecotoxicity, long term', 'damage'),\n",
       " ('ImpactWorld+ 2.1', 'Marine ecotoxicity, long term', 'midpoint'),\n",
       " ('ImpactWorld+ 2.1', 'Marine ecotoxicity, short term', 'damage'),\n",
       " ('ImpactWorld+ 2.1', 'Marine ecotoxicity, short term', 'midpoint'),\n",
       " ('ImpactWorld+ 2.1', 'Marine eutrophication', 'damage'),\n",
       " ('ImpactWorld+ 2.1', 'Marine eutrophication', 'midpoint'),\n",
       " ('ImpactWorld+ 2.1', 'Particulate matter formation', 'damage'),\n",
       " ('ImpactWorld+ 2.1', 'Particulate matter formation', 'midpoint'),\n",
       " ('ImpactWorld+ 2.1', 'Photochemical ozone formation', 'damage'),\n",
       " ('ImpactWorld+ 2.1', 'Photochemical ozone formation', 'midpoint'),\n",
       " ('ImpactWorld+ 2.1',\n",
       "  'Photochemical ozone formation, ecosystem quality',\n",
       "  'damage'),\n",
       " ('ImpactWorld+ 2.1',\n",
       "  'Photochemical ozone formation, ecosystem quality',\n",
       "  'midpoint'),\n",
       " ('ImpactWorld+ 2.1', 'Photochemical ozone formation, human health', 'damage'),\n",
       " ('ImpactWorld+ 2.1',\n",
       "  'Photochemical ozone formation, human health',\n",
       "  'midpoint'),\n",
       " ('ImpactWorld+ 2.1', 'Terrestrial acidification', 'damage'),\n",
       " ('ImpactWorld+ 2.1', 'Terrestrial acidification', 'midpoint'),\n",
       " ('ImpactWorld+ 2.1', 'Terrestrial ecotoxicity, long term', 'damage'),\n",
       " ('ImpactWorld+ 2.1', 'Terrestrial ecotoxicity, long term', 'midpoint'),\n",
       " ('ImpactWorld+ 2.1', 'Terrestrial ecotoxicity, short term', 'damage'),\n",
       " ('ImpactWorld+ 2.1', 'Terrestrial ecotoxicity, short term', 'midpoint'),\n",
       " ('ImpactWorld+ 2.1', 'Thermally polluted water', 'damage'),\n",
       " ('ImpactWorld+ 2.1', 'Thermally polluted water', 'midpoint'),\n",
       " ('ImpactWorld+ 2.1', 'Water availability, freshwater ecosystem', 'damage'),\n",
       " ('ImpactWorld+ 2.1', 'Water availability, freshwater ecosystem', 'midpoint'),\n",
       " ('ImpactWorld+ 2.1', 'Water availability, human health', 'damage'),\n",
       " ('ImpactWorld+ 2.1', 'Water availability, human health', 'midpoint'),\n",
       " ('ImpactWorld+ 2.1', 'Water availability, terrestrial ecosystem', 'damage'),\n",
       " ('ImpactWorld+ 2.1', 'Water availability, terrestrial ecosystem', 'midpoint'),\n",
       " ('ImpactWorld+ 2.1', 'Water scarcity', 'damage'),\n",
       " ('ImpactWorld+ 2.1', 'Water scarcity', 'midpoint'),\n",
       " ('LCC 1.0', '2023'),\n",
       " ('RELICS', 'copper'),\n",
       " ('SCP', '1.0')]"
      ]
     },
     "execution_count": 4,
     "metadata": {},
     "output_type": "execute_result"
    }
   ],
   "source": [
    "get_available_methods()"
   ]
  },
  {
   "cell_type": "code",
   "execution_count": 4,
   "id": "075076c8-f4f7-4db5-84f7-0cec83351d17",
   "metadata": {
    "scrolled": true
   },
   "outputs": [
    {
     "data": {
      "text/plain": [
       "('AWARE 2.0', 'Country', 'all', 'yearly')"
      ]
     },
     "execution_count": 4,
     "metadata": {},
     "output_type": "execute_result"
    }
   ],
   "source": [
    "method = ('AWARE 2.0', 'Country', 'all', 'yearly')\n",
    "method"
   ]
  },
  {
   "cell_type": "markdown",
   "id": "289d16de-f20c-4c92-8675-dee30274266e",
   "metadata": {},
   "source": [
    "<a id=\"sec_run_edges_lca\"></a>\n",
    "# 4. Run edges-based LCA"
   ]
  },
  {
   "cell_type": "code",
   "execution_count": 5,
   "id": "2c1a5d4e-20a7-4f9e-9823-cf96609cd6eb",
   "metadata": {
    "scrolled": true
   },
   "outputs": [
    {
     "name": "stderr",
     "output_type": "stream",
     "text": [
      "/opt/homebrew/Caskroom/miniforge/base/envs/bw25/lib/python3.11/site-packages/scikits/umfpack/umfpack.py:736: UmfpackWarning: (almost) singular matrix! (estimated cond. number: 1.21e+13)\n",
      "  warnings.warn(msg, UmfpackWarning)\n"
     ]
    }
   ],
   "source": [
    "# we instantiate EdgeLCIA, which builds on the `bw2calc.LCA` class\n",
    "LCA = EdgeLCIA(\n",
    "    demand={act: 1}, # <- we define a functional unit\n",
    "    method=method, # <- we specify the LCIA method\n",
    "    use_distributions=True, # <- we wnat to consider variability across watersheds\n",
    "    iterations=10000 # <- we specific the number of iterations\n",
    ")\n",
    "\n",
    "# we solve the system\n",
    "LCA.lci()"
   ]
  },
  {
   "cell_type": "markdown",
   "id": "2fc8984c-4f93-4242-bf8f-e5cd1b17d411",
   "metadata": {},
   "source": [
    "`.map_exchanges()` will try to find direct matches based on the criteria listed in the LCIA file."
   ]
  },
  {
   "cell_type": "code",
   "execution_count": 6,
   "id": "f5da8c62-0a58-4ebd-b0d4-f1de8158ba9f",
   "metadata": {},
   "outputs": [
    {
     "name": "stderr",
     "output_type": "stream",
     "text": [
      "Mapping exchanges: 100%|███████████████████| 9960/9960 [01:38<00:00, 101.28it/s]\n"
     ]
    }
   ],
   "source": [
    "LCA.map_exchanges()"
   ]
  },
  {
   "cell_type": "markdown",
   "id": "91a33f7c-c4ce-4b77-b9d9-ad787ce56ec9",
   "metadata": {},
   "source": [
    "The four following functions are specific to regionalized LCIA methods (which is the case here).\n",
    "\n",
    "* ``map_aggregate_locations()``: It computes weighted averages for composite regions using a user-specified weighting variable (e.g., population, GDP, resource use) from the method metadata, e.g., RER.\n",
    "* ``map_dynamic_locations()``: Handle location-matching for dynamic or relative regions such as ‘RoW’ or ‘RoE’.\n",
    "* ``map_contained_locations()``: Resolve unmatched exchanges by assigning CFs from spatially containing regions (e.g., \"CA-QC\" will be given the CF for \"CA\")\n",
    "* ``map_remaining_locations_to_global()``: Assign global fallback CFs to exchanges that remain unmatched after all regional mapping steps."
   ]
  },
  {
   "cell_type": "code",
   "execution_count": 7,
   "id": "37bdecb7-e7ec-4d33-98fc-974e04b7bab5",
   "metadata": {},
   "outputs": [
    {
     "name": "stderr",
     "output_type": "stream",
     "text": [
      "Processing static groups (pass 1): 100%|███████| 10/10 [00:00<00:00, 389.74it/s]\n",
      "US-PR not found in regex\n",
      "IN-DD not found in regex\n",
      "Processing dynamic groups (pass 1): 100%|██████| 10/10 [00:00<00:00, 128.65it/s]\n",
      "Processing contained groups (pass 1): 100%|██████| 4/4 [00:00<00:00, 580.29it/s]\n"
     ]
    }
   ],
   "source": [
    "LCA.map_aggregate_locations()\n",
    "LCA.map_dynamic_locations()\n",
    "LCA.map_contained_locations()\n",
    "LCA.map_remaining_locations_to_global()"
   ]
  },
  {
   "cell_type": "markdown",
   "id": "99bc93e0-7ef5-433b-9462-be8731c780d2",
   "metadata": {},
   "source": [
    "When the mapping is done, the CFs can be evaluated. In this case, random samping of watersheds' CF for each country are drawn (10_000 times). When the LCIA methods only contain numeric values, the evaluation step is straigthfroward. However, in some cases, the CF value can be symbolic or rely on an external function call."
   ]
  },
  {
   "cell_type": "code",
   "execution_count": null,
   "id": "b28ce1c1-1c6a-4a93-bbf2-8c35a2f3e95f",
   "metadata": {},
   "outputs": [],
   "source": [
    "LCA.evaluate_cfs()"
   ]
  },
  {
   "cell_type": "markdown",
   "id": "7814d53b-5151-4129-b9df-c727b2fd874c",
   "metadata": {},
   "source": [
    "We can check, for example, which exchanges have been mapped to the last CF in our LCIA method."
   ]
  },
  {
   "cell_type": "code",
   "execution_count": null,
   "id": "deeec567-8f8d-4a08-a79b-51dea0b8d8fc",
   "metadata": {},
   "outputs": [],
   "source": [
    "LCA.cfs_mapping[-1]"
   ]
  },
  {
   "cell_type": "markdown",
   "id": "4e53239c-d9c5-403b-9964-ddbdc0bdedc0",
   "metadata": {},
   "source": [
    "Finally, we multiply the randomly sampled CF values with the amounts from the inventory matrix."
   ]
  },
  {
   "cell_type": "code",
   "execution_count": null,
   "id": "7372da6f-11b7-44c9-9d59-b7f063b429af",
   "metadata": {},
   "outputs": [],
   "source": [
    "LCA.lcia()"
   ]
  },
  {
   "cell_type": "markdown",
   "id": "b6b7dd2a-e386-454e-bb90-543413fce39d",
   "metadata": {},
   "source": [
    "We can see the 10_000 iterations' results."
   ]
  },
  {
   "cell_type": "code",
   "execution_count": null,
   "id": "9d826ce8-3dc4-4f8a-8e49-4bea86db47de",
   "metadata": {},
   "outputs": [],
   "source": [
    "print(LCA.score.data)"
   ]
  },
  {
   "cell_type": "markdown",
   "id": "7c3e3280-c697-45f4-be2e-afedc2945cbf",
   "metadata": {},
   "source": [
    "<a id=\"sec_export_results\"></a>\n",
    "# 5. Export results"
   ]
  },
  {
   "cell_type": "markdown",
   "id": "88bb7fa1-a979-4957-b63e-f90288ce5982",
   "metadata": {},
   "source": [
    "We can export the list of exchanges from the solved system.\n",
    "We can include or not the exchanges that have not received a CF."
   ]
  },
  {
   "cell_type": "code",
   "execution_count": 14,
   "id": "aa45cb7c-3656-4f86-af7f-81d940609ee4",
   "metadata": {},
   "outputs": [],
   "source": [
    "df_table = LCA.generate_cf_table(include_unmatched=False)"
   ]
  },
  {
   "cell_type": "code",
   "execution_count": 15,
   "id": "528318f1-0c80-4a1d-8719-3981e2618469",
   "metadata": {},
   "outputs": [],
   "source": [
    "df_table.to_excel(\"AWARE_results_25.xlsx\")"
   ]
  },
  {
   "cell_type": "markdown",
   "id": "759b2cf7-348c-464a-b27a-80d51c373d02",
   "metadata": {},
   "source": [
    "We can also print some statistics."
   ]
  },
  {
   "cell_type": "code",
   "execution_count": 16,
   "id": "94d6753e-849f-4113-81b7-132dcbdf518d",
   "metadata": {},
   "outputs": [
    {
     "name": "stdout",
     "output_type": "stream",
     "text": [
      "+----------------------+--------------------------------------------+\n",
      "|       Activity       | hydrogen production, gaseous, 30 bar, from |\n",
      "|                      |    PEM electrolysis, from offshore wind    |\n",
      "|                      |                electricity                 |\n",
      "|     Method name      | ('AWARE 2.0', 'Country', 'all', 'yearly')  |\n",
      "|         Unit         |           m3 deprived water-eq.            |\n",
      "|      Data file       |        AWARE 2.0_Country_all_yearly        |\n",
      "|    CFs in method     |                    9960                    |\n",
      "|       CFs used       |                    5726                    |\n",
      "|   Unique CFs used    |                    342                     |\n",
      "|  Exc. characterized  |                    8898                    |\n",
      "| Exc. uncharacterized |                   327074                   |\n",
      "+----------------------+--------------------------------------------+\n"
     ]
    }
   ],
   "source": [
    "LCA.statistics()"
   ]
  },
  {
   "cell_type": "markdown",
   "id": "1767450a-9438-43c1-a712-b040fbbd45ec",
   "metadata": {},
   "source": [
    "<a id=\"sec_plot_results\"></a>\n",
    "# 6. Plot results\n",
    "Script used to produce Figure 2 in the Sacchi et al. 2025 article."
   ]
  },
  {
   "cell_type": "code",
   "execution_count": null,
   "id": "e3436915-1dbf-4eb2-90f6-e7dc10ea6169",
   "metadata": {},
   "outputs": [],
   "source": [
    "import numpy as np\n",
    "import matplotlib.pyplot as plt\n",
    "from matplotlib.lines import Line2D"
   ]
  },
  {
   "cell_type": "code",
   "execution_count": null,
   "id": "f92c47bc-4a25-4224-8804-ca8a94537c7f",
   "metadata": {},
   "outputs": [],
   "source": [
    "cutoff = 0.00\n",
    "\n",
    "# Plotting\n",
    "fig, axes = plt.subplots(4, 1, figsize=(3, 8))\n",
    "\n",
    "\n",
    "plt.rcParams.update({\n",
    "    'font.family': 'sans-serif',\n",
    "    'font.sans-serif': ['Arial'],\n",
    "    'font.size': 8\n",
    "})\n",
    "\n",
    "# Legend for CI 25–75\n",
    "errorbar_legend = Line2D(\n",
    "    [0], [0],\n",
    "    color='black',\n",
    "    linestyle='none',\n",
    "    marker='_',\n",
    "    markersize=10,\n",
    "    markeredgewidth=1.5,\n",
    "    label='25–75% CI'\n",
    ")\n",
    "\n",
    "# remove rows for which \"amount\" is below the cutoff\n",
    "m = df_table.loc[df_table[\"impact (mean)\"] > 0, \"impact (mean)\"].max()\n",
    "df = df_table[df_table[\"impact (mean)\"].abs() > cutoff * m]\n",
    "\n",
    "df_net = df.copy()\n",
    "if \"CF (mean)\" in df_net.columns:  # Probabilistic case\n",
    "    df_net.loc[df_net[\"CF (mean)\"] < 0, \"amount\" ] *= -1\n",
    "else:\n",
    "    df_net.loc[df_net[\"CF\"] < 0, \"amount\"] *= -1\n",
    "\n",
    "\n",
    "d = df_net.groupby(\"consumer location\").sum(numeric_only=True)\n",
    "d = d[d[\"impact (mean)\"] > 0] if \"impact (mean)\" in d.columns else d[d[\"impact\"] > 0]\n",
    "d = d.sort_values(by=\"amount\", ascending=False).head(5)\n",
    "\n",
    "d[\"amount\"].plot(kind=\"bar\", ax=axes[0], xlabel='', width=0.6)\n",
    "axes[0].set_title(\"a) Net freshwater use\")\n",
    "axes[0].set_ylabel(\"m$^3$\")\n",
    "axes[0].set_xticks(range(len(d)))\n",
    "axes[0].set_xticklabels(d.index, rotation=0)\n",
    "axes[0].set_yscale('log')\n",
    "\n",
    "\n",
    "# -------- 2. Average CF by location --------\n",
    "# Add percentile-based error bars if available\n",
    "# Filter down to the top 10\n",
    "lower_percentile = \"(25th)\"\n",
    "top_percentile = \"(75th)\"\n",
    "d_top = df.copy()\n",
    "d_top = d_top.loc[d_top[\"CF (mean)\"]>0]\n",
    "d_top = d_top.groupby(\"consumer location\").mean(numeric_only=True)\n",
    "#d_top = d_top.sort_values(by=\"amount\", ascending=False)\n",
    "d_top = d_top.loc[d.index]\n",
    "x = d_top.index\n",
    "y = d_top[\"CF (mean)\"]\n",
    "\n",
    "# Ensure CF percentiles exist\n",
    "if f\"CF {lower_percentile}\" in d.columns and f\"CF {top_percentile}\" in d.columns:\n",
    "    d_top.loc[d_top[f\"CF {lower_percentile}\"]>d_top[\"CF (mean)\"], f\"CF {lower_percentile}\"] = d_top[\"CF (mean)\"]\n",
    "    d_top.loc[d_top[f\"CF {top_percentile}\"]<d_top[\"CF (mean)\"], f\"CF {top_percentile}\"] = d_top[\"CF (mean)\"]\n",
    "    lower = y - d_top[f\"CF {lower_percentile}\"]\n",
    "    upper = d_top[f\"CF {top_percentile}\"] - y\n",
    "    cf_errors = np.array([lower.values, upper.values])\n",
    "else:\n",
    "    cf_errors = None\n",
    "\n",
    "# Plot with error bars\n",
    "axes[1].bar(x, y, yerr=cf_errors, capsize=4, width=0.6)\n",
    "axes[1].set_title(\"b) Characterization factor by location\")\n",
    "axes[1].set_ylabel(\"m$^3$ world-eq./m$^3$\")\n",
    "axes[1].set_xticks(range(len(x)))\n",
    "axes[1].set_xticks(range(len(x)))\n",
    "axes[1].set_xticklabels(x, rotation=0)\n",
    "\n",
    "axes[1].legend(handles=[errorbar_legend], loc='upper left', fontsize=8)\n",
    "#axes[1].legend().remove()\n",
    "\n",
    "# -------- 3. Grouped bar plot with error bars --------\n",
    "df_ = df.copy()\n",
    "df_[\"consumer name\"] = df_[\"consumer name\"].str.split(\", \").str[0]\n",
    "df_[\"label\"] = df_[\"consumer name\"] + \" (\" + df_[\"consumer location\"] + \")\"\n",
    "df_.loc[df_[\"CF (mean)\"]<0, f\"impact {lower_percentile}\"] = df.loc[df[\"CF (mean)\"]<0, f\"impact {top_percentile}\"]\n",
    "df_.loc[df_[\"CF (mean)\"]<0, f\"impact {top_percentile}\"] = df.loc[df[\"CF (mean)\"]<0, f\"impact {lower_percentile}\"]\n",
    "# Compute mean impact and select top 4\n",
    "top_df = df_[[\"label\", \"impact (mean)\", f\"impact {lower_percentile}\", f\"impact {top_percentile}\"]].copy()\n",
    "top_df = top_df.groupby(\"label\", as_index=False).sum(numeric_only=True)\n",
    "top_df = top_df.sort_values(by=\"impact (mean)\", ascending=False).head(4)\n",
    "\n",
    "# Compute asymmetric error bars\n",
    "y = top_df[\"impact (mean)\"]\n",
    "err_lower = y - top_df[f\"impact {lower_percentile}\"]\n",
    "err_upper = top_df[f\"impact {top_percentile}\"] - y\n",
    "errors = np.array([err_lower.values, err_upper.values])\n",
    "errors = np.clip(errors, 0, None)\n",
    "\n",
    "df_global = df_table.copy()\n",
    "df_global.loc[df_global[\"CF (mean)\"]<0, \"CF (mean)\"] = -39.5\n",
    "df_global.loc[df_global[\"CF (mean)\"]>0, \"CF (mean)\"] = +39.5\n",
    "df_global[\"impact (mean)\"] = df_global[\"amount\"] * df_global[\"CF (mean)\"]\n",
    "total_global = df_global[\"impact (mean)\"].sum()\n",
    "total_regionalized = df_table.copy()\n",
    "total_regionalized.loc[total_regionalized[\"CF (mean)\"]<0, f\"impact {lower_percentile}\"] = df_table.loc[df_table[\"CF (mean)\"]<0, f\"impact {top_percentile}\"]\n",
    "total_regionalized.loc[total_regionalized[\"CF (mean)\"]<0, f\"impact {top_percentile}\"] = df_table.loc[df_table[\"CF (mean)\"]<0, f\"impact {lower_percentile}\"]\n",
    "\n",
    "\n",
    "# Plot\n",
    "x = np.arange(len(top_df))\n",
    "axes[2].bar(x, y, yerr=errors, capsize=4, width=0.6)\n",
    "axes[2].set_xticks(x)\n",
    "axes[2].set_xticklabels(top_df[\"label\"].str.replace(\" \", \"\\n\"), rotation=0, ha=\"center\")\n",
    "axes[2].set_title(\"c) Process contribution\")\n",
    "axes[2].set_ylabel(\"m$^3$ world-eq./kg H$_2$\")\n",
    "axes[2].tick_params(axis=\"x\", labelsize=8)\n",
    "#axes[2].legend().remove()\n",
    "axes[2].legend(handles=[errorbar_legend], loc='upper right', fontsize=8)\n",
    "\n",
    "# Set x-axis ticks\n",
    "axes[2].set_xticks(x)\n",
    "\n",
    "# Extract country codes from the label (e.g., \"Some process (FR)\" → \"FR\")\n",
    "labels = top_df[\"label\"].str.replace(r\" \\(([^)]+)\\)$\", \"\", regex=True)\n",
    "countries = top_df[\"label\"].str.extract(r\"\\(([^)]+)\\)$\")[0]\n",
    "\n",
    "# Set shortened labels (without country codes)\n",
    "labels = [label.rsplit(\" \", 1)[0] + \"\\n\" + label.rsplit(\" \", 1)[1] if \" \" in label else label\n",
    "     for label in labels]\n",
    "labels = [label.replace(\"deionized\", \"\").replace(\"gravel and sand \", \"\") for label in labels]\n",
    "axes[2].set_xticklabels(\n",
    "    labels,\n",
    "    rotation=0,\n",
    "    ha=\"center\",\n",
    "    size=7\n",
    ")\n",
    "\n",
    "# Annotate with country codes above bars\n",
    "for xi, yi, code in zip(x, y, countries):\n",
    "    axes[2].annotate(\n",
    "        code,\n",
    "        (xi + 0.1, yi + 0.03),  # Shift slightly to the right\n",
    "        textcoords=\"offset points\",\n",
    "        xytext=(0.1, -1),\n",
    "        ha='left',\n",
    "        fontsize=8,\n",
    "    )\n",
    "\n",
    "# === Fourth plot (d) - Global vs Regionalized ===\n",
    "global_mean = total_global\n",
    "regional_mean = total_regionalized[\"impact (mean)\"].sum()\n",
    "regional_min = total_regionalized[f\"impact {lower_percentile}\"].sum()\n",
    "regional_max = total_regionalized[f\"impact {top_percentile}\"].sum()\n",
    "\n",
    "regional_error = [\n",
    "    regional_mean - regional_min,\n",
    "    regional_max - regional_mean\n",
    "]\n",
    "\n",
    "ax4 = axes[3]\n",
    "ax4.bar([\"Global\"], [global_mean], color=\"gray\", label=\"Global (CF=39.5)\", width=.6)\n",
    "\n",
    "ax4.bar(\n",
    "    1,\n",
    "    total_regionalized[\"impact (mean)\"].sum(),\n",
    "    yerr=[[np.clip(total_regionalized[\"impact (mean)\"].sum() - total_regionalized[f\"impact {lower_percentile}\"].sum(), 0, None)],\n",
    "          [np.clip(total_regionalized[f\"impact {top_percentile}\"].sum() - total_regionalized[\"impact (mean)\"].sum(), 0, None)]],\n",
    "    capsize=4,\n",
    "    width=.6,\n",
    "    color='#1f77b4',\n",
    "    label='Regionalized'\n",
    ")\n",
    "\n",
    "ax4.set_title(\"d) LCIA score\")\n",
    "ax4.set_ylabel(\"m$^3$ world-eq./kg H$_2$\")\n",
    "ax4.set_ylim(0, max(global_mean, regional_max) * 1.2)\n",
    "#ax4.set_ylim(0, 45)\n",
    "ax4.set_xticks([0, 1])\n",
    "ax4.set_xticklabels([\"Global\", \"Regionalized\"])\n",
    "\n",
    "# Append to existing legend\n",
    "handles, labels = axes[3].get_legend_handles_labels()\n",
    "handles.append(errorbar_legend)\n",
    "labels.append('25–75% CI')\n",
    "axes[3].legend(handles=handles, labels=labels, loc='upper right', fontsize=7)\n",
    "\n",
    "# === Final layout tweaks ===\n",
    "plt.tight_layout(rect=[0, 0.03, 1, 0.97])\n",
    "plt.subplots_adjust(hspace=0.4, wspace=0.3)\n",
    "plt.savefig(\"figure_1.png\", bbox_inches=\"tight\", dpi=150)\n",
    "plt.show()"
   ]
  },
  {
   "cell_type": "code",
   "execution_count": null,
   "id": "333242c1-ffd1-4901-a84a-9c2fa8fed29f",
   "metadata": {},
   "outputs": [],
   "source": []
  }
 ],
 "metadata": {
  "kernelspec": {
   "display_name": "Python 3 (ipykernel)",
   "language": "python",
   "name": "python3"
  },
  "language_info": {
   "codemirror_mode": {
    "name": "ipython",
    "version": 3
   },
   "file_extension": ".py",
   "mimetype": "text/x-python",
   "name": "python",
   "nbconvert_exporter": "python",
   "pygments_lexer": "ipython3",
   "version": "3.11.13"
  }
 },
 "nbformat": 4,
 "nbformat_minor": 5
}

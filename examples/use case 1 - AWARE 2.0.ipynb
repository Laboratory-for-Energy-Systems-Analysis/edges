{
 "cells": [
  {
   "cell_type": "markdown",
   "id": "e33447ab-c36e-45bc-9320-e703b401b7f0",
   "metadata": {},
   "source": [
    "# **Example AWARE | Use case 1**"
   ]
  },
  {
   "cell_type": "markdown",
   "id": "f0ca2759-74b2-472e-9f9e-8dbb81afba71",
   "metadata": {},
   "source": [
    "**Author:**  \n",
    "[Romain Sacchi](mailto:romain.sacchi@psi.ch)"
   ]
  },
  {
   "cell_type": "markdown",
   "id": "3c87910d-d850-47a0-9e0e-8a42fdbc4f8d",
   "metadata": {},
   "source": [
    "This notebook presents an example to build an edges-based LCA using the AWARE method."
   ]
  },
  {
   "cell_type": "markdown",
   "id": "4d1b02c4-b5ad-4503-a014-1e579085838d",
   "metadata": {},
   "source": [
    "## Structure"
   ]
  },
  {
   "cell_type": "markdown",
   "id": "6792397a-ca45-4ba2-a74d-ad577b0ae615",
   "metadata": {},
   "source": [
    "1. [Import *edges* and set *bw2 project*](#sec_import_edges)\n",
    "2. [Import hydrogen production, PEM, LCI](#sec_import_h2)\n",
    "3. [Select *Functional Unit* and *method*](#sec_select_fu)\n",
    "4. [Run edges based LCA](#sec_run_edges_lca)\n",
    "5. [Export results](#sec_export_results)\n",
    "6. [Plot results](#sec_plot_results)"
   ]
  },
  {
   "cell_type": "markdown",
   "id": "c07977f3-5100-4525-af3d-2fd98654d2c2",
   "metadata": {},
   "source": [
    "<a id=\"sec_import_edges\"></a>\n",
    "# 1. Import edges and set bw2 project"
   ]
  },
  {
   "cell_type": "code",
   "execution_count": 1,
   "id": "e5d5d48e-c53d-447b-8fb1-0b1b7f1285fa",
   "metadata": {},
   "outputs": [
    {
     "name": "stdout",
     "output_type": "stream",
     "text": [
      "17:09:41+0200 [warning  ] Can't import `SimaProBlockCSVImporter` - please install `bw2io` with `pip install bw2io[multifunctional]` or install `multifunctional` and `bw_simapro_csv` manually.\n"
     ]
    }
   ],
   "source": [
    "from edges import EdgeLCIA, get_available_methods\n",
    "import bw2data, bw2io"
   ]
  },
  {
   "cell_type": "code",
   "execution_count": 2,
   "id": "a7253f27-dab8-4224-a4a1-a74789ed7ddb",
   "metadata": {},
   "outputs": [],
   "source": [
    "bw2data.projects.set_current(\"ecoinvent-3.10.1-cutoff\")"
   ]
  },
  {
   "cell_type": "markdown",
   "id": "56dbab51-e9f9-4db1-861d-6637c27e8a77",
   "metadata": {},
   "source": [
    "<a id=\"sec_import_h2\"></a>\n",
    "# 2. Import hydrogen production, PEM, LCI"
   ]
  },
  {
   "cell_type": "code",
   "execution_count": 3,
   "id": "0b0340f8-dc2d-4aa6-b7f3-a09ef24cbd07",
   "metadata": {},
   "outputs": [
    {
     "name": "stdout",
     "output_type": "stream",
     "text": [
      "Extracted 1 worksheets in 0.14 seconds\n",
      "Applying strategy: csv_restore_tuples\n",
      "Applying strategy: csv_restore_booleans\n",
      "Applying strategy: csv_numerize\n",
      "Applying strategy: csv_drop_unknown\n",
      "Applying strategy: csv_add_missing_exchanges_section\n",
      "Applying strategy: normalize_units\n",
      "Applying strategy: normalize_biosphere_categories\n",
      "Applying strategy: normalize_biosphere_names\n",
      "Applying strategy: strip_biosphere_exc_locations\n",
      "Applying strategy: set_code_by_activity_hash\n",
      "Applying strategy: link_iterable_by_fields\n",
      "Applying strategy: assign_only_product_as_production\n",
      "Applying strategy: link_technosphere_by_activity_hash\n",
      "Applying strategy: drop_falsey_uncertainty_fields_but_keep_zeros\n",
      "Applying strategy: convert_uncertainty_types_to_integers\n",
      "Applying strategy: convert_activity_parameters_to_list\n",
      "Applied 16 strategies in 0.31 seconds\n",
      "Applying strategy: link_iterable_by_fields\n",
      "Applying strategy: link_iterable_by_fields\n",
      "Applying strategy: link_iterable_by_fields\n",
      "Graph statistics for `h2_pem` importer:\n",
      "11 graph nodes:\n",
      "\tNone: 11\n",
      "214 graph edges:\n",
      "\ttechnosphere: 124\n",
      "\tbiosphere: 79\n",
      "\tproduction: 11\n",
      "213 edges to the following databases:\n",
      "\tecoinvent-3.10.1-cutoff: 98\n",
      "\tbiosphere: 78\n",
      "\th2_pem: 37\n",
      "1 unique unlinked edges (1 total):\n",
      "\tbiosphere: 1\n",
      "\n",
      "\n",
      "Applying strategy: drop_unlinked\n",
      "Applied 1 strategies in 0.00 seconds\n",
      "17:09:56+0200 [warning  ] Not able to determine geocollections for all datasets. This database is not ready for regionalization.\n"
     ]
    },
    {
     "name": "stderr",
     "output_type": "stream",
     "text": [
      "100%|██████████████████████████████████████████████████████████████████████████████████████████████████████████████████████████████████████████████████████████████████████████| 11/11 [00:00<00:00, 276.45it/s]\n"
     ]
    },
    {
     "name": "stdout",
     "output_type": "stream",
     "text": [
      "17:09:56+0200 [info     ] Vacuuming database            \n",
      "Created database: h2_pem\n"
     ]
    }
   ],
   "source": [
    "if \"h2_pem\" in bw2data.databases:\n",
    "    del bw2data.databases[\"h2_pem\"]\n",
    "lci = bw2io.ExcelImporter(\"lci-hydrogen-electrolysis.xlsx\")\n",
    "lci.apply_strategies()\n",
    "lci.match_database(fields=[\"name\", \"reference product\", \"location\"])\n",
    "lci.match_database(\"ecoinvent-3.10.1-cutoff\",fields=[\"name\", \"reference product\", \"location\"])\n",
    "lci.match_database(\"biosphere\",fields=[\"name\", \"categories\"])\n",
    "lci.statistics()\n",
    "lci.drop_unlinked(i_am_reckless=True)\n",
    "if len(list(lci.unlinked)) == 0:\n",
    "    lci.write_database()\n",
    "\n",
    "\n",
    "classifications = {\n",
    "    \"hydrogen production, gaseous, 30 bar, from PEM electrolysis, from grid electricity\": (\"CPC\", \"34210\"),\n",
    "    \"hydrogen production, gaseous, 30 bar, from PEM electrolysis, from solar photovoltaic electricity\": (\"CPC\", \"34210\"),\n",
    "    \"hydrogen production, gaseous, 30 bar, from PEM electrolysis, from onshore wind electricity\": (\"CPC\", \"34210\"),\n",
    "    \"hydrogen production, gaseous, 30 bar, from PEM electrolysis, from offshore wind electricity\": (\"CPC\", \"34210\"),\n",
    "    \"hydrogen production, gaseous, 30 bar, from PEM electrolysis, from geothermal electricity\": (\"CPC\", \"34210\"),\n",
    "    \"electrolyzer production, 1MWe, PEM, Stack\": (\"CPC\", \"4220:Construction of utility projects\"),\n",
    "    \"treatment of electrolyzer stack, 1MWe, PEM\": (\"CPC\", \"3830\"),\n",
    "    \"electrolyzer production, 1MWe, PEM, Balance of Plant\": (\"CPC\", \"4220:Construction of utility projects\"),\n",
    "    \"treatment of electrolyzer balance of plant, 1MWe, PEM\": (\"CPC\", \"3830\"),\n",
    "    \"platinum group metal, extraction and refinery operations\": (\"CPC\", \"2420\"),\n",
    "    \"deionized water production, via reverse osmosis, from brackish water\": (\"CPC\", \"34210\")\n",
    "}\n",
    "for ds in bw2data.Database(\"h2_pem\"):\n",
    "    if ds[\"name\"] in classifications:\n",
    "        ds[\"classifications\"] = [classifications[ds[\"name\"]]]\n",
    "        ds.save()\n",
    "    "
   ]
  },
  {
   "cell_type": "markdown",
   "id": "7d4e19aa-80f6-4dd3-840d-ca0bda0920de",
   "metadata": {},
   "source": [
    "<a id=\"sec_select_fu\"></a>\n",
    "# 3. Select Functional Unit and method"
   ]
  },
  {
   "cell_type": "markdown",
   "id": "869d336f-2206-446b-9898-636a2bae0473",
   "metadata": {},
   "source": [
    "### 3.1. Select FU"
   ]
  },
  {
   "cell_type": "code",
   "execution_count": 4,
   "id": "b210a5cc-45db-46dd-be6e-8d558814bf89",
   "metadata": {},
   "outputs": [
    {
     "data": {
      "text/plain": [
       "'hydrogen production, gaseous, 30 bar, from PEM electrolysis, from offshore wind electricity' (kilogram, FR, None)"
      ]
     },
     "execution_count": 4,
     "metadata": {},
     "output_type": "execute_result"
    }
   ],
   "source": [
    "act = [a for a in bw2data.Database(\"h2_pem\") if a[\"name\"] == \"hydrogen production, gaseous, 30 bar, from PEM electrolysis, from offshore wind electricity\"][0]\n",
    "act"
   ]
  },
  {
   "cell_type": "markdown",
   "id": "7ddb655e-6074-4df2-9609-3f14c92e0113",
   "metadata": {},
   "source": [
    "### 3.2. Select method"
   ]
  },
  {
   "cell_type": "code",
   "execution_count": 5,
   "id": "7cae387f-9f34-4933-9e04-ef5cfb9bece8",
   "metadata": {
    "scrolled": true
   },
   "outputs": [
    {
     "data": {
      "text/plain": [
       "[('AWARE 2.0', 'Country', 'all', 'yearly'),\n",
       " ('AWARE 2.0', 'Country', 'irri', 'yearly'),\n",
       " ('AWARE 2.0', 'Country', 'non', 'irri', 'yearly'),\n",
       " ('AWARE 2.0', 'Country', 'unspecified', 'yearly'),\n",
       " ('GeoPolRisk', 'elementary flows', '2024'),\n",
       " ('GeoPolRisk', 'paired', '2024'),\n",
       " ('ImpactWorld+ 2.1', 'Freshwater acidification', 'damage'),\n",
       " ('ImpactWorld+ 2.1', 'Freshwater acidification', 'midpoint'),\n",
       " ('ImpactWorld+ 2.1', 'Freshwater ecotoxicity', 'damage'),\n",
       " ('ImpactWorld+ 2.1', 'Freshwater ecotoxicity', 'midpoint'),\n",
       " ('ImpactWorld+ 2.1', 'Freshwater ecotoxicity, long term', 'damage'),\n",
       " ('ImpactWorld+ 2.1', 'Freshwater ecotoxicity, long term', 'midpoint'),\n",
       " ('ImpactWorld+ 2.1', 'Freshwater ecotoxicity, short term', 'damage'),\n",
       " ('ImpactWorld+ 2.1', 'Freshwater ecotoxicity, short term', 'midpoint'),\n",
       " ('ImpactWorld+ 2.1', 'Freshwater eutrophication', 'damage'),\n",
       " ('ImpactWorld+ 2.1', 'Freshwater eutrophication', 'midpoint'),\n",
       " ('ImpactWorld+ 2.1', 'Land occupation, biodiversity', 'damage'),\n",
       " ('ImpactWorld+ 2.1', 'Land occupation, biodiversity', 'midpoint'),\n",
       " ('ImpactWorld+ 2.1', 'Land transformation, biodiversity', 'damage'),\n",
       " ('ImpactWorld+ 2.1', 'Land transformation, biodiversity', 'midpoint'),\n",
       " ('ImpactWorld+ 2.1', 'Marine ecotoxicity, long term', 'damage'),\n",
       " ('ImpactWorld+ 2.1', 'Marine ecotoxicity, long term', 'midpoint'),\n",
       " ('ImpactWorld+ 2.1', 'Marine ecotoxicity, short term', 'damage'),\n",
       " ('ImpactWorld+ 2.1', 'Marine ecotoxicity, short term', 'midpoint'),\n",
       " ('ImpactWorld+ 2.1', 'Marine eutrophication', 'damage'),\n",
       " ('ImpactWorld+ 2.1', 'Marine eutrophication', 'midpoint'),\n",
       " ('ImpactWorld+ 2.1', 'Particulate matter formation', 'damage'),\n",
       " ('ImpactWorld+ 2.1', 'Particulate matter formation', 'midpoint'),\n",
       " ('ImpactWorld+ 2.1', 'Photochemical ozone formation', 'damage'),\n",
       " ('ImpactWorld+ 2.1', 'Photochemical ozone formation', 'midpoint'),\n",
       " ('ImpactWorld+ 2.1',\n",
       "  'Photochemical ozone formation, ecosystem quality',\n",
       "  'damage'),\n",
       " ('ImpactWorld+ 2.1',\n",
       "  'Photochemical ozone formation, ecosystem quality',\n",
       "  'midpoint'),\n",
       " ('ImpactWorld+ 2.1', 'Photochemical ozone formation, human health', 'damage'),\n",
       " ('ImpactWorld+ 2.1',\n",
       "  'Photochemical ozone formation, human health',\n",
       "  'midpoint'),\n",
       " ('ImpactWorld+ 2.1', 'Terrestrial acidification', 'damage'),\n",
       " ('ImpactWorld+ 2.1', 'Terrestrial acidification', 'midpoint'),\n",
       " ('ImpactWorld+ 2.1', 'Terrestrial ecotoxicity, long term', 'damage'),\n",
       " ('ImpactWorld+ 2.1', 'Terrestrial ecotoxicity, long term', 'midpoint'),\n",
       " ('ImpactWorld+ 2.1', 'Terrestrial ecotoxicity, short term', 'damage'),\n",
       " ('ImpactWorld+ 2.1', 'Terrestrial ecotoxicity, short term', 'midpoint'),\n",
       " ('ImpactWorld+ 2.1', 'Thermally polluted water', 'damage'),\n",
       " ('ImpactWorld+ 2.1', 'Thermally polluted water', 'midpoint'),\n",
       " ('ImpactWorld+ 2.1', 'Water availability, freshwater ecosystem', 'damage'),\n",
       " ('ImpactWorld+ 2.1', 'Water availability, freshwater ecosystem', 'midpoint'),\n",
       " ('ImpactWorld+ 2.1', 'Water availability, human health', 'damage'),\n",
       " ('ImpactWorld+ 2.1', 'Water availability, human health', 'midpoint'),\n",
       " ('ImpactWorld+ 2.1', 'Water availability, terrestrial ecosystem', 'damage'),\n",
       " ('ImpactWorld+ 2.1', 'Water availability, terrestrial ecosystem', 'midpoint'),\n",
       " ('ImpactWorld+ 2.1', 'Water scarcity', 'damage'),\n",
       " ('ImpactWorld+ 2.1', 'Water scarcity', 'midpoint'),\n",
       " ('LCC 1.0', '2023'),\n",
       " ('RELICS', 'copper'),\n",
       " ('SCP', '1.0')]"
      ]
     },
     "execution_count": 5,
     "metadata": {},
     "output_type": "execute_result"
    }
   ],
   "source": [
    "get_available_methods()"
   ]
  },
  {
   "cell_type": "code",
   "execution_count": 6,
   "id": "075076c8-f4f7-4db5-84f7-0cec83351d17",
   "metadata": {
    "scrolled": true
   },
   "outputs": [
    {
     "data": {
      "text/plain": [
       "('AWARE 2.0', 'Country', 'all', 'yearly')"
      ]
     },
     "execution_count": 6,
     "metadata": {},
     "output_type": "execute_result"
    }
   ],
   "source": [
    "method = ('AWARE 2.0', 'Country', 'all', 'yearly')\n",
    "method"
   ]
  },
  {
   "cell_type": "markdown",
   "id": "289d16de-f20c-4c92-8675-dee30274266e",
   "metadata": {},
   "source": [
    "<a id=\"sec_run_edges_lca\"></a>\n",
    "# 4. Run edges-based LCA"
   ]
  },
  {
   "cell_type": "code",
   "execution_count": 7,
   "id": "2c1a5d4e-20a7-4f9e-9823-cf96609cd6eb",
   "metadata": {
    "scrolled": true
   },
   "outputs": [
    {
     "name": "stderr",
     "output_type": "stream",
     "text": [
      "No parameters or scenarios found in method file: C:\\Users\\hahnme_a\\PycharmProjects\\edges\\edges\\data\\AWARE 2.0_Country_all_yearly.json\n",
      "Mapping exchanges: 100%|████████████████████████████████████████████████████████████████████████████████████████████████████████████████████████████████████████████████████| 9960/9960 [02:07<00:00, 78.04it/s]\n"
     ]
    },
    {
     "name": "stdout",
     "output_type": "stream",
     "text": [
      "Processed edges: 3923\n",
      "Handling static regions...\n"
     ]
    },
    {
     "name": "stderr",
     "output_type": "stream",
     "text": [
      "Processing static groups (pass 1): 100%|████████████████████████████████████████████████████████████████████████████████████████████████████████████████████████████████████████| 10/10 [00:00<00:00, 26.46it/s]\n",
      "Processing static groups (pass 2): 0it [00:00, ?it/s]\n",
      "Processing static groups (pass 1): 0it [00:00, ?it/s]\n",
      "Processing static groups (pass 2): 0it [00:00, ?it/s]\n"
     ]
    },
    {
     "name": "stdout",
     "output_type": "stream",
     "text": [
      "Processed edges: 6596\n",
      "Handling dynamic regions...\n"
     ]
    },
    {
     "name": "stderr",
     "output_type": "stream",
     "text": [
      "IN-DD not found in regex\n",
      "US-PR not found in regex\n",
      "Processing dynamic groups (pass 1): 100%|███████████████████████████████████████████████████████████████████████████████████████████████████████████████████████████████████████| 10/10 [00:00<00:00, 32.75it/s]\n",
      "Processing dynamic groups (pass 2): 0it [00:00, ?it/s]\n",
      "Processing dynamic groups (pass 1): 0it [00:00, ?it/s]\n",
      "Processing dynamic groups (pass 2): 0it [00:00, ?it/s]\n"
     ]
    },
    {
     "name": "stdout",
     "output_type": "stream",
     "text": [
      "Processed edges: 8905\n",
      "Handling contained locations...\n"
     ]
    },
    {
     "name": "stderr",
     "output_type": "stream",
     "text": [
      "Processing contained groups (pass 1): 100%|██████████████████████████████████████████████████████████████████████████████████████████████████████████████████████████████████████| 4/4 [00:00<00:00, 181.64it/s]\n",
      "Processing contained groups (pass 2): 0it [00:00, ?it/s]\n",
      "Processing contained groups (pass 1): 0it [00:00, ?it/s]\n",
      "Processing contained groups (pass 2): 0it [00:00, ?it/s]\n"
     ]
    },
    {
     "name": "stdout",
     "output_type": "stream",
     "text": [
      "Processed edges: 9043\n",
      "Handling remaining exchanges...\n"
     ]
    },
    {
     "name": "stderr",
     "output_type": "stream",
     "text": [
      "Processing global groups (pass 1): 0it [00:00, ?it/s]\n",
      "Processing global groups (pass 2): 0it [00:00, ?it/s]\n",
      "Processing global groups (pass 1): 0it [00:00, ?it/s]\n",
      "Processing global groups (pass 2): 0it [00:00, ?it/s]\n"
     ]
    },
    {
     "name": "stdout",
     "output_type": "stream",
     "text": [
      "Processed edges: 9043\n"
     ]
    }
   ],
   "source": [
    "LCA = EdgeLCIA(\n",
    "    demand={act: 1},\n",
    "    method=method,\n",
    "    use_distributions=True,\n",
    "    iterations=10000\n",
    ")\n",
    "LCA.lci()\n",
    "\n",
    "LCA.map_exchanges()\n",
    "LCA.map_aggregate_locations()\n",
    "LCA.map_dynamic_locations()\n",
    "LCA.map_contained_locations()\n",
    "LCA.map_remaining_locations_to_global()"
   ]
  },
  {
   "cell_type": "code",
   "execution_count": 8,
   "id": "b28ce1c1-1c6a-4a93-bbf2-8c35a2f3e95f",
   "metadata": {},
   "outputs": [],
   "source": [
    "LCA.evaluate_cfs()"
   ]
  },
  {
   "cell_type": "code",
   "execution_count": 9,
   "id": "3c4bafa3-ae65-4f1a-9e5e-d77f6ee63577",
   "metadata": {},
   "outputs": [],
   "source": [
    "y = [x for x in LCA.cfs_mapping if x[\"consumer\"][\"location\"] == \"RER\"][:1]"
   ]
  },
  {
   "cell_type": "code",
   "execution_count": 10,
   "id": "dfce6dba-a96c-43e7-837f-c7fd38b865dc",
   "metadata": {},
   "outputs": [
    {
     "data": {
      "text/plain": [
       "1.0000000000000004"
      ]
     },
     "execution_count": 10,
     "metadata": {},
     "output_type": "execute_result"
    }
   ],
   "source": [
    "sum(y[0][\"uncertainty\"][\"parameters\"][\"weights\"])"
   ]
  },
  {
   "cell_type": "code",
   "execution_count": 11,
   "id": "7372da6f-11b7-44c9-9d59-b7f063b429af",
   "metadata": {},
   "outputs": [],
   "source": [
    "LCA.lcia()"
   ]
  },
  {
   "cell_type": "code",
   "execution_count": 12,
   "id": "9d826ce8-3dc4-4f8a-8e49-4bea86db47de",
   "metadata": {},
   "outputs": [
    {
     "name": "stdout",
     "output_type": "stream",
     "text": [
      "<COO: shape=(10000,), dtype=float64, nnz=10000, fill_value=0.0>\n"
     ]
    }
   ],
   "source": [
    "print(LCA.score)"
   ]
  },
  {
   "cell_type": "markdown",
   "id": "7c3e3280-c697-45f4-be2e-afedc2945cbf",
   "metadata": {},
   "source": [
    "<a id=\"sec_export_results\"></a>\n",
    "# 5. Export results"
   ]
  },
  {
   "cell_type": "code",
   "execution_count": 13,
   "id": "aa45cb7c-3656-4f86-af7f-81d940609ee4",
   "metadata": {},
   "outputs": [],
   "source": [
    "df_table = LCA.generate_cf_table()"
   ]
  },
  {
   "cell_type": "code",
   "execution_count": 14,
   "id": "528318f1-0c80-4a1d-8719-3981e2618469",
   "metadata": {},
   "outputs": [],
   "source": [
    "df_table.to_excel(\"AWARE_results.xlsx\")"
   ]
  },
  {
   "cell_type": "code",
   "execution_count": 15,
   "id": "94d6753e-849f-4113-81b7-132dcbdf518d",
   "metadata": {},
   "outputs": [
    {
     "name": "stdout",
     "output_type": "stream",
     "text": [
      "+----------------------+--------------------------------------------+\n",
      "|       Activity       | hydrogen production, gaseous, 30 bar, from |\n",
      "|                      |    PEM electrolysis, from offshore wind    |\n",
      "|                      |                electricity                 |\n",
      "|     Method name      | ('AWARE 2.0', 'Country', 'all', 'yearly')  |\n",
      "|         Unit         |           m3 deprived water-eq.            |\n",
      "|      Data file       |        AWARE 2.0_Country_all_yearly        |\n",
      "|    CFs in method     |                    9960                    |\n",
      "|       CFs used       |                    5818                    |\n",
      "|   Unique CFs used    |                    345                     |\n",
      "|  Exc. characterized  |                    9043                    |\n",
      "| Exc. uncharacterized |                   331853                   |\n",
      "+----------------------+--------------------------------------------+\n"
     ]
    }
   ],
   "source": [
    "LCA.statistics()"
   ]
  },
  {
   "cell_type": "markdown",
   "id": "1767450a-9438-43c1-a712-b040fbbd45ec",
   "metadata": {},
   "source": [
    "<a id=\"sec_plot_results\"></a>\n",
    "# 6. Plot results"
   ]
  },
  {
   "cell_type": "code",
   "execution_count": 17,
   "id": "e3436915-1dbf-4eb2-90f6-e7dc10ea6169",
   "metadata": {},
   "outputs": [],
   "source": [
    "import numpy as np\n",
    "import matplotlib.pyplot as plt\n",
    "from matplotlib.lines import Line2D"
   ]
  },
  {
   "cell_type": "code",
   "execution_count": 18,
   "id": "f92c47bc-4a25-4224-8804-ca8a94537c7f",
   "metadata": {},
   "outputs": [
    {
     "data": {
      "image/png": "[encoded data removed]",
      "text/plain": [
       "<Figure size 300x800 with 4 Axes>"
      ]
     },
     "metadata": {},
     "output_type": "display_data"
    }
   ],
   "source": [
    "cutoff = 0.00\n",
    "\n",
    "# Plotting\n",
    "fig, axes = plt.subplots(4, 1, figsize=(3, 8))\n",
    "\n",
    "\n",
    "plt.rcParams.update({\n",
    "    'font.family': 'sans-serif',\n",
    "    'font.sans-serif': ['Arial'],\n",
    "    'font.size': 8\n",
    "})\n",
    "\n",
    "# Legend for CI 25–75\n",
    "errorbar_legend = Line2D(\n",
    "    [0], [0],\n",
    "    color='black',\n",
    "    linestyle='none',\n",
    "    marker='_',\n",
    "    markersize=10,\n",
    "    markeredgewidth=1.5,\n",
    "    label='25–75% CI'\n",
    ")\n",
    "\n",
    "# remove rows for which \"amount\" is below the cutoff\n",
    "m = df_table.loc[df_table[\"impact (mean)\"] > 0, \"impact (mean)\"].max()\n",
    "df = df_table[df_table[\"impact (mean)\"].abs() > cutoff * m]\n",
    "\n",
    "df_net = df.copy()\n",
    "if \"CF (mean)\" in df_net.columns:  # Probabilistic case\n",
    "    df_net.loc[df_net[\"CF (mean)\"] < 0, \"amount\" ] *= -1\n",
    "else:\n",
    "    df_net.loc[df_net[\"CF\"] < 0, \"amount\"] *= -1\n",
    "\n",
    "\n",
    "d = df_net.groupby(\"consumer location\").sum(numeric_only=True)\n",
    "d = d[d[\"impact (mean)\"] > 0] if \"impact (mean)\" in d.columns else d[d[\"impact\"] > 0]\n",
    "d = d.sort_values(by=\"amount\", ascending=False).head(5)\n",
    "\n",
    "d[\"amount\"].plot(kind=\"bar\", ax=axes[0], xlabel='', width=0.6)\n",
    "axes[0].set_title(\"a) Net freshwater use\")\n",
    "axes[0].set_ylabel(\"m$^3$\")\n",
    "axes[0].set_xticks(range(len(d)))\n",
    "axes[0].set_xticklabels(d.index, rotation=0)\n",
    "axes[0].set_yscale('log')\n",
    "\n",
    "\n",
    "# -------- 2. Average CF by location --------\n",
    "# Add percentile-based error bars if available\n",
    "# Filter down to the top 10\n",
    "lower_percentile = \"(25th)\"\n",
    "top_percentile = \"(75th)\"\n",
    "d_top = df.copy()\n",
    "d_top = d_top.loc[d_top[\"CF (mean)\"]>0]\n",
    "d_top = d_top.groupby(\"consumer location\").mean(numeric_only=True)\n",
    "#d_top = d_top.sort_values(by=\"amount\", ascending=False)\n",
    "d_top = d_top.loc[d.index]\n",
    "x = d_top.index\n",
    "y = d_top[\"CF (mean)\"]\n",
    "\n",
    "# Ensure CF percentiles exist\n",
    "if f\"CF {lower_percentile}\" in d.columns and f\"CF {top_percentile}\" in d.columns:\n",
    "    d_top.loc[d_top[f\"CF {lower_percentile}\"]>d_top[\"CF (mean)\"], f\"CF {lower_percentile}\"] = d_top[\"CF (mean)\"]\n",
    "    d_top.loc[d_top[f\"CF {top_percentile}\"]<d_top[\"CF (mean)\"], f\"CF {top_percentile}\"] = d_top[\"CF (mean)\"]\n",
    "    lower = y - d_top[f\"CF {lower_percentile}\"]\n",
    "    upper = d_top[f\"CF {top_percentile}\"] - y\n",
    "    cf_errors = np.array([lower.values, upper.values])\n",
    "else:\n",
    "    cf_errors = None\n",
    "\n",
    "# Plot with error bars\n",
    "axes[1].bar(x, y, yerr=cf_errors, capsize=4, width=0.6)\n",
    "axes[1].set_title(\"b) Characterization factor by location\")\n",
    "axes[1].set_ylabel(\"m$^3$ world-eq./m$^3$\")\n",
    "axes[1].set_xticks(range(len(x)))\n",
    "axes[1].set_xticks(range(len(x)))\n",
    "axes[1].set_xticklabels(x, rotation=0)\n",
    "\n",
    "axes[1].legend(handles=[errorbar_legend], loc='upper left', fontsize=8)\n",
    "#axes[1].legend().remove()\n",
    "\n",
    "# -------- 3. Grouped bar plot with error bars --------\n",
    "df_ = df.copy()\n",
    "df_[\"consumer name\"] = df_[\"consumer name\"].str.split(\", \").str[0]\n",
    "df_[\"label\"] = df_[\"consumer name\"] + \" (\" + df_[\"consumer location\"] + \")\"\n",
    "df_.loc[df_[\"CF (mean)\"]<0, f\"impact {lower_percentile}\"] = df.loc[df[\"CF (mean)\"]<0, f\"impact {top_percentile}\"]\n",
    "df_.loc[df_[\"CF (mean)\"]<0, f\"impact {top_percentile}\"] = df.loc[df[\"CF (mean)\"]<0, f\"impact {lower_percentile}\"]\n",
    "# Compute mean impact and select top 4\n",
    "top_df = df_[[\"label\", \"impact (mean)\", f\"impact {lower_percentile}\", f\"impact {top_percentile}\"]].copy()\n",
    "top_df = top_df.groupby(\"label\", as_index=False).sum(numeric_only=True)\n",
    "top_df = top_df.sort_values(by=\"impact (mean)\", ascending=False).head(4)\n",
    "\n",
    "# Compute asymmetric error bars\n",
    "y = top_df[\"impact (mean)\"]\n",
    "err_lower = y - top_df[f\"impact {lower_percentile}\"]\n",
    "err_upper = top_df[f\"impact {top_percentile}\"] - y\n",
    "errors = np.array([err_lower.values, err_upper.values])\n",
    "errors = np.clip(errors, 0, None)\n",
    "\n",
    "df_global = df_table.copy()\n",
    "df_global.loc[df_global[\"CF (mean)\"]<0, \"CF (mean)\"] = -39.5\n",
    "df_global.loc[df_global[\"CF (mean)\"]>0, \"CF (mean)\"] = +39.5\n",
    "df_global[\"impact (mean)\"] = df_global[\"amount\"] * df_global[\"CF (mean)\"]\n",
    "total_global = df_global[\"impact (mean)\"].sum()\n",
    "total_regionalized = df_table.copy()\n",
    "total_regionalized.loc[total_regionalized[\"CF (mean)\"]<0, f\"impact {lower_percentile}\"] = df_table.loc[df_table[\"CF (mean)\"]<0, f\"impact {top_percentile}\"]\n",
    "total_regionalized.loc[total_regionalized[\"CF (mean)\"]<0, f\"impact {top_percentile}\"] = df_table.loc[df_table[\"CF (mean)\"]<0, f\"impact {lower_percentile}\"]\n",
    "\n",
    "\n",
    "# Plot\n",
    "x = np.arange(len(top_df))\n",
    "axes[2].bar(x, y, yerr=errors, capsize=4, width=0.6)\n",
    "axes[2].set_xticks(x)\n",
    "axes[2].set_xticklabels(top_df[\"label\"].str.replace(\" \", \"\\n\"), rotation=0, ha=\"center\")\n",
    "axes[2].set_title(\"c) Process contribution\")\n",
    "axes[2].set_ylabel(\"m$^3$ world-eq./kg H$_2$\")\n",
    "axes[2].tick_params(axis=\"x\", labelsize=8)\n",
    "#axes[2].legend().remove()\n",
    "axes[2].legend(handles=[errorbar_legend], loc='upper right', fontsize=8)\n",
    "\n",
    "# Set x-axis ticks\n",
    "axes[2].set_xticks(x)\n",
    "\n",
    "# Extract country codes from the label (e.g., \"Some process (FR)\" → \"FR\")\n",
    "labels = top_df[\"label\"].str.replace(r\" \\(([^)]+)\\)$\", \"\", regex=True)\n",
    "countries = top_df[\"label\"].str.extract(r\"\\(([^)]+)\\)$\")[0]\n",
    "\n",
    "# Set shortened labels (without country codes)\n",
    "labels = [label.rsplit(\" \", 1)[0] + \"\\n\" + label.rsplit(\" \", 1)[1] if \" \" in label else label\n",
    "     for label in labels]\n",
    "labels = [label.replace(\"deionized\", \"\").replace(\"gravel and sand \", \"\") for label in labels]\n",
    "axes[2].set_xticklabels(\n",
    "    labels,\n",
    "    rotation=0,\n",
    "    ha=\"center\",\n",
    "    size=7\n",
    ")\n",
    "axes[2].set_ylim(0, 30)\n",
    "\n",
    "\n",
    "# Annotate with country codes above bars\n",
    "for xi, yi, code in zip(x, y, countries):\n",
    "    axes[2].annotate(\n",
    "        code,\n",
    "        (xi + 0.1, yi + 0.03),  # Shift slightly to the right\n",
    "        textcoords=\"offset points\",\n",
    "        xytext=(0.1, -1),\n",
    "        ha='left',\n",
    "        fontsize=8,\n",
    "    )\n",
    "\n",
    "# === Fourth plot (d) - Global vs Regionalized ===\n",
    "global_mean = total_global\n",
    "regional_mean = total_regionalized[\"impact (mean)\"].sum()\n",
    "regional_min = total_regionalized[f\"impact {lower_percentile}\"].sum()\n",
    "regional_max = total_regionalized[f\"impact {top_percentile}\"].sum()\n",
    "\n",
    "regional_error = [\n",
    "    regional_mean - regional_min,\n",
    "    regional_max - regional_mean\n",
    "]\n",
    "\n",
    "ax4 = axes[3]\n",
    "ax4.bar([\"Global\"], [global_mean], color=\"gray\", label=\"Global (CF=39.5)\", width=.6)\n",
    "# ax4.bar(\n",
    "#     1,\n",
    "#     total_regionalized[\"impact (mean)\"].sum(),\n",
    "#     yerr=[[total_regionalized[\"impact (mean)\"].sum() - total_regionalized[f\"impact {lower_percentile}\"].sum()],\n",
    "#           [total_regionalized[f\"impact {top_percentile}\"].sum() - total_regionalized[\"impact (mean)\"].sum()]],\n",
    "#     capsize=4,\n",
    "#     width=.6,\n",
    "#     color='#1f77b4',  # Matplotlib default blue\n",
    "#     label='Regionalized'\n",
    "# )\n",
    "ax4.bar(\n",
    "    1,\n",
    "    total_regionalized[\"impact (mean)\"].sum(),\n",
    "    yerr=[[np.clip(total_regionalized[\"impact (mean)\"].sum() - total_regionalized[f\"impact {lower_percentile}\"].sum(), 0, None)],\n",
    "          [np.clip(total_regionalized[f\"impact {top_percentile}\"].sum() - total_regionalized[\"impact (mean)\"].sum(), 0, None)]],\n",
    "    capsize=4,\n",
    "    width=.6,\n",
    "    color='#1f77b4',\n",
    "    label='Regionalized'\n",
    ")\n",
    "\n",
    "ax4.set_title(\"d) LCIA score\")\n",
    "ax4.set_ylabel(\"m$^3$ world-eq./kg H$_2$\")\n",
    "# ax4.set_ylim(0, max(global_mean, regional_max) * 1.2)\n",
    "ax4.set_ylim(0, 45)\n",
    "ax4.set_xticks([0, 1])\n",
    "ax4.set_xticklabels([\"Global\", \"Regionalized\"])\n",
    "\n",
    "# Append to existing legend\n",
    "handles, labels = axes[3].get_legend_handles_labels()\n",
    "handles.append(errorbar_legend)\n",
    "labels.append('25–75% CI')\n",
    "axes[3].legend(handles=handles, labels=labels, loc='upper right', fontsize=7)\n",
    "\n",
    "# === Final layout tweaks ===\n",
    "plt.tight_layout(rect=[0, 0.03, 1, 0.97])\n",
    "plt.subplots_adjust(hspace=0.4, wspace=0.3)\n",
    "plt.savefig(\"figure_1.png\", bbox_inches=\"tight\", dpi=150)\n",
    "plt.show()"
   ]
  },
  {
   "cell_type": "code",
   "execution_count": 19,
   "id": "0b109954-f77d-47ef-920f-7378dcf89f9d",
   "metadata": {},
   "outputs": [
    {
     "data": {
      "text/plain": [
       "np.float64(49.09519318502931)"
      ]
     },
     "execution_count": 19,
     "metadata": {},
     "output_type": "execute_result"
    }
   ],
   "source": [
    "total_regionalized[f\"impact {lower_percentile}\"].sum()"
   ]
  },
  {
   "cell_type": "code",
   "execution_count": 20,
   "id": "9a565412-6a9e-4b53-b254-730bbd883cab",
   "metadata": {},
   "outputs": [
    {
     "data": {
      "text/plain": [
       "np.float64(4.933556649435923)"
      ]
     },
     "execution_count": 20,
     "metadata": {},
     "output_type": "execute_result"
    }
   ],
   "source": [
    "total_regionalized[f\"impact {top_percentile}\"].sum()"
   ]
  },
  {
   "cell_type": "code",
   "execution_count": 21,
   "id": "0c73da96-b345-48d3-8d3a-92bd616b1811",
   "metadata": {},
   "outputs": [
    {
     "data": {
      "text/plain": [
       "np.float64(24.060477257916943)"
      ]
     },
     "execution_count": 21,
     "metadata": {},
     "output_type": "execute_result"
    }
   ],
   "source": [
    "LCA.score.data.mean()"
   ]
  },
  {
   "cell_type": "code",
   "execution_count": 22,
   "id": "1c593d1e-c75a-4ad0-b804-f90486d5761e",
   "metadata": {},
   "outputs": [
    {
     "data": {
      "text/plain": [
       "np.float64(1.1739535970298722)"
      ]
     },
     "execution_count": 22,
     "metadata": {},
     "output_type": "execute_result"
    }
   ],
   "source": [
    "global_mean"
   ]
  }
 ],
 "metadata": {
  "kernelspec": {
   "display_name": "Python 3 (ipykernel)",
   "language": "python",
   "name": "python3"
  },
  "language_info": {
   "codemirror_mode": {
    "name": "ipython",
    "version": 3
   },
   "file_extension": ".py",
   "mimetype": "text/x-python",
   "name": "python",
   "nbconvert_exporter": "python",
   "pygments_lexer": "ipython3",
   "version": "3.11.13"
  }
 },
 "nbformat": 4,
 "nbformat_minor": 5
}

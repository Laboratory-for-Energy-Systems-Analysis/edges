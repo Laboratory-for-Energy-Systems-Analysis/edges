{
 "cells": [
  {
   "cell_type": "markdown",
   "metadata": {},
   "source": [
    "# Use examples of [edges](https://github.com/romainsacchi/edges)\n",
    "\n",
    "Author: [romainsacchi](https://github.com/romainsacchi)\n",
    "\n",
    "This notebook shows examples on how to use `edge` to use exchange-specific\n",
    "characterization factors in the characterization matrix of `bw2calc`, combining the use of exchange names and locations.\n",
    "\n",
    "## Requirements\n",
    "\n",
    "* **Pyhton 3.10 or higher (up to 3.11) is highly recommended**"
   ]
  },
  {
   "cell_type": "markdown",
   "metadata": {},
   "source": [
    "# Use case with [brightway2](https://brightway.dev/)\n",
    "\n",
    "`brightway2` is an open source LCA framework for Python.\n",
    "To use `premise` from `brightway2`, it requires that you have an activated `brightway2` project with a `biosphere3` database as well as an [ecoinvent](https://ecoinvent.prg) v.3 cut-off or consequential database registered in that project. Please refer to the brightway [documentation](https://brightway.dev) if you do not know how to create a project and install ecoinvent."
   ]
  },
  {
   "cell_type": "code",
   "metadata": {
    "ExecuteTime": {
     "end_time": "2025-03-19T11:10:48.816042Z",
     "start_time": "2025-03-19T11:10:47.678565Z"
    }
   },
   "source": [
    "from edges import EdgeLCIA, get_available_methods\n",
    "import bw2data"
   ],
   "outputs": [],
   "execution_count": 1
  },
  {
   "metadata": {},
   "cell_type": "markdown",
   "source": [
    "One can simply build its own LCIA file.\n",
    "Let's consider the following LCIA file (saved under `lcia_example_2.json`):"
   ]
  },
  {
   "metadata": {
    "ExecuteTime": {
     "end_time": "2025-03-17T14:45:20.307990Z",
     "start_time": "2025-03-17T14:45:20.302804Z"
    }
   },
   "cell_type": "code",
   "source": [
    "[\n",
    "  {\n",
    "    \"supplier\": {\n",
    "      \"name\": \"Carbon dioxide\",\n",
    "      \"operator\": \"startswith\",\n",
    "      \"matrix\": \"biosphere\"\n",
    "    },\n",
    "    \"consumer\": {\n",
    "      \"matrix\": \"technosphere\",\n",
    "      \"type\": \"process\",\n",
    "      \"location\": \"CH\" # now, we want to specify the location of the consumer\n",
    "    },\n",
    "    \"value\": 1.0\n",
    "  },\n",
    "  {\n",
    "    \"supplier\": {\n",
    "      \"name\": \"Carbon dioxide\",\n",
    "      \"operator\": \"startswith\",\n",
    "      \"matrix\": \"biosphere\"\n",
    "    },\n",
    "    \"consumer\": {\n",
    "      \"matrix\": \"technosphere\",\n",
    "      \"type\": \"process\",\n",
    "      \"location\": \"FR\" # now, we want to specify the location of the consumer\n",
    "    },\n",
    "    \"value\": 2.0\n",
    "  },\n",
    "  {\n",
    "    \"supplier\": {\n",
    "      \"name\": \"Carbon dioxide\",\n",
    "      \"operator\": \"startswith\",\n",
    "      \"matrix\": \"biosphere\"\n",
    "    },\n",
    "    \"consumer\": {\n",
    "      \"matrix\": \"technosphere\",\n",
    "      \"type\": \"process\",\n",
    "      \"location\": \"RER\" # now, we want to specify the location of the consumer\n",
    "    },\n",
    "    \"value\": 3.0\n",
    "  }\n",
    "]"
   ],
   "outputs": [
    {
     "data": {
      "text/plain": [
       "[{'supplier': {'name': 'Carbon dioxide',\n",
       "   'operator': 'startswith',\n",
       "   'matrix': 'biosphere'},\n",
       "  'consumer': {'matrix': 'technosphere', 'type': 'process', 'location': 'CH'},\n",
       "  'value': 1.0},\n",
       " {'supplier': {'name': 'Carbon dioxide',\n",
       "   'operator': 'startswith',\n",
       "   'matrix': 'biosphere'},\n",
       "  'consumer': {'matrix': 'technosphere', 'type': 'process', 'location': 'FR'},\n",
       "  'value': 2.0},\n",
       " {'supplier': {'name': 'Carbon dioxide',\n",
       "   'operator': 'startswith',\n",
       "   'matrix': 'biosphere'},\n",
       "  'consumer': {'matrix': 'technosphere', 'type': 'process', 'location': 'RER'},\n",
       "  'value': 3.0}]"
      ]
     },
     "execution_count": 2,
     "metadata": {},
     "output_type": "execute_result"
    }
   ],
   "execution_count": 2
  },
  {
   "metadata": {
    "ExecuteTime": {
     "end_time": "2025-03-19T11:10:52.467484Z",
     "start_time": "2025-03-19T11:10:52.220663Z"
    }
   },
   "cell_type": "code",
   "source": [
    "# activate the bw project\n",
    "bw2data.projects.set_current(\"ecoinvent-3.10-cutoff\")\n",
    "act = bw2data.Database(\"ecoinvent-3.10.1-cutoff\").random()\n",
    "act"
   ],
   "outputs": [
    {
     "data": {
      "text/plain": [
       "'sawing, softwood' (kilogram, CA-QC, None)"
      ]
     },
     "execution_count": 2,
     "metadata": {},
     "output_type": "execute_result"
    }
   ],
   "execution_count": 2
  },
  {
   "metadata": {
    "ExecuteTime": {
     "end_time": "2025-03-19T10:58:32.946287Z",
     "start_time": "2025-03-19T10:58:30.064664Z"
    }
   },
   "cell_type": "code",
   "source": [
    "LCA = EdgeLCIA(\n",
    "    demand={act: 1},\n",
    "    method=(\"some\", \"method\"),\n",
    "    filepath=\"lcia_example_2.json\"\n",
    ")\n",
    "LCA.lci()\n",
    "\n",
    "LCA.map_exchanges()\n",
    "\n",
    "LCA.evaluate_cfs()\n",
    "LCA.lcia()\n",
    "LCA.score"
   ],
   "outputs": [
    {
     "name": "stderr",
     "output_type": "stream",
     "text": [
      "/opt/homebrew/Caskroom/miniforge/base/envs/bw2/lib/python3.11/site-packages/scikits/umfpack/umfpack.py:736: UmfpackWarning: (almost) singular matrix! (estimated cond. number: 4.83e+13)\n",
      "  warnings.warn(msg, UmfpackWarning)\n"
     ]
    },
    {
     "name": "stdout",
     "output_type": "stream",
     "text": [
      "Identifying eligible exchanges...\n"
     ]
    },
    {
     "name": "stderr",
     "output_type": "stream",
     "text": [
      "100%|██████████| 3/3 [00:00<00:00, 268.46it/s]\n"
     ]
    },
    {
     "data": {
      "text/plain": [
       "0.0009140300372816784"
      ]
     },
     "execution_count": 25,
     "metadata": {},
     "output_type": "execute_result"
    }
   ],
   "execution_count": 25
  },
  {
   "cell_type": "markdown",
   "metadata": {},
   "source": [
    "### Generate dataframe of characterization factors used\n",
    "\n",
    "The `generate_cf_table` method generates a dataframe of the characterization factors used in the calculation. One can see the characterization factors used for each exchange in the system."
   ]
  },
  {
   "metadata": {
    "ExecuteTime": {
     "end_time": "2025-03-19T10:58:46.088860Z",
     "start_time": "2025-03-19T10:58:45.610273Z"
    }
   },
   "cell_type": "code",
   "source": "df = LCA.generate_cf_table()",
   "outputs": [],
   "execution_count": 26
  },
  {
   "metadata": {
    "ExecuteTime": {
     "end_time": "2025-03-19T10:58:47.069409Z",
     "start_time": "2025-03-19T10:58:47.057611Z"
    }
   },
   "cell_type": "code",
   "source": [
    "# we can see under the \"CF\" column\n",
    "# the characterization factors used for each exchange in the system\n",
    "df"
   ],
   "outputs": [
    {
     "data": {
      "text/plain": [
       "                                 supplier name  \\\n",
       "0                   Carbon dioxide, non-fossil   \n",
       "1                   Carbon dioxide, non-fossil   \n",
       "2                   Carbon dioxide, non-fossil   \n",
       "3                   Carbon dioxide, non-fossil   \n",
       "4                   Carbon dioxide, non-fossil   \n",
       "...                                        ...   \n",
       "1205  Carbon dioxide, to soil or biomass stock   \n",
       "1206  Carbon dioxide, to soil or biomass stock   \n",
       "1207  Carbon dioxide, to soil or biomass stock   \n",
       "1208  Carbon dioxide, to soil or biomass stock   \n",
       "1209  Carbon dioxide, to soil or biomass stock   \n",
       "\n",
       "                   supplier categories  \\\n",
       "0     (air, urban air close to ground)   \n",
       "1     (air, urban air close to ground)   \n",
       "2     (air, urban air close to ground)   \n",
       "3     (air, urban air close to ground)   \n",
       "4     (air, urban air close to ground)   \n",
       "...                                ...   \n",
       "1205              (soil, agricultural)   \n",
       "1206              (soil, agricultural)   \n",
       "1207              (soil, agricultural)   \n",
       "1208              (soil, agricultural)   \n",
       "1209              (soil, agricultural)   \n",
       "\n",
       "                                          consumer name  \\\n",
       "0     treatment of waste wood, untreated, municipal ...   \n",
       "1     biomethane, low pressure burned in micro gas t...   \n",
       "2     treatment of digester sludge, municipal incine...   \n",
       "3             lath, hardwood, raw, kiln drying to u=20%   \n",
       "4                                 beet sugar production   \n",
       "...                                                 ...   \n",
       "1205                 esters of versatic acid production   \n",
       "1206                             citric acid production   \n",
       "1207                           anthraquinone production   \n",
       "1208                                   latex production   \n",
       "1209            particleboard production, cement bonded   \n",
       "\n",
       "                             consumer reference product consumer location  \\\n",
       "0                                 waste wood, untreated                CH   \n",
       "1     heat, central or small-scale, other than natur...                CH   \n",
       "2     heat, for reuse in municipal waste incineratio...                CH   \n",
       "3          sawnwood, lath, hardwood, raw, dried (u=20%)                CH   \n",
       "4                                       sugar beet pulp                CH   \n",
       "...                                                 ...               ...   \n",
       "1205                            esters of versatic acid               RER   \n",
       "1206                           protein feed, 100% crude               RER   \n",
       "1207                                      anthraquinone               RER   \n",
       "1208                                              latex               RER   \n",
       "1209                       particleboard, cement bonded               RER   \n",
       "\n",
       "            amount   CF        impact  \n",
       "0     5.599001e-06  1.0  5.599001e-06  \n",
       "1     5.222896e-20  1.0  5.222896e-20  \n",
       "2     8.458534e-09  1.0  8.458534e-09  \n",
       "3     3.682106e-10  1.0  3.682106e-10  \n",
       "4     2.964306e-29  1.0  2.964306e-29  \n",
       "...            ...  ...           ...  \n",
       "1205  5.126238e-16  3.0  1.537871e-15  \n",
       "1206  4.989133e-39  3.0  1.496740e-38  \n",
       "1207  1.552314e-14  3.0  4.656941e-14  \n",
       "1208  6.797832e-19  3.0  2.039350e-18  \n",
       "1209  7.180541e-17  3.0  2.154162e-16  \n",
       "\n",
       "[1210 rows x 8 columns]"
      ],
      "text/html": [
       "<div>\n",
       "<style scoped>\n",
       "    .dataframe tbody tr th:only-of-type {\n",
       "        vertical-align: middle;\n",
       "    }\n",
       "\n",
       "    .dataframe tbody tr th {\n",
       "        vertical-align: top;\n",
       "    }\n",
       "\n",
       "    .dataframe thead th {\n",
       "        text-align: right;\n",
       "    }\n",
       "</style>\n",
       "<table border=\"1\" class=\"dataframe\">\n",
       "  <thead>\n",
       "    <tr style=\"text-align: right;\">\n",
       "      <th></th>\n",
       "      <th>supplier name</th>\n",
       "      <th>supplier categories</th>\n",
       "      <th>consumer name</th>\n",
       "      <th>consumer reference product</th>\n",
       "      <th>consumer location</th>\n",
       "      <th>amount</th>\n",
       "      <th>CF</th>\n",
       "      <th>impact</th>\n",
       "    </tr>\n",
       "  </thead>\n",
       "  <tbody>\n",
       "    <tr>\n",
       "      <th>0</th>\n",
       "      <td>Carbon dioxide, non-fossil</td>\n",
       "      <td>(air, urban air close to ground)</td>\n",
       "      <td>treatment of waste wood, untreated, municipal ...</td>\n",
       "      <td>waste wood, untreated</td>\n",
       "      <td>CH</td>\n",
       "      <td>5.599001e-06</td>\n",
       "      <td>1.0</td>\n",
       "      <td>5.599001e-06</td>\n",
       "    </tr>\n",
       "    <tr>\n",
       "      <th>1</th>\n",
       "      <td>Carbon dioxide, non-fossil</td>\n",
       "      <td>(air, urban air close to ground)</td>\n",
       "      <td>biomethane, low pressure burned in micro gas t...</td>\n",
       "      <td>heat, central or small-scale, other than natur...</td>\n",
       "      <td>CH</td>\n",
       "      <td>5.222896e-20</td>\n",
       "      <td>1.0</td>\n",
       "      <td>5.222896e-20</td>\n",
       "    </tr>\n",
       "    <tr>\n",
       "      <th>2</th>\n",
       "      <td>Carbon dioxide, non-fossil</td>\n",
       "      <td>(air, urban air close to ground)</td>\n",
       "      <td>treatment of digester sludge, municipal incine...</td>\n",
       "      <td>heat, for reuse in municipal waste incineratio...</td>\n",
       "      <td>CH</td>\n",
       "      <td>8.458534e-09</td>\n",
       "      <td>1.0</td>\n",
       "      <td>8.458534e-09</td>\n",
       "    </tr>\n",
       "    <tr>\n",
       "      <th>3</th>\n",
       "      <td>Carbon dioxide, non-fossil</td>\n",
       "      <td>(air, urban air close to ground)</td>\n",
       "      <td>lath, hardwood, raw, kiln drying to u=20%</td>\n",
       "      <td>sawnwood, lath, hardwood, raw, dried (u=20%)</td>\n",
       "      <td>CH</td>\n",
       "      <td>3.682106e-10</td>\n",
       "      <td>1.0</td>\n",
       "      <td>3.682106e-10</td>\n",
       "    </tr>\n",
       "    <tr>\n",
       "      <th>4</th>\n",
       "      <td>Carbon dioxide, non-fossil</td>\n",
       "      <td>(air, urban air close to ground)</td>\n",
       "      <td>beet sugar production</td>\n",
       "      <td>sugar beet pulp</td>\n",
       "      <td>CH</td>\n",
       "      <td>2.964306e-29</td>\n",
       "      <td>1.0</td>\n",
       "      <td>2.964306e-29</td>\n",
       "    </tr>\n",
       "    <tr>\n",
       "      <th>...</th>\n",
       "      <td>...</td>\n",
       "      <td>...</td>\n",
       "      <td>...</td>\n",
       "      <td>...</td>\n",
       "      <td>...</td>\n",
       "      <td>...</td>\n",
       "      <td>...</td>\n",
       "      <td>...</td>\n",
       "    </tr>\n",
       "    <tr>\n",
       "      <th>1205</th>\n",
       "      <td>Carbon dioxide, to soil or biomass stock</td>\n",
       "      <td>(soil, agricultural)</td>\n",
       "      <td>esters of versatic acid production</td>\n",
       "      <td>esters of versatic acid</td>\n",
       "      <td>RER</td>\n",
       "      <td>5.126238e-16</td>\n",
       "      <td>3.0</td>\n",
       "      <td>1.537871e-15</td>\n",
       "    </tr>\n",
       "    <tr>\n",
       "      <th>1206</th>\n",
       "      <td>Carbon dioxide, to soil or biomass stock</td>\n",
       "      <td>(soil, agricultural)</td>\n",
       "      <td>citric acid production</td>\n",
       "      <td>protein feed, 100% crude</td>\n",
       "      <td>RER</td>\n",
       "      <td>4.989133e-39</td>\n",
       "      <td>3.0</td>\n",
       "      <td>1.496740e-38</td>\n",
       "    </tr>\n",
       "    <tr>\n",
       "      <th>1207</th>\n",
       "      <td>Carbon dioxide, to soil or biomass stock</td>\n",
       "      <td>(soil, agricultural)</td>\n",
       "      <td>anthraquinone production</td>\n",
       "      <td>anthraquinone</td>\n",
       "      <td>RER</td>\n",
       "      <td>1.552314e-14</td>\n",
       "      <td>3.0</td>\n",
       "      <td>4.656941e-14</td>\n",
       "    </tr>\n",
       "    <tr>\n",
       "      <th>1208</th>\n",
       "      <td>Carbon dioxide, to soil or biomass stock</td>\n",
       "      <td>(soil, agricultural)</td>\n",
       "      <td>latex production</td>\n",
       "      <td>latex</td>\n",
       "      <td>RER</td>\n",
       "      <td>6.797832e-19</td>\n",
       "      <td>3.0</td>\n",
       "      <td>2.039350e-18</td>\n",
       "    </tr>\n",
       "    <tr>\n",
       "      <th>1209</th>\n",
       "      <td>Carbon dioxide, to soil or biomass stock</td>\n",
       "      <td>(soil, agricultural)</td>\n",
       "      <td>particleboard production, cement bonded</td>\n",
       "      <td>particleboard, cement bonded</td>\n",
       "      <td>RER</td>\n",
       "      <td>7.180541e-17</td>\n",
       "      <td>3.0</td>\n",
       "      <td>2.154162e-16</td>\n",
       "    </tr>\n",
       "  </tbody>\n",
       "</table>\n",
       "<p>1210 rows × 8 columns</p>\n",
       "</div>"
      ]
     },
     "execution_count": 27,
     "metadata": {},
     "output_type": "execute_result"
    }
   ],
   "execution_count": 27
  },
  {
   "metadata": {},
   "cell_type": "markdown",
   "source": "As expected, only CH, FR and RER-based consumers have been considered in the calculation."
  },
  {
   "metadata": {
    "ExecuteTime": {
     "end_time": "2025-03-19T10:58:49.313328Z",
     "start_time": "2025-03-19T10:58:49.309766Z"
    }
   },
   "cell_type": "code",
   "source": "df.groupby(\"consumer location\")[\"CF\"].mean()",
   "outputs": [
    {
     "data": {
      "text/plain": [
       "consumer location\n",
       "CH     1.0\n",
       "FR     2.0\n",
       "RER    3.0\n",
       "Name: CF, dtype: float64"
      ]
     },
     "execution_count": 28,
     "metadata": {},
     "output_type": "execute_result"
    }
   ],
   "execution_count": 28
  },
  {
   "metadata": {},
   "cell_type": "markdown",
   "source": "But `statistics()` tells us that many exchanges have been ignored."
  },
  {
   "metadata": {
    "ExecuteTime": {
     "end_time": "2025-03-19T10:58:51.507831Z",
     "start_time": "2025-03-19T10:58:51.504837Z"
    }
   },
   "cell_type": "code",
   "source": "LCA.statistics()",
   "outputs": [
    {
     "name": "stdout",
     "output_type": "stream",
     "text": [
      "+----------------------+---------------------------------+\n",
      "|       Activity       | electricity production, lignite |\n",
      "|     Method name      |        ('some', 'method')       |\n",
      "|      Data file       |          lcia_example_2         |\n",
      "| Unique CFs in method |                3                |\n",
      "|   Unique CFs used    |                3                |\n",
      "|  Exc. characterized  |               1210              |\n",
      "| Exc. uncharacterized |              334757             |\n",
      "+----------------------+---------------------------------+\n"
     ]
    }
   ],
   "execution_count": 29
  },
  {
   "metadata": {},
   "cell_type": "markdown",
   "source": [
    "We can extend the application of CFs to other exchanges, using the helping functions: `map_aggregate_locations`, `map_disaggregate_location`, `map_dynamic_locations` and `map_remaining_locations_to_global`.\n",
    "\n",
    "* `map_aggregate_locations` maps exchanges with aggregate locations (e.g., \"RER\", RLA\", etc.) to weighted-average CFs.\n",
    "* `map_disaggregate_location` maps exchanges with locations that belong to aggregate locations (\"CA-QC\") to CFs of aggregate locations (e.g., \"CA\").\n",
    "* `map_dynamic_locations` maps exchanges with dynamic locations (e.g., \"RoW\", \"RoW\") to CFs calculated as the weighted-average of all locations minus those excluded by dynamic locations' perimeter (e.g., \"GLO minus CH\").\n",
    "* `map_remaining_locations_to_global` maps exchanges with remaining locations to the global CFs."
   ]
  },
  {
   "metadata": {
    "ExecuteTime": {
     "end_time": "2025-03-19T11:11:05.116209Z",
     "start_time": "2025-03-19T11:10:55.634028Z"
    }
   },
   "cell_type": "code",
   "source": [
    "LCA = EdgeLCIA(\n",
    "    demand={act: 1},\n",
    "    method=(\"some\", \"method\"),\n",
    "    filepath=\"lcia_example_2.json\"\n",
    ")\n",
    "LCA.lci()\n",
    "\n",
    "LCA.map_exchanges()\n",
    "\n",
    "LCA.map_aggregate_locations()\n",
    "LCA.map_dynamic_locations()\n",
    "LCA.map_contained_locations()\n",
    "LCA.map_remaining_locations_to_global()\n",
    "\n",
    "LCA.evaluate_cfs()\n",
    "LCA.lcia()\n",
    "LCA.score"
   ],
   "outputs": [
    {
     "name": "stderr",
     "output_type": "stream",
     "text": [
      "/opt/homebrew/Caskroom/miniforge/base/envs/bw2/lib/python3.11/site-packages/scikits/umfpack/umfpack.py:736: UmfpackWarning: (almost) singular matrix! (estimated cond. number: 4.83e+13)\n",
      "  warnings.warn(msg, UmfpackWarning)\n"
     ]
    },
    {
     "name": "stdout",
     "output_type": "stream",
     "text": [
      "Identifying eligible exchanges...\n"
     ]
    },
    {
     "name": "stderr",
     "output_type": "stream",
     "text": [
      "100%|██████████| 3/3 [00:00<00:00, 239.62it/s]"
     ]
    },
    {
     "name": "stdout",
     "output_type": "stream",
     "text": [
      "Handling static regions...\n"
     ]
    },
    {
     "name": "stderr",
     "output_type": "stream",
     "text": [
      "\n",
      "Processing locations: 100%|██████████| 305/305 [00:00<00:00, 401.76it/s]\n",
      "Processing locations: 0it [00:00, ?it/s]\n"
     ]
    },
    {
     "name": "stdout",
     "output_type": "stream",
     "text": [
      "Handling dynamic regions...\n"
     ]
    },
    {
     "name": "stderr",
     "output_type": "stream",
     "text": [
      "Processing dynamic edges: 100%|██████████| 334009/334009 [00:01<00:00, 220910.98it/s]\n",
      "Processing dynamic edges: 0it [00:00, ?it/s]\n"
     ]
    },
    {
     "name": "stdout",
     "output_type": "stream",
     "text": [
      "Handling contained locations...\n"
     ]
    },
    {
     "name": "stderr",
     "output_type": "stream",
     "text": [
      "Processing edges: 100%|██████████| 332506/332506 [00:01<00:00, 258150.22it/s]\n",
      "Processing edges: 0it [00:00, ?it/s]\n"
     ]
    },
    {
     "name": "stdout",
     "output_type": "stream",
     "text": [
      "Handling remaining exchanges...\n"
     ]
    },
    {
     "name": "stderr",
     "output_type": "stream",
     "text": [
      "Processing remaining global edges: 100%|██████████| 331776/331776 [00:02<00:00, 121699.82it/s]\n",
      "Processing remaining global edges: 0it [00:00, ?it/s]\n"
     ]
    },
    {
     "data": {
      "text/plain": [
       "3.5288595477886058"
      ]
     },
     "execution_count": 3,
     "metadata": {},
     "output_type": "execute_result"
    }
   ],
   "execution_count": 3
  },
  {
   "metadata": {
    "ExecuteTime": {
     "end_time": "2025-03-19T11:11:08.047549Z",
     "start_time": "2025-03-19T11:11:08.043725Z"
    }
   },
   "cell_type": "code",
   "source": "LCA.statistics()",
   "outputs": [
    {
     "name": "stdout",
     "output_type": "stream",
     "text": [
      "+----------------------+--------------------+\n",
      "|       Activity       |  sawing, softwood  |\n",
      "|     Method name      | ('some', 'method') |\n",
      "|      Data file       |   lcia_example_2   |\n",
      "| Unique CFs in method |         4          |\n",
      "|   Unique CFs used    |         7          |\n",
      "|  Exc. characterized  |        6462        |\n",
      "| Exc. uncharacterized |       329447       |\n",
      "+----------------------+--------------------+\n"
     ]
    }
   ],
   "execution_count": 4
  },
  {
   "metadata": {
    "ExecuteTime": {
     "end_time": "2025-03-19T10:59:03.433506Z",
     "start_time": "2025-03-19T10:59:03.430466Z"
    }
   },
   "cell_type": "code",
   "source": "LCA.weights",
   "outputs": [
    {
     "data": {
      "text/plain": [
       "{'CH': 8921981, 'FR': 66548530, 'RER': 0}"
      ]
     },
     "execution_count": 32,
     "metadata": {},
     "output_type": "execute_result"
    }
   ],
   "execution_count": 32
  },
  {
   "metadata": {
    "ExecuteTime": {
     "end_time": "2025-03-19T11:11:24.972250Z",
     "start_time": "2025-03-19T11:11:22.500591Z"
    }
   },
   "cell_type": "code",
   "source": "df = LCA.generate_cf_table()",
   "outputs": [],
   "execution_count": 7
  },
  {
   "metadata": {
    "ExecuteTime": {
     "end_time": "2025-03-19T11:11:24.987995Z",
     "start_time": "2025-03-19T11:11:24.978695Z"
    }
   },
   "cell_type": "code",
   "source": "df",
   "outputs": [
    {
     "data": {
      "text/plain": [
       "                                   supplier name  \\\n",
       "0                         Carbon dioxide, in air   \n",
       "1                         Carbon dioxide, in air   \n",
       "2                         Carbon dioxide, in air   \n",
       "3                         Carbon dioxide, in air   \n",
       "4                         Carbon dioxide, in air   \n",
       "...                                          ...   \n",
       "6457                      Carbon dioxide, fossil   \n",
       "6458                      Carbon dioxide, fossil   \n",
       "6459  Carbon dioxide, from soil or biomass stock   \n",
       "6460                  Carbon dioxide, non-fossil   \n",
       "6461                      Carbon dioxide, fossil   \n",
       "\n",
       "                           supplier categories  \\\n",
       "0                   (natural resource, in air)   \n",
       "1                   (natural resource, in air)   \n",
       "2                   (natural resource, in air)   \n",
       "3                   (natural resource, in air)   \n",
       "4                   (natural resource, in air)   \n",
       "...                                        ...   \n",
       "6457  (air, non-urban air or from high stacks)   \n",
       "6458                                    (air,)   \n",
       "6459  (air, non-urban air or from high stacks)   \n",
       "6460  (air, non-urban air or from high stacks)   \n",
       "6461                                    (air,)   \n",
       "\n",
       "                                          consumer name  \\\n",
       "0                               rye production, organic   \n",
       "1          fruit tree seedling production, for planting   \n",
       "2                                 beet sugar production   \n",
       "3         strawberry production, in unheated greenhouse   \n",
       "4     potato seed production, Swiss integrated produ...   \n",
       "...                                                 ...   \n",
       "6457                    electricity production, lignite   \n",
       "6458  petrol production, unleaded, petroleum refiner...   \n",
       "6459  clear-cutting, grassland to arable land, annua...   \n",
       "6460   heat and power co-generation, biogas, gas engine   \n",
       "6461                        electricity production, oil   \n",
       "\n",
       "                             consumer reference product consumer location  \\\n",
       "0                                        straw, organic                CH   \n",
       "1                     fruit tree seedling, for planting                CH   \n",
       "2                                       sugar beet pulp                CH   \n",
       "3                                            strawberry                CH   \n",
       "4     potato seed, Swiss integrated production, at farm                CH   \n",
       "...                                                 ...               ...   \n",
       "6457                          electricity, high voltage             IN-MP   \n",
       "6458                                   petrol, unleaded                ZA   \n",
       "6459  land tenure, arable land, measured as carbon n...             BR-BA   \n",
       "6460  heat, central or small-scale, other than natur...                MX   \n",
       "6461                          electricity, high voltage             CN-JS   \n",
       "\n",
       "            amount        CF        impact  \n",
       "0     1.015291e-10  1.000000  1.015291e-10  \n",
       "1     1.992838e-15  1.000000  1.992838e-15  \n",
       "2     3.855517e-30  1.000000  3.855517e-30  \n",
       "3     9.743232e-32  1.000000  9.743232e-32  \n",
       "4     1.836080e-09  1.000000  1.836080e-09  \n",
       "...            ...       ...           ...  \n",
       "6457  5.219861e-06  1.881782  9.822640e-06  \n",
       "6458  2.238751e-09  1.881782  4.212841e-09  \n",
       "6459  8.981452e-10  1.881782  1.690113e-09  \n",
       "6460  4.258051e-12  1.881782  8.012723e-12  \n",
       "6461  4.121845e-10  1.881782  7.756415e-10  \n",
       "\n",
       "[6462 rows x 8 columns]"
      ],
      "text/html": [
       "<div>\n",
       "<style scoped>\n",
       "    .dataframe tbody tr th:only-of-type {\n",
       "        vertical-align: middle;\n",
       "    }\n",
       "\n",
       "    .dataframe tbody tr th {\n",
       "        vertical-align: top;\n",
       "    }\n",
       "\n",
       "    .dataframe thead th {\n",
       "        text-align: right;\n",
       "    }\n",
       "</style>\n",
       "<table border=\"1\" class=\"dataframe\">\n",
       "  <thead>\n",
       "    <tr style=\"text-align: right;\">\n",
       "      <th></th>\n",
       "      <th>supplier name</th>\n",
       "      <th>supplier categories</th>\n",
       "      <th>consumer name</th>\n",
       "      <th>consumer reference product</th>\n",
       "      <th>consumer location</th>\n",
       "      <th>amount</th>\n",
       "      <th>CF</th>\n",
       "      <th>impact</th>\n",
       "    </tr>\n",
       "  </thead>\n",
       "  <tbody>\n",
       "    <tr>\n",
       "      <th>0</th>\n",
       "      <td>Carbon dioxide, in air</td>\n",
       "      <td>(natural resource, in air)</td>\n",
       "      <td>rye production, organic</td>\n",
       "      <td>straw, organic</td>\n",
       "      <td>CH</td>\n",
       "      <td>1.015291e-10</td>\n",
       "      <td>1.000000</td>\n",
       "      <td>1.015291e-10</td>\n",
       "    </tr>\n",
       "    <tr>\n",
       "      <th>1</th>\n",
       "      <td>Carbon dioxide, in air</td>\n",
       "      <td>(natural resource, in air)</td>\n",
       "      <td>fruit tree seedling production, for planting</td>\n",
       "      <td>fruit tree seedling, for planting</td>\n",
       "      <td>CH</td>\n",
       "      <td>1.992838e-15</td>\n",
       "      <td>1.000000</td>\n",
       "      <td>1.992838e-15</td>\n",
       "    </tr>\n",
       "    <tr>\n",
       "      <th>2</th>\n",
       "      <td>Carbon dioxide, in air</td>\n",
       "      <td>(natural resource, in air)</td>\n",
       "      <td>beet sugar production</td>\n",
       "      <td>sugar beet pulp</td>\n",
       "      <td>CH</td>\n",
       "      <td>3.855517e-30</td>\n",
       "      <td>1.000000</td>\n",
       "      <td>3.855517e-30</td>\n",
       "    </tr>\n",
       "    <tr>\n",
       "      <th>3</th>\n",
       "      <td>Carbon dioxide, in air</td>\n",
       "      <td>(natural resource, in air)</td>\n",
       "      <td>strawberry production, in unheated greenhouse</td>\n",
       "      <td>strawberry</td>\n",
       "      <td>CH</td>\n",
       "      <td>9.743232e-32</td>\n",
       "      <td>1.000000</td>\n",
       "      <td>9.743232e-32</td>\n",
       "    </tr>\n",
       "    <tr>\n",
       "      <th>4</th>\n",
       "      <td>Carbon dioxide, in air</td>\n",
       "      <td>(natural resource, in air)</td>\n",
       "      <td>potato seed production, Swiss integrated produ...</td>\n",
       "      <td>potato seed, Swiss integrated production, at farm</td>\n",
       "      <td>CH</td>\n",
       "      <td>1.836080e-09</td>\n",
       "      <td>1.000000</td>\n",
       "      <td>1.836080e-09</td>\n",
       "    </tr>\n",
       "    <tr>\n",
       "      <th>...</th>\n",
       "      <td>...</td>\n",
       "      <td>...</td>\n",
       "      <td>...</td>\n",
       "      <td>...</td>\n",
       "      <td>...</td>\n",
       "      <td>...</td>\n",
       "      <td>...</td>\n",
       "      <td>...</td>\n",
       "    </tr>\n",
       "    <tr>\n",
       "      <th>6457</th>\n",
       "      <td>Carbon dioxide, fossil</td>\n",
       "      <td>(air, non-urban air or from high stacks)</td>\n",
       "      <td>electricity production, lignite</td>\n",
       "      <td>electricity, high voltage</td>\n",
       "      <td>IN-MP</td>\n",
       "      <td>5.219861e-06</td>\n",
       "      <td>1.881782</td>\n",
       "      <td>9.822640e-06</td>\n",
       "    </tr>\n",
       "    <tr>\n",
       "      <th>6458</th>\n",
       "      <td>Carbon dioxide, fossil</td>\n",
       "      <td>(air,)</td>\n",
       "      <td>petrol production, unleaded, petroleum refiner...</td>\n",
       "      <td>petrol, unleaded</td>\n",
       "      <td>ZA</td>\n",
       "      <td>2.238751e-09</td>\n",
       "      <td>1.881782</td>\n",
       "      <td>4.212841e-09</td>\n",
       "    </tr>\n",
       "    <tr>\n",
       "      <th>6459</th>\n",
       "      <td>Carbon dioxide, from soil or biomass stock</td>\n",
       "      <td>(air, non-urban air or from high stacks)</td>\n",
       "      <td>clear-cutting, grassland to arable land, annua...</td>\n",
       "      <td>land tenure, arable land, measured as carbon n...</td>\n",
       "      <td>BR-BA</td>\n",
       "      <td>8.981452e-10</td>\n",
       "      <td>1.881782</td>\n",
       "      <td>1.690113e-09</td>\n",
       "    </tr>\n",
       "    <tr>\n",
       "      <th>6460</th>\n",
       "      <td>Carbon dioxide, non-fossil</td>\n",
       "      <td>(air, non-urban air or from high stacks)</td>\n",
       "      <td>heat and power co-generation, biogas, gas engine</td>\n",
       "      <td>heat, central or small-scale, other than natur...</td>\n",
       "      <td>MX</td>\n",
       "      <td>4.258051e-12</td>\n",
       "      <td>1.881782</td>\n",
       "      <td>8.012723e-12</td>\n",
       "    </tr>\n",
       "    <tr>\n",
       "      <th>6461</th>\n",
       "      <td>Carbon dioxide, fossil</td>\n",
       "      <td>(air,)</td>\n",
       "      <td>electricity production, oil</td>\n",
       "      <td>electricity, high voltage</td>\n",
       "      <td>CN-JS</td>\n",
       "      <td>4.121845e-10</td>\n",
       "      <td>1.881782</td>\n",
       "      <td>7.756415e-10</td>\n",
       "    </tr>\n",
       "  </tbody>\n",
       "</table>\n",
       "<p>6462 rows × 8 columns</p>\n",
       "</div>"
      ]
     },
     "execution_count": 8,
     "metadata": {},
     "output_type": "execute_result"
    }
   ],
   "execution_count": 8
  },
  {
   "metadata": {},
   "cell_type": "markdown",
   "source": "We can check the weights used:"
  },
  {
   "metadata": {
    "ExecuteTime": {
     "end_time": "2025-03-19T11:11:15.944537Z",
     "start_time": "2025-03-19T11:11:15.937896Z"
    }
   },
   "cell_type": "code",
   "source": "LCA.weights",
   "outputs": [
    {
     "data": {
      "text/plain": [
       "{'CH': 8921981, 'FR': 66548530, 'RER': 0}"
      ]
     },
     "execution_count": 5,
     "metadata": {},
     "output_type": "execute_result"
    }
   ],
   "execution_count": 5
  },
  {
   "metadata": {},
   "cell_type": "markdown",
   "source": "By default, if weights are not provided in the consumer sections of LCIA file, population is used. The other option is GDP. To be specified when calling EdgeLICA()."
  },
  {
   "metadata": {},
   "cell_type": "markdown",
   "source": "And we can see the weighted-average CFs used:"
  },
  {
   "metadata": {
    "ExecuteTime": {
     "end_time": "2025-03-19T11:11:29.033360Z",
     "start_time": "2025-03-19T11:11:29.025202Z"
    }
   },
   "cell_type": "code",
   "source": "df.groupby(\"consumer location\")[\"CF\"].mean()",
   "outputs": [
    {
     "data": {
      "text/plain": [
       "consumer location\n",
       "AE        1.881782\n",
       "AR        1.881782\n",
       "AT        3.000000\n",
       "AU        1.881782\n",
       "AU-NSW    1.881782\n",
       "            ...   \n",
       "VE        1.881782\n",
       "VN        1.881782\n",
       "WEU       1.881782\n",
       "ZA        1.881782\n",
       "ZM        1.881782\n",
       "Name: CF, Length: 227, dtype: float64"
      ]
     },
     "execution_count": 9,
     "metadata": {},
     "output_type": "execute_result"
    }
   ],
   "execution_count": 9
  },
  {
   "metadata": {},
   "cell_type": "markdown",
   "source": [
    "We have pre-generated LCIA files for specific methods (AWARE, ImpactWorld+, etc.).\n",
    "You can get a list like so:"
   ]
  },
  {
   "metadata": {
    "ExecuteTime": {
     "end_time": "2025-03-19T10:59:19.307323Z",
     "start_time": "2025-03-19T10:59:19.301721Z"
    }
   },
   "cell_type": "code",
   "source": "get_available_methods()",
   "outputs": [
    {
     "data": {
      "text/plain": [
       "[('AWARE 1.2c', 'Country', 'irri', 'apr'),\n",
       " ('AWARE 1.2c', 'Country', 'irri', 'aug'),\n",
       " ('AWARE 1.2c', 'Country', 'irri', 'dec'),\n",
       " ('AWARE 1.2c', 'Country', 'irri', 'feb'),\n",
       " ('AWARE 1.2c', 'Country', 'irri', 'jan'),\n",
       " ('AWARE 1.2c', 'Country', 'irri', 'jul'),\n",
       " ('AWARE 1.2c', 'Country', 'irri', 'jun'),\n",
       " ('AWARE 1.2c', 'Country', 'irri', 'mar'),\n",
       " ('AWARE 1.2c', 'Country', 'irri', 'may'),\n",
       " ('AWARE 1.2c', 'Country', 'irri', 'nov'),\n",
       " ('AWARE 1.2c', 'Country', 'irri', 'oct'),\n",
       " ('AWARE 1.2c', 'Country', 'irri', 'sep'),\n",
       " ('AWARE 1.2c', 'Country', 'irri', 'yearly'),\n",
       " ('AWARE 1.2c', 'Country', 'non', 'irri', 'apr'),\n",
       " ('AWARE 1.2c', 'Country', 'non', 'irri', 'aug'),\n",
       " ('AWARE 1.2c', 'Country', 'non', 'irri', 'dec'),\n",
       " ('AWARE 1.2c', 'Country', 'non', 'irri', 'feb'),\n",
       " ('AWARE 1.2c', 'Country', 'non', 'irri', 'jan'),\n",
       " ('AWARE 1.2c', 'Country', 'non', 'irri', 'jul'),\n",
       " ('AWARE 1.2c', 'Country', 'non', 'irri', 'jun'),\n",
       " ('AWARE 1.2c', 'Country', 'non', 'irri', 'mar'),\n",
       " ('AWARE 1.2c', 'Country', 'non', 'irri', 'may'),\n",
       " ('AWARE 1.2c', 'Country', 'non', 'irri', 'nov'),\n",
       " ('AWARE 1.2c', 'Country', 'non', 'irri', 'oct'),\n",
       " ('AWARE 1.2c', 'Country', 'non', 'irri', 'sep'),\n",
       " ('AWARE 1.2c', 'Country', 'non', 'irri', 'yearly'),\n",
       " ('AWARE 1.2c', 'Country', 'unspecified', 'apr'),\n",
       " ('AWARE 1.2c', 'Country', 'unspecified', 'aug'),\n",
       " ('AWARE 1.2c', 'Country', 'unspecified', 'dec'),\n",
       " ('AWARE 1.2c', 'Country', 'unspecified', 'feb'),\n",
       " ('AWARE 1.2c', 'Country', 'unspecified', 'jan'),\n",
       " ('AWARE 1.2c', 'Country', 'unspecified', 'jul'),\n",
       " ('AWARE 1.2c', 'Country', 'unspecified', 'jun'),\n",
       " ('AWARE 1.2c', 'Country', 'unspecified', 'mar'),\n",
       " ('AWARE 1.2c', 'Country', 'unspecified', 'may'),\n",
       " ('AWARE 1.2c', 'Country', 'unspecified', 'nov'),\n",
       " ('AWARE 1.2c', 'Country', 'unspecified', 'oct'),\n",
       " ('AWARE 1.2c', 'Country', 'unspecified', 'sep'),\n",
       " ('AWARE 1.2c', 'Country', 'unspecified', 'yearly'),\n",
       " ('GeoPolRisk', '2024'),\n",
       " ('GeoPolRisk', 'paired', '2024'),\n",
       " ('ImpactWorld+ 2.1', 'Freshwater acidification', 'damage'),\n",
       " ('ImpactWorld+ 2.1', 'Freshwater acidification', 'midpoint'),\n",
       " ('ImpactWorld+ 2.1', 'Freshwater eutrophication', 'damage'),\n",
       " ('ImpactWorld+ 2.1', 'Freshwater eutrophication', 'midpoint'),\n",
       " ('ImpactWorld+ 2.1', 'Land occupation, biodiversity', 'damage'),\n",
       " ('ImpactWorld+ 2.1', 'Land occupation, biodiversity', 'midpoint'),\n",
       " ('ImpactWorld+ 2.1', 'Land transformation, biodiversity', 'damage'),\n",
       " ('ImpactWorld+ 2.1', 'Land transformation, biodiversity', 'midpoint'),\n",
       " ('ImpactWorld+ 2.1', 'Marine eutrophication', 'damage'),\n",
       " ('ImpactWorld+ 2.1', 'Marine eutrophication', 'midpoint'),\n",
       " ('ImpactWorld+ 2.1', 'Terrestrial acidification', 'damage'),\n",
       " ('ImpactWorld+ 2.1', 'Terrestrial acidification', 'midpoint'),\n",
       " ('ImpactWorld+ 2.1', 'Thermally polluted water', 'damage'),\n",
       " ('ImpactWorld+ 2.1', 'Thermally polluted water', 'midpoint'),\n",
       " ('ImpactWorld+ 2.1', 'Water availability, freshwater ecosystem', 'damage'),\n",
       " ('ImpactWorld+ 2.1', 'Water availability, freshwater ecosystem', 'midpoint'),\n",
       " ('ImpactWorld+ 2.1', 'Water availability, human health', 'damage'),\n",
       " ('ImpactWorld+ 2.1', 'Water availability, human health', 'midpoint'),\n",
       " ('ImpactWorld+ 2.1', 'Water availability, terrestrial ecosystem', 'damage'),\n",
       " ('ImpactWorld+ 2.1', 'Water availability, terrestrial ecosystem', 'midpoint'),\n",
       " ('ImpactWorld+ 2.1', 'Water scarcity', 'damage'),\n",
       " ('ImpactWorld+ 2.1', 'Water scarcity', 'midpoint'),\n",
       " ('RELICS', 'copper')]"
      ]
     },
     "execution_count": 37,
     "metadata": {},
     "output_type": "execute_result"
    }
   ],
   "execution_count": 37
  },
  {
   "metadata": {},
   "cell_type": "markdown",
   "source": "Check the other notebooks to see how to use them."
  },
  {
   "metadata": {},
   "cell_type": "code",
   "outputs": [],
   "execution_count": null,
   "source": ""
  }
 ],
 "metadata": {
  "kernelspec": {
   "display_name": "Python 3 (ipykernel)",
   "language": "python",
   "name": "python3"
  },
  "language_info": {
   "codemirror_mode": {
    "name": "ipython",
    "version": 3
   },
   "file_extension": ".py",
   "mimetype": "text/x-python",
   "name": "python",
   "nbconvert_exporter": "python",
   "pygments_lexer": "ipython3",
   "version": "3.11.8"
  }
 },
 "nbformat": 4,
 "nbformat_minor": 4
}

{
 "cells": [
  {
   "cell_type": "markdown",
   "metadata": {},
   "source": [
    "# Use examples of [edges](https://github.com/romainsacchi/edges)\n",
    "\n",
    "Author: [romainsacchi](https://github.com/romainsacchi)\n",
    "\n",
    "This notebook shows examples on how to use `edge` to use exchange-specific\n",
    "characterization factors in the characterization matrix of `bw2calc`, combining the use of exchange names and locations.\n",
    "\n",
    "## Requirements\n",
    "\n",
    "* **Pyhton 3.10 or higher (up to 3.11) is highly recommended**"
   ]
  },
  {
   "cell_type": "markdown",
   "metadata": {},
   "source": [
    "# Use case with [brightway2](https://brightway.dev/)\n",
    "\n",
    "`brightway2` is an open source LCA framework for Python.\n",
    "To use `premise` from `brightway2`, it requires that you have an activated `brightway2` project with a `biosphere3` database as well as an [ecoinvent](https://ecoinvent.prg) v.3 cut-off or consequential database registered in that project. Please refer to the brightway [documentation](https://brightway.dev) if you do not know how to create a project and install ecoinvent."
   ]
  },
  {
   "cell_type": "code",
   "metadata": {
    "ExecuteTime": {
     "end_time": "2025-03-20T10:48:37.425878Z",
     "start_time": "2025-03-20T10:48:36.211980Z"
    }
   },
   "source": [
    "from edges import EdgeLCIA, get_available_methods\n",
    "import bw2data"
   ],
   "outputs": [],
   "execution_count": 1
  },
  {
   "metadata": {},
   "cell_type": "markdown",
   "source": [
    "One can simply build its own LCIA file.\n",
    "Let's consider the following LCIA file (saved under `lcia_example_2.json`):"
   ]
  },
  {
   "metadata": {
    "ExecuteTime": {
     "end_time": "2025-03-17T14:45:20.307990Z",
     "start_time": "2025-03-17T14:45:20.302804Z"
    }
   },
   "cell_type": "code",
   "source": [
    "[\n",
    "  {\n",
    "    \"supplier\": {\n",
    "      \"name\": \"Carbon dioxide\",\n",
    "      \"operator\": \"startswith\",\n",
    "      \"matrix\": \"biosphere\"\n",
    "    },\n",
    "    \"consumer\": {\n",
    "      \"matrix\": \"technosphere\",\n",
    "      \"type\": \"process\",\n",
    "      \"location\": \"CH\" # now, we want to specify the location of the consumer\n",
    "    },\n",
    "    \"value\": 1.0\n",
    "  },\n",
    "  {\n",
    "    \"supplier\": {\n",
    "      \"name\": \"Carbon dioxide\",\n",
    "      \"operator\": \"startswith\",\n",
    "      \"matrix\": \"biosphere\"\n",
    "    },\n",
    "    \"consumer\": {\n",
    "      \"matrix\": \"technosphere\",\n",
    "      \"type\": \"process\",\n",
    "      \"location\": \"FR\" # now, we want to specify the location of the consumer\n",
    "    },\n",
    "    \"value\": 2.0\n",
    "  },\n",
    "  {\n",
    "    \"supplier\": {\n",
    "      \"name\": \"Carbon dioxide\",\n",
    "      \"operator\": \"startswith\",\n",
    "      \"matrix\": \"biosphere\"\n",
    "    },\n",
    "    \"consumer\": {\n",
    "      \"matrix\": \"technosphere\",\n",
    "      \"type\": \"process\",\n",
    "      \"location\": \"RER\" # now, we want to specify the location of the consumer\n",
    "    },\n",
    "    \"value\": 3.0\n",
    "  }\n",
    "]"
   ],
   "outputs": [
    {
     "data": {
      "text/plain": [
       "[{'supplier': {'name': 'Carbon dioxide',\n",
       "   'operator': 'startswith',\n",
       "   'matrix': 'biosphere'},\n",
       "  'consumer': {'matrix': 'technosphere', 'type': 'process', 'location': 'CH'},\n",
       "  'value': 1.0},\n",
       " {'supplier': {'name': 'Carbon dioxide',\n",
       "   'operator': 'startswith',\n",
       "   'matrix': 'biosphere'},\n",
       "  'consumer': {'matrix': 'technosphere', 'type': 'process', 'location': 'FR'},\n",
       "  'value': 2.0},\n",
       " {'supplier': {'name': 'Carbon dioxide',\n",
       "   'operator': 'startswith',\n",
       "   'matrix': 'biosphere'},\n",
       "  'consumer': {'matrix': 'technosphere', 'type': 'process', 'location': 'RER'},\n",
       "  'value': 3.0}]"
      ]
     },
     "execution_count": 2,
     "metadata": {},
     "output_type": "execute_result"
    }
   ],
   "execution_count": 2
  },
  {
   "metadata": {
    "ExecuteTime": {
     "end_time": "2025-03-20T10:48:40.393031Z",
     "start_time": "2025-03-20T10:48:40.151190Z"
    }
   },
   "cell_type": "code",
   "source": [
    "# activate the bw project\n",
    "bw2data.projects.set_current(\"ecoinvent-3.10-cutoff\")\n",
    "act = bw2data.Database(\"ecoinvent-3.10.1-cutoff\").random()\n",
    "act"
   ],
   "outputs": [
    {
     "data": {
      "text/plain": [
       "'electricity production, photovoltaic, 3kWp slanted-roof installation, multi-Si, panel, mounted' (kilowatt hour, RU, None)"
      ]
     },
     "execution_count": 2,
     "metadata": {},
     "output_type": "execute_result"
    }
   ],
   "execution_count": 2
  },
  {
   "metadata": {
    "ExecuteTime": {
     "end_time": "2025-03-20T10:08:29.137629Z",
     "start_time": "2025-03-20T10:08:26.937552Z"
    }
   },
   "cell_type": "code",
   "source": [
    "LCA = EdgeLCIA(\n",
    "    demand={act: 1},\n",
    "    method=(\"some\", \"method\"),\n",
    "    filepath=\"lcia_example_2.json\"\n",
    ")\n",
    "LCA.lci()\n",
    "\n",
    "LCA.map_exchanges()\n",
    "\n",
    "LCA.evaluate_cfs()\n",
    "LCA.lcia()\n",
    "LCA.score"
   ],
   "outputs": [
    {
     "name": "stderr",
     "output_type": "stream",
     "text": [
      "/opt/homebrew/Caskroom/miniforge/base/envs/bw2/lib/python3.11/site-packages/scikits/umfpack/umfpack.py:736: UmfpackWarning: (almost) singular matrix! (estimated cond. number: 4.83e+13)\n",
      "  warnings.warn(msg, UmfpackWarning)\n"
     ]
    },
    {
     "name": "stdout",
     "output_type": "stream",
     "text": [
      "Identifying eligible exchanges...\n"
     ]
    },
    {
     "name": "stderr",
     "output_type": "stream",
     "text": [
      "100%|██████████| 3/3 [00:00<00:00, 209.01it/s]\n"
     ]
    },
    {
     "data": {
      "text/plain": [
       "3.5226391576625655"
      ]
     },
     "execution_count": 3,
     "metadata": {},
     "output_type": "execute_result"
    }
   ],
   "execution_count": 3
  },
  {
   "cell_type": "markdown",
   "metadata": {},
   "source": [
    "### Generate dataframe of characterization factors used\n",
    "\n",
    "The `generate_cf_table` method generates a dataframe of the characterization factors used in the calculation. One can see the characterization factors used for each exchange in the system."
   ]
  },
  {
   "metadata": {
    "ExecuteTime": {
     "end_time": "2025-03-20T09:58:03.427070Z",
     "start_time": "2025-03-20T09:58:02.951649Z"
    }
   },
   "cell_type": "code",
   "source": "df = LCA.generate_cf_table()",
   "outputs": [],
   "execution_count": 4
  },
  {
   "metadata": {
    "ExecuteTime": {
     "end_time": "2025-03-20T09:58:03.466510Z",
     "start_time": "2025-03-20T09:58:03.449759Z"
    }
   },
   "cell_type": "code",
   "source": [
    "# we can see under the \"CF\" column\n",
    "# the characterization factors used for each exchange in the system\n",
    "df"
   ],
   "outputs": [
    {
     "data": {
      "text/plain": [
       "                   supplier name         supplier categories  \\\n",
       "0         Carbon dioxide, in air  (natural resource, in air)   \n",
       "1         Carbon dioxide, in air  (natural resource, in air)   \n",
       "2         Carbon dioxide, in air  (natural resource, in air)   \n",
       "3         Carbon dioxide, in air  (natural resource, in air)   \n",
       "4         Carbon dioxide, in air  (natural resource, in air)   \n",
       "...                          ...                         ...   \n",
       "1205  Carbon dioxide, non-fossil                      (air,)   \n",
       "1206  Carbon dioxide, non-fossil                      (air,)   \n",
       "1207  Carbon dioxide, non-fossil                      (air,)   \n",
       "1208  Carbon dioxide, non-fossil                      (air,)   \n",
       "1209  Carbon dioxide, non-fossil                      (air,)   \n",
       "\n",
       "                                          consumer name  \\\n",
       "0                               rye production, organic   \n",
       "1          fruit tree seedling production, for planting   \n",
       "2                                 beet sugar production   \n",
       "3         strawberry production, in unheated greenhouse   \n",
       "4     potato seed production, Swiss integrated produ...   \n",
       "...                                                 ...   \n",
       "1205  containerboard production, linerboard, kraftliner   \n",
       "1206                           anthraquinone production   \n",
       "1207                                   latex production   \n",
       "1208            particleboard production, cement bonded   \n",
       "1209            three and five layered board production   \n",
       "\n",
       "                             consumer reference product consumer location  \\\n",
       "0                                        straw, organic                CH   \n",
       "1                     fruit tree seedling, for planting                CH   \n",
       "2                                       sugar beet pulp                CH   \n",
       "3                                            strawberry                CH   \n",
       "4     potato seed, Swiss integrated production, at farm                CH   \n",
       "...                                                 ...               ...   \n",
       "1205                         containerboard, linerboard               RER   \n",
       "1206                                      anthraquinone               RER   \n",
       "1207                                              latex               RER   \n",
       "1208                       particleboard, cement bonded               RER   \n",
       "1209              wood chips, dry, measured as dry mass               RER   \n",
       "\n",
       "            amount   CF        impact  \n",
       "0     7.607581e-09  1.0  7.607581e-09  \n",
       "1     2.326311e-13  1.0  2.326311e-13  \n",
       "2     1.704264e-28  1.0  1.704264e-28  \n",
       "3     4.306825e-30  1.0  4.306825e-30  \n",
       "4     4.491381e-08  1.0  4.491381e-08  \n",
       "...            ...  ...           ...  \n",
       "1205  5.869426e-09  3.0  1.760828e-08  \n",
       "1206  8.717202e-11  3.0  2.615161e-10  \n",
       "1207  1.891544e-13  3.0  5.674632e-13  \n",
       "1208  2.081747e-12  3.0  6.245240e-12  \n",
       "1209  2.342436e-08  3.0  7.027307e-08  \n",
       "\n",
       "[1210 rows x 8 columns]"
      ],
      "text/html": [
       "<div>\n",
       "<style scoped>\n",
       "    .dataframe tbody tr th:only-of-type {\n",
       "        vertical-align: middle;\n",
       "    }\n",
       "\n",
       "    .dataframe tbody tr th {\n",
       "        vertical-align: top;\n",
       "    }\n",
       "\n",
       "    .dataframe thead th {\n",
       "        text-align: right;\n",
       "    }\n",
       "</style>\n",
       "<table border=\"1\" class=\"dataframe\">\n",
       "  <thead>\n",
       "    <tr style=\"text-align: right;\">\n",
       "      <th></th>\n",
       "      <th>supplier name</th>\n",
       "      <th>supplier categories</th>\n",
       "      <th>consumer name</th>\n",
       "      <th>consumer reference product</th>\n",
       "      <th>consumer location</th>\n",
       "      <th>amount</th>\n",
       "      <th>CF</th>\n",
       "      <th>impact</th>\n",
       "    </tr>\n",
       "  </thead>\n",
       "  <tbody>\n",
       "    <tr>\n",
       "      <th>0</th>\n",
       "      <td>Carbon dioxide, in air</td>\n",
       "      <td>(natural resource, in air)</td>\n",
       "      <td>rye production, organic</td>\n",
       "      <td>straw, organic</td>\n",
       "      <td>CH</td>\n",
       "      <td>7.607581e-09</td>\n",
       "      <td>1.0</td>\n",
       "      <td>7.607581e-09</td>\n",
       "    </tr>\n",
       "    <tr>\n",
       "      <th>1</th>\n",
       "      <td>Carbon dioxide, in air</td>\n",
       "      <td>(natural resource, in air)</td>\n",
       "      <td>fruit tree seedling production, for planting</td>\n",
       "      <td>fruit tree seedling, for planting</td>\n",
       "      <td>CH</td>\n",
       "      <td>2.326311e-13</td>\n",
       "      <td>1.0</td>\n",
       "      <td>2.326311e-13</td>\n",
       "    </tr>\n",
       "    <tr>\n",
       "      <th>2</th>\n",
       "      <td>Carbon dioxide, in air</td>\n",
       "      <td>(natural resource, in air)</td>\n",
       "      <td>beet sugar production</td>\n",
       "      <td>sugar beet pulp</td>\n",
       "      <td>CH</td>\n",
       "      <td>1.704264e-28</td>\n",
       "      <td>1.0</td>\n",
       "      <td>1.704264e-28</td>\n",
       "    </tr>\n",
       "    <tr>\n",
       "      <th>3</th>\n",
       "      <td>Carbon dioxide, in air</td>\n",
       "      <td>(natural resource, in air)</td>\n",
       "      <td>strawberry production, in unheated greenhouse</td>\n",
       "      <td>strawberry</td>\n",
       "      <td>CH</td>\n",
       "      <td>4.306825e-30</td>\n",
       "      <td>1.0</td>\n",
       "      <td>4.306825e-30</td>\n",
       "    </tr>\n",
       "    <tr>\n",
       "      <th>4</th>\n",
       "      <td>Carbon dioxide, in air</td>\n",
       "      <td>(natural resource, in air)</td>\n",
       "      <td>potato seed production, Swiss integrated produ...</td>\n",
       "      <td>potato seed, Swiss integrated production, at farm</td>\n",
       "      <td>CH</td>\n",
       "      <td>4.491381e-08</td>\n",
       "      <td>1.0</td>\n",
       "      <td>4.491381e-08</td>\n",
       "    </tr>\n",
       "    <tr>\n",
       "      <th>...</th>\n",
       "      <td>...</td>\n",
       "      <td>...</td>\n",
       "      <td>...</td>\n",
       "      <td>...</td>\n",
       "      <td>...</td>\n",
       "      <td>...</td>\n",
       "      <td>...</td>\n",
       "      <td>...</td>\n",
       "    </tr>\n",
       "    <tr>\n",
       "      <th>1205</th>\n",
       "      <td>Carbon dioxide, non-fossil</td>\n",
       "      <td>(air,)</td>\n",
       "      <td>containerboard production, linerboard, kraftliner</td>\n",
       "      <td>containerboard, linerboard</td>\n",
       "      <td>RER</td>\n",
       "      <td>5.869426e-09</td>\n",
       "      <td>3.0</td>\n",
       "      <td>1.760828e-08</td>\n",
       "    </tr>\n",
       "    <tr>\n",
       "      <th>1206</th>\n",
       "      <td>Carbon dioxide, non-fossil</td>\n",
       "      <td>(air,)</td>\n",
       "      <td>anthraquinone production</td>\n",
       "      <td>anthraquinone</td>\n",
       "      <td>RER</td>\n",
       "      <td>8.717202e-11</td>\n",
       "      <td>3.0</td>\n",
       "      <td>2.615161e-10</td>\n",
       "    </tr>\n",
       "    <tr>\n",
       "      <th>1207</th>\n",
       "      <td>Carbon dioxide, non-fossil</td>\n",
       "      <td>(air,)</td>\n",
       "      <td>latex production</td>\n",
       "      <td>latex</td>\n",
       "      <td>RER</td>\n",
       "      <td>1.891544e-13</td>\n",
       "      <td>3.0</td>\n",
       "      <td>5.674632e-13</td>\n",
       "    </tr>\n",
       "    <tr>\n",
       "      <th>1208</th>\n",
       "      <td>Carbon dioxide, non-fossil</td>\n",
       "      <td>(air,)</td>\n",
       "      <td>particleboard production, cement bonded</td>\n",
       "      <td>particleboard, cement bonded</td>\n",
       "      <td>RER</td>\n",
       "      <td>2.081747e-12</td>\n",
       "      <td>3.0</td>\n",
       "      <td>6.245240e-12</td>\n",
       "    </tr>\n",
       "    <tr>\n",
       "      <th>1209</th>\n",
       "      <td>Carbon dioxide, non-fossil</td>\n",
       "      <td>(air,)</td>\n",
       "      <td>three and five layered board production</td>\n",
       "      <td>wood chips, dry, measured as dry mass</td>\n",
       "      <td>RER</td>\n",
       "      <td>2.342436e-08</td>\n",
       "      <td>3.0</td>\n",
       "      <td>7.027307e-08</td>\n",
       "    </tr>\n",
       "  </tbody>\n",
       "</table>\n",
       "<p>1210 rows × 8 columns</p>\n",
       "</div>"
      ]
     },
     "execution_count": 5,
     "metadata": {},
     "output_type": "execute_result"
    }
   ],
   "execution_count": 5
  },
  {
   "metadata": {},
   "cell_type": "markdown",
   "source": "As expected, only CH, FR and RER-based consumers have been considered in the calculation."
  },
  {
   "metadata": {
    "ExecuteTime": {
     "end_time": "2025-03-20T09:58:06.383792Z",
     "start_time": "2025-03-20T09:58:06.377867Z"
    }
   },
   "cell_type": "code",
   "source": "df.groupby(\"consumer location\")[\"CF\"].mean()",
   "outputs": [
    {
     "data": {
      "text/plain": [
       "consumer location\n",
       "CH     1.0\n",
       "FR     2.0\n",
       "RER    3.0\n",
       "Name: CF, dtype: float64"
      ]
     },
     "execution_count": 6,
     "metadata": {},
     "output_type": "execute_result"
    }
   ],
   "execution_count": 6
  },
  {
   "metadata": {},
   "cell_type": "markdown",
   "source": "But `statistics()` tells us that many exchanges have been ignored."
  },
  {
   "metadata": {
    "ExecuteTime": {
     "end_time": "2025-03-20T09:58:08.835036Z",
     "start_time": "2025-03-20T09:58:08.831316Z"
    }
   },
   "cell_type": "code",
   "source": "LCA.statistics()",
   "outputs": [
    {
     "name": "stdout",
     "output_type": "stream",
     "text": [
      "+----------------------+--------------------------------------------+\n",
      "|       Activity       | natural gas, high pressure, import from TT |\n",
      "|     Method name      |             ('some', 'method')             |\n",
      "|      Data file       |               lcia_example_2               |\n",
      "| Unique CFs in method |                     3                      |\n",
      "|   Unique CFs used    |                     3                      |\n",
      "|  Exc. characterized  |                    1210                    |\n",
      "| Exc. uncharacterized |                   334699                   |\n",
      "+----------------------+--------------------------------------------+\n"
     ]
    }
   ],
   "execution_count": 7
  },
  {
   "metadata": {},
   "cell_type": "markdown",
   "source": [
    "We can extend the application of CFs to other exchanges, using the helping functions: `map_aggregate_locations`, `map_disaggregate_location`, `map_dynamic_locations` and `map_remaining_locations_to_global`.\n",
    "\n",
    "* `map_aggregate_locations` maps exchanges with aggregate locations (e.g., \"RER\", RLA\", etc.) to weighted-average CFs.\n",
    "* `map_disaggregate_location` maps exchanges with locations that belong to aggregate locations (\"CA-QC\") to CFs of aggregate locations (e.g., \"CA\").\n",
    "* `map_dynamic_locations` maps exchanges with dynamic locations (e.g., \"RoW\", \"RoW\") to CFs calculated as the weighted-average of all locations minus those excluded by dynamic locations' perimeter (e.g., \"GLO minus CH\").\n",
    "* `map_remaining_locations_to_global` maps exchanges with remaining locations to the global CFs."
   ]
  },
  {
   "metadata": {
    "ExecuteTime": {
     "end_time": "2025-03-20T10:48:56.582217Z",
     "start_time": "2025-03-20T10:48:47.895530Z"
    }
   },
   "cell_type": "code",
   "source": [
    "LCA = EdgeLCIA(\n",
    "    demand={act: 1},\n",
    "    method=(\"some\", \"method\"),\n",
    "    filepath=\"lcia_example_2.json\"\n",
    ")\n",
    "LCA.lci()\n",
    "\n",
    "LCA.map_exchanges()\n",
    "\n",
    "LCA.map_aggregate_locations()\n",
    "LCA.map_dynamic_locations()\n",
    "LCA.map_contained_locations()\n",
    "LCA.map_remaining_locations_to_global()\n",
    "\n",
    "LCA.evaluate_cfs()\n",
    "LCA.lcia()\n",
    "LCA.score"
   ],
   "outputs": [
    {
     "name": "stderr",
     "output_type": "stream",
     "text": [
      "/opt/homebrew/Caskroom/miniforge/base/envs/bw2/lib/python3.11/site-packages/scikits/umfpack/umfpack.py:736: UmfpackWarning: (almost) singular matrix! (estimated cond. number: 4.83e+13)\n",
      "  warnings.warn(msg, UmfpackWarning)\n"
     ]
    },
    {
     "name": "stdout",
     "output_type": "stream",
     "text": [
      "Identifying eligible exchanges...\n"
     ]
    },
    {
     "name": "stderr",
     "output_type": "stream",
     "text": [
      "100%|██████████| 3/3 [00:00<00:00, 243.64it/s]"
     ]
    },
    {
     "name": "stdout",
     "output_type": "stream",
     "text": [
      "Handling static regions...\n"
     ]
    },
    {
     "name": "stderr",
     "output_type": "stream",
     "text": [
      "\n",
      "Processing remaining static edges (pass 2): 100%|██████████| 96785/96785 [00:00<00:00, 573761.07it/s]\n"
     ]
    },
    {
     "name": "stdout",
     "output_type": "stream",
     "text": [
      "Handling dynamic regions...\n"
     ]
    },
    {
     "name": "stderr",
     "output_type": "stream",
     "text": [
      "Processing remaining dynamic edges (pass 2): 100%|██████████| 84848/84848 [00:00<00:00, 465630.12it/s]\n"
     ]
    },
    {
     "name": "stdout",
     "output_type": "stream",
     "text": [
      "Handling contained locations...\n",
      "Handling remaining exchanges...\n"
     ]
    },
    {
     "name": "stderr",
     "output_type": "stream",
     "text": [
      "Processing remaining global edges (pass 2): 100%|██████████| 333196/333196 [00:01<00:00, 318460.49it/s]\n"
     ]
    },
    {
     "data": {
      "text/plain": [
       "0.17953711642085313"
      ]
     },
     "execution_count": 3,
     "metadata": {},
     "output_type": "execute_result"
    }
   ],
   "execution_count": 3
  },
  {
   "metadata": {
    "ExecuteTime": {
     "end_time": "2025-03-20T09:58:47.302715Z",
     "start_time": "2025-03-20T09:58:47.297674Z"
    }
   },
   "cell_type": "code",
   "source": "LCA.statistics()",
   "outputs": [
    {
     "name": "stdout",
     "output_type": "stream",
     "text": [
      "+----------------------+--------------------------------------------+\n",
      "|       Activity       | natural gas, high pressure, import from TT |\n",
      "|     Method name      |             ('some', 'method')             |\n",
      "|      Data file       |               lcia_example_2               |\n",
      "| Unique CFs in method |                     3                      |\n",
      "|   Unique CFs used    |                     3                      |\n",
      "|  Exc. characterized  |                    1210                    |\n",
      "| Exc. uncharacterized |                   334699                   |\n",
      "+----------------------+--------------------------------------------+\n"
     ]
    }
   ],
   "execution_count": 9
  },
  {
   "metadata": {
    "ExecuteTime": {
     "end_time": "2025-03-20T09:58:49.218174Z",
     "start_time": "2025-03-20T09:58:49.214797Z"
    }
   },
   "cell_type": "code",
   "source": "LCA.weights",
   "outputs": [
    {
     "data": {
      "text/plain": [
       "{'CH': 8921981, 'FR': 66548530, 'RER': 0}"
      ]
     },
     "execution_count": 10,
     "metadata": {},
     "output_type": "execute_result"
    }
   ],
   "execution_count": 10
  },
  {
   "metadata": {
    "ExecuteTime": {
     "end_time": "2025-03-20T10:49:42.755955Z",
     "start_time": "2025-03-20T10:49:39.991374Z"
    }
   },
   "cell_type": "code",
   "source": "df = LCA.generate_cf_table()",
   "outputs": [],
   "execution_count": 4
  },
  {
   "metadata": {
    "ExecuteTime": {
     "end_time": "2025-03-20T09:58:51.289407Z",
     "start_time": "2025-03-20T09:58:51.279424Z"
    }
   },
   "cell_type": "code",
   "source": "df",
   "outputs": [
    {
     "data": {
      "text/plain": [
       "                   supplier name         supplier categories  \\\n",
       "0         Carbon dioxide, in air  (natural resource, in air)   \n",
       "1         Carbon dioxide, in air  (natural resource, in air)   \n",
       "2         Carbon dioxide, in air  (natural resource, in air)   \n",
       "3         Carbon dioxide, in air  (natural resource, in air)   \n",
       "4         Carbon dioxide, in air  (natural resource, in air)   \n",
       "...                          ...                         ...   \n",
       "1205  Carbon dioxide, non-fossil                      (air,)   \n",
       "1206  Carbon dioxide, non-fossil                      (air,)   \n",
       "1207  Carbon dioxide, non-fossil                      (air,)   \n",
       "1208  Carbon dioxide, non-fossil                      (air,)   \n",
       "1209  Carbon dioxide, non-fossil                      (air,)   \n",
       "\n",
       "                                          consumer name  \\\n",
       "0                               rye production, organic   \n",
       "1          fruit tree seedling production, for planting   \n",
       "2                                 beet sugar production   \n",
       "3         strawberry production, in unheated greenhouse   \n",
       "4     potato seed production, Swiss integrated produ...   \n",
       "...                                                 ...   \n",
       "1205  containerboard production, linerboard, kraftliner   \n",
       "1206                           anthraquinone production   \n",
       "1207                                   latex production   \n",
       "1208            particleboard production, cement bonded   \n",
       "1209            three and five layered board production   \n",
       "\n",
       "                             consumer reference product consumer location  \\\n",
       "0                                        straw, organic                CH   \n",
       "1                     fruit tree seedling, for planting                CH   \n",
       "2                                       sugar beet pulp                CH   \n",
       "3                                            strawberry                CH   \n",
       "4     potato seed, Swiss integrated production, at farm                CH   \n",
       "...                                                 ...               ...   \n",
       "1205                         containerboard, linerboard               RER   \n",
       "1206                                      anthraquinone               RER   \n",
       "1207                                              latex               RER   \n",
       "1208                       particleboard, cement bonded               RER   \n",
       "1209              wood chips, dry, measured as dry mass               RER   \n",
       "\n",
       "            amount   CF        impact  \n",
       "0     7.607581e-09  1.0  7.607581e-09  \n",
       "1     2.326311e-13  1.0  2.326311e-13  \n",
       "2     1.704264e-28  1.0  1.704264e-28  \n",
       "3     4.306825e-30  1.0  4.306825e-30  \n",
       "4     4.491381e-08  1.0  4.491381e-08  \n",
       "...            ...  ...           ...  \n",
       "1205  5.869426e-09  3.0  1.760828e-08  \n",
       "1206  8.717202e-11  3.0  2.615161e-10  \n",
       "1207  1.891544e-13  3.0  5.674632e-13  \n",
       "1208  2.081747e-12  3.0  6.245240e-12  \n",
       "1209  2.342436e-08  3.0  7.027307e-08  \n",
       "\n",
       "[1210 rows x 8 columns]"
      ],
      "text/html": [
       "<div>\n",
       "<style scoped>\n",
       "    .dataframe tbody tr th:only-of-type {\n",
       "        vertical-align: middle;\n",
       "    }\n",
       "\n",
       "    .dataframe tbody tr th {\n",
       "        vertical-align: top;\n",
       "    }\n",
       "\n",
       "    .dataframe thead th {\n",
       "        text-align: right;\n",
       "    }\n",
       "</style>\n",
       "<table border=\"1\" class=\"dataframe\">\n",
       "  <thead>\n",
       "    <tr style=\"text-align: right;\">\n",
       "      <th></th>\n",
       "      <th>supplier name</th>\n",
       "      <th>supplier categories</th>\n",
       "      <th>consumer name</th>\n",
       "      <th>consumer reference product</th>\n",
       "      <th>consumer location</th>\n",
       "      <th>amount</th>\n",
       "      <th>CF</th>\n",
       "      <th>impact</th>\n",
       "    </tr>\n",
       "  </thead>\n",
       "  <tbody>\n",
       "    <tr>\n",
       "      <th>0</th>\n",
       "      <td>Carbon dioxide, in air</td>\n",
       "      <td>(natural resource, in air)</td>\n",
       "      <td>rye production, organic</td>\n",
       "      <td>straw, organic</td>\n",
       "      <td>CH</td>\n",
       "      <td>7.607581e-09</td>\n",
       "      <td>1.0</td>\n",
       "      <td>7.607581e-09</td>\n",
       "    </tr>\n",
       "    <tr>\n",
       "      <th>1</th>\n",
       "      <td>Carbon dioxide, in air</td>\n",
       "      <td>(natural resource, in air)</td>\n",
       "      <td>fruit tree seedling production, for planting</td>\n",
       "      <td>fruit tree seedling, for planting</td>\n",
       "      <td>CH</td>\n",
       "      <td>2.326311e-13</td>\n",
       "      <td>1.0</td>\n",
       "      <td>2.326311e-13</td>\n",
       "    </tr>\n",
       "    <tr>\n",
       "      <th>2</th>\n",
       "      <td>Carbon dioxide, in air</td>\n",
       "      <td>(natural resource, in air)</td>\n",
       "      <td>beet sugar production</td>\n",
       "      <td>sugar beet pulp</td>\n",
       "      <td>CH</td>\n",
       "      <td>1.704264e-28</td>\n",
       "      <td>1.0</td>\n",
       "      <td>1.704264e-28</td>\n",
       "    </tr>\n",
       "    <tr>\n",
       "      <th>3</th>\n",
       "      <td>Carbon dioxide, in air</td>\n",
       "      <td>(natural resource, in air)</td>\n",
       "      <td>strawberry production, in unheated greenhouse</td>\n",
       "      <td>strawberry</td>\n",
       "      <td>CH</td>\n",
       "      <td>4.306825e-30</td>\n",
       "      <td>1.0</td>\n",
       "      <td>4.306825e-30</td>\n",
       "    </tr>\n",
       "    <tr>\n",
       "      <th>4</th>\n",
       "      <td>Carbon dioxide, in air</td>\n",
       "      <td>(natural resource, in air)</td>\n",
       "      <td>potato seed production, Swiss integrated produ...</td>\n",
       "      <td>potato seed, Swiss integrated production, at farm</td>\n",
       "      <td>CH</td>\n",
       "      <td>4.491381e-08</td>\n",
       "      <td>1.0</td>\n",
       "      <td>4.491381e-08</td>\n",
       "    </tr>\n",
       "    <tr>\n",
       "      <th>...</th>\n",
       "      <td>...</td>\n",
       "      <td>...</td>\n",
       "      <td>...</td>\n",
       "      <td>...</td>\n",
       "      <td>...</td>\n",
       "      <td>...</td>\n",
       "      <td>...</td>\n",
       "      <td>...</td>\n",
       "    </tr>\n",
       "    <tr>\n",
       "      <th>1205</th>\n",
       "      <td>Carbon dioxide, non-fossil</td>\n",
       "      <td>(air,)</td>\n",
       "      <td>containerboard production, linerboard, kraftliner</td>\n",
       "      <td>containerboard, linerboard</td>\n",
       "      <td>RER</td>\n",
       "      <td>5.869426e-09</td>\n",
       "      <td>3.0</td>\n",
       "      <td>1.760828e-08</td>\n",
       "    </tr>\n",
       "    <tr>\n",
       "      <th>1206</th>\n",
       "      <td>Carbon dioxide, non-fossil</td>\n",
       "      <td>(air,)</td>\n",
       "      <td>anthraquinone production</td>\n",
       "      <td>anthraquinone</td>\n",
       "      <td>RER</td>\n",
       "      <td>8.717202e-11</td>\n",
       "      <td>3.0</td>\n",
       "      <td>2.615161e-10</td>\n",
       "    </tr>\n",
       "    <tr>\n",
       "      <th>1207</th>\n",
       "      <td>Carbon dioxide, non-fossil</td>\n",
       "      <td>(air,)</td>\n",
       "      <td>latex production</td>\n",
       "      <td>latex</td>\n",
       "      <td>RER</td>\n",
       "      <td>1.891544e-13</td>\n",
       "      <td>3.0</td>\n",
       "      <td>5.674632e-13</td>\n",
       "    </tr>\n",
       "    <tr>\n",
       "      <th>1208</th>\n",
       "      <td>Carbon dioxide, non-fossil</td>\n",
       "      <td>(air,)</td>\n",
       "      <td>particleboard production, cement bonded</td>\n",
       "      <td>particleboard, cement bonded</td>\n",
       "      <td>RER</td>\n",
       "      <td>2.081747e-12</td>\n",
       "      <td>3.0</td>\n",
       "      <td>6.245240e-12</td>\n",
       "    </tr>\n",
       "    <tr>\n",
       "      <th>1209</th>\n",
       "      <td>Carbon dioxide, non-fossil</td>\n",
       "      <td>(air,)</td>\n",
       "      <td>three and five layered board production</td>\n",
       "      <td>wood chips, dry, measured as dry mass</td>\n",
       "      <td>RER</td>\n",
       "      <td>2.342436e-08</td>\n",
       "      <td>3.0</td>\n",
       "      <td>7.027307e-08</td>\n",
       "    </tr>\n",
       "  </tbody>\n",
       "</table>\n",
       "<p>1210 rows × 8 columns</p>\n",
       "</div>"
      ]
     },
     "execution_count": 12,
     "metadata": {},
     "output_type": "execute_result"
    }
   ],
   "execution_count": 12
  },
  {
   "metadata": {},
   "cell_type": "markdown",
   "source": "We can check the weights used:"
  },
  {
   "metadata": {
    "ExecuteTime": {
     "end_time": "2025-03-19T11:11:15.944537Z",
     "start_time": "2025-03-19T11:11:15.937896Z"
    }
   },
   "cell_type": "code",
   "source": "LCA.weights",
   "outputs": [
    {
     "data": {
      "text/plain": [
       "{'CH': 8921981, 'FR': 66548530, 'RER': 0}"
      ]
     },
     "execution_count": 5,
     "metadata": {},
     "output_type": "execute_result"
    }
   ],
   "execution_count": 5
  },
  {
   "metadata": {},
   "cell_type": "markdown",
   "source": "By default, if weights are not provided in the consumer sections of LCIA file, population is used. The other option is GDP. To be specified when calling EdgeLICA()."
  },
  {
   "metadata": {},
   "cell_type": "markdown",
   "source": "And we can see the weighted-average CFs used:"
  },
  {
   "metadata": {
    "ExecuteTime": {
     "end_time": "2025-03-20T10:49:44.993009Z",
     "start_time": "2025-03-20T10:49:44.985743Z"
    }
   },
   "cell_type": "code",
   "source": "df.groupby(\"consumer location\")[\"CF\"].mean()",
   "outputs": [
    {
     "data": {
      "text/plain": [
       "consumer location\n",
       "AE        1.881782\n",
       "AR        1.881782\n",
       "AT        1.881782\n",
       "AU        1.881782\n",
       "AU-NSW    1.881782\n",
       "            ...   \n",
       "VE        1.881782\n",
       "VN        1.881782\n",
       "WEU       1.881782\n",
       "ZA        1.881782\n",
       "ZM        1.881782\n",
       "Name: CF, Length: 227, dtype: float64"
      ]
     },
     "execution_count": 5,
     "metadata": {},
     "output_type": "execute_result"
    }
   ],
   "execution_count": 5
  },
  {
   "metadata": {},
   "cell_type": "markdown",
   "source": [
    "We have pre-generated LCIA files for specific methods (AWARE, ImpactWorld+, etc.).\n",
    "You can get a list like so:"
   ]
  },
  {
   "metadata": {
    "ExecuteTime": {
     "end_time": "2025-03-19T10:59:19.307323Z",
     "start_time": "2025-03-19T10:59:19.301721Z"
    }
   },
   "cell_type": "code",
   "source": "get_available_methods()",
   "outputs": [
    {
     "data": {
      "text/plain": [
       "[('AWARE 1.2c', 'Country', 'irri', 'apr'),\n",
       " ('AWARE 1.2c', 'Country', 'irri', 'aug'),\n",
       " ('AWARE 1.2c', 'Country', 'irri', 'dec'),\n",
       " ('AWARE 1.2c', 'Country', 'irri', 'feb'),\n",
       " ('AWARE 1.2c', 'Country', 'irri', 'jan'),\n",
       " ('AWARE 1.2c', 'Country', 'irri', 'jul'),\n",
       " ('AWARE 1.2c', 'Country', 'irri', 'jun'),\n",
       " ('AWARE 1.2c', 'Country', 'irri', 'mar'),\n",
       " ('AWARE 1.2c', 'Country', 'irri', 'may'),\n",
       " ('AWARE 1.2c', 'Country', 'irri', 'nov'),\n",
       " ('AWARE 1.2c', 'Country', 'irri', 'oct'),\n",
       " ('AWARE 1.2c', 'Country', 'irri', 'sep'),\n",
       " ('AWARE 1.2c', 'Country', 'irri', 'yearly'),\n",
       " ('AWARE 1.2c', 'Country', 'non', 'irri', 'apr'),\n",
       " ('AWARE 1.2c', 'Country', 'non', 'irri', 'aug'),\n",
       " ('AWARE 1.2c', 'Country', 'non', 'irri', 'dec'),\n",
       " ('AWARE 1.2c', 'Country', 'non', 'irri', 'feb'),\n",
       " ('AWARE 1.2c', 'Country', 'non', 'irri', 'jan'),\n",
       " ('AWARE 1.2c', 'Country', 'non', 'irri', 'jul'),\n",
       " ('AWARE 1.2c', 'Country', 'non', 'irri', 'jun'),\n",
       " ('AWARE 1.2c', 'Country', 'non', 'irri', 'mar'),\n",
       " ('AWARE 1.2c', 'Country', 'non', 'irri', 'may'),\n",
       " ('AWARE 1.2c', 'Country', 'non', 'irri', 'nov'),\n",
       " ('AWARE 1.2c', 'Country', 'non', 'irri', 'oct'),\n",
       " ('AWARE 1.2c', 'Country', 'non', 'irri', 'sep'),\n",
       " ('AWARE 1.2c', 'Country', 'non', 'irri', 'yearly'),\n",
       " ('AWARE 1.2c', 'Country', 'unspecified', 'apr'),\n",
       " ('AWARE 1.2c', 'Country', 'unspecified', 'aug'),\n",
       " ('AWARE 1.2c', 'Country', 'unspecified', 'dec'),\n",
       " ('AWARE 1.2c', 'Country', 'unspecified', 'feb'),\n",
       " ('AWARE 1.2c', 'Country', 'unspecified', 'jan'),\n",
       " ('AWARE 1.2c', 'Country', 'unspecified', 'jul'),\n",
       " ('AWARE 1.2c', 'Country', 'unspecified', 'jun'),\n",
       " ('AWARE 1.2c', 'Country', 'unspecified', 'mar'),\n",
       " ('AWARE 1.2c', 'Country', 'unspecified', 'may'),\n",
       " ('AWARE 1.2c', 'Country', 'unspecified', 'nov'),\n",
       " ('AWARE 1.2c', 'Country', 'unspecified', 'oct'),\n",
       " ('AWARE 1.2c', 'Country', 'unspecified', 'sep'),\n",
       " ('AWARE 1.2c', 'Country', 'unspecified', 'yearly'),\n",
       " ('GeoPolRisk', '2024'),\n",
       " ('GeoPolRisk', 'paired', '2024'),\n",
       " ('ImpactWorld+ 2.1', 'Freshwater acidification', 'damage'),\n",
       " ('ImpactWorld+ 2.1', 'Freshwater acidification', 'midpoint'),\n",
       " ('ImpactWorld+ 2.1', 'Freshwater eutrophication', 'damage'),\n",
       " ('ImpactWorld+ 2.1', 'Freshwater eutrophication', 'midpoint'),\n",
       " ('ImpactWorld+ 2.1', 'Land occupation, biodiversity', 'damage'),\n",
       " ('ImpactWorld+ 2.1', 'Land occupation, biodiversity', 'midpoint'),\n",
       " ('ImpactWorld+ 2.1', 'Land transformation, biodiversity', 'damage'),\n",
       " ('ImpactWorld+ 2.1', 'Land transformation, biodiversity', 'midpoint'),\n",
       " ('ImpactWorld+ 2.1', 'Marine eutrophication', 'damage'),\n",
       " ('ImpactWorld+ 2.1', 'Marine eutrophication', 'midpoint'),\n",
       " ('ImpactWorld+ 2.1', 'Terrestrial acidification', 'damage'),\n",
       " ('ImpactWorld+ 2.1', 'Terrestrial acidification', 'midpoint'),\n",
       " ('ImpactWorld+ 2.1', 'Thermally polluted water', 'damage'),\n",
       " ('ImpactWorld+ 2.1', 'Thermally polluted water', 'midpoint'),\n",
       " ('ImpactWorld+ 2.1', 'Water availability, freshwater ecosystem', 'damage'),\n",
       " ('ImpactWorld+ 2.1', 'Water availability, freshwater ecosystem', 'midpoint'),\n",
       " ('ImpactWorld+ 2.1', 'Water availability, human health', 'damage'),\n",
       " ('ImpactWorld+ 2.1', 'Water availability, human health', 'midpoint'),\n",
       " ('ImpactWorld+ 2.1', 'Water availability, terrestrial ecosystem', 'damage'),\n",
       " ('ImpactWorld+ 2.1', 'Water availability, terrestrial ecosystem', 'midpoint'),\n",
       " ('ImpactWorld+ 2.1', 'Water scarcity', 'damage'),\n",
       " ('ImpactWorld+ 2.1', 'Water scarcity', 'midpoint'),\n",
       " ('RELICS', 'copper')]"
      ]
     },
     "execution_count": 37,
     "metadata": {},
     "output_type": "execute_result"
    }
   ],
   "execution_count": 37
  },
  {
   "metadata": {},
   "cell_type": "markdown",
   "source": "Check the other notebooks to see how to use them."
  },
  {
   "metadata": {},
   "cell_type": "code",
   "outputs": [],
   "execution_count": null,
   "source": ""
  }
 ],
 "metadata": {
  "kernelspec": {
   "display_name": "Python 3 (ipykernel)",
   "language": "python",
   "name": "python3"
  },
  "language_info": {
   "codemirror_mode": {
    "name": "ipython",
    "version": 3
   },
   "file_extension": ".py",
   "mimetype": "text/x-python",
   "name": "python",
   "nbconvert_exporter": "python",
   "pygments_lexer": "ipython3",
   "version": "3.11.8"
  }
 },
 "nbformat": 4,
 "nbformat_minor": 4
}

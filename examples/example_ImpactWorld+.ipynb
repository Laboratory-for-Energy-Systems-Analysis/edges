{
 "cells": [
  {
   "cell_type": "code",
   "id": "initial_id",
   "metadata": {
    "ExecuteTime": {
     "end_time": "2025-03-20T09:54:24.370984Z",
     "start_time": "2025-03-20T09:54:23.151840Z"
    }
   },
   "source": [
    "import bw2data\n",
    "from edges import EdgeLCIA, get_available_methods"
   ],
   "outputs": [],
   "execution_count": 1
  },
  {
   "metadata": {
    "ExecuteTime": {
     "end_time": "2025-03-20T09:54:25.376281Z",
     "start_time": "2025-03-20T09:54:25.045212Z"
    }
   },
   "cell_type": "code",
   "source": [
    "bw2data.projects.set_current(\"ecoinvent-3.10-cutoff\")\n",
    "#bw2data.projects.set_current(\"ecoinvent-3.10-cutoff\")\n",
    "act = bw2data.Database(\"ecoinvent-3.10.1-cutoff\").random()\n",
    "#act = [a for a in bw2data.Database(\"ecoinvent-3.10-cutoff\") if \"NMC\" in #a[\"name\"]][0]\n",
    "act"
   ],
   "id": "60fb4583bf7ce4de",
   "outputs": [
    {
     "data": {
      "text/plain": [
       "'electricity production, natural gas, combined cycle power plant' (kilowatt hour, CN-HL, None)"
      ]
     },
     "execution_count": 2,
     "metadata": {},
     "output_type": "execute_result"
    }
   ],
   "execution_count": 2
  },
  {
   "metadata": {
    "ExecuteTime": {
     "end_time": "2025-03-19T11:20:10.908431Z",
     "start_time": "2025-03-19T11:20:10.904814Z"
    }
   },
   "cell_type": "code",
   "source": "[m for m in get_available_methods() if \"ImpactWorld\" in str(m)]",
   "id": "6b06ec0f62381f0b",
   "outputs": [
    {
     "data": {
      "text/plain": [
       "[('ImpactWorld+ 2.1', 'Freshwater acidification', 'damage'),\n",
       " ('ImpactWorld+ 2.1', 'Freshwater acidification', 'midpoint'),\n",
       " ('ImpactWorld+ 2.1', 'Freshwater eutrophication', 'damage'),\n",
       " ('ImpactWorld+ 2.1', 'Freshwater eutrophication', 'midpoint'),\n",
       " ('ImpactWorld+ 2.1', 'Land occupation, biodiversity', 'damage'),\n",
       " ('ImpactWorld+ 2.1', 'Land occupation, biodiversity', 'midpoint'),\n",
       " ('ImpactWorld+ 2.1', 'Land transformation, biodiversity', 'damage'),\n",
       " ('ImpactWorld+ 2.1', 'Land transformation, biodiversity', 'midpoint'),\n",
       " ('ImpactWorld+ 2.1', 'Marine eutrophication', 'damage'),\n",
       " ('ImpactWorld+ 2.1', 'Marine eutrophication', 'midpoint'),\n",
       " ('ImpactWorld+ 2.1', 'Terrestrial acidification', 'damage'),\n",
       " ('ImpactWorld+ 2.1', 'Terrestrial acidification', 'midpoint'),\n",
       " ('ImpactWorld+ 2.1', 'Thermally polluted water', 'damage'),\n",
       " ('ImpactWorld+ 2.1', 'Thermally polluted water', 'midpoint'),\n",
       " ('ImpactWorld+ 2.1', 'Water availability, freshwater ecosystem', 'damage'),\n",
       " ('ImpactWorld+ 2.1', 'Water availability, freshwater ecosystem', 'midpoint'),\n",
       " ('ImpactWorld+ 2.1', 'Water availability, human health', 'damage'),\n",
       " ('ImpactWorld+ 2.1', 'Water availability, human health', 'midpoint'),\n",
       " ('ImpactWorld+ 2.1', 'Water availability, terrestrial ecosystem', 'damage'),\n",
       " ('ImpactWorld+ 2.1', 'Water availability, terrestrial ecosystem', 'midpoint'),\n",
       " ('ImpactWorld+ 2.1', 'Water scarcity', 'damage'),\n",
       " ('ImpactWorld+ 2.1', 'Water scarcity', 'midpoint')]"
      ]
     },
     "execution_count": 3,
     "metadata": {},
     "output_type": "execute_result"
    }
   ],
   "execution_count": 3
  },
  {
   "metadata": {},
   "cell_type": "markdown",
   "source": "We can loop through the ImpactWorld+ regionalized indicators and print the results.",
   "id": "3e61017f390b5679"
  },
  {
   "cell_type": "code",
   "id": "34fbc8a561ae57cb",
   "metadata": {
    "ExecuteTime": {
     "end_time": "2025-03-20T09:54:49.378470Z",
     "start_time": "2025-03-20T09:54:27.411278Z"
    }
   },
   "source": [
    "import matplotlib.pyplot as plt\n",
    "# method = ('ImpactWorld+ 2.1', 'Land transformation, biodiversity', 'midpoint')\n",
    "methods = [m for m in get_available_methods() if \"ImpactWorld+\" in str(m) and \"midpoint\" in str(m)][:1]\n",
    "#methods = [('ImpactWorld+ 2.1', 'Land transformation, biodiversity', 'midpoint'),]\n",
    "for method in methods:\n",
    "    LCA = EdgeLCIA({act: 1}, method)\n",
    "    LCA.lci()\n",
    "\n",
    "    LCA.map_exchanges()\n",
    "    LCA.map_aggregate_locations()\n",
    "    LCA.map_dynamic_locations()\n",
    "    LCA.map_contained_locations()\n",
    "    LCA.map_remaining_locations_to_global()\n",
    "\n",
    "    LCA.evaluate_cfs()\n",
    "    LCA.lcia()\n",
    "    df = LCA.generate_cf_table()\n",
    "\n",
    "    if \"water\" in str(method):\n",
    "        cutoff = 0.05\n",
    "        continue\n",
    "    else:\n",
    "        cutoff = 0.01\n",
    "\n",
    "    # remove rows for which \"amount\" is below the cutoff\n",
    "    total = df[\"impact\"].sum()\n",
    "    df = df[df[\"impact\"] > cutoff * total]\n",
    "\n",
    "    # Plotting\n",
    "    fig, axes = plt.subplots(3, 2, figsize=(10, 15))\n",
    "\n",
    "    # 1. Bar plot of \"amount\" by \"supplier name\"\n",
    "    df.groupby(\"supplier name\")[\"impact\"].sum().plot(kind=\"bar\", ax=axes[0, 0])\n",
    "    axes[0, 0].set_title(\"Impact by Supplier Name\")\n",
    "    axes[0, 0].set_ylabel(\"Impact\")\n",
    "    axes[0, 0].tick_params(axis=\"x\", rotation=45)\n",
    "\n",
    "    # 2. Bar plot of \"amount\" by \"consumer name\"\n",
    "    df.groupby(\"consumer name\")[\"impact\"].sum().plot(kind=\"bar\", ax=axes[0, 1])\n",
    "    axes[0, 1].set_title(\"Impact by Consumer Name\")\n",
    "    axes[0, 1].set_ylabel(\"Impact\")\n",
    "    axes[0, 1].set_xticklabels(\n",
    "        [label.get_text().replace(\", \", \"\\n\") for label in axes[0, 1].get_xticklabels()],\n",
    "        rotation=45,\n",
    "        ha=\"right\",\n",
    "    )\n",
    "\n",
    "    # 3. Bar plot of \"amount\" by \"consumer location\"\n",
    "    df.groupby(\"consumer location\")[\"impact\"].sum().plot(kind=\"bar\", ax=axes[1, 0])\n",
    "    axes[1, 0].set_title(\"Impact by Consumer Location\")\n",
    "    axes[1, 0].set_ylabel(\"Impact\")\n",
    "    axes[1, 0].tick_params(axis=\"x\", rotation=45)\n",
    "\n",
    "    # 4. Stacked bar plot for \"amount\" by \"consumer name\" and \"consumer location\"\n",
    "    df_grouped = df.groupby([\"consumer name\", \"consumer location\"])[\"impact\"].sum().unstack()\n",
    "    df_grouped.plot(kind=\"bar\", stacked=True, ax=axes[1, 1])\n",
    "    axes[1, 1].set_title(\"Impact by Consumer Name & Location (Stacked)\")\n",
    "    axes[1, 1].set_ylabel(\"Impact\")\n",
    "    axes[1, 1].set_xticklabels(\n",
    "        [label.get_text().replace(\", \", \"\\n\") for label in axes[1, 1].get_xticklabels()],\n",
    "        rotation=45,\n",
    "        ha=\"right\",\n",
    "    )\n",
    "    axes[1, 1].legend(title=\"Consumer Location\", loc=\"center left\", ncol=2)\n",
    "\n",
    "    # 5. Bar plot of average \"CF\" by \"consumer location\"\n",
    "    df.groupby([\"supplier name\", \"consumer location\"])[\"CF\"].mean().plot(kind=\"bar\", ax=axes[2, 0])\n",
    "    axes[2, 0].set_title(\"Average CF by Consumer Location\")\n",
    "    axes[2, 0].set_ylabel(\"CF\")\n",
    "    axes[2, 0].tick_params(axis=\"x\", rotation=45)\n",
    "\n",
    "    # remove last subplot\n",
    "    fig.delaxes(axes[2, 1])\n",
    "\n",
    "    plt.tight_layout()\n",
    "    plt.show()\n"
   ],
   "outputs": [
    {
     "name": "stderr",
     "output_type": "stream",
     "text": [
      "/opt/homebrew/Caskroom/miniforge/base/envs/bw2/lib/python3.11/site-packages/scikits/umfpack/umfpack.py:736: UmfpackWarning: (almost) singular matrix! (estimated cond. number: 4.83e+13)\n",
      "  warnings.warn(msg, UmfpackWarning)\n"
     ]
    },
    {
     "name": "stdout",
     "output_type": "stream",
     "text": [
      "Identifying eligible exchanges...\n"
     ]
    },
    {
     "name": "stderr",
     "output_type": "stream",
     "text": [
      "100%|██████████| 14940/14940 [00:00<00:00, 112393.37it/s]\n"
     ]
    },
    {
     "name": "stdout",
     "output_type": "stream",
     "text": [
      "Handling static regions...\n"
     ]
    },
    {
     "name": "stderr",
     "output_type": "stream",
     "text": [
      "Processing static groups (pass 1): 100%|██████████| 18/18 [00:00<00:00, 1449.17it/s]\n"
     ]
    },
    {
     "name": "stdout",
     "output_type": "stream",
     "text": [
      "Handling dynamic regions...\n"
     ]
    },
    {
     "name": "stderr",
     "output_type": "stream",
     "text": [
      "Processing dynamic groups (pass 1): 100%|██████████| 2366/2366 [00:10<00:00, 230.56it/s]\n"
     ]
    },
    {
     "name": "stdout",
     "output_type": "stream",
     "text": [
      "Handling contained locations...\n"
     ]
    },
    {
     "name": "stderr",
     "output_type": "stream",
     "text": [
      "Processing contained groups (pass 1): 100%|██████████| 519/519 [00:00<00:00, 21951.73it/s]\n"
     ]
    },
    {
     "name": "stdout",
     "output_type": "stream",
     "text": [
      "Handling remaining exchanges...\n"
     ]
    }
   ],
   "execution_count": 3
  },
  {
   "metadata": {
    "ExecuteTime": {
     "end_time": "2025-03-20T09:56:47.215795Z",
     "start_time": "2025-03-20T09:56:47.207130Z"
    }
   },
   "cell_type": "code",
   "source": "LCA.score",
   "id": "3fab7000e80f19a0",
   "outputs": [
    {
     "data": {
      "text/plain": [
       "0.00030537267708781853"
      ]
     },
     "execution_count": 4,
     "metadata": {},
     "output_type": "execute_result"
    }
   ],
   "execution_count": 4
  },
  {
   "metadata": {
    "ExecuteTime": {
     "end_time": "2025-03-20T09:38:18.569038Z",
     "start_time": "2025-03-20T09:38:14.700914Z"
    }
   },
   "cell_type": "code",
   "source": "df = LCA.generate_cf_table()",
   "id": "f1ff0a10ff176f4a",
   "outputs": [],
   "execution_count": 4
  },
  {
   "metadata": {
    "ExecuteTime": {
     "end_time": "2025-03-20T09:26:51.467032Z",
     "start_time": "2025-03-20T09:26:51.464266Z"
    }
   },
   "cell_type": "code",
   "source": "",
   "id": "834ad5c9e9c387bb",
   "outputs": [],
   "execution_count": null
  },
  {
   "cell_type": "code",
   "id": "9c27d5f8-fbf1-469f-8daa-7ce8f5eb4480",
   "metadata": {
    "ExecuteTime": {
     "end_time": "2025-03-20T09:26:51.811408Z",
     "start_time": "2025-03-20T09:26:51.789165Z"
    }
   },
   "source": "LCA.statistics()",
   "outputs": [
    {
     "name": "stdout",
     "output_type": "stream",
     "text": [
      "+----------------------+---------------------------------------------+\n",
      "|       Activity       | market for chlorine, for reuse in zirconium |\n",
      "|                      |     and hafnium tetrachloride production    |\n",
      "|     Method name      |       ('ImpactWorld+ 2.1', 'Freshwater      |\n",
      "|                      |         acidification', 'midpoint')         |\n",
      "|      Data file       |         ImpactWorld+ 2.1_Freshwater         |\n",
      "|                      |            acidification_midpoint           |\n",
      "| Unique CFs in method |                     2418                    |\n",
      "|   Unique CFs used    |                     356                     |\n",
      "|  Exc. characterized  |                    10543                    |\n",
      "| Exc. uncharacterized |                    325366                   |\n",
      "+----------------------+---------------------------------------------+\n"
     ]
    }
   ],
   "execution_count": 11
  },
  {
   "cell_type": "code",
   "id": "dc28b7a7-ed66-4e0b-ae43-116ea78b61c4",
   "metadata": {
    "ExecuteTime": {
     "end_time": "2025-03-20T09:26:54.466394Z",
     "start_time": "2025-03-20T09:26:54.445244Z"
    }
   },
   "source": [
    "df.sort_values(\"amount\", ascending=False)"
   ],
   "outputs": [
    {
     "data": {
      "text/plain": [
       "        supplier name                       supplier categories  \\\n",
       "3067   Sulfur dioxide          (air, urban air close to ground)   \n",
       "1540  Nitrogen oxides          (air, urban air close to ground)   \n",
       "3664   Sulfur dioxide          (air, urban air close to ground)   \n",
       "3072   Sulfur dioxide  (air, non-urban air or from high stacks)   \n",
       "5120   Sulfur dioxide                                    (air,)   \n",
       "...               ...                                       ...   \n",
       "6441      Nitric acid                                    (air,)   \n",
       "1007      Nitric acid                                    (air,)   \n",
       "1008      Nitric acid                                    (air,)   \n",
       "983       Nitric acid                                    (air,)   \n",
       "986       Nitric acid                                    (air,)   \n",
       "\n",
       "                                        consumer name  \\\n",
       "3067                      electricity production, oil   \n",
       "1540                      electricity production, oil   \n",
       "3664                         sulfuric acid production   \n",
       "3072                electricity production, hard coal   \n",
       "5120  sulfur production, petroleum refinery operation   \n",
       "...                                               ...   \n",
       "6441                           citric acid production   \n",
       "1007                           citric acid production   \n",
       "1008                           citric acid production   \n",
       "983                            citric acid production   \n",
       "986                            citric acid production   \n",
       "\n",
       "     consumer reference product consumer location        amount        CF  \\\n",
       "3067  electricity, high voltage                FR  5.819550e-05  0.564933   \n",
       "1540  electricity, high voltage                FR  4.353023e-05  0.169693   \n",
       "3664              sulfuric acid               RER  2.748904e-05  1.013358   \n",
       "3072  electricity, high voltage                FR  2.302991e-05  0.564933   \n",
       "5120                     sulfur               RoW  1.746579e-05  0.320052   \n",
       "...                         ...               ...           ...       ...   \n",
       "6441   protein feed, 100% crude               RoW  1.619446e-48  0.061106   \n",
       "1007         energy feed, gross               RNA  5.324266e-49  1.170369   \n",
       "1008   protein feed, 100% crude               RNA  3.713420e-49  1.170369   \n",
       "983          energy feed, gross               RER  2.440528e-49  0.213900   \n",
       "986    protein feed, 100% crude               RER  1.702151e-49  0.213900   \n",
       "\n",
       "            impact  \n",
       "3067  3.287658e-05  \n",
       "1540  7.386766e-06  \n",
       "3664  2.785624e-05  \n",
       "3072  1.301037e-05  \n",
       "5120  5.589954e-06  \n",
       "...            ...  \n",
       "6441  9.895795e-50  \n",
       "1007  6.231355e-49  \n",
       "1008  4.346071e-49  \n",
       "983   5.220292e-50  \n",
       "986   3.640904e-50  \n",
       "\n",
       "[10543 rows x 8 columns]"
      ],
      "text/html": [
       "<div>\n",
       "<style scoped>\n",
       "    .dataframe tbody tr th:only-of-type {\n",
       "        vertical-align: middle;\n",
       "    }\n",
       "\n",
       "    .dataframe tbody tr th {\n",
       "        vertical-align: top;\n",
       "    }\n",
       "\n",
       "    .dataframe thead th {\n",
       "        text-align: right;\n",
       "    }\n",
       "</style>\n",
       "<table border=\"1\" class=\"dataframe\">\n",
       "  <thead>\n",
       "    <tr style=\"text-align: right;\">\n",
       "      <th></th>\n",
       "      <th>supplier name</th>\n",
       "      <th>supplier categories</th>\n",
       "      <th>consumer name</th>\n",
       "      <th>consumer reference product</th>\n",
       "      <th>consumer location</th>\n",
       "      <th>amount</th>\n",
       "      <th>CF</th>\n",
       "      <th>impact</th>\n",
       "    </tr>\n",
       "  </thead>\n",
       "  <tbody>\n",
       "    <tr>\n",
       "      <th>3067</th>\n",
       "      <td>Sulfur dioxide</td>\n",
       "      <td>(air, urban air close to ground)</td>\n",
       "      <td>electricity production, oil</td>\n",
       "      <td>electricity, high voltage</td>\n",
       "      <td>FR</td>\n",
       "      <td>5.819550e-05</td>\n",
       "      <td>0.564933</td>\n",
       "      <td>3.287658e-05</td>\n",
       "    </tr>\n",
       "    <tr>\n",
       "      <th>1540</th>\n",
       "      <td>Nitrogen oxides</td>\n",
       "      <td>(air, urban air close to ground)</td>\n",
       "      <td>electricity production, oil</td>\n",
       "      <td>electricity, high voltage</td>\n",
       "      <td>FR</td>\n",
       "      <td>4.353023e-05</td>\n",
       "      <td>0.169693</td>\n",
       "      <td>7.386766e-06</td>\n",
       "    </tr>\n",
       "    <tr>\n",
       "      <th>3664</th>\n",
       "      <td>Sulfur dioxide</td>\n",
       "      <td>(air, urban air close to ground)</td>\n",
       "      <td>sulfuric acid production</td>\n",
       "      <td>sulfuric acid</td>\n",
       "      <td>RER</td>\n",
       "      <td>2.748904e-05</td>\n",
       "      <td>1.013358</td>\n",
       "      <td>2.785624e-05</td>\n",
       "    </tr>\n",
       "    <tr>\n",
       "      <th>3072</th>\n",
       "      <td>Sulfur dioxide</td>\n",
       "      <td>(air, non-urban air or from high stacks)</td>\n",
       "      <td>electricity production, hard coal</td>\n",
       "      <td>electricity, high voltage</td>\n",
       "      <td>FR</td>\n",
       "      <td>2.302991e-05</td>\n",
       "      <td>0.564933</td>\n",
       "      <td>1.301037e-05</td>\n",
       "    </tr>\n",
       "    <tr>\n",
       "      <th>5120</th>\n",
       "      <td>Sulfur dioxide</td>\n",
       "      <td>(air,)</td>\n",
       "      <td>sulfur production, petroleum refinery operation</td>\n",
       "      <td>sulfur</td>\n",
       "      <td>RoW</td>\n",
       "      <td>1.746579e-05</td>\n",
       "      <td>0.320052</td>\n",
       "      <td>5.589954e-06</td>\n",
       "    </tr>\n",
       "    <tr>\n",
       "      <th>...</th>\n",
       "      <td>...</td>\n",
       "      <td>...</td>\n",
       "      <td>...</td>\n",
       "      <td>...</td>\n",
       "      <td>...</td>\n",
       "      <td>...</td>\n",
       "      <td>...</td>\n",
       "      <td>...</td>\n",
       "    </tr>\n",
       "    <tr>\n",
       "      <th>6441</th>\n",
       "      <td>Nitric acid</td>\n",
       "      <td>(air,)</td>\n",
       "      <td>citric acid production</td>\n",
       "      <td>protein feed, 100% crude</td>\n",
       "      <td>RoW</td>\n",
       "      <td>1.619446e-48</td>\n",
       "      <td>0.061106</td>\n",
       "      <td>9.895795e-50</td>\n",
       "    </tr>\n",
       "    <tr>\n",
       "      <th>1007</th>\n",
       "      <td>Nitric acid</td>\n",
       "      <td>(air,)</td>\n",
       "      <td>citric acid production</td>\n",
       "      <td>energy feed, gross</td>\n",
       "      <td>RNA</td>\n",
       "      <td>5.324266e-49</td>\n",
       "      <td>1.170369</td>\n",
       "      <td>6.231355e-49</td>\n",
       "    </tr>\n",
       "    <tr>\n",
       "      <th>1008</th>\n",
       "      <td>Nitric acid</td>\n",
       "      <td>(air,)</td>\n",
       "      <td>citric acid production</td>\n",
       "      <td>protein feed, 100% crude</td>\n",
       "      <td>RNA</td>\n",
       "      <td>3.713420e-49</td>\n",
       "      <td>1.170369</td>\n",
       "      <td>4.346071e-49</td>\n",
       "    </tr>\n",
       "    <tr>\n",
       "      <th>983</th>\n",
       "      <td>Nitric acid</td>\n",
       "      <td>(air,)</td>\n",
       "      <td>citric acid production</td>\n",
       "      <td>energy feed, gross</td>\n",
       "      <td>RER</td>\n",
       "      <td>2.440528e-49</td>\n",
       "      <td>0.213900</td>\n",
       "      <td>5.220292e-50</td>\n",
       "    </tr>\n",
       "    <tr>\n",
       "      <th>986</th>\n",
       "      <td>Nitric acid</td>\n",
       "      <td>(air,)</td>\n",
       "      <td>citric acid production</td>\n",
       "      <td>protein feed, 100% crude</td>\n",
       "      <td>RER</td>\n",
       "      <td>1.702151e-49</td>\n",
       "      <td>0.213900</td>\n",
       "      <td>3.640904e-50</td>\n",
       "    </tr>\n",
       "  </tbody>\n",
       "</table>\n",
       "<p>10543 rows × 8 columns</p>\n",
       "</div>"
      ]
     },
     "execution_count": 12,
     "metadata": {},
     "output_type": "execute_result"
    }
   ],
   "execution_count": 12
  },
  {
   "cell_type": "code",
   "id": "cf52fe08-b6a8-4c48-9ef0-4a68164c6e12",
   "metadata": {
    "ExecuteTime": {
     "end_time": "2025-03-18T16:54:16.612321Z",
     "start_time": "2025-03-18T16:54:16.606144Z"
    }
   },
   "source": [
    "df[\"CF\"].unique()"
   ],
   "outputs": [
    {
     "data": {
      "text/plain": [
       "array([2.14627074e-01, 1.03701824e+00, 1.27154159e-02, 3.62725226e-01,\n",
       "       1.64280624e-01, 5.11256943e-01, 2.86068890e-01, 2.04003013e-01,\n",
       "       1.70451775e+01, 3.59239364e-01, 2.09745462e-01, 9.80816828e-02,\n",
       "       1.37322964e-01, 6.31873982e-01, 8.19714895e-01, 1.57927768e+00,\n",
       "       1.38567745e-01, 1.30335269e+00, 1.56298950e-01, 3.81978567e+00,\n",
       "       3.11901496e-01, 4.77011518e-01, 1.60470528e-01, 3.11411337e-01,\n",
       "       4.27218327e-01, 4.57729915e-02, 3.26688000e-01, 7.38519172e-02,\n",
       "       1.42424048e-01, 5.19882298e-01, 3.10482782e-01, 1.60522950e-01,\n",
       "       1.90727939e-01, 8.86117728e-01, 1.12291472e-01, 1.76989269e+00,\n",
       "       5.12764891e-02, 8.12026897e-01, 5.72559707e+00, 5.12382869e-01,\n",
       "       2.02801098e-01, 9.98264681e-01, 1.47882836e-01, 4.80848442e-02,\n",
       "       5.97228678e-01, 2.00683333e-01, 7.02059827e+00, 3.68520407e-01,\n",
       "       6.84353156e-01, 1.04909844e-01, 5.58194050e+00, 5.08077263e-02,\n",
       "       1.46084140e-01, 1.88112280e-01, 2.14522571e-02, 3.60626720e-01,\n",
       "       6.30772459e+00, 1.10023125e-02, 7.52278555e-02, 2.94001087e-01,\n",
       "       2.14203599e-01, 2.51802613e+00, 2.26234499e+00, 5.67055091e-02,\n",
       "       2.78219850e-01, 2.17297065e-01, 1.18895549e+00, 1.01628661e+00,\n",
       "       5.58190442e-02, 2.73870500e-01, 1.90185407e-02, 2.13900108e-01,\n",
       "       1.17036881e+00, 1.00039923e+00, 2.83885057e-02, 1.17151222e-01,\n",
       "       5.74790634e-01, 4.48926695e-01, 2.45633257e+00, 2.09960585e+00,\n",
       "       1.20129430e-01, 2.96989283e-01, 3.79317046e-03, 9.89698523e-02,\n",
       "       1.60795293e-01, 7.38513432e-02, 2.48692685e-01, 1.38522853e-01,\n",
       "       5.28128666e-02, 7.50548043e-02, 3.87811642e+00, 7.33807527e-02,\n",
       "       7.64368894e-02, 4.62260059e-02, 6.66394708e-02, 3.10447178e-01,\n",
       "       3.75029874e-01, 5.65984401e-01, 5.31047813e-02, 4.73668553e-02,\n",
       "       6.94882628e-01, 3.35391342e-02, 8.11036029e-02, 1.05461680e+00,\n",
       "       1.69692784e-01, 2.22203969e-01, 7.81621006e-02, 1.63427131e-01,\n",
       "       2.20526371e-01, 1.47254079e-02, 1.79395292e-01, 4.48526120e-02,\n",
       "       5.58736999e-02, 4.85411168e-02, 2.03774429e-01, 1.40598518e-01,\n",
       "       1.81368636e-01, 1.45094226e-01, 2.70723920e-02, 2.92110181e-01,\n",
       "       5.12256634e-01, 4.25204447e-02, 4.45843779e-02, 3.63770565e-01,\n",
       "       2.60434071e-02, 1.25103878e-02, 3.25056304e-01, 8.89150531e-01,\n",
       "       1.97390696e-02, 4.65936869e-02, 3.88968080e-02, 3.84152035e-01,\n",
       "       7.27645139e-02, 1.51506216e-02, 1.30740484e-02, 2.92908256e-01,\n",
       "       7.87297079e-02, 1.60266720e+00, 1.95286940e-01, 4.17653682e-01,\n",
       "       2.04232693e-02, 9.51097470e-01, 4.07053014e-02, 1.01917442e-01,\n",
       "       7.25287130e-02, 9.81273366e-02, 2.18901308e-02, 6.68319107e-03,\n",
       "       2.32046820e-01, 1.36991606e+00, 1.05156474e-01, 2.79751874e-02,\n",
       "       3.88743502e-02, 9.92466467e-03, 6.54292362e-03, 2.44792088e-01,\n",
       "       1.80096850e+00, 7.27337283e-03, 3.54789772e-01, 4.38529604e-01,\n",
       "       8.05843600e-01, 3.22996122e-01, 1.60230051e-01, 3.12207768e-01,\n",
       "       1.53490794e+01, 1.95348823e-01, 4.13919676e-01, 1.36221466e-01,\n",
       "       1.03476157e-01, 1.19853071e+00, 1.36237502e+00, 2.27509697e+00,\n",
       "       1.46308891e-01, 2.05550145e-01, 4.23980937e+00, 1.16713111e-01,\n",
       "       2.32052922e-01, 1.19159047e+01, 5.64933439e-01, 7.92458686e-01,\n",
       "       1.26538093e-01, 5.83117793e-01, 7.48851549e-01, 3.54127755e-02,\n",
       "       7.52367498e-01, 1.27649215e-01, 1.61581742e-01, 1.53295602e-01,\n",
       "       9.19219906e-01, 4.09690838e-01, 7.38653686e-01, 3.27517170e-01,\n",
       "       6.97029356e-02, 1.18744024e+00, 2.40480574e+00, 1.33994217e-01,\n",
       "       1.13278805e-01, 1.00839553e+00, 4.05419840e-02, 1.10272815e-01,\n",
       "       1.02036638e+00, 3.86671888e+00, 4.60841292e-02, 1.69298814e-01,\n",
       "       1.96560152e-01, 1.41299927e+00, 1.68891104e-01, 3.47469961e-02,\n",
       "       1.01335788e+00, 2.31881512e-01, 4.81101743e+00, 6.23661236e-01,\n",
       "       3.99450528e+00, 5.67872005e-02, 5.32505240e+00, 8.74985911e-02,\n",
       "       3.88954772e-01, 2.07615287e-01, 2.33520792e-01, 6.38997132e-02,\n",
       "       2.44578630e-02, 8.47779709e-01, 4.73617991e+00, 3.55374126e-01,\n",
       "       7.60855630e-02, 2.35105801e-02, 2.49828594e-01, 3.31218442e-01,\n",
       "       1.09017222e+00, 8.10888776e-01, 3.84977519e+00, 3.78989022e+00,\n",
       "       2.70350334e-01, 8.89830958e-01, 6.61871513e-01, 3.14230090e+00,\n",
       "       3.09342100e+00, 3.12062914e-01, 8.36767676e-02, 6.20764887e-02,\n",
       "       2.48289301e-01, 2.03822911e-01, 2.49712682e-01, 7.35747218e-01,\n",
       "       2.79981377e-01, 1.14191239e+00, 2.08963994e-02, 8.48573391e-03,\n",
       "       2.88381917e-02, 1.03724821e+00, 2.86850895e-01, 6.32673151e-01,\n",
       "       7.70654467e-02, 2.69818258e-01, 9.95856702e-01, 2.68626406e-01,\n",
       "       4.29073172e-02, 1.83126243e-02, 2.79679236e-01, 1.13015997e+00,\n",
       "       2.50144953e-01, 1.80121478e-01, 8.48037597e-02, 9.32806253e-02,\n",
       "       1.70772082e-02, 4.81756361e-02, 1.99064329e-01, 2.12066047e-01,\n",
       "       2.83403277e-02, 7.73336163e-02, 2.51738554e-01, 2.99483056e-01,\n",
       "       2.24728185e-01, 1.89512720e-01, 2.51920519e-01, 2.90683926e-01,\n",
       "       8.15001633e-02, 7.77470405e-02, 6.26785699e-02, 8.90520896e-02,\n",
       "       6.11060606e-02, 2.36657092e-01, 8.41632136e-02, 5.40780493e-02,\n",
       "       3.15300291e-01, 3.20051559e-01, 2.64608892e-01, 8.80666740e-02,\n",
       "       2.33902463e-01, 8.32172092e-02, 2.39001984e-01, 8.56267192e-02,\n",
       "       2.49951609e-01, 1.85873976e-01, 8.23883584e-02, 8.41373310e-02,\n",
       "       1.50383396e-01, 8.41503218e-02, 3.91233572e-02, 7.26149968e-02,\n",
       "       8.48057002e-02, 2.52557151e-01, 1.19159229e-01, 2.32605219e-01,\n",
       "       1.59341595e-01, 5.67757993e-02, 4.10607969e-02, 3.16477246e-01,\n",
       "       1.89859291e-01, 1.28247443e-01, 2.00473165e-01, 4.07945852e-02,\n",
       "       5.39263288e-02, 2.99729908e-01, 5.45875356e-02, 1.65640721e-01,\n",
       "       3.07784197e-01, 8.26590131e-02, 1.85663586e-01, 2.50187767e-01,\n",
       "       3.08855335e-01, 8.23037167e-02, 1.97814024e-01, 5.76774584e-02,\n",
       "       4.87567221e-02, 3.12504822e-01, 5.41201903e-02, 8.48800511e-02,\n",
       "       8.40954068e-02, 8.38306327e-02, 5.61281745e-02, 6.31226005e-02,\n",
       "       3.13223623e-01, 2.61873701e-01, 7.62527184e-02, 1.91745630e-01,\n",
       "       8.00555925e-02, 8.97704393e-02, 3.22267840e-01, 6.22763753e-02,\n",
       "       1.89511465e-01, 3.14354657e-01, 8.49333418e-02, 8.08171012e-02,\n",
       "       2.43551047e-01, 8.44153269e-02, 3.31879910e-01, 1.91565687e-01,\n",
       "       2.17884061e-01, 8.58357189e-02, 2.76134638e-01, 8.23389348e-02,\n",
       "       8.32788671e-02, 8.06070201e-02, 2.34907053e-01, 3.01053792e-01,\n",
       "       8.39781911e-02, 6.25357236e-02, 4.81565823e-02, 2.46809961e-01,\n",
       "       9.01159302e-02, 2.51868820e-01, 2.48654917e-01, 7.73061631e-02,\n",
       "       2.09578159e-01, 2.35438588e-01, 2.66992225e-01, 3.20891968e-01,\n",
       "       3.14286752e-01, 8.52793608e-02, 3.07384057e-01, 8.26163075e-02,\n",
       "       2.03123051e-01, 3.99535051e-02, 2.52334641e-01, 1.69321749e-01,\n",
       "       2.82174215e-01, 1.26601027e-01, 7.98836062e-02, 8.37235529e-02,\n",
       "       2.47273099e-01, 2.43002224e-01, 4.98613988e-02, 7.24563198e-01,\n",
       "       1.04183325e-01, 1.00252029e+01, 1.78926335e-01])"
      ]
     },
     "execution_count": 6,
     "metadata": {},
     "output_type": "execute_result"
    }
   ],
   "execution_count": 6
  },
  {
   "metadata": {
    "ExecuteTime": {
     "end_time": "2025-03-20T09:27:04.171817Z",
     "start_time": "2025-03-20T09:27:04.165071Z"
    }
   },
   "cell_type": "code",
   "source": "df.loc[(df[\"consumer location\"] == \"IN-DD\")]",
   "id": "21cd016174eea900",
   "outputs": [
    {
     "data": {
      "text/plain": [
       "Empty DataFrame\n",
       "Columns: [supplier name, supplier categories, consumer name, consumer reference product, consumer location, amount, CF, impact]\n",
       "Index: []"
      ],
      "text/html": [
       "<div>\n",
       "<style scoped>\n",
       "    .dataframe tbody tr th:only-of-type {\n",
       "        vertical-align: middle;\n",
       "    }\n",
       "\n",
       "    .dataframe tbody tr th {\n",
       "        vertical-align: top;\n",
       "    }\n",
       "\n",
       "    .dataframe thead th {\n",
       "        text-align: right;\n",
       "    }\n",
       "</style>\n",
       "<table border=\"1\" class=\"dataframe\">\n",
       "  <thead>\n",
       "    <tr style=\"text-align: right;\">\n",
       "      <th></th>\n",
       "      <th>supplier name</th>\n",
       "      <th>supplier categories</th>\n",
       "      <th>consumer name</th>\n",
       "      <th>consumer reference product</th>\n",
       "      <th>consumer location</th>\n",
       "      <th>amount</th>\n",
       "      <th>CF</th>\n",
       "      <th>impact</th>\n",
       "    </tr>\n",
       "  </thead>\n",
       "  <tbody>\n",
       "  </tbody>\n",
       "</table>\n",
       "</div>"
      ]
     },
     "execution_count": 13,
     "metadata": {},
     "output_type": "execute_result"
    }
   ],
   "execution_count": 13
  },
  {
   "cell_type": "code",
   "id": "b0d04e502fddab85",
   "metadata": {
    "ExecuteTime": {
     "end_time": "2025-03-20T09:38:21.553903Z",
     "start_time": "2025-03-20T09:38:21.539280Z"
    }
   },
   "source": [
    "df.groupby([\"supplier name\", \"consumer location\"])[\"CF\"].mean()"
   ],
   "outputs": [
    {
     "data": {
      "text/plain": [
       "supplier name  consumer location\n",
       "Ammonia        AR                   0.214627\n",
       "               AT                   1.037018\n",
       "               AU                   0.012715\n",
       "               AU-NSW               0.012715\n",
       "               AU-QLD               0.012715\n",
       "                                      ...   \n",
       "Sulfuric acid  GLO                  0.203823\n",
       "               RER                  0.661872\n",
       "               RNA                  3.142301\n",
       "               RoW                  0.203299\n",
       "               US                   3.093421\n",
       "Name: CF, Length: 653, dtype: float64"
      ]
     },
     "execution_count": 5,
     "metadata": {},
     "output_type": "execute_result"
    }
   ],
   "execution_count": 5
  },
  {
   "cell_type": "code",
   "execution_count": 21,
   "id": "bc3b8566460bf0f",
   "metadata": {
    "ExecuteTime": {
     "end_time": "2025-03-14T12:21:26.350483Z",
     "start_time": "2025-03-14T12:21:26.348120Z"
    }
   },
   "outputs": [
    {
     "data": {
      "text/plain": [
       "124526838126026753"
      ]
     },
     "execution_count": 21,
     "metadata": {},
     "output_type": "execute_result"
    }
   ],
   "source": [
    "list(LCA.demand.keys())[0]"
   ]
  },
  {
   "cell_type": "code",
   "id": "10e5992c6e7da7a5",
   "metadata": {
    "ExecuteTime": {
     "end_time": "2025-03-20T09:53:20.583569Z",
     "start_time": "2025-03-20T09:53:20.484620Z"
    }
   },
   "source": [
    "from constructive_geometries import geomatcher\n",
    "geo = geomatcher.Geomatcher()\n",
    "\n",
    "geo.contained(\n",
    "    \"CA-QC\", biggest_first=False, include_self=False\n",
    ")"
   ],
   "outputs": [
    {
     "data": {
      "text/plain": [
       "[('ecoinvent', 'Québec, HQ distribution network')]"
      ]
     },
     "execution_count": 6,
     "metadata": {},
     "output_type": "execute_result"
    }
   ],
   "execution_count": 6
  },
  {
   "cell_type": "code",
   "execution_count": 2,
   "id": "dfb2406d-779e-4dc0-aa90-495c900003b8",
   "metadata": {},
   "outputs": [
    {
     "data": {
      "text/plain": [
       "['PG']"
      ]
     },
     "execution_count": 2,
     "metadata": {},
     "output_type": "execute_result"
    }
   ],
   "source": [
    "geo.contained(\"PG\", biggest_first=False)"
   ]
  },
  {
   "cell_type": "code",
   "execution_count": 6,
   "id": "791d371ddd317c5f",
   "metadata": {
    "ExecuteTime": {
     "end_time": "2025-03-13T11:32:15.968542Z",
     "start_time": "2025-03-13T11:32:15.903143Z"
    }
   },
   "outputs": [
    {
     "data": {
      "text/plain": [
       "{'Water',\n",
       " 'Water, cooling, unspecified natural origin',\n",
       " 'Water, in air',\n",
       " 'Water, lake',\n",
       " 'Water, river',\n",
       " 'Water, turbine use, unspecified natural origin',\n",
       " 'Water, unspecified natural origin',\n",
       " 'Water, well, in ground'}"
      ]
     },
     "execution_count": 6,
     "metadata": {},
     "output_type": "execute_result"
    }
   ],
   "source": [
    "set([x[\"supplier\"][\"name\"] for x in LCA.ignored_method_exchanges])"
   ]
  },
  {
   "cell_type": "code",
   "execution_count": 7,
   "id": "a6184f20f6cb9f89",
   "metadata": {
    "ExecuteTime": {
     "end_time": "2025-03-13T11:24:29.740003Z",
     "start_time": "2025-03-13T11:24:27.371772Z"
    }
   },
   "outputs": [
    {
     "name": "stdout",
     "output_type": "stream",
     "text": [
      "Matrix type: biosphere\n"
     ]
    },
    {
     "data": {
      "text/html": [
       "<div>\n",
       "<style scoped>\n",
       "    .dataframe tbody tr th:only-of-type {\n",
       "        vertical-align: middle;\n",
       "    }\n",
       "\n",
       "    .dataframe tbody tr th {\n",
       "        vertical-align: top;\n",
       "    }\n",
       "\n",
       "    .dataframe thead th {\n",
       "        text-align: right;\n",
       "    }\n",
       "</style>\n",
       "<table border=\"1\" class=\"dataframe\">\n",
       "  <thead>\n",
       "    <tr style=\"text-align: right;\">\n",
       "      <th></th>\n",
       "      <th>supplier name</th>\n",
       "      <th>supplier categories</th>\n",
       "      <th>consumer name</th>\n",
       "      <th>consumer reference product</th>\n",
       "      <th>consumer location</th>\n",
       "      <th>amount</th>\n",
       "      <th>CF</th>\n",
       "      <th>impact</th>\n",
       "    </tr>\n",
       "  </thead>\n",
       "  <tbody>\n",
       "    <tr>\n",
       "      <th>0</th>\n",
       "      <td>Water, cooling, unspecified natural origin</td>\n",
       "      <td>(natural resource, in water)</td>\n",
       "      <td>particleboard production, uncoated, from virgi...</td>\n",
       "      <td>particleboard, uncoated</td>\n",
       "      <td>RoW</td>\n",
       "      <td>6.544631e-11</td>\n",
       "      <td>20.179399</td>\n",
       "      <td>1.320667e-09</td>\n",
       "    </tr>\n",
       "    <tr>\n",
       "      <th>1</th>\n",
       "      <td>Water, cooling, unspecified natural origin</td>\n",
       "      <td>(natural resource, in water)</td>\n",
       "      <td>heat and power co-generation, lignite</td>\n",
       "      <td>electricity, high voltage</td>\n",
       "      <td>SI</td>\n",
       "      <td>1.453419e-07</td>\n",
       "      <td>1.087201</td>\n",
       "      <td>1.580158e-07</td>\n",
       "    </tr>\n",
       "    <tr>\n",
       "      <th>2</th>\n",
       "      <td>Water, cooling, unspecified natural origin</td>\n",
       "      <td>(natural resource, in water)</td>\n",
       "      <td>atrazine production</td>\n",
       "      <td>atrazine</td>\n",
       "      <td>RoW</td>\n",
       "      <td>4.228744e-12</td>\n",
       "      <td>19.819034</td>\n",
       "      <td>8.380961e-11</td>\n",
       "    </tr>\n",
       "    <tr>\n",
       "      <th>3</th>\n",
       "      <td>Water, cooling, unspecified natural origin</td>\n",
       "      <td>(natural resource, in water)</td>\n",
       "      <td>sheet rolling, copper</td>\n",
       "      <td>sheet rolling, copper</td>\n",
       "      <td>RoW</td>\n",
       "      <td>1.290820e-10</td>\n",
       "      <td>19.819034</td>\n",
       "      <td>2.558280e-09</td>\n",
       "    </tr>\n",
       "    <tr>\n",
       "      <th>4</th>\n",
       "      <td>Water, cooling, unspecified natural origin</td>\n",
       "      <td>(natural resource, in water)</td>\n",
       "      <td>phosphoric acid production, dihydrate process</td>\n",
       "      <td>phosphoric acid, fertiliser grade, without wat...</td>\n",
       "      <td>MA</td>\n",
       "      <td>5.123237e-08</td>\n",
       "      <td>54.031045</td>\n",
       "      <td>2.768139e-06</td>\n",
       "    </tr>\n",
       "    <tr>\n",
       "      <th>...</th>\n",
       "      <td>...</td>\n",
       "      <td>...</td>\n",
       "      <td>...</td>\n",
       "      <td>...</td>\n",
       "      <td>...</td>\n",
       "      <td>...</td>\n",
       "      <td>...</td>\n",
       "      <td>...</td>\n",
       "    </tr>\n",
       "    <tr>\n",
       "      <th>4923</th>\n",
       "      <td>Water, in air</td>\n",
       "      <td>(natural resource, in air)</td>\n",
       "      <td>soy-based resin production</td>\n",
       "      <td>polyester resin, unsaturated</td>\n",
       "      <td>US</td>\n",
       "      <td>4.729868e-16</td>\n",
       "      <td>9.087076</td>\n",
       "      <td>4.298067e-15</td>\n",
       "    </tr>\n",
       "    <tr>\n",
       "      <th>4924</th>\n",
       "      <td>Water, in air</td>\n",
       "      <td>(natural resource, in air)</td>\n",
       "      <td>soy-based resin production</td>\n",
       "      <td>polyester resin, unsaturated</td>\n",
       "      <td>RoW</td>\n",
       "      <td>1.378576e-15</td>\n",
       "      <td>20.175187</td>\n",
       "      <td>2.781303e-14</td>\n",
       "    </tr>\n",
       "    <tr>\n",
       "      <th>4925</th>\n",
       "      <td>Water, in air</td>\n",
       "      <td>(natural resource, in air)</td>\n",
       "      <td>clinker production</td>\n",
       "      <td>clinker</td>\n",
       "      <td>RoW</td>\n",
       "      <td>1.625316e-09</td>\n",
       "      <td>20.627229</td>\n",
       "      <td>3.352577e-08</td>\n",
       "    </tr>\n",
       "    <tr>\n",
       "      <th>4926</th>\n",
       "      <td>Water, in air</td>\n",
       "      <td>(natural resource, in air)</td>\n",
       "      <td>particleboard production, cement bonded</td>\n",
       "      <td>particleboard, cement bonded</td>\n",
       "      <td>RER</td>\n",
       "      <td>8.635607e-19</td>\n",
       "      <td>6.750246</td>\n",
       "      <td>5.829247e-18</td>\n",
       "    </tr>\n",
       "    <tr>\n",
       "      <th>4927</th>\n",
       "      <td>Water, in air</td>\n",
       "      <td>(natural resource, in air)</td>\n",
       "      <td>liquid packaging board production</td>\n",
       "      <td>bark</td>\n",
       "      <td>RoW</td>\n",
       "      <td>2.185130e-18</td>\n",
       "      <td>19.819034</td>\n",
       "      <td>4.330716e-17</td>\n",
       "    </tr>\n",
       "  </tbody>\n",
       "</table>\n",
       "<p>4928 rows × 8 columns</p>\n",
       "</div>"
      ],
      "text/plain": [
       "                                   supplier name  \\\n",
       "0     Water, cooling, unspecified natural origin   \n",
       "1     Water, cooling, unspecified natural origin   \n",
       "2     Water, cooling, unspecified natural origin   \n",
       "3     Water, cooling, unspecified natural origin   \n",
       "4     Water, cooling, unspecified natural origin   \n",
       "...                                          ...   \n",
       "4923                               Water, in air   \n",
       "4924                               Water, in air   \n",
       "4925                               Water, in air   \n",
       "4926                               Water, in air   \n",
       "4927                               Water, in air   \n",
       "\n",
       "               supplier categories  \\\n",
       "0     (natural resource, in water)   \n",
       "1     (natural resource, in water)   \n",
       "2     (natural resource, in water)   \n",
       "3     (natural resource, in water)   \n",
       "4     (natural resource, in water)   \n",
       "...                            ...   \n",
       "4923    (natural resource, in air)   \n",
       "4924    (natural resource, in air)   \n",
       "4925    (natural resource, in air)   \n",
       "4926    (natural resource, in air)   \n",
       "4927    (natural resource, in air)   \n",
       "\n",
       "                                          consumer name  \\\n",
       "0     particleboard production, uncoated, from virgi...   \n",
       "1                 heat and power co-generation, lignite   \n",
       "2                                   atrazine production   \n",
       "3                                 sheet rolling, copper   \n",
       "4         phosphoric acid production, dihydrate process   \n",
       "...                                                 ...   \n",
       "4923                         soy-based resin production   \n",
       "4924                         soy-based resin production   \n",
       "4925                                 clinker production   \n",
       "4926            particleboard production, cement bonded   \n",
       "4927                  liquid packaging board production   \n",
       "\n",
       "                             consumer reference product consumer location  \\\n",
       "0                               particleboard, uncoated               RoW   \n",
       "1                             electricity, high voltage                SI   \n",
       "2                                              atrazine               RoW   \n",
       "3                                 sheet rolling, copper               RoW   \n",
       "4     phosphoric acid, fertiliser grade, without wat...                MA   \n",
       "...                                                 ...               ...   \n",
       "4923                       polyester resin, unsaturated                US   \n",
       "4924                       polyester resin, unsaturated               RoW   \n",
       "4925                                            clinker               RoW   \n",
       "4926                       particleboard, cement bonded               RER   \n",
       "4927                                               bark               RoW   \n",
       "\n",
       "            amount         CF        impact  \n",
       "0     6.544631e-11  20.179399  1.320667e-09  \n",
       "1     1.453419e-07   1.087201  1.580158e-07  \n",
       "2     4.228744e-12  19.819034  8.380961e-11  \n",
       "3     1.290820e-10  19.819034  2.558280e-09  \n",
       "4     5.123237e-08  54.031045  2.768139e-06  \n",
       "...            ...        ...           ...  \n",
       "4923  4.729868e-16   9.087076  4.298067e-15  \n",
       "4924  1.378576e-15  20.175187  2.781303e-14  \n",
       "4925  1.625316e-09  20.627229  3.352577e-08  \n",
       "4926  8.635607e-19   6.750246  5.829247e-18  \n",
       "4927  2.185130e-18  19.819034  4.330716e-17  \n",
       "\n",
       "[4928 rows x 8 columns]"
      ]
     },
     "execution_count": 7,
     "metadata": {},
     "output_type": "execute_result"
    }
   ],
   "source": [
    "LCA.generate_cf_table()"
   ]
  },
  {
   "cell_type": "code",
   "execution_count": 7,
   "id": "7961940618b7aca6",
   "metadata": {
    "ExecuteTime": {
     "end_time": "2024-12-15T17:50:34.701932Z",
     "start_time": "2024-12-15T17:50:34.696160Z"
    }
   },
   "outputs": [
    {
     "data": {
      "text/plain": [
       "set()"
      ]
     },
     "execution_count": 7,
     "metadata": {},
     "output_type": "execute_result"
    }
   ],
   "source": [
    "LCA.ignored_locations"
   ]
  },
  {
   "cell_type": "code",
   "execution_count": 9,
   "id": "92b1b43be6023d7a",
   "metadata": {
    "ExecuteTime": {
     "end_time": "2025-03-12T15:31:19.780115Z",
     "start_time": "2025-03-12T15:31:19.775152Z"
    }
   },
   "outputs": [],
   "source": [
    "method = ('AWARE 1.2c', 'Country', 'mixed', 'yearly')\n",
    "convmethod = (\n",
    "  # 'ecoinvent-3.10',\n",
    "  'EF v3.1 EN15804',\n",
    "  'water use',\n",
    "  'user deprivation potential (deprivation-weighted water consumption)')"
   ]
  },
  {
   "cell_type": "code",
   "execution_count": 10,
   "id": "e4bc7f7d309a36bf",
   "metadata": {
    "ExecuteTime": {
     "end_time": "2025-03-12T15:31:21.118432Z",
     "start_time": "2025-03-12T15:31:20.271537Z"
    }
   },
   "outputs": [
    {
     "name": "stderr",
     "output_type": "stream",
     "text": [
      "/opt/homebrew/Caskroom/miniforge/base/envs/bw2/lib/python3.11/site-packages/scikits/umfpack/umfpack.py:736: UmfpackWarning: (almost) singular matrix! (estimated cond. number: 4.83e+13)\n",
      "  warnings.warn(msg, UmfpackWarning)\n"
     ]
    },
    {
     "data": {
      "text/plain": [
       "0.06176615560312869"
      ]
     },
     "execution_count": 10,
     "metadata": {},
     "output_type": "execute_result"
    }
   ],
   "source": [
    "import bw2calc\n",
    "\n",
    "convLCA = bw2calc.LCA({act: 1}, convmethod)\n",
    "convLCA.lci()\n",
    "convLCA.lcia()\n",
    "convLCA.score"
   ]
  },
  {
   "cell_type": "code",
   "execution_count": null,
   "id": "693d8b4bbb10bedb",
   "metadata": {},
   "outputs": [],
   "source": []
  }
 ],
 "metadata": {
  "kernelspec": {
   "display_name": "Python 3 (ipykernel)",
   "language": "python",
   "name": "python3"
  },
  "language_info": {
   "codemirror_mode": {
    "name": "ipython",
    "version": 3
   },
   "file_extension": ".py",
   "mimetype": "text/x-python",
   "name": "python",
   "nbconvert_exporter": "python",
   "pygments_lexer": "ipython3",
   "version": "3.11.10"
  }
 },
 "nbformat": 4,
 "nbformat_minor": 5
}

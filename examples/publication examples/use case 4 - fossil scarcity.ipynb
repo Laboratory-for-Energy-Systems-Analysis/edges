{
 "cells": [
  {
   "cell_type": "markdown",
   "id": "60c5ff09-7a0e-4492-8984-697a335fb046",
   "metadata": {},
   "source": [
    "# **Example scenario-dependent Surplus Cost of Fossil Fuel Extraction | Use case 4**"
   ]
  },
  {
   "cell_type": "markdown",
   "id": "5938ed99-3cc0-441d-b999-28af623a0a07",
   "metadata": {},
   "source": [
    "**Authors:**  \n",
    "[Romain Sacchi](mailto:romain.sacchi@psi.ch)  \n",
    "[Alvaro Hahn Menacho](mailto:alvaro.hahn-menacho@psi.ch)\n"
   ]
  },
  {
   "cell_type": "markdown",
   "id": "9b77cd8f-5573-425c-8afa-e882161e4539",
   "metadata": {},
   "source": [
    "This notebook presents an example to build an edges-based LCA using a scenario-dependent Surplus Cost of Fossil Fuel Extraction method across three scenarios from REMIND v.3.5.  \n",
    "\n",
    "This example is part of the following publication:\n",
    "\n",
    "**Sacchi, R., Menacho, A. H., Seitfudem, G., Agez, M., Schlesinger, J., Koyamparambath, A., Saldivar, J. S., Loubet, P., & Bauer, C.** (2025). *Contextual LCIA Without the Overhead: An Exchange-based Framework for Flexible Impact Assessment.*  \n",
    "International Journal of Life Cycle Assessment."
   ]
  },
  {
   "cell_type": "markdown",
   "id": "2b5655c3-4e18-420f-9025-73e3d999da4c",
   "metadata": {},
   "source": [
    "## Structure"
   ]
  },
  {
   "cell_type": "markdown",
   "id": "d7709e74-df97-437a-899d-98c8006fdd41",
   "metadata": {},
   "source": [
    "1. [Import *edges* and set *bw2 project*](#sec_import_edges)\n",
    "2. [Import hydrogen production, PEM, LCI](#sec_import_h2)\n",
    "3. [Select *Functional Unit* and *method*](#sec_select_fu)\n",
    "4. [Run edges based LCA](#sec_run_edges_lca)\n",
    "5. [Export results](#sec_export_results)\n",
    "6. [Plot results](#sec_plot_results)"
   ]
  },
  {
   "cell_type": "markdown",
   "id": "84cc3789-2459-43b2-a003-0109e456f4c5",
   "metadata": {},
   "source": [
    "<a id=\"sec_import_edges\"></a>\n",
    "# 1. Import edges and set bw2 project"
   ]
  },
  {
   "cell_type": "code",
   "execution_count": 2,
   "id": "3baa09f5-dd98-4a1d-b45f-8d5477a70fa6",
   "metadata": {},
   "outputs": [
    {
     "name": "stderr",
     "output_type": "stream",
     "text": [
      "/opt/homebrew/Caskroom/miniforge/base/envs/bw25/lib/python3.11/site-packages/scikits/__init__.py:1: UserWarning: pkg_resources is deprecated as an API. See https://setuptools.pypa.io/en/latest/pkg_resources.html. The pkg_resources package is slated for removal as early as 2025-11-30. Refrain from using this package or pin to Setuptools<81.\n",
      "  __import__('pkg_resources').declare_namespace(__name__)\n"
     ]
    },
    {
     "name": "stdout",
     "output_type": "stream",
     "text": [
      "\u001b[2m14:27:15+0200\u001b[0m [\u001b[33m\u001b[1mwarning  \u001b[0m] \u001b[1mCan't import `SimaProBlockCSVImporter` - please install `bw2io` with `pip install bw2io[multifunctional]` or install `multifunctional` and `bw_simapro_csv` manually.\u001b[0m\n"
     ]
    }
   ],
   "source": [
    "from edges import EdgeLCIA, get_available_methods, setup_package_logging\n",
    "import logging\n",
    "import bw2data, bw2io\n",
    "\n",
    "# we want the logger to log things into edges.log\n",
    "#setup_package_logging(level=logging.INFO)\n",
    "# if you want full debug:\n",
    "setup_package_logging(level=logging.DEBUG)"
   ]
  },
  {
   "cell_type": "markdown",
   "id": "7bec18b9-e27b-42bd-be14-93df0b394293",
   "metadata": {},
   "source": [
    "For our example, we activate a ``brighway`` project that contains ecoinvent 3.10 cut-off."
   ]
  },
  {
   "cell_type": "code",
   "execution_count": 3,
   "id": "f626c421-988a-4bef-8c27-e6be25af3178",
   "metadata": {},
   "outputs": [],
   "source": [
    "bw2data.projects.set_current(\"bw25_ei310\")"
   ]
  },
  {
   "cell_type": "markdown",
   "id": "21b7b83a-20c5-4b47-a106-703d301b816f",
   "metadata": {},
   "source": [
    "<a id=\"sec_import_h2\"></a>\n",
    "# 2. Import hydrogen production, PEM, LCI"
   ]
  },
  {
   "cell_type": "code",
   "execution_count": null,
   "id": "6bc9cbadaea7e69",
   "metadata": {},
   "outputs": [],
   "source": [
    "if \"h2_pem\" in bw2data.databases:\n",
    "    del bw2data.databases[\"h2_pem\"]\n",
    "lci = bw2io.ExcelImporter(\"lci-hydrogen-electrolysis-ei310.xlsx\")\n",
    "lci.apply_strategies()\n",
    "lci.match_database(fields=[\"name\", \"reference product\", \"location\"])\n",
    "lci.match_database(\"ecoinvent-3.10-cutoff\",fields=[\"name\", \"reference product\", \"location\"])\n",
    "lci.match_database(\"biosphere\",fields=[\"name\", \"categories\"])\n",
    "lci.statistics()\n",
    "lci.drop_unlinked(i_am_reckless=True)\n",
    "if len(list(lci.unlinked)) == 0:\n",
    "    lci.write_database()\n",
    "\n",
    "# we assign manually classifications to activities\n",
    "# since it is unclear how to do that in the Excel inventory file.\n",
    "\n",
    "classifications = {\n",
    "    \"hydrogen production, gaseous, 30 bar, from PEM electrolysis, from grid electricity\": (\"CPC\", \"34210\"),\n",
    "    \"hydrogen production, gaseous, 30 bar, from PEM electrolysis, from solar photovoltaic electricity\": (\"CPC\", \"34210\"),\n",
    "    \"hydrogen production, gaseous, 30 bar, from PEM electrolysis, from onshore wind electricity\": (\"CPC\", \"34210\"),\n",
    "    \"hydrogen production, gaseous, 30 bar, from PEM electrolysis, from offshore wind electricity\": (\"CPC\", \"34210\"),\n",
    "    \"hydrogen production, gaseous, 30 bar, from PEM electrolysis, from geothermal electricity\": (\"CPC\", \"34210\"),\n",
    "    \"electrolyzer production, 1MWe, PEM, Stack\": (\"CPC\", \"4220:Construction of utility projects\"),\n",
    "    \"treatment of electrolyzer stack, 1MWe, PEM\": (\"CPC\", \"3830\"),\n",
    "    \"electrolyzer production, 1MWe, PEM, Balance of Plant\": (\"CPC\", \"4220:Construction of utility projects\"),\n",
    "    \"treatment of electrolyzer balance of plant, 1MWe, PEM\": (\"CPC\", \"3830\"),\n",
    "    \"platinum group metal, extraction and refinery operations\": (\"CPC\", \"2420\"),\n",
    "    \"deionized water production, via reverse osmosis, from brackish water\": (\"CPC\", \"34210\")\n",
    "}\n",
    "for ds in bw2data.Database(\"h2_pem\"):\n",
    "    if ds[\"name\"] in classifications:\n",
    "        ds[\"classifications\"] = [classifications[ds[\"name\"]]]\n",
    "        ds.save()"
   ]
  },
  {
   "cell_type": "markdown",
   "id": "f9f15fee-4500-4ab9-8cb2-24c64c86f85c",
   "metadata": {},
   "source": [
    "<a id=\"sec_select_fu\"></a>\n",
    "# 3. Select Functional Unit and method"
   ]
  },
  {
   "cell_type": "markdown",
   "id": "4cee9c2e-2095-4983-9fa2-520c6c7e144c",
   "metadata": {},
   "source": [
    "### 3.1. Select FU\n",
    "We select the activity to run the LCA for. In our case, it is the production of 1 kg of hydrogen, using a PEM electrolyzer, powered with offshore wind power, in France."
   ]
  },
  {
   "cell_type": "code",
   "execution_count": 5,
   "id": "685622f1-d882-4919-baa5-ef97fc179f04",
   "metadata": {},
   "outputs": [
    {
     "data": {
      "text/plain": [
       "'hydrogen production, gaseous, 30 bar, from PEM electrolysis, from offshore wind electricity' (kilogram, FR, None)"
      ]
     },
     "execution_count": 5,
     "metadata": {},
     "output_type": "execute_result"
    }
   ],
   "source": [
    "act = [a for a in bw2data.Database(\"h2_pem\") if a[\"name\"] == \"hydrogen production, gaseous, 30 bar, from PEM electrolysis, from offshore wind electricity\"][0]\n",
    "act"
   ]
  },
  {
   "cell_type": "markdown",
   "id": "02170cf4-c1db-4e1a-8802-b56df52be4bb",
   "metadata": {},
   "source": [
    "### 3.2. Select method\n",
    "\n",
    "We select the Surplus Cost Production LCIA method."
   ]
  },
  {
   "cell_type": "code",
   "execution_count": null,
   "id": "d4d2f88ba4d273ef",
   "metadata": {},
   "outputs": [],
   "source": [
    "method = ('SCP', '1.0')"
   ]
  },
  {
   "cell_type": "markdown",
   "id": "691a52dd-3c2f-4713-8684-38e4a1af9951",
   "metadata": {},
   "source": [
    "<a id=\"sec_run_edges_lca\"></a>\n",
    "# 4. Run edges-based LCA"
   ]
  },
  {
   "cell_type": "code",
   "execution_count": 23,
   "id": "c012c3d5-5043-4d25-877d-c35f4be2f1f5",
   "metadata": {},
   "outputs": [
    {
     "name": "stderr",
     "output_type": "stream",
     "text": [
      "/opt/homebrew/Caskroom/miniforge/base/envs/bw25/lib/python3.11/site-packages/scikits/umfpack/umfpack.py:736: UmfpackWarning: (almost) singular matrix! (estimated cond. number: 1.21e+13)\n",
      "  warnings.warn(msg, UmfpackWarning)\n",
      "Mapping exchanges: 100%|██████████████████████████| 5/5 [00:00<00:00, 96.99it/s]\n"
     ]
    }
   ],
   "source": [
    "lcia = EdgeLCIA(\n",
    "    demand={act: 1},\n",
    "    method=method,\n",
    ")\n",
    "\n",
    "lcia.lci()\n",
    "lcia.map_exchanges()"
   ]
  },
  {
   "cell_type": "code",
   "execution_count": 24,
   "id": "56e07c2a-910a-422a-8b89-9f8dcffe8be9",
   "metadata": {},
   "outputs": [
    {
     "name": "stdout",
     "output_type": "stream",
     "text": [
      "+----------------------+--------------------------------------------+\n",
      "|       Activity       | hydrogen production, gaseous, 30 bar, from |\n",
      "|                      |    PEM electrolysis, from offshore wind    |\n",
      "|                      |                electricity                 |\n",
      "|     Method name      |               ('SCP', '1.0')               |\n",
      "|         Unit         |                    USD                     |\n",
      "|      Data file       |                  SCP_1.0                   |\n",
      "|    CFs in method     |                     5                      |\n",
      "|       CFs used       |                     4                      |\n",
      "|   Unique CFs used    |                     3                      |\n",
      "|  Exc. characterized  |                    509                     |\n",
      "| Exc. uncharacterized |                   335463                   |\n",
      "+----------------------+--------------------------------------------+\n"
     ]
    }
   ],
   "source": [
    "lcia.statistics()"
   ]
  },
  {
   "cell_type": "markdown",
   "id": "6972d3c5-cf83-4a12-baa8-8a4ae736c713",
   "metadata": {},
   "source": [
    "<a id=\"sec_export_results\"></a>\n",
    "# 5. Export results\n",
    "\n",
    "We will evaluate the CFs while iterating through the scenarios and accessing scenario-specific parameters."
   ]
  },
  {
   "cell_type": "code",
   "execution_count": 25,
   "id": "ab9d40da-194c-4758-a492-7ab8f8f69031",
   "metadata": {},
   "outputs": [],
   "source": [
    "import pandas as pd\n",
    "import itertools"
   ]
  },
  {
   "cell_type": "code",
   "execution_count": 26,
   "id": "10404908-919f-49bd-b7b4-6532a70bdfa8",
   "metadata": {},
   "outputs": [],
   "source": [
    "scenarios = list(lcia.parameters.keys())"
   ]
  },
  {
   "cell_type": "code",
   "execution_count": 27,
   "id": "2d071ce0-169a-4c02-8d3c-30c2d8aa8e91",
   "metadata": {},
   "outputs": [
    {
     "data": {
      "text/plain": [
       "['SSP1-PkBudg650',\n",
       " 'SSP2-NPi',\n",
       " 'SSP3-PkBudg1000',\n",
       " 'SSP2-PkBudg650',\n",
       " 'SSP2-PkBudg1000',\n",
       " 'SSP2-rollBack',\n",
       " 'SSP3-rollBack',\n",
       " 'SSP1-NPi',\n",
       " 'SSP1-PkBudg1000',\n",
       " 'SSP3-NPi',\n",
       " 'SSP1-NDC',\n",
       " 'SSP3-NDC',\n",
       " 'SSP2-NDC']"
      ]
     },
     "execution_count": 27,
     "metadata": {},
     "output_type": "execute_result"
    }
   ],
   "source": [
    "scenarios"
   ]
  },
  {
   "cell_type": "code",
   "execution_count": 28,
   "id": "5ec159e3-407d-490c-923f-bde6367ec4db",
   "metadata": {},
   "outputs": [],
   "source": [
    "# let's reduce the number of scenarios for clarity in the plot\n",
    "scenarios = [\n",
    "    'SSP1-PkBudg650', # ambitious\n",
    "    'SSP2-NPi', # business-as-usual\n",
    "    'SSP3-rollBack', # right out bad!\n",
    "]"
   ]
  },
  {
   "cell_type": "code",
   "execution_count": 29,
   "id": "44843b22-5003-42ec-8dd4-2b8763edfcb6",
   "metadata": {},
   "outputs": [],
   "source": [
    "years = list(lcia.parameters[scenarios[0]][\"P_COAL\"].keys())"
   ]
  },
  {
   "cell_type": "code",
   "execution_count": 30,
   "id": "7321d317-7cd6-4237-8cef-72b3b74910a1",
   "metadata": {},
   "outputs": [
    {
     "data": {
      "text/plain": [
       "['2010',\n",
       " '2015',\n",
       " '2020',\n",
       " '2025',\n",
       " '2030',\n",
       " '2035',\n",
       " '2040',\n",
       " '2045',\n",
       " '2050',\n",
       " '2055',\n",
       " '2060',\n",
       " '2070',\n",
       " '2080',\n",
       " '2090',\n",
       " '2100',\n",
       " '2110',\n",
       " '2130',\n",
       " '2150']"
      ]
     },
     "execution_count": 30,
     "metadata": {},
     "output_type": "execute_result"
    }
   ],
   "source": [
    "years"
   ]
  },
  {
   "cell_type": "code",
   "execution_count": 31,
   "id": "82e3fcc1-65a0-4f0a-b6ec-0f631b7c5de7",
   "metadata": {},
   "outputs": [],
   "source": [
    "results = []\n",
    "for scenario in scenarios:\n",
    "    for year in years:\n",
    "        # we evalute the CFs and pass the scenario name and year\n",
    "        lcia.evaluate_cfs(scenario=scenario, scenario_idx=year)\n",
    "        lcia.lcia()\n",
    "        \n",
    "        results.append({\n",
    "            \"Scenario\": scenario,\n",
    "            \"Year\": int(year),\n",
    "            \"Impact\": lcia.score\n",
    "        })\n",
    "        \n",
    "impact_df = pd.DataFrame(results)\n",
    "impact_df = impact_df.loc[\n",
    "    (impact_df[\"Year\"]<=2100)\n",
    "    &(impact_df[\"Year\"]>=2025)\n",
    "]"
   ]
  },
  {
   "cell_type": "code",
   "execution_count": 32,
   "id": "ab5fed03-1ef8-4bd7-8dec-4367afdd2764",
   "metadata": {},
   "outputs": [
    {
     "data": {
      "text/html": [
       "<div>\n",
       "<style scoped>\n",
       "    .dataframe tbody tr th:only-of-type {\n",
       "        vertical-align: middle;\n",
       "    }\n",
       "\n",
       "    .dataframe tbody tr th {\n",
       "        vertical-align: top;\n",
       "    }\n",
       "\n",
       "    .dataframe thead th {\n",
       "        text-align: right;\n",
       "    }\n",
       "</style>\n",
       "<table border=\"1\" class=\"dataframe\">\n",
       "  <thead>\n",
       "    <tr style=\"text-align: right;\">\n",
       "      <th></th>\n",
       "      <th>Scenario</th>\n",
       "      <th>Year</th>\n",
       "      <th>Impact</th>\n",
       "    </tr>\n",
       "  </thead>\n",
       "  <tbody>\n",
       "    <tr>\n",
       "      <th>3</th>\n",
       "      <td>SSP1-PkBudg650</td>\n",
       "      <td>2025</td>\n",
       "      <td>0.006291</td>\n",
       "    </tr>\n",
       "    <tr>\n",
       "      <th>4</th>\n",
       "      <td>SSP1-PkBudg650</td>\n",
       "      <td>2030</td>\n",
       "      <td>0.005308</td>\n",
       "    </tr>\n",
       "    <tr>\n",
       "      <th>5</th>\n",
       "      <td>SSP1-PkBudg650</td>\n",
       "      <td>2035</td>\n",
       "      <td>0.002624</td>\n",
       "    </tr>\n",
       "    <tr>\n",
       "      <th>6</th>\n",
       "      <td>SSP1-PkBudg650</td>\n",
       "      <td>2040</td>\n",
       "      <td>0.001332</td>\n",
       "    </tr>\n",
       "    <tr>\n",
       "      <th>7</th>\n",
       "      <td>SSP1-PkBudg650</td>\n",
       "      <td>2045</td>\n",
       "      <td>0.000658</td>\n",
       "    </tr>\n",
       "    <tr>\n",
       "      <th>8</th>\n",
       "      <td>SSP1-PkBudg650</td>\n",
       "      <td>2050</td>\n",
       "      <td>0.000409</td>\n",
       "    </tr>\n",
       "    <tr>\n",
       "      <th>9</th>\n",
       "      <td>SSP1-PkBudg650</td>\n",
       "      <td>2055</td>\n",
       "      <td>0.000332</td>\n",
       "    </tr>\n",
       "    <tr>\n",
       "      <th>10</th>\n",
       "      <td>SSP1-PkBudg650</td>\n",
       "      <td>2060</td>\n",
       "      <td>0.000368</td>\n",
       "    </tr>\n",
       "    <tr>\n",
       "      <th>11</th>\n",
       "      <td>SSP1-PkBudg650</td>\n",
       "      <td>2070</td>\n",
       "      <td>0.000314</td>\n",
       "    </tr>\n",
       "    <tr>\n",
       "      <th>12</th>\n",
       "      <td>SSP1-PkBudg650</td>\n",
       "      <td>2080</td>\n",
       "      <td>0.000276</td>\n",
       "    </tr>\n",
       "    <tr>\n",
       "      <th>13</th>\n",
       "      <td>SSP1-PkBudg650</td>\n",
       "      <td>2090</td>\n",
       "      <td>0.000279</td>\n",
       "    </tr>\n",
       "    <tr>\n",
       "      <th>14</th>\n",
       "      <td>SSP1-PkBudg650</td>\n",
       "      <td>2100</td>\n",
       "      <td>0.000241</td>\n",
       "    </tr>\n",
       "    <tr>\n",
       "      <th>21</th>\n",
       "      <td>SSP2-NPi</td>\n",
       "      <td>2025</td>\n",
       "      <td>0.006372</td>\n",
       "    </tr>\n",
       "    <tr>\n",
       "      <th>22</th>\n",
       "      <td>SSP2-NPi</td>\n",
       "      <td>2030</td>\n",
       "      <td>0.004873</td>\n",
       "    </tr>\n",
       "    <tr>\n",
       "      <th>23</th>\n",
       "      <td>SSP2-NPi</td>\n",
       "      <td>2035</td>\n",
       "      <td>0.004322</td>\n",
       "    </tr>\n",
       "    <tr>\n",
       "      <th>24</th>\n",
       "      <td>SSP2-NPi</td>\n",
       "      <td>2040</td>\n",
       "      <td>0.004289</td>\n",
       "    </tr>\n",
       "    <tr>\n",
       "      <th>25</th>\n",
       "      <td>SSP2-NPi</td>\n",
       "      <td>2045</td>\n",
       "      <td>0.004493</td>\n",
       "    </tr>\n",
       "    <tr>\n",
       "      <th>26</th>\n",
       "      <td>SSP2-NPi</td>\n",
       "      <td>2050</td>\n",
       "      <td>0.004752</td>\n",
       "    </tr>\n",
       "    <tr>\n",
       "      <th>27</th>\n",
       "      <td>SSP2-NPi</td>\n",
       "      <td>2055</td>\n",
       "      <td>0.004962</td>\n",
       "    </tr>\n",
       "    <tr>\n",
       "      <th>28</th>\n",
       "      <td>SSP2-NPi</td>\n",
       "      <td>2060</td>\n",
       "      <td>0.007496</td>\n",
       "    </tr>\n",
       "    <tr>\n",
       "      <th>29</th>\n",
       "      <td>SSP2-NPi</td>\n",
       "      <td>2070</td>\n",
       "      <td>0.010127</td>\n",
       "    </tr>\n",
       "    <tr>\n",
       "      <th>30</th>\n",
       "      <td>SSP2-NPi</td>\n",
       "      <td>2080</td>\n",
       "      <td>0.009461</td>\n",
       "    </tr>\n",
       "    <tr>\n",
       "      <th>31</th>\n",
       "      <td>SSP2-NPi</td>\n",
       "      <td>2090</td>\n",
       "      <td>0.009139</td>\n",
       "    </tr>\n",
       "    <tr>\n",
       "      <th>32</th>\n",
       "      <td>SSP2-NPi</td>\n",
       "      <td>2100</td>\n",
       "      <td>0.008990</td>\n",
       "    </tr>\n",
       "    <tr>\n",
       "      <th>39</th>\n",
       "      <td>SSP3-rollBack</td>\n",
       "      <td>2025</td>\n",
       "      <td>0.006291</td>\n",
       "    </tr>\n",
       "    <tr>\n",
       "      <th>40</th>\n",
       "      <td>SSP3-rollBack</td>\n",
       "      <td>2030</td>\n",
       "      <td>0.003815</td>\n",
       "    </tr>\n",
       "    <tr>\n",
       "      <th>41</th>\n",
       "      <td>SSP3-rollBack</td>\n",
       "      <td>2035</td>\n",
       "      <td>0.004333</td>\n",
       "    </tr>\n",
       "    <tr>\n",
       "      <th>42</th>\n",
       "      <td>SSP3-rollBack</td>\n",
       "      <td>2040</td>\n",
       "      <td>0.005103</td>\n",
       "    </tr>\n",
       "    <tr>\n",
       "      <th>43</th>\n",
       "      <td>SSP3-rollBack</td>\n",
       "      <td>2045</td>\n",
       "      <td>0.005836</td>\n",
       "    </tr>\n",
       "    <tr>\n",
       "      <th>44</th>\n",
       "      <td>SSP3-rollBack</td>\n",
       "      <td>2050</td>\n",
       "      <td>0.006523</td>\n",
       "    </tr>\n",
       "    <tr>\n",
       "      <th>45</th>\n",
       "      <td>SSP3-rollBack</td>\n",
       "      <td>2055</td>\n",
       "      <td>0.007043</td>\n",
       "    </tr>\n",
       "    <tr>\n",
       "      <th>46</th>\n",
       "      <td>SSP3-rollBack</td>\n",
       "      <td>2060</td>\n",
       "      <td>0.011072</td>\n",
       "    </tr>\n",
       "    <tr>\n",
       "      <th>47</th>\n",
       "      <td>SSP3-rollBack</td>\n",
       "      <td>2070</td>\n",
       "      <td>0.014698</td>\n",
       "    </tr>\n",
       "    <tr>\n",
       "      <th>48</th>\n",
       "      <td>SSP3-rollBack</td>\n",
       "      <td>2080</td>\n",
       "      <td>0.013419</td>\n",
       "    </tr>\n",
       "    <tr>\n",
       "      <th>49</th>\n",
       "      <td>SSP3-rollBack</td>\n",
       "      <td>2090</td>\n",
       "      <td>0.012597</td>\n",
       "    </tr>\n",
       "    <tr>\n",
       "      <th>50</th>\n",
       "      <td>SSP3-rollBack</td>\n",
       "      <td>2100</td>\n",
       "      <td>0.011824</td>\n",
       "    </tr>\n",
       "  </tbody>\n",
       "</table>\n",
       "</div>"
      ],
      "text/plain": [
       "          Scenario  Year    Impact\n",
       "3   SSP1-PkBudg650  2025  0.006291\n",
       "4   SSP1-PkBudg650  2030  0.005308\n",
       "5   SSP1-PkBudg650  2035  0.002624\n",
       "6   SSP1-PkBudg650  2040  0.001332\n",
       "7   SSP1-PkBudg650  2045  0.000658\n",
       "8   SSP1-PkBudg650  2050  0.000409\n",
       "9   SSP1-PkBudg650  2055  0.000332\n",
       "10  SSP1-PkBudg650  2060  0.000368\n",
       "11  SSP1-PkBudg650  2070  0.000314\n",
       "12  SSP1-PkBudg650  2080  0.000276\n",
       "13  SSP1-PkBudg650  2090  0.000279\n",
       "14  SSP1-PkBudg650  2100  0.000241\n",
       "21        SSP2-NPi  2025  0.006372\n",
       "22        SSP2-NPi  2030  0.004873\n",
       "23        SSP2-NPi  2035  0.004322\n",
       "24        SSP2-NPi  2040  0.004289\n",
       "25        SSP2-NPi  2045  0.004493\n",
       "26        SSP2-NPi  2050  0.004752\n",
       "27        SSP2-NPi  2055  0.004962\n",
       "28        SSP2-NPi  2060  0.007496\n",
       "29        SSP2-NPi  2070  0.010127\n",
       "30        SSP2-NPi  2080  0.009461\n",
       "31        SSP2-NPi  2090  0.009139\n",
       "32        SSP2-NPi  2100  0.008990\n",
       "39   SSP3-rollBack  2025  0.006291\n",
       "40   SSP3-rollBack  2030  0.003815\n",
       "41   SSP3-rollBack  2035  0.004333\n",
       "42   SSP3-rollBack  2040  0.005103\n",
       "43   SSP3-rollBack  2045  0.005836\n",
       "44   SSP3-rollBack  2050  0.006523\n",
       "45   SSP3-rollBack  2055  0.007043\n",
       "46   SSP3-rollBack  2060  0.011072\n",
       "47   SSP3-rollBack  2070  0.014698\n",
       "48   SSP3-rollBack  2080  0.013419\n",
       "49   SSP3-rollBack  2090  0.012597\n",
       "50   SSP3-rollBack  2100  0.011824"
      ]
     },
     "execution_count": 32,
     "metadata": {},
     "output_type": "execute_result"
    }
   ],
   "source": [
    "impact_df"
   ]
  },
  {
   "cell_type": "markdown",
   "id": "17b5171e-5be5-4d8e-9d3b-fe1b6017aee4",
   "metadata": {},
   "source": [
    "<a id=\"sec_plot_results\"></a>\n",
    "# 6. Plot results"
   ]
  },
  {
   "cell_type": "code",
   "execution_count": 33,
   "id": "dd7ed7f2-0667-4e3f-b4a4-cf77d55ec00d",
   "metadata": {},
   "outputs": [],
   "source": [
    "import matplotlib.pyplot as plt\n",
    "from matplotlib.patches import Patch"
   ]
  },
  {
   "cell_type": "code",
   "execution_count": 34,
   "id": "2e118dda-48dc-4813-b229-1caa50c0a61e",
   "metadata": {},
   "outputs": [],
   "source": [
    "def get_ssp(scenario):\n",
    "    return scenario.split(\"-\")[0]\n",
    "\n",
    "def get_style(scenario):\n",
    "    for suffix, style in style_by_suffix.items():\n",
    "        if scenario.endswith(suffix):\n",
    "            return style\n",
    "    return '-'  # default\n",
    "\n",
    "style_by_suffix = {\n",
    "    \"NDC\": \"-\",\n",
    "    \"NPi\": \"--\",\n",
    "    \"rollBack\": \"-.\",\n",
    "    \"PkBudg1000\": \":\",\n",
    "    \"PkBudg650\": (0, (1, 1))  # dotted\n",
    "}"
   ]
  },
  {
   "cell_type": "code",
   "execution_count": 35,
   "id": "d93ab80d-6f52-4291-aecb-352a3358c360",
   "metadata": {},
   "outputs": [
    {
     "name": "stderr",
     "output_type": "stream",
     "text": [
      "/var/folders/cn/pys1j9rn0y7djkhv3hfdtrs00000gn/T/ipykernel_41743/865686922.py:179: UserWarning: This figure includes Axes that are not compatible with tight_layout, so results might be incorrect.\n",
      "  plt.tight_layout()\n"
     ]
    },
    {
     "data": {
      "image/png": "[encoded data removed]",
      "text/plain": [
       "<Figure size 400x900 with 3 Axes>"
      ]
     },
     "metadata": {},
     "output_type": "display_data"
    }
   ],
   "source": [
    "# Load the LCIA JSON file\n",
    "with open(\"../../edges/data/SCP_1.0.json\", \"r\") as f:\n",
    "    lcia_data = json.load(f)\n",
    "\n",
    "# Convert the JSON data into a flat DataFrame\n",
    "records = []\n",
    "for scenario, values in lcia_data[\"scenarios\"].items():\n",
    "    if scenario in scenarios:\n",
    "        for fuel in [\"COAL\", \"GAS\", \"OIL\"]:\n",
    "            P = values.get(f\"P_{fuel}\", {})\n",
    "            MCI = values.get(f\"MCI_{fuel}\", {})\n",
    "            for year in sorted(set(P).intersection(MCI)):\n",
    "                d_val = values[\"d\"].get(year, 0)\n",
    "                records.append({\n",
    "                    \"Scenario\": scenario,\n",
    "                    \"Year\": int(year),\n",
    "                    \"Fuel\": fuel.capitalize(),\n",
    "                    \"P\": P[year],  # EJ/year\n",
    "                    \"MCI\": MCI[year],  # USD/GJ²\n",
    "                    \"d\": d_val  # discount rate\n",
    "                })\n",
    "\n",
    "df = pd.DataFrame(records)\n",
    "\n",
    "# Calculate CF in USD/GJ\n",
    "df[\"CF [USD/GJ]\"] = (df[\"MCI\"] * df[\"P\"]) / (5 * (1 + df[\"d\"]))\n",
    "\n",
    "# Convert CF from USD/GJ to USD/kg or m³\n",
    "energy_content = {\"Coal\": 24, \"Oil\": 42, \"Gas\": 35}  # MJ/kg or MJ/m³\n",
    "df[\"CF [USD/kg or m3]\"] = df.apply(\n",
    "    lambda row: row[\"CF [USD/GJ]\"] / (energy_content[row[\"Fuel\"]] / 1000), axis=1\n",
    ")\n",
    "\n",
    "\n",
    "from matplotlib.lines import Line2D\n",
    "\n",
    "# Unique scenario styles from your data\n",
    "unique_scenarios = sorted(df[\"Scenario\"].unique(), key=lambda x: (get_ssp(x), x))\n",
    "\n",
    "# Create custom handles for scenario line styles\n",
    "scenario_handles = []\n",
    "for scen in unique_scenarios:\n",
    "    style = get_style(scen)\n",
    "    color = \"gray\"  # Neutral color to indicate line style only\n",
    "    scenario_handles.append(\n",
    "        Line2D([0], [0], color=color, linestyle=style, label=scen, linewidth=2)\n",
    "    )\n",
    "\n",
    "# Plotting\n",
    "fig, axs = plt.subplots(3, 1, figsize=(4, 9), sharex=False, gridspec_kw={\"hspace\": 0.4})\n",
    "fuel_colors = {\"Coal\": \"black\", \"Gas\": \"blue\", \"Oil\": \"orange\"}\n",
    "\n",
    "# Top plot: MCI and P (log scale)\n",
    "# Top plot: MCI and P (log scale)\n",
    "for fuel in [\"Coal\", \"Gas\", \"Oil\"]:\n",
    "    sub_df = df[df[\"Fuel\"] == fuel]\n",
    "    for scenario in sub_df[\"Scenario\"].unique():\n",
    "        scenario_df = sub_df[\n",
    "            (sub_df[\"Scenario\"] == scenario)\n",
    "            & (sub_df[\"Year\"] <= 2100)\n",
    "            & (sub_df[\"Year\"] >= 2025)\n",
    "        ]\n",
    "        linestyle = get_style(scenario)  # <-- Add this line\n",
    "        axs[0].plot(\n",
    "            scenario_df[\"Year\"],\n",
    "            scenario_df[\"P\"],\n",
    "            color=fuel_colors[fuel],\n",
    "            linestyle=linestyle,  # <-- Apply line style\n",
    "            alpha=0.6,\n",
    "            linewidth=2,\n",
    "        )\n",
    "\n",
    "axs[0].set_ylabel(\"Extraction (EJ/yr)\")\n",
    "axs[0].set_title(\"a) Annual production (P)\")\n",
    "axs[0].grid(True, linestyle=\"--\", alpha=0.5)\n",
    "#axs[0].set_yscale('log')\n",
    "axs[0].set_xticks([2025, 2040, 2060, 2080, 2100])\n",
    "\n",
    "\n",
    "# After plotting all lines in axs[0], add:\n",
    "legend_handles = [\n",
    "    Patch(color=\"black\", label=\"Coal\"),\n",
    "    Patch(color=\"blue\", label=\"Gas\"),\n",
    "    Patch(color=\"orange\", label=\"Oil\")\n",
    "]\n",
    "fuel_legend = axs[0].legend(handles=legend_handles, title=\"Fuel\", loc=\"upper left\", fontsize=6.5)\n",
    "\n",
    "axs[0].add_artist(fuel_legend)  # Add fuel legend first\n",
    "\n",
    "axs[0].legend(\n",
    "    handles=scenario_handles,\n",
    "    title=\"Scenario\",\n",
    "    loc=\"lower right\",\n",
    "    fontsize=5.5,\n",
    "    frameon=True\n",
    ")\n",
    "\n",
    "# Middle plot: CFs (USD/unit)\n",
    "# Middle plot: CFs (USD/unit)\n",
    "for fuel in [\"Coal\", \"Gas\", \"Oil\"]:\n",
    "    sub_df = df[df[\"Fuel\"] == fuel]\n",
    "    for scenario in sub_df[\"Scenario\"].unique():\n",
    "        scenario_df = sub_df[\n",
    "            (sub_df[\"Scenario\"] == scenario)\n",
    "            & (sub_df[\"Year\"] <= 2100)\n",
    "            & (sub_df[\"Year\"] >= 2025)\n",
    "        ]\n",
    "        linestyle = get_style(scenario)  # <-- Add this line\n",
    "        axs[1].plot(\n",
    "            scenario_df[\"Year\"],\n",
    "            scenario_df[\"CF [USD/kg or m3]\"],\n",
    "            color=fuel_colors[fuel],\n",
    "            linestyle=linestyle,  # <-- Apply line style\n",
    "            alpha=0.6,\n",
    "            linewidth=2,\n",
    "        )\n",
    "\n",
    "axs[1].set_ylabel(\"USD/kg or $m^3$\")\n",
    "axs[1].set_title(\"b) Characterization factor per fuel\")\n",
    "axs[1].grid(True, linestyle=\"--\", alpha=0.5)\n",
    "axs[1].set_xticks([2025, 2040, 2060, 2080, 2100])\n",
    "\n",
    "fuel_legend = axs[1].legend(handles=legend_handles, title=\"Fuel\", loc=\"upper left\", fontsize=6.5)\n",
    "\n",
    "axs[1].add_artist(fuel_legend)\n",
    "\n",
    "axs[1].legend(\n",
    "    handles=scenario_handles,\n",
    "    title=\"Scenario\",\n",
    "    loc=\"lower right\",\n",
    "    fontsize=5.5,\n",
    "    frameon=True\n",
    ")\n",
    "\n",
    "# Bottom plot: Actual LCA results\n",
    "# Assign colors to SSP groups\n",
    "ssp_colors = {\n",
    "    \"SSP1\": \"green\",\n",
    "    \"SSP2\": \"orange\",\n",
    "    \"SSP3\": \"red\"\n",
    "}\n",
    "\n",
    "# Bottom plot: LCA results with SSP-colored lines and distinct line styles\n",
    "\n",
    "handles_dict = {}\n",
    "for scenario in sorted(impact_df[\"Scenario\"].unique(), key=lambda x: (get_ssp(x), x)):\n",
    "    scenario_data = impact_df[impact_df[\"Scenario\"] == scenario]\n",
    "    color = ssp_colors.get(get_ssp(scenario), \"gray\")\n",
    "    style = get_style(scenario)\n",
    "\n",
    "    line, = axs[2].plot(\n",
    "        scenario_data[\"Year\"],\n",
    "        scenario_data[\"Impact\"],\n",
    "        label=scenario,\n",
    "        color=color,\n",
    "        linestyle=style,\n",
    "        linewidth=2,\n",
    "    )\n",
    "    handles_dict[scenario] = line\n",
    "axs[2].set_title(\"c) LCIA Score per scenario\")\n",
    "axs[2].set_ylabel(\"USD/kg $H_2$\")\n",
    "axs[2].grid(True, linestyle=\"--\", alpha=0.5)\n",
    "axs[2].set_xticks([2025, 2040, 2060, 2080, 2100])\n",
    "\n",
    "ordered_scenarios = sorted(handles_dict.keys(), key=lambda x: (get_ssp(x), x))\n",
    "ordered_handles = [handles_dict[scen] for scen in ordered_scenarios]\n",
    "\n",
    "axs[2].legend(\n",
    "    ordered_handles,\n",
    "    ordered_scenarios,\n",
    "    #title=\"Scenario\",\n",
    "    loc=\"lower center\",\n",
    "    bbox_to_anchor=(0.5, 0.9),\n",
    "    fontsize=5,\n",
    "    ncol=3,\n",
    "    frameon=True\n",
    ")\n",
    "\n",
    "plt.tight_layout()\n",
    "plt.savefig(\"figure_4.png\", bbox_inches=\"tight\", dpi=200)\n",
    "plt.show()"
   ]
  }
 ],
 "metadata": {
  "kernelspec": {
   "display_name": "Python 3 (ipykernel)",
   "language": "python",
   "name": "python3"
  },
  "language_info": {
   "codemirror_mode": {
    "name": "ipython",
    "version": 3
   },
   "file_extension": ".py",
   "mimetype": "text/x-python",
   "name": "python",
   "nbconvert_exporter": "python",
   "pygments_lexer": "ipython3",
   "version": "3.11.13"
  }
 },
 "nbformat": 4,
 "nbformat_minor": 5
}

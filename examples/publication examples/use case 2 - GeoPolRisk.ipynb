{
 "cells": [
  {
   "cell_type": "markdown",
   "id": "af32cc06-163f-4e0e-a7b3-3243b034d522",
   "metadata": {},
   "source": [
    "# **Example GeoPolRisk | Use case 2**"
   ]
  },
  {
   "cell_type": "markdown",
   "id": "1b081493-6cbb-4a50-936d-8a8a499ca98a",
   "metadata": {},
   "source": [
    "**Authors:**  \n",
    "[Romain Sacchi](mailto:romain.sacchi@psi.ch)  \n",
    "[Alvaro Hahn Menacho](mailto:alvaro.hahn-menacho@psi.ch)\n"
   ]
  },
  {
   "cell_type": "markdown",
   "id": "5c6d88b5-0415-4ae2-9803-c66cd723f825",
   "metadata": {},
   "source": [
    "This notebook presents an example to obtain an exchange-based LCA score using the [GeoPolRisk 1.0](https://doi.org/10.1016/j.resconrec.2024.107801) method.  \n",
    "This example is part of the following publication:\n",
    "\n",
    "**Sacchi, R., Menacho, A. H., Seitfudem, G., Agez, M., Schlesinger, J., Koyamparambath, A., Saldivar, J. S., Loubet, P., & Bauer, C.** (2025). *Contextual LCIA Without the Overhead: An Exchange-based Framework for Flexible Impact Assessment.*  \n",
    "International Journal of Life Cycle Assessment.\n"
   ]
  },
  {
   "cell_type": "markdown",
   "id": "31bad200-a5a7-42bf-833b-37177a44a28c",
   "metadata": {},
   "source": [
    "## Structure"
   ]
  },
  {
   "cell_type": "markdown",
   "id": "0bd7f74b-6c7a-4f49-890f-a1cef837dc86",
   "metadata": {},
   "source": [
    "1. [Import *edges* and set *bw2 project*](#sec_import_edges)\n",
    "2. [Import hydrogen production, PEM, LCI](#sec_import_h2)\n",
    "3. [Select *Functional Unit* and *method*](#sec_select_fu)\n",
    "4. [Run edges based LCA](#sec_run_edges_lca)\n",
    "5. [Export results](#sec_export_results)\n",
    "6. [Plot results](#sec_plot_results)"
   ]
  },
  {
   "cell_type": "markdown",
   "id": "aeaaa42c-8545-455f-8de9-569a789ca9db",
   "metadata": {},
   "source": [
    "<a id=\"sec_import_edges\"></a>\n",
    "# 1. Import edges and set bw2 project"
   ]
  },
  {
   "cell_type": "code",
   "execution_count": 1,
   "id": "e5d5d48e-c53d-447b-8fb1-0b1b7f1285fa",
   "metadata": {},
   "outputs": [
    {
     "name": "stderr",
     "output_type": "stream",
     "text": [
      "/opt/homebrew/Caskroom/miniforge/base/envs/bw25/lib/python3.11/site-packages/scikits/__init__.py:1: UserWarning: pkg_resources is deprecated as an API. See https://setuptools.pypa.io/en/latest/pkg_resources.html. The pkg_resources package is slated for removal as early as 2025-11-30. Refrain from using this package or pin to Setuptools<81.\n",
      "  __import__('pkg_resources').declare_namespace(__name__)\n"
     ]
    },
    {
     "name": "stdout",
     "output_type": "stream",
     "text": [
      "\u001B[2m13:06:37+0200\u001B[0m [\u001B[33m\u001B[1mwarning  \u001B[0m] \u001B[1mCan't import `SimaProBlockCSVImporter` - please install `bw2io` with `pip install bw2io[multifunctional]` or install `multifunctional` and `bw_simapro_csv` manually.\u001B[0m\n"
     ]
    }
   ],
   "source": [
    "from edges import EdgeLCIA, get_available_methods, setup_package_logging\n",
    "import logging\n",
    "import bw2data, bw2io\n",
    "\n",
    "# we want the logger to log things into edges.log\n",
    "setup_package_logging(level=logging.INFO)\n",
    "# if you want full debug:\n",
    "#setup_package_logging(level=logging.DEBUG)"
   ]
  },
  {
   "cell_type": "markdown",
   "id": "08c6aa15-a95b-42dd-98dc-1f45c6161530",
   "metadata": {},
   "source": [
    "For our example, we activate a ``brighway`` project that contains ecoinvent 3.10 cut-off."
   ]
  },
  {
   "cell_type": "code",
   "execution_count": 2,
   "id": "76269d3a-be1c-4d19-9849-e463bd9db212",
   "metadata": {},
   "outputs": [],
   "source": [
    "bw2data.projects.set_current(\"bw25_ei310\")"
   ]
  },
  {
   "cell_type": "markdown",
   "id": "163a31ac-4cde-4f79-b742-93018a689c27",
   "metadata": {},
   "source": [
    "<a id=\"sec_import_h2\"></a>\n",
    "# 2. Import hydrogen production, PEM, LCI\n",
    "\n",
    "To illustrate our water footprint case, we need to import some inventories representing the production of hydrogen using a PEM electrolyzer, powered with offshore wind power in France. The inventories are provided in this repository (``lci-hydrogen-electrolysis-ei310.xlsx``)."
   ]
  },
  {
   "cell_type": "code",
   "execution_count": 4,
   "id": "e35e40c7-4d87-4af9-bd56-eadea9cb4045",
   "metadata": {},
   "outputs": [
    {
     "name": "stdout",
     "output_type": "stream",
     "text": [
      "Extracted 1 worksheets in 0.05 seconds\n",
      "Applying strategy: csv_restore_tuples\n",
      "Applying strategy: csv_restore_booleans\n",
      "Applying strategy: csv_numerize\n",
      "Applying strategy: csv_drop_unknown\n",
      "Applying strategy: csv_add_missing_exchanges_section\n",
      "Applying strategy: normalize_units\n",
      "Applying strategy: normalize_biosphere_categories\n",
      "Applying strategy: normalize_biosphere_names\n",
      "Applying strategy: strip_biosphere_exc_locations\n",
      "Applying strategy: set_code_by_activity_hash\n",
      "Applying strategy: link_iterable_by_fields\n",
      "Applying strategy: assign_only_product_as_production\n",
      "Applying strategy: link_technosphere_by_activity_hash\n",
      "Applying strategy: drop_falsey_uncertainty_fields_but_keep_zeros\n",
      "Applying strategy: convert_uncertainty_types_to_integers\n",
      "Applying strategy: convert_activity_parameters_to_list\n",
      "Applied 16 strategies in 0.12 seconds\n",
      "Applying strategy: link_iterable_by_fields\n",
      "Applying strategy: link_iterable_by_fields\n",
      "Applying strategy: link_iterable_by_fields\n",
      "Graph statistics for `h2_pem` importer:\n",
      "11 graph nodes:\n",
      "\tNone: 11\n",
      "214 graph edges:\n",
      "\ttechnosphere: 124\n",
      "\tbiosphere: 79\n",
      "\tproduction: 11\n",
      "214 edges to the following databases:\n",
      "\tecoinvent-3.10-cutoff: 98\n",
      "\tbiosphere: 79\n",
      "\th2_pem: 37\n",
      "0 unique unlinked edges (0 total):\n",
      "\n",
      "\n",
      "Applying strategy: drop_unlinked\n",
      "Applied 1 strategies in 0.00 seconds\n",
      "\u001B[2m11:03:10+0200\u001B[0m [\u001B[33m\u001B[1mwarning  \u001B[0m] \u001B[1mNot able to determine geocollections for all datasets. This database is not ready for regionalization.\u001B[0m\n"
     ]
    },
    {
     "name": "stderr",
     "output_type": "stream",
     "text": [
      "100%|██████████████████████████████████████████| 11/11 [00:00<00:00, 497.49it/s]"
     ]
    },
    {
     "name": "stdout",
     "output_type": "stream",
     "text": [
      "\u001B[2m11:03:10+0200\u001B[0m [\u001B[32m\u001B[1minfo     \u001B[0m] \u001B[1mVacuuming database            \u001B[0m\n"
     ]
    },
    {
     "name": "stderr",
     "output_type": "stream",
     "text": [
      "\n"
     ]
    },
    {
     "name": "stdout",
     "output_type": "stream",
     "text": [
      "Created database: h2_pem\n"
     ]
    }
   ],
   "source": [
    "if \"h2_pem\" in bw2data.databases:\n",
    "    del bw2data.databases[\"h2_pem\"]\n",
    "lci = bw2io.ExcelImporter(\"lci-hydrogen-electrolysis-ei310.xlsx\")\n",
    "lci.apply_strategies()\n",
    "lci.match_database(fields=[\"name\", \"reference product\", \"location\"])\n",
    "lci.match_database(\"ecoinvent-3.10-cutoff\",fields=[\"name\", \"reference product\", \"location\"])\n",
    "lci.match_database(\"biosphere\",fields=[\"name\", \"categories\"])\n",
    "lci.statistics()\n",
    "lci.drop_unlinked(i_am_reckless=True)\n",
    "if len(list(lci.unlinked)) == 0:\n",
    "    lci.write_database()\n",
    "\n",
    "# we assign manually classifications to activities\n",
    "# since it is unclear how to do that in the Excel inventory file.\n",
    "\n",
    "classifications = {\n",
    "    \"hydrogen production, gaseous, 30 bar, from PEM electrolysis, from grid electricity\": (\"CPC\", \"34210\"),\n",
    "    \"hydrogen production, gaseous, 30 bar, from PEM electrolysis, from solar photovoltaic electricity\": (\"CPC\", \"34210\"),\n",
    "    \"hydrogen production, gaseous, 30 bar, from PEM electrolysis, from onshore wind electricity\": (\"CPC\", \"34210\"),\n",
    "    \"hydrogen production, gaseous, 30 bar, from PEM electrolysis, from offshore wind electricity\": (\"CPC\", \"34210\"),\n",
    "    \"hydrogen production, gaseous, 30 bar, from PEM electrolysis, from geothermal electricity\": (\"CPC\", \"34210\"),\n",
    "    \"electrolyzer production, 1MWe, PEM, Stack\": (\"CPC\", \"4220:Construction of utility projects\"),\n",
    "    \"treatment of electrolyzer stack, 1MWe, PEM\": (\"CPC\", \"3830\"),\n",
    "    \"electrolyzer production, 1MWe, PEM, Balance of Plant\": (\"CPC\", \"4220:Construction of utility projects\"),\n",
    "    \"treatment of electrolyzer balance of plant, 1MWe, PEM\": (\"CPC\", \"3830\"),\n",
    "    \"platinum group metal, extraction and refinery operations\": (\"CPC\", \"2420\"),\n",
    "    \"deionized water production, via reverse osmosis, from brackish water\": (\"CPC\", \"34210\")\n",
    "}\n",
    "for ds in bw2data.Database(\"h2_pem\"):\n",
    "    if ds[\"name\"] in classifications:\n",
    "        ds[\"classifications\"] = [classifications[ds[\"name\"]]]\n",
    "        ds.save()\n",
    "    "
   ]
  },
  {
   "cell_type": "markdown",
   "id": "7aa87f54-3996-4462-8f68-612769c15c18",
   "metadata": {},
   "source": [
    "<a id=\"sec_select_fu\"></a>\n",
    "# 3. Select Functional Unit and method"
   ]
  },
  {
   "cell_type": "markdown",
   "id": "1f6529b3-163a-4dd5-a609-19d650049fec",
   "metadata": {},
   "source": [
    "### 3.1. Select FU\n",
    "We select the activity to run the LCA for. In our case, it is the production of 1 kg of hydrogen, using a PEM electrolyzer, powered with offshore wind power, in France."
   ]
  },
  {
   "cell_type": "code",
   "execution_count": 3,
   "id": "b210a5cc-45db-46dd-be6e-8d558814bf89",
   "metadata": {
    "scrolled": true
   },
   "outputs": [
    {
     "data": {
      "text/plain": [
       "'hydrogen production, gaseous, 30 bar, from PEM electrolysis, from offshore wind electricity' (kilogram, FR, None)"
      ]
     },
     "execution_count": 3,
     "metadata": {},
     "output_type": "execute_result"
    }
   ],
   "source": [
    "act = [a for a in bw2data.Database(\"h2_pem\") if a[\"name\"] == \"hydrogen production, gaseous, 30 bar, from PEM electrolysis, from offshore wind electricity\"][0]\n",
    "act"
   ]
  },
  {
   "cell_type": "markdown",
   "id": "d91e6598-09cf-446a-9e1f-7a4078a4a058",
   "metadata": {},
   "source": [
    "### 3.2. Select method\n",
    "\n",
    "``edges`` comes with a numbers of LCIA methods. You can list them using the `get_available_methods()` function.\n",
    "We currently have four flavors of `GeoPolRisk 1.0`:\n",
    "\n",
    "* 'GeoPolRisk', 'elementary flows', '2024': this is a non-regionlaized method that characterizes elementary flows representing resource extraction. This follows the implementation proposed in [Koyamparambath et al., 2024](https://doi.org/10.1016/j.resconrec.2024.107801).\n",
    "* 'GeoPolRisk', 'paired', '2024': this is a regionalized implementation developed in [Sacchi et al., 2025]() which targets intermediate product exchanges between specific locations instead.\n",
    "\n",
    "\n",
    "For more information about its implementation and use, refer to [the page about](https://edges.readthedocs.io/en/latest/methods.html#geopolrisk-1-0) `GeoPolRisk` in the ``edges`` documentation, and for more information about the AWARE method itself, refer to:\n",
    "\n",
    "**Anish Koyamparambath, Philippe Loubet, Steven B. Young, Guido Sonnemann**,  \n",
    "*Spatially and temporally differentiated characterization factors for supply risk of abiotic resources in life cycle assessment*,  \n",
    "Resources, Conservation and Recycling, 2024.  \n",
    "https://doi.org/10.1016/j.resconrec.2024.107801\n",
    "\n"
   ]
  },
  {
   "cell_type": "code",
   "execution_count": 4,
   "id": "dd732995-6ab8-4dcb-9293-285dc9f8a523",
   "metadata": {
    "scrolled": true
   },
   "outputs": [
    {
     "data": {
      "text/plain": [
       "[('AWARE 2.0', 'Country', 'all', 'yearly'),\n",
       " ('AWARE 2.0', 'Country', 'irri', 'yearly'),\n",
       " ('AWARE 2.0', 'Country', 'non', 'irri', 'yearly'),\n",
       " ('AWARE 2.0', 'Country', 'unspecified', 'yearly'),\n",
       " ('GeoPolRisk', 'elementary flows', '2024'),\n",
       " ('GeoPolRisk', 'paired', '2024'),\n",
       " ('ImpactWorld+ 2.1', 'Freshwater acidification', 'damage'),\n",
       " ('ImpactWorld+ 2.1', 'Freshwater acidification', 'midpoint'),\n",
       " ('ImpactWorld+ 2.1', 'Freshwater ecotoxicity', 'damage'),\n",
       " ('ImpactWorld+ 2.1', 'Freshwater ecotoxicity', 'midpoint'),\n",
       " ('ImpactWorld+ 2.1', 'Freshwater ecotoxicity, long term', 'damage'),\n",
       " ('ImpactWorld+ 2.1', 'Freshwater ecotoxicity, long term', 'midpoint'),\n",
       " ('ImpactWorld+ 2.1', 'Freshwater ecotoxicity, short term', 'damage'),\n",
       " ('ImpactWorld+ 2.1', 'Freshwater ecotoxicity, short term', 'midpoint'),\n",
       " ('ImpactWorld+ 2.1', 'Freshwater eutrophication', 'damage'),\n",
       " ('ImpactWorld+ 2.1', 'Freshwater eutrophication', 'midpoint'),\n",
       " ('ImpactWorld+ 2.1', 'Land occupation, biodiversity', 'damage'),\n",
       " ('ImpactWorld+ 2.1', 'Land occupation, biodiversity', 'midpoint'),\n",
       " ('ImpactWorld+ 2.1', 'Land transformation, biodiversity', 'damage'),\n",
       " ('ImpactWorld+ 2.1', 'Land transformation, biodiversity', 'midpoint'),\n",
       " ('ImpactWorld+ 2.1', 'Marine ecotoxicity, long term', 'damage'),\n",
       " ('ImpactWorld+ 2.1', 'Marine ecotoxicity, long term', 'midpoint'),\n",
       " ('ImpactWorld+ 2.1', 'Marine ecotoxicity, short term', 'damage'),\n",
       " ('ImpactWorld+ 2.1', 'Marine ecotoxicity, short term', 'midpoint'),\n",
       " ('ImpactWorld+ 2.1', 'Marine eutrophication', 'damage'),\n",
       " ('ImpactWorld+ 2.1', 'Marine eutrophication', 'midpoint'),\n",
       " ('ImpactWorld+ 2.1', 'Particulate matter formation', 'damage'),\n",
       " ('ImpactWorld+ 2.1', 'Particulate matter formation', 'midpoint'),\n",
       " ('ImpactWorld+ 2.1', 'Photochemical ozone formation', 'damage'),\n",
       " ('ImpactWorld+ 2.1', 'Photochemical ozone formation', 'midpoint'),\n",
       " ('ImpactWorld+ 2.1',\n",
       "  'Photochemical ozone formation, ecosystem quality',\n",
       "  'damage'),\n",
       " ('ImpactWorld+ 2.1',\n",
       "  'Photochemical ozone formation, ecosystem quality',\n",
       "  'midpoint'),\n",
       " ('ImpactWorld+ 2.1', 'Photochemical ozone formation, human health', 'damage'),\n",
       " ('ImpactWorld+ 2.1',\n",
       "  'Photochemical ozone formation, human health',\n",
       "  'midpoint'),\n",
       " ('ImpactWorld+ 2.1', 'Terrestrial acidification', 'damage'),\n",
       " ('ImpactWorld+ 2.1', 'Terrestrial acidification', 'midpoint'),\n",
       " ('ImpactWorld+ 2.1', 'Terrestrial ecotoxicity, long term', 'damage'),\n",
       " ('ImpactWorld+ 2.1', 'Terrestrial ecotoxicity, long term', 'midpoint'),\n",
       " ('ImpactWorld+ 2.1', 'Terrestrial ecotoxicity, short term', 'damage'),\n",
       " ('ImpactWorld+ 2.1', 'Terrestrial ecotoxicity, short term', 'midpoint'),\n",
       " ('ImpactWorld+ 2.1', 'Thermally polluted water', 'damage'),\n",
       " ('ImpactWorld+ 2.1', 'Thermally polluted water', 'midpoint'),\n",
       " ('ImpactWorld+ 2.1', 'Water availability, freshwater ecosystem', 'damage'),\n",
       " ('ImpactWorld+ 2.1', 'Water availability, freshwater ecosystem', 'midpoint'),\n",
       " ('ImpactWorld+ 2.1', 'Water availability, human health', 'damage'),\n",
       " ('ImpactWorld+ 2.1', 'Water availability, human health', 'midpoint'),\n",
       " ('ImpactWorld+ 2.1', 'Water availability, terrestrial ecosystem', 'damage'),\n",
       " ('ImpactWorld+ 2.1', 'Water availability, terrestrial ecosystem', 'midpoint'),\n",
       " ('ImpactWorld+ 2.1', 'Water scarcity', 'damage'),\n",
       " ('ImpactWorld+ 2.1', 'Water scarcity', 'midpoint'),\n",
       " ('LCC 1.0', '2023'),\n",
       " ('RELICS', 'copper'),\n",
       " ('SCP', '1.0')]"
      ]
     },
     "execution_count": 4,
     "metadata": {},
     "output_type": "execute_result"
    }
   ],
   "source": [
    "get_available_methods()"
   ]
  },
  {
   "cell_type": "code",
   "execution_count": 5,
   "id": "235445ce-6ddb-4b61-9edd-13db08a5b42e",
   "metadata": {},
   "outputs": [],
   "source": [
    "method = ('GeoPolRisk', 'paired', '2024')\n",
    "method_alt = ('GeoPolRisk', 'elementary flows', '2024')"
   ]
  },
  {
   "cell_type": "markdown",
   "id": "603651a2-e085-44df-8e76-8151704a6b4c",
   "metadata": {},
   "source": [
    "<a id=\"sec_run_edges_lca\"></a>\n",
    "# 4. Run edges-based LCA"
   ]
  },
  {
   "cell_type": "code",
   "execution_count": 6,
   "id": "075076c8-f4f7-4db5-84f7-0cec83351d17",
   "metadata": {
    "scrolled": true
   },
   "outputs": [
    {
     "name": "stderr",
     "output_type": "stream",
     "text": [
      "/opt/homebrew/Caskroom/miniforge/base/envs/bw25/lib/python3.11/site-packages/scikits/umfpack/umfpack.py:736: UmfpackWarning: (almost) singular matrix! (estimated cond. number: 1.21e+13)\n",
      "  warnings.warn(msg, UmfpackWarning)\n"
     ]
    },
    {
     "name": "stdout",
     "output_type": "stream",
     "text": [
      "CPU times: user 2.25 s, sys: 253 ms, total: 2.5 s\n",
      "Wall time: 2.28 s\n"
     ]
    }
   ],
   "source": [
    "%%time\n",
    "# we instantiate EdgeLCIA, which builds on the `bw2calc.LCA` class\n",
    "LCA = EdgeLCIA({act: 1}, method)\n",
    "\n",
    "# we solve the system\n",
    "LCA.lci()"
   ]
  },
  {
   "cell_type": "markdown",
   "id": "48388016-c9e9-4eb1-9453-5b4f21680930",
   "metadata": {},
   "source": [
    "`.map_exchanges()` will try to find direct matches based on the criteria listed in the LCIA file."
   ]
  },
  {
   "cell_type": "code",
   "execution_count": 7,
   "id": "d2c55249-58c6-47ad-ac8b-32f86e7ce8c3",
   "metadata": {},
   "outputs": [
    {
     "name": "stderr",
     "output_type": "stream",
     "text": [
      "Mapping exchanges: 100%|█████████████████| 40362/40362 [02:07<00:00, 315.72it/s]\n"
     ]
    }
   ],
   "source": [
    "LCA.map_exchanges()"
   ]
  },
  {
   "cell_type": "markdown",
   "id": "9e2de13a-ba3b-451b-a337-00c89c759d23",
   "metadata": {},
   "source": [
    "The four following functions are specific to regionalized LCIA methods (which is the case here).\n",
    "\n",
    "* ``map_aggregate_locations()``: It computes weighted averages for composite regions using a user-specified weighting variable (e.g., population, GDP, resource use) from the method metadata, e.g., RER.\n",
    "* ``map_dynamic_locations()``: Handle location-matching for dynamic or relative regions such as ‘RoW’ or ‘RoE’.\n",
    "* ``map_contained_locations()``: Resolve unmatched exchanges by assigning CFs from spatially containing regions (e.g., \"CA-QC\" will be given the CF for \"CA\")\n",
    "* ``map_remaining_locations_to_global()``: Assign global fallback CFs to exchanges that remain unmatched after all regional mapping steps."
   ]
  },
  {
   "cell_type": "code",
   "execution_count": 8,
   "id": "2c728524-4c78-481b-a0ca-0e78168dab9d",
   "metadata": {},
   "outputs": [
    {
     "name": "stderr",
     "output_type": "stream",
     "text": [
      "Processing static groups (pass 1): 100%|█████████| 2/2 [00:00<00:00, 211.64it/s]\n",
      "Processing static groups (pass 2): 100%|██████| 262/262 [00:02<00:00, 88.64it/s]\n",
      "US-PR not found in regex\n",
      "IN-DD not found in regex\n",
      "Processing dynamic groups (pass 2): 100%|█████| 323/323 [00:09<00:00, 33.60it/s]\n",
      "Processing contained groups (pass 1): 100%|█████| 2/2 [00:00<00:00, 2746.76it/s]\n",
      "Processing contained groups (pass 2): 100%|█| 492/492 [00:00<00:00, 4921.93it/s]\n",
      "Processing global groups (pass 2): 100%|████████| 76/76 [00:10<00:00,  6.96it/s]\n"
     ]
    }
   ],
   "source": [
    "LCA.map_aggregate_locations()\n",
    "LCA.map_dynamic_locations()\n",
    "LCA.map_contained_locations()\n",
    "LCA.map_remaining_locations_to_global()"
   ]
  },
  {
   "cell_type": "code",
   "execution_count": 9,
   "id": "6e01e34f-fb3f-40b2-b87e-06915aaf53dd",
   "metadata": {},
   "outputs": [
    {
     "name": "stdout",
     "output_type": "stream",
     "text": [
      "0.38621882672555785\n"
     ]
    }
   ],
   "source": [
    "LCA.evaluate_cfs()\n",
    "LCA.lcia()\n",
    "current_score = LCA.score\n",
    "print(current_score)\n",
    "df_table = LCA.generate_cf_table(include_unmatched=True)"
   ]
  },
  {
   "cell_type": "markdown",
   "id": "151cab42-111c-47aa-bbda-bec31025ef65",
   "metadata": {},
   "source": [
    "#### Run alternative method\n",
    "Let's compare with hte implementation from [Koyamparambath et al., 2024](https://doi.org/10.1016/j.resconrec.2024.107801) (Based on elementary flows)."
   ]
  },
  {
   "cell_type": "code",
   "execution_count": 10,
   "id": "591abbf2-ac99-49c9-b416-33092f1dd0f8",
   "metadata": {},
   "outputs": [
    {
     "name": "stderr",
     "output_type": "stream",
     "text": [
      "/opt/homebrew/Caskroom/miniforge/base/envs/bw25/lib/python3.11/site-packages/scikits/umfpack/umfpack.py:736: UmfpackWarning: (almost) singular matrix! (estimated cond. number: 1.21e+13)\n",
      "  warnings.warn(msg, UmfpackWarning)\n",
      "Mapping exchanges: 100%|███████████████████████| 58/58 [00:00<00:00, 115.81it/s]\n",
      "IN-DD not found in regex\n",
      "US-PR not found in regex\n",
      "IN-DD not found in regex\n",
      "US-PR not found in regex\n"
     ]
    },
    {
     "name": "stdout",
     "output_type": "stream",
     "text": [
      "0.135002992152741\n"
     ]
    }
   ],
   "source": [
    "LCA_alt = EdgeLCIA({act: 1}, method_alt)\n",
    "LCA_alt.lci()\n",
    "LCA_alt.map_exchanges()\n",
    "LCA_alt.map_aggregate_locations()\n",
    "LCA_alt.map_dynamic_locations()\n",
    "LCA_alt.map_contained_locations()\n",
    "LCA_alt.map_remaining_locations_to_global()\n",
    "LCA_alt.evaluate_cfs()\n",
    "LCA_alt.lcia()\n",
    "alternative_score = LCA_alt.score\n",
    "print(alternative_score)"
   ]
  },
  {
   "cell_type": "code",
   "execution_count": 20,
   "id": "a3936e04-ad39-480c-a483-5fafac472741",
   "metadata": {},
   "outputs": [],
   "source": [
    "df_table_gen = LCA_alt.generate_cf_table(include_unmatched=True)"
   ]
  },
  {
   "cell_type": "code",
   "execution_count": 22,
   "id": "59d029a4-4aad-4a44-b94e-f943f7776a26",
   "metadata": {},
   "outputs": [],
   "source": [
    "df_table_gen.to_excel(\"df_GeoPolRisk_gen.xlsx\")"
   ]
  },
  {
   "cell_type": "markdown",
   "id": "3025cb26-e148-467e-a14d-774859b8dfa5",
   "metadata": {},
   "source": [
    "<a id=\"sec_export_results\"></a>\n",
    "# 5. Export results"
   ]
  },
  {
   "cell_type": "code",
   "execution_count": 11,
   "id": "2e08d218-4ee4-4aa9-b0e0-e95c1baec549",
   "metadata": {},
   "outputs": [
    {
     "data": {
      "text/plain": [
       "154984"
      ]
     },
     "execution_count": 11,
     "metadata": {},
     "output_type": "execute_result"
    }
   ],
   "source": [
    "len(df_table)"
   ]
  },
  {
   "cell_type": "code",
   "execution_count": 12,
   "id": "2e56cab4-e846-4494-9efe-3108628e0e43",
   "metadata": {},
   "outputs": [
    {
     "data": {
      "text/plain": [
       "154984"
      ]
     },
     "execution_count": 12,
     "metadata": {},
     "output_type": "execute_result"
    }
   ],
   "source": [
    "len(df_table)"
   ]
  },
  {
   "cell_type": "code",
   "execution_count": 13,
   "id": "3b51c12e-0f0f-42ef-9693-1ac6e33f8182",
   "metadata": {},
   "outputs": [
    {
     "data": {
      "text/html": [
       "<div>\n",
       "<style scoped>\n",
       "    .dataframe tbody tr th:only-of-type {\n",
       "        vertical-align: middle;\n",
       "    }\n",
       "\n",
       "    .dataframe tbody tr th {\n",
       "        vertical-align: top;\n",
       "    }\n",
       "\n",
       "    .dataframe thead th {\n",
       "        text-align: right;\n",
       "    }\n",
       "</style>\n",
       "<table border=\"1\" class=\"dataframe\">\n",
       "  <thead>\n",
       "    <tr style=\"text-align: right;\">\n",
       "      <th></th>\n",
       "      <th>supplier name</th>\n",
       "      <th>supplier reference product</th>\n",
       "      <th>supplier location</th>\n",
       "      <th>consumer name</th>\n",
       "      <th>consumer reference product</th>\n",
       "      <th>consumer location</th>\n",
       "      <th>amount</th>\n",
       "      <th>CF</th>\n",
       "      <th>impact</th>\n",
       "    </tr>\n",
       "  </thead>\n",
       "  <tbody>\n",
       "    <tr>\n",
       "      <th>0</th>\n",
       "      <td>sodium arsenide production from Imperial smelt...</td>\n",
       "      <td>sodium arsenide</td>\n",
       "      <td>GLO</td>\n",
       "      <td>market for sodium arsenide</td>\n",
       "      <td>sodium arsenide</td>\n",
       "      <td>GLO</td>\n",
       "      <td>2.582264e-12</td>\n",
       "      <td>60.984817</td>\n",
       "      <td>1.574789e-10</td>\n",
       "    </tr>\n",
       "    <tr>\n",
       "      <th>1</th>\n",
       "      <td>asbestos production, chrysotile type</td>\n",
       "      <td>asbestos, chrysotile type</td>\n",
       "      <td>GLO</td>\n",
       "      <td>market for asbestos, chrysotile type</td>\n",
       "      <td>asbestos, chrysotile type</td>\n",
       "      <td>GLO</td>\n",
       "      <td>1.467665e-06</td>\n",
       "      <td>0.233699</td>\n",
       "      <td>3.429911e-07</td>\n",
       "    </tr>\n",
       "    <tr>\n",
       "      <th>2</th>\n",
       "      <td>bauxite mine operation</td>\n",
       "      <td>bauxite</td>\n",
       "      <td>GLO</td>\n",
       "      <td>market for bauxite</td>\n",
       "      <td>bauxite</td>\n",
       "      <td>GLO</td>\n",
       "      <td>1.130229e-02</td>\n",
       "      <td>9.742032</td>\n",
       "      <td>1.101072e-01</td>\n",
       "    </tr>\n",
       "    <tr>\n",
       "      <th>3</th>\n",
       "      <td>bentonite quarry operation</td>\n",
       "      <td>bentonite</td>\n",
       "      <td>DE</td>\n",
       "      <td>market for bentonite</td>\n",
       "      <td>bentonite</td>\n",
       "      <td>GLO</td>\n",
       "      <td>1.684328e-06</td>\n",
       "      <td>0.000304</td>\n",
       "      <td>5.117087e-10</td>\n",
       "    </tr>\n",
       "    <tr>\n",
       "      <th>4</th>\n",
       "      <td>sodium tetrahydridoborate production, Brown-Sc...</td>\n",
       "      <td>sodium tetrahydridoborate</td>\n",
       "      <td>GLO</td>\n",
       "      <td>market for sodium tetrahydridoborate</td>\n",
       "      <td>sodium tetrahydridoborate</td>\n",
       "      <td>GLO</td>\n",
       "      <td>1.142843e-09</td>\n",
       "      <td>0.267894</td>\n",
       "      <td>3.061607e-10</td>\n",
       "    </tr>\n",
       "    <tr>\n",
       "      <th>...</th>\n",
       "      <td>...</td>\n",
       "      <td>...</td>\n",
       "      <td>...</td>\n",
       "      <td>...</td>\n",
       "      <td>...</td>\n",
       "      <td>...</td>\n",
       "      <td>...</td>\n",
       "      <td>...</td>\n",
       "      <td>...</td>\n",
       "    </tr>\n",
       "    <tr>\n",
       "      <th>154979</th>\n",
       "      <td>market for electricity, low voltage</td>\n",
       "      <td>electricity, low voltage</td>\n",
       "      <td>PA</td>\n",
       "      <td>market for liquefied petroleum gas</td>\n",
       "      <td>liquefied petroleum gas</td>\n",
       "      <td>RoW</td>\n",
       "      <td>8.788997e-11</td>\n",
       "      <td>NaN</td>\n",
       "      <td>NaN</td>\n",
       "    </tr>\n",
       "    <tr>\n",
       "      <th>154980</th>\n",
       "      <td>market for chromium trioxide, flakes</td>\n",
       "      <td>chromium trioxide, flakes</td>\n",
       "      <td>GLO</td>\n",
       "      <td>treatment of sewage sludge, 70% water, WWT, he...</td>\n",
       "      <td>sewage sludge, 70% water, WWT, heat carrier li...</td>\n",
       "      <td>GLO</td>\n",
       "      <td>1.234201e-18</td>\n",
       "      <td>NaN</td>\n",
       "      <td>NaN</td>\n",
       "    </tr>\n",
       "    <tr>\n",
       "      <th>154981</th>\n",
       "      <td>market for electricity, high voltage</td>\n",
       "      <td>electricity, high voltage</td>\n",
       "      <td>KZ</td>\n",
       "      <td>electricity, high voltage, import from KZ</td>\n",
       "      <td>electricity, high voltage</td>\n",
       "      <td>UZ</td>\n",
       "      <td>1.333331e-04</td>\n",
       "      <td>NaN</td>\n",
       "      <td>NaN</td>\n",
       "    </tr>\n",
       "    <tr>\n",
       "      <th>154982</th>\n",
       "      <td>market for benzene</td>\n",
       "      <td>benzene</td>\n",
       "      <td>RoW</td>\n",
       "      <td>polysulfone production, for membrane filtratio...</td>\n",
       "      <td>polysulfone</td>\n",
       "      <td>GLO</td>\n",
       "      <td>1.059499e-10</td>\n",
       "      <td>NaN</td>\n",
       "      <td>NaN</td>\n",
       "    </tr>\n",
       "    <tr>\n",
       "      <th>154983</th>\n",
       "      <td>market for tap water</td>\n",
       "      <td>tap water</td>\n",
       "      <td>ZA</td>\n",
       "      <td>titanium dioxide production, sulfate process</td>\n",
       "      <td>titanium dioxide</td>\n",
       "      <td>RoW</td>\n",
       "      <td>1.030490e-05</td>\n",
       "      <td>NaN</td>\n",
       "      <td>NaN</td>\n",
       "    </tr>\n",
       "  </tbody>\n",
       "</table>\n",
       "<p>154984 rows × 9 columns</p>\n",
       "</div>"
      ],
      "text/plain": [
       "                                            supplier name  \\\n",
       "0       sodium arsenide production from Imperial smelt...   \n",
       "1                    asbestos production, chrysotile type   \n",
       "2                                  bauxite mine operation   \n",
       "3                              bentonite quarry operation   \n",
       "4       sodium tetrahydridoborate production, Brown-Sc...   \n",
       "...                                                   ...   \n",
       "154979                market for electricity, low voltage   \n",
       "154980               market for chromium trioxide, flakes   \n",
       "154981               market for electricity, high voltage   \n",
       "154982                                 market for benzene   \n",
       "154983                               market for tap water   \n",
       "\n",
       "       supplier reference product supplier location  \\\n",
       "0                 sodium arsenide               GLO   \n",
       "1       asbestos, chrysotile type               GLO   \n",
       "2                         bauxite               GLO   \n",
       "3                       bentonite                DE   \n",
       "4       sodium tetrahydridoborate               GLO   \n",
       "...                           ...               ...   \n",
       "154979   electricity, low voltage                PA   \n",
       "154980  chromium trioxide, flakes               GLO   \n",
       "154981  electricity, high voltage                KZ   \n",
       "154982                    benzene               RoW   \n",
       "154983                  tap water                ZA   \n",
       "\n",
       "                                            consumer name  \\\n",
       "0                              market for sodium arsenide   \n",
       "1                    market for asbestos, chrysotile type   \n",
       "2                                      market for bauxite   \n",
       "3                                    market for bentonite   \n",
       "4                    market for sodium tetrahydridoborate   \n",
       "...                                                   ...   \n",
       "154979                 market for liquefied petroleum gas   \n",
       "154980  treatment of sewage sludge, 70% water, WWT, he...   \n",
       "154981          electricity, high voltage, import from KZ   \n",
       "154982  polysulfone production, for membrane filtratio...   \n",
       "154983       titanium dioxide production, sulfate process   \n",
       "\n",
       "                               consumer reference product consumer location  \\\n",
       "0                                         sodium arsenide               GLO   \n",
       "1                               asbestos, chrysotile type               GLO   \n",
       "2                                                 bauxite               GLO   \n",
       "3                                               bentonite               GLO   \n",
       "4                               sodium tetrahydridoborate               GLO   \n",
       "...                                                   ...               ...   \n",
       "154979                            liquefied petroleum gas               RoW   \n",
       "154980  sewage sludge, 70% water, WWT, heat carrier li...               GLO   \n",
       "154981                          electricity, high voltage                UZ   \n",
       "154982                                        polysulfone               GLO   \n",
       "154983                                   titanium dioxide               RoW   \n",
       "\n",
       "              amount         CF        impact  \n",
       "0       2.582264e-12  60.984817  1.574789e-10  \n",
       "1       1.467665e-06   0.233699  3.429911e-07  \n",
       "2       1.130229e-02   9.742032  1.101072e-01  \n",
       "3       1.684328e-06   0.000304  5.117087e-10  \n",
       "4       1.142843e-09   0.267894  3.061607e-10  \n",
       "...              ...        ...           ...  \n",
       "154979  8.788997e-11        NaN           NaN  \n",
       "154980  1.234201e-18        NaN           NaN  \n",
       "154981  1.333331e-04        NaN           NaN  \n",
       "154982  1.059499e-10        NaN           NaN  \n",
       "154983  1.030490e-05        NaN           NaN  \n",
       "\n",
       "[154984 rows x 9 columns]"
      ]
     },
     "execution_count": 13,
     "metadata": {},
     "output_type": "execute_result"
    }
   ],
   "source": [
    "df_table"
   ]
  },
  {
   "cell_type": "code",
   "execution_count": 14,
   "id": "70874f25-631e-4175-9079-59ef567ddd5b",
   "metadata": {},
   "outputs": [
    {
     "data": {
      "text/html": [
       "<div>\n",
       "<style scoped>\n",
       "    .dataframe tbody tr th:only-of-type {\n",
       "        vertical-align: middle;\n",
       "    }\n",
       "\n",
       "    .dataframe tbody tr th {\n",
       "        vertical-align: top;\n",
       "    }\n",
       "\n",
       "    .dataframe thead th {\n",
       "        text-align: right;\n",
       "    }\n",
       "</style>\n",
       "<table border=\"1\" class=\"dataframe\">\n",
       "  <thead>\n",
       "    <tr style=\"text-align: right;\">\n",
       "      <th></th>\n",
       "      <th>supplier name</th>\n",
       "      <th>supplier reference product</th>\n",
       "      <th>supplier location</th>\n",
       "      <th>consumer name</th>\n",
       "      <th>consumer reference product</th>\n",
       "      <th>consumer location</th>\n",
       "      <th>amount</th>\n",
       "      <th>CF</th>\n",
       "      <th>impact</th>\n",
       "    </tr>\n",
       "  </thead>\n",
       "  <tbody>\n",
       "    <tr>\n",
       "      <th>0</th>\n",
       "      <td>sodium arsenide production from Imperial smelt...</td>\n",
       "      <td>sodium arsenide</td>\n",
       "      <td>GLO</td>\n",
       "      <td>market for sodium arsenide</td>\n",
       "      <td>sodium arsenide</td>\n",
       "      <td>GLO</td>\n",
       "      <td>2.582264e-12</td>\n",
       "      <td>60.984817</td>\n",
       "      <td>1.574789e-10</td>\n",
       "    </tr>\n",
       "    <tr>\n",
       "      <th>1</th>\n",
       "      <td>asbestos production, chrysotile type</td>\n",
       "      <td>asbestos, chrysotile type</td>\n",
       "      <td>GLO</td>\n",
       "      <td>market for asbestos, chrysotile type</td>\n",
       "      <td>asbestos, chrysotile type</td>\n",
       "      <td>GLO</td>\n",
       "      <td>1.467665e-06</td>\n",
       "      <td>0.233699</td>\n",
       "      <td>3.429911e-07</td>\n",
       "    </tr>\n",
       "    <tr>\n",
       "      <th>2</th>\n",
       "      <td>bauxite mine operation</td>\n",
       "      <td>bauxite</td>\n",
       "      <td>GLO</td>\n",
       "      <td>market for bauxite</td>\n",
       "      <td>bauxite</td>\n",
       "      <td>GLO</td>\n",
       "      <td>1.130229e-02</td>\n",
       "      <td>9.742032</td>\n",
       "      <td>1.101072e-01</td>\n",
       "    </tr>\n",
       "    <tr>\n",
       "      <th>3</th>\n",
       "      <td>bentonite quarry operation</td>\n",
       "      <td>bentonite</td>\n",
       "      <td>DE</td>\n",
       "      <td>market for bentonite</td>\n",
       "      <td>bentonite</td>\n",
       "      <td>GLO</td>\n",
       "      <td>1.684328e-06</td>\n",
       "      <td>0.000304</td>\n",
       "      <td>5.117087e-10</td>\n",
       "    </tr>\n",
       "    <tr>\n",
       "      <th>4</th>\n",
       "      <td>sodium tetrahydridoborate production, Brown-Sc...</td>\n",
       "      <td>sodium tetrahydridoborate</td>\n",
       "      <td>GLO</td>\n",
       "      <td>market for sodium tetrahydridoborate</td>\n",
       "      <td>sodium tetrahydridoborate</td>\n",
       "      <td>GLO</td>\n",
       "      <td>1.142843e-09</td>\n",
       "      <td>0.267894</td>\n",
       "      <td>3.061607e-10</td>\n",
       "    </tr>\n",
       "    <tr>\n",
       "      <th>...</th>\n",
       "      <td>...</td>\n",
       "      <td>...</td>\n",
       "      <td>...</td>\n",
       "      <td>...</td>\n",
       "      <td>...</td>\n",
       "      <td>...</td>\n",
       "      <td>...</td>\n",
       "      <td>...</td>\n",
       "      <td>...</td>\n",
       "    </tr>\n",
       "    <tr>\n",
       "      <th>154979</th>\n",
       "      <td>market for electricity, low voltage</td>\n",
       "      <td>electricity, low voltage</td>\n",
       "      <td>PA</td>\n",
       "      <td>market for liquefied petroleum gas</td>\n",
       "      <td>liquefied petroleum gas</td>\n",
       "      <td>RoW</td>\n",
       "      <td>8.788997e-11</td>\n",
       "      <td>NaN</td>\n",
       "      <td>NaN</td>\n",
       "    </tr>\n",
       "    <tr>\n",
       "      <th>154980</th>\n",
       "      <td>market for chromium trioxide, flakes</td>\n",
       "      <td>chromium trioxide, flakes</td>\n",
       "      <td>GLO</td>\n",
       "      <td>treatment of sewage sludge, 70% water, WWT, he...</td>\n",
       "      <td>sewage sludge, 70% water, WWT, heat carrier li...</td>\n",
       "      <td>GLO</td>\n",
       "      <td>1.234201e-18</td>\n",
       "      <td>NaN</td>\n",
       "      <td>NaN</td>\n",
       "    </tr>\n",
       "    <tr>\n",
       "      <th>154981</th>\n",
       "      <td>market for electricity, high voltage</td>\n",
       "      <td>electricity, high voltage</td>\n",
       "      <td>KZ</td>\n",
       "      <td>electricity, high voltage, import from KZ</td>\n",
       "      <td>electricity, high voltage</td>\n",
       "      <td>UZ</td>\n",
       "      <td>1.333331e-04</td>\n",
       "      <td>NaN</td>\n",
       "      <td>NaN</td>\n",
       "    </tr>\n",
       "    <tr>\n",
       "      <th>154982</th>\n",
       "      <td>market for benzene</td>\n",
       "      <td>benzene</td>\n",
       "      <td>RoW</td>\n",
       "      <td>polysulfone production, for membrane filtratio...</td>\n",
       "      <td>polysulfone</td>\n",
       "      <td>GLO</td>\n",
       "      <td>1.059499e-10</td>\n",
       "      <td>NaN</td>\n",
       "      <td>NaN</td>\n",
       "    </tr>\n",
       "    <tr>\n",
       "      <th>154983</th>\n",
       "      <td>market for tap water</td>\n",
       "      <td>tap water</td>\n",
       "      <td>ZA</td>\n",
       "      <td>titanium dioxide production, sulfate process</td>\n",
       "      <td>titanium dioxide</td>\n",
       "      <td>RoW</td>\n",
       "      <td>1.030490e-05</td>\n",
       "      <td>NaN</td>\n",
       "      <td>NaN</td>\n",
       "    </tr>\n",
       "  </tbody>\n",
       "</table>\n",
       "<p>154984 rows × 9 columns</p>\n",
       "</div>"
      ],
      "text/plain": [
       "                                            supplier name  \\\n",
       "0       sodium arsenide production from Imperial smelt...   \n",
       "1                    asbestos production, chrysotile type   \n",
       "2                                  bauxite mine operation   \n",
       "3                              bentonite quarry operation   \n",
       "4       sodium tetrahydridoborate production, Brown-Sc...   \n",
       "...                                                   ...   \n",
       "154979                market for electricity, low voltage   \n",
       "154980               market for chromium trioxide, flakes   \n",
       "154981               market for electricity, high voltage   \n",
       "154982                                 market for benzene   \n",
       "154983                               market for tap water   \n",
       "\n",
       "       supplier reference product supplier location  \\\n",
       "0                 sodium arsenide               GLO   \n",
       "1       asbestos, chrysotile type               GLO   \n",
       "2                         bauxite               GLO   \n",
       "3                       bentonite                DE   \n",
       "4       sodium tetrahydridoborate               GLO   \n",
       "...                           ...               ...   \n",
       "154979   electricity, low voltage                PA   \n",
       "154980  chromium trioxide, flakes               GLO   \n",
       "154981  electricity, high voltage                KZ   \n",
       "154982                    benzene               RoW   \n",
       "154983                  tap water                ZA   \n",
       "\n",
       "                                            consumer name  \\\n",
       "0                              market for sodium arsenide   \n",
       "1                    market for asbestos, chrysotile type   \n",
       "2                                      market for bauxite   \n",
       "3                                    market for bentonite   \n",
       "4                    market for sodium tetrahydridoborate   \n",
       "...                                                   ...   \n",
       "154979                 market for liquefied petroleum gas   \n",
       "154980  treatment of sewage sludge, 70% water, WWT, he...   \n",
       "154981          electricity, high voltage, import from KZ   \n",
       "154982  polysulfone production, for membrane filtratio...   \n",
       "154983       titanium dioxide production, sulfate process   \n",
       "\n",
       "                               consumer reference product consumer location  \\\n",
       "0                                         sodium arsenide               GLO   \n",
       "1                               asbestos, chrysotile type               GLO   \n",
       "2                                                 bauxite               GLO   \n",
       "3                                               bentonite               GLO   \n",
       "4                               sodium tetrahydridoborate               GLO   \n",
       "...                                                   ...               ...   \n",
       "154979                            liquefied petroleum gas               RoW   \n",
       "154980  sewage sludge, 70% water, WWT, heat carrier li...               GLO   \n",
       "154981                          electricity, high voltage                UZ   \n",
       "154982                                        polysulfone               GLO   \n",
       "154983                                   titanium dioxide               RoW   \n",
       "\n",
       "              amount         CF        impact  \n",
       "0       2.582264e-12  60.984817  1.574789e-10  \n",
       "1       1.467665e-06   0.233699  3.429911e-07  \n",
       "2       1.130229e-02   9.742032  1.101072e-01  \n",
       "3       1.684328e-06   0.000304  5.117087e-10  \n",
       "4       1.142843e-09   0.267894  3.061607e-10  \n",
       "...              ...        ...           ...  \n",
       "154979  8.788997e-11        NaN           NaN  \n",
       "154980  1.234201e-18        NaN           NaN  \n",
       "154981  1.333331e-04        NaN           NaN  \n",
       "154982  1.059499e-10        NaN           NaN  \n",
       "154983  1.030490e-05        NaN           NaN  \n",
       "\n",
       "[154984 rows x 9 columns]"
      ]
     },
     "execution_count": 14,
     "metadata": {},
     "output_type": "execute_result"
    }
   ],
   "source": [
    "df_table"
   ]
  },
  {
   "cell_type": "code",
   "execution_count": 15,
   "id": "98dc0b3a-118e-41bf-9c5e-1351addd919c",
   "metadata": {},
   "outputs": [],
   "source": [
    "df_table.to_excel(\"df_GeoPolRisk.xlsx\")"
   ]
  },
  {
   "cell_type": "code",
   "execution_count": 16,
   "id": "5f9766ac-6c92-4c9a-aaf1-9f9258268a02",
   "metadata": {},
   "outputs": [
    {
     "name": "stdout",
     "output_type": "stream",
     "text": [
      "+----------------------+--------------------------------------------+\n",
      "|       Activity       | hydrogen production, gaseous, 30 bar, from |\n",
      "|                      |    PEM electrolysis, from offshore wind    |\n",
      "|                      |                electricity                 |\n",
      "|     Method name      |      ('GeoPolRisk', 'paired', '2024')      |\n",
      "|         Unit         |               kg copper-eq.                |\n",
      "|      Data file       |           GeoPolRisk_paired_2024           |\n",
      "|    CFs in method     |                   40362                    |\n",
      "|       CFs used       |                    1162                    |\n",
      "|   Unique CFs used    |                    417                     |\n",
      "|  Exc. characterized  |                    1221                    |\n",
      "| Exc. uncharacterized |                   153763                   |\n",
      "+----------------------+--------------------------------------------+\n"
     ]
    }
   ],
   "source": [
    "LCA.statistics()"
   ]
  },
  {
   "cell_type": "code",
   "execution_count": 17,
   "id": "68a4a11c-50fc-44e5-85f0-0e963e5bdcb7",
   "metadata": {},
   "outputs": [],
   "source": [
    "# we remove impacts coming from \"coke\" production because it overlaps with coal use\n",
    "df_table = df_table.loc[df_table[\"supplier reference product\"] != \"coke\"]"
   ]
  },
  {
   "cell_type": "markdown",
   "id": "1e8af74d-6e69-4ee6-94c7-0d9c43e70f8f",
   "metadata": {},
   "source": [
    "<a id=\"sec_plot_results\"></a>\n",
    "# 6. Plot results"
   ]
  },
  {
   "cell_type": "code",
   "execution_count": 18,
   "id": "d1b5dcb4-91f2-44f5-9fe3-c6c5b68572ed",
   "metadata": {},
   "outputs": [],
   "source": [
    "import matplotlib.pyplot as plt\n",
    "import matplotlib.ticker as ticker"
   ]
  },
  {
   "cell_type": "code",
   "execution_count": 24,
   "id": "f92c47bc-4a25-4224-8804-ca8a94537c7f",
   "metadata": {},
   "outputs": [
    {
     "data": {
      "image/png": "[encoded data removed]",
      "text/plain": [
       "<Figure size 350x1000 with 5 Axes>"
      ]
     },
     "metadata": {},
     "output_type": "display_data"
    }
   ],
   "source": [
    "cutoff = 0.00\n",
    "# remove rows for which \"amount\" is below the cutoff\n",
    "m = df_table.loc[df_table[\"impact\"] > 0, \"impact\"].max()\n",
    "df = df_table[df_table[\"impact\"] > cutoff * m]\n",
    "# Plotting\n",
    "fig, axes = plt.subplots(5, 1, figsize=(3.5, 10))\n",
    "df_net = df.copy()\n",
    "d = df_net.groupby([\"supplier reference product\"])\n",
    "d = d.sum().sort_values(by=\"amount\", ascending=False)\n",
    "d[\"amount\"].head(15).plot(kind=\"bar\", ax=axes[0], xlabel='')\n",
    "axes[0].set_yscale('log')\n",
    "axes[0].set_title(\"a) Resource use\")\n",
    "axes[0].set_ylabel(\"kg\")\n",
    "axes[0].set_xticklabels(\n",
    "    [x.get_text()[:15] for x in axes[0].get_xticklabels()],\n",
    "    rotation=90,\n",
    ")\n",
    "axes[0].tick_params(axis=\"x\", labelsize=6)\n",
    "axes[0].set_yticks([1e-6, 1e-4, 1e-2, 1e-1,])\n",
    "d[\"CF\"] = d[\"impact\"] / d[\"amount\"]\n",
    "d[\"CF\"].sort_values(ascending=False).head(15).plot(kind=\"bar\", ax=axes[1], xlabel='')\n",
    "axes[1].set_yscale('log')\n",
    "axes[1].set_title(\"b) Characterization factor by resource\")\n",
    "axes[1].set_ylabel(\"kg copper-eq./kg\")\n",
    "axes[1].set_xticklabels(\n",
    "    [x.get_text()[:15] for x in axes[1].get_xticklabels()],\n",
    "    rotation=90,\n",
    ")\n",
    "axes[1].tick_params(axis=\"x\", labelsize=6)\n",
    "axes[1].set_yticks([1e-4, 1e-2, 1e-0, 1e+2, 1e+4])\n",
    "df_net[\"CF\"] = df_net[\"impact\"] / df_net[\"amount\"]\n",
    "df_net.replace(\"Europe without Switzerland\", \"RER\", regex=True, inplace=True)\n",
    "df_net = df_net.loc[df_net[\"supplier location\"] != df_net[\"consumer location\"]]\n",
    "df_net = df_net.drop_duplicates(subset=[\"supplier location\", \"consumer location\"], keep='first')\n",
    "df_net = df_net.loc[df_net[\"supplier location\"] != \"RoW\"]\n",
    "df_net = df_net.loc[df_net[\"supplier location\"] != \"RoE\"]\n",
    "df_net = df_net.set_index([\"supplier location\", \"consumer location\"])\n",
    "df_net.loc[df_net[\"supplier reference product\"] == \"petroleum\", \"CF\"].sort_values(ascending=True).head(20).plot(kind=\"bar\", ax=axes[2], xlabel='')\n",
    "axes[2].set_yscale('log')\n",
    "axes[2].set_title(\"c) Characterization factor for petroleum\")\n",
    "axes[2].set_ylabel(\"kg copper-eq./kg\")\n",
    "axes[2].tick_params(axis=\"x\", labelsize=8, rotation=90)\n",
    "axes[2].set_yticks([1e-10, 1e-8, 1e-6, 1e-4, 1e-2,])\n",
    "# 3. Stacked bar plot for \"amount\" by \"consumer name\" and \"consumer location\"\n",
    "df.loc[:, \"supplier reference product\"] = df[\"supplier reference product\"].str.split(\", \").str[0]\n",
    "df_grouped = df.groupby([\"supplier reference product\", \"supplier location\"])[\"impact\"].sum().unstack()\n",
    "df_grouped = df_grouped.dropna(how='all', axis=0).dropna(how='all', axis=1)\n",
    "df_grouped = df_grouped[df_grouped.sum(axis=1) != 0]\n",
    "df_grouped = df_grouped.loc[:, df_grouped.sum(axis=0) != 0]\n",
    "df_grouped = df_grouped[df_grouped.sum(axis=1) > 1e-4]\n",
    "df_grouped = df_grouped.dropna(how='all', axis=0).dropna(how='all', axis=1)\n",
    "df_grouped = df_grouped.loc[df_grouped.sum(axis=1).sort_values(ascending=False).index]\n",
    "df_grouped = df_grouped.loc[:, df_grouped.sum() > 1e-4]\n",
    "row_order = df_grouped.sum(axis=1).sort_values(ascending=False).index\n",
    "df_grouped = df_grouped.loc[row_order]\n",
    "df_grouped.head(10).plot(kind=\"bar\", stacked=True, ax=axes[3], xlabel='')\n",
    "#axes[3].set_yscale('log')\n",
    "axes[3].set_title(\"d) LCIA score by resource & location\")\n",
    "axes[3].set_ylabel(\"kg copper-eq.\")\n",
    "axes[3].set_xticklabels(\n",
    "    [x.get_text()[:15] for x in axes[3].get_xticklabels()],\n",
    "    rotation=90,\n",
    ")\n",
    "axes[3].tick_params(axis=\"x\", labelsize=6)\n",
    "\n",
    "axes[3].legend().remove()\n",
    "axes[3].set_yticks([0.0, 0.05, 0.10])\n",
    "\n",
    "# New fifth panel - Method comparison\n",
    "import pandas as pd\n",
    "method_comparison = pd.DataFrame({\n",
    "    'Method': ['Paired', 'Elementary flows'],\n",
    "    'Score': [current_score, alternative_score]\n",
    "})\n",
    "method_comparison.plot(x='Method', y='Score', kind='bar', ax=axes[4], xlabel='', legend=False)\n",
    "axes[4].set_title(\"e) Method comparison\")\n",
    "axes[4].set_ylabel(\"kg copper-eq.\")\n",
    "axes[4].set_xticklabels(['Technosphere exc.', 'Elementary flows'], rotation=0)\n",
    "axes[4].tick_params(axis=\"x\", labelsize=8)\n",
    "\n",
    "plt.tight_layout(rect=[0, 0, 1, 1])  # leave space at the top for the legend\n",
    "plt.savefig(\"figure_2.png\", bbox_inches=\"tight\", dpi=150)\n",
    "plt.show()"
   ]
  },
  {
   "cell_type": "code",
   "execution_count": null,
   "id": "dc27e21e-567c-4df8-ad6f-6b9ec7e7c5ca",
   "metadata": {},
   "outputs": [],
   "source": []
  }
 ],
 "metadata": {
  "kernelspec": {
   "display_name": "Python 3 (ipykernel)",
   "language": "python",
   "name": "python3"
  },
  "language_info": {
   "codemirror_mode": {
    "name": "ipython",
    "version": 3
   },
   "file_extension": ".py",
   "mimetype": "text/x-python",
   "name": "python",
   "nbconvert_exporter": "python",
   "pygments_lexer": "ipython3",
   "version": "3.11.13"
  }
 },
 "nbformat": 4,
 "nbformat_minor": 5
}

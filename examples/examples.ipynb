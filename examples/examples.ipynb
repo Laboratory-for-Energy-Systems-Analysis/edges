{
 "cells": [
  {
   "cell_type": "markdown",
   "metadata": {},
   "source": [
    "# Use examples of [edges](https://github.com/romainsacchi/edges)\n",
    "\n",
    "Author: [romainsacchi](https://github.com/romainsacchi)\n",
    "\n",
    "This notebook shows examples on how to use `edge` to use location-specific\n",
    "characterization factors in the characterization matrix of `bw2calc`.\n",
    "\n",
    "## Requirements\n",
    "\n",
    "* **Pyhton 3.10 or higher (up to 3.11) is highly recommended**\n",
    "* `bw2calc >= 2.0.0`"
   ]
  },
  {
   "cell_type": "markdown",
   "metadata": {},
   "source": [
    "# Use case with [brightway2](https://brightway.dev/)\n",
    "\n",
    "`brightway2` is an open source LCA framework for Python.\n",
    "To use `premise` from `brightway2`, it requires that you have an activated `brightway2` project with a `biosphere3` database as well as an [ecoinvent](https://ecoinvent.prg) v.3 cut-off or consequential database registered in that project. Please refer to the brightway [documentation](https://brightway.dev) if you do not know how to create a project and install ecoinvent."
   ]
  },
  {
   "cell_type": "code",
   "metadata": {
    "ExecuteTime": {
     "end_time": "2024-12-13T17:34:53.296323Z",
     "start_time": "2024-12-13T17:34:52.176889Z"
    }
   },
   "source": [
    "from edges import SpatialLCA, get_available_methods\n",
    "import bw2data"
   ],
   "outputs": [],
   "execution_count": 1
  },
  {
   "cell_type": "markdown",
   "metadata": {},
   "source": "### List of available methods\n"
  },
  {
   "metadata": {
    "ExecuteTime": {
     "end_time": "2024-12-13T17:34:56.734950Z",
     "start_time": "2024-12-13T17:34:56.728191Z"
    }
   },
   "cell_type": "code",
   "source": "get_available_methods()",
   "outputs": [
    {
     "data": {
      "text/plain": [
       "[('AWARE 1.2c', 'Country', 'irri', 'apr'),\n",
       " ('AWARE 1.2c', 'Country', 'irri', 'aug'),\n",
       " ('AWARE 1.2c', 'Country', 'irri', 'dec'),\n",
       " ('AWARE 1.2c', 'Country', 'irri', 'feb'),\n",
       " ('AWARE 1.2c', 'Country', 'irri', 'jan'),\n",
       " ('AWARE 1.2c', 'Country', 'irri', 'jul'),\n",
       " ('AWARE 1.2c', 'Country', 'irri', 'jun'),\n",
       " ('AWARE 1.2c', 'Country', 'irri', 'mar'),\n",
       " ('AWARE 1.2c', 'Country', 'irri', 'may'),\n",
       " ('AWARE 1.2c', 'Country', 'irri', 'nov'),\n",
       " ('AWARE 1.2c', 'Country', 'irri', 'oct'),\n",
       " ('AWARE 1.2c', 'Country', 'irri', 'sep'),\n",
       " ('AWARE 1.2c', 'Country', 'irri', 'yearly'),\n",
       " ('AWARE 1.2c', 'Country', 'non', 'irri', 'apr'),\n",
       " ('AWARE 1.2c', 'Country', 'non', 'irri', 'aug'),\n",
       " ('AWARE 1.2c', 'Country', 'non', 'irri', 'dec'),\n",
       " ('AWARE 1.2c', 'Country', 'non', 'irri', 'feb'),\n",
       " ('AWARE 1.2c', 'Country', 'non', 'irri', 'jan'),\n",
       " ('AWARE 1.2c', 'Country', 'non', 'irri', 'jul'),\n",
       " ('AWARE 1.2c', 'Country', 'non', 'irri', 'jun'),\n",
       " ('AWARE 1.2c', 'Country', 'non', 'irri', 'mar'),\n",
       " ('AWARE 1.2c', 'Country', 'non', 'irri', 'may'),\n",
       " ('AWARE 1.2c', 'Country', 'non', 'irri', 'nov'),\n",
       " ('AWARE 1.2c', 'Country', 'non', 'irri', 'oct'),\n",
       " ('AWARE 1.2c', 'Country', 'non', 'irri', 'sep'),\n",
       " ('AWARE 1.2c', 'Country', 'non', 'irri', 'yearly'),\n",
       " ('AWARE 1.2c', 'Country', 'unspecified', 'apr'),\n",
       " ('AWARE 1.2c', 'Country', 'unspecified', 'aug'),\n",
       " ('AWARE 1.2c', 'Country', 'unspecified', 'dec'),\n",
       " ('AWARE 1.2c', 'Country', 'unspecified', 'feb'),\n",
       " ('AWARE 1.2c', 'Country', 'unspecified', 'jan'),\n",
       " ('AWARE 1.2c', 'Country', 'unspecified', 'jul'),\n",
       " ('AWARE 1.2c', 'Country', 'unspecified', 'jun'),\n",
       " ('AWARE 1.2c', 'Country', 'unspecified', 'mar'),\n",
       " ('AWARE 1.2c', 'Country', 'unspecified', 'may'),\n",
       " ('AWARE 1.2c', 'Country', 'unspecified', 'nov'),\n",
       " ('AWARE 1.2c', 'Country', 'unspecified', 'oct'),\n",
       " ('AWARE 1.2c', 'Country', 'unspecified', 'sep'),\n",
       " ('AWARE 1.2c', 'Country', 'unspecified', 'yearly')]"
      ]
     },
     "execution_count": 2,
     "metadata": {},
     "output_type": "execute_result"
    }
   ],
   "execution_count": 2
  },
  {
   "metadata": {},
   "cell_type": "markdown",
   "source": [
    "### Spatialized LCIA\n",
    "\n",
    "The `SpatialLCA` class is a subclass of `bw2calc.LCA` that allows for the use of location-specific characterization factors in the characterization matrix of `bw2calc`. `SpatialLCA`can therefore be used as a drop-in replacement for `bw2calc.LCA` in most cases."
   ]
  },
  {
   "metadata": {
    "ExecuteTime": {
     "end_time": "2024-12-13T17:36:26.445344Z",
     "start_time": "2024-12-13T17:36:26.431736Z"
    }
   },
   "cell_type": "code",
   "source": [
    "# activate the bw project\n",
    "bw2data.projects.set_current(\"bw25_ei310\")"
   ],
   "outputs": [],
   "execution_count": 3
  },
  {
   "cell_type": "code",
   "metadata": {
    "ExecuteTime": {
     "end_time": "2024-12-13T17:36:27.322528Z",
     "start_time": "2024-12-13T17:36:27.306078Z"
    }
   },
   "source": [
    "act = bw2data.Database(\"ecoinvent-3.10-cutoff\").random()\n",
    "act"
   ],
   "outputs": [
    {
     "data": {
      "text/plain": [
       "'electricity, high voltage, import from US-MRO' (kilowatt hour, CA-SK, None)"
      ]
     },
     "execution_count": 4,
     "metadata": {},
     "output_type": "execute_result"
    }
   ],
   "execution_count": 4
  },
  {
   "metadata": {
    "ExecuteTime": {
     "end_time": "2024-12-13T17:36:29.090126Z",
     "start_time": "2024-12-13T17:36:29.086261Z"
    }
   },
   "cell_type": "code",
   "source": "method = ('AWARE 1.2c', 'Country', 'unspecified', 'yearly')",
   "outputs": [],
   "execution_count": 5
  },
  {
   "metadata": {
    "ExecuteTime": {
     "end_time": "2024-12-13T17:36:35.661739Z",
     "start_time": "2024-12-13T17:36:29.878637Z"
    }
   },
   "cell_type": "code",
   "source": [
    "LCA = SpatialLCA({act: 1}, method)\n",
    "LCA.lci()\n",
    "LCA.lcia()\n",
    "LCA.score"
   ],
   "outputs": [
    {
     "name": "stderr",
     "output_type": "stream",
     "text": [
      "/Users/romain/anaconda3/envs/bw25/lib/python3.11/site-packages/scikits/umfpack/umfpack.py:736: UmfpackWarning: (almost) singular matrix! (estimated cond. number: 1.21e+13)\n",
      "  warnings.warn(msg, UmfpackWarning)\n"
     ]
    },
    {
     "data": {
      "text/plain": [
       "0.10860511854635746"
      ]
     },
     "execution_count": 6,
     "metadata": {},
     "output_type": "execute_result"
    }
   ],
   "execution_count": 6
  },
  {
   "metadata": {},
   "cell_type": "code",
   "outputs": [],
   "execution_count": null,
   "source": [
    "# let's check locations that have been ignored, if any\n",
    "LCA.ignored_locations"
   ]
  },
  {
   "cell_type": "markdown",
   "metadata": {},
   "source": "### Generate dataframe of characterization factors used"
  },
  {
   "metadata": {
    "ExecuteTime": {
     "end_time": "2024-12-13T17:36:54.854877Z",
     "start_time": "2024-12-13T17:36:52.509769Z"
    }
   },
   "cell_type": "code",
   "source": "df = LCA.generate_cf_table()",
   "outputs": [],
   "execution_count": 8
  },
  {
   "metadata": {
    "ExecuteTime": {
     "end_time": "2024-12-13T17:36:59.379679Z",
     "start_time": "2024-12-13T17:36:59.366406Z"
    }
   },
   "cell_type": "code",
   "source": [
    "# we can see under the \"CF\" column\n",
    "# the characterization factors used for each exchange in the system\n",
    "df.head()"
   ],
   "outputs": [
    {
     "data": {
      "text/plain": [
       "                                                flow  \\\n",
       "0  (Water, cooling, unspecified natural origin, (...   \n",
       "1  (Water, cooling, unspecified natural origin, (...   \n",
       "2  (Water, cooling, unspecified natural origin, (...   \n",
       "3  (Water, cooling, unspecified natural origin, (...   \n",
       "4  (Water, cooling, unspecified natural origin, (...   \n",
       "\n",
       "                                  name                      reference product  \\\n",
       "0                 cast iron production                              cast iron   \n",
       "1  polystyrene production, high impact               polystyrene, high impact   \n",
       "2           cast iron milling, average  cast iron removed by milling, average   \n",
       "3          electricity production, oil              electricity, high voltage   \n",
       "4  polypropylene production, granulate               polypropylene, granulate   \n",
       "\n",
       "  location        amount         CF        impact  \n",
       "0      RoW  6.288335e-07  28.180497  1.772084e-05  \n",
       "1      RER  1.138145e-09  17.328016  1.972179e-08  \n",
       "2      RoW  1.305994e-13  28.180497  3.680357e-12  \n",
       "3    CA-PE  1.992256e-10   1.713382  3.413496e-10  \n",
       "4      RER  7.043196e-09  17.328016  1.220446e-07  "
      ],
      "text/html": [
       "<div>\n",
       "<style scoped>\n",
       "    .dataframe tbody tr th:only-of-type {\n",
       "        vertical-align: middle;\n",
       "    }\n",
       "\n",
       "    .dataframe tbody tr th {\n",
       "        vertical-align: top;\n",
       "    }\n",
       "\n",
       "    .dataframe thead th {\n",
       "        text-align: right;\n",
       "    }\n",
       "</style>\n",
       "<table border=\"1\" class=\"dataframe\">\n",
       "  <thead>\n",
       "    <tr style=\"text-align: right;\">\n",
       "      <th></th>\n",
       "      <th>flow</th>\n",
       "      <th>name</th>\n",
       "      <th>reference product</th>\n",
       "      <th>location</th>\n",
       "      <th>amount</th>\n",
       "      <th>CF</th>\n",
       "      <th>impact</th>\n",
       "    </tr>\n",
       "  </thead>\n",
       "  <tbody>\n",
       "    <tr>\n",
       "      <th>0</th>\n",
       "      <td>(Water, cooling, unspecified natural origin, (...</td>\n",
       "      <td>cast iron production</td>\n",
       "      <td>cast iron</td>\n",
       "      <td>RoW</td>\n",
       "      <td>6.288335e-07</td>\n",
       "      <td>28.180497</td>\n",
       "      <td>1.772084e-05</td>\n",
       "    </tr>\n",
       "    <tr>\n",
       "      <th>1</th>\n",
       "      <td>(Water, cooling, unspecified natural origin, (...</td>\n",
       "      <td>polystyrene production, high impact</td>\n",
       "      <td>polystyrene, high impact</td>\n",
       "      <td>RER</td>\n",
       "      <td>1.138145e-09</td>\n",
       "      <td>17.328016</td>\n",
       "      <td>1.972179e-08</td>\n",
       "    </tr>\n",
       "    <tr>\n",
       "      <th>2</th>\n",
       "      <td>(Water, cooling, unspecified natural origin, (...</td>\n",
       "      <td>cast iron milling, average</td>\n",
       "      <td>cast iron removed by milling, average</td>\n",
       "      <td>RoW</td>\n",
       "      <td>1.305994e-13</td>\n",
       "      <td>28.180497</td>\n",
       "      <td>3.680357e-12</td>\n",
       "    </tr>\n",
       "    <tr>\n",
       "      <th>3</th>\n",
       "      <td>(Water, cooling, unspecified natural origin, (...</td>\n",
       "      <td>electricity production, oil</td>\n",
       "      <td>electricity, high voltage</td>\n",
       "      <td>CA-PE</td>\n",
       "      <td>1.992256e-10</td>\n",
       "      <td>1.713382</td>\n",
       "      <td>3.413496e-10</td>\n",
       "    </tr>\n",
       "    <tr>\n",
       "      <th>4</th>\n",
       "      <td>(Water, cooling, unspecified natural origin, (...</td>\n",
       "      <td>polypropylene production, granulate</td>\n",
       "      <td>polypropylene, granulate</td>\n",
       "      <td>RER</td>\n",
       "      <td>7.043196e-09</td>\n",
       "      <td>17.328016</td>\n",
       "      <td>1.220446e-07</td>\n",
       "    </tr>\n",
       "  </tbody>\n",
       "</table>\n",
       "</div>"
      ]
     },
     "execution_count": 10,
     "metadata": {},
     "output_type": "execute_result"
    }
   ],
   "execution_count": 10
  },
  {
   "metadata": {},
   "cell_type": "code",
   "outputs": [],
   "execution_count": null,
   "source": ""
  }
 ],
 "metadata": {
  "kernelspec": {
   "display_name": "Python 3 (ipykernel)",
   "language": "python",
   "name": "python3"
  },
  "language_info": {
   "codemirror_mode": {
    "name": "ipython",
    "version": 3
   },
   "file_extension": ".py",
   "mimetype": "text/x-python",
   "name": "python",
   "nbconvert_exporter": "python",
   "pygments_lexer": "ipython3",
   "version": "3.11.8"
  }
 },
 "nbformat": 4,
 "nbformat_minor": 4
}

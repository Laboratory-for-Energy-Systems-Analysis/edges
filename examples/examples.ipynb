{
 "cells": [
  {
   "cell_type": "markdown",
   "metadata": {},
   "source": [
    "# Use examples of [edges](https://github.com/romainsacchi/edges)\n",
    "\n",
    "Author: [romainsacchi](https://github.com/romainsacchi)\n",
    "\n",
    "This notebook shows examples on how to use `edge` to use location-specific\n",
    "characterization factors in the characterization matrix of `bw2calc`.\n",
    "\n",
    "## Requirements\n",
    "\n",
    "* **Pyhton 3.10 or higher (up to 3.11) is highly recommended**\n",
    "* `bw2calc >= 2.0.0`"
   ]
  },
  {
   "cell_type": "markdown",
   "metadata": {},
   "source": [
    "# Use case with [brightway2](https://brightway.dev/)\n",
    "\n",
    "`brightway2` is an open source LCA framework for Python.\n",
    "To use `premise` from `brightway2`, it requires that you have an activated `brightway2` project with a `biosphere3` database as well as an [ecoinvent](https://ecoinvent.prg) v.3 cut-off or consequential database registered in that project. Please refer to the brightway [documentation](https://brightway.dev) if you do not know how to create a project and install ecoinvent."
   ]
  },
  {
   "cell_type": "code",
   "metadata": {
    "ExecuteTime": {
     "end_time": "2024-12-13T17:34:53.296323Z",
     "start_time": "2024-12-13T17:34:52.176889Z"
    }
   },
   "source": [
    "from edges import SpatialLCA, get_available_methods\n",
    "import bw2data"
   ],
   "outputs": [],
   "execution_count": 1
  },
  {
   "cell_type": "markdown",
   "metadata": {},
   "source": "### List of available methods\n"
  },
  {
   "metadata": {
    "ExecuteTime": {
     "end_time": "2024-12-13T17:34:56.734950Z",
     "start_time": "2024-12-13T17:34:56.728191Z"
    }
   },
   "cell_type": "code",
   "source": "get_available_methods()",
   "outputs": [
    {
     "data": {
      "text/plain": [
       "[('AWARE 1.2c', 'Country', 'irri', 'apr'),\n",
       " ('AWARE 1.2c', 'Country', 'irri', 'aug'),\n",
       " ('AWARE 1.2c', 'Country', 'irri', 'dec'),\n",
       " ('AWARE 1.2c', 'Country', 'irri', 'feb'),\n",
       " ('AWARE 1.2c', 'Country', 'irri', 'jan'),\n",
       " ('AWARE 1.2c', 'Country', 'irri', 'jul'),\n",
       " ('AWARE 1.2c', 'Country', 'irri', 'jun'),\n",
       " ('AWARE 1.2c', 'Country', 'irri', 'mar'),\n",
       " ('AWARE 1.2c', 'Country', 'irri', 'may'),\n",
       " ('AWARE 1.2c', 'Country', 'irri', 'nov'),\n",
       " ('AWARE 1.2c', 'Country', 'irri', 'oct'),\n",
       " ('AWARE 1.2c', 'Country', 'irri', 'sep'),\n",
       " ('AWARE 1.2c', 'Country', 'irri', 'yearly'),\n",
       " ('AWARE 1.2c', 'Country', 'non', 'irri', 'apr'),\n",
       " ('AWARE 1.2c', 'Country', 'non', 'irri', 'aug'),\n",
       " ('AWARE 1.2c', 'Country', 'non', 'irri', 'dec'),\n",
       " ('AWARE 1.2c', 'Country', 'non', 'irri', 'feb'),\n",
       " ('AWARE 1.2c', 'Country', 'non', 'irri', 'jan'),\n",
       " ('AWARE 1.2c', 'Country', 'non', 'irri', 'jul'),\n",
       " ('AWARE 1.2c', 'Country', 'non', 'irri', 'jun'),\n",
       " ('AWARE 1.2c', 'Country', 'non', 'irri', 'mar'),\n",
       " ('AWARE 1.2c', 'Country', 'non', 'irri', 'may'),\n",
       " ('AWARE 1.2c', 'Country', 'non', 'irri', 'nov'),\n",
       " ('AWARE 1.2c', 'Country', 'non', 'irri', 'oct'),\n",
       " ('AWARE 1.2c', 'Country', 'non', 'irri', 'sep'),\n",
       " ('AWARE 1.2c', 'Country', 'non', 'irri', 'yearly'),\n",
       " ('AWARE 1.2c', 'Country', 'unspecified', 'apr'),\n",
       " ('AWARE 1.2c', 'Country', 'unspecified', 'aug'),\n",
       " ('AWARE 1.2c', 'Country', 'unspecified', 'dec'),\n",
       " ('AWARE 1.2c', 'Country', 'unspecified', 'feb'),\n",
       " ('AWARE 1.2c', 'Country', 'unspecified', 'jan'),\n",
       " ('AWARE 1.2c', 'Country', 'unspecified', 'jul'),\n",
       " ('AWARE 1.2c', 'Country', 'unspecified', 'jun'),\n",
       " ('AWARE 1.2c', 'Country', 'unspecified', 'mar'),\n",
       " ('AWARE 1.2c', 'Country', 'unspecified', 'may'),\n",
       " ('AWARE 1.2c', 'Country', 'unspecified', 'nov'),\n",
       " ('AWARE 1.2c', 'Country', 'unspecified', 'oct'),\n",
       " ('AWARE 1.2c', 'Country', 'unspecified', 'sep'),\n",
       " ('AWARE 1.2c', 'Country', 'unspecified', 'yearly')]"
      ]
     },
     "execution_count": 2,
     "metadata": {},
     "output_type": "execute_result"
    }
   ],
   "execution_count": 2
  },
  {
   "metadata": {},
   "cell_type": "markdown",
   "source": [
    "### Spatialized LCIA\n",
    "\n",
    "The `SpatialLCA` class is a subclass of `bw2calc.LCA` that allows for the use of location-specific characterization factors in the characterization matrix of `bw2calc`. `SpatialLCA`can therefore be used as a drop-in replacement for `bw2calc.LCA` in most cases."
   ]
  },
  {
   "metadata": {
    "ExecuteTime": {
     "end_time": "2024-12-13T17:36:26.445344Z",
     "start_time": "2024-12-13T17:36:26.431736Z"
    }
   },
   "cell_type": "code",
   "source": [
    "# activate the bw project\n",
    "bw2data.projects.set_current(\"bw25_ei310\")"
   ],
   "outputs": [],
   "execution_count": 3
  },
  {
   "cell_type": "code",
   "metadata": {
    "ExecuteTime": {
     "end_time": "2024-12-13T17:36:27.322528Z",
     "start_time": "2024-12-13T17:36:27.306078Z"
    }
   },
   "source": [
    "act = bw2data.Database(\"ecoinvent-3.10-cutoff\").random()\n",
    "act"
   ],
   "outputs": [
    {
     "data": {
      "text/plain": [
       "'electricity, high voltage, import from US-MRO' (kilowatt hour, CA-SK, None)"
      ]
     },
     "execution_count": 4,
     "metadata": {},
     "output_type": "execute_result"
    }
   ],
   "execution_count": 4
  },
  {
   "metadata": {
    "ExecuteTime": {
     "end_time": "2024-12-13T17:36:29.090126Z",
     "start_time": "2024-12-13T17:36:29.086261Z"
    }
   },
   "cell_type": "code",
   "source": "method = ('AWARE 1.2c', 'Country', 'unspecified', 'yearly')",
   "outputs": [],
   "execution_count": 5
  },
  {
   "metadata": {
    "ExecuteTime": {
     "end_time": "2024-12-13T17:36:35.661739Z",
     "start_time": "2024-12-13T17:36:29.878637Z"
    }
   },
   "cell_type": "code",
   "source": [
    "LCA = SpatialLCA({act: 1}, method)\n",
    "LCA.lci()\n",
    "LCA.lcia()\n",
    "LCA.score"
   ],
   "outputs": [
    {
     "name": "stderr",
     "output_type": "stream",
     "text": [
      "/Users/romain/anaconda3/envs/bw25/lib/python3.11/site-packages/scikits/umfpack/umfpack.py:736: UmfpackWarning: (almost) singular matrix! (estimated cond. number: 1.21e+13)\n",
      "  warnings.warn(msg, UmfpackWarning)\n"
     ]
    },
    {
     "data": {
      "text/plain": [
       "0.10860511854635746"
      ]
     },
     "execution_count": 6,
     "metadata": {},
     "output_type": "execute_result"
    }
   ],
   "execution_count": 6
  },
  {
   "metadata": {},
   "cell_type": "code",
   "outputs": [],
   "execution_count": null,
   "source": [
    "# let's check locations that have been ignored, if any\n",
    "LCA.ignored_locations"
   ]
  },
  {
   "cell_type": "markdown",
   "metadata": {},
   "source": "### Generate dataframe of characterization factors used"
  },
  {
   "metadata": {
    "ExecuteTime": {
     "end_time": "2024-12-13T17:36:54.854877Z",
     "start_time": "2024-12-13T17:36:52.509769Z"
    }
   },
   "cell_type": "code",
   "source": "df = LCA.generate_cf_table()",
   "outputs": [],
   "execution_count": 8
  },
  {
   "metadata": {
    "ExecuteTime": {
     "end_time": "2024-12-13T17:36:59.379679Z",
     "start_time": "2024-12-13T17:36:59.366406Z"
    }
   },
   "cell_type": "code",
   "source": [
    "# we can see under the \"CF\" column\n",
    "# the characterization factors used for each exchange in the system\n",
    "df.head()"
   ],
   "outputs": [
    {
     "data": {
      "text/plain": [
       "                                                flow  \\\n",
       "0  (Water, cooling, unspecified natural origin, (...   \n",
       "1  (Water, cooling, unspecified natural origin, (...   \n",
       "2  (Water, cooling, unspecified natural origin, (...   \n",
       "3  (Water, cooling, unspecified natural origin, (...   \n",
       "4  (Water, cooling, unspecified natural origin, (...   \n",
       "\n",
       "                                  name                      reference product  \\\n",
       "0                 cast iron production                              cast iron   \n",
       "1  polystyrene production, high impact               polystyrene, high impact   \n",
       "2           cast iron milling, average  cast iron removed by milling, average   \n",
       "3          electricity production, oil              electricity, high voltage   \n",
       "4  polypropylene production, granulate               polypropylene, granulate   \n",
       "\n",
       "  location        amount         CF        impact  \n",
       "0      RoW  6.288335e-07  28.180497  1.772084e-05  \n",
       "1      RER  1.138145e-09  17.328016  1.972179e-08  \n",
       "2      RoW  1.305994e-13  28.180497  3.680357e-12  \n",
       "3    CA-PE  1.992256e-10   1.713382  3.413496e-10  \n",
       "4      RER  7.043196e-09  17.328016  1.220446e-07  "
      ],
      "text/html": [
       "<div>\n",
       "<style scoped>\n",
       "    .dataframe tbody tr th:only-of-type {\n",
       "        vertical-align: middle;\n",
       "    }\n",
       "\n",
       "    .dataframe tbody tr th {\n",
       "        vertical-align: top;\n",
       "    }\n",
       "\n",
       "    .dataframe thead th {\n",
       "        text-align: right;\n",
       "    }\n",
       "</style>\n",
       "<table border=\"1\" class=\"dataframe\">\n",
       "  <thead>\n",
       "    <tr style=\"text-align: right;\">\n",
       "      <th></th>\n",
       "      <th>flow</th>\n",
       "      <th>name</th>\n",
       "      <th>reference product</th>\n",
       "      <th>location</th>\n",
       "      <th>amount</th>\n",
       "      <th>CF</th>\n",
       "      <th>impact</th>\n",
       "    </tr>\n",
       "  </thead>\n",
       "  <tbody>\n",
       "    <tr>\n",
       "      <th>0</th>\n",
       "      <td>(Water, cooling, unspecified natural origin, (...</td>\n",
       "      <td>cast iron production</td>\n",
       "      <td>cast iron</td>\n",
       "      <td>RoW</td>\n",
       "      <td>6.288335e-07</td>\n",
       "      <td>28.180497</td>\n",
       "      <td>1.772084e-05</td>\n",
       "    </tr>\n",
       "    <tr>\n",
       "      <th>1</th>\n",
       "      <td>(Water, cooling, unspecified natural origin, (...</td>\n",
       "      <td>polystyrene production, high impact</td>\n",
       "      <td>polystyrene, high impact</td>\n",
       "      <td>RER</td>\n",
       "      <td>1.138145e-09</td>\n",
       "      <td>17.328016</td>\n",
       "      <td>1.972179e-08</td>\n",
       "    </tr>\n",
       "    <tr>\n",
       "      <th>2</th>\n",
       "      <td>(Water, cooling, unspecified natural origin, (...</td>\n",
       "      <td>cast iron milling, average</td>\n",
       "      <td>cast iron removed by milling, average</td>\n",
       "      <td>RoW</td>\n",
       "      <td>1.305994e-13</td>\n",
       "      <td>28.180497</td>\n",
       "      <td>3.680357e-12</td>\n",
       "    </tr>\n",
       "    <tr>\n",
       "      <th>3</th>\n",
       "      <td>(Water, cooling, unspecified natural origin, (...</td>\n",
       "      <td>electricity production, oil</td>\n",
       "      <td>electricity, high voltage</td>\n",
       "      <td>CA-PE</td>\n",
       "      <td>1.992256e-10</td>\n",
       "      <td>1.713382</td>\n",
       "      <td>3.413496e-10</td>\n",
       "    </tr>\n",
       "    <tr>\n",
       "      <th>4</th>\n",
       "      <td>(Water, cooling, unspecified natural origin, (...</td>\n",
       "      <td>polypropylene production, granulate</td>\n",
       "      <td>polypropylene, granulate</td>\n",
       "      <td>RER</td>\n",
       "      <td>7.043196e-09</td>\n",
       "      <td>17.328016</td>\n",
       "      <td>1.220446e-07</td>\n",
       "    </tr>\n",
       "  </tbody>\n",
       "</table>\n",
       "</div>"
      ]
     },
     "execution_count": 10,
     "metadata": {},
     "output_type": "execute_result"
    }
   ],
   "execution_count": 10
  },
  {
   "metadata": {
    "ExecuteTime": {
     "end_time": "2024-12-13T18:06:29.279789Z",
     "start_time": "2024-12-13T18:06:29.275889Z"
    }
   },
   "cell_type": "code",
   "source": [
    "locs = {\n",
    "    \"Auvergne-Rhône-Alpes\": \"FR-ARA\",\n",
    "    \"Nouvelle-Aquitaine\": \"FR-NA\",\n",
    "    \"Occitanie\": \"FR-OC\",\n",
    "    \"Pays de la Loire\": \"FR-PL\",\n",
    "    \"Provence-Alpes-Côte d'Azur\": \"FR-PACA\",\n",
    "    \"Bourgogne-Franche-Comté\": \"FR-BFC\",\n",
    "    \"Bretagne\": \"FR-BR\",\n",
    "    \"Centre-Val de Loire\": \"FR-CVL\",\n",
    "    \"Corse\": \"FR-CO\",\n",
    "    \"Grand Est\": \"FR-GE\",\n",
    "    \"Hauts-de-France\": \"FR-HF\",\n",
    "    \"Île-de-France\": \"FR-IL\",\n",
    "    \"Normandie\": \"FR-NO\"\n",
    "}"
   ],
   "outputs": [],
   "execution_count": 40
  },
  {
   "metadata": {
    "ExecuteTime": {
     "end_time": "2024-12-13T18:01:08.692296Z",
     "start_time": "2024-12-13T18:01:08.686090Z"
    }
   },
   "cell_type": "code",
   "source": [
    "lci = {\n",
    "    (\"h2\", f\"hydrogen production, from electrolysis {loc}\"): {\n",
    "        \"name\": \"hydrogen production, from electrolysis\",\n",
    "        \"reference product\": \"hydrogen\",\n",
    "        \"location\": loc,\n",
    "        \"unit\": \"kilogram\",\n",
    "        \"exchanges\": [\n",
    "            {\n",
    "                \"name\": \"hydrogen production, from electrolysis\",\n",
    "                \"reference product\": \"hydrogen\",\n",
    "                \"unit\": \"kilogram\",\n",
    "                \"amount\": 1,\n",
    "                \"location\": loc,\n",
    "                \"type\": \"production\",\n",
    "                \"input\": (\"h2\", f\"hydrogen production, from electrolysis {loc}\"),\n",
    "            },\n",
    "            {\n",
    "                \"name\": \"market for electricity, low voltage\",\n",
    "                \"reference product\": \"electricity, low voltage\",\n",
    "                \"unit\": \"kilowatt hour\",\n",
    "                \"amount\": 55,\n",
    "                \"location\": \"FR\",\n",
    "                \"type\": \"technosphere\",\n",
    "                \"input\": ('ecoinvent-3.10-cutoff', '5cb40f535b77005c743a5871a5ef0d2d'),\n",
    "            },\n",
    "            {\n",
    "                \"name\": \"fuel cell production, polymer electrolyte membrane, 2kW electrical, future\", # I do not have an electrolyzer dataset at hand!\n",
    "                \"reference product\": \"fuel cell, polymer electrolyte membrane, 2kW electrical, future\",\n",
    "                \"unit\": \"unit\",\n",
    "                \"amount\": 1 / 1e6,\n",
    "                \"location\": \"CH\",\n",
    "                \"type\": \"technosphere\",\n",
    "                \"input\": ('ecoinvent-3.10-cutoff', '7a473524208226b7397afe6f3193ca95')\n",
    "            },\n",
    "            {\n",
    "                \"name\": \"Water, well, in ground\",\n",
    "                \"categories\": (\"natural resource\", \"water\"),\n",
    "                \"unit\": \"cubic meter\",\n",
    "                \"amount\": 12 / 1000, # 12l per kg of hydrogen\n",
    "                \"type\": \"biosphere\",\n",
    "                \"input\": ('biosphere', '67c40aae-d403-464d-9649-c12695e43ad8')\n",
    "            }\n",
    "\n",
    "        ],\n",
    "    } for loc in locs.values()\n",
    "}"
   ],
   "outputs": [],
   "execution_count": 33
  },
  {
   "metadata": {
    "ExecuteTime": {
     "end_time": "2024-12-13T18:01:10.160937Z",
     "start_time": "2024-12-13T18:01:10.150730Z"
    }
   },
   "cell_type": "code",
   "source": "lci",
   "outputs": [
    {
     "data": {
      "text/plain": [
       "{('h2',\n",
       "  'hydrogen production, from electrolysis FR-ARA'): {'name': 'hydrogen production, from electrolysis', 'reference product': 'hydrogen', 'location': 'FR-ARA', 'unit': 'kilogram', 'exchanges': [{'name': 'hydrogen production, from electrolysis',\n",
       "    'reference product': 'hydrogen',\n",
       "    'unit': 'kilogram',\n",
       "    'amount': 1,\n",
       "    'location': 'FR-ARA',\n",
       "    'type': 'production',\n",
       "    'input': ('h2', 'hydrogen production, from electrolysis FR-ARA')},\n",
       "   {'name': 'market for electricity, low voltage',\n",
       "    'reference product': 'electricity, low voltage',\n",
       "    'unit': 'kilowatt hour',\n",
       "    'amount': 55,\n",
       "    'location': 'FR',\n",
       "    'type': 'technosphere',\n",
       "    'input': ('ecoinvent-3.10-cutoff', '5cb40f535b77005c743a5871a5ef0d2d')},\n",
       "   {'name': 'fuel cell production, polymer electrolyte membrane, 2kW electrical, future',\n",
       "    'reference product': 'fuel cell, polymer electrolyte membrane, 2kW electrical, future',\n",
       "    'unit': 'unit',\n",
       "    'amount': 1e-06,\n",
       "    'location': 'CH',\n",
       "    'type': 'technosphere',\n",
       "    'input': ('ecoinvent-3.10-cutoff', '7a473524208226b7397afe6f3193ca95')},\n",
       "   {'name': 'Water, well, in ground',\n",
       "    'categories': ('natural resource', 'water'),\n",
       "    'unit': 'cubic meter',\n",
       "    'amount': 0.012,\n",
       "    'type': 'biosphere',\n",
       "    'input': ('biosphere', '67c40aae-d403-464d-9649-c12695e43ad8')}]},\n",
       " ('h2',\n",
       "  'hydrogen production, from electrolysis FR-NA'): {'name': 'hydrogen production, from electrolysis', 'reference product': 'hydrogen', 'location': 'FR-NA', 'unit': 'kilogram', 'exchanges': [{'name': 'hydrogen production, from electrolysis',\n",
       "    'reference product': 'hydrogen',\n",
       "    'unit': 'kilogram',\n",
       "    'amount': 1,\n",
       "    'location': 'FR-NA',\n",
       "    'type': 'production',\n",
       "    'input': ('h2', 'hydrogen production, from electrolysis FR-NA')},\n",
       "   {'name': 'market for electricity, low voltage',\n",
       "    'reference product': 'electricity, low voltage',\n",
       "    'unit': 'kilowatt hour',\n",
       "    'amount': 55,\n",
       "    'location': 'FR',\n",
       "    'type': 'technosphere',\n",
       "    'input': ('ecoinvent-3.10-cutoff', '5cb40f535b77005c743a5871a5ef0d2d')},\n",
       "   {'name': 'fuel cell production, polymer electrolyte membrane, 2kW electrical, future',\n",
       "    'reference product': 'fuel cell, polymer electrolyte membrane, 2kW electrical, future',\n",
       "    'unit': 'unit',\n",
       "    'amount': 1e-06,\n",
       "    'location': 'CH',\n",
       "    'type': 'technosphere',\n",
       "    'input': ('ecoinvent-3.10-cutoff', '7a473524208226b7397afe6f3193ca95')},\n",
       "   {'name': 'Water, well, in ground',\n",
       "    'categories': ('natural resource', 'water'),\n",
       "    'unit': 'cubic meter',\n",
       "    'amount': 0.012,\n",
       "    'type': 'biosphere',\n",
       "    'input': ('biosphere', '67c40aae-d403-464d-9649-c12695e43ad8')}]},\n",
       " ('h2',\n",
       "  'hydrogen production, from electrolysis FR-OC'): {'name': 'hydrogen production, from electrolysis', 'reference product': 'hydrogen', 'location': 'FR-OC', 'unit': 'kilogram', 'exchanges': [{'name': 'hydrogen production, from electrolysis',\n",
       "    'reference product': 'hydrogen',\n",
       "    'unit': 'kilogram',\n",
       "    'amount': 1,\n",
       "    'location': 'FR-OC',\n",
       "    'type': 'production',\n",
       "    'input': ('h2', 'hydrogen production, from electrolysis FR-OC')},\n",
       "   {'name': 'market for electricity, low voltage',\n",
       "    'reference product': 'electricity, low voltage',\n",
       "    'unit': 'kilowatt hour',\n",
       "    'amount': 55,\n",
       "    'location': 'FR',\n",
       "    'type': 'technosphere',\n",
       "    'input': ('ecoinvent-3.10-cutoff', '5cb40f535b77005c743a5871a5ef0d2d')},\n",
       "   {'name': 'fuel cell production, polymer electrolyte membrane, 2kW electrical, future',\n",
       "    'reference product': 'fuel cell, polymer electrolyte membrane, 2kW electrical, future',\n",
       "    'unit': 'unit',\n",
       "    'amount': 1e-06,\n",
       "    'location': 'CH',\n",
       "    'type': 'technosphere',\n",
       "    'input': ('ecoinvent-3.10-cutoff', '7a473524208226b7397afe6f3193ca95')},\n",
       "   {'name': 'Water, well, in ground',\n",
       "    'categories': ('natural resource', 'water'),\n",
       "    'unit': 'cubic meter',\n",
       "    'amount': 0.012,\n",
       "    'type': 'biosphere',\n",
       "    'input': ('biosphere', '67c40aae-d403-464d-9649-c12695e43ad8')}]},\n",
       " ('h2',\n",
       "  'hydrogen production, from electrolysis FR-PL'): {'name': 'hydrogen production, from electrolysis', 'reference product': 'hydrogen', 'location': 'FR-PL', 'unit': 'kilogram', 'exchanges': [{'name': 'hydrogen production, from electrolysis',\n",
       "    'reference product': 'hydrogen',\n",
       "    'unit': 'kilogram',\n",
       "    'amount': 1,\n",
       "    'location': 'FR-PL',\n",
       "    'type': 'production',\n",
       "    'input': ('h2', 'hydrogen production, from electrolysis FR-PL')},\n",
       "   {'name': 'market for electricity, low voltage',\n",
       "    'reference product': 'electricity, low voltage',\n",
       "    'unit': 'kilowatt hour',\n",
       "    'amount': 55,\n",
       "    'location': 'FR',\n",
       "    'type': 'technosphere',\n",
       "    'input': ('ecoinvent-3.10-cutoff', '5cb40f535b77005c743a5871a5ef0d2d')},\n",
       "   {'name': 'fuel cell production, polymer electrolyte membrane, 2kW electrical, future',\n",
       "    'reference product': 'fuel cell, polymer electrolyte membrane, 2kW electrical, future',\n",
       "    'unit': 'unit',\n",
       "    'amount': 1e-06,\n",
       "    'location': 'CH',\n",
       "    'type': 'technosphere',\n",
       "    'input': ('ecoinvent-3.10-cutoff', '7a473524208226b7397afe6f3193ca95')},\n",
       "   {'name': 'Water, well, in ground',\n",
       "    'categories': ('natural resource', 'water'),\n",
       "    'unit': 'cubic meter',\n",
       "    'amount': 0.012,\n",
       "    'type': 'biosphere',\n",
       "    'input': ('biosphere', '67c40aae-d403-464d-9649-c12695e43ad8')}]},\n",
       " ('h2',\n",
       "  'hydrogen production, from electrolysis FR-PACA'): {'name': 'hydrogen production, from electrolysis', 'reference product': 'hydrogen', 'location': 'FR-PACA', 'unit': 'kilogram', 'exchanges': [{'name': 'hydrogen production, from electrolysis',\n",
       "    'reference product': 'hydrogen',\n",
       "    'unit': 'kilogram',\n",
       "    'amount': 1,\n",
       "    'location': 'FR-PACA',\n",
       "    'type': 'production',\n",
       "    'input': ('h2', 'hydrogen production, from electrolysis FR-PACA')},\n",
       "   {'name': 'market for electricity, low voltage',\n",
       "    'reference product': 'electricity, low voltage',\n",
       "    'unit': 'kilowatt hour',\n",
       "    'amount': 55,\n",
       "    'location': 'FR',\n",
       "    'type': 'technosphere',\n",
       "    'input': ('ecoinvent-3.10-cutoff', '5cb40f535b77005c743a5871a5ef0d2d')},\n",
       "   {'name': 'fuel cell production, polymer electrolyte membrane, 2kW electrical, future',\n",
       "    'reference product': 'fuel cell, polymer electrolyte membrane, 2kW electrical, future',\n",
       "    'unit': 'unit',\n",
       "    'amount': 1e-06,\n",
       "    'location': 'CH',\n",
       "    'type': 'technosphere',\n",
       "    'input': ('ecoinvent-3.10-cutoff', '7a473524208226b7397afe6f3193ca95')},\n",
       "   {'name': 'Water, well, in ground',\n",
       "    'categories': ('natural resource', 'water'),\n",
       "    'unit': 'cubic meter',\n",
       "    'amount': 0.012,\n",
       "    'type': 'biosphere',\n",
       "    'input': ('biosphere', '67c40aae-d403-464d-9649-c12695e43ad8')}]},\n",
       " ('h2',\n",
       "  'hydrogen production, from electrolysis FR-BFC'): {'name': 'hydrogen production, from electrolysis', 'reference product': 'hydrogen', 'location': 'FR-BFC', 'unit': 'kilogram', 'exchanges': [{'name': 'hydrogen production, from electrolysis',\n",
       "    'reference product': 'hydrogen',\n",
       "    'unit': 'kilogram',\n",
       "    'amount': 1,\n",
       "    'location': 'FR-BFC',\n",
       "    'type': 'production',\n",
       "    'input': ('h2', 'hydrogen production, from electrolysis FR-BFC')},\n",
       "   {'name': 'market for electricity, low voltage',\n",
       "    'reference product': 'electricity, low voltage',\n",
       "    'unit': 'kilowatt hour',\n",
       "    'amount': 55,\n",
       "    'location': 'FR',\n",
       "    'type': 'technosphere',\n",
       "    'input': ('ecoinvent-3.10-cutoff', '5cb40f535b77005c743a5871a5ef0d2d')},\n",
       "   {'name': 'fuel cell production, polymer electrolyte membrane, 2kW electrical, future',\n",
       "    'reference product': 'fuel cell, polymer electrolyte membrane, 2kW electrical, future',\n",
       "    'unit': 'unit',\n",
       "    'amount': 1e-06,\n",
       "    'location': 'CH',\n",
       "    'type': 'technosphere',\n",
       "    'input': ('ecoinvent-3.10-cutoff', '7a473524208226b7397afe6f3193ca95')},\n",
       "   {'name': 'Water, well, in ground',\n",
       "    'categories': ('natural resource', 'water'),\n",
       "    'unit': 'cubic meter',\n",
       "    'amount': 0.012,\n",
       "    'type': 'biosphere',\n",
       "    'input': ('biosphere', '67c40aae-d403-464d-9649-c12695e43ad8')}]},\n",
       " ('h2',\n",
       "  'hydrogen production, from electrolysis FR-BR'): {'name': 'hydrogen production, from electrolysis', 'reference product': 'hydrogen', 'location': 'FR-BR', 'unit': 'kilogram', 'exchanges': [{'name': 'hydrogen production, from electrolysis',\n",
       "    'reference product': 'hydrogen',\n",
       "    'unit': 'kilogram',\n",
       "    'amount': 1,\n",
       "    'location': 'FR-BR',\n",
       "    'type': 'production',\n",
       "    'input': ('h2', 'hydrogen production, from electrolysis FR-BR')},\n",
       "   {'name': 'market for electricity, low voltage',\n",
       "    'reference product': 'electricity, low voltage',\n",
       "    'unit': 'kilowatt hour',\n",
       "    'amount': 55,\n",
       "    'location': 'FR',\n",
       "    'type': 'technosphere',\n",
       "    'input': ('ecoinvent-3.10-cutoff', '5cb40f535b77005c743a5871a5ef0d2d')},\n",
       "   {'name': 'fuel cell production, polymer electrolyte membrane, 2kW electrical, future',\n",
       "    'reference product': 'fuel cell, polymer electrolyte membrane, 2kW electrical, future',\n",
       "    'unit': 'unit',\n",
       "    'amount': 1e-06,\n",
       "    'location': 'CH',\n",
       "    'type': 'technosphere',\n",
       "    'input': ('ecoinvent-3.10-cutoff', '7a473524208226b7397afe6f3193ca95')},\n",
       "   {'name': 'Water, well, in ground',\n",
       "    'categories': ('natural resource', 'water'),\n",
       "    'unit': 'cubic meter',\n",
       "    'amount': 0.012,\n",
       "    'type': 'biosphere',\n",
       "    'input': ('biosphere', '67c40aae-d403-464d-9649-c12695e43ad8')}]},\n",
       " ('h2',\n",
       "  'hydrogen production, from electrolysis FR-CVL'): {'name': 'hydrogen production, from electrolysis', 'reference product': 'hydrogen', 'location': 'FR-CVL', 'unit': 'kilogram', 'exchanges': [{'name': 'hydrogen production, from electrolysis',\n",
       "    'reference product': 'hydrogen',\n",
       "    'unit': 'kilogram',\n",
       "    'amount': 1,\n",
       "    'location': 'FR-CVL',\n",
       "    'type': 'production',\n",
       "    'input': ('h2', 'hydrogen production, from electrolysis FR-CVL')},\n",
       "   {'name': 'market for electricity, low voltage',\n",
       "    'reference product': 'electricity, low voltage',\n",
       "    'unit': 'kilowatt hour',\n",
       "    'amount': 55,\n",
       "    'location': 'FR',\n",
       "    'type': 'technosphere',\n",
       "    'input': ('ecoinvent-3.10-cutoff', '5cb40f535b77005c743a5871a5ef0d2d')},\n",
       "   {'name': 'fuel cell production, polymer electrolyte membrane, 2kW electrical, future',\n",
       "    'reference product': 'fuel cell, polymer electrolyte membrane, 2kW electrical, future',\n",
       "    'unit': 'unit',\n",
       "    'amount': 1e-06,\n",
       "    'location': 'CH',\n",
       "    'type': 'technosphere',\n",
       "    'input': ('ecoinvent-3.10-cutoff', '7a473524208226b7397afe6f3193ca95')},\n",
       "   {'name': 'Water, well, in ground',\n",
       "    'categories': ('natural resource', 'water'),\n",
       "    'unit': 'cubic meter',\n",
       "    'amount': 0.012,\n",
       "    'type': 'biosphere',\n",
       "    'input': ('biosphere', '67c40aae-d403-464d-9649-c12695e43ad8')}]},\n",
       " ('h2',\n",
       "  'hydrogen production, from electrolysis FR-CO'): {'name': 'hydrogen production, from electrolysis', 'reference product': 'hydrogen', 'location': 'FR-CO', 'unit': 'kilogram', 'exchanges': [{'name': 'hydrogen production, from electrolysis',\n",
       "    'reference product': 'hydrogen',\n",
       "    'unit': 'kilogram',\n",
       "    'amount': 1,\n",
       "    'location': 'FR-CO',\n",
       "    'type': 'production',\n",
       "    'input': ('h2', 'hydrogen production, from electrolysis FR-CO')},\n",
       "   {'name': 'market for electricity, low voltage',\n",
       "    'reference product': 'electricity, low voltage',\n",
       "    'unit': 'kilowatt hour',\n",
       "    'amount': 55,\n",
       "    'location': 'FR',\n",
       "    'type': 'technosphere',\n",
       "    'input': ('ecoinvent-3.10-cutoff', '5cb40f535b77005c743a5871a5ef0d2d')},\n",
       "   {'name': 'fuel cell production, polymer electrolyte membrane, 2kW electrical, future',\n",
       "    'reference product': 'fuel cell, polymer electrolyte membrane, 2kW electrical, future',\n",
       "    'unit': 'unit',\n",
       "    'amount': 1e-06,\n",
       "    'location': 'CH',\n",
       "    'type': 'technosphere',\n",
       "    'input': ('ecoinvent-3.10-cutoff', '7a473524208226b7397afe6f3193ca95')},\n",
       "   {'name': 'Water, well, in ground',\n",
       "    'categories': ('natural resource', 'water'),\n",
       "    'unit': 'cubic meter',\n",
       "    'amount': 0.012,\n",
       "    'type': 'biosphere',\n",
       "    'input': ('biosphere', '67c40aae-d403-464d-9649-c12695e43ad8')}]},\n",
       " ('h2',\n",
       "  'hydrogen production, from electrolysis FR-GE'): {'name': 'hydrogen production, from electrolysis', 'reference product': 'hydrogen', 'location': 'FR-GE', 'unit': 'kilogram', 'exchanges': [{'name': 'hydrogen production, from electrolysis',\n",
       "    'reference product': 'hydrogen',\n",
       "    'unit': 'kilogram',\n",
       "    'amount': 1,\n",
       "    'location': 'FR-GE',\n",
       "    'type': 'production',\n",
       "    'input': ('h2', 'hydrogen production, from electrolysis FR-GE')},\n",
       "   {'name': 'market for electricity, low voltage',\n",
       "    'reference product': 'electricity, low voltage',\n",
       "    'unit': 'kilowatt hour',\n",
       "    'amount': 55,\n",
       "    'location': 'FR',\n",
       "    'type': 'technosphere',\n",
       "    'input': ('ecoinvent-3.10-cutoff', '5cb40f535b77005c743a5871a5ef0d2d')},\n",
       "   {'name': 'fuel cell production, polymer electrolyte membrane, 2kW electrical, future',\n",
       "    'reference product': 'fuel cell, polymer electrolyte membrane, 2kW electrical, future',\n",
       "    'unit': 'unit',\n",
       "    'amount': 1e-06,\n",
       "    'location': 'CH',\n",
       "    'type': 'technosphere',\n",
       "    'input': ('ecoinvent-3.10-cutoff', '7a473524208226b7397afe6f3193ca95')},\n",
       "   {'name': 'Water, well, in ground',\n",
       "    'categories': ('natural resource', 'water'),\n",
       "    'unit': 'cubic meter',\n",
       "    'amount': 0.012,\n",
       "    'type': 'biosphere',\n",
       "    'input': ('biosphere', '67c40aae-d403-464d-9649-c12695e43ad8')}]},\n",
       " ('h2',\n",
       "  'hydrogen production, from electrolysis FR-HF'): {'name': 'hydrogen production, from electrolysis', 'reference product': 'hydrogen', 'location': 'FR-HF', 'unit': 'kilogram', 'exchanges': [{'name': 'hydrogen production, from electrolysis',\n",
       "    'reference product': 'hydrogen',\n",
       "    'unit': 'kilogram',\n",
       "    'amount': 1,\n",
       "    'location': 'FR-HF',\n",
       "    'type': 'production',\n",
       "    'input': ('h2', 'hydrogen production, from electrolysis FR-HF')},\n",
       "   {'name': 'market for electricity, low voltage',\n",
       "    'reference product': 'electricity, low voltage',\n",
       "    'unit': 'kilowatt hour',\n",
       "    'amount': 55,\n",
       "    'location': 'FR',\n",
       "    'type': 'technosphere',\n",
       "    'input': ('ecoinvent-3.10-cutoff', '5cb40f535b77005c743a5871a5ef0d2d')},\n",
       "   {'name': 'fuel cell production, polymer electrolyte membrane, 2kW electrical, future',\n",
       "    'reference product': 'fuel cell, polymer electrolyte membrane, 2kW electrical, future',\n",
       "    'unit': 'unit',\n",
       "    'amount': 1e-06,\n",
       "    'location': 'CH',\n",
       "    'type': 'technosphere',\n",
       "    'input': ('ecoinvent-3.10-cutoff', '7a473524208226b7397afe6f3193ca95')},\n",
       "   {'name': 'Water, well, in ground',\n",
       "    'categories': ('natural resource', 'water'),\n",
       "    'unit': 'cubic meter',\n",
       "    'amount': 0.012,\n",
       "    'type': 'biosphere',\n",
       "    'input': ('biosphere', '67c40aae-d403-464d-9649-c12695e43ad8')}]},\n",
       " ('h2',\n",
       "  'hydrogen production, from electrolysis FR-IL'): {'name': 'hydrogen production, from electrolysis', 'reference product': 'hydrogen', 'location': 'FR-IL', 'unit': 'kilogram', 'exchanges': [{'name': 'hydrogen production, from electrolysis',\n",
       "    'reference product': 'hydrogen',\n",
       "    'unit': 'kilogram',\n",
       "    'amount': 1,\n",
       "    'location': 'FR-IL',\n",
       "    'type': 'production',\n",
       "    'input': ('h2', 'hydrogen production, from electrolysis FR-IL')},\n",
       "   {'name': 'market for electricity, low voltage',\n",
       "    'reference product': 'electricity, low voltage',\n",
       "    'unit': 'kilowatt hour',\n",
       "    'amount': 55,\n",
       "    'location': 'FR',\n",
       "    'type': 'technosphere',\n",
       "    'input': ('ecoinvent-3.10-cutoff', '5cb40f535b77005c743a5871a5ef0d2d')},\n",
       "   {'name': 'fuel cell production, polymer electrolyte membrane, 2kW electrical, future',\n",
       "    'reference product': 'fuel cell, polymer electrolyte membrane, 2kW electrical, future',\n",
       "    'unit': 'unit',\n",
       "    'amount': 1e-06,\n",
       "    'location': 'CH',\n",
       "    'type': 'technosphere',\n",
       "    'input': ('ecoinvent-3.10-cutoff', '7a473524208226b7397afe6f3193ca95')},\n",
       "   {'name': 'Water, well, in ground',\n",
       "    'categories': ('natural resource', 'water'),\n",
       "    'unit': 'cubic meter',\n",
       "    'amount': 0.012,\n",
       "    'type': 'biosphere',\n",
       "    'input': ('biosphere', '67c40aae-d403-464d-9649-c12695e43ad8')}]},\n",
       " ('h2',\n",
       "  'hydrogen production, from electrolysis FR-NO'): {'name': 'hydrogen production, from electrolysis', 'reference product': 'hydrogen', 'location': 'FR-NO', 'unit': 'kilogram', 'exchanges': [{'name': 'hydrogen production, from electrolysis',\n",
       "    'reference product': 'hydrogen',\n",
       "    'unit': 'kilogram',\n",
       "    'amount': 1,\n",
       "    'location': 'FR-NO',\n",
       "    'type': 'production',\n",
       "    'input': ('h2', 'hydrogen production, from electrolysis FR-NO')},\n",
       "   {'name': 'market for electricity, low voltage',\n",
       "    'reference product': 'electricity, low voltage',\n",
       "    'unit': 'kilowatt hour',\n",
       "    'amount': 55,\n",
       "    'location': 'FR',\n",
       "    'type': 'technosphere',\n",
       "    'input': ('ecoinvent-3.10-cutoff', '5cb40f535b77005c743a5871a5ef0d2d')},\n",
       "   {'name': 'fuel cell production, polymer electrolyte membrane, 2kW electrical, future',\n",
       "    'reference product': 'fuel cell, polymer electrolyte membrane, 2kW electrical, future',\n",
       "    'unit': 'unit',\n",
       "    'amount': 1e-06,\n",
       "    'location': 'CH',\n",
       "    'type': 'technosphere',\n",
       "    'input': ('ecoinvent-3.10-cutoff', '7a473524208226b7397afe6f3193ca95')},\n",
       "   {'name': 'Water, well, in ground',\n",
       "    'categories': ('natural resource', 'water'),\n",
       "    'unit': 'cubic meter',\n",
       "    'amount': 0.012,\n",
       "    'type': 'biosphere',\n",
       "    'input': ('biosphere', '67c40aae-d403-464d-9649-c12695e43ad8')}]}}"
      ]
     },
     "execution_count": 34,
     "metadata": {},
     "output_type": "execute_result"
    }
   ],
   "execution_count": 34
  },
  {
   "metadata": {
    "ExecuteTime": {
     "end_time": "2024-12-13T18:00:54.660723Z",
     "start_time": "2024-12-13T18:00:54.620773Z"
    }
   },
   "cell_type": "code",
   "source": "[act.key for act in bw2data.Database(\"biosphere\") if act[\"name\"] == \"Water, well, in ground\" and act[\"categories\"]]\n",
   "outputs": [
    {
     "data": {
      "text/plain": [
       "[('biosphere', '67c40aae-d403-464d-9649-c12695e43ad8')]"
      ]
     },
     "execution_count": 32,
     "metadata": {},
     "output_type": "execute_result"
    }
   ],
   "execution_count": 32
  },
  {
   "metadata": {
    "ExecuteTime": {
     "end_time": "2024-12-13T18:01:35.245609Z",
     "start_time": "2024-12-13T18:01:28.791692Z"
    }
   },
   "cell_type": "code",
   "source": "bw2data.Database(\"h2\").write(lci)",
   "outputs": [
    {
     "name": "stdout",
     "output_type": "stream",
     "text": [
      "\u001B[2m19:01:28\u001B[0m [\u001B[33m\u001B[1mwarning  \u001B[0m] \u001B[1mNot able to determine geocollections for all datasets. This database is not ready for regionalization.\u001B[0m\n"
     ]
    },
    {
     "name": "stderr",
     "output_type": "stream",
     "text": [
      "100%|██████████| 13/13 [00:00<00:00, 9072.54it/s]"
     ]
    },
    {
     "name": "stdout",
     "output_type": "stream",
     "text": [
      "\u001B[2m19:01:28\u001B[0m [\u001B[32m\u001B[1minfo     \u001B[0m] \u001B[1mVacuuming database            \u001B[0m\n"
     ]
    },
    {
     "name": "stderr",
     "output_type": "stream",
     "text": [
      "\n"
     ]
    }
   ],
   "execution_count": 35
  },
  {
   "metadata": {
    "ExecuteTime": {
     "end_time": "2024-12-13T18:01:41.386218Z",
     "start_time": "2024-12-13T18:01:41.382854Z"
    }
   },
   "cell_type": "code",
   "source": "bw2data.databases",
   "outputs": [
    {
     "data": {
      "text/plain": [
       "Databases dictionary with 4 object(s):\n",
       "\tbiosphere\n",
       "\tecoinvent-3.10-cutoff\n",
       "\th2\n",
       "\thydrogen production"
      ]
     },
     "execution_count": 36,
     "metadata": {},
     "output_type": "execute_result"
    }
   ],
   "execution_count": 36
  },
  {
   "metadata": {
    "ExecuteTime": {
     "end_time": "2024-12-13T18:08:23.988408Z",
     "start_time": "2024-12-13T18:07:07.998860Z"
    }
   },
   "cell_type": "code",
   "source": [
    "for long, short in locs.items():\n",
    "    act = [act for act in bw2data.Database(\"h2\") if act[\"location\"] == short][0]\n",
    "    LCA = SpatialLCA({act: 1}, method)\n",
    "    LCA.lci()\n",
    "    LCA.lcia()\n",
    "    print(f\"Location: {long}, score: {LCA.score}\")\n"
   ],
   "outputs": [
    {
     "name": "stderr",
     "output_type": "stream",
     "text": [
      "/Users/romain/anaconda3/envs/bw25/lib/python3.11/site-packages/scikits/umfpack/umfpack.py:736: UmfpackWarning: (almost) singular matrix! (estimated cond. number: 1.21e+13)\n",
      "  warnings.warn(msg, UmfpackWarning)\n"
     ]
    },
    {
     "name": "stdout",
     "output_type": "stream",
     "text": [
      "Location: Auvergne-Rhône-Alpes, score: 2.0619179340947085\n",
      "Location: Nouvelle-Aquitaine, score: 2.138260028210425\n",
      "Location: Occitanie, score: 2.2240827194323174\n",
      "Location: Pays de la Loire, score: 2.2328988084691446\n",
      "Location: Provence-Alpes-Côte d'Azur, score: 2.082538160997956\n",
      "Location: Bourgogne-Franche-Comté, score: 2.066881737953736\n",
      "Location: Bretagne, score: 2.174215243358958\n",
      "Location: Centre-Val de Loire, score: 2.0902908340972317\n",
      "Location: Corse, score: 2.5936978846452803\n",
      "Location: Grand Est, score: 2.0600159127661755\n",
      "Location: Hauts-de-France, score: 2.0645213910092934\n",
      "Location: Île-de-France, score: 2.0749227122560114\n",
      "Location: Normandie, score: 2.070808196715916\n"
     ]
    }
   ],
   "execution_count": 41
  },
  {
   "metadata": {
    "ExecuteTime": {
     "end_time": "2024-12-13T18:08:26.190840Z",
     "start_time": "2024-12-13T18:08:23.996291Z"
    }
   },
   "cell_type": "code",
   "source": "LCA.generate_cf_table()",
   "outputs": [
    {
     "data": {
      "text/plain": [
       "                                                   flow  \\\n",
       "0     (Water, cooling, unspecified natural origin, (...   \n",
       "1     (Water, cooling, unspecified natural origin, (...   \n",
       "2     (Water, cooling, unspecified natural origin, (...   \n",
       "3     (Water, cooling, unspecified natural origin, (...   \n",
       "4     (Water, cooling, unspecified natural origin, (...   \n",
       "...                                                 ...   \n",
       "8875                    (Water, (water, surface water))   \n",
       "8876                    (Water, (water, surface water))   \n",
       "8877                    (Water, (water, surface water))   \n",
       "8878                    (Water, (water, surface water))   \n",
       "8879                    (Water, (water, surface water))   \n",
       "\n",
       "                                                   name  \\\n",
       "0                                  cast iron production   \n",
       "1                   polystyrene production, high impact   \n",
       "2                            cast iron milling, average   \n",
       "3                           electricity production, oil   \n",
       "4                   polypropylene production, granulate   \n",
       "...                                                 ...   \n",
       "8875              petroleum and gas production, onshore   \n",
       "8876  treatment of waste emulsion paint, municipal i...   \n",
       "8877     aluminium production, primary, liquid, prebake   \n",
       "8878                             citric acid production   \n",
       "8879  treatment of leachate, SLF, refinery sludge, w...   \n",
       "\n",
       "                          reference product  \\\n",
       "0                                 cast iron   \n",
       "1                  polystyrene, high impact   \n",
       "2     cast iron removed by milling, average   \n",
       "3                 electricity, high voltage   \n",
       "4                  polypropylene, granulate   \n",
       "...                                     ...   \n",
       "8875             natural gas, high pressure   \n",
       "8876                   waste emulsion paint   \n",
       "8877             aluminium, primary, liquid   \n",
       "8878                            citric acid   \n",
       "8879         leachate, SLF, refinery sludge   \n",
       "\n",
       "                                    location        amount         CF  \\\n",
       "0                                        RoW  2.510268e-05  28.180497   \n",
       "1                                        RER  4.439220e-06  17.328016   \n",
       "2                                        RoW  2.704166e-10  28.180497   \n",
       "3                                      CA-PE  5.875734e-09   1.713382   \n",
       "4                                        RER  3.241600e-07  17.328016   \n",
       "...                                      ...           ...        ...   \n",
       "8875                                      TH  7.179715e-09  -6.981635   \n",
       "8876                                      CH  1.551506e-10  -0.965402   \n",
       "8877  IAI Area, Russia & RER w/o EU27 & EFTA  1.141075e-06 -12.226962   \n",
       "8878                                     RNA  6.676624e-09 -27.325808   \n",
       "8879                                      CH  9.574300e-13  -0.965402   \n",
       "\n",
       "            impact  \n",
       "0     7.074059e-04  \n",
       "1     7.692287e-05  \n",
       "2     7.620473e-09  \n",
       "3     1.006738e-08  \n",
       "4     5.617050e-06  \n",
       "...            ...  \n",
       "8875 -5.012615e-08  \n",
       "8876 -1.497827e-10  \n",
       "8877 -1.395188e-05  \n",
       "8878 -1.824441e-07  \n",
       "8879 -9.243052e-13  \n",
       "\n",
       "[8880 rows x 7 columns]"
      ],
      "text/html": [
       "<div>\n",
       "<style scoped>\n",
       "    .dataframe tbody tr th:only-of-type {\n",
       "        vertical-align: middle;\n",
       "    }\n",
       "\n",
       "    .dataframe tbody tr th {\n",
       "        vertical-align: top;\n",
       "    }\n",
       "\n",
       "    .dataframe thead th {\n",
       "        text-align: right;\n",
       "    }\n",
       "</style>\n",
       "<table border=\"1\" class=\"dataframe\">\n",
       "  <thead>\n",
       "    <tr style=\"text-align: right;\">\n",
       "      <th></th>\n",
       "      <th>flow</th>\n",
       "      <th>name</th>\n",
       "      <th>reference product</th>\n",
       "      <th>location</th>\n",
       "      <th>amount</th>\n",
       "      <th>CF</th>\n",
       "      <th>impact</th>\n",
       "    </tr>\n",
       "  </thead>\n",
       "  <tbody>\n",
       "    <tr>\n",
       "      <th>0</th>\n",
       "      <td>(Water, cooling, unspecified natural origin, (...</td>\n",
       "      <td>cast iron production</td>\n",
       "      <td>cast iron</td>\n",
       "      <td>RoW</td>\n",
       "      <td>2.510268e-05</td>\n",
       "      <td>28.180497</td>\n",
       "      <td>7.074059e-04</td>\n",
       "    </tr>\n",
       "    <tr>\n",
       "      <th>1</th>\n",
       "      <td>(Water, cooling, unspecified natural origin, (...</td>\n",
       "      <td>polystyrene production, high impact</td>\n",
       "      <td>polystyrene, high impact</td>\n",
       "      <td>RER</td>\n",
       "      <td>4.439220e-06</td>\n",
       "      <td>17.328016</td>\n",
       "      <td>7.692287e-05</td>\n",
       "    </tr>\n",
       "    <tr>\n",
       "      <th>2</th>\n",
       "      <td>(Water, cooling, unspecified natural origin, (...</td>\n",
       "      <td>cast iron milling, average</td>\n",
       "      <td>cast iron removed by milling, average</td>\n",
       "      <td>RoW</td>\n",
       "      <td>2.704166e-10</td>\n",
       "      <td>28.180497</td>\n",
       "      <td>7.620473e-09</td>\n",
       "    </tr>\n",
       "    <tr>\n",
       "      <th>3</th>\n",
       "      <td>(Water, cooling, unspecified natural origin, (...</td>\n",
       "      <td>electricity production, oil</td>\n",
       "      <td>electricity, high voltage</td>\n",
       "      <td>CA-PE</td>\n",
       "      <td>5.875734e-09</td>\n",
       "      <td>1.713382</td>\n",
       "      <td>1.006738e-08</td>\n",
       "    </tr>\n",
       "    <tr>\n",
       "      <th>4</th>\n",
       "      <td>(Water, cooling, unspecified natural origin, (...</td>\n",
       "      <td>polypropylene production, granulate</td>\n",
       "      <td>polypropylene, granulate</td>\n",
       "      <td>RER</td>\n",
       "      <td>3.241600e-07</td>\n",
       "      <td>17.328016</td>\n",
       "      <td>5.617050e-06</td>\n",
       "    </tr>\n",
       "    <tr>\n",
       "      <th>...</th>\n",
       "      <td>...</td>\n",
       "      <td>...</td>\n",
       "      <td>...</td>\n",
       "      <td>...</td>\n",
       "      <td>...</td>\n",
       "      <td>...</td>\n",
       "      <td>...</td>\n",
       "    </tr>\n",
       "    <tr>\n",
       "      <th>8875</th>\n",
       "      <td>(Water, (water, surface water))</td>\n",
       "      <td>petroleum and gas production, onshore</td>\n",
       "      <td>natural gas, high pressure</td>\n",
       "      <td>TH</td>\n",
       "      <td>7.179715e-09</td>\n",
       "      <td>-6.981635</td>\n",
       "      <td>-5.012615e-08</td>\n",
       "    </tr>\n",
       "    <tr>\n",
       "      <th>8876</th>\n",
       "      <td>(Water, (water, surface water))</td>\n",
       "      <td>treatment of waste emulsion paint, municipal i...</td>\n",
       "      <td>waste emulsion paint</td>\n",
       "      <td>CH</td>\n",
       "      <td>1.551506e-10</td>\n",
       "      <td>-0.965402</td>\n",
       "      <td>-1.497827e-10</td>\n",
       "    </tr>\n",
       "    <tr>\n",
       "      <th>8877</th>\n",
       "      <td>(Water, (water, surface water))</td>\n",
       "      <td>aluminium production, primary, liquid, prebake</td>\n",
       "      <td>aluminium, primary, liquid</td>\n",
       "      <td>IAI Area, Russia &amp; RER w/o EU27 &amp; EFTA</td>\n",
       "      <td>1.141075e-06</td>\n",
       "      <td>-12.226962</td>\n",
       "      <td>-1.395188e-05</td>\n",
       "    </tr>\n",
       "    <tr>\n",
       "      <th>8878</th>\n",
       "      <td>(Water, (water, surface water))</td>\n",
       "      <td>citric acid production</td>\n",
       "      <td>citric acid</td>\n",
       "      <td>RNA</td>\n",
       "      <td>6.676624e-09</td>\n",
       "      <td>-27.325808</td>\n",
       "      <td>-1.824441e-07</td>\n",
       "    </tr>\n",
       "    <tr>\n",
       "      <th>8879</th>\n",
       "      <td>(Water, (water, surface water))</td>\n",
       "      <td>treatment of leachate, SLF, refinery sludge, w...</td>\n",
       "      <td>leachate, SLF, refinery sludge</td>\n",
       "      <td>CH</td>\n",
       "      <td>9.574300e-13</td>\n",
       "      <td>-0.965402</td>\n",
       "      <td>-9.243052e-13</td>\n",
       "    </tr>\n",
       "  </tbody>\n",
       "</table>\n",
       "<p>8880 rows × 7 columns</p>\n",
       "</div>"
      ]
     },
     "execution_count": 42,
     "metadata": {},
     "output_type": "execute_result"
    }
   ],
   "execution_count": 42
  },
  {
   "metadata": {},
   "cell_type": "code",
   "outputs": [],
   "execution_count": null,
   "source": ""
  }
 ],
 "metadata": {
  "kernelspec": {
   "display_name": "Python 3 (ipykernel)",
   "language": "python",
   "name": "python3"
  },
  "language_info": {
   "codemirror_mode": {
    "name": "ipython",
    "version": 3
   },
   "file_extension": ".py",
   "mimetype": "text/x-python",
   "name": "python",
   "nbconvert_exporter": "python",
   "pygments_lexer": "ipython3",
   "version": "3.11.8"
  }
 },
 "nbformat": 4,
 "nbformat_minor": 4
}

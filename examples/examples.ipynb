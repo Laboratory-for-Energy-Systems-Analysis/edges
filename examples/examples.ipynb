{
 "cells": [
  {
   "cell_type": "markdown",
   "metadata": {},
   "source": [
    "# Use examples of [selma](https://github.com/romainsacchi/selma)\n",
    "\n",
    "Author: [romainsacchi](https://github.com/romainsacchi)\n",
    "\n",
    "This notebook shows examples on how to use `selma` to using location-specific \n",
    "characterization factors in teh characterization matrix of `bw2calc`.\n",
    "\n",
    "## Requirements\n",
    "\n",
    "* **Pyhton 3.10 or higher (up to 3.11) is highly recommended**\n",
    "* `bw2calc >= 2.0.0`"
   ]
  },
  {
   "cell_type": "markdown",
   "metadata": {},
   "source": [
    "# Use case with [brightway2](https://brightway.dev/)\n",
    "\n",
    "`brightway2` is an open source LCA framework for Python.\n",
    "To use `premise` from `brightway2`, it requires that you have an activated `brightway2` project with a `biosphere3` database as well as an [ecoinvent](https://ecoinvent.prg) v.3 cut-off or consequential database registered in that project. Please refer to the brightway [documentation](https://brightway.dev) if you do not know how to create a project and install ecoinvent."
   ]
  },
  {
   "cell_type": "code",
   "metadata": {
    "ExecuteTime": {
     "end_time": "2024-12-10T17:52:09.264946Z",
     "start_time": "2024-12-10T17:52:07.479485Z"
    }
   },
   "source": [
    "from edges import RegionalLCA, get_available_methods\n",
    "import bw2data"
   ],
   "outputs": [],
   "execution_count": 1
  },
  {
   "cell_type": "markdown",
   "metadata": {},
   "source": "### List of available methods\n"
  },
  {
   "metadata": {
    "ExecuteTime": {
     "end_time": "2024-12-10T17:52:09.309876Z",
     "start_time": "2024-12-10T17:52:09.301374Z"
    }
   },
   "cell_type": "code",
   "source": "get_available_methods()",
   "outputs": [
    {
     "data": {
      "text/plain": [
       "[('AWARE 1.2c', 'Country', 'irri', 'apr'),\n",
       " ('AWARE 1.2c', 'Country', 'irri', 'aug'),\n",
       " ('AWARE 1.2c', 'Country', 'irri', 'dec'),\n",
       " ('AWARE 1.2c', 'Country', 'irri', 'feb'),\n",
       " ('AWARE 1.2c', 'Country', 'irri', 'jan'),\n",
       " ('AWARE 1.2c', 'Country', 'irri', 'jul'),\n",
       " ('AWARE 1.2c', 'Country', 'irri', 'jun'),\n",
       " ('AWARE 1.2c', 'Country', 'irri', 'mar'),\n",
       " ('AWARE 1.2c', 'Country', 'irri', 'may'),\n",
       " ('AWARE 1.2c', 'Country', 'irri', 'nov'),\n",
       " ('AWARE 1.2c', 'Country', 'irri', 'oct'),\n",
       " ('AWARE 1.2c', 'Country', 'irri', 'sep'),\n",
       " ('AWARE 1.2c', 'Country', 'irri', 'yearly'),\n",
       " ('AWARE 1.2c', 'Country', 'non', 'irri', 'apr'),\n",
       " ('AWARE 1.2c', 'Country', 'non', 'irri', 'aug'),\n",
       " ('AWARE 1.2c', 'Country', 'non', 'irri', 'dec'),\n",
       " ('AWARE 1.2c', 'Country', 'non', 'irri', 'feb'),\n",
       " ('AWARE 1.2c', 'Country', 'non', 'irri', 'jan'),\n",
       " ('AWARE 1.2c', 'Country', 'non', 'irri', 'jul'),\n",
       " ('AWARE 1.2c', 'Country', 'non', 'irri', 'jun'),\n",
       " ('AWARE 1.2c', 'Country', 'non', 'irri', 'mar'),\n",
       " ('AWARE 1.2c', 'Country', 'non', 'irri', 'may'),\n",
       " ('AWARE 1.2c', 'Country', 'non', 'irri', 'nov'),\n",
       " ('AWARE 1.2c', 'Country', 'non', 'irri', 'oct'),\n",
       " ('AWARE 1.2c', 'Country', 'non', 'irri', 'sep'),\n",
       " ('AWARE 1.2c', 'Country', 'non', 'irri', 'yearly'),\n",
       " ('AWARE 1.2c', 'Country', 'unspecified', 'apr'),\n",
       " ('AWARE 1.2c', 'Country', 'unspecified', 'aug'),\n",
       " ('AWARE 1.2c', 'Country', 'unspecified', 'dec'),\n",
       " ('AWARE 1.2c', 'Country', 'unspecified', 'feb'),\n",
       " ('AWARE 1.2c', 'Country', 'unspecified', 'jan'),\n",
       " ('AWARE 1.2c', 'Country', 'unspecified', 'jul'),\n",
       " ('AWARE 1.2c', 'Country', 'unspecified', 'jun'),\n",
       " ('AWARE 1.2c', 'Country', 'unspecified', 'mar'),\n",
       " ('AWARE 1.2c', 'Country', 'unspecified', 'may'),\n",
       " ('AWARE 1.2c', 'Country', 'unspecified', 'nov'),\n",
       " ('AWARE 1.2c', 'Country', 'unspecified', 'oct'),\n",
       " ('AWARE 1.2c', 'Country', 'unspecified', 'sep'),\n",
       " ('AWARE 1.2c', 'Country', 'unspecified', 'yearly')]"
      ]
     },
     "execution_count": 2,
     "metadata": {},
     "output_type": "execute_result"
    }
   ],
   "execution_count": 2
  },
  {
   "cell_type": "markdown",
   "metadata": {},
   "source": [
    "### Regionalized LCIA\n",
    "\n",
    "The `RegionalLCA` class is a subclass of `bw2calc.LCA` that allows for the use of location-specific characterization factors in the characterization matrix of `bw2calc`. `RegionalLCA`can therefore be used as a drop-in replacement for `bw2calc.LCA` in most cases."
   ]
  },
  {
   "cell_type": "code",
   "metadata": {
    "ExecuteTime": {
     "end_time": "2024-12-10T17:52:09.462283Z",
     "start_time": "2024-12-10T17:52:09.446305Z"
    }
   },
   "source": [
    "# activate the bw project\n",
    "bw2data.projects.set_current(\"bw25_ei310\")"
   ],
   "outputs": [],
   "execution_count": 3
  },
  {
   "cell_type": "code",
   "metadata": {
    "ExecuteTime": {
     "end_time": "2024-12-10T17:52:09.492284Z",
     "start_time": "2024-12-10T17:52:09.480173Z"
    }
   },
   "source": [
    "act = bw2data.Database(\"ecoinvent-3.10-cutoff\").random()\n",
    "act"
   ],
   "outputs": [
    {
     "data": {
      "text/plain": [
       "'clinker production' (kilogram, US, None)"
      ]
     },
     "execution_count": 4,
     "metadata": {},
     "output_type": "execute_result"
    }
   ],
   "execution_count": 4
  },
  {
   "metadata": {
    "ExecuteTime": {
     "end_time": "2024-12-10T17:52:09.568170Z",
     "start_time": "2024-12-10T17:52:09.565288Z"
    }
   },
   "cell_type": "code",
   "source": "method = ('AWARE 1.2c', 'Country', 'unspecified', 'yearly')",
   "outputs": [],
   "execution_count": 5
  },
  {
   "metadata": {
    "ExecuteTime": {
     "end_time": "2024-12-10T17:52:14.522907Z",
     "start_time": "2024-12-10T17:52:09.578330Z"
    }
   },
   "cell_type": "code",
   "source": [
    "LCA = RegionalLCA({act: 1}, method)\n",
    "LCA.lci()\n",
    "LCA.lcia()\n",
    "LCA.score"
   ],
   "outputs": [
    {
     "name": "stderr",
     "output_type": "stream",
     "text": [
      "/opt/homebrew/Caskroom/miniforge/base/envs/bw25/lib/python3.11/site-packages/scikits/umfpack/umfpack.py:736: UmfpackWarning: (almost) singular matrix! (estimated cond. number: 1.21e+13)\n",
      "  warnings.warn(msg, UmfpackWarning)\n"
     ]
    },
    {
     "name": "stdout",
     "output_type": "stream",
     "text": [
      "236 location-specific factors implemented. 94 locations ignored. Check self.ignored_locations.\n"
     ]
    },
    {
     "data": {
      "text/plain": [
       "0.0"
      ]
     },
     "execution_count": 6,
     "metadata": {},
     "output_type": "execute_result"
    }
   ],
   "execution_count": 6
  },
  {
   "metadata": {
    "ExecuteTime": {
     "end_time": "2024-12-10T17:52:22.408292Z",
     "start_time": "2024-12-10T17:52:22.404286Z"
    }
   },
   "cell_type": "code",
   "source": [
    "# let's check locations that have been ignored\n",
    "LCA.ignored_locations"
   ],
   "outputs": [
    {
     "data": {
      "text/plain": [
       "{'AL',\n",
       " 'AM',\n",
       " 'AO',\n",
       " 'AU-NSW',\n",
       " 'AU-QLD',\n",
       " 'AU-SA',\n",
       " 'AU-TAS',\n",
       " 'AU-VIC',\n",
       " 'AU-WA',\n",
       " 'BH',\n",
       " 'BJ',\n",
       " 'BN',\n",
       " 'BR-AC',\n",
       " 'BR-AL',\n",
       " 'BR-AM',\n",
       " 'BR-AP',\n",
       " 'BR-CE',\n",
       " 'BR-DF',\n",
       " 'BR-ES',\n",
       " 'BR-PA',\n",
       " 'BR-PB',\n",
       " 'BR-PE',\n",
       " 'BR-RJ',\n",
       " 'BR-RN',\n",
       " 'BR-RO',\n",
       " 'BR-RR',\n",
       " 'BR-SC',\n",
       " 'BR-SE',\n",
       " 'BW',\n",
       " 'BY',\n",
       " 'CG',\n",
       " 'CM',\n",
       " 'CN-CCG',\n",
       " 'CN-CSG',\n",
       " 'CN-ECGC',\n",
       " 'CN-NCGC',\n",
       " 'CN-NECG',\n",
       " 'CN-NWG',\n",
       " 'CN-SGCC',\n",
       " 'CN-SWG',\n",
       " 'CN-XZ',\n",
       " 'CU',\n",
       " 'CW',\n",
       " 'DO',\n",
       " 'ENTSO-E',\n",
       " 'ER',\n",
       " 'ET',\n",
       " 'GA',\n",
       " 'GE',\n",
       " 'GI',\n",
       " 'GT',\n",
       " 'HK',\n",
       " 'HT',\n",
       " 'IAI Area, North America',\n",
       " 'IN-CH',\n",
       " 'IN-DD',\n",
       " 'JM',\n",
       " 'JO',\n",
       " 'KG',\n",
       " 'KH',\n",
       " 'KP',\n",
       " 'LB',\n",
       " 'MD',\n",
       " 'ME',\n",
       " 'MG',\n",
       " 'MM',\n",
       " 'MN',\n",
       " 'MU',\n",
       " 'MZ',\n",
       " 'NA',\n",
       " 'NE',\n",
       " 'North America without Quebec',\n",
       " 'PA',\n",
       " 'PK',\n",
       " 'PY',\n",
       " 'RAS',\n",
       " 'RER w/o DE+NL+RU',\n",
       " 'RME',\n",
       " 'SD',\n",
       " 'SG',\n",
       " 'SN',\n",
       " 'SS',\n",
       " 'SY',\n",
       " 'TG',\n",
       " 'TJ',\n",
       " 'US-ASCC',\n",
       " 'US-HICC',\n",
       " 'US-NPCC',\n",
       " 'US-PR',\n",
       " 'US-TRE',\n",
       " 'UY',\n",
       " 'XK',\n",
       " 'YE',\n",
       " 'ZW'}"
      ]
     },
     "execution_count": 7,
     "metadata": {},
     "output_type": "execute_result"
    }
   ],
   "execution_count": 7
  },
  {
   "cell_type": "markdown",
   "metadata": {},
   "source": "### Generate dataframe of characterization factors used"
  },
  {
   "metadata": {
    "ExecuteTime": {
     "end_time": "2024-12-10T17:47:32.719521Z",
     "start_time": "2024-12-10T17:47:31.660689Z"
    }
   },
   "cell_type": "code",
   "source": "df = LCA.generate_cf_table()",
   "outputs": [],
   "execution_count": 7
  },
  {
   "cell_type": "code",
   "metadata": {
    "ExecuteTime": {
     "end_time": "2024-12-10T17:47:36.476475Z",
     "start_time": "2024-12-10T17:47:36.468676Z"
    }
   },
   "source": "df.head()",
   "outputs": [
    {
     "data": {
      "text/plain": [
       "                                                flow  \\\n",
       "0  (Water, cooling, unspecified natural origin, (...   \n",
       "1  (Water, cooling, unspecified natural origin, (...   \n",
       "2  (Water, cooling, unspecified natural origin, (...   \n",
       "3  (Water, cooling, unspecified natural origin, (...   \n",
       "4  (Water, cooling, unspecified natural origin, (...   \n",
       "\n",
       "                                                name  \\\n",
       "0                        woven bamboo mat production   \n",
       "1                               cast iron production   \n",
       "2  ventilation system production, decentralized, ...   \n",
       "3                              stone wool production   \n",
       "4  photovoltaic facade installation, 3kWp, single...   \n",
       "\n",
       "                                   reference product location      value  \n",
       "0                                   woven bamboo mat      RoW  34.247237  \n",
       "1                                          cast iron      RoW  17.328016  \n",
       "2  ventilation system, decentralized, 6 x 120 m3/...      RoW   0.965402  \n",
       "3                                         stone wool      RoW   0.965402  \n",
       "4  photovoltaic facade installation, 3kWp, single...      RoW   0.965402  "
      ],
      "text/html": [
       "<div>\n",
       "<style scoped>\n",
       "    .dataframe tbody tr th:only-of-type {\n",
       "        vertical-align: middle;\n",
       "    }\n",
       "\n",
       "    .dataframe tbody tr th {\n",
       "        vertical-align: top;\n",
       "    }\n",
       "\n",
       "    .dataframe thead th {\n",
       "        text-align: right;\n",
       "    }\n",
       "</style>\n",
       "<table border=\"1\" class=\"dataframe\">\n",
       "  <thead>\n",
       "    <tr style=\"text-align: right;\">\n",
       "      <th></th>\n",
       "      <th>flow</th>\n",
       "      <th>name</th>\n",
       "      <th>reference product</th>\n",
       "      <th>location</th>\n",
       "      <th>value</th>\n",
       "    </tr>\n",
       "  </thead>\n",
       "  <tbody>\n",
       "    <tr>\n",
       "      <th>0</th>\n",
       "      <td>(Water, cooling, unspecified natural origin, (...</td>\n",
       "      <td>woven bamboo mat production</td>\n",
       "      <td>woven bamboo mat</td>\n",
       "      <td>RoW</td>\n",
       "      <td>34.247237</td>\n",
       "    </tr>\n",
       "    <tr>\n",
       "      <th>1</th>\n",
       "      <td>(Water, cooling, unspecified natural origin, (...</td>\n",
       "      <td>cast iron production</td>\n",
       "      <td>cast iron</td>\n",
       "      <td>RoW</td>\n",
       "      <td>17.328016</td>\n",
       "    </tr>\n",
       "    <tr>\n",
       "      <th>2</th>\n",
       "      <td>(Water, cooling, unspecified natural origin, (...</td>\n",
       "      <td>ventilation system production, decentralized, ...</td>\n",
       "      <td>ventilation system, decentralized, 6 x 120 m3/...</td>\n",
       "      <td>RoW</td>\n",
       "      <td>0.965402</td>\n",
       "    </tr>\n",
       "    <tr>\n",
       "      <th>3</th>\n",
       "      <td>(Water, cooling, unspecified natural origin, (...</td>\n",
       "      <td>stone wool production</td>\n",
       "      <td>stone wool</td>\n",
       "      <td>RoW</td>\n",
       "      <td>0.965402</td>\n",
       "    </tr>\n",
       "    <tr>\n",
       "      <th>4</th>\n",
       "      <td>(Water, cooling, unspecified natural origin, (...</td>\n",
       "      <td>photovoltaic facade installation, 3kWp, single...</td>\n",
       "      <td>photovoltaic facade installation, 3kWp, single...</td>\n",
       "      <td>RoW</td>\n",
       "      <td>0.965402</td>\n",
       "    </tr>\n",
       "  </tbody>\n",
       "</table>\n",
       "</div>"
      ]
     },
     "execution_count": 8,
     "metadata": {},
     "output_type": "execute_result"
    }
   ],
   "execution_count": 8
  }
 ],
 "metadata": {
  "kernelspec": {
   "display_name": "Python 3 (ipykernel)",
   "language": "python",
   "name": "python3"
  },
  "language_info": {
   "codemirror_mode": {
    "name": "ipython",
    "version": 3
   },
   "file_extension": ".py",
   "mimetype": "text/x-python",
   "name": "python",
   "nbconvert_exporter": "python",
   "pygments_lexer": "ipython3",
   "version": "3.11.8"
  }
 },
 "nbformat": 4,
 "nbformat_minor": 4
}

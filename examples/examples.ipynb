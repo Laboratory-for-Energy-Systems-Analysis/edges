{
 "cells": [
  {
   "cell_type": "markdown",
   "metadata": {},
   "source": [
    "# Use examples of [edges](https://github.com/romainsacchi/edges)\n",
    "\n",
    "Author: [romainsacchi](https://github.com/romainsacchi)\n",
    "\n",
    "This notebook shows examples on how to use `edge` to use location-specific\n",
    "characterization factors in the characterization matrix of `bw2calc`.\n",
    "\n",
    "## Requirements\n",
    "\n",
    "* **Pyhton 3.10 or higher (up to 3.11) is highly recommended**\n",
    "* `bw2calc >= 2.0.0`"
   ]
  },
  {
   "cell_type": "markdown",
   "metadata": {},
   "source": [
    "# Use case with [brightway2](https://brightway.dev/)\n",
    "\n",
    "`brightway2` is an open source LCA framework for Python.\n",
    "To use `premise` from `brightway2`, it requires that you have an activated `brightway2` project with a `biosphere3` database as well as an [ecoinvent](https://ecoinvent.prg) v.3 cut-off or consequential database registered in that project. Please refer to the brightway [documentation](https://brightway.dev) if you do not know how to create a project and install ecoinvent."
   ]
  },
  {
   "cell_type": "code",
   "metadata": {
    "ExecuteTime": {
     "end_time": "2024-12-19T10:56:03.187828Z",
     "start_time": "2024-12-19T10:56:03.182801Z"
    }
   },
   "source": [
    "from edges import EdgeLCIA, get_available_methods\n",
    "import bw2data"
   ],
   "outputs": [],
   "execution_count": 10
  },
  {
   "cell_type": "markdown",
   "metadata": {},
   "source": "### List of available methods\n"
  },
  {
   "metadata": {
    "ExecuteTime": {
     "end_time": "2024-12-19T10:56:04.501359Z",
     "start_time": "2024-12-19T10:56:04.495466Z"
    }
   },
   "cell_type": "code",
   "source": "get_available_methods()",
   "outputs": [
    {
     "data": {
      "text/plain": [
       "[('AWARE 1.2c', 'Country', 'irri', 'apr'),\n",
       " ('AWARE 1.2c', 'Country', 'irri', 'aug'),\n",
       " ('AWARE 1.2c', 'Country', 'irri', 'dec'),\n",
       " ('AWARE 1.2c', 'Country', 'irri', 'feb'),\n",
       " ('AWARE 1.2c', 'Country', 'irri', 'jan'),\n",
       " ('AWARE 1.2c', 'Country', 'irri', 'jul'),\n",
       " ('AWARE 1.2c', 'Country', 'irri', 'jun'),\n",
       " ('AWARE 1.2c', 'Country', 'irri', 'mar'),\n",
       " ('AWARE 1.2c', 'Country', 'irri', 'may'),\n",
       " ('AWARE 1.2c', 'Country', 'irri', 'nov'),\n",
       " ('AWARE 1.2c', 'Country', 'irri', 'oct'),\n",
       " ('AWARE 1.2c', 'Country', 'irri', 'sep'),\n",
       " ('AWARE 1.2c', 'Country', 'irri', 'yearly'),\n",
       " ('AWARE 1.2c', 'Country', 'non', 'irri', 'apr'),\n",
       " ('AWARE 1.2c', 'Country', 'non', 'irri', 'aug'),\n",
       " ('AWARE 1.2c', 'Country', 'non', 'irri', 'dec'),\n",
       " ('AWARE 1.2c', 'Country', 'non', 'irri', 'feb'),\n",
       " ('AWARE 1.2c', 'Country', 'non', 'irri', 'jan'),\n",
       " ('AWARE 1.2c', 'Country', 'non', 'irri', 'jul'),\n",
       " ('AWARE 1.2c', 'Country', 'non', 'irri', 'jun'),\n",
       " ('AWARE 1.2c', 'Country', 'non', 'irri', 'mar'),\n",
       " ('AWARE 1.2c', 'Country', 'non', 'irri', 'may'),\n",
       " ('AWARE 1.2c', 'Country', 'non', 'irri', 'nov'),\n",
       " ('AWARE 1.2c', 'Country', 'non', 'irri', 'oct'),\n",
       " ('AWARE 1.2c', 'Country', 'non', 'irri', 'sep'),\n",
       " ('AWARE 1.2c', 'Country', 'non', 'irri', 'yearly'),\n",
       " ('AWARE 1.2c', 'Country', 'unspecified', 'apr'),\n",
       " ('AWARE 1.2c', 'Country', 'unspecified', 'aug'),\n",
       " ('AWARE 1.2c', 'Country', 'unspecified', 'dec'),\n",
       " ('AWARE 1.2c', 'Country', 'unspecified', 'feb'),\n",
       " ('AWARE 1.2c', 'Country', 'unspecified', 'jan'),\n",
       " ('AWARE 1.2c', 'Country', 'unspecified', 'jul'),\n",
       " ('AWARE 1.2c', 'Country', 'unspecified', 'jun'),\n",
       " ('AWARE 1.2c', 'Country', 'unspecified', 'mar'),\n",
       " ('AWARE 1.2c', 'Country', 'unspecified', 'may'),\n",
       " ('AWARE 1.2c', 'Country', 'unspecified', 'nov'),\n",
       " ('AWARE 1.2c', 'Country', 'unspecified', 'oct'),\n",
       " ('AWARE 1.2c', 'Country', 'unspecified', 'sep'),\n",
       " ('AWARE 1.2c', 'Country', 'unspecified', 'yearly'),\n",
       " ('GeoPolRisk', '2024'),\n",
       " ('RELICS', 'copper')]"
      ]
     },
     "execution_count": 11,
     "metadata": {},
     "output_type": "execute_result"
    }
   ],
   "execution_count": 11
  },
  {
   "metadata": {},
   "cell_type": "markdown",
   "source": [
    "### Biosphere edges-based LCIA\n",
    "\n",
    "The `EdgeLCIA` class is a subclass of `bw2calc.LCA` that allows for the use of location-specific characterization factors in the characterization matrix of `bw2calc`. `SpatialLCA`can therefore be used as a drop-in replacement for `bw2calc.LCA` in most cases."
   ]
  },
  {
   "metadata": {
    "ExecuteTime": {
     "end_time": "2024-12-19T10:56:06.193446Z",
     "start_time": "2024-12-19T10:56:06.175548Z"
    }
   },
   "cell_type": "code",
   "source": [
    "# activate the bw project\n",
    "bw2data.projects.set_current(\"bw25_ei310\")"
   ],
   "outputs": [],
   "execution_count": 12
  },
  {
   "cell_type": "code",
   "metadata": {
    "ExecuteTime": {
     "end_time": "2024-12-18T17:43:17.742705Z",
     "start_time": "2024-12-18T17:43:17.732804Z"
    }
   },
   "source": [
    "act = bw2data.Database(\"ecoinvent-3.10-cutoff\").random()\n",
    "act"
   ],
   "outputs": [
    {
     "data": {
      "text/plain": [
       "'market for electricity, medium voltage' (kilowatt hour, CZ, None)"
      ]
     },
     "execution_count": 4,
     "metadata": {},
     "output_type": "execute_result"
    }
   ],
   "execution_count": 4
  },
  {
   "metadata": {
    "ExecuteTime": {
     "end_time": "2024-12-18T17:43:18.443981Z",
     "start_time": "2024-12-18T17:43:18.440958Z"
    }
   },
   "cell_type": "code",
   "source": "method = ('AWARE 1.2c', 'Country', 'non', 'irri', 'yearly')",
   "outputs": [],
   "execution_count": 5
  },
  {
   "metadata": {
    "ExecuteTime": {
     "end_time": "2024-12-18T17:43:27.164131Z",
     "start_time": "2024-12-18T17:43:18.930449Z"
    }
   },
   "cell_type": "code",
   "source": [
    "LCA = EdgeLCIA({act: 1}, method)\n",
    "LCA.lci()\n",
    "LCA.lcia()\n",
    "LCA.score"
   ],
   "outputs": [
    {
     "name": "stderr",
     "output_type": "stream",
     "text": [
      "/opt/homebrew/Caskroom/miniforge/base/envs/bw25/lib/python3.11/site-packages/scikits/umfpack/umfpack.py:736: UmfpackWarning: (almost) singular matrix! (estimated cond. number: 1.21e+13)\n",
      "  warnings.warn(msg, UmfpackWarning)\n"
     ]
    },
    {
     "name": "stdout",
     "output_type": "stream",
     "text": [
      "Warning: some locations are not found in the database. Check logs.\n"
     ]
    },
    {
     "data": {
      "text/plain": [
       "0.05066948836232488"
      ]
     },
     "execution_count": 6,
     "metadata": {},
     "output_type": "execute_result"
    }
   ],
   "execution_count": 6
  },
  {
   "metadata": {
    "ExecuteTime": {
     "end_time": "2024-12-18T17:43:32.275281Z",
     "start_time": "2024-12-18T17:43:32.272701Z"
    }
   },
   "cell_type": "code",
   "source": [
    "# let's check locations that have been ignored, if any\n",
    "LCA.ignored_locations"
   ],
   "outputs": [
    {
     "data": {
      "text/plain": [
       "set()"
      ]
     },
     "execution_count": 7,
     "metadata": {},
     "output_type": "execute_result"
    }
   ],
   "execution_count": 7
  },
  {
   "cell_type": "markdown",
   "metadata": {},
   "source": [
    "### Generate dataframe of characterization factors used\n",
    "\n",
    "The `generate_cf_table` method generates a dataframe of the characterization factors used in the calculation. One can see the characterization factors used for each exchange in the system."
   ]
  },
  {
   "metadata": {
    "ExecuteTime": {
     "end_time": "2024-12-18T17:44:19.080375Z",
     "start_time": "2024-12-18T17:44:16.300340Z"
    }
   },
   "cell_type": "code",
   "source": "df = LCA.generate_cf_table()",
   "outputs": [
    {
     "name": "stdout",
     "output_type": "stream",
     "text": [
      "Matrix type: biosphere\n"
     ]
    }
   ],
   "execution_count": 8
  },
  {
   "metadata": {
    "ExecuteTime": {
     "end_time": "2024-12-18T17:44:21.129988Z",
     "start_time": "2024-12-18T17:44:21.120727Z"
    }
   },
   "cell_type": "code",
   "source": [
    "# we can see under the \"CF\" column\n",
    "# the characterization factors used for each exchange in the system\n",
    "df"
   ],
   "outputs": [
    {
     "data": {
      "text/plain": [
       "                                   supplier name  \\\n",
       "0     Water, cooling, unspecified natural origin   \n",
       "1     Water, cooling, unspecified natural origin   \n",
       "2     Water, cooling, unspecified natural origin   \n",
       "3     Water, cooling, unspecified natural origin   \n",
       "4     Water, cooling, unspecified natural origin   \n",
       "...                                          ...   \n",
       "8872                                       Water   \n",
       "8873                                       Water   \n",
       "8874                                       Water   \n",
       "8875                                       Water   \n",
       "8876                                       Water   \n",
       "\n",
       "               supplier categories  \\\n",
       "0     (natural resource, in water)   \n",
       "1     (natural resource, in water)   \n",
       "2     (natural resource, in water)   \n",
       "3     (natural resource, in water)   \n",
       "4     (natural resource, in water)   \n",
       "...                            ...   \n",
       "8872        (water, surface water)   \n",
       "8873        (water, surface water)   \n",
       "8874        (water, surface water)   \n",
       "8875        (water, surface water)   \n",
       "8876        (water, surface water)   \n",
       "\n",
       "                                          consumer name  \\\n",
       "0                                  cast iron production   \n",
       "1                   polystyrene production, high impact   \n",
       "2                            cast iron milling, average   \n",
       "3                           electricity production, oil   \n",
       "4                   polypropylene production, granulate   \n",
       "...                                                 ...   \n",
       "8872              petroleum and gas production, onshore   \n",
       "8873  treatment of waste emulsion paint, municipal i...   \n",
       "8874     aluminium production, primary, liquid, prebake   \n",
       "8875                             citric acid production   \n",
       "8876  treatment of leachate, SLF, refinery sludge, w...   \n",
       "\n",
       "                 consumer reference product  \\\n",
       "0                                 cast iron   \n",
       "1                  polystyrene, high impact   \n",
       "2     cast iron removed by milling, average   \n",
       "3                 electricity, high voltage   \n",
       "4                  polypropylene, granulate   \n",
       "...                                     ...   \n",
       "8872             natural gas, high pressure   \n",
       "8873                   waste emulsion paint   \n",
       "8874             aluminium, primary, liquid   \n",
       "8875                            citric acid   \n",
       "8876         leachate, SLF, refinery sludge   \n",
       "\n",
       "                           consumer location        amount         CF  \\\n",
       "0                                        RoW  3.663328e-07  19.819034   \n",
       "1                                        RER  9.080250e-09   6.750246   \n",
       "2                                        RoW  3.429219e-13  19.819034   \n",
       "3                                      CA-PE  5.947328e-11   1.276723   \n",
       "4                                        RER  6.949502e-09   6.750246   \n",
       "...                                      ...           ...        ...   \n",
       "8872                                      TH  1.021993e-10  -3.945516   \n",
       "8873                                      CH  4.732747e-12  -0.737323   \n",
       "8874  IAI Area, Russia & RER w/o EU27 & EFTA  1.034222e-08  -3.594363   \n",
       "8875                                     RNA  6.701303e-11  -8.711302   \n",
       "8876                                      CH  2.128301e-14  -0.737323   \n",
       "\n",
       "            impact  \n",
       "0     7.260361e-06  \n",
       "1     6.129391e-08  \n",
       "2     6.796381e-12  \n",
       "3     7.593092e-11  \n",
       "4     4.691085e-08  \n",
       "...            ...  \n",
       "8872 -4.032290e-10  \n",
       "8873 -3.489564e-12  \n",
       "8874 -3.717370e-08  \n",
       "8875 -5.837707e-10  \n",
       "8876 -1.569246e-14  \n",
       "\n",
       "[8877 rows x 8 columns]"
      ],
      "text/html": [
       "<div>\n",
       "<style scoped>\n",
       "    .dataframe tbody tr th:only-of-type {\n",
       "        vertical-align: middle;\n",
       "    }\n",
       "\n",
       "    .dataframe tbody tr th {\n",
       "        vertical-align: top;\n",
       "    }\n",
       "\n",
       "    .dataframe thead th {\n",
       "        text-align: right;\n",
       "    }\n",
       "</style>\n",
       "<table border=\"1\" class=\"dataframe\">\n",
       "  <thead>\n",
       "    <tr style=\"text-align: right;\">\n",
       "      <th></th>\n",
       "      <th>supplier name</th>\n",
       "      <th>supplier categories</th>\n",
       "      <th>consumer name</th>\n",
       "      <th>consumer reference product</th>\n",
       "      <th>consumer location</th>\n",
       "      <th>amount</th>\n",
       "      <th>CF</th>\n",
       "      <th>impact</th>\n",
       "    </tr>\n",
       "  </thead>\n",
       "  <tbody>\n",
       "    <tr>\n",
       "      <th>0</th>\n",
       "      <td>Water, cooling, unspecified natural origin</td>\n",
       "      <td>(natural resource, in water)</td>\n",
       "      <td>cast iron production</td>\n",
       "      <td>cast iron</td>\n",
       "      <td>RoW</td>\n",
       "      <td>3.663328e-07</td>\n",
       "      <td>19.819034</td>\n",
       "      <td>7.260361e-06</td>\n",
       "    </tr>\n",
       "    <tr>\n",
       "      <th>1</th>\n",
       "      <td>Water, cooling, unspecified natural origin</td>\n",
       "      <td>(natural resource, in water)</td>\n",
       "      <td>polystyrene production, high impact</td>\n",
       "      <td>polystyrene, high impact</td>\n",
       "      <td>RER</td>\n",
       "      <td>9.080250e-09</td>\n",
       "      <td>6.750246</td>\n",
       "      <td>6.129391e-08</td>\n",
       "    </tr>\n",
       "    <tr>\n",
       "      <th>2</th>\n",
       "      <td>Water, cooling, unspecified natural origin</td>\n",
       "      <td>(natural resource, in water)</td>\n",
       "      <td>cast iron milling, average</td>\n",
       "      <td>cast iron removed by milling, average</td>\n",
       "      <td>RoW</td>\n",
       "      <td>3.429219e-13</td>\n",
       "      <td>19.819034</td>\n",
       "      <td>6.796381e-12</td>\n",
       "    </tr>\n",
       "    <tr>\n",
       "      <th>3</th>\n",
       "      <td>Water, cooling, unspecified natural origin</td>\n",
       "      <td>(natural resource, in water)</td>\n",
       "      <td>electricity production, oil</td>\n",
       "      <td>electricity, high voltage</td>\n",
       "      <td>CA-PE</td>\n",
       "      <td>5.947328e-11</td>\n",
       "      <td>1.276723</td>\n",
       "      <td>7.593092e-11</td>\n",
       "    </tr>\n",
       "    <tr>\n",
       "      <th>4</th>\n",
       "      <td>Water, cooling, unspecified natural origin</td>\n",
       "      <td>(natural resource, in water)</td>\n",
       "      <td>polypropylene production, granulate</td>\n",
       "      <td>polypropylene, granulate</td>\n",
       "      <td>RER</td>\n",
       "      <td>6.949502e-09</td>\n",
       "      <td>6.750246</td>\n",
       "      <td>4.691085e-08</td>\n",
       "    </tr>\n",
       "    <tr>\n",
       "      <th>...</th>\n",
       "      <td>...</td>\n",
       "      <td>...</td>\n",
       "      <td>...</td>\n",
       "      <td>...</td>\n",
       "      <td>...</td>\n",
       "      <td>...</td>\n",
       "      <td>...</td>\n",
       "      <td>...</td>\n",
       "    </tr>\n",
       "    <tr>\n",
       "      <th>8872</th>\n",
       "      <td>Water</td>\n",
       "      <td>(water, surface water)</td>\n",
       "      <td>petroleum and gas production, onshore</td>\n",
       "      <td>natural gas, high pressure</td>\n",
       "      <td>TH</td>\n",
       "      <td>1.021993e-10</td>\n",
       "      <td>-3.945516</td>\n",
       "      <td>-4.032290e-10</td>\n",
       "    </tr>\n",
       "    <tr>\n",
       "      <th>8873</th>\n",
       "      <td>Water</td>\n",
       "      <td>(water, surface water)</td>\n",
       "      <td>treatment of waste emulsion paint, municipal i...</td>\n",
       "      <td>waste emulsion paint</td>\n",
       "      <td>CH</td>\n",
       "      <td>4.732747e-12</td>\n",
       "      <td>-0.737323</td>\n",
       "      <td>-3.489564e-12</td>\n",
       "    </tr>\n",
       "    <tr>\n",
       "      <th>8874</th>\n",
       "      <td>Water</td>\n",
       "      <td>(water, surface water)</td>\n",
       "      <td>aluminium production, primary, liquid, prebake</td>\n",
       "      <td>aluminium, primary, liquid</td>\n",
       "      <td>IAI Area, Russia &amp; RER w/o EU27 &amp; EFTA</td>\n",
       "      <td>1.034222e-08</td>\n",
       "      <td>-3.594363</td>\n",
       "      <td>-3.717370e-08</td>\n",
       "    </tr>\n",
       "    <tr>\n",
       "      <th>8875</th>\n",
       "      <td>Water</td>\n",
       "      <td>(water, surface water)</td>\n",
       "      <td>citric acid production</td>\n",
       "      <td>citric acid</td>\n",
       "      <td>RNA</td>\n",
       "      <td>6.701303e-11</td>\n",
       "      <td>-8.711302</td>\n",
       "      <td>-5.837707e-10</td>\n",
       "    </tr>\n",
       "    <tr>\n",
       "      <th>8876</th>\n",
       "      <td>Water</td>\n",
       "      <td>(water, surface water)</td>\n",
       "      <td>treatment of leachate, SLF, refinery sludge, w...</td>\n",
       "      <td>leachate, SLF, refinery sludge</td>\n",
       "      <td>CH</td>\n",
       "      <td>2.128301e-14</td>\n",
       "      <td>-0.737323</td>\n",
       "      <td>-1.569246e-14</td>\n",
       "    </tr>\n",
       "  </tbody>\n",
       "</table>\n",
       "<p>8877 rows × 8 columns</p>\n",
       "</div>"
      ]
     },
     "execution_count": 9,
     "metadata": {},
     "output_type": "execute_result"
    }
   ],
   "execution_count": 9
  },
  {
   "metadata": {
    "ExecuteTime": {
     "end_time": "2024-12-19T10:56:12.104365Z",
     "start_time": "2024-12-19T10:56:12.101154Z"
    }
   },
   "cell_type": "code",
   "source": [
    "locs = {\n",
    "    \"Auvergne-Rhône-Alpes\": \"FR-ARA\",\n",
    "    \"Nouvelle-Aquitaine\": \"FR-NA\",\n",
    "    \"Occitanie\": \"FR-OC\",\n",
    "    \"Pays de la Loire\": \"FR-PL\",\n",
    "    \"Provence-Alpes-Côte d'Azur\": \"FR-PACA\",\n",
    "    \"Bourgogne-Franche-Comté\": \"FR-BFC\",\n",
    "    \"Bretagne\": \"FR-BR\",\n",
    "    \"Centre-Val de Loire\": \"FR-CVL\",\n",
    "    \"Corse\": \"FR-CO\",\n",
    "    \"Grand Est\": \"FR-GE\",\n",
    "    \"Hauts-de-France\": \"FR-HF\",\n",
    "    \"Île-de-France\": \"FR-IL\",\n",
    "    \"Normandie\": \"FR-NO\"\n",
    "}"
   ],
   "outputs": [],
   "execution_count": 13
  },
  {
   "metadata": {
    "ExecuteTime": {
     "end_time": "2024-12-19T11:07:54.742450Z",
     "start_time": "2024-12-19T11:07:54.724841Z"
    }
   },
   "cell_type": "code",
   "source": [
    "if \"h2\" in bw2data.databases:\n",
    "    del bw2data.databases[\"h2\"]"
   ],
   "outputs": [],
   "execution_count": 20
  },
  {
   "metadata": {
    "ExecuteTime": {
     "end_time": "2024-12-19T11:07:55.504568Z",
     "start_time": "2024-12-19T11:07:55.497793Z"
    }
   },
   "cell_type": "code",
   "source": [
    "lci = {\n",
    "    (\"h2\", f\"hydrogen production, from electrolysis {loc}\"): {\n",
    "        \"name\": \"hydrogen production, from electrolysis\",\n",
    "        \"reference product\": \"hydrogen\",\n",
    "        \"location\": loc,\n",
    "        \"unit\": \"kilogram\",\n",
    "        \"classifications\": [\n",
    "            (\"ISIC\", \"Hydrogen production\"),\n",
    "        ],\n",
    "        \"exchanges\": [\n",
    "            {\n",
    "                \"name\": \"hydrogen production, from electrolysis\",\n",
    "                \"reference product\": \"hydrogen\",\n",
    "                \"unit\": \"kilogram\",\n",
    "                \"amount\": 1,\n",
    "                \"location\": loc,\n",
    "                \"type\": \"production\",\n",
    "                \"input\": (\"h2\", f\"hydrogen production, from electrolysis {loc}\"),\n",
    "            },\n",
    "            {\n",
    "                \"name\": \"electricity production, wind, 1-3MW turbine, offshore\",\n",
    "                \"reference product\": \"electricity, high voltage\",\n",
    "                \"unit\": \"kilowatt hour\",\n",
    "                \"amount\": 54,\n",
    "                \"location\": \"FR\",\n",
    "                \"type\": \"technosphere\",\n",
    "                \"input\": ('ecoinvent-3.10-cutoff', '7ba2c49140d98d7c941cef85f6f58d75'),\n",
    "            },\n",
    "            {\n",
    "                \"name\": \"electrolyzer production, 1MWe, PEM, Stack\",\n",
    "                \"reference product\": \"electrolyzer, 1MWe, PEM, Stack\",\n",
    "                \"unit\": \"unit\",\n",
    "                \"amount\": 1.34989E-06,\n",
    "                \"location\": \"RER\",\n",
    "                \"type\": \"technosphere\",\n",
    "                \"input\": ('h2_pem', '7b498745a482ad10549d1d4330c7abf0')\n",
    "            },\n",
    "            {\n",
    "                \"name\": \"electrolyzer production, 1MWe, PEM, Balance of Plant\",\n",
    "                \"reference product\": \"electrolyzer, 1MWe, PEM, Balance of Plant\",\n",
    "                \"unit\": \"unit\",\n",
    "                \"amount\": 3.37473E-07,\n",
    "                \"location\": \"RER\",\n",
    "                \"type\": \"technosphere\",\n",
    "                \"input\": ('h2_pem', 'f3fda92c6f40b652aee44ac8e68053a4')\n",
    "            },\n",
    "            {\n",
    "                \"name\": \"treatment of fuel cell stack, 1MWe, PEM\",\n",
    "                \"reference product\": \"used fuel cell stack, 1MWe, PEM\",\n",
    "                \"unit\": \"unit\",\n",
    "                \"amount\": -1.34989E-06,\n",
    "                \"location\": \"RER\",\n",
    "                \"type\": \"technosphere\",\n",
    "                \"input\": ('h2_pem', 'affe261eea51b2ddb28189f84c7c28b4')\n",
    "            },\n",
    "            {\n",
    "                \"name\": \"treatment of fuel cell balance of plant, 1MWe, PEM\",\n",
    "                \"reference product\": \"used fuel cell balance of plant, 1MWe, PEM\",\n",
    "                \"unit\": \"unit\",\n",
    "                \"amount\": -3.37473E-07,\n",
    "                \"location\": \"RER\",\n",
    "                \"type\": \"technosphere\",\n",
    "                \"input\": ('h2_pem', '937fc767b9547738e849fe73fee8c51f')\n",
    "            },\n",
    "            {\n",
    "                \"name\": \"Water, well, in ground\",\n",
    "                \"categories\": (\"natural resource\", \"water\"),\n",
    "                \"unit\": \"cubic meter\",\n",
    "                \"amount\": 12 / 1000, # 12l per kg of hydrogen\n",
    "                \"type\": \"biosphere\",\n",
    "                \"input\": ('biosphere', '67c40aae-d403-464d-9649-c12695e43ad8')\n",
    "            }\n",
    "\n",
    "        ],\n",
    "    } for loc in locs.values()\n",
    "}"
   ],
   "outputs": [],
   "execution_count": 21
  },
  {
   "metadata": {
    "ExecuteTime": {
     "end_time": "2024-12-19T11:08:03.835160Z",
     "start_time": "2024-12-19T11:07:56.225310Z"
    }
   },
   "cell_type": "code",
   "source": "bw2data.Database(\"h2\").write(lci)",
   "outputs": [
    {
     "name": "stdout",
     "output_type": "stream",
     "text": [
      "\u001B[2m12:07:56\u001B[0m [\u001B[33m\u001B[1mwarning  \u001B[0m] \u001B[1mNot able to determine geocollections for all datasets. This database is not ready for regionalization.\u001B[0m\n"
     ]
    },
    {
     "name": "stderr",
     "output_type": "stream",
     "text": [
      "100%|██████████| 13/13 [00:00<00:00, 5013.42it/s]"
     ]
    },
    {
     "name": "stdout",
     "output_type": "stream",
     "text": [
      "\u001B[2m12:07:56\u001B[0m [\u001B[32m\u001B[1minfo     \u001B[0m] \u001B[1mVacuuming database            \u001B[0m\n"
     ]
    },
    {
     "name": "stderr",
     "output_type": "stream",
     "text": [
      "\n"
     ]
    }
   ],
   "execution_count": 22
  },
  {
   "metadata": {
    "ExecuteTime": {
     "end_time": "2024-12-19T11:08:03.853947Z",
     "start_time": "2024-12-19T11:08:03.842045Z"
    }
   },
   "cell_type": "code",
   "source": [
    "from edges.analysis import compare_activities_by_grouped_leaves\n",
    "import bw2data\n",
    "bw2data.projects.set_current(\"bw25_ei310\")"
   ],
   "outputs": [],
   "execution_count": 23
  },
  {
   "metadata": {
    "ExecuteTime": {
     "end_time": "2024-12-19T11:27:00.730110Z",
     "start_time": "2024-12-19T11:24:09.958922Z"
    }
   },
   "cell_type": "code",
   "source": [
    "method = ('AWARE 1.2c', 'Country', 'non', 'irri', 'yearly')\n",
    "FU = [act for act in bw2data.Database(\"h2\")]\n",
    "df = compare_activities_by_grouped_leaves(\n",
    "    FU,\n",
    "    method,\n",
    "    max_level=1,\n",
    "    output_format=\"pandas\",\n",
    "    mode=\"absolute\",\n",
    "    cutoff=1e-2,\n",
    ")"
   ],
   "outputs": [
    {
     "name": "stderr",
     "output_type": "stream",
     "text": [
      "/opt/homebrew/Caskroom/miniforge/base/envs/bw25/lib/python3.11/site-packages/bw2calc/lca_base.py:127: SparseEfficiencyWarning: splu converted its input to CSC format\n",
      "  self.solver = factorized(self.technosphere_matrix)\n",
      "/opt/homebrew/Caskroom/miniforge/base/envs/bw25/lib/python3.11/site-packages/scikits/umfpack/umfpack.py:736: UmfpackWarning: (almost) singular matrix! (estimated cond. number: 5.51e+12)\n",
      "  warnings.warn(msg, UmfpackWarning)\n"
     ]
    },
    {
     "name": "stdout",
     "output_type": "stream",
     "text": [
      "Warning: some locations are not found in the database. Check logs.\n",
      "Warning: some locations are not found in the database. Check logs.\n",
      "Warning: some locations are not found in the database. Check logs.\n",
      "Warning: some locations are not found in the database. Check logs.\n",
      "Warning: some locations are not found in the database. Check logs.\n",
      "Warning: some locations are not found in the database. Check logs.\n",
      "Omitting activity name common prefix: 'hydrogen production, from '\n",
      "Warning: some locations are not found in the database. Check logs.\n",
      "Warning: some locations are not found in the database. Check logs.\n",
      "Warning: some locations are not found in the database. Check logs.\n",
      "Warning: some locations are not found in the database. Check logs.\n",
      "Warning: some locations are not found in the database. Check logs.\n",
      "Warning: some locations are not found in the database. Check logs.\n",
      "Warning: some locations are not found in the database. Check logs.\n",
      "Warning: some locations are not found in the database. Check logs.\n",
      "Warning: some locations are not found in the database. Check logs.\n",
      "Warning: some locations are not found in the database. Check logs.\n",
      "Warning: some locations are not found in the database. Check logs.\n",
      "Warning: some locations are not found in the database. Check logs.\n",
      "Warning: some locations are not found in the database. Check logs.\n",
      "Warning: some locations are not found in the database. Check logs.\n"
     ]
    }
   ],
   "execution_count": 57
  },
  {
   "metadata": {
    "ExecuteTime": {
     "end_time": "2024-12-19T11:27:00.765823Z",
     "start_time": "2024-12-19T11:27:00.763845Z"
    }
   },
   "cell_type": "code",
   "source": [
    "df.columns = [\n",
    "    'activity',\n",
    "    'product',\n",
    "    'location',\n",
    "    'unit',\n",
    "    'total',\n",
    "    'impacts directs',\n",
    "    'production électrique',\n",
    "    'fabrication électrolyseur'\n",
    "]"
   ],
   "outputs": [],
   "execution_count": 60
  },
  {
   "metadata": {
    "ExecuteTime": {
     "end_time": "2024-12-19T11:27:00.786815Z",
     "start_time": "2024-12-19T11:27:00.785035Z"
    }
   },
   "cell_type": "code",
   "source": [
    "# méthode globale\n",
    "globalmethod = ('ecoinvent-3.10',\n",
    "  'EF v3.1 EN15804',\n",
    "  'water use',\n",
    "  'user deprivation potential (deprivation-weighted water consumption)')"
   ],
   "outputs": [],
   "execution_count": 61
  },
  {
   "metadata": {
    "ExecuteTime": {
     "end_time": "2024-12-19T11:27:03.978985Z",
     "start_time": "2024-12-19T11:27:00.795424Z"
    }
   },
   "cell_type": "code",
   "source": [
    "from bw2analyzer.comparisons import compare_activities_by_grouped_leaves as ac\n",
    "\n",
    "FU = [act for act in bw2data.Database(\"h2\")]\n",
    "df_glo = ac(\n",
    "    FU[:1],\n",
    "    globalmethod,\n",
    "    max_level=1,\n",
    "    output_format=\"pandas\",\n",
    "    mode=\"absolute\",\n",
    "    cutoff=1e-2,\n",
    ")"
   ],
   "outputs": [
    {
     "name": "stderr",
     "output_type": "stream",
     "text": [
      "/opt/homebrew/Caskroom/miniforge/base/envs/bw25/lib/python3.11/site-packages/scikits/umfpack/umfpack.py:736: UmfpackWarning: (almost) singular matrix! (estimated cond. number: 1.21e+13)\n",
      "  warnings.warn(msg, UmfpackWarning)\n"
     ]
    },
    {
     "name": "stdout",
     "output_type": "stream",
     "text": [
      "Omitting activity name common prefix: 'hydrogen production, from '\n"
     ]
    }
   ],
   "execution_count": 62
  },
  {
   "metadata": {
    "ExecuteTime": {
     "end_time": "2024-12-19T11:27:03.990047Z",
     "start_time": "2024-12-19T11:27:03.987903Z"
    }
   },
   "cell_type": "code",
   "source": [
    "df_glo.columns = [\n",
    "    'activity',\n",
    "    'product',\n",
    "    'location',\n",
    "    'unit',\n",
    "    'total',\n",
    "    'impacts directs',\n",
    "    'production électrique',\n",
    "    'fabrication électrolyseur'\n",
    "]"
   ],
   "outputs": [],
   "execution_count": 63
  },
  {
   "metadata": {
    "ExecuteTime": {
     "end_time": "2024-12-19T11:27:04.000009Z",
     "start_time": "2024-12-19T11:27:03.997997Z"
    }
   },
   "cell_type": "code",
   "source": "df_glo.loc[:, \"location\"] = \"GLO\"",
   "outputs": [],
   "execution_count": 64
  },
  {
   "metadata": {
    "ExecuteTime": {
     "end_time": "2024-12-19T11:27:04.010256Z",
     "start_time": "2024-12-19T11:27:04.007955Z"
    }
   },
   "cell_type": "code",
   "source": [
    "# append the global method to the dataframe\n",
    "import pandas as pd\n",
    "df = pd.concat([df, df_glo])"
   ],
   "outputs": [],
   "execution_count": 65
  },
  {
   "metadata": {
    "ExecuteTime": {
     "end_time": "2024-12-19T11:27:04.128536Z",
     "start_time": "2024-12-19T11:27:04.017890Z"
    }
   },
   "cell_type": "code",
   "source": [
    "import matplotlib.pyplot as plt\n",
    "# Prepare the data for the stacked bar chart\n",
    "locations = df[\"location\"]\n",
    "values = df.loc[:, \"impacts directs\":]\n",
    "\n",
    "# Plot the stacked bar chart\n",
    "fig, ax = plt.subplots(figsize=(8, 4))\n",
    "values.plot(kind=\"bar\", stacked=True, ax=ax, colormap=\"viridis\")\n",
    "\n",
    "# Set chart details\n",
    "ax.set_xticks(range(len(locations)))\n",
    "ax.set_xticklabels(locations, rotation=0)\n",
    "ax.set_xlabel(\"Région\")\n",
    "ax.set_ylabel(\"$m^3$-éq./kg $H_2$\")\n",
    "ax.set_title(\"Score d'impact AWARE pour la production d'hydrogèen par électrolyse en France\")\n",
    "plt.legend(title=\"Sources d'impact\")\n",
    "plt.tight_layout()\n",
    "\n",
    "# Show the plot\n",
    "plt.show()"
   ],
   "outputs": [
    {
     "data": {
      "text/plain": [
       "<Figure size 800x400 with 1 Axes>"
      ],
      "image/png": "[encoded data removed]"
     },
     "metadata": {},
     "output_type": "display_data"
    }
   ],
   "execution_count": 66
  },
  {
   "metadata": {
    "ExecuteTime": {
     "end_time": "2024-12-19T11:33:40.968041Z",
     "start_time": "2024-12-19T11:33:40.955944Z"
    }
   },
   "cell_type": "code",
   "source": "df",
   "outputs": [
    {
     "data": {
      "text/plain": [
       "        activity product location      unit     total  impacts directs  \\\n",
       "0   electrolysis            FR-BR  kilogram  0.366481         0.166649   \n",
       "1   electrolysis            FR-CO  kilogram  0.319975         0.120143   \n",
       "2   electrolysis            FR-OC  kilogram  0.268604         0.068772   \n",
       "3   electrolysis            FR-PL  kilogram  0.246298         0.046466   \n",
       "4   electrolysis            FR-NA  kilogram  0.234564         0.034732   \n",
       "5   electrolysis          FR-PACA  kilogram  0.230789         0.030957   \n",
       "6   electrolysis           FR-CVL  kilogram  0.228911         0.029079   \n",
       "7   electrolysis            FR-IL  kilogram  0.222512         0.022680   \n",
       "8   electrolysis            FR-NO  kilogram  0.219393         0.019561   \n",
       "9   electrolysis            FR-HF  kilogram  0.215471         0.015639   \n",
       "10  electrolysis           FR-BFC  kilogram  0.215301         0.015469   \n",
       "11  electrolysis            FR-GE  kilogram  0.211694         0.011862   \n",
       "12  electrolysis           FR-ARA  kilogram  0.211669         0.011837   \n",
       "0   electrolysis              GLO  kilogram  0.482863         0.000000   \n",
       "\n",
       "    production électrique  fabrication électrolyseur  \n",
       "0                0.177083                   0.022749  \n",
       "1                0.177083                   0.022749  \n",
       "2                0.177083                   0.022749  \n",
       "3                0.177083                   0.022749  \n",
       "4                0.177083                   0.022749  \n",
       "5                0.177083                   0.022740  \n",
       "6                0.177083                   0.022749  \n",
       "7                0.177083                   0.022749  \n",
       "8                0.177083                   0.022749  \n",
       "9                0.177083                   0.022749  \n",
       "10               0.177083                   0.022749  \n",
       "11               0.177083                   0.022749  \n",
       "12               0.177083                   0.022749  \n",
       "0                0.426871                   0.055957  "
      ],
      "text/html": [
       "<div>\n",
       "<style scoped>\n",
       "    .dataframe tbody tr th:only-of-type {\n",
       "        vertical-align: middle;\n",
       "    }\n",
       "\n",
       "    .dataframe tbody tr th {\n",
       "        vertical-align: top;\n",
       "    }\n",
       "\n",
       "    .dataframe thead th {\n",
       "        text-align: right;\n",
       "    }\n",
       "</style>\n",
       "<table border=\"1\" class=\"dataframe\">\n",
       "  <thead>\n",
       "    <tr style=\"text-align: right;\">\n",
       "      <th></th>\n",
       "      <th>activity</th>\n",
       "      <th>product</th>\n",
       "      <th>location</th>\n",
       "      <th>unit</th>\n",
       "      <th>total</th>\n",
       "      <th>impacts directs</th>\n",
       "      <th>production électrique</th>\n",
       "      <th>fabrication électrolyseur</th>\n",
       "    </tr>\n",
       "  </thead>\n",
       "  <tbody>\n",
       "    <tr>\n",
       "      <th>0</th>\n",
       "      <td>electrolysis</td>\n",
       "      <td></td>\n",
       "      <td>FR-BR</td>\n",
       "      <td>kilogram</td>\n",
       "      <td>0.366481</td>\n",
       "      <td>0.166649</td>\n",
       "      <td>0.177083</td>\n",
       "      <td>0.022749</td>\n",
       "    </tr>\n",
       "    <tr>\n",
       "      <th>1</th>\n",
       "      <td>electrolysis</td>\n",
       "      <td></td>\n",
       "      <td>FR-CO</td>\n",
       "      <td>kilogram</td>\n",
       "      <td>0.319975</td>\n",
       "      <td>0.120143</td>\n",
       "      <td>0.177083</td>\n",
       "      <td>0.022749</td>\n",
       "    </tr>\n",
       "    <tr>\n",
       "      <th>2</th>\n",
       "      <td>electrolysis</td>\n",
       "      <td></td>\n",
       "      <td>FR-OC</td>\n",
       "      <td>kilogram</td>\n",
       "      <td>0.268604</td>\n",
       "      <td>0.068772</td>\n",
       "      <td>0.177083</td>\n",
       "      <td>0.022749</td>\n",
       "    </tr>\n",
       "    <tr>\n",
       "      <th>3</th>\n",
       "      <td>electrolysis</td>\n",
       "      <td></td>\n",
       "      <td>FR-PL</td>\n",
       "      <td>kilogram</td>\n",
       "      <td>0.246298</td>\n",
       "      <td>0.046466</td>\n",
       "      <td>0.177083</td>\n",
       "      <td>0.022749</td>\n",
       "    </tr>\n",
       "    <tr>\n",
       "      <th>4</th>\n",
       "      <td>electrolysis</td>\n",
       "      <td></td>\n",
       "      <td>FR-NA</td>\n",
       "      <td>kilogram</td>\n",
       "      <td>0.234564</td>\n",
       "      <td>0.034732</td>\n",
       "      <td>0.177083</td>\n",
       "      <td>0.022749</td>\n",
       "    </tr>\n",
       "    <tr>\n",
       "      <th>5</th>\n",
       "      <td>electrolysis</td>\n",
       "      <td></td>\n",
       "      <td>FR-PACA</td>\n",
       "      <td>kilogram</td>\n",
       "      <td>0.230789</td>\n",
       "      <td>0.030957</td>\n",
       "      <td>0.177083</td>\n",
       "      <td>0.022740</td>\n",
       "    </tr>\n",
       "    <tr>\n",
       "      <th>6</th>\n",
       "      <td>electrolysis</td>\n",
       "      <td></td>\n",
       "      <td>FR-CVL</td>\n",
       "      <td>kilogram</td>\n",
       "      <td>0.228911</td>\n",
       "      <td>0.029079</td>\n",
       "      <td>0.177083</td>\n",
       "      <td>0.022749</td>\n",
       "    </tr>\n",
       "    <tr>\n",
       "      <th>7</th>\n",
       "      <td>electrolysis</td>\n",
       "      <td></td>\n",
       "      <td>FR-IL</td>\n",
       "      <td>kilogram</td>\n",
       "      <td>0.222512</td>\n",
       "      <td>0.022680</td>\n",
       "      <td>0.177083</td>\n",
       "      <td>0.022749</td>\n",
       "    </tr>\n",
       "    <tr>\n",
       "      <th>8</th>\n",
       "      <td>electrolysis</td>\n",
       "      <td></td>\n",
       "      <td>FR-NO</td>\n",
       "      <td>kilogram</td>\n",
       "      <td>0.219393</td>\n",
       "      <td>0.019561</td>\n",
       "      <td>0.177083</td>\n",
       "      <td>0.022749</td>\n",
       "    </tr>\n",
       "    <tr>\n",
       "      <th>9</th>\n",
       "      <td>electrolysis</td>\n",
       "      <td></td>\n",
       "      <td>FR-HF</td>\n",
       "      <td>kilogram</td>\n",
       "      <td>0.215471</td>\n",
       "      <td>0.015639</td>\n",
       "      <td>0.177083</td>\n",
       "      <td>0.022749</td>\n",
       "    </tr>\n",
       "    <tr>\n",
       "      <th>10</th>\n",
       "      <td>electrolysis</td>\n",
       "      <td></td>\n",
       "      <td>FR-BFC</td>\n",
       "      <td>kilogram</td>\n",
       "      <td>0.215301</td>\n",
       "      <td>0.015469</td>\n",
       "      <td>0.177083</td>\n",
       "      <td>0.022749</td>\n",
       "    </tr>\n",
       "    <tr>\n",
       "      <th>11</th>\n",
       "      <td>electrolysis</td>\n",
       "      <td></td>\n",
       "      <td>FR-GE</td>\n",
       "      <td>kilogram</td>\n",
       "      <td>0.211694</td>\n",
       "      <td>0.011862</td>\n",
       "      <td>0.177083</td>\n",
       "      <td>0.022749</td>\n",
       "    </tr>\n",
       "    <tr>\n",
       "      <th>12</th>\n",
       "      <td>electrolysis</td>\n",
       "      <td></td>\n",
       "      <td>FR-ARA</td>\n",
       "      <td>kilogram</td>\n",
       "      <td>0.211669</td>\n",
       "      <td>0.011837</td>\n",
       "      <td>0.177083</td>\n",
       "      <td>0.022749</td>\n",
       "    </tr>\n",
       "    <tr>\n",
       "      <th>0</th>\n",
       "      <td>electrolysis</td>\n",
       "      <td></td>\n",
       "      <td>GLO</td>\n",
       "      <td>kilogram</td>\n",
       "      <td>0.482863</td>\n",
       "      <td>0.000000</td>\n",
       "      <td>0.426871</td>\n",
       "      <td>0.055957</td>\n",
       "    </tr>\n",
       "  </tbody>\n",
       "</table>\n",
       "</div>"
      ]
     },
     "execution_count": 67,
     "metadata": {},
     "output_type": "execute_result"
    }
   ],
   "execution_count": 67
  },
  {
   "metadata": {
    "ExecuteTime": {
     "end_time": "2024-12-19T11:44:10.088013Z",
     "start_time": "2024-12-19T11:44:10.079853Z"
    }
   },
   "cell_type": "code",
   "source": "FU[0]",
   "outputs": [
    {
     "data": {
      "text/plain": [
       "'hydrogen production, from electrolysis' (kilogram, FR-PL, None)"
      ]
     },
     "execution_count": 71,
     "metadata": {},
     "output_type": "execute_result"
    }
   ],
   "execution_count": 71
  },
  {
   "metadata": {
    "ExecuteTime": {
     "end_time": "2024-12-19T11:41:32.679349Z",
     "start_time": "2024-12-19T11:41:23.705189Z"
    }
   },
   "cell_type": "code",
   "source": [
    "LCA = EdgeLCIA({FU[0]: 1}, method)\n",
    "LCA.lci()\n",
    "LCA.lcia()\n",
    "LCA.score"
   ],
   "outputs": [
    {
     "name": "stderr",
     "output_type": "stream",
     "text": [
      "/opt/homebrew/Caskroom/miniforge/base/envs/bw25/lib/python3.11/site-packages/scikits/umfpack/umfpack.py:736: UmfpackWarning: (almost) singular matrix! (estimated cond. number: 1.21e+13)\n",
      "  warnings.warn(msg, UmfpackWarning)\n"
     ]
    },
    {
     "name": "stdout",
     "output_type": "stream",
     "text": [
      "Warning: some locations are not found in the database. Check logs.\n"
     ]
    },
    {
     "data": {
      "text/plain": [
       "0.24629847911484148"
      ]
     },
     "execution_count": 68,
     "metadata": {},
     "output_type": "execute_result"
    }
   ],
   "execution_count": 68
  },
  {
   "metadata": {
    "ExecuteTime": {
     "end_time": "2024-12-19T11:41:57.897221Z",
     "start_time": "2024-12-19T11:41:54.756802Z"
    }
   },
   "cell_type": "code",
   "source": "df_cf = LCA.generate_cf_table()",
   "outputs": [
    {
     "name": "stdout",
     "output_type": "stream",
     "text": [
      "Matrix type: biosphere\n"
     ]
    }
   ],
   "execution_count": 69
  },
  {
   "metadata": {
    "ExecuteTime": {
     "end_time": "2024-12-19T11:45:37.632003Z",
     "start_time": "2024-12-19T11:45:37.624117Z"
    }
   },
   "cell_type": "code",
   "source": "df_cf",
   "outputs": [
    {
     "data": {
      "text/plain": [
       "                                   supplier name  \\\n",
       "0     Water, cooling, unspecified natural origin   \n",
       "1     Water, cooling, unspecified natural origin   \n",
       "2     Water, cooling, unspecified natural origin   \n",
       "3     Water, cooling, unspecified natural origin   \n",
       "4     Water, cooling, unspecified natural origin   \n",
       "...                                          ...   \n",
       "8873                                       Water   \n",
       "8874                                       Water   \n",
       "8875                                       Water   \n",
       "8876                                       Water   \n",
       "8877                                       Water   \n",
       "\n",
       "               supplier categories  \\\n",
       "0     (natural resource, in water)   \n",
       "1     (natural resource, in water)   \n",
       "2     (natural resource, in water)   \n",
       "3     (natural resource, in water)   \n",
       "4     (natural resource, in water)   \n",
       "...                            ...   \n",
       "8873        (water, surface water)   \n",
       "8874        (water, surface water)   \n",
       "8875        (water, surface water)   \n",
       "8876        (water, surface water)   \n",
       "8877        (water, surface water)   \n",
       "\n",
       "                                          consumer name  \\\n",
       "0                                  cast iron production   \n",
       "1                   polystyrene production, high impact   \n",
       "2                            cast iron milling, average   \n",
       "3                           electricity production, oil   \n",
       "4                   polypropylene production, granulate   \n",
       "...                                                 ...   \n",
       "8873              petroleum and gas production, onshore   \n",
       "8874  treatment of waste emulsion paint, municipal i...   \n",
       "8875     aluminium production, primary, liquid, prebake   \n",
       "8876                             citric acid production   \n",
       "8877  treatment of leachate, SLF, refinery sludge, w...   \n",
       "\n",
       "                 consumer reference product  \\\n",
       "0                                 cast iron   \n",
       "1                  polystyrene, high impact   \n",
       "2     cast iron removed by milling, average   \n",
       "3                 electricity, high voltage   \n",
       "4                  polypropylene, granulate   \n",
       "...                                     ...   \n",
       "8873             natural gas, high pressure   \n",
       "8874                   waste emulsion paint   \n",
       "8875             aluminium, primary, liquid   \n",
       "8876                            citric acid   \n",
       "8877         leachate, SLF, refinery sludge   \n",
       "\n",
       "                           consumer location        amount         CF  \\\n",
       "0                                        RoW  6.440555e-05  19.717342   \n",
       "1                                        RER  1.998050e-08   6.750246   \n",
       "2                                        RoW  9.956540e-12  19.717342   \n",
       "3                                      CA-PE  4.059619e-09   1.276723   \n",
       "4                                        RER  8.898497e-07   6.750246   \n",
       "...                                      ...           ...        ...   \n",
       "8873                                      TH  5.447445e-09  -3.945516   \n",
       "8874                                      CH  1.138050e-10  -0.737323   \n",
       "8875  IAI Area, Russia & RER w/o EU27 & EFTA  1.240651e-07  -3.594363   \n",
       "8876                                     RNA  1.589354e-09  -8.711302   \n",
       "8877                                      CH  4.061160e-13  -0.737323   \n",
       "\n",
       "            impact  \n",
       "0     1.269906e-03  \n",
       "1     1.348733e-07  \n",
       "2     1.963165e-10  \n",
       "3     5.183011e-09  \n",
       "4     6.006704e-06  \n",
       "...            ...  \n",
       "8873 -2.149298e-08  \n",
       "8874 -8.391109e-11  \n",
       "8875 -4.459348e-07  \n",
       "8876 -1.384534e-08  \n",
       "8877 -2.994388e-13  \n",
       "\n",
       "[8878 rows x 8 columns]"
      ],
      "text/html": [
       "<div>\n",
       "<style scoped>\n",
       "    .dataframe tbody tr th:only-of-type {\n",
       "        vertical-align: middle;\n",
       "    }\n",
       "\n",
       "    .dataframe tbody tr th {\n",
       "        vertical-align: top;\n",
       "    }\n",
       "\n",
       "    .dataframe thead th {\n",
       "        text-align: right;\n",
       "    }\n",
       "</style>\n",
       "<table border=\"1\" class=\"dataframe\">\n",
       "  <thead>\n",
       "    <tr style=\"text-align: right;\">\n",
       "      <th></th>\n",
       "      <th>supplier name</th>\n",
       "      <th>supplier categories</th>\n",
       "      <th>consumer name</th>\n",
       "      <th>consumer reference product</th>\n",
       "      <th>consumer location</th>\n",
       "      <th>amount</th>\n",
       "      <th>CF</th>\n",
       "      <th>impact</th>\n",
       "    </tr>\n",
       "  </thead>\n",
       "  <tbody>\n",
       "    <tr>\n",
       "      <th>0</th>\n",
       "      <td>Water, cooling, unspecified natural origin</td>\n",
       "      <td>(natural resource, in water)</td>\n",
       "      <td>cast iron production</td>\n",
       "      <td>cast iron</td>\n",
       "      <td>RoW</td>\n",
       "      <td>6.440555e-05</td>\n",
       "      <td>19.717342</td>\n",
       "      <td>1.269906e-03</td>\n",
       "    </tr>\n",
       "    <tr>\n",
       "      <th>1</th>\n",
       "      <td>Water, cooling, unspecified natural origin</td>\n",
       "      <td>(natural resource, in water)</td>\n",
       "      <td>polystyrene production, high impact</td>\n",
       "      <td>polystyrene, high impact</td>\n",
       "      <td>RER</td>\n",
       "      <td>1.998050e-08</td>\n",
       "      <td>6.750246</td>\n",
       "      <td>1.348733e-07</td>\n",
       "    </tr>\n",
       "    <tr>\n",
       "      <th>2</th>\n",
       "      <td>Water, cooling, unspecified natural origin</td>\n",
       "      <td>(natural resource, in water)</td>\n",
       "      <td>cast iron milling, average</td>\n",
       "      <td>cast iron removed by milling, average</td>\n",
       "      <td>RoW</td>\n",
       "      <td>9.956540e-12</td>\n",
       "      <td>19.717342</td>\n",
       "      <td>1.963165e-10</td>\n",
       "    </tr>\n",
       "    <tr>\n",
       "      <th>3</th>\n",
       "      <td>Water, cooling, unspecified natural origin</td>\n",
       "      <td>(natural resource, in water)</td>\n",
       "      <td>electricity production, oil</td>\n",
       "      <td>electricity, high voltage</td>\n",
       "      <td>CA-PE</td>\n",
       "      <td>4.059619e-09</td>\n",
       "      <td>1.276723</td>\n",
       "      <td>5.183011e-09</td>\n",
       "    </tr>\n",
       "    <tr>\n",
       "      <th>4</th>\n",
       "      <td>Water, cooling, unspecified natural origin</td>\n",
       "      <td>(natural resource, in water)</td>\n",
       "      <td>polypropylene production, granulate</td>\n",
       "      <td>polypropylene, granulate</td>\n",
       "      <td>RER</td>\n",
       "      <td>8.898497e-07</td>\n",
       "      <td>6.750246</td>\n",
       "      <td>6.006704e-06</td>\n",
       "    </tr>\n",
       "    <tr>\n",
       "      <th>...</th>\n",
       "      <td>...</td>\n",
       "      <td>...</td>\n",
       "      <td>...</td>\n",
       "      <td>...</td>\n",
       "      <td>...</td>\n",
       "      <td>...</td>\n",
       "      <td>...</td>\n",
       "      <td>...</td>\n",
       "    </tr>\n",
       "    <tr>\n",
       "      <th>8873</th>\n",
       "      <td>Water</td>\n",
       "      <td>(water, surface water)</td>\n",
       "      <td>petroleum and gas production, onshore</td>\n",
       "      <td>natural gas, high pressure</td>\n",
       "      <td>TH</td>\n",
       "      <td>5.447445e-09</td>\n",
       "      <td>-3.945516</td>\n",
       "      <td>-2.149298e-08</td>\n",
       "    </tr>\n",
       "    <tr>\n",
       "      <th>8874</th>\n",
       "      <td>Water</td>\n",
       "      <td>(water, surface water)</td>\n",
       "      <td>treatment of waste emulsion paint, municipal i...</td>\n",
       "      <td>waste emulsion paint</td>\n",
       "      <td>CH</td>\n",
       "      <td>1.138050e-10</td>\n",
       "      <td>-0.737323</td>\n",
       "      <td>-8.391109e-11</td>\n",
       "    </tr>\n",
       "    <tr>\n",
       "      <th>8875</th>\n",
       "      <td>Water</td>\n",
       "      <td>(water, surface water)</td>\n",
       "      <td>aluminium production, primary, liquid, prebake</td>\n",
       "      <td>aluminium, primary, liquid</td>\n",
       "      <td>IAI Area, Russia &amp; RER w/o EU27 &amp; EFTA</td>\n",
       "      <td>1.240651e-07</td>\n",
       "      <td>-3.594363</td>\n",
       "      <td>-4.459348e-07</td>\n",
       "    </tr>\n",
       "    <tr>\n",
       "      <th>8876</th>\n",
       "      <td>Water</td>\n",
       "      <td>(water, surface water)</td>\n",
       "      <td>citric acid production</td>\n",
       "      <td>citric acid</td>\n",
       "      <td>RNA</td>\n",
       "      <td>1.589354e-09</td>\n",
       "      <td>-8.711302</td>\n",
       "      <td>-1.384534e-08</td>\n",
       "    </tr>\n",
       "    <tr>\n",
       "      <th>8877</th>\n",
       "      <td>Water</td>\n",
       "      <td>(water, surface water)</td>\n",
       "      <td>treatment of leachate, SLF, refinery sludge, w...</td>\n",
       "      <td>leachate, SLF, refinery sludge</td>\n",
       "      <td>CH</td>\n",
       "      <td>4.061160e-13</td>\n",
       "      <td>-0.737323</td>\n",
       "      <td>-2.994388e-13</td>\n",
       "    </tr>\n",
       "  </tbody>\n",
       "</table>\n",
       "<p>8878 rows × 8 columns</p>\n",
       "</div>"
      ]
     },
     "execution_count": 73,
     "metadata": {},
     "output_type": "execute_result"
    }
   ],
   "execution_count": 73
  },
  {
   "metadata": {
    "ExecuteTime": {
     "end_time": "2024-12-19T11:54:27.334813Z",
     "start_time": "2024-12-19T11:54:26.806027Z"
    }
   },
   "cell_type": "code",
   "source": "df_cf.to_excel(\"cf_h2.xlsx\")",
   "outputs": [],
   "execution_count": 88
  },
  {
   "metadata": {
    "ExecuteTime": {
     "end_time": "2024-12-19T12:05:41.434208Z",
     "start_time": "2024-12-19T12:05:41.423781Z"
    }
   },
   "cell_type": "code",
   "source": [
    "import matplotlib.pyplot as plt\n",
    "\n",
    "# Grouping the data by consumer location and consumer name to sum the impact\n",
    "grouped_data = df_cf.groupby(['consumer location', 'consumer name'])['impact'].sum()\n",
    "grouped_data\n",
    "\n"
   ],
   "outputs": [
    {
     "data": {
      "text/plain": [
       "consumer location  consumer name                                              \n",
       "AE                 petroleum and gas production, onshore                          0.000000e+00\n",
       "AR                 electricity production, hard coal                              1.349249e-07\n",
       "                   electricity production, hydro, pumped storage                  1.564493e-08\n",
       "                   electricity production, hydro, reservoir, alpine region        1.639440e-05\n",
       "                   electricity production, hydro, reservoir, non-alpine region    1.573278e-05\n",
       "                                                                                      ...     \n",
       "ZA                 treatment of sulfidic tailing, off-site, high gold content    -2.260231e-07\n",
       "                   water production, decarbonised                                 2.513279e-03\n",
       "                   wheat grain production                                        -6.159317e-10\n",
       "                   white spirit production, petroleum refinery operation          5.076116e-11\n",
       "ZM                 copper mine operation and beneficiation, sulfide ore           3.831006e-05\n",
       "Name: impact, Length: 3511, dtype: float64"
      ]
     },
     "execution_count": 110,
     "metadata": {},
     "output_type": "execute_result"
    }
   ],
   "execution_count": 110
  },
  {
   "metadata": {
    "ExecuteTime": {
     "end_time": "2024-12-19T12:05:42.492371Z",
     "start_time": "2024-12-19T12:05:42.487967Z"
    }
   },
   "cell_type": "code",
   "source": [
    "# remove row that contribute less than 1% to the total impact\n",
    "grouped_data = grouped_data[grouped_data > 0.02 * grouped_data.sum()]"
   ],
   "outputs": [],
   "execution_count": 111
  },
  {
   "metadata": {
    "ExecuteTime": {
     "end_time": "2024-12-19T12:06:34.032246Z",
     "start_time": "2024-12-19T12:06:33.851059Z"
    }
   },
   "cell_type": "code",
   "source": [
    "# make a stacked bar chart to show results per consumer location on teh x-axis and consumer name on the legend\n",
    "fig, ax = plt.subplots(figsize=(10, 6))\n",
    "grouped_data.unstack().plot(kind='bar', stacked=True, ax=ax)\n",
    "# reformat labels on teh x.axis\n",
    "#ax.set_xticklabels(grouped_data.index.levels[0], rotation=45)\n",
    "# set y axis label\n",
    "ax.set_ylabel('m$^3$-eq/kg H$_2$')"
   ],
   "outputs": [
    {
     "data": {
      "text/plain": [
       "Text(0, 0.5, 'm$^3$-eq/kg H$_2$')"
      ]
     },
     "execution_count": 113,
     "metadata": {},
     "output_type": "execute_result"
    },
    {
     "data": {
      "text/plain": [
       "<Figure size 1000x600 with 1 Axes>"
      ],
      "image/png": "[encoded data removed]"
     },
     "metadata": {},
     "output_type": "display_data"
    }
   ],
   "execution_count": 113
  },
  {
   "metadata": {},
   "cell_type": "markdown",
   "source": [
    "## Technosphere edges-based LCIA\n",
    "\n",
    "The `EdgeLCIA` class can also be used to calculate LCIA results for technosphere exchanges."
   ]
  },
  {
   "metadata": {
    "ExecuteTime": {
     "end_time": "2024-12-16T08:19:30.978411Z",
     "start_time": "2024-12-16T08:19:30.951415Z"
    }
   },
   "cell_type": "code",
   "source": [
    "from edges import EdgeLCIA\n",
    "import bw2data\n",
    "bw2data.projects.set_current(\"bw25_ei310\")"
   ],
   "outputs": [],
   "execution_count": 3
  },
  {
   "metadata": {
    "ExecuteTime": {
     "end_time": "2024-12-16T08:19:32.987853Z",
     "start_time": "2024-12-16T08:19:31.437258Z"
    }
   },
   "cell_type": "code",
   "source": [
    "act = [a for a in bw2data.Database(\"ecoinvent-3.10-cutoff\") if \"NMC\" in a[\"name\"]][0]\n",
    "act"
   ],
   "outputs": [
    {
     "data": {
      "text/plain": [
       "'battery production, Li-ion, NMC811, rechargeable, prismatic' (kilogram, CN, None)"
      ]
     },
     "execution_count": 4,
     "metadata": {},
     "output_type": "execute_result"
    }
   ],
   "execution_count": 4
  },
  {
   "metadata": {
    "ExecuteTime": {
     "end_time": "2024-12-16T08:20:32.112078Z",
     "start_time": "2024-12-16T08:20:25.341635Z"
    }
   },
   "cell_type": "code",
   "source": [
    "method = ('RELICS', 'copper')\n",
    "LCA = EdgeLCIA({act: 1}, method)\n",
    "LCA.lci()\n",
    "LCA.lcia()\n",
    "LCA.score"
   ],
   "outputs": [
    {
     "data": {
      "text/plain": [
       "0.21042595441320422"
      ]
     },
     "execution_count": 6,
     "metadata": {},
     "output_type": "execute_result"
    }
   ],
   "execution_count": 6
  },
  {
   "metadata": {},
   "cell_type": "markdown",
   "source": "### Using GeoPolRisk (under development)"
  },
  {
   "metadata": {
    "ExecuteTime": {
     "end_time": "2024-12-16T08:21:20.979395Z",
     "start_time": "2024-12-16T08:20:47.513609Z"
    }
   },
   "cell_type": "code",
   "source": [
    "method = ('GeoPolRisk', '2024')\n",
    "LCA = EdgeLCIA({act: 1}, method)\n",
    "LCA.lci()\n",
    "LCA.lcia()\n",
    "LCA.score"
   ],
   "outputs": [
    {
     "name": "stdout",
     "output_type": "stream",
     "text": [
      "2 locations were ignored. Check .ignored_locations attribute.\n"
     ]
    },
    {
     "data": {
      "text/plain": [
       "0.12754066712495815"
      ]
     },
     "execution_count": 7,
     "metadata": {},
     "output_type": "execute_result"
    }
   ],
   "execution_count": 7
  },
  {
   "metadata": {
    "ExecuteTime": {
     "end_time": "2024-12-16T08:21:42.247510Z",
     "start_time": "2024-12-16T08:21:42.047698Z"
    }
   },
   "cell_type": "code",
   "source": [
    "df = LCA.generate_cf_table()\n",
    "df"
   ],
   "outputs": [
    {
     "name": "stdout",
     "output_type": "stream",
     "text": [
      "Matrix type: technosphere\n"
     ]
    },
    {
     "data": {
      "text/plain": [
       "                              supplier name  supplier reference product  \\\n",
       "0     petroleum and gas production, onshore  natural gas, high pressure   \n",
       "1     petroleum and gas production, onshore  natural gas, high pressure   \n",
       "2                 hard coal, import from ZA                   hard coal   \n",
       "3    petroleum and gas production, offshore  natural gas, high pressure   \n",
       "4    petroleum and gas production, offshore  natural gas, high pressure   \n",
       "..                                      ...                         ...   \n",
       "425   petroleum and gas production, onshore  natural gas, high pressure   \n",
       "426   petroleum and gas production, onshore  natural gas, high pressure   \n",
       "427   petroleum and gas production, onshore                   petroleum   \n",
       "428   petroleum and gas production, onshore                   petroleum   \n",
       "429   petroleum and gas production, onshore                   petroleum   \n",
       "\n",
       "    supplier location                                      consumer name  \\\n",
       "0                  EC              market for natural gas, high pressure   \n",
       "1                  EC                 natural gas, burned in gas turbine   \n",
       "2                  IN                               market for hard coal   \n",
       "3                  MX  natural gas, high pressure, domestic supply wi...   \n",
       "4                  MX         natural gas, high pressure, import from MX   \n",
       "..                ...                                                ...   \n",
       "425                TH              market for natural gas, high pressure   \n",
       "426                TH                 natural gas, burned in gas turbine   \n",
       "427                RU                               market for petroleum   \n",
       "428                RU                               market for petroleum   \n",
       "429                RU                               market for petroleum   \n",
       "\n",
       "             consumer reference product consumer location    amount        CF  \\\n",
       "0            natural gas, high pressure                EC  0.000081  0.042343   \n",
       "1    natural gas, burned in gas turbine                EC  0.000001  0.042343   \n",
       "2                             hard coal                IN  0.009212  0.007686   \n",
       "3            natural gas, high pressure                MX  0.010588  0.059446   \n",
       "4            natural gas, high pressure                US  0.000013  0.049182   \n",
       "..                                  ...               ...       ...       ...   \n",
       "425          natural gas, high pressure                TH  0.002203  0.055233   \n",
       "426  natural gas, burned in gas turbine                TH  0.000014  0.055233   \n",
       "427                           petroleum                BR  0.000056  0.002997   \n",
       "428                           petroleum                PE  0.000130  0.015157   \n",
       "429                           petroleum                IN  0.000906  0.048872   \n",
       "\n",
       "           impact  \n",
       "0    3.414592e-06  \n",
       "1    5.490913e-08  \n",
       "2    7.080365e-05  \n",
       "3    6.294032e-04  \n",
       "4    6.211930e-07  \n",
       "..            ...  \n",
       "425  1.216972e-04  \n",
       "426  7.543712e-07  \n",
       "427  1.673438e-07  \n",
       "428  1.965600e-06  \n",
       "429  4.427836e-05  \n",
       "\n",
       "[430 rows x 9 columns]"
      ],
      "text/html": [
       "<div>\n",
       "<style scoped>\n",
       "    .dataframe tbody tr th:only-of-type {\n",
       "        vertical-align: middle;\n",
       "    }\n",
       "\n",
       "    .dataframe tbody tr th {\n",
       "        vertical-align: top;\n",
       "    }\n",
       "\n",
       "    .dataframe thead th {\n",
       "        text-align: right;\n",
       "    }\n",
       "</style>\n",
       "<table border=\"1\" class=\"dataframe\">\n",
       "  <thead>\n",
       "    <tr style=\"text-align: right;\">\n",
       "      <th></th>\n",
       "      <th>supplier name</th>\n",
       "      <th>supplier reference product</th>\n",
       "      <th>supplier location</th>\n",
       "      <th>consumer name</th>\n",
       "      <th>consumer reference product</th>\n",
       "      <th>consumer location</th>\n",
       "      <th>amount</th>\n",
       "      <th>CF</th>\n",
       "      <th>impact</th>\n",
       "    </tr>\n",
       "  </thead>\n",
       "  <tbody>\n",
       "    <tr>\n",
       "      <th>0</th>\n",
       "      <td>petroleum and gas production, onshore</td>\n",
       "      <td>natural gas, high pressure</td>\n",
       "      <td>EC</td>\n",
       "      <td>market for natural gas, high pressure</td>\n",
       "      <td>natural gas, high pressure</td>\n",
       "      <td>EC</td>\n",
       "      <td>0.000081</td>\n",
       "      <td>0.042343</td>\n",
       "      <td>3.414592e-06</td>\n",
       "    </tr>\n",
       "    <tr>\n",
       "      <th>1</th>\n",
       "      <td>petroleum and gas production, onshore</td>\n",
       "      <td>natural gas, high pressure</td>\n",
       "      <td>EC</td>\n",
       "      <td>natural gas, burned in gas turbine</td>\n",
       "      <td>natural gas, burned in gas turbine</td>\n",
       "      <td>EC</td>\n",
       "      <td>0.000001</td>\n",
       "      <td>0.042343</td>\n",
       "      <td>5.490913e-08</td>\n",
       "    </tr>\n",
       "    <tr>\n",
       "      <th>2</th>\n",
       "      <td>hard coal, import from ZA</td>\n",
       "      <td>hard coal</td>\n",
       "      <td>IN</td>\n",
       "      <td>market for hard coal</td>\n",
       "      <td>hard coal</td>\n",
       "      <td>IN</td>\n",
       "      <td>0.009212</td>\n",
       "      <td>0.007686</td>\n",
       "      <td>7.080365e-05</td>\n",
       "    </tr>\n",
       "    <tr>\n",
       "      <th>3</th>\n",
       "      <td>petroleum and gas production, offshore</td>\n",
       "      <td>natural gas, high pressure</td>\n",
       "      <td>MX</td>\n",
       "      <td>natural gas, high pressure, domestic supply wi...</td>\n",
       "      <td>natural gas, high pressure</td>\n",
       "      <td>MX</td>\n",
       "      <td>0.010588</td>\n",
       "      <td>0.059446</td>\n",
       "      <td>6.294032e-04</td>\n",
       "    </tr>\n",
       "    <tr>\n",
       "      <th>4</th>\n",
       "      <td>petroleum and gas production, offshore</td>\n",
       "      <td>natural gas, high pressure</td>\n",
       "      <td>MX</td>\n",
       "      <td>natural gas, high pressure, import from MX</td>\n",
       "      <td>natural gas, high pressure</td>\n",
       "      <td>US</td>\n",
       "      <td>0.000013</td>\n",
       "      <td>0.049182</td>\n",
       "      <td>6.211930e-07</td>\n",
       "    </tr>\n",
       "    <tr>\n",
       "      <th>...</th>\n",
       "      <td>...</td>\n",
       "      <td>...</td>\n",
       "      <td>...</td>\n",
       "      <td>...</td>\n",
       "      <td>...</td>\n",
       "      <td>...</td>\n",
       "      <td>...</td>\n",
       "      <td>...</td>\n",
       "      <td>...</td>\n",
       "    </tr>\n",
       "    <tr>\n",
       "      <th>425</th>\n",
       "      <td>petroleum and gas production, onshore</td>\n",
       "      <td>natural gas, high pressure</td>\n",
       "      <td>TH</td>\n",
       "      <td>market for natural gas, high pressure</td>\n",
       "      <td>natural gas, high pressure</td>\n",
       "      <td>TH</td>\n",
       "      <td>0.002203</td>\n",
       "      <td>0.055233</td>\n",
       "      <td>1.216972e-04</td>\n",
       "    </tr>\n",
       "    <tr>\n",
       "      <th>426</th>\n",
       "      <td>petroleum and gas production, onshore</td>\n",
       "      <td>natural gas, high pressure</td>\n",
       "      <td>TH</td>\n",
       "      <td>natural gas, burned in gas turbine</td>\n",
       "      <td>natural gas, burned in gas turbine</td>\n",
       "      <td>TH</td>\n",
       "      <td>0.000014</td>\n",
       "      <td>0.055233</td>\n",
       "      <td>7.543712e-07</td>\n",
       "    </tr>\n",
       "    <tr>\n",
       "      <th>427</th>\n",
       "      <td>petroleum and gas production, onshore</td>\n",
       "      <td>petroleum</td>\n",
       "      <td>RU</td>\n",
       "      <td>market for petroleum</td>\n",
       "      <td>petroleum</td>\n",
       "      <td>BR</td>\n",
       "      <td>0.000056</td>\n",
       "      <td>0.002997</td>\n",
       "      <td>1.673438e-07</td>\n",
       "    </tr>\n",
       "    <tr>\n",
       "      <th>428</th>\n",
       "      <td>petroleum and gas production, onshore</td>\n",
       "      <td>petroleum</td>\n",
       "      <td>RU</td>\n",
       "      <td>market for petroleum</td>\n",
       "      <td>petroleum</td>\n",
       "      <td>PE</td>\n",
       "      <td>0.000130</td>\n",
       "      <td>0.015157</td>\n",
       "      <td>1.965600e-06</td>\n",
       "    </tr>\n",
       "    <tr>\n",
       "      <th>429</th>\n",
       "      <td>petroleum and gas production, onshore</td>\n",
       "      <td>petroleum</td>\n",
       "      <td>RU</td>\n",
       "      <td>market for petroleum</td>\n",
       "      <td>petroleum</td>\n",
       "      <td>IN</td>\n",
       "      <td>0.000906</td>\n",
       "      <td>0.048872</td>\n",
       "      <td>4.427836e-05</td>\n",
       "    </tr>\n",
       "  </tbody>\n",
       "</table>\n",
       "<p>430 rows × 9 columns</p>\n",
       "</div>"
      ]
     },
     "execution_count": 8,
     "metadata": {},
     "output_type": "execute_result"
    }
   ],
   "execution_count": 8
  },
  {
   "metadata": {},
   "cell_type": "code",
   "outputs": [],
   "execution_count": null,
   "source": ""
  }
 ],
 "metadata": {
  "kernelspec": {
   "display_name": "Python 3 (ipykernel)",
   "language": "python",
   "name": "python3"
  },
  "language_info": {
   "codemirror_mode": {
    "name": "ipython",
    "version": 3
   },
   "file_extension": ".py",
   "mimetype": "text/x-python",
   "name": "python",
   "nbconvert_exporter": "python",
   "pygments_lexer": "ipython3",
   "version": "3.11.8"
  }
 },
 "nbformat": 4,
 "nbformat_minor": 4
}

{
 "cells": [
  {
   "cell_type": "markdown",
   "metadata": {},
   "source": [
    "# Use examples of [edges](https://github.com/romainsacchi/edges)\n",
    "\n",
    "Author: [romainsacchi](https://github.com/romainsacchi)\n",
    "\n",
    "This notebook shows examples on how to use `edge` to use exchange-specific\n",
    "characterization factors in the characterization matrix of `bw2calc`, combining the use of exchange names and locations.\n",
    "\n",
    "## Requirements\n",
    "\n",
    "* **Pyhton 3.10 or higher (up to 3.11) is highly recommended**"
   ]
  },
  {
   "cell_type": "markdown",
   "metadata": {},
   "source": [
    "# Use case with [brightway2](https://brightway.dev/)\n",
    "\n",
    "`brightway2` is an open source LCA framework for Python.\n",
    "To use `premise` from `brightway2`, it requires that you have an activated `brightway2` project with a `biosphere3` database as well as an [ecoinvent](https://ecoinvent.prg) v.3 cut-off or consequential database registered in that project. Please refer to the brightway [documentation](https://brightway.dev) if you do not know how to create a project and install ecoinvent."
   ]
  },
  {
   "cell_type": "code",
   "metadata": {
    "ExecuteTime": {
     "end_time": "2025-03-18T15:09:01.923838Z",
     "start_time": "2025-03-18T15:09:00.593379Z"
    }
   },
   "source": [
    "from edges import EdgeLCIA, get_available_methods\n",
    "import bw2data"
   ],
   "outputs": [],
   "execution_count": 1
  },
  {
   "metadata": {},
   "cell_type": "markdown",
   "source": [
    "One can simply build its own LCIA file.\n",
    "Let's consider the following LCIA file (saved under `lcia_example_2.json`):"
   ]
  },
  {
   "metadata": {
    "ExecuteTime": {
     "end_time": "2025-03-17T14:45:20.307990Z",
     "start_time": "2025-03-17T14:45:20.302804Z"
    }
   },
   "cell_type": "code",
   "source": [
    "[\n",
    "  {\n",
    "    \"supplier\": {\n",
    "      \"name\": \"Carbon dioxide\",\n",
    "      \"operator\": \"startswith\",\n",
    "      \"matrix\": \"biosphere\"\n",
    "    },\n",
    "    \"consumer\": {\n",
    "      \"matrix\": \"technosphere\",\n",
    "      \"type\": \"process\",\n",
    "      \"location\": \"CH\" # now, we want to specify the location of the consumer\n",
    "    },\n",
    "    \"value\": 1.0\n",
    "  },\n",
    "  {\n",
    "    \"supplier\": {\n",
    "      \"name\": \"Carbon dioxide\",\n",
    "      \"operator\": \"startswith\",\n",
    "      \"matrix\": \"biosphere\"\n",
    "    },\n",
    "    \"consumer\": {\n",
    "      \"matrix\": \"technosphere\",\n",
    "      \"type\": \"process\",\n",
    "      \"location\": \"FR\" # now, we want to specify the location of the consumer\n",
    "    },\n",
    "    \"value\": 2.0\n",
    "  },\n",
    "  {\n",
    "    \"supplier\": {\n",
    "      \"name\": \"Carbon dioxide\",\n",
    "      \"operator\": \"startswith\",\n",
    "      \"matrix\": \"biosphere\"\n",
    "    },\n",
    "    \"consumer\": {\n",
    "      \"matrix\": \"technosphere\",\n",
    "      \"type\": \"process\",\n",
    "      \"location\": \"RER\" # now, we want to specify the location of the consumer\n",
    "    },\n",
    "    \"value\": 3.0\n",
    "  }\n",
    "]"
   ],
   "outputs": [
    {
     "data": {
      "text/plain": [
       "[{'supplier': {'name': 'Carbon dioxide',\n",
       "   'operator': 'startswith',\n",
       "   'matrix': 'biosphere'},\n",
       "  'consumer': {'matrix': 'technosphere', 'type': 'process', 'location': 'CH'},\n",
       "  'value': 1.0},\n",
       " {'supplier': {'name': 'Carbon dioxide',\n",
       "   'operator': 'startswith',\n",
       "   'matrix': 'biosphere'},\n",
       "  'consumer': {'matrix': 'technosphere', 'type': 'process', 'location': 'FR'},\n",
       "  'value': 2.0},\n",
       " {'supplier': {'name': 'Carbon dioxide',\n",
       "   'operator': 'startswith',\n",
       "   'matrix': 'biosphere'},\n",
       "  'consumer': {'matrix': 'technosphere', 'type': 'process', 'location': 'RER'},\n",
       "  'value': 3.0}]"
      ]
     },
     "execution_count": 2,
     "metadata": {},
     "output_type": "execute_result"
    }
   ],
   "execution_count": 2
  },
  {
   "metadata": {
    "ExecuteTime": {
     "end_time": "2025-03-18T13:03:23.073979Z",
     "start_time": "2025-03-18T13:03:23.061881Z"
    }
   },
   "cell_type": "code",
   "source": [
    "# activate the bw project\n",
    "bw2data.projects.set_current(\"bw25_ei310\")"
   ],
   "outputs": [],
   "execution_count": 3
  },
  {
   "cell_type": "code",
   "metadata": {
    "ExecuteTime": {
     "end_time": "2025-03-18T13:03:23.886880Z",
     "start_time": "2025-03-18T13:03:23.867114Z"
    }
   },
   "source": [
    "act = bw2data.Database(\"ecoinvent-3.10-cutoff\").random()\n",
    "act"
   ],
   "outputs": [
    {
     "data": {
      "text/plain": [
       "'electricity production, hydro, reservoir, alpine region' (kilowatt hour, IN-RJ, None)"
      ]
     },
     "execution_count": 4,
     "metadata": {},
     "output_type": "execute_result"
    }
   ],
   "execution_count": 4
  },
  {
   "metadata": {
    "ExecuteTime": {
     "end_time": "2025-03-18T13:01:05.910475Z",
     "start_time": "2025-03-18T13:01:04.434583Z"
    }
   },
   "cell_type": "code",
   "source": [
    "LCA = EdgeLCIA(\n",
    "    demand={act: 1},\n",
    "    method=(\"some\", \"method\"),\n",
    "    filepath=\"lcia_example_2.json\"\n",
    ")\n",
    "LCA.lci()\n",
    "\n",
    "LCA.map_exchanges()\n",
    "\n",
    "LCA.evaluate_cfs()\n",
    "LCA.lcia()\n",
    "LCA.score"
   ],
   "outputs": [
    {
     "name": "stderr",
     "output_type": "stream",
     "text": [
      "/Users/romain/anaconda3/envs/bw25/lib/python3.11/site-packages/scikits/umfpack/umfpack.py:736: UmfpackWarning: (almost) singular matrix! (estimated cond. number: 1.21e+13)\n",
      "  warnings.warn(msg, UmfpackWarning)\n"
     ]
    },
    {
     "name": "stdout",
     "output_type": "stream",
     "text": [
      "Identifying eligible exchanges...\n"
     ]
    },
    {
     "name": "stderr",
     "output_type": "stream",
     "text": [
      "100%|██████████| 3/3 [00:00<00:00, 342.51it/s]\n"
     ]
    },
    {
     "data": {
      "text/plain": [
       "0.0023886561581069666"
      ]
     },
     "execution_count": 5,
     "metadata": {},
     "output_type": "execute_result"
    }
   ],
   "execution_count": 5
  },
  {
   "metadata": {
    "ExecuteTime": {
     "end_time": "2025-03-18T13:01:15.819301Z",
     "start_time": "2025-03-18T13:01:15.816639Z"
    }
   },
   "cell_type": "code",
   "source": "LCA.weights",
   "outputs": [],
   "execution_count": 7
  },
  {
   "cell_type": "markdown",
   "metadata": {},
   "source": [
    "### Generate dataframe of characterization factors used\n",
    "\n",
    "The `generate_cf_table` method generates a dataframe of the characterization factors used in the calculation. One can see the characterization factors used for each exchange in the system."
   ]
  },
  {
   "metadata": {
    "ExecuteTime": {
     "end_time": "2025-03-18T12:35:50.296188Z",
     "start_time": "2025-03-18T12:35:49.995919Z"
    }
   },
   "cell_type": "code",
   "source": "df = LCA.generate_cf_table()",
   "outputs": [],
   "execution_count": 5
  },
  {
   "metadata": {
    "ExecuteTime": {
     "end_time": "2025-03-18T12:35:51.220694Z",
     "start_time": "2025-03-18T12:35:51.209116Z"
    }
   },
   "cell_type": "code",
   "source": [
    "# we can see under the \"CF\" column\n",
    "# the characterization factors used for each exchange in the system\n",
    "df"
   ],
   "outputs": [
    {
     "data": {
      "text/plain": [
       "                                        supplier name  \\\n",
       "0     Carbon dioxide, non-fossil, resource correction   \n",
       "1     Carbon dioxide, non-fossil, resource correction   \n",
       "2     Carbon dioxide, non-fossil, resource correction   \n",
       "3     Carbon dioxide, non-fossil, resource correction   \n",
       "4     Carbon dioxide, non-fossil, resource correction   \n",
       "...                                               ...   \n",
       "1205       Carbon dioxide, from soil or biomass stock   \n",
       "1206       Carbon dioxide, from soil or biomass stock   \n",
       "1207       Carbon dioxide, from soil or biomass stock   \n",
       "1208       Carbon dioxide, from soil or biomass stock   \n",
       "1209       Carbon dioxide, from soil or biomass stock   \n",
       "\n",
       "                           supplier categories  \\\n",
       "0                   (natural resource, in air)   \n",
       "1                   (natural resource, in air)   \n",
       "2                   (natural resource, in air)   \n",
       "3                   (natural resource, in air)   \n",
       "4                   (natural resource, in air)   \n",
       "...                                        ...   \n",
       "1205  (air, non-urban air or from high stacks)   \n",
       "1206  (air, non-urban air or from high stacks)   \n",
       "1207  (air, non-urban air or from high stacks)   \n",
       "1208  (air, non-urban air or from high stacks)   \n",
       "1209  (air, non-urban air or from high stacks)   \n",
       "\n",
       "                                          consumer name  \\\n",
       "0                                      sawing, hardwood   \n",
       "1     sawdust, wet, measured as dry mass to generic ...   \n",
       "2     bark chips, wet, measured as dry mass to gener...   \n",
       "3                        planing, lath, hardwood, u=10%   \n",
       "4           glued laminated timber production, PUR-glue   \n",
       "...                                                 ...   \n",
       "1205  polycarboxylates production, 40% active substance   \n",
       "1206  sodium perborate production, tetrahydrate, powder   \n",
       "1207                           anthraquinone production   \n",
       "1208                         zeolite production, powder   \n",
       "1209             sodium percarbonate production, powder   \n",
       "\n",
       "                           consumer reference product consumer location  \\\n",
       "0           sawdust, loose, wet, measured as dry mass                CH   \n",
       "1                              residual softwood, wet                CH   \n",
       "2                              residual softwood, wet                CH   \n",
       "3     sawnwood, lath, hardwood, dried (u=10%), planed                CH   \n",
       "4     shavings, softwood, loose, measured as dry mass                CH   \n",
       "...                                               ...               ...   \n",
       "1205           polycarboxylates, 40% active substance               RER   \n",
       "1206           sodium perborate, tetrahydrate, powder               RER   \n",
       "1207                                    anthraquinone               RER   \n",
       "1208                                  zeolite, powder               RER   \n",
       "1209                      sodium percarbonate, powder               RER   \n",
       "\n",
       "            amount   CF        impact  \n",
       "0     5.394790e-08  1.0  5.394790e-08  \n",
       "1     6.792378e-10  1.0  6.792378e-10  \n",
       "2     7.476226e-10  1.0  7.476226e-10  \n",
       "3    -8.070241e-12  1.0 -8.070241e-12  \n",
       "4     2.028429e-07  1.0  2.028429e-07  \n",
       "...            ...  ...           ...  \n",
       "1205  7.908900e-09  3.0  2.372670e-08  \n",
       "1206  3.336929e-13  3.0  1.001079e-12  \n",
       "1207  3.484943e-09  3.0  1.045483e-08  \n",
       "1208  1.365865e-08  3.0  4.097596e-08  \n",
       "1209  6.158484e-09  3.0  1.847545e-08  \n",
       "\n",
       "[1210 rows x 8 columns]"
      ],
      "text/html": [
       "<div>\n",
       "<style scoped>\n",
       "    .dataframe tbody tr th:only-of-type {\n",
       "        vertical-align: middle;\n",
       "    }\n",
       "\n",
       "    .dataframe tbody tr th {\n",
       "        vertical-align: top;\n",
       "    }\n",
       "\n",
       "    .dataframe thead th {\n",
       "        text-align: right;\n",
       "    }\n",
       "</style>\n",
       "<table border=\"1\" class=\"dataframe\">\n",
       "  <thead>\n",
       "    <tr style=\"text-align: right;\">\n",
       "      <th></th>\n",
       "      <th>supplier name</th>\n",
       "      <th>supplier categories</th>\n",
       "      <th>consumer name</th>\n",
       "      <th>consumer reference product</th>\n",
       "      <th>consumer location</th>\n",
       "      <th>amount</th>\n",
       "      <th>CF</th>\n",
       "      <th>impact</th>\n",
       "    </tr>\n",
       "  </thead>\n",
       "  <tbody>\n",
       "    <tr>\n",
       "      <th>0</th>\n",
       "      <td>Carbon dioxide, non-fossil, resource correction</td>\n",
       "      <td>(natural resource, in air)</td>\n",
       "      <td>sawing, hardwood</td>\n",
       "      <td>sawdust, loose, wet, measured as dry mass</td>\n",
       "      <td>CH</td>\n",
       "      <td>5.394790e-08</td>\n",
       "      <td>1.0</td>\n",
       "      <td>5.394790e-08</td>\n",
       "    </tr>\n",
       "    <tr>\n",
       "      <th>1</th>\n",
       "      <td>Carbon dioxide, non-fossil, resource correction</td>\n",
       "      <td>(natural resource, in air)</td>\n",
       "      <td>sawdust, wet, measured as dry mass to generic ...</td>\n",
       "      <td>residual softwood, wet</td>\n",
       "      <td>CH</td>\n",
       "      <td>6.792378e-10</td>\n",
       "      <td>1.0</td>\n",
       "      <td>6.792378e-10</td>\n",
       "    </tr>\n",
       "    <tr>\n",
       "      <th>2</th>\n",
       "      <td>Carbon dioxide, non-fossil, resource correction</td>\n",
       "      <td>(natural resource, in air)</td>\n",
       "      <td>bark chips, wet, measured as dry mass to gener...</td>\n",
       "      <td>residual softwood, wet</td>\n",
       "      <td>CH</td>\n",
       "      <td>7.476226e-10</td>\n",
       "      <td>1.0</td>\n",
       "      <td>7.476226e-10</td>\n",
       "    </tr>\n",
       "    <tr>\n",
       "      <th>3</th>\n",
       "      <td>Carbon dioxide, non-fossil, resource correction</td>\n",
       "      <td>(natural resource, in air)</td>\n",
       "      <td>planing, lath, hardwood, u=10%</td>\n",
       "      <td>sawnwood, lath, hardwood, dried (u=10%), planed</td>\n",
       "      <td>CH</td>\n",
       "      <td>-8.070241e-12</td>\n",
       "      <td>1.0</td>\n",
       "      <td>-8.070241e-12</td>\n",
       "    </tr>\n",
       "    <tr>\n",
       "      <th>4</th>\n",
       "      <td>Carbon dioxide, non-fossil, resource correction</td>\n",
       "      <td>(natural resource, in air)</td>\n",
       "      <td>glued laminated timber production, PUR-glue</td>\n",
       "      <td>shavings, softwood, loose, measured as dry mass</td>\n",
       "      <td>CH</td>\n",
       "      <td>2.028429e-07</td>\n",
       "      <td>1.0</td>\n",
       "      <td>2.028429e-07</td>\n",
       "    </tr>\n",
       "    <tr>\n",
       "      <th>...</th>\n",
       "      <td>...</td>\n",
       "      <td>...</td>\n",
       "      <td>...</td>\n",
       "      <td>...</td>\n",
       "      <td>...</td>\n",
       "      <td>...</td>\n",
       "      <td>...</td>\n",
       "      <td>...</td>\n",
       "    </tr>\n",
       "    <tr>\n",
       "      <th>1205</th>\n",
       "      <td>Carbon dioxide, from soil or biomass stock</td>\n",
       "      <td>(air, non-urban air or from high stacks)</td>\n",
       "      <td>polycarboxylates production, 40% active substance</td>\n",
       "      <td>polycarboxylates, 40% active substance</td>\n",
       "      <td>RER</td>\n",
       "      <td>7.908900e-09</td>\n",
       "      <td>3.0</td>\n",
       "      <td>2.372670e-08</td>\n",
       "    </tr>\n",
       "    <tr>\n",
       "      <th>1206</th>\n",
       "      <td>Carbon dioxide, from soil or biomass stock</td>\n",
       "      <td>(air, non-urban air or from high stacks)</td>\n",
       "      <td>sodium perborate production, tetrahydrate, powder</td>\n",
       "      <td>sodium perborate, tetrahydrate, powder</td>\n",
       "      <td>RER</td>\n",
       "      <td>3.336929e-13</td>\n",
       "      <td>3.0</td>\n",
       "      <td>1.001079e-12</td>\n",
       "    </tr>\n",
       "    <tr>\n",
       "      <th>1207</th>\n",
       "      <td>Carbon dioxide, from soil or biomass stock</td>\n",
       "      <td>(air, non-urban air or from high stacks)</td>\n",
       "      <td>anthraquinone production</td>\n",
       "      <td>anthraquinone</td>\n",
       "      <td>RER</td>\n",
       "      <td>3.484943e-09</td>\n",
       "      <td>3.0</td>\n",
       "      <td>1.045483e-08</td>\n",
       "    </tr>\n",
       "    <tr>\n",
       "      <th>1208</th>\n",
       "      <td>Carbon dioxide, from soil or biomass stock</td>\n",
       "      <td>(air, non-urban air or from high stacks)</td>\n",
       "      <td>zeolite production, powder</td>\n",
       "      <td>zeolite, powder</td>\n",
       "      <td>RER</td>\n",
       "      <td>1.365865e-08</td>\n",
       "      <td>3.0</td>\n",
       "      <td>4.097596e-08</td>\n",
       "    </tr>\n",
       "    <tr>\n",
       "      <th>1209</th>\n",
       "      <td>Carbon dioxide, from soil or biomass stock</td>\n",
       "      <td>(air, non-urban air or from high stacks)</td>\n",
       "      <td>sodium percarbonate production, powder</td>\n",
       "      <td>sodium percarbonate, powder</td>\n",
       "      <td>RER</td>\n",
       "      <td>6.158484e-09</td>\n",
       "      <td>3.0</td>\n",
       "      <td>1.847545e-08</td>\n",
       "    </tr>\n",
       "  </tbody>\n",
       "</table>\n",
       "<p>1210 rows × 8 columns</p>\n",
       "</div>"
      ]
     },
     "execution_count": 6,
     "metadata": {},
     "output_type": "execute_result"
    }
   ],
   "execution_count": 6
  },
  {
   "metadata": {},
   "cell_type": "markdown",
   "source": "As expected, only CH, FR and RER-based consumers have been considered in the calculation."
  },
  {
   "metadata": {
    "ExecuteTime": {
     "end_time": "2025-03-18T12:35:53.816557Z",
     "start_time": "2025-03-18T12:35:53.811132Z"
    }
   },
   "cell_type": "code",
   "source": "df.groupby(\"consumer location\")[\"CF\"].mean()",
   "outputs": [
    {
     "data": {
      "text/plain": [
       "consumer location\n",
       "CH     1.0\n",
       "FR     2.0\n",
       "RER    3.0\n",
       "Name: CF, dtype: float64"
      ]
     },
     "execution_count": 7,
     "metadata": {},
     "output_type": "execute_result"
    }
   ],
   "execution_count": 7
  },
  {
   "metadata": {},
   "cell_type": "markdown",
   "source": "But `statistics()` tells us that many exchanges have been ignored."
  },
  {
   "metadata": {
    "ExecuteTime": {
     "end_time": "2025-03-18T12:35:55.519286Z",
     "start_time": "2025-03-18T12:35:55.514805Z"
    }
   },
   "cell_type": "code",
   "source": "LCA.statistics()",
   "outputs": [
    {
     "name": "stdout",
     "output_type": "stream",
     "text": [
      "+----------------------+-----------------------------+\n",
      "|       Activity       | nitrile-compound production |\n",
      "|     Method name      |      ('some', 'method')     |\n",
      "|      Data file       |        lcia_example_2       |\n",
      "| Unique CFs in method |              3              |\n",
      "|   Unique CFs used    |              3              |\n",
      "|  Exc. characterized  |             1210            |\n",
      "| Exc. uncharacterized |            334699           |\n",
      "+----------------------+-----------------------------+\n"
     ]
    }
   ],
   "execution_count": 8
  },
  {
   "metadata": {},
   "cell_type": "markdown",
   "source": [
    "We can extend the application of CFs to other exchanges, using the helping functions: `map_aggregate_locations`, `map_disaggregate_location`, `map_dynamic_locations` and `map_remaining_locations_to_global`.\n",
    "\n",
    "* `map_aggregate_locations` maps exchanges with aggregate locations (e.g., \"RER\", RLA\", etc.) to weighted-average CFs.\n",
    "* `map_disaggregate_location` maps exchanges with locations that belong to aggregate locations (\"CA-QC\") to CFs of aggregate locations (e.g., \"CA\").\n",
    "* `map_dynamic_locations` maps exchanges with dynamic locations (e.g., \"RoW\", \"RoW\") to CFs calculated as the weighted-average of all locations minus those excluded by dynamic locations' perimeter (e.g., \"GLO minus CH\").\n",
    "* `map_remaining_locations_to_global` maps exchanges with remaining locations to the global CFs."
   ]
  },
  {
   "metadata": {
    "ExecuteTime": {
     "end_time": "2025-03-18T13:03:35.570326Z",
     "start_time": "2025-03-18T13:03:28.075754Z"
    }
   },
   "cell_type": "code",
   "source": [
    "LCA = EdgeLCIA(\n",
    "    demand={act: 1},\n",
    "    method=(\"some\", \"method\"),\n",
    "    filepath=\"lcia_example_2.json\"\n",
    ")\n",
    "LCA.lci()\n",
    "\n",
    "LCA.map_exchanges()\n",
    "\n",
    "LCA.map_aggregate_locations()\n",
    "LCA.map_dynamic_locations()\n",
    "LCA.map_contained_locations()\n",
    "LCA.map_remaining_locations_to_global()\n",
    "\n",
    "LCA.evaluate_cfs()\n",
    "LCA.lcia()\n",
    "LCA.score"
   ],
   "outputs": [
    {
     "name": "stderr",
     "output_type": "stream",
     "text": [
      "/Users/romain/anaconda3/envs/bw25/lib/python3.11/site-packages/scikits/umfpack/umfpack.py:736: UmfpackWarning: (almost) singular matrix! (estimated cond. number: 1.21e+13)\n",
      "  warnings.warn(msg, UmfpackWarning)\n"
     ]
    },
    {
     "name": "stdout",
     "output_type": "stream",
     "text": [
      "Identifying eligible exchanges...\n"
     ]
    },
    {
     "name": "stderr",
     "output_type": "stream",
     "text": [
      "100%|██████████| 3/3 [00:00<00:00, 342.15it/s]\n"
     ]
    },
    {
     "name": "stdout",
     "output_type": "stream",
     "text": [
      "Handling static regions...\n"
     ]
    },
    {
     "name": "stderr",
     "output_type": "stream",
     "text": [
      "100%|██████████| 334710/334710 [00:01<00:00, 273099.79it/s]\n",
      "0it [00:00, ?it/s]\n"
     ]
    },
    {
     "name": "stdout",
     "output_type": "stream",
     "text": [
      "Handling dynamic regions...\n"
     ]
    },
    {
     "name": "stderr",
     "output_type": "stream",
     "text": [
      "100%|██████████| 334020/334020 [00:01<00:00, 273290.45it/s]\n",
      "0it [00:00, ?it/s]\n"
     ]
    },
    {
     "name": "stdout",
     "output_type": "stream",
     "text": [
      "Handling unmatched locations...\n"
     ]
    },
    {
     "name": "stderr",
     "output_type": "stream",
     "text": [
      "100%|██████████| 332517/332517 [00:01<00:00, 316420.34it/s]\n",
      "0it [00:00, ?it/s]\n"
     ]
    },
    {
     "name": "stdout",
     "output_type": "stream",
     "text": [
      "Handling remaining exchanges...\n"
     ]
    },
    {
     "name": "stderr",
     "output_type": "stream",
     "text": [
      "100%|██████████| 331787/331787 [00:02<00:00, 140550.25it/s]\n",
      "0it [00:00, ?it/s]\n"
     ]
    },
    {
     "data": {
      "text/plain": [
       "0.012765744558138581"
      ]
     },
     "execution_count": 5,
     "metadata": {},
     "output_type": "execute_result"
    }
   ],
   "execution_count": 5
  },
  {
   "metadata": {
    "ExecuteTime": {
     "end_time": "2025-03-18T13:03:46.485340Z",
     "start_time": "2025-03-18T13:03:46.478682Z"
    }
   },
   "cell_type": "code",
   "source": "LCA.statistics()",
   "outputs": [
    {
     "name": "stdout",
     "output_type": "stream",
     "text": [
      "+----------------------+-------------------------------------------+\n",
      "|       Activity       | electricity production, hydro, reservoir, |\n",
      "|                      |               alpine region               |\n",
      "|     Method name      |             ('some', 'method')            |\n",
      "|      Data file       |               lcia_example_2              |\n",
      "| Unique CFs in method |                     4                     |\n",
      "|   Unique CFs used    |                     7                     |\n",
      "|  Exc. characterized  |                    6462                   |\n",
      "| Exc. uncharacterized |                   329458                  |\n",
      "+----------------------+-------------------------------------------+\n"
     ]
    }
   ],
   "execution_count": 6
  },
  {
   "metadata": {
    "ExecuteTime": {
     "end_time": "2025-03-18T13:03:55.929295Z",
     "start_time": "2025-03-18T13:03:55.925557Z"
    }
   },
   "cell_type": "code",
   "source": "LCA.weights",
   "outputs": [
    {
     "data": {
      "text/plain": [
       "{'CH': 8921981, 'FR': 66548530, 'RER': 0}"
      ]
     },
     "execution_count": 7,
     "metadata": {},
     "output_type": "execute_result"
    }
   ],
   "execution_count": 7
  },
  {
   "metadata": {
    "ExecuteTime": {
     "end_time": "2025-03-18T13:03:59.969698Z",
     "start_time": "2025-03-18T13:03:58.484151Z"
    }
   },
   "cell_type": "code",
   "source": "df = LCA.generate_cf_table()",
   "outputs": [],
   "execution_count": 8
  },
  {
   "metadata": {
    "ExecuteTime": {
     "end_time": "2025-03-18T13:04:00.994463Z",
     "start_time": "2025-03-18T13:04:00.983579Z"
    }
   },
   "cell_type": "code",
   "source": "df",
   "outputs": [
    {
     "data": {
      "text/plain": [
       "                                        supplier name  \\\n",
       "0                              Carbon dioxide, fossil   \n",
       "1                              Carbon dioxide, fossil   \n",
       "2                              Carbon dioxide, fossil   \n",
       "3                              Carbon dioxide, fossil   \n",
       "4                              Carbon dioxide, fossil   \n",
       "...                                               ...   \n",
       "6457  Carbon dioxide, non-fossil, resource correction   \n",
       "6458       Carbon dioxide, from soil or biomass stock   \n",
       "6459                           Carbon dioxide, fossil   \n",
       "6460                           Carbon dioxide, fossil   \n",
       "6461       Carbon dioxide, from soil or biomass stock   \n",
       "\n",
       "                           supplier categories  \\\n",
       "0             (air, urban air close to ground)   \n",
       "1             (air, urban air close to ground)   \n",
       "2             (air, urban air close to ground)   \n",
       "3             (air, urban air close to ground)   \n",
       "4             (air, urban air close to ground)   \n",
       "...                                        ...   \n",
       "6457                (natural resource, in air)   \n",
       "6458  (air, non-urban air or from high stacks)   \n",
       "6459  (air, non-urban air or from high stacks)   \n",
       "6460  (air, non-urban air or from high stacks)   \n",
       "6461  (air, non-urban air or from high stacks)   \n",
       "\n",
       "                                          consumer name  \\\n",
       "0     treatment of wastewater from plywood productio...   \n",
       "1     treatment of sewage sludge, 70% water, WWT, WW...   \n",
       "2     treatment of sewage sludge, 70% water, WWT, WW...   \n",
       "3     treatment of waste emulsion paint, hazardous w...   \n",
       "4     treatment of refinery sludge, hazardous waste ...   \n",
       "...                                                 ...   \n",
       "6457                 wood cladding production, softwood   \n",
       "6458                       land use change, annual crop   \n",
       "6459           primary zinc production from concentrate   \n",
       "6460  electricity production, natural gas, combined ...   \n",
       "6461                             wheat grain production   \n",
       "\n",
       "                             consumer reference product consumer location  \\\n",
       "0                    wastewater from plywood production                CH   \n",
       "1     sewage sludge, 70% water, WWT, WW from ceramic...                CH   \n",
       "2     sewage sludge, 70% water, WWT, WW from soft fi...                CH   \n",
       "3                                  waste emulsion paint                CH   \n",
       "4                                       refinery sludge                CH   \n",
       "...                                                 ...               ...   \n",
       "6457                                 residual wood, dry             CA-QC   \n",
       "6458                       land use change, annual crop             BR-TO   \n",
       "6459              cadmium sludge from zinc electrolysis             CA-QC   \n",
       "6460                          electricity, high voltage             CN-SC   \n",
       "6461                                        wheat grain            AU-TAS   \n",
       "\n",
       "            amount        CF        impact  \n",
       "0     1.501831e-14  1.000000  1.501831e-14  \n",
       "1     3.244456e-19  1.000000  3.244456e-19  \n",
       "2     3.915898e-20  1.000000  3.915898e-20  \n",
       "3     4.369779e-12  1.000000  4.369779e-12  \n",
       "4     2.068310e-10  1.000000  2.068310e-10  \n",
       "...            ...       ...           ...  \n",
       "6457  1.553429e-12  1.881782  2.923214e-12  \n",
       "6458  2.019586e-08  1.881782  3.800420e-08  \n",
       "6459  1.024672e-17  1.881782  1.928210e-17  \n",
       "6460  4.033947e-07  1.881782  7.591009e-07  \n",
       "6461  3.304121e-16  1.881782  6.217636e-16  \n",
       "\n",
       "[6462 rows x 8 columns]"
      ],
      "text/html": [
       "<div>\n",
       "<style scoped>\n",
       "    .dataframe tbody tr th:only-of-type {\n",
       "        vertical-align: middle;\n",
       "    }\n",
       "\n",
       "    .dataframe tbody tr th {\n",
       "        vertical-align: top;\n",
       "    }\n",
       "\n",
       "    .dataframe thead th {\n",
       "        text-align: right;\n",
       "    }\n",
       "</style>\n",
       "<table border=\"1\" class=\"dataframe\">\n",
       "  <thead>\n",
       "    <tr style=\"text-align: right;\">\n",
       "      <th></th>\n",
       "      <th>supplier name</th>\n",
       "      <th>supplier categories</th>\n",
       "      <th>consumer name</th>\n",
       "      <th>consumer reference product</th>\n",
       "      <th>consumer location</th>\n",
       "      <th>amount</th>\n",
       "      <th>CF</th>\n",
       "      <th>impact</th>\n",
       "    </tr>\n",
       "  </thead>\n",
       "  <tbody>\n",
       "    <tr>\n",
       "      <th>0</th>\n",
       "      <td>Carbon dioxide, fossil</td>\n",
       "      <td>(air, urban air close to ground)</td>\n",
       "      <td>treatment of wastewater from plywood productio...</td>\n",
       "      <td>wastewater from plywood production</td>\n",
       "      <td>CH</td>\n",
       "      <td>1.501831e-14</td>\n",
       "      <td>1.000000</td>\n",
       "      <td>1.501831e-14</td>\n",
       "    </tr>\n",
       "    <tr>\n",
       "      <th>1</th>\n",
       "      <td>Carbon dioxide, fossil</td>\n",
       "      <td>(air, urban air close to ground)</td>\n",
       "      <td>treatment of sewage sludge, 70% water, WWT, WW...</td>\n",
       "      <td>sewage sludge, 70% water, WWT, WW from ceramic...</td>\n",
       "      <td>CH</td>\n",
       "      <td>3.244456e-19</td>\n",
       "      <td>1.000000</td>\n",
       "      <td>3.244456e-19</td>\n",
       "    </tr>\n",
       "    <tr>\n",
       "      <th>2</th>\n",
       "      <td>Carbon dioxide, fossil</td>\n",
       "      <td>(air, urban air close to ground)</td>\n",
       "      <td>treatment of sewage sludge, 70% water, WWT, WW...</td>\n",
       "      <td>sewage sludge, 70% water, WWT, WW from soft fi...</td>\n",
       "      <td>CH</td>\n",
       "      <td>3.915898e-20</td>\n",
       "      <td>1.000000</td>\n",
       "      <td>3.915898e-20</td>\n",
       "    </tr>\n",
       "    <tr>\n",
       "      <th>3</th>\n",
       "      <td>Carbon dioxide, fossil</td>\n",
       "      <td>(air, urban air close to ground)</td>\n",
       "      <td>treatment of waste emulsion paint, hazardous w...</td>\n",
       "      <td>waste emulsion paint</td>\n",
       "      <td>CH</td>\n",
       "      <td>4.369779e-12</td>\n",
       "      <td>1.000000</td>\n",
       "      <td>4.369779e-12</td>\n",
       "    </tr>\n",
       "    <tr>\n",
       "      <th>4</th>\n",
       "      <td>Carbon dioxide, fossil</td>\n",
       "      <td>(air, urban air close to ground)</td>\n",
       "      <td>treatment of refinery sludge, hazardous waste ...</td>\n",
       "      <td>refinery sludge</td>\n",
       "      <td>CH</td>\n",
       "      <td>2.068310e-10</td>\n",
       "      <td>1.000000</td>\n",
       "      <td>2.068310e-10</td>\n",
       "    </tr>\n",
       "    <tr>\n",
       "      <th>...</th>\n",
       "      <td>...</td>\n",
       "      <td>...</td>\n",
       "      <td>...</td>\n",
       "      <td>...</td>\n",
       "      <td>...</td>\n",
       "      <td>...</td>\n",
       "      <td>...</td>\n",
       "      <td>...</td>\n",
       "    </tr>\n",
       "    <tr>\n",
       "      <th>6457</th>\n",
       "      <td>Carbon dioxide, non-fossil, resource correction</td>\n",
       "      <td>(natural resource, in air)</td>\n",
       "      <td>wood cladding production, softwood</td>\n",
       "      <td>residual wood, dry</td>\n",
       "      <td>CA-QC</td>\n",
       "      <td>1.553429e-12</td>\n",
       "      <td>1.881782</td>\n",
       "      <td>2.923214e-12</td>\n",
       "    </tr>\n",
       "    <tr>\n",
       "      <th>6458</th>\n",
       "      <td>Carbon dioxide, from soil or biomass stock</td>\n",
       "      <td>(air, non-urban air or from high stacks)</td>\n",
       "      <td>land use change, annual crop</td>\n",
       "      <td>land use change, annual crop</td>\n",
       "      <td>BR-TO</td>\n",
       "      <td>2.019586e-08</td>\n",
       "      <td>1.881782</td>\n",
       "      <td>3.800420e-08</td>\n",
       "    </tr>\n",
       "    <tr>\n",
       "      <th>6459</th>\n",
       "      <td>Carbon dioxide, fossil</td>\n",
       "      <td>(air, non-urban air or from high stacks)</td>\n",
       "      <td>primary zinc production from concentrate</td>\n",
       "      <td>cadmium sludge from zinc electrolysis</td>\n",
       "      <td>CA-QC</td>\n",
       "      <td>1.024672e-17</td>\n",
       "      <td>1.881782</td>\n",
       "      <td>1.928210e-17</td>\n",
       "    </tr>\n",
       "    <tr>\n",
       "      <th>6460</th>\n",
       "      <td>Carbon dioxide, fossil</td>\n",
       "      <td>(air, non-urban air or from high stacks)</td>\n",
       "      <td>electricity production, natural gas, combined ...</td>\n",
       "      <td>electricity, high voltage</td>\n",
       "      <td>CN-SC</td>\n",
       "      <td>4.033947e-07</td>\n",
       "      <td>1.881782</td>\n",
       "      <td>7.591009e-07</td>\n",
       "    </tr>\n",
       "    <tr>\n",
       "      <th>6461</th>\n",
       "      <td>Carbon dioxide, from soil or biomass stock</td>\n",
       "      <td>(air, non-urban air or from high stacks)</td>\n",
       "      <td>wheat grain production</td>\n",
       "      <td>wheat grain</td>\n",
       "      <td>AU-TAS</td>\n",
       "      <td>3.304121e-16</td>\n",
       "      <td>1.881782</td>\n",
       "      <td>6.217636e-16</td>\n",
       "    </tr>\n",
       "  </tbody>\n",
       "</table>\n",
       "<p>6462 rows × 8 columns</p>\n",
       "</div>"
      ]
     },
     "execution_count": 9,
     "metadata": {},
     "output_type": "execute_result"
    }
   ],
   "execution_count": 9
  },
  {
   "metadata": {},
   "cell_type": "markdown",
   "source": "We can check the weights used:"
  },
  {
   "metadata": {
    "ExecuteTime": {
     "end_time": "2025-03-18T13:05:06.872990Z",
     "start_time": "2025-03-18T13:05:06.870396Z"
    }
   },
   "cell_type": "code",
   "source": "LCA.weights",
   "outputs": [
    {
     "data": {
      "text/plain": [
       "{'CH': 8921981, 'FR': 66548530, 'RER': 0}"
      ]
     },
     "execution_count": 11,
     "metadata": {},
     "output_type": "execute_result"
    }
   ],
   "execution_count": 11
  },
  {
   "metadata": {},
   "cell_type": "markdown",
   "source": "By default, if weights are not provided in the consumer sections of LCIA file, population is used. The other option is GDP. To be specified when calling EdgeLICA()."
  },
  {
   "metadata": {},
   "cell_type": "markdown",
   "source": "And we can see the weighted-average CFs used:"
  },
  {
   "metadata": {
    "ExecuteTime": {
     "end_time": "2025-03-18T13:04:03.446277Z",
     "start_time": "2025-03-18T13:04:03.438909Z"
    }
   },
   "cell_type": "code",
   "source": "df.groupby(\"consumer location\")[\"CF\"].mean()",
   "outputs": [
    {
     "data": {
      "text/plain": [
       "consumer location\n",
       "AE        1.881782\n",
       "AR        1.881782\n",
       "AT        3.000000\n",
       "AU        1.881782\n",
       "AU-NSW    1.881782\n",
       "            ...   \n",
       "VE        1.881782\n",
       "VN        1.881782\n",
       "WEU       1.881782\n",
       "ZA        1.881782\n",
       "ZM        1.881782\n",
       "Name: CF, Length: 227, dtype: float64"
      ]
     },
     "execution_count": 10,
     "metadata": {},
     "output_type": "execute_result"
    }
   ],
   "execution_count": 10
  },
  {
   "metadata": {},
   "cell_type": "markdown",
   "source": [
    "We have pre-generated LCIA files for specific methods (AWARE, ImpactWorld+, etc.).\n",
    "You can get a list like so:"
   ]
  },
  {
   "metadata": {
    "ExecuteTime": {
     "end_time": "2025-03-18T13:11:25.150044Z",
     "start_time": "2025-03-18T13:11:25.145031Z"
    }
   },
   "cell_type": "code",
   "source": "get_available_methods()",
   "outputs": [
    {
     "data": {
      "text/plain": [
       "[('AWARE 1.2c', 'Country', 'irri', 'apr'),\n",
       " ('AWARE 1.2c', 'Country', 'irri', 'aug'),\n",
       " ('AWARE 1.2c', 'Country', 'irri', 'dec'),\n",
       " ('AWARE 1.2c', 'Country', 'irri', 'feb'),\n",
       " ('AWARE 1.2c', 'Country', 'irri', 'jan'),\n",
       " ('AWARE 1.2c', 'Country', 'irri', 'jul'),\n",
       " ('AWARE 1.2c', 'Country', 'irri', 'jun'),\n",
       " ('AWARE 1.2c', 'Country', 'irri', 'mar'),\n",
       " ('AWARE 1.2c', 'Country', 'irri', 'may'),\n",
       " ('AWARE 1.2c', 'Country', 'irri', 'nov'),\n",
       " ('AWARE 1.2c', 'Country', 'irri', 'oct'),\n",
       " ('AWARE 1.2c', 'Country', 'irri', 'sep'),\n",
       " ('AWARE 1.2c', 'Country', 'irri', 'yearly'),\n",
       " ('AWARE 1.2c', 'Country', 'non', 'irri', 'apr'),\n",
       " ('AWARE 1.2c', 'Country', 'non', 'irri', 'aug'),\n",
       " ('AWARE 1.2c', 'Country', 'non', 'irri', 'dec'),\n",
       " ('AWARE 1.2c', 'Country', 'non', 'irri', 'feb'),\n",
       " ('AWARE 1.2c', 'Country', 'non', 'irri', 'jan'),\n",
       " ('AWARE 1.2c', 'Country', 'non', 'irri', 'jul'),\n",
       " ('AWARE 1.2c', 'Country', 'non', 'irri', 'jun'),\n",
       " ('AWARE 1.2c', 'Country', 'non', 'irri', 'mar'),\n",
       " ('AWARE 1.2c', 'Country', 'non', 'irri', 'may'),\n",
       " ('AWARE 1.2c', 'Country', 'non', 'irri', 'nov'),\n",
       " ('AWARE 1.2c', 'Country', 'non', 'irri', 'oct'),\n",
       " ('AWARE 1.2c', 'Country', 'non', 'irri', 'sep'),\n",
       " ('AWARE 1.2c', 'Country', 'non', 'irri', 'yearly'),\n",
       " ('AWARE 1.2c', 'Country', 'unspecified', 'apr'),\n",
       " ('AWARE 1.2c', 'Country', 'unspecified', 'aug'),\n",
       " ('AWARE 1.2c', 'Country', 'unspecified', 'dec'),\n",
       " ('AWARE 1.2c', 'Country', 'unspecified', 'feb'),\n",
       " ('AWARE 1.2c', 'Country', 'unspecified', 'jan'),\n",
       " ('AWARE 1.2c', 'Country', 'unspecified', 'jul'),\n",
       " ('AWARE 1.2c', 'Country', 'unspecified', 'jun'),\n",
       " ('AWARE 1.2c', 'Country', 'unspecified', 'mar'),\n",
       " ('AWARE 1.2c', 'Country', 'unspecified', 'may'),\n",
       " ('AWARE 1.2c', 'Country', 'unspecified', 'nov'),\n",
       " ('AWARE 1.2c', 'Country', 'unspecified', 'oct'),\n",
       " ('AWARE 1.2c', 'Country', 'unspecified', 'sep'),\n",
       " ('AWARE 1.2c', 'Country', 'unspecified', 'yearly'),\n",
       " ('GeoPolRisk', '2024'),\n",
       " ('GeoPolRisk', 'paired', '2024'),\n",
       " ('ImpactWorld+ 2.1', 'Freshwater acidification', 'damage'),\n",
       " ('ImpactWorld+ 2.1', 'Freshwater acidification', 'midpoint'),\n",
       " ('ImpactWorld+ 2.1', 'Freshwater eutrophication', 'damage'),\n",
       " ('ImpactWorld+ 2.1', 'Freshwater eutrophication', 'midpoint'),\n",
       " ('ImpactWorld+ 2.1', 'Land occupation, biodiversity', 'damage'),\n",
       " ('ImpactWorld+ 2.1', 'Land occupation, biodiversity', 'midpoint'),\n",
       " ('ImpactWorld+ 2.1', 'Land transformation, biodiversity', 'damage'),\n",
       " ('ImpactWorld+ 2.1', 'Land transformation, biodiversity', 'midpoint'),\n",
       " ('ImpactWorld+ 2.1', 'Marine eutrophication', 'damage'),\n",
       " ('ImpactWorld+ 2.1', 'Marine eutrophication', 'midpoint'),\n",
       " ('ImpactWorld+ 2.1', 'Terrestrial acidification', 'damage'),\n",
       " ('ImpactWorld+ 2.1', 'Terrestrial acidification', 'midpoint'),\n",
       " ('ImpactWorld+ 2.1', 'Thermally polluted water', 'damage'),\n",
       " ('ImpactWorld+ 2.1', 'Thermally polluted water', 'midpoint'),\n",
       " ('ImpactWorld+ 2.1', 'Water availability, freshwater ecosystem', 'damage'),\n",
       " ('ImpactWorld+ 2.1', 'Water availability, freshwater ecosystem', 'midpoint'),\n",
       " ('ImpactWorld+ 2.1', 'Water availability, human health', 'damage'),\n",
       " ('ImpactWorld+ 2.1', 'Water availability, human health', 'midpoint'),\n",
       " ('ImpactWorld+ 2.1', 'Water availability, terrestrial ecosystem', 'damage'),\n",
       " ('ImpactWorld+ 2.1', 'Water availability, terrestrial ecosystem', 'midpoint'),\n",
       " ('ImpactWorld+ 2.1', 'Water scarcity', 'damage'),\n",
       " ('ImpactWorld+ 2.1', 'Water scarcity', 'midpoint'),\n",
       " ('RELICS', 'copper')]"
      ]
     },
     "execution_count": 12,
     "metadata": {},
     "output_type": "execute_result"
    }
   ],
   "execution_count": 12
  },
  {
   "metadata": {},
   "cell_type": "markdown",
   "source": "Check the other notebooks to see how to use them."
  },
  {
   "metadata": {},
   "cell_type": "code",
   "outputs": [],
   "execution_count": null,
   "source": ""
  }
 ],
 "metadata": {
  "kernelspec": {
   "display_name": "Python 3 (ipykernel)",
   "language": "python",
   "name": "python3"
  },
  "language_info": {
   "codemirror_mode": {
    "name": "ipython",
    "version": 3
   },
   "file_extension": ".py",
   "mimetype": "text/x-python",
   "name": "python",
   "nbconvert_exporter": "python",
   "pygments_lexer": "ipython3",
   "version": "3.11.8"
  }
 },
 "nbformat": 4,
 "nbformat_minor": 4
}

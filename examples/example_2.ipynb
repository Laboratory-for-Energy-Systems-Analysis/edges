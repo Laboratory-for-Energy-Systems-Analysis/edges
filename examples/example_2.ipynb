{
 "cells": [
  {
   "cell_type": "markdown",
   "metadata": {},
   "source": [
    "# Use examples of [edges](https://github.com/romainsacchi/edges)\n",
    "\n",
    "Author: [romainsacchi](https://github.com/romainsacchi)\n",
    "\n",
    "This notebook shows examples on how to use `edge` to use exchange-specific\n",
    "characterization factors in the characterization matrix of `bw2calc`, combining the use of exchange names and locations.\n",
    "\n",
    "## Requirements\n",
    "\n",
    "* **Pyhton 3.10 or higher (up to 3.11) is highly recommended**"
   ]
  },
  {
   "cell_type": "markdown",
   "metadata": {},
   "source": [
    "# Use case with [brightway2](https://brightway.dev/)\n",
    "\n",
    "`brightway2` is an open source LCA framework for Python.\n",
    "To use `premise` from `brightway2`, it requires that you have an activated `brightway2` project with a `biosphere3` database as well as an [ecoinvent](https://ecoinvent.prg) v.3 cut-off or consequential database registered in that project. Please refer to the brightway [documentation](https://brightway.dev) if you do not know how to create a project and install ecoinvent."
   ]
  },
  {
   "cell_type": "code",
   "metadata": {
    "ExecuteTime": {
     "end_time": "2025-03-17T20:01:40.858395Z",
     "start_time": "2025-03-17T20:01:39.740287Z"
    }
   },
   "source": [
    "from edges import EdgeLCIA, get_available_methods\n",
    "import bw2data"
   ],
   "outputs": [],
   "execution_count": 1
  },
  {
   "metadata": {},
   "cell_type": "markdown",
   "source": [
    "One can simply build its own LCIA file.\n",
    "Let's consider the following LCIA file (saved under `lcia_example_2.json`):"
   ]
  },
  {
   "metadata": {
    "ExecuteTime": {
     "end_time": "2025-03-17T14:45:20.307990Z",
     "start_time": "2025-03-17T14:45:20.302804Z"
    }
   },
   "cell_type": "code",
   "source": [
    "[\n",
    "  {\n",
    "    \"supplier\": {\n",
    "      \"name\": \"Carbon dioxide\",\n",
    "      \"operator\": \"startswith\",\n",
    "      \"matrix\": \"biosphere\"\n",
    "    },\n",
    "    \"consumer\": {\n",
    "      \"matrix\": \"technosphere\",\n",
    "      \"type\": \"process\",\n",
    "      \"location\": \"CH\" # now, we want to specify the location of the consumer\n",
    "    },\n",
    "    \"value\": 1.0\n",
    "  },\n",
    "  {\n",
    "    \"supplier\": {\n",
    "      \"name\": \"Carbon dioxide\",\n",
    "      \"operator\": \"startswith\",\n",
    "      \"matrix\": \"biosphere\"\n",
    "    },\n",
    "    \"consumer\": {\n",
    "      \"matrix\": \"technosphere\",\n",
    "      \"type\": \"process\",\n",
    "      \"location\": \"FR\" # now, we want to specify the location of the consumer\n",
    "    },\n",
    "    \"value\": 2.0\n",
    "  },\n",
    "  {\n",
    "    \"supplier\": {\n",
    "      \"name\": \"Carbon dioxide\",\n",
    "      \"operator\": \"startswith\",\n",
    "      \"matrix\": \"biosphere\"\n",
    "    },\n",
    "    \"consumer\": {\n",
    "      \"matrix\": \"technosphere\",\n",
    "      \"type\": \"process\",\n",
    "      \"location\": \"RER\" # now, we want to specify the location of the consumer\n",
    "    },\n",
    "    \"value\": 3.0\n",
    "  }\n",
    "]"
   ],
   "outputs": [
    {
     "data": {
      "text/plain": [
       "[{'supplier': {'name': 'Carbon dioxide',\n",
       "   'operator': 'startswith',\n",
       "   'matrix': 'biosphere'},\n",
       "  'consumer': {'matrix': 'technosphere', 'type': 'process', 'location': 'CH'},\n",
       "  'value': 1.0},\n",
       " {'supplier': {'name': 'Carbon dioxide',\n",
       "   'operator': 'startswith',\n",
       "   'matrix': 'biosphere'},\n",
       "  'consumer': {'matrix': 'technosphere', 'type': 'process', 'location': 'FR'},\n",
       "  'value': 2.0},\n",
       " {'supplier': {'name': 'Carbon dioxide',\n",
       "   'operator': 'startswith',\n",
       "   'matrix': 'biosphere'},\n",
       "  'consumer': {'matrix': 'technosphere', 'type': 'process', 'location': 'RER'},\n",
       "  'value': 3.0}]"
      ]
     },
     "execution_count": 2,
     "metadata": {},
     "output_type": "execute_result"
    }
   ],
   "execution_count": 2
  },
  {
   "metadata": {
    "ExecuteTime": {
     "end_time": "2025-03-17T20:01:44.354617Z",
     "start_time": "2025-03-17T20:01:44.171274Z"
    }
   },
   "cell_type": "code",
   "source": [
    "# activate the bw project\n",
    "bw2data.projects.set_current(\"ecoinvent-3.10-cutoff\")"
   ],
   "outputs": [],
   "execution_count": 2
  },
  {
   "cell_type": "code",
   "metadata": {
    "ExecuteTime": {
     "end_time": "2025-03-17T20:01:44.623704Z",
     "start_time": "2025-03-17T20:01:44.609155Z"
    }
   },
   "source": [
    "act = bw2data.Database(\"ecoinvent-3.10.1-cutoff\").random()\n",
    "act"
   ],
   "outputs": [
    {
     "data": {
      "text/plain": [
       "'market for electricity, medium voltage' (kilowatt hour, IL, None)"
      ]
     },
     "execution_count": 3,
     "metadata": {},
     "output_type": "execute_result"
    }
   ],
   "execution_count": 3
  },
  {
   "metadata": {
    "ExecuteTime": {
     "end_time": "2025-03-17T19:47:16.583361Z",
     "start_time": "2025-03-17T19:47:14.479803Z"
    }
   },
   "cell_type": "code",
   "source": [
    "LCA = EdgeLCIA(\n",
    "    demand={act: 1},\n",
    "    method=(\"some\", \"method\"),\n",
    "    filepath=\"lcia_example_2.json\"\n",
    ")\n",
    "LCA.lci()\n",
    "\n",
    "LCA.map_exchanges()\n",
    "\n",
    "LCA.evaluate_cfs()\n",
    "LCA.lcia()\n",
    "LCA.score"
   ],
   "outputs": [
    {
     "name": "stderr",
     "output_type": "stream",
     "text": [
      "/opt/homebrew/Caskroom/miniforge/base/envs/bw2/lib/python3.11/site-packages/scikits/umfpack/umfpack.py:736: UmfpackWarning: (almost) singular matrix! (estimated cond. number: 4.83e+13)\n",
      "  warnings.warn(msg, UmfpackWarning)\n"
     ]
    },
    {
     "name": "stdout",
     "output_type": "stream",
     "text": [
      "Identifying eligible exchanges...\n"
     ]
    },
    {
     "name": "stderr",
     "output_type": "stream",
     "text": [
      "100%|██████████| 3/3 [00:00<00:00, 223.51it/s]\n"
     ]
    },
    {
     "data": {
      "text/plain": [
       "0.5471837461844041"
      ]
     },
     "execution_count": 4,
     "metadata": {},
     "output_type": "execute_result"
    }
   ],
   "execution_count": 4
  },
  {
   "cell_type": "markdown",
   "metadata": {},
   "source": [
    "### Generate dataframe of characterization factors used\n",
    "\n",
    "The `generate_cf_table` method generates a dataframe of the characterization factors used in the calculation. One can see the characterization factors used for each exchange in the system."
   ]
  },
  {
   "metadata": {
    "ExecuteTime": {
     "end_time": "2025-03-17T19:47:21.727593Z",
     "start_time": "2025-03-17T19:47:21.256139Z"
    }
   },
   "cell_type": "code",
   "source": "df = LCA.generate_cf_table()",
   "outputs": [],
   "execution_count": 5
  },
  {
   "metadata": {
    "ExecuteTime": {
     "end_time": "2025-03-17T19:47:21.746834Z",
     "start_time": "2025-03-17T19:47:21.737958Z"
    }
   },
   "cell_type": "code",
   "source": [
    "# we can see under the \"CF\" column\n",
    "# the characterization factors used for each exchange in the system\n",
    "df"
   ],
   "outputs": [
    {
     "data": {
      "text/plain": [
       "                   supplier name               supplier categories  \\\n",
       "0         Carbon dioxide, fossil  (air, urban air close to ground)   \n",
       "1         Carbon dioxide, fossil  (air, urban air close to ground)   \n",
       "2         Carbon dioxide, fossil  (air, urban air close to ground)   \n",
       "3         Carbon dioxide, fossil  (air, urban air close to ground)   \n",
       "4         Carbon dioxide, fossil  (air, urban air close to ground)   \n",
       "...                          ...                               ...   \n",
       "1207  Carbon dioxide, non-fossil                            (air,)   \n",
       "1208  Carbon dioxide, non-fossil                            (air,)   \n",
       "1209  Carbon dioxide, non-fossil                            (air,)   \n",
       "1210  Carbon dioxide, non-fossil                            (air,)   \n",
       "1211  Carbon dioxide, non-fossil                            (air,)   \n",
       "\n",
       "                                          consumer name  \\\n",
       "0     treatment of sewage sludge, 70% water, WWT, WW...   \n",
       "1     treatment of sewage sludge, 70% water, WWT-SLF...   \n",
       "2     treatment of leachate, SLF, waste asphalt, was...   \n",
       "3     treatment of leachate, SLF, waste bitumen, was...   \n",
       "4     heat and power co-generation, natural gas, 500...   \n",
       "...                                                 ...   \n",
       "1207  containerboard production, linerboard, kraftliner   \n",
       "1208                           anthraquinone production   \n",
       "1209                                   latex production   \n",
       "1210            particleboard production, cement bonded   \n",
       "1211            three and five layered board production   \n",
       "\n",
       "                             consumer reference product consumer location  \\\n",
       "0     sewage sludge, 70% water, WWT, WW from liquid ...                CH   \n",
       "1     sewage sludge, 70% water, WWT-SLF, refinery sl...                CH   \n",
       "2                          leachate, SLF, waste asphalt                CH   \n",
       "3                          leachate, SLF, waste bitumen                CH   \n",
       "4                             electricity, high voltage                CH   \n",
       "...                                                 ...               ...   \n",
       "1207                         containerboard, linerboard               RER   \n",
       "1208                                      anthraquinone               RER   \n",
       "1209                                              latex               RER   \n",
       "1210                       particleboard, cement bonded               RER   \n",
       "1211              wood chips, dry, measured as dry mass               RER   \n",
       "\n",
       "            amount   CF        impact  \n",
       "0     7.057870e-17  1.0  7.057870e-17  \n",
       "1     5.554115e-13  1.0  5.554115e-13  \n",
       "2     2.616844e-10  1.0  2.616844e-10  \n",
       "3     8.048970e-11  1.0  8.048970e-11  \n",
       "4     4.593825e-06  1.0  4.593825e-06  \n",
       "...            ...  ...           ...  \n",
       "1207  1.682536e-07  3.0  5.047607e-07  \n",
       "1208  5.977578e-10  3.0  1.793273e-09  \n",
       "1209  8.163367e-12  3.0  2.449010e-11  \n",
       "1210  2.846972e-11  3.0  8.540915e-11  \n",
       "1211  7.341849e-07  3.0  2.202555e-06  \n",
       "\n",
       "[1212 rows x 8 columns]"
      ],
      "text/html": [
       "<div>\n",
       "<style scoped>\n",
       "    .dataframe tbody tr th:only-of-type {\n",
       "        vertical-align: middle;\n",
       "    }\n",
       "\n",
       "    .dataframe tbody tr th {\n",
       "        vertical-align: top;\n",
       "    }\n",
       "\n",
       "    .dataframe thead th {\n",
       "        text-align: right;\n",
       "    }\n",
       "</style>\n",
       "<table border=\"1\" class=\"dataframe\">\n",
       "  <thead>\n",
       "    <tr style=\"text-align: right;\">\n",
       "      <th></th>\n",
       "      <th>supplier name</th>\n",
       "      <th>supplier categories</th>\n",
       "      <th>consumer name</th>\n",
       "      <th>consumer reference product</th>\n",
       "      <th>consumer location</th>\n",
       "      <th>amount</th>\n",
       "      <th>CF</th>\n",
       "      <th>impact</th>\n",
       "    </tr>\n",
       "  </thead>\n",
       "  <tbody>\n",
       "    <tr>\n",
       "      <th>0</th>\n",
       "      <td>Carbon dioxide, fossil</td>\n",
       "      <td>(air, urban air close to ground)</td>\n",
       "      <td>treatment of sewage sludge, 70% water, WWT, WW...</td>\n",
       "      <td>sewage sludge, 70% water, WWT, WW from liquid ...</td>\n",
       "      <td>CH</td>\n",
       "      <td>7.057870e-17</td>\n",
       "      <td>1.0</td>\n",
       "      <td>7.057870e-17</td>\n",
       "    </tr>\n",
       "    <tr>\n",
       "      <th>1</th>\n",
       "      <td>Carbon dioxide, fossil</td>\n",
       "      <td>(air, urban air close to ground)</td>\n",
       "      <td>treatment of sewage sludge, 70% water, WWT-SLF...</td>\n",
       "      <td>sewage sludge, 70% water, WWT-SLF, refinery sl...</td>\n",
       "      <td>CH</td>\n",
       "      <td>5.554115e-13</td>\n",
       "      <td>1.0</td>\n",
       "      <td>5.554115e-13</td>\n",
       "    </tr>\n",
       "    <tr>\n",
       "      <th>2</th>\n",
       "      <td>Carbon dioxide, fossil</td>\n",
       "      <td>(air, urban air close to ground)</td>\n",
       "      <td>treatment of leachate, SLF, waste asphalt, was...</td>\n",
       "      <td>leachate, SLF, waste asphalt</td>\n",
       "      <td>CH</td>\n",
       "      <td>2.616844e-10</td>\n",
       "      <td>1.0</td>\n",
       "      <td>2.616844e-10</td>\n",
       "    </tr>\n",
       "    <tr>\n",
       "      <th>3</th>\n",
       "      <td>Carbon dioxide, fossil</td>\n",
       "      <td>(air, urban air close to ground)</td>\n",
       "      <td>treatment of leachate, SLF, waste bitumen, was...</td>\n",
       "      <td>leachate, SLF, waste bitumen</td>\n",
       "      <td>CH</td>\n",
       "      <td>8.048970e-11</td>\n",
       "      <td>1.0</td>\n",
       "      <td>8.048970e-11</td>\n",
       "    </tr>\n",
       "    <tr>\n",
       "      <th>4</th>\n",
       "      <td>Carbon dioxide, fossil</td>\n",
       "      <td>(air, urban air close to ground)</td>\n",
       "      <td>heat and power co-generation, natural gas, 500...</td>\n",
       "      <td>electricity, high voltage</td>\n",
       "      <td>CH</td>\n",
       "      <td>4.593825e-06</td>\n",
       "      <td>1.0</td>\n",
       "      <td>4.593825e-06</td>\n",
       "    </tr>\n",
       "    <tr>\n",
       "      <th>...</th>\n",
       "      <td>...</td>\n",
       "      <td>...</td>\n",
       "      <td>...</td>\n",
       "      <td>...</td>\n",
       "      <td>...</td>\n",
       "      <td>...</td>\n",
       "      <td>...</td>\n",
       "      <td>...</td>\n",
       "    </tr>\n",
       "    <tr>\n",
       "      <th>1207</th>\n",
       "      <td>Carbon dioxide, non-fossil</td>\n",
       "      <td>(air,)</td>\n",
       "      <td>containerboard production, linerboard, kraftliner</td>\n",
       "      <td>containerboard, linerboard</td>\n",
       "      <td>RER</td>\n",
       "      <td>1.682536e-07</td>\n",
       "      <td>3.0</td>\n",
       "      <td>5.047607e-07</td>\n",
       "    </tr>\n",
       "    <tr>\n",
       "      <th>1208</th>\n",
       "      <td>Carbon dioxide, non-fossil</td>\n",
       "      <td>(air,)</td>\n",
       "      <td>anthraquinone production</td>\n",
       "      <td>anthraquinone</td>\n",
       "      <td>RER</td>\n",
       "      <td>5.977578e-10</td>\n",
       "      <td>3.0</td>\n",
       "      <td>1.793273e-09</td>\n",
       "    </tr>\n",
       "    <tr>\n",
       "      <th>1209</th>\n",
       "      <td>Carbon dioxide, non-fossil</td>\n",
       "      <td>(air,)</td>\n",
       "      <td>latex production</td>\n",
       "      <td>latex</td>\n",
       "      <td>RER</td>\n",
       "      <td>8.163367e-12</td>\n",
       "      <td>3.0</td>\n",
       "      <td>2.449010e-11</td>\n",
       "    </tr>\n",
       "    <tr>\n",
       "      <th>1210</th>\n",
       "      <td>Carbon dioxide, non-fossil</td>\n",
       "      <td>(air,)</td>\n",
       "      <td>particleboard production, cement bonded</td>\n",
       "      <td>particleboard, cement bonded</td>\n",
       "      <td>RER</td>\n",
       "      <td>2.846972e-11</td>\n",
       "      <td>3.0</td>\n",
       "      <td>8.540915e-11</td>\n",
       "    </tr>\n",
       "    <tr>\n",
       "      <th>1211</th>\n",
       "      <td>Carbon dioxide, non-fossil</td>\n",
       "      <td>(air,)</td>\n",
       "      <td>three and five layered board production</td>\n",
       "      <td>wood chips, dry, measured as dry mass</td>\n",
       "      <td>RER</td>\n",
       "      <td>7.341849e-07</td>\n",
       "      <td>3.0</td>\n",
       "      <td>2.202555e-06</td>\n",
       "    </tr>\n",
       "  </tbody>\n",
       "</table>\n",
       "<p>1212 rows × 8 columns</p>\n",
       "</div>"
      ]
     },
     "execution_count": 6,
     "metadata": {},
     "output_type": "execute_result"
    }
   ],
   "execution_count": 6
  },
  {
   "metadata": {},
   "cell_type": "markdown",
   "source": "As expected, only CH, FR and RER-based consumers have been considered in the calculation."
  },
  {
   "metadata": {
    "ExecuteTime": {
     "end_time": "2025-03-17T19:47:23.112468Z",
     "start_time": "2025-03-17T19:47:23.107644Z"
    }
   },
   "cell_type": "code",
   "source": "df.groupby(\"consumer location\")[\"CF\"].mean()",
   "outputs": [
    {
     "data": {
      "text/plain": [
       "consumer location\n",
       "CH     1.0\n",
       "FR     2.0\n",
       "RER    3.0\n",
       "Name: CF, dtype: float64"
      ]
     },
     "execution_count": 7,
     "metadata": {},
     "output_type": "execute_result"
    }
   ],
   "execution_count": 7
  },
  {
   "metadata": {},
   "cell_type": "markdown",
   "source": "But `statistics()` tells us that many exchanges have been ignored."
  },
  {
   "metadata": {
    "ExecuteTime": {
     "end_time": "2025-03-17T19:47:26.186899Z",
     "start_time": "2025-03-17T19:47:26.184172Z"
    }
   },
   "cell_type": "code",
   "source": "LCA.statistics()",
   "outputs": [
    {
     "name": "stdout",
     "output_type": "stream",
     "text": [
      "+----------------------+------------------------------------------+\n",
      "|       Activity       | market for cleaning consumables, without |\n",
      "|                      |      water, in 13.6% solution state      |\n",
      "|     Method name      |            ('some', 'method')            |\n",
      "|      Data file       |              lcia_example_2              |\n",
      "| Unique CFs in method |                    3                     |\n",
      "|   Unique CFs used    |                    3                     |\n",
      "|  Exc. characterized  |                   1212                   |\n",
      "| Exc. uncharacterized |                  334854                  |\n",
      "+----------------------+------------------------------------------+\n"
     ]
    }
   ],
   "execution_count": 8
  },
  {
   "metadata": {},
   "cell_type": "markdown",
   "source": [
    "We can extend the application of CFs to other exchanges, using the helping functions: `map_aggregate_locations`, `map_disaggregate_location`, `map_dynamic_locations` and `map_remaining_locations_to_global`.\n",
    "\n",
    "* `map_aggregate_locations` maps exchanges with aggregate locations (e.g., \"RER\", RLA\", etc.) to weighted-average CFs.\n",
    "* `map_disaggregate_location` maps exchanges with locations that belong to aggregate locations (\"CA-QC\") to CFs of aggregate locations (e.g., \"CA\").\n",
    "* `map_dynamic_locations` maps exchanges with dynamic locations (e.g., \"RoW\", \"RoW\") to CFs calculated as the weighted-average of all locations minus those excluded by dynamic locations' perimeter (e.g., \"GLO minus CH\").\n",
    "* `map_remaining_locations_to_global` maps exchanges with remaining locations to the global CFs."
   ]
  },
  {
   "metadata": {
    "ExecuteTime": {
     "end_time": "2025-03-17T20:01:55.637337Z",
     "start_time": "2025-03-17T20:01:49.448259Z"
    }
   },
   "cell_type": "code",
   "source": [
    "LCA = EdgeLCIA(\n",
    "    demand={act: 1},\n",
    "    method=(\"some\", \"method\"),\n",
    "    filepath=\"lcia_example_2.json\"\n",
    ")\n",
    "LCA.lci()\n",
    "\n",
    "LCA.map_exchanges()\n",
    "\n",
    "LCA.map_aggregate_locations()\n",
    "LCA.map_dynamic_locations()\n",
    "LCA.map_disaggregate_locations()\n",
    "LCA.map_remaining_locations_to_global()\n",
    "\n",
    "LCA.evaluate_cfs()\n",
    "LCA.lcia()\n",
    "LCA.score"
   ],
   "outputs": [
    {
     "name": "stderr",
     "output_type": "stream",
     "text": [
      "/opt/homebrew/Caskroom/miniforge/base/envs/bw2/lib/python3.11/site-packages/scikits/umfpack/umfpack.py:736: UmfpackWarning: (almost) singular matrix! (estimated cond. number: 4.83e+13)\n",
      "  warnings.warn(msg, UmfpackWarning)\n"
     ]
    },
    {
     "name": "stdout",
     "output_type": "stream",
     "text": [
      "Identifying eligible exchanges...\n"
     ]
    },
    {
     "name": "stderr",
     "output_type": "stream",
     "text": [
      "100%|██████████| 3/3 [00:00<00:00, 238.70it/s]\n"
     ]
    },
    {
     "name": "stdout",
     "output_type": "stream",
     "text": [
      "Handling static regions...\n"
     ]
    },
    {
     "name": "stderr",
     "output_type": "stream",
     "text": [
      "100%|██████████| 334699/334699 [00:00<00:00, 350791.94it/s]\n",
      "0it [00:00, ?it/s]\n"
     ]
    },
    {
     "name": "stdout",
     "output_type": "stream",
     "text": [
      "Handling dynamic regions...\n"
     ]
    },
    {
     "name": "stderr",
     "output_type": "stream",
     "text": [
      "100%|██████████| 334699/334699 [00:00<00:00, 352829.19it/s]\n",
      "0it [00:00, ?it/s]\n"
     ]
    },
    {
     "name": "stdout",
     "output_type": "stream",
     "text": [
      "Handling unmatched locations...\n"
     ]
    },
    {
     "name": "stderr",
     "output_type": "stream",
     "text": [
      "100%|██████████| 334699/334699 [00:00<00:00, 341249.22it/s]\n",
      "0it [00:00, ?it/s]\n"
     ]
    },
    {
     "name": "stdout",
     "output_type": "stream",
     "text": [
      "Handling remaining exchanges...\n"
     ]
    },
    {
     "name": "stderr",
     "output_type": "stream",
     "text": [
      "100%|██████████| 334699/334699 [00:00<00:00, 388285.88it/s]\n",
      "0it [00:00, ?it/s]\n"
     ]
    },
    {
     "data": {
      "text/plain": [
       "0.0017014460518306926"
      ]
     },
     "execution_count": 4,
     "metadata": {},
     "output_type": "execute_result"
    }
   ],
   "execution_count": 4
  },
  {
   "metadata": {
    "ExecuteTime": {
     "end_time": "2025-03-17T20:02:34.852946Z",
     "start_time": "2025-03-17T20:02:34.838193Z"
    }
   },
   "cell_type": "code",
   "source": "LCA.statistics()",
   "outputs": [
    {
     "name": "stdout",
     "output_type": "stream",
     "text": [
      "+----------------------+----------------------------------------+\n",
      "|       Activity       | market for electricity, medium voltage |\n",
      "|     Method name      |           ('some', 'method')           |\n",
      "|      Data file       |             lcia_example_2             |\n",
      "| Unique CFs in method |                   3                    |\n",
      "|   Unique CFs used    |                   3                    |\n",
      "|  Exc. characterized  |                  1210                  |\n",
      "| Exc. uncharacterized |                 334699                 |\n",
      "+----------------------+----------------------------------------+\n"
     ]
    }
   ],
   "execution_count": 5
  },
  {
   "metadata": {
    "ExecuteTime": {
     "end_time": "2025-03-17T20:02:50.468802Z",
     "start_time": "2025-03-17T20:02:49.973217Z"
    }
   },
   "cell_type": "code",
   "source": "df = LCA.generate_cf_table()",
   "outputs": [],
   "execution_count": 6
  },
  {
   "metadata": {
    "ExecuteTime": {
     "end_time": "2025-03-17T20:03:17.292832Z",
     "start_time": "2025-03-17T20:03:17.285153Z"
    }
   },
   "cell_type": "code",
   "source": "df",
   "outputs": [
    {
     "data": {
      "text/plain": [
       "                                        supplier name  \\\n",
       "0                          Carbon dioxide, non-fossil   \n",
       "1                          Carbon dioxide, non-fossil   \n",
       "2                          Carbon dioxide, non-fossil   \n",
       "3                          Carbon dioxide, non-fossil   \n",
       "4                          Carbon dioxide, non-fossil   \n",
       "...                                               ...   \n",
       "1205  Carbon dioxide, non-fossil, resource correction   \n",
       "1206  Carbon dioxide, non-fossil, resource correction   \n",
       "1207  Carbon dioxide, non-fossil, resource correction   \n",
       "1208  Carbon dioxide, non-fossil, resource correction   \n",
       "1209  Carbon dioxide, non-fossil, resource correction   \n",
       "\n",
       "                   supplier categories  \\\n",
       "0     (air, urban air close to ground)   \n",
       "1     (air, urban air close to ground)   \n",
       "2     (air, urban air close to ground)   \n",
       "3     (air, urban air close to ground)   \n",
       "4     (air, urban air close to ground)   \n",
       "...                                ...   \n",
       "1205        (natural resource, in air)   \n",
       "1206        (natural resource, in air)   \n",
       "1207        (natural resource, in air)   \n",
       "1208        (natural resource, in air)   \n",
       "1209        (natural resource, in air)   \n",
       "\n",
       "                                          consumer name  \\\n",
       "0     treatment of waste wood, untreated, municipal ...   \n",
       "1     biomethane, low pressure burned in micro gas t...   \n",
       "2     treatment of digester sludge, municipal incine...   \n",
       "3             lath, hardwood, raw, kiln drying to u=20%   \n",
       "4                                 beet sugar production   \n",
       "...                                                 ...   \n",
       "1205   sulfate pulp production, from softwood, bleached   \n",
       "1206            particleboard production, cement bonded   \n",
       "1207            three and five layered board production   \n",
       "1208  sulfate pulp production, from softwood, unblea...   \n",
       "1209               sawing and planing, azobe, air dried   \n",
       "\n",
       "                             consumer reference product consumer location  \\\n",
       "0                                 waste wood, untreated                CH   \n",
       "1     heat, central or small-scale, other than natur...                CH   \n",
       "2     heat, for reuse in municipal waste incineratio...                CH   \n",
       "3          sawnwood, lath, hardwood, raw, dried (u=20%)                CH   \n",
       "4                                       sugar beet pulp                CH   \n",
       "...                                                 ...               ...   \n",
       "1205              bark chips, wet, measured as dry mass               RER   \n",
       "1206                       particleboard, cement bonded               RER   \n",
       "1207              wood chips, dry, measured as dry mass               RER   \n",
       "1208                 sawdust, wet, measured as dry mass               RER   \n",
       "1209                                 residual wood, dry               RER   \n",
       "\n",
       "            amount   CF        impact  \n",
       "0     4.124792e-06  1.0  4.124792e-06  \n",
       "1     8.083118e-20  1.0  8.083118e-20  \n",
       "2     1.033653e-08  1.0  1.033653e-08  \n",
       "3     3.437403e-08  1.0  3.437403e-08  \n",
       "4     2.884184e-28  1.0  2.884184e-28  \n",
       "...            ...  ...           ...  \n",
       "1205  1.066332e-09  3.0  3.198996e-09  \n",
       "1206  1.816462e-08  3.0  5.449387e-08  \n",
       "1207  1.565582e-07  3.0  4.696745e-07  \n",
       "1208  3.875551e-11  3.0  1.162665e-10  \n",
       "1209  2.669638e-11  3.0  8.008914e-11  \n",
       "\n",
       "[1210 rows x 8 columns]"
      ],
      "text/html": [
       "<div>\n",
       "<style scoped>\n",
       "    .dataframe tbody tr th:only-of-type {\n",
       "        vertical-align: middle;\n",
       "    }\n",
       "\n",
       "    .dataframe tbody tr th {\n",
       "        vertical-align: top;\n",
       "    }\n",
       "\n",
       "    .dataframe thead th {\n",
       "        text-align: right;\n",
       "    }\n",
       "</style>\n",
       "<table border=\"1\" class=\"dataframe\">\n",
       "  <thead>\n",
       "    <tr style=\"text-align: right;\">\n",
       "      <th></th>\n",
       "      <th>supplier name</th>\n",
       "      <th>supplier categories</th>\n",
       "      <th>consumer name</th>\n",
       "      <th>consumer reference product</th>\n",
       "      <th>consumer location</th>\n",
       "      <th>amount</th>\n",
       "      <th>CF</th>\n",
       "      <th>impact</th>\n",
       "    </tr>\n",
       "  </thead>\n",
       "  <tbody>\n",
       "    <tr>\n",
       "      <th>0</th>\n",
       "      <td>Carbon dioxide, non-fossil</td>\n",
       "      <td>(air, urban air close to ground)</td>\n",
       "      <td>treatment of waste wood, untreated, municipal ...</td>\n",
       "      <td>waste wood, untreated</td>\n",
       "      <td>CH</td>\n",
       "      <td>4.124792e-06</td>\n",
       "      <td>1.0</td>\n",
       "      <td>4.124792e-06</td>\n",
       "    </tr>\n",
       "    <tr>\n",
       "      <th>1</th>\n",
       "      <td>Carbon dioxide, non-fossil</td>\n",
       "      <td>(air, urban air close to ground)</td>\n",
       "      <td>biomethane, low pressure burned in micro gas t...</td>\n",
       "      <td>heat, central or small-scale, other than natur...</td>\n",
       "      <td>CH</td>\n",
       "      <td>8.083118e-20</td>\n",
       "      <td>1.0</td>\n",
       "      <td>8.083118e-20</td>\n",
       "    </tr>\n",
       "    <tr>\n",
       "      <th>2</th>\n",
       "      <td>Carbon dioxide, non-fossil</td>\n",
       "      <td>(air, urban air close to ground)</td>\n",
       "      <td>treatment of digester sludge, municipal incine...</td>\n",
       "      <td>heat, for reuse in municipal waste incineratio...</td>\n",
       "      <td>CH</td>\n",
       "      <td>1.033653e-08</td>\n",
       "      <td>1.0</td>\n",
       "      <td>1.033653e-08</td>\n",
       "    </tr>\n",
       "    <tr>\n",
       "      <th>3</th>\n",
       "      <td>Carbon dioxide, non-fossil</td>\n",
       "      <td>(air, urban air close to ground)</td>\n",
       "      <td>lath, hardwood, raw, kiln drying to u=20%</td>\n",
       "      <td>sawnwood, lath, hardwood, raw, dried (u=20%)</td>\n",
       "      <td>CH</td>\n",
       "      <td>3.437403e-08</td>\n",
       "      <td>1.0</td>\n",
       "      <td>3.437403e-08</td>\n",
       "    </tr>\n",
       "    <tr>\n",
       "      <th>4</th>\n",
       "      <td>Carbon dioxide, non-fossil</td>\n",
       "      <td>(air, urban air close to ground)</td>\n",
       "      <td>beet sugar production</td>\n",
       "      <td>sugar beet pulp</td>\n",
       "      <td>CH</td>\n",
       "      <td>2.884184e-28</td>\n",
       "      <td>1.0</td>\n",
       "      <td>2.884184e-28</td>\n",
       "    </tr>\n",
       "    <tr>\n",
       "      <th>...</th>\n",
       "      <td>...</td>\n",
       "      <td>...</td>\n",
       "      <td>...</td>\n",
       "      <td>...</td>\n",
       "      <td>...</td>\n",
       "      <td>...</td>\n",
       "      <td>...</td>\n",
       "      <td>...</td>\n",
       "    </tr>\n",
       "    <tr>\n",
       "      <th>1205</th>\n",
       "      <td>Carbon dioxide, non-fossil, resource correction</td>\n",
       "      <td>(natural resource, in air)</td>\n",
       "      <td>sulfate pulp production, from softwood, bleached</td>\n",
       "      <td>bark chips, wet, measured as dry mass</td>\n",
       "      <td>RER</td>\n",
       "      <td>1.066332e-09</td>\n",
       "      <td>3.0</td>\n",
       "      <td>3.198996e-09</td>\n",
       "    </tr>\n",
       "    <tr>\n",
       "      <th>1206</th>\n",
       "      <td>Carbon dioxide, non-fossil, resource correction</td>\n",
       "      <td>(natural resource, in air)</td>\n",
       "      <td>particleboard production, cement bonded</td>\n",
       "      <td>particleboard, cement bonded</td>\n",
       "      <td>RER</td>\n",
       "      <td>1.816462e-08</td>\n",
       "      <td>3.0</td>\n",
       "      <td>5.449387e-08</td>\n",
       "    </tr>\n",
       "    <tr>\n",
       "      <th>1207</th>\n",
       "      <td>Carbon dioxide, non-fossil, resource correction</td>\n",
       "      <td>(natural resource, in air)</td>\n",
       "      <td>three and five layered board production</td>\n",
       "      <td>wood chips, dry, measured as dry mass</td>\n",
       "      <td>RER</td>\n",
       "      <td>1.565582e-07</td>\n",
       "      <td>3.0</td>\n",
       "      <td>4.696745e-07</td>\n",
       "    </tr>\n",
       "    <tr>\n",
       "      <th>1208</th>\n",
       "      <td>Carbon dioxide, non-fossil, resource correction</td>\n",
       "      <td>(natural resource, in air)</td>\n",
       "      <td>sulfate pulp production, from softwood, unblea...</td>\n",
       "      <td>sawdust, wet, measured as dry mass</td>\n",
       "      <td>RER</td>\n",
       "      <td>3.875551e-11</td>\n",
       "      <td>3.0</td>\n",
       "      <td>1.162665e-10</td>\n",
       "    </tr>\n",
       "    <tr>\n",
       "      <th>1209</th>\n",
       "      <td>Carbon dioxide, non-fossil, resource correction</td>\n",
       "      <td>(natural resource, in air)</td>\n",
       "      <td>sawing and planing, azobe, air dried</td>\n",
       "      <td>residual wood, dry</td>\n",
       "      <td>RER</td>\n",
       "      <td>2.669638e-11</td>\n",
       "      <td>3.0</td>\n",
       "      <td>8.008914e-11</td>\n",
       "    </tr>\n",
       "  </tbody>\n",
       "</table>\n",
       "<p>1210 rows × 8 columns</p>\n",
       "</div>"
      ]
     },
     "execution_count": 8,
     "metadata": {},
     "output_type": "execute_result"
    }
   ],
   "execution_count": 8
  },
  {
   "metadata": {},
   "cell_type": "code",
   "outputs": [],
   "execution_count": null,
   "source": ""
  }
 ],
 "metadata": {
  "kernelspec": {
   "display_name": "Python 3 (ipykernel)",
   "language": "python",
   "name": "python3"
  },
  "language_info": {
   "codemirror_mode": {
    "name": "ipython",
    "version": 3
   },
   "file_extension": ".py",
   "mimetype": "text/x-python",
   "name": "python",
   "nbconvert_exporter": "python",
   "pygments_lexer": "ipython3",
   "version": "3.11.8"
  }
 },
 "nbformat": 4,
 "nbformat_minor": 4
}

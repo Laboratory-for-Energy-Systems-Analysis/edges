{
 "cells": [
  {
   "cell_type": "markdown",
   "id": "af32cc06-163f-4e0e-a7b3-3243b034d522",
   "metadata": {},
   "source": [
    "# **Example GeoPolRisk | Use case 2**"
   ]
  },
  {
   "cell_type": "markdown",
   "id": "1b081493-6cbb-4a50-936d-8a8a499ca98a",
   "metadata": {},
   "source": [
    "**Authors:**  \n",
    "[Romain Sacchi](mailto:romain.sacchi@psi.ch), [Alvaro Hahn Menacho](mailto:alvaro.hahn-menacho@psi.ch)\n"
   ]
  },
  {
   "cell_type": "markdown",
   "id": "5c6d88b5-0415-4ae2-9803-c66cd723f825",
   "metadata": {},
   "source": [
    "This notebook presents an example to build an edges-based LCA using the GeoPolRisk method."
   ]
  },
  {
   "cell_type": "markdown",
   "id": "31bad200-a5a7-42bf-833b-37177a44a28c",
   "metadata": {},
   "source": [
    "## Structure"
   ]
  },
  {
   "cell_type": "markdown",
   "id": "0bd7f74b-6c7a-4f49-890f-a1cef837dc86",
   "metadata": {},
   "source": [
    "1. [Import *edges* and set *bw2 project*](#sec_import_edges)\n",
    "2. [Import hydrogen production, PEM, LCI](#sec_import_h2)\n",
    "3. [Select *Functional Unit* and *method*](#sec_select_fu)\n",
    "4. [Run edges based LCA](#sec_run_edges_lca)\n",
    "5. [Export results](#sec_export_results)\n",
    "6. [Plot results](#sec_plot_results)"
   ]
  },
  {
   "cell_type": "markdown",
   "id": "aeaaa42c-8545-455f-8de9-569a789ca9db",
   "metadata": {},
   "source": [
    "<a id=\"sec_import_edges\"></a>\n",
    "# 1. Import edges and set bw2 project"
   ]
  },
  {
   "cell_type": "code",
   "execution_count": 1,
   "id": "e5d5d48e-c53d-447b-8fb1-0b1b7f1285fa",
   "metadata": {},
   "outputs": [
    {
     "name": "stdout",
     "output_type": "stream",
     "text": [
      "16:29:14+0200 [warning  ] Can't import `SimaProBlockCSVImporter` - please install `bw2io` with `pip install bw2io[multifunctional]` or install `multifunctional` and `bw_simapro_csv` manually.\n"
     ]
    }
   ],
   "source": [
    "from edges import EdgeLCIA, get_available_methods\n",
    "import bw2data, bw2io"
   ]
  },
  {
   "cell_type": "code",
   "execution_count": 2,
   "id": "76269d3a-be1c-4d19-9849-e463bd9db212",
   "metadata": {},
   "outputs": [],
   "source": [
    "bw2data.projects.set_current(\"ecoinvent-3.10.1-cutoff\")"
   ]
  },
  {
   "cell_type": "markdown",
   "id": "163a31ac-4cde-4f79-b742-93018a689c27",
   "metadata": {},
   "source": [
    "<a id=\"sec_import_h2\"></a>\n",
    "# 2. Import hydrogen production, PEM, LCI"
   ]
  },
  {
   "cell_type": "code",
   "execution_count": 3,
   "id": "e35e40c7-4d87-4af9-bd56-eadea9cb4045",
   "metadata": {},
   "outputs": [
    {
     "name": "stdout",
     "output_type": "stream",
     "text": [
      "Extracted 1 worksheets in 0.18 seconds\n",
      "Applying strategy: csv_restore_tuples\n",
      "Applying strategy: csv_restore_booleans\n",
      "Applying strategy: csv_numerize\n",
      "Applying strategy: csv_drop_unknown\n",
      "Applying strategy: csv_add_missing_exchanges_section\n",
      "Applying strategy: normalize_units\n",
      "Applying strategy: normalize_biosphere_categories\n",
      "Applying strategy: normalize_biosphere_names\n",
      "Applying strategy: strip_biosphere_exc_locations\n",
      "Applying strategy: set_code_by_activity_hash\n",
      "Applying strategy: link_iterable_by_fields\n",
      "Applying strategy: assign_only_product_as_production\n",
      "Applying strategy: link_technosphere_by_activity_hash\n",
      "Applying strategy: drop_falsey_uncertainty_fields_but_keep_zeros\n",
      "Applying strategy: convert_uncertainty_types_to_integers\n",
      "Applying strategy: convert_activity_parameters_to_list\n",
      "Applied 16 strategies in 0.34 seconds\n",
      "Applying strategy: link_iterable_by_fields\n",
      "Applying strategy: link_iterable_by_fields\n",
      "Applying strategy: link_iterable_by_fields\n",
      "Graph statistics for `h2_pem` importer:\n",
      "11 graph nodes:\n",
      "\tNone: 11\n",
      "214 graph edges:\n",
      "\ttechnosphere: 124\n",
      "\tbiosphere: 79\n",
      "\tproduction: 11\n",
      "213 edges to the following databases:\n",
      "\tecoinvent-3.10.1-cutoff: 98\n",
      "\tbiosphere: 78\n",
      "\th2_pem: 37\n",
      "1 unique unlinked edges (1 total):\n",
      "\tbiosphere: 1\n",
      "\n",
      "\n",
      "Applying strategy: drop_unlinked\n",
      "Applied 1 strategies in 0.00 seconds\n",
      "Applying strategy: drop_unlinked\n",
      "Applied 1 strategies in 0.00 seconds\n",
      "16:29:26+0200 [warning  ] Not able to determine geocollections for all datasets. This database is not ready for regionalization.\n"
     ]
    },
    {
     "name": "stderr",
     "output_type": "stream",
     "text": [
      "100%|██████████████████████████████████████████████████████████████████████████████████████████████████████████████████████████████████████████████████████████████████████████| 11/11 [00:00<00:00, 226.42it/s]\n"
     ]
    },
    {
     "name": "stdout",
     "output_type": "stream",
     "text": [
      "16:29:26+0200 [info     ] Vacuuming database            \n",
      "Created database: h2_pem\n"
     ]
    }
   ],
   "source": [
    "if \"h2_pem\" in bw2data.databases:\n",
    "    del bw2data.databases[\"h2_pem\"]\n",
    "lci = bw2io.ExcelImporter(\"lci-hydrogen-electrolysis.xlsx\")\n",
    "lci.apply_strategies()\n",
    "lci.match_database(fields=[\"name\", \"reference product\", \"location\"])\n",
    "lci.match_database(\"ecoinvent-3.10.1-cutoff\",fields=[\"name\", \"reference product\", \"location\"])\n",
    "lci.match_database(\"biosphere\",fields=[\"name\", \"categories\"])\n",
    "lci.statistics()\n",
    "lci.drop_unlinked(i_am_reckless=True)\n",
    "lci.drop_unlinked(i_am_reckless=True)\n",
    "if len(list(lci.unlinked)) == 0:\n",
    "    lci.write_database()\n",
    "\n",
    "\n",
    "classifications = {\n",
    "    \"hydrogen production, gaseous, 30 bar, from PEM electrolysis, from grid electricity\": (\"CPC\", \"34210\"),\n",
    "    \"hydrogen production, gaseous, 30 bar, from PEM electrolysis, from solar photovoltaic electricity\": (\"CPC\", \"34210\"),\n",
    "    \"hydrogen production, gaseous, 30 bar, from PEM electrolysis, from onshore wind electricity\": (\"CPC\", \"34210\"),\n",
    "    \"hydrogen production, gaseous, 30 bar, from PEM electrolysis, from offshore wind electricity\": (\"CPC\", \"34210\"),\n",
    "    \"hydrogen production, gaseous, 30 bar, from PEM electrolysis, from geothermal electricity\": (\"CPC\", \"34210\"),\n",
    "    \"electrolyzer production, 1MWe, PEM, Stack\": (\"CPC\", \"4220:Construction of utility projects\"),\n",
    "    \"treatment of electrolyzer stack, 1MWe, PEM\": (\"CPC\", \"3830\"),\n",
    "    \"electrolyzer production, 1MWe, PEM, Balance of Plant\": (\"CPC\", \"4220:Construction of utility projects\"),\n",
    "    \"treatment of electrolyzer balance of plant, 1MWe, PEM\": (\"CPC\", \"3830\"),\n",
    "    \"platinum group metal, extraction and refinery operations\": (\"CPC\", \"2420\"),\n",
    "    \"deionized water production, via reverse osmosis, from brackish water\": (\"CPC\", \"34210\")\n",
    "}\n",
    "for ds in bw2data.Database(\"h2_pem\"):\n",
    "    if ds[\"name\"] in classifications:\n",
    "        ds[\"classifications\"] = [classifications[ds[\"name\"]]]\n",
    "        ds.save()"
   ]
  },
  {
   "cell_type": "markdown",
   "id": "7aa87f54-3996-4462-8f68-612769c15c18",
   "metadata": {},
   "source": [
    "<a id=\"sec_select_fu\"></a>\n",
    "# 3. Select Functional Unit and method"
   ]
  },
  {
   "cell_type": "markdown",
   "id": "1f6529b3-163a-4dd5-a609-19d650049fec",
   "metadata": {},
   "source": [
    "### 3.1. Select FU"
   ]
  },
  {
   "cell_type": "code",
   "execution_count": 4,
   "id": "b210a5cc-45db-46dd-be6e-8d558814bf89",
   "metadata": {
    "scrolled": true
   },
   "outputs": [
    {
     "data": {
      "text/plain": [
       "'hydrogen production, gaseous, 30 bar, from PEM electrolysis, from offshore wind electricity' (kilogram, FR, None)"
      ]
     },
     "execution_count": 4,
     "metadata": {},
     "output_type": "execute_result"
    }
   ],
   "source": [
    "act = [a for a in bw2data.Database(\"h2_pem\") if a[\"name\"] == \"hydrogen production, gaseous, 30 bar, from PEM electrolysis, from offshore wind electricity\"][0]\n",
    "act"
   ]
  },
  {
   "cell_type": "markdown",
   "id": "d91e6598-09cf-446a-9e1f-7a4078a4a058",
   "metadata": {},
   "source": [
    "### 3.2. Select method"
   ]
  },
  {
   "cell_type": "code",
   "execution_count": 5,
   "id": "dd732995-6ab8-4dcb-9293-285dc9f8a523",
   "metadata": {
    "scrolled": true
   },
   "outputs": [
    {
     "data": {
      "text/plain": [
       "[('AWARE 2.0', 'Country', 'all', 'yearly'),\n",
       " ('AWARE 2.0', 'Country', 'irri', 'yearly'),\n",
       " ('AWARE 2.0', 'Country', 'non', 'irri', 'yearly'),\n",
       " ('AWARE 2.0', 'Country', 'unspecified', 'yearly'),\n",
       " ('GeoPolRisk', 'elementary flows', '2024'),\n",
       " ('GeoPolRisk', 'paired', '2024'),\n",
       " ('ImpactWorld+ 2.1', 'Freshwater acidification', 'damage'),\n",
       " ('ImpactWorld+ 2.1', 'Freshwater acidification', 'midpoint'),\n",
       " ('ImpactWorld+ 2.1', 'Freshwater ecotoxicity', 'damage'),\n",
       " ('ImpactWorld+ 2.1', 'Freshwater ecotoxicity', 'midpoint'),\n",
       " ('ImpactWorld+ 2.1', 'Freshwater ecotoxicity, long term', 'damage'),\n",
       " ('ImpactWorld+ 2.1', 'Freshwater ecotoxicity, long term', 'midpoint'),\n",
       " ('ImpactWorld+ 2.1', 'Freshwater ecotoxicity, short term', 'damage'),\n",
       " ('ImpactWorld+ 2.1', 'Freshwater ecotoxicity, short term', 'midpoint'),\n",
       " ('ImpactWorld+ 2.1', 'Freshwater eutrophication', 'damage'),\n",
       " ('ImpactWorld+ 2.1', 'Freshwater eutrophication', 'midpoint'),\n",
       " ('ImpactWorld+ 2.1', 'Land occupation, biodiversity', 'damage'),\n",
       " ('ImpactWorld+ 2.1', 'Land occupation, biodiversity', 'midpoint'),\n",
       " ('ImpactWorld+ 2.1', 'Land transformation, biodiversity', 'damage'),\n",
       " ('ImpactWorld+ 2.1', 'Land transformation, biodiversity', 'midpoint'),\n",
       " ('ImpactWorld+ 2.1', 'Marine ecotoxicity, long term', 'damage'),\n",
       " ('ImpactWorld+ 2.1', 'Marine ecotoxicity, long term', 'midpoint'),\n",
       " ('ImpactWorld+ 2.1', 'Marine ecotoxicity, short term', 'damage'),\n",
       " ('ImpactWorld+ 2.1', 'Marine ecotoxicity, short term', 'midpoint'),\n",
       " ('ImpactWorld+ 2.1', 'Marine eutrophication', 'damage'),\n",
       " ('ImpactWorld+ 2.1', 'Marine eutrophication', 'midpoint'),\n",
       " ('ImpactWorld+ 2.1', 'Particulate matter formation', 'damage'),\n",
       " ('ImpactWorld+ 2.1', 'Particulate matter formation', 'midpoint'),\n",
       " ('ImpactWorld+ 2.1', 'Photochemical ozone formation', 'damage'),\n",
       " ('ImpactWorld+ 2.1', 'Photochemical ozone formation', 'midpoint'),\n",
       " ('ImpactWorld+ 2.1',\n",
       "  'Photochemical ozone formation, ecosystem quality',\n",
       "  'damage'),\n",
       " ('ImpactWorld+ 2.1',\n",
       "  'Photochemical ozone formation, ecosystem quality',\n",
       "  'midpoint'),\n",
       " ('ImpactWorld+ 2.1', 'Photochemical ozone formation, human health', 'damage'),\n",
       " ('ImpactWorld+ 2.1',\n",
       "  'Photochemical ozone formation, human health',\n",
       "  'midpoint'),\n",
       " ('ImpactWorld+ 2.1', 'Terrestrial acidification', 'damage'),\n",
       " ('ImpactWorld+ 2.1', 'Terrestrial acidification', 'midpoint'),\n",
       " ('ImpactWorld+ 2.1', 'Terrestrial ecotoxicity, long term', 'damage'),\n",
       " ('ImpactWorld+ 2.1', 'Terrestrial ecotoxicity, long term', 'midpoint'),\n",
       " ('ImpactWorld+ 2.1', 'Terrestrial ecotoxicity, short term', 'damage'),\n",
       " ('ImpactWorld+ 2.1', 'Terrestrial ecotoxicity, short term', 'midpoint'),\n",
       " ('ImpactWorld+ 2.1', 'Thermally polluted water', 'damage'),\n",
       " ('ImpactWorld+ 2.1', 'Thermally polluted water', 'midpoint'),\n",
       " ('ImpactWorld+ 2.1', 'Water availability, freshwater ecosystem', 'damage'),\n",
       " ('ImpactWorld+ 2.1', 'Water availability, freshwater ecosystem', 'midpoint'),\n",
       " ('ImpactWorld+ 2.1', 'Water availability, human health', 'damage'),\n",
       " ('ImpactWorld+ 2.1', 'Water availability, human health', 'midpoint'),\n",
       " ('ImpactWorld+ 2.1', 'Water availability, terrestrial ecosystem', 'damage'),\n",
       " ('ImpactWorld+ 2.1', 'Water availability, terrestrial ecosystem', 'midpoint'),\n",
       " ('ImpactWorld+ 2.1', 'Water scarcity', 'damage'),\n",
       " ('ImpactWorld+ 2.1', 'Water scarcity', 'midpoint'),\n",
       " ('LCC 1.0', '2023'),\n",
       " ('RELICS', 'copper'),\n",
       " ('SCP', '1.0')]"
      ]
     },
     "execution_count": 5,
     "metadata": {},
     "output_type": "execute_result"
    }
   ],
   "source": [
    "get_available_methods()"
   ]
  },
  {
   "cell_type": "code",
   "execution_count": 6,
   "id": "235445ce-6ddb-4b61-9edd-13db08a5b42e",
   "metadata": {},
   "outputs": [],
   "source": [
    "method = ('GeoPolRisk', 'paired', '2024')\n",
    "method_alt = ('GeoPolRisk', 'elementary flows', '2024')"
   ]
  },
  {
   "cell_type": "markdown",
   "id": "603651a2-e085-44df-8e76-8151704a6b4c",
   "metadata": {},
   "source": [
    "<a id=\"sec_run_edges_lca\"></a>\n",
    "# 4. Run edges-based LCA"
   ]
  },
  {
   "cell_type": "code",
   "execution_count": 7,
   "id": "075076c8-f4f7-4db5-84f7-0cec83351d17",
   "metadata": {
    "scrolled": true
   },
   "outputs": [
    {
     "name": "stderr",
     "output_type": "stream",
     "text": [
      "No parameters or scenarios found in method file: C:\\Users\\hahnme_a\\PycharmProjects\\edges\\edges\\data\\GeoPolRisk_paired_2024.json\n",
      "Mapping exchanges: 100%|█████████████████████████████████████████████████████████████████████████████████████████████████████████████████████████████████████████████████| 40362/40362 [03:48<00:00, 176.62it/s]\n"
     ]
    },
    {
     "name": "stdout",
     "output_type": "stream",
     "text": [
      "Processed edges: 222\n",
      "Handling static regions...\n"
     ]
    },
    {
     "name": "stderr",
     "output_type": "stream",
     "text": [
      "Processing static groups (pass 1): 0it [00:00, ?it/s]\n",
      "Processing static groups (pass 2): 0it [00:00, ?it/s]\n",
      "Processing static groups (pass 1): 100%|█████████████████████████████████████████████████████████████████████████████████████████████████████████████████████████████████████████| 2/2 [00:00<00:00, 234.71it/s]\n",
      "Processing static groups (pass 2):   0%|                                                                                                                                                | 0/284 [00:00<?, ?it/s]Fallback CF could not be computed for supplier=(('location', 'VE'), ('name', 'petroleum and gas production, offshore'), ('reference product', 'petroleum')), consumer=(('location', 'RNA'),) with candidate suppliers=('VE',) and consumers=('PM', 'BM', 'GL')\n",
      "Fallback CF could not be computed for supplier=(('location', 'VE'), ('name', 'petroleum and gas production, onshore'), ('reference product', 'petroleum')), consumer=(('location', 'RNA'),) with candidate suppliers=('VE',) and consumers=('PM', 'BM', 'GL')\n",
      "Processing static groups (pass 2):   4%|█████▋                                                                                                                                | 12/284 [00:00<00:02, 103.79it/s]Fallback CF could not be computed for supplier=(('location', 'EC'), ('name', 'petroleum and gas production, onshore'), ('reference product', 'petroleum')), consumer=(('location', 'RNA'),) with candidate suppliers=('EC',) and consumers=('PM', 'BM', 'GL')\n",
      "Fallback CF could not be computed for supplier=(('location', 'EC'), ('name', 'petroleum and gas production, offshore'), ('reference product', 'petroleum')), consumer=(('location', 'RNA'),) with candidate suppliers=('EC',) and consumers=('PM', 'BM', 'GL')\n",
      "Processing static groups (pass 2):  12%|███████████████▋                                                                                                                       | 33/284 [00:01<00:19, 13.17it/s]Fallback CF could not be computed for supplier=(('location', 'CA'), ('name', 'petroleum and gas production, offshore'), ('reference product', 'petroleum')), consumer=(('location', 'RNA'),) with candidate suppliers=('CA',) and consumers=('PM', 'BM', 'GL')\n",
      "Fallback CF could not be computed for supplier=(('location', 'CA'), ('name', 'petroleum and gas production, onshore'), ('reference product', 'petroleum')), consumer=(('location', 'RNA'),) with candidate suppliers=('CA',) and consumers=('PM', 'BM', 'GL')\n",
      "Processing static groups (pass 2):  24%|████████████████████████████████▊                                                                                                      | 69/284 [00:03<00:15, 13.63it/s]Fallback CF could not be computed for supplier=(('location', 'CN-FJ'), ('name', 'rare earth oxides production, from rare earth carbonate concentrate'), ('reference product', 'europium oxide')), consumer=(('location', 'GLO'),) with candidate suppliers=('CN-FJ',) and consumers=('AW', 'CW', 'GI', 'SX', 'MO', 'PM', 'PS', 'ST', 'TK', 'BQ', 'KM', 'KY', 'LU', 'MS', 'BN', 'CY', 'SH', 'SZ', 'WF', 'RW', 'SG', 'SL', 'TG', 'DJ', 'GM', 'IL', 'LB', 'VG', 'AD', 'BY', 'GD', 'GQ', 'TJ', 'TM', 'AG', 'ER', 'KG', 'NE', 'QA', 'SK', 'BO', 'KE', 'KW', 'ML', 'PK', 'SM', 'TV', 'VC', 'AT', 'BH', 'DM', 'GA', 'GH', 'SR', 'SS', 'ZM', 'ZW', 'BB', 'CM', 'CR', 'LC', 'LS', 'LT', 'NC', 'TO', 'ZA', 'AL', 'AM', 'BJ', 'CD', 'CG', 'GE', 'GY', 'JO', 'TC', 'BE', 'IS', 'NA', 'SO', 'CZ', 'ET', 'HT', 'JM', 'KN', 'MZ', 'NP', 'TL', 'AI', 'BW', 'BZ', 'FK', 'LR', 'OM', 'SY', 'BM', 'MA', 'MU', 'PL', 'SN', 'SV', 'TT', 'BI', 'CF', 'LA', 'MR', 'UZ', 'WS', 'IQ', 'PW', 'PY', 'SD', 'AO', 'DK', 'UY', 'BA', 'BT', 'EE', 'KP', 'NI', 'CI', 'GW', 'HK', 'GT', 'KZ', 'LY', 'ME', 'MH', 'MN', 'NL', 'TD', 'HN', 'SA', 'CV', 'MG', 'RS', 'TN', 'VU', 'BD', 'BG', 'PA', 'KH', 'KI', 'MW', 'YE', 'AE', 'AR', 'MY', 'PE', 'UA', 'LK', 'AF', 'DO', 'GN', 'TZ', 'PT', 'EG', 'DE', 'NZ', 'CH', 'EC', 'NG', 'IE', 'IR', 'MD', 'RO', 'CO', 'HU', 'BF', 'FJ', 'HR', 'DZ', 'SC', 'SB', 'VE', 'BS', 'MM', 'CU', 'FI', 'SE', 'KR', 'MT', 'PG', 'AZ', 'MK', 'GR', 'MX', 'TR', 'PF', 'VN', 'TH', 'FR', 'UG', 'NO', 'LV', 'GL', 'IT', 'JP', 'MV', 'CL', 'SI', 'PH', 'GB', 'ID')\n",
      "Fallback CF could not be computed for supplier=(('location', 'CN-FJ'), ('name', 'rare earth oxides production, from rare earth carbonate concentrate'), ('reference product', 'cerium oxide')), consumer=(('location', 'GLO'),) with candidate suppliers=('CN-FJ',) and consumers=('AW', 'CW', 'GI', 'SX', 'MO', 'PM', 'PS', 'ST', 'TK', 'BQ', 'KM', 'KY', 'LU', 'MS', 'BN', 'CY', 'SH', 'SZ', 'WF', 'RW', 'SG', 'SL', 'TG', 'DJ', 'GM', 'IL', 'LB', 'VG', 'AD', 'BY', 'GD', 'GQ', 'TJ', 'TM', 'AG', 'ER', 'KG', 'NE', 'QA', 'SK', 'BO', 'KE', 'KW', 'ML', 'PK', 'SM', 'TV', 'VC', 'AT', 'BH', 'DM', 'GA', 'GH', 'SR', 'SS', 'ZM', 'ZW', 'BB', 'CM', 'CR', 'LC', 'LS', 'LT', 'NC', 'TO', 'ZA', 'AL', 'AM', 'BJ', 'CD', 'CG', 'GE', 'GY', 'JO', 'TC', 'BE', 'IS', 'NA', 'SO', 'CZ', 'ET', 'HT', 'JM', 'KN', 'MZ', 'NP', 'TL', 'AI', 'BW', 'BZ', 'FK', 'LR', 'OM', 'SY', 'BM', 'MA', 'MU', 'PL', 'SN', 'SV', 'TT', 'BI', 'CF', 'LA', 'MR', 'UZ', 'WS', 'IQ', 'PW', 'PY', 'SD', 'AO', 'DK', 'UY', 'BA', 'BT', 'EE', 'KP', 'NI', 'CI', 'GW', 'HK', 'GT', 'KZ', 'LY', 'ME', 'MH', 'MN', 'NL', 'TD', 'HN', 'SA', 'CV', 'MG', 'RS', 'TN', 'VU', 'BD', 'BG', 'PA', 'KH', 'KI', 'MW', 'YE', 'AE', 'AR', 'MY', 'PE', 'UA', 'LK', 'AF', 'DO', 'GN', 'TZ', 'PT', 'EG', 'DE', 'NZ', 'CH', 'EC', 'NG', 'IE', 'IR', 'MD', 'RO', 'CO', 'HU', 'BF', 'FJ', 'HR', 'DZ', 'SC', 'SB', 'VE', 'BS', 'MM', 'CU', 'FI', 'SE', 'KR', 'MT', 'PG', 'AZ', 'MK', 'GR', 'MX', 'TR', 'PF', 'VN', 'TH', 'FR', 'UG', 'NO', 'LV', 'GL', 'IT', 'JP', 'MV', 'CL', 'SI', 'PH', 'GB', 'ID')\n",
      "Fallback CF could not be computed for supplier=(('location', 'CN-FJ'), ('name', 'rare earth oxides production, from rare earth carbonate concentrate'), ('reference product', 'holmium oxide')), consumer=(('location', 'GLO'),) with candidate suppliers=('CN-FJ',) and consumers=('AW', 'CW', 'GI', 'SX', 'MO', 'PM', 'PS', 'ST', 'TK', 'BQ', 'KM', 'KY', 'LU', 'MS', 'BN', 'CY', 'SH', 'SZ', 'WF', 'RW', 'SG', 'SL', 'TG', 'DJ', 'GM', 'IL', 'LB', 'VG', 'AD', 'BY', 'GD', 'GQ', 'TJ', 'TM', 'AG', 'ER', 'KG', 'NE', 'QA', 'SK', 'BO', 'KE', 'KW', 'ML', 'PK', 'SM', 'TV', 'VC', 'AT', 'BH', 'DM', 'GA', 'GH', 'SR', 'SS', 'ZM', 'ZW', 'BB', 'CM', 'CR', 'LC', 'LS', 'LT', 'NC', 'TO', 'ZA', 'AL', 'AM', 'BJ', 'CD', 'CG', 'GE', 'GY', 'JO', 'TC', 'BE', 'IS', 'NA', 'SO', 'CZ', 'ET', 'HT', 'JM', 'KN', 'MZ', 'NP', 'TL', 'AI', 'BW', 'BZ', 'FK', 'LR', 'OM', 'SY', 'BM', 'MA', 'MU', 'PL', 'SN', 'SV', 'TT', 'BI', 'CF', 'LA', 'MR', 'UZ', 'WS', 'IQ', 'PW', 'PY', 'SD', 'AO', 'DK', 'UY', 'BA', 'BT', 'EE', 'KP', 'NI', 'CI', 'GW', 'HK', 'GT', 'KZ', 'LY', 'ME', 'MH', 'MN', 'NL', 'TD', 'HN', 'SA', 'CV', 'MG', 'RS', 'TN', 'VU', 'BD', 'BG', 'PA', 'KH', 'KI', 'MW', 'YE', 'AE', 'AR', 'MY', 'PE', 'UA', 'LK', 'AF', 'DO', 'GN', 'TZ', 'PT', 'EG', 'DE', 'NZ', 'CH', 'EC', 'NG', 'IE', 'IR', 'MD', 'RO', 'CO', 'HU', 'BF', 'FJ', 'HR', 'DZ', 'SC', 'SB', 'VE', 'BS', 'MM', 'CU', 'FI', 'SE', 'KR', 'MT', 'PG', 'AZ', 'MK', 'GR', 'MX', 'TR', 'PF', 'VN', 'TH', 'FR', 'UG', 'NO', 'LV', 'GL', 'IT', 'JP', 'MV', 'CL', 'SI', 'PH', 'GB', 'ID')\n",
      "Fallback CF could not be computed for supplier=(('location', 'CN-FJ'), ('name', 'rare earth oxides production, from rare earth carbonate concentrate'), ('reference product', 'yttrium oxide')), consumer=(('location', 'GLO'),) with candidate suppliers=('CN-FJ',) and consumers=('AW', 'CW', 'GI', 'SX', 'MO', 'PM', 'PS', 'ST', 'TK', 'BQ', 'KM', 'KY', 'LU', 'MS', 'BN', 'CY', 'SH', 'SZ', 'WF', 'RW', 'SG', 'SL', 'TG', 'DJ', 'GM', 'IL', 'LB', 'VG', 'AD', 'BY', 'GD', 'GQ', 'TJ', 'TM', 'AG', 'ER', 'KG', 'NE', 'QA', 'SK', 'BO', 'KE', 'KW', 'ML', 'PK', 'SM', 'TV', 'VC', 'AT', 'BH', 'DM', 'GA', 'GH', 'SR', 'SS', 'ZM', 'ZW', 'BB', 'CM', 'CR', 'LC', 'LS', 'LT', 'NC', 'TO', 'ZA', 'AL', 'AM', 'BJ', 'CD', 'CG', 'GE', 'GY', 'JO', 'TC', 'BE', 'IS', 'NA', 'SO', 'CZ', 'ET', 'HT', 'JM', 'KN', 'MZ', 'NP', 'TL', 'AI', 'BW', 'BZ', 'FK', 'LR', 'OM', 'SY', 'BM', 'MA', 'MU', 'PL', 'SN', 'SV', 'TT', 'BI', 'CF', 'LA', 'MR', 'UZ', 'WS', 'IQ', 'PW', 'PY', 'SD', 'AO', 'DK', 'UY', 'BA', 'BT', 'EE', 'KP', 'NI', 'CI', 'GW', 'HK', 'GT', 'KZ', 'LY', 'ME', 'MH', 'MN', 'NL', 'TD', 'HN', 'SA', 'CV', 'MG', 'RS', 'TN', 'VU', 'BD', 'BG', 'PA', 'KH', 'KI', 'MW', 'YE', 'AE', 'AR', 'MY', 'PE', 'UA', 'LK', 'AF', 'DO', 'GN', 'TZ', 'PT', 'EG', 'DE', 'NZ', 'CH', 'EC', 'NG', 'IE', 'IR', 'MD', 'RO', 'CO', 'HU', 'BF', 'FJ', 'HR', 'DZ', 'SC', 'SB', 'VE', 'BS', 'MM', 'CU', 'FI', 'SE', 'KR', 'MT', 'PG', 'AZ', 'MK', 'GR', 'MX', 'TR', 'PF', 'VN', 'TH', 'FR', 'UG', 'NO', 'LV', 'GL', 'IT', 'JP', 'MV', 'CL', 'SI', 'PH', 'GB', 'ID')\n",
      "Fallback CF could not be computed for supplier=(('location', 'CN-FJ'), ('name', 'rare earth oxides production, from rare earth carbonate concentrate'), ('reference product', 'lutetium oxide')), consumer=(('location', 'GLO'),) with candidate suppliers=('CN-FJ',) and consumers=('AW', 'CW', 'GI', 'SX', 'MO', 'PM', 'PS', 'ST', 'TK', 'BQ', 'KM', 'KY', 'LU', 'MS', 'BN', 'CY', 'SH', 'SZ', 'WF', 'RW', 'SG', 'SL', 'TG', 'DJ', 'GM', 'IL', 'LB', 'VG', 'AD', 'BY', 'GD', 'GQ', 'TJ', 'TM', 'AG', 'ER', 'KG', 'NE', 'QA', 'SK', 'BO', 'KE', 'KW', 'ML', 'PK', 'SM', 'TV', 'VC', 'AT', 'BH', 'DM', 'GA', 'GH', 'SR', 'SS', 'ZM', 'ZW', 'BB', 'CM', 'CR', 'LC', 'LS', 'LT', 'NC', 'TO', 'ZA', 'AL', 'AM', 'BJ', 'CD', 'CG', 'GE', 'GY', 'JO', 'TC', 'BE', 'IS', 'NA', 'SO', 'CZ', 'ET', 'HT', 'JM', 'KN', 'MZ', 'NP', 'TL', 'AI', 'BW', 'BZ', 'FK', 'LR', 'OM', 'SY', 'BM', 'MA', 'MU', 'PL', 'SN', 'SV', 'TT', 'BI', 'CF', 'LA', 'MR', 'UZ', 'WS', 'IQ', 'PW', 'PY', 'SD', 'AO', 'DK', 'UY', 'BA', 'BT', 'EE', 'KP', 'NI', 'CI', 'GW', 'HK', 'GT', 'KZ', 'LY', 'ME', 'MH', 'MN', 'NL', 'TD', 'HN', 'SA', 'CV', 'MG', 'RS', 'TN', 'VU', 'BD', 'BG', 'PA', 'KH', 'KI', 'MW', 'YE', 'AE', 'AR', 'MY', 'PE', 'UA', 'LK', 'AF', 'DO', 'GN', 'TZ', 'PT', 'EG', 'DE', 'NZ', 'CH', 'EC', 'NG', 'IE', 'IR', 'MD', 'RO', 'CO', 'HU', 'BF', 'FJ', 'HR', 'DZ', 'SC', 'SB', 'VE', 'BS', 'MM', 'CU', 'FI', 'SE', 'KR', 'MT', 'PG', 'AZ', 'MK', 'GR', 'MX', 'TR', 'PF', 'VN', 'TH', 'FR', 'UG', 'NO', 'LV', 'GL', 'IT', 'JP', 'MV', 'CL', 'SI', 'PH', 'GB', 'ID')\n",
      "Fallback CF could not be computed for supplier=(('location', 'CN-FJ'), ('name', 'rare earth oxides production, from rare earth carbonate concentrate'), ('reference product', 'praseodymium oxide')), consumer=(('location', 'GLO'),) with candidate suppliers=('CN-FJ',) and consumers=('AW', 'CW', 'GI', 'SX', 'MO', 'PM', 'PS', 'ST', 'TK', 'BQ', 'KM', 'KY', 'LU', 'MS', 'BN', 'CY', 'SH', 'SZ', 'WF', 'RW', 'SG', 'SL', 'TG', 'DJ', 'GM', 'IL', 'LB', 'VG', 'AD', 'BY', 'GD', 'GQ', 'TJ', 'TM', 'AG', 'ER', 'KG', 'NE', 'QA', 'SK', 'BO', 'KE', 'KW', 'ML', 'PK', 'SM', 'TV', 'VC', 'AT', 'BH', 'DM', 'GA', 'GH', 'SR', 'SS', 'ZM', 'ZW', 'BB', 'CM', 'CR', 'LC', 'LS', 'LT', 'NC', 'TO', 'ZA', 'AL', 'AM', 'BJ', 'CD', 'CG', 'GE', 'GY', 'JO', 'TC', 'BE', 'IS', 'NA', 'SO', 'CZ', 'ET', 'HT', 'JM', 'KN', 'MZ', 'NP', 'TL', 'AI', 'BW', 'BZ', 'FK', 'LR', 'OM', 'SY', 'BM', 'MA', 'MU', 'PL', 'SN', 'SV', 'TT', 'BI', 'CF', 'LA', 'MR', 'UZ', 'WS', 'IQ', 'PW', 'PY', 'SD', 'AO', 'DK', 'UY', 'BA', 'BT', 'EE', 'KP', 'NI', 'CI', 'GW', 'HK', 'GT', 'KZ', 'LY', 'ME', 'MH', 'MN', 'NL', 'TD', 'HN', 'SA', 'CV', 'MG', 'RS', 'TN', 'VU', 'BD', 'BG', 'PA', 'KH', 'KI', 'MW', 'YE', 'AE', 'AR', 'MY', 'PE', 'UA', 'LK', 'AF', 'DO', 'GN', 'TZ', 'PT', 'EG', 'DE', 'NZ', 'CH', 'EC', 'NG', 'IE', 'IR', 'MD', 'RO', 'CO', 'HU', 'BF', 'FJ', 'HR', 'DZ', 'SC', 'SB', 'VE', 'BS', 'MM', 'CU', 'FI', 'SE', 'KR', 'MT', 'PG', 'AZ', 'MK', 'GR', 'MX', 'TR', 'PF', 'VN', 'TH', 'FR', 'UG', 'NO', 'LV', 'GL', 'IT', 'JP', 'MV', 'CL', 'SI', 'PH', 'GB', 'ID')\n",
      "Fallback CF could not be computed for supplier=(('location', 'CN-FJ'), ('name', 'rare earth oxides production, from rare earth carbonate concentrate'), ('reference product', 'erbium oxide')), consumer=(('location', 'GLO'),) with candidate suppliers=('CN-FJ',) and consumers=('AW', 'CW', 'GI', 'SX', 'MO', 'PM', 'PS', 'ST', 'TK', 'BQ', 'KM', 'KY', 'LU', 'MS', 'BN', 'CY', 'SH', 'SZ', 'WF', 'RW', 'SG', 'SL', 'TG', 'DJ', 'GM', 'IL', 'LB', 'VG', 'AD', 'BY', 'GD', 'GQ', 'TJ', 'TM', 'AG', 'ER', 'KG', 'NE', 'QA', 'SK', 'BO', 'KE', 'KW', 'ML', 'PK', 'SM', 'TV', 'VC', 'AT', 'BH', 'DM', 'GA', 'GH', 'SR', 'SS', 'ZM', 'ZW', 'BB', 'CM', 'CR', 'LC', 'LS', 'LT', 'NC', 'TO', 'ZA', 'AL', 'AM', 'BJ', 'CD', 'CG', 'GE', 'GY', 'JO', 'TC', 'BE', 'IS', 'NA', 'SO', 'CZ', 'ET', 'HT', 'JM', 'KN', 'MZ', 'NP', 'TL', 'AI', 'BW', 'BZ', 'FK', 'LR', 'OM', 'SY', 'BM', 'MA', 'MU', 'PL', 'SN', 'SV', 'TT', 'BI', 'CF', 'LA', 'MR', 'UZ', 'WS', 'IQ', 'PW', 'PY', 'SD', 'AO', 'DK', 'UY', 'BA', 'BT', 'EE', 'KP', 'NI', 'CI', 'GW', 'HK', 'GT', 'KZ', 'LY', 'ME', 'MH', 'MN', 'NL', 'TD', 'HN', 'SA', 'CV', 'MG', 'RS', 'TN', 'VU', 'BD', 'BG', 'PA', 'KH', 'KI', 'MW', 'YE', 'AE', 'AR', 'MY', 'PE', 'UA', 'LK', 'AF', 'DO', 'GN', 'TZ', 'PT', 'EG', 'DE', 'NZ', 'CH', 'EC', 'NG', 'IE', 'IR', 'MD', 'RO', 'CO', 'HU', 'BF', 'FJ', 'HR', 'DZ', 'SC', 'SB', 'VE', 'BS', 'MM', 'CU', 'FI', 'SE', 'KR', 'MT', 'PG', 'AZ', 'MK', 'GR', 'MX', 'TR', 'PF', 'VN', 'TH', 'FR', 'UG', 'NO', 'LV', 'GL', 'IT', 'JP', 'MV', 'CL', 'SI', 'PH', 'GB', 'ID')\n",
      "Fallback CF could not be computed for supplier=(('location', 'CN-FJ'), ('name', 'rare earth oxides production, from rare earth carbonate concentrate'), ('reference product', 'ytterbium oxide')), consumer=(('location', 'GLO'),) with candidate suppliers=('CN-FJ',) and consumers=('AW', 'CW', 'GI', 'SX', 'MO', 'PM', 'PS', 'ST', 'TK', 'BQ', 'KM', 'KY', 'LU', 'MS', 'BN', 'CY', 'SH', 'SZ', 'WF', 'RW', 'SG', 'SL', 'TG', 'DJ', 'GM', 'IL', 'LB', 'VG', 'AD', 'BY', 'GD', 'GQ', 'TJ', 'TM', 'AG', 'ER', 'KG', 'NE', 'QA', 'SK', 'BO', 'KE', 'KW', 'ML', 'PK', 'SM', 'TV', 'VC', 'AT', 'BH', 'DM', 'GA', 'GH', 'SR', 'SS', 'ZM', 'ZW', 'BB', 'CM', 'CR', 'LC', 'LS', 'LT', 'NC', 'TO', 'ZA', 'AL', 'AM', 'BJ', 'CD', 'CG', 'GE', 'GY', 'JO', 'TC', 'BE', 'IS', 'NA', 'SO', 'CZ', 'ET', 'HT', 'JM', 'KN', 'MZ', 'NP', 'TL', 'AI', 'BW', 'BZ', 'FK', 'LR', 'OM', 'SY', 'BM', 'MA', 'MU', 'PL', 'SN', 'SV', 'TT', 'BI', 'CF', 'LA', 'MR', 'UZ', 'WS', 'IQ', 'PW', 'PY', 'SD', 'AO', 'DK', 'UY', 'BA', 'BT', 'EE', 'KP', 'NI', 'CI', 'GW', 'HK', 'GT', 'KZ', 'LY', 'ME', 'MH', 'MN', 'NL', 'TD', 'HN', 'SA', 'CV', 'MG', 'RS', 'TN', 'VU', 'BD', 'BG', 'PA', 'KH', 'KI', 'MW', 'YE', 'AE', 'AR', 'MY', 'PE', 'UA', 'LK', 'AF', 'DO', 'GN', 'TZ', 'PT', 'EG', 'DE', 'NZ', 'CH', 'EC', 'NG', 'IE', 'IR', 'MD', 'RO', 'CO', 'HU', 'BF', 'FJ', 'HR', 'DZ', 'SC', 'SB', 'VE', 'BS', 'MM', 'CU', 'FI', 'SE', 'KR', 'MT', 'PG', 'AZ', 'MK', 'GR', 'MX', 'TR', 'PF', 'VN', 'TH', 'FR', 'UG', 'NO', 'LV', 'GL', 'IT', 'JP', 'MV', 'CL', 'SI', 'PH', 'GB', 'ID')\n",
      "Fallback CF could not be computed for supplier=(('location', 'CN-FJ'), ('name', 'rare earth oxides production, from rare earth carbonate concentrate'), ('reference product', 'lanthanum oxide')), consumer=(('location', 'GLO'),) with candidate suppliers=('CN-FJ',) and consumers=('AW', 'CW', 'GI', 'SX', 'MO', 'PM', 'PS', 'ST', 'TK', 'BQ', 'KM', 'KY', 'LU', 'MS', 'BN', 'CY', 'SH', 'SZ', 'WF', 'RW', 'SG', 'SL', 'TG', 'DJ', 'GM', 'IL', 'LB', 'VG', 'AD', 'BY', 'GD', 'GQ', 'TJ', 'TM', 'AG', 'ER', 'KG', 'NE', 'QA', 'SK', 'BO', 'KE', 'KW', 'ML', 'PK', 'SM', 'TV', 'VC', 'AT', 'BH', 'DM', 'GA', 'GH', 'SR', 'SS', 'ZM', 'ZW', 'BB', 'CM', 'CR', 'LC', 'LS', 'LT', 'NC', 'TO', 'ZA', 'AL', 'AM', 'BJ', 'CD', 'CG', 'GE', 'GY', 'JO', 'TC', 'BE', 'IS', 'NA', 'SO', 'CZ', 'ET', 'HT', 'JM', 'KN', 'MZ', 'NP', 'TL', 'AI', 'BW', 'BZ', 'FK', 'LR', 'OM', 'SY', 'BM', 'MA', 'MU', 'PL', 'SN', 'SV', 'TT', 'BI', 'CF', 'LA', 'MR', 'UZ', 'WS', 'IQ', 'PW', 'PY', 'SD', 'AO', 'DK', 'UY', 'BA', 'BT', 'EE', 'KP', 'NI', 'CI', 'GW', 'HK', 'GT', 'KZ', 'LY', 'ME', 'MH', 'MN', 'NL', 'TD', 'HN', 'SA', 'CV', 'MG', 'RS', 'TN', 'VU', 'BD', 'BG', 'PA', 'KH', 'KI', 'MW', 'YE', 'AE', 'AR', 'MY', 'PE', 'UA', 'LK', 'AF', 'DO', 'GN', 'TZ', 'PT', 'EG', 'DE', 'NZ', 'CH', 'EC', 'NG', 'IE', 'IR', 'MD', 'RO', 'CO', 'HU', 'BF', 'FJ', 'HR', 'DZ', 'SC', 'SB', 'VE', 'BS', 'MM', 'CU', 'FI', 'SE', 'KR', 'MT', 'PG', 'AZ', 'MK', 'GR', 'MX', 'TR', 'PF', 'VN', 'TH', 'FR', 'UG', 'NO', 'LV', 'GL', 'IT', 'JP', 'MV', 'CL', 'SI', 'PH', 'GB', 'ID')\n",
      "Fallback CF could not be computed for supplier=(('location', 'CN-FJ'), ('name', 'rare earth oxides production, from rare earth carbonate concentrate'), ('reference product', 'thulium oxide')), consumer=(('location', 'GLO'),) with candidate suppliers=('CN-FJ',) and consumers=('AW', 'CW', 'GI', 'SX', 'MO', 'PM', 'PS', 'ST', 'TK', 'BQ', 'KM', 'KY', 'LU', 'MS', 'BN', 'CY', 'SH', 'SZ', 'WF', 'RW', 'SG', 'SL', 'TG', 'DJ', 'GM', 'IL', 'LB', 'VG', 'AD', 'BY', 'GD', 'GQ', 'TJ', 'TM', 'AG', 'ER', 'KG', 'NE', 'QA', 'SK', 'BO', 'KE', 'KW', 'ML', 'PK', 'SM', 'TV', 'VC', 'AT', 'BH', 'DM', 'GA', 'GH', 'SR', 'SS', 'ZM', 'ZW', 'BB', 'CM', 'CR', 'LC', 'LS', 'LT', 'NC', 'TO', 'ZA', 'AL', 'AM', 'BJ', 'CD', 'CG', 'GE', 'GY', 'JO', 'TC', 'BE', 'IS', 'NA', 'SO', 'CZ', 'ET', 'HT', 'JM', 'KN', 'MZ', 'NP', 'TL', 'AI', 'BW', 'BZ', 'FK', 'LR', 'OM', 'SY', 'BM', 'MA', 'MU', 'PL', 'SN', 'SV', 'TT', 'BI', 'CF', 'LA', 'MR', 'UZ', 'WS', 'IQ', 'PW', 'PY', 'SD', 'AO', 'DK', 'UY', 'BA', 'BT', 'EE', 'KP', 'NI', 'CI', 'GW', 'HK', 'GT', 'KZ', 'LY', 'ME', 'MH', 'MN', 'NL', 'TD', 'HN', 'SA', 'CV', 'MG', 'RS', 'TN', 'VU', 'BD', 'BG', 'PA', 'KH', 'KI', 'MW', 'YE', 'AE', 'AR', 'MY', 'PE', 'UA', 'LK', 'AF', 'DO', 'GN', 'TZ', 'PT', 'EG', 'DE', 'NZ', 'CH', 'EC', 'NG', 'IE', 'IR', 'MD', 'RO', 'CO', 'HU', 'BF', 'FJ', 'HR', 'DZ', 'SC', 'SB', 'VE', 'BS', 'MM', 'CU', 'FI', 'SE', 'KR', 'MT', 'PG', 'AZ', 'MK', 'GR', 'MX', 'TR', 'PF', 'VN', 'TH', 'FR', 'UG', 'NO', 'LV', 'GL', 'IT', 'JP', 'MV', 'CL', 'SI', 'PH', 'GB', 'ID')\n",
      "Fallback CF could not be computed for supplier=(('location', 'CN-FJ'), ('name', 'rare earth oxides production, from rare earth carbonate concentrate'), ('reference product', 'terbium oxide')), consumer=(('location', 'GLO'),) with candidate suppliers=('CN-FJ',) and consumers=('AW', 'CW', 'GI', 'SX', 'MO', 'PM', 'PS', 'ST', 'TK', 'BQ', 'KM', 'KY', 'LU', 'MS', 'BN', 'CY', 'SH', 'SZ', 'WF', 'RW', 'SG', 'SL', 'TG', 'DJ', 'GM', 'IL', 'LB', 'VG', 'AD', 'BY', 'GD', 'GQ', 'TJ', 'TM', 'AG', 'ER', 'KG', 'NE', 'QA', 'SK', 'BO', 'KE', 'KW', 'ML', 'PK', 'SM', 'TV', 'VC', 'AT', 'BH', 'DM', 'GA', 'GH', 'SR', 'SS', 'ZM', 'ZW', 'BB', 'CM', 'CR', 'LC', 'LS', 'LT', 'NC', 'TO', 'ZA', 'AL', 'AM', 'BJ', 'CD', 'CG', 'GE', 'GY', 'JO', 'TC', 'BE', 'IS', 'NA', 'SO', 'CZ', 'ET', 'HT', 'JM', 'KN', 'MZ', 'NP', 'TL', 'AI', 'BW', 'BZ', 'FK', 'LR', 'OM', 'SY', 'BM', 'MA', 'MU', 'PL', 'SN', 'SV', 'TT', 'BI', 'CF', 'LA', 'MR', 'UZ', 'WS', 'IQ', 'PW', 'PY', 'SD', 'AO', 'DK', 'UY', 'BA', 'BT', 'EE', 'KP', 'NI', 'CI', 'GW', 'HK', 'GT', 'KZ', 'LY', 'ME', 'MH', 'MN', 'NL', 'TD', 'HN', 'SA', 'CV', 'MG', 'RS', 'TN', 'VU', 'BD', 'BG', 'PA', 'KH', 'KI', 'MW', 'YE', 'AE', 'AR', 'MY', 'PE', 'UA', 'LK', 'AF', 'DO', 'GN', 'TZ', 'PT', 'EG', 'DE', 'NZ', 'CH', 'EC', 'NG', 'IE', 'IR', 'MD', 'RO', 'CO', 'HU', 'BF', 'FJ', 'HR', 'DZ', 'SC', 'SB', 'VE', 'BS', 'MM', 'CU', 'FI', 'SE', 'KR', 'MT', 'PG', 'AZ', 'MK', 'GR', 'MX', 'TR', 'PF', 'VN', 'TH', 'FR', 'UG', 'NO', 'LV', 'GL', 'IT', 'JP', 'MV', 'CL', 'SI', 'PH', 'GB', 'ID')\n",
      "Fallback CF could not be computed for supplier=(('location', 'CN-FJ'), ('name', 'rare earth oxides production, from rare earth carbonate concentrate'), ('reference product', 'gadolinium oxide')), consumer=(('location', 'GLO'),) with candidate suppliers=('CN-FJ',) and consumers=('AW', 'CW', 'GI', 'SX', 'MO', 'PM', 'PS', 'ST', 'TK', 'BQ', 'KM', 'KY', 'LU', 'MS', 'BN', 'CY', 'SH', 'SZ', 'WF', 'RW', 'SG', 'SL', 'TG', 'DJ', 'GM', 'IL', 'LB', 'VG', 'AD', 'BY', 'GD', 'GQ', 'TJ', 'TM', 'AG', 'ER', 'KG', 'NE', 'QA', 'SK', 'BO', 'KE', 'KW', 'ML', 'PK', 'SM', 'TV', 'VC', 'AT', 'BH', 'DM', 'GA', 'GH', 'SR', 'SS', 'ZM', 'ZW', 'BB', 'CM', 'CR', 'LC', 'LS', 'LT', 'NC', 'TO', 'ZA', 'AL', 'AM', 'BJ', 'CD', 'CG', 'GE', 'GY', 'JO', 'TC', 'BE', 'IS', 'NA', 'SO', 'CZ', 'ET', 'HT', 'JM', 'KN', 'MZ', 'NP', 'TL', 'AI', 'BW', 'BZ', 'FK', 'LR', 'OM', 'SY', 'BM', 'MA', 'MU', 'PL', 'SN', 'SV', 'TT', 'BI', 'CF', 'LA', 'MR', 'UZ', 'WS', 'IQ', 'PW', 'PY', 'SD', 'AO', 'DK', 'UY', 'BA', 'BT', 'EE', 'KP', 'NI', 'CI', 'GW', 'HK', 'GT', 'KZ', 'LY', 'ME', 'MH', 'MN', 'NL', 'TD', 'HN', 'SA', 'CV', 'MG', 'RS', 'TN', 'VU', 'BD', 'BG', 'PA', 'KH', 'KI', 'MW', 'YE', 'AE', 'AR', 'MY', 'PE', 'UA', 'LK', 'AF', 'DO', 'GN', 'TZ', 'PT', 'EG', 'DE', 'NZ', 'CH', 'EC', 'NG', 'IE', 'IR', 'MD', 'RO', 'CO', 'HU', 'BF', 'FJ', 'HR', 'DZ', 'SC', 'SB', 'VE', 'BS', 'MM', 'CU', 'FI', 'SE', 'KR', 'MT', 'PG', 'AZ', 'MK', 'GR', 'MX', 'TR', 'PF', 'VN', 'TH', 'FR', 'UG', 'NO', 'LV', 'GL', 'IT', 'JP', 'MV', 'CL', 'SI', 'PH', 'GB', 'ID')\n",
      "Fallback CF could not be computed for supplier=(('location', 'CN-FJ'), ('name', 'rare earth oxides production, from rare earth carbonate concentrate'), ('reference product', 'dysprosium oxide')), consumer=(('location', 'GLO'),) with candidate suppliers=('CN-FJ',) and consumers=('AW', 'CW', 'GI', 'SX', 'MO', 'PM', 'PS', 'ST', 'TK', 'BQ', 'KM', 'KY', 'LU', 'MS', 'BN', 'CY', 'SH', 'SZ', 'WF', 'RW', 'SG', 'SL', 'TG', 'DJ', 'GM', 'IL', 'LB', 'VG', 'AD', 'BY', 'GD', 'GQ', 'TJ', 'TM', 'AG', 'ER', 'KG', 'NE', 'QA', 'SK', 'BO', 'KE', 'KW', 'ML', 'PK', 'SM', 'TV', 'VC', 'AT', 'BH', 'DM', 'GA', 'GH', 'SR', 'SS', 'ZM', 'ZW', 'BB', 'CM', 'CR', 'LC', 'LS', 'LT', 'NC', 'TO', 'ZA', 'AL', 'AM', 'BJ', 'CD', 'CG', 'GE', 'GY', 'JO', 'TC', 'BE', 'IS', 'NA', 'SO', 'CZ', 'ET', 'HT', 'JM', 'KN', 'MZ', 'NP', 'TL', 'AI', 'BW', 'BZ', 'FK', 'LR', 'OM', 'SY', 'BM', 'MA', 'MU', 'PL', 'SN', 'SV', 'TT', 'BI', 'CF', 'LA', 'MR', 'UZ', 'WS', 'IQ', 'PW', 'PY', 'SD', 'AO', 'DK', 'UY', 'BA', 'BT', 'EE', 'KP', 'NI', 'CI', 'GW', 'HK', 'GT', 'KZ', 'LY', 'ME', 'MH', 'MN', 'NL', 'TD', 'HN', 'SA', 'CV', 'MG', 'RS', 'TN', 'VU', 'BD', 'BG', 'PA', 'KH', 'KI', 'MW', 'YE', 'AE', 'AR', 'MY', 'PE', 'UA', 'LK', 'AF', 'DO', 'GN', 'TZ', 'PT', 'EG', 'DE', 'NZ', 'CH', 'EC', 'NG', 'IE', 'IR', 'MD', 'RO', 'CO', 'HU', 'BF', 'FJ', 'HR', 'DZ', 'SC', 'SB', 'VE', 'BS', 'MM', 'CU', 'FI', 'SE', 'KR', 'MT', 'PG', 'AZ', 'MK', 'GR', 'MX', 'TR', 'PF', 'VN', 'TH', 'FR', 'UG', 'NO', 'LV', 'GL', 'IT', 'JP', 'MV', 'CL', 'SI', 'PH', 'GB', 'ID')\n",
      "Fallback CF could not be computed for supplier=(('location', 'CN-FJ'), ('name', 'rare earth oxides production, from rare earth carbonate concentrate'), ('reference product', 'neodymium oxide')), consumer=(('location', 'GLO'),) with candidate suppliers=('CN-FJ',) and consumers=('AW', 'CW', 'GI', 'SX', 'MO', 'PM', 'PS', 'ST', 'TK', 'BQ', 'KM', 'KY', 'LU', 'MS', 'BN', 'CY', 'SH', 'SZ', 'WF', 'RW', 'SG', 'SL', 'TG', 'DJ', 'GM', 'IL', 'LB', 'VG', 'AD', 'BY', 'GD', 'GQ', 'TJ', 'TM', 'AG', 'ER', 'KG', 'NE', 'QA', 'SK', 'BO', 'KE', 'KW', 'ML', 'PK', 'SM', 'TV', 'VC', 'AT', 'BH', 'DM', 'GA', 'GH', 'SR', 'SS', 'ZM', 'ZW', 'BB', 'CM', 'CR', 'LC', 'LS', 'LT', 'NC', 'TO', 'ZA', 'AL', 'AM', 'BJ', 'CD', 'CG', 'GE', 'GY', 'JO', 'TC', 'BE', 'IS', 'NA', 'SO', 'CZ', 'ET', 'HT', 'JM', 'KN', 'MZ', 'NP', 'TL', 'AI', 'BW', 'BZ', 'FK', 'LR', 'OM', 'SY', 'BM', 'MA', 'MU', 'PL', 'SN', 'SV', 'TT', 'BI', 'CF', 'LA', 'MR', 'UZ', 'WS', 'IQ', 'PW', 'PY', 'SD', 'AO', 'DK', 'UY', 'BA', 'BT', 'EE', 'KP', 'NI', 'CI', 'GW', 'HK', 'GT', 'KZ', 'LY', 'ME', 'MH', 'MN', 'NL', 'TD', 'HN', 'SA', 'CV', 'MG', 'RS', 'TN', 'VU', 'BD', 'BG', 'PA', 'KH', 'KI', 'MW', 'YE', 'AE', 'AR', 'MY', 'PE', 'UA', 'LK', 'AF', 'DO', 'GN', 'TZ', 'PT', 'EG', 'DE', 'NZ', 'CH', 'EC', 'NG', 'IE', 'IR', 'MD', 'RO', 'CO', 'HU', 'BF', 'FJ', 'HR', 'DZ', 'SC', 'SB', 'VE', 'BS', 'MM', 'CU', 'FI', 'SE', 'KR', 'MT', 'PG', 'AZ', 'MK', 'GR', 'MX', 'TR', 'PF', 'VN', 'TH', 'FR', 'UG', 'NO', 'LV', 'GL', 'IT', 'JP', 'MV', 'CL', 'SI', 'PH', 'GB', 'ID')\n",
      "Fallback CF could not be computed for supplier=(('location', 'CN-FJ'), ('name', 'rare earth oxides production, from rare earth carbonate concentrate'), ('reference product', 'samarium oxide')), consumer=(('location', 'GLO'),) with candidate suppliers=('CN-FJ',) and consumers=('AW', 'CW', 'GI', 'SX', 'MO', 'PM', 'PS', 'ST', 'TK', 'BQ', 'KM', 'KY', 'LU', 'MS', 'BN', 'CY', 'SH', 'SZ', 'WF', 'RW', 'SG', 'SL', 'TG', 'DJ', 'GM', 'IL', 'LB', 'VG', 'AD', 'BY', 'GD', 'GQ', 'TJ', 'TM', 'AG', 'ER', 'KG', 'NE', 'QA', 'SK', 'BO', 'KE', 'KW', 'ML', 'PK', 'SM', 'TV', 'VC', 'AT', 'BH', 'DM', 'GA', 'GH', 'SR', 'SS', 'ZM', 'ZW', 'BB', 'CM', 'CR', 'LC', 'LS', 'LT', 'NC', 'TO', 'ZA', 'AL', 'AM', 'BJ', 'CD', 'CG', 'GE', 'GY', 'JO', 'TC', 'BE', 'IS', 'NA', 'SO', 'CZ', 'ET', 'HT', 'JM', 'KN', 'MZ', 'NP', 'TL', 'AI', 'BW', 'BZ', 'FK', 'LR', 'OM', 'SY', 'BM', 'MA', 'MU', 'PL', 'SN', 'SV', 'TT', 'BI', 'CF', 'LA', 'MR', 'UZ', 'WS', 'IQ', 'PW', 'PY', 'SD', 'AO', 'DK', 'UY', 'BA', 'BT', 'EE', 'KP', 'NI', 'CI', 'GW', 'HK', 'GT', 'KZ', 'LY', 'ME', 'MH', 'MN', 'NL', 'TD', 'HN', 'SA', 'CV', 'MG', 'RS', 'TN', 'VU', 'BD', 'BG', 'PA', 'KH', 'KI', 'MW', 'YE', 'AE', 'AR', 'MY', 'PE', 'UA', 'LK', 'AF', 'DO', 'GN', 'TZ', 'PT', 'EG', 'DE', 'NZ', 'CH', 'EC', 'NG', 'IE', 'IR', 'MD', 'RO', 'CO', 'HU', 'BF', 'FJ', 'HR', 'DZ', 'SC', 'SB', 'VE', 'BS', 'MM', 'CU', 'FI', 'SE', 'KR', 'MT', 'PG', 'AZ', 'MK', 'GR', 'MX', 'TR', 'PF', 'VN', 'TH', 'FR', 'UG', 'NO', 'LV', 'GL', 'IT', 'JP', 'MV', 'CL', 'SI', 'PH', 'GB', 'ID')\n",
      "Processing static groups (pass 2):  31%|█████████████████████████████████████████▎                                                                                             | 87/284 [00:04<00:04, 47.86it/s]Fallback CF could not be computed for supplier=(('location', 'RU'), ('name', 'petroleum and gas production, onshore'), ('reference product', 'petroleum')), consumer=(('location', 'RNA'),) with candidate suppliers=('RU',) and consumers=('PM', 'BM', 'GL')\n",
      "Fallback CF could not be computed for supplier=(('location', 'RU'), ('name', 'petroleum and gas production, offshore'), ('reference product', 'petroleum')), consumer=(('location', 'RNA'),) with candidate suppliers=('RU',) and consumers=('PM', 'BM', 'GL')\n",
      "Fallback CF could not be computed for supplier=(('location', 'NG'), ('name', 'petroleum and gas production, onshore'), ('reference product', 'petroleum')), consumer=(('location', 'RNA'),) with candidate suppliers=('NG',) and consumers=('PM', 'BM', 'GL')\n",
      "Fallback CF could not be computed for supplier=(('location', 'NG'), ('name', 'petroleum and gas production, offshore'), ('reference product', 'petroleum')), consumer=(('location', 'RNA'),) with candidate suppliers=('NG',) and consumers=('PM', 'BM', 'GL')\n",
      "Fallback CF could not be computed for supplier=(('location', 'IAI Area, EU27 & EFTA'), ('name', 'aluminium production, primary, ingot'), ('reference product', 'aluminium, primary, ingot')), consumer=(('location', 'IAI Area, North America'),) with candidate suppliers=('SK', 'IS', 'NL', 'DE', 'RO', 'SE', 'GR', 'FR', 'NO', 'IT', 'SI', 'GB') and consumers=('IAI Area, North America',)\n",
      "Fallback CF could not be computed for supplier=(('location', 'IR'), ('name', 'petroleum and gas production, offshore'), ('reference product', 'petroleum')), consumer=(('location', 'Europe without Switzerland'),) with candidate suppliers=('IR',) and consumers=('GI', 'LU', 'AD', 'BY', 'SK', 'SM', 'AT', 'LT', 'AL', 'BE', 'IS', 'CZ', 'PL', 'DK', 'BA', 'EE', 'ME', 'NL', 'RS', 'BG', 'UA', 'PT', 'DE', 'IE', 'MD', 'RO', 'HU', 'HR', 'FI', 'SE', 'MT', 'MK', 'GR', 'FR', 'NO', 'LV', 'IT', 'SI', 'GB')\n",
      "Fallback CF could not be computed for supplier=(('location', 'IR'), ('name', 'petroleum and gas production, onshore'), ('reference product', 'petroleum')), consumer=(('location', 'Europe without Switzerland'),) with candidate suppliers=('IR',) and consumers=('GI', 'LU', 'AD', 'BY', 'SK', 'SM', 'AT', 'LT', 'AL', 'BE', 'IS', 'CZ', 'PL', 'DK', 'BA', 'EE', 'ME', 'NL', 'RS', 'BG', 'UA', 'PT', 'DE', 'IE', 'MD', 'RO', 'HU', 'HR', 'FI', 'SE', 'MT', 'MK', 'GR', 'FR', 'NO', 'LV', 'IT', 'SI', 'GB')\n",
      "Fallback CF could not be computed for supplier=(('location', 'CN-SC'), ('name', 'rare earth oxides production, from rare earth oxide concentrate, 70% REO'), ('reference product', 'samarium oxide')), consumer=(('location', 'GLO'),) with candidate suppliers=('CN-SC',) and consumers=('AW', 'CW', 'GI', 'SX', 'MO', 'PM', 'PS', 'ST', 'TK', 'BQ', 'KM', 'KY', 'LU', 'MS', 'BN', 'CY', 'SH', 'SZ', 'WF', 'RW', 'SG', 'SL', 'TG', 'DJ', 'GM', 'IL', 'LB', 'VG', 'AD', 'BY', 'GD', 'GQ', 'TJ', 'TM', 'AG', 'ER', 'KG', 'NE', 'QA', 'SK', 'BO', 'KE', 'KW', 'ML', 'PK', 'SM', 'TV', 'VC', 'AT', 'BH', 'DM', 'GA', 'GH', 'SR', 'SS', 'ZM', 'ZW', 'BB', 'CM', 'CR', 'LC', 'LS', 'LT', 'NC', 'TO', 'ZA', 'AL', 'AM', 'BJ', 'CD', 'CG', 'GE', 'GY', 'JO', 'TC', 'BE', 'IS', 'NA', 'SO', 'CZ', 'ET', 'HT', 'JM', 'KN', 'MZ', 'NP', 'TL', 'AI', 'BW', 'BZ', 'FK', 'LR', 'OM', 'SY', 'BM', 'MA', 'MU', 'PL', 'SN', 'SV', 'TT', 'BI', 'CF', 'LA', 'MR', 'UZ', 'WS', 'IQ', 'PW', 'PY', 'SD', 'AO', 'DK', 'UY', 'BA', 'BT', 'EE', 'KP', 'NI', 'CI', 'GW', 'HK', 'GT', 'KZ', 'LY', 'ME', 'MH', 'MN', 'NL', 'TD', 'HN', 'SA', 'CV', 'MG', 'RS', 'TN', 'VU', 'BD', 'BG', 'PA', 'KH', 'KI', 'MW', 'YE', 'AE', 'AR', 'MY', 'PE', 'UA', 'LK', 'AF', 'DO', 'GN', 'TZ', 'PT', 'EG', 'DE', 'NZ', 'CH', 'EC', 'NG', 'IE', 'IR', 'MD', 'RO', 'CO', 'HU', 'BF', 'FJ', 'HR', 'DZ', 'SC', 'SB', 'VE', 'BS', 'MM', 'CU', 'FI', 'SE', 'KR', 'MT', 'PG', 'AZ', 'MK', 'GR', 'MX', 'TR', 'PF', 'VN', 'TH', 'FR', 'UG', 'NO', 'LV', 'GL', 'IT', 'JP', 'MV', 'CL', 'SI', 'PH', 'GB', 'ID')\n",
      "Fallback CF could not be computed for supplier=(('location', 'CN-SC'), ('name', 'rare earth oxides production, from rare earth oxide concentrate, 70% REO'), ('reference product', 'terbium-dysprosium oxide')), consumer=(('location', 'GLO'),) with candidate suppliers=('CN-SC',) and consumers=('AW', 'CW', 'GI', 'SX', 'MO', 'PM', 'PS', 'ST', 'TK', 'BQ', 'KM', 'KY', 'LU', 'MS', 'BN', 'CY', 'SH', 'SZ', 'WF', 'RW', 'SG', 'SL', 'TG', 'DJ', 'GM', 'IL', 'LB', 'VG', 'AD', 'BY', 'GD', 'GQ', 'TJ', 'TM', 'AG', 'ER', 'KG', 'NE', 'QA', 'SK', 'BO', 'KE', 'KW', 'ML', 'PK', 'SM', 'TV', 'VC', 'AT', 'BH', 'DM', 'GA', 'GH', 'SR', 'SS', 'ZM', 'ZW', 'BB', 'CM', 'CR', 'LC', 'LS', 'LT', 'NC', 'TO', 'ZA', 'AL', 'AM', 'BJ', 'CD', 'CG', 'GE', 'GY', 'JO', 'TC', 'BE', 'IS', 'NA', 'SO', 'CZ', 'ET', 'HT', 'JM', 'KN', 'MZ', 'NP', 'TL', 'AI', 'BW', 'BZ', 'FK', 'LR', 'OM', 'SY', 'BM', 'MA', 'MU', 'PL', 'SN', 'SV', 'TT', 'BI', 'CF', 'LA', 'MR', 'UZ', 'WS', 'IQ', 'PW', 'PY', 'SD', 'AO', 'DK', 'UY', 'BA', 'BT', 'EE', 'KP', 'NI', 'CI', 'GW', 'HK', 'GT', 'KZ', 'LY', 'ME', 'MH', 'MN', 'NL', 'TD', 'HN', 'SA', 'CV', 'MG', 'RS', 'TN', 'VU', 'BD', 'BG', 'PA', 'KH', 'KI', 'MW', 'YE', 'AE', 'AR', 'MY', 'PE', 'UA', 'LK', 'AF', 'DO', 'GN', 'TZ', 'PT', 'EG', 'DE', 'NZ', 'CH', 'EC', 'NG', 'IE', 'IR', 'MD', 'RO', 'CO', 'HU', 'BF', 'FJ', 'HR', 'DZ', 'SC', 'SB', 'VE', 'BS', 'MM', 'CU', 'FI', 'SE', 'KR', 'MT', 'PG', 'AZ', 'MK', 'GR', 'MX', 'TR', 'PF', 'VN', 'TH', 'FR', 'UG', 'NO', 'LV', 'GL', 'IT', 'JP', 'MV', 'CL', 'SI', 'PH', 'GB', 'ID')\n",
      "Fallback CF could not be computed for supplier=(('location', 'CN-SC'), ('name', 'rare earth oxides production, from rare earth oxide concentrate, 70% REO'), ('reference product', 'europium oxide')), consumer=(('location', 'GLO'),) with candidate suppliers=('CN-SC',) and consumers=('AW', 'CW', 'GI', 'SX', 'MO', 'PM', 'PS', 'ST', 'TK', 'BQ', 'KM', 'KY', 'LU', 'MS', 'BN', 'CY', 'SH', 'SZ', 'WF', 'RW', 'SG', 'SL', 'TG', 'DJ', 'GM', 'IL', 'LB', 'VG', 'AD', 'BY', 'GD', 'GQ', 'TJ', 'TM', 'AG', 'ER', 'KG', 'NE', 'QA', 'SK', 'BO', 'KE', 'KW', 'ML', 'PK', 'SM', 'TV', 'VC', 'AT', 'BH', 'DM', 'GA', 'GH', 'SR', 'SS', 'ZM', 'ZW', 'BB', 'CM', 'CR', 'LC', 'LS', 'LT', 'NC', 'TO', 'ZA', 'AL', 'AM', 'BJ', 'CD', 'CG', 'GE', 'GY', 'JO', 'TC', 'BE', 'IS', 'NA', 'SO', 'CZ', 'ET', 'HT', 'JM', 'KN', 'MZ', 'NP', 'TL', 'AI', 'BW', 'BZ', 'FK', 'LR', 'OM', 'SY', 'BM', 'MA', 'MU', 'PL', 'SN', 'SV', 'TT', 'BI', 'CF', 'LA', 'MR', 'UZ', 'WS', 'IQ', 'PW', 'PY', 'SD', 'AO', 'DK', 'UY', 'BA', 'BT', 'EE', 'KP', 'NI', 'CI', 'GW', 'HK', 'GT', 'KZ', 'LY', 'ME', 'MH', 'MN', 'NL', 'TD', 'HN', 'SA', 'CV', 'MG', 'RS', 'TN', 'VU', 'BD', 'BG', 'PA', 'KH', 'KI', 'MW', 'YE', 'AE', 'AR', 'MY', 'PE', 'UA', 'LK', 'AF', 'DO', 'GN', 'TZ', 'PT', 'EG', 'DE', 'NZ', 'CH', 'EC', 'NG', 'IE', 'IR', 'MD', 'RO', 'CO', 'HU', 'BF', 'FJ', 'HR', 'DZ', 'SC', 'SB', 'VE', 'BS', 'MM', 'CU', 'FI', 'SE', 'KR', 'MT', 'PG', 'AZ', 'MK', 'GR', 'MX', 'TR', 'PF', 'VN', 'TH', 'FR', 'UG', 'NO', 'LV', 'GL', 'IT', 'JP', 'MV', 'CL', 'SI', 'PH', 'GB', 'ID')\n",
      "Processing static groups (pass 2):  40%|█████████████████████████████████████████████████████▎                                                                                | 113/284 [00:04<00:01, 95.53it/s]Fallback CF could not be computed for supplier=(('location', 'CN-SC'), ('name', 'rare earth oxides production, from rare earth oxide concentrate, 70% REO'), ('reference product', 'yttrium oxide')), consumer=(('location', 'GLO'),) with candidate suppliers=('CN-SC',) and consumers=('AW', 'CW', 'GI', 'SX', 'MO', 'PM', 'PS', 'ST', 'TK', 'BQ', 'KM', 'KY', 'LU', 'MS', 'BN', 'CY', 'SH', 'SZ', 'WF', 'RW', 'SG', 'SL', 'TG', 'DJ', 'GM', 'IL', 'LB', 'VG', 'AD', 'BY', 'GD', 'GQ', 'TJ', 'TM', 'AG', 'ER', 'KG', 'NE', 'QA', 'SK', 'BO', 'KE', 'KW', 'ML', 'PK', 'SM', 'TV', 'VC', 'AT', 'BH', 'DM', 'GA', 'GH', 'SR', 'SS', 'ZM', 'ZW', 'BB', 'CM', 'CR', 'LC', 'LS', 'LT', 'NC', 'TO', 'ZA', 'AL', 'AM', 'BJ', 'CD', 'CG', 'GE', 'GY', 'JO', 'TC', 'BE', 'IS', 'NA', 'SO', 'CZ', 'ET', 'HT', 'JM', 'KN', 'MZ', 'NP', 'TL', 'AI', 'BW', 'BZ', 'FK', 'LR', 'OM', 'SY', 'BM', 'MA', 'MU', 'PL', 'SN', 'SV', 'TT', 'BI', 'CF', 'LA', 'MR', 'UZ', 'WS', 'IQ', 'PW', 'PY', 'SD', 'AO', 'DK', 'UY', 'BA', 'BT', 'EE', 'KP', 'NI', 'CI', 'GW', 'HK', 'GT', 'KZ', 'LY', 'ME', 'MH', 'MN', 'NL', 'TD', 'HN', 'SA', 'CV', 'MG', 'RS', 'TN', 'VU', 'BD', 'BG', 'PA', 'KH', 'KI', 'MW', 'YE', 'AE', 'AR', 'MY', 'PE', 'UA', 'LK', 'AF', 'DO', 'GN', 'TZ', 'PT', 'EG', 'DE', 'NZ', 'CH', 'EC', 'NG', 'IE', 'IR', 'MD', 'RO', 'CO', 'HU', 'BF', 'FJ', 'HR', 'DZ', 'SC', 'SB', 'VE', 'BS', 'MM', 'CU', 'FI', 'SE', 'KR', 'MT', 'PG', 'AZ', 'MK', 'GR', 'MX', 'TR', 'PF', 'VN', 'TH', 'FR', 'UG', 'NO', 'LV', 'GL', 'IT', 'JP', 'MV', 'CL', 'SI', 'PH', 'GB', 'ID')\n",
      "Fallback CF could not be computed for supplier=(('location', 'CN-SC'), ('name', 'rare earth oxides production, from rare earth oxide concentrate, 70% REO'), ('reference product', 'cerium oxide')), consumer=(('location', 'GLO'),) with candidate suppliers=('CN-SC',) and consumers=('AW', 'CW', 'GI', 'SX', 'MO', 'PM', 'PS', 'ST', 'TK', 'BQ', 'KM', 'KY', 'LU', 'MS', 'BN', 'CY', 'SH', 'SZ', 'WF', 'RW', 'SG', 'SL', 'TG', 'DJ', 'GM', 'IL', 'LB', 'VG', 'AD', 'BY', 'GD', 'GQ', 'TJ', 'TM', 'AG', 'ER', 'KG', 'NE', 'QA', 'SK', 'BO', 'KE', 'KW', 'ML', 'PK', 'SM', 'TV', 'VC', 'AT', 'BH', 'DM', 'GA', 'GH', 'SR', 'SS', 'ZM', 'ZW', 'BB', 'CM', 'CR', 'LC', 'LS', 'LT', 'NC', 'TO', 'ZA', 'AL', 'AM', 'BJ', 'CD', 'CG', 'GE', 'GY', 'JO', 'TC', 'BE', 'IS', 'NA', 'SO', 'CZ', 'ET', 'HT', 'JM', 'KN', 'MZ', 'NP', 'TL', 'AI', 'BW', 'BZ', 'FK', 'LR', 'OM', 'SY', 'BM', 'MA', 'MU', 'PL', 'SN', 'SV', 'TT', 'BI', 'CF', 'LA', 'MR', 'UZ', 'WS', 'IQ', 'PW', 'PY', 'SD', 'AO', 'DK', 'UY', 'BA', 'BT', 'EE', 'KP', 'NI', 'CI', 'GW', 'HK', 'GT', 'KZ', 'LY', 'ME', 'MH', 'MN', 'NL', 'TD', 'HN', 'SA', 'CV', 'MG', 'RS', 'TN', 'VU', 'BD', 'BG', 'PA', 'KH', 'KI', 'MW', 'YE', 'AE', 'AR', 'MY', 'PE', 'UA', 'LK', 'AF', 'DO', 'GN', 'TZ', 'PT', 'EG', 'DE', 'NZ', 'CH', 'EC', 'NG', 'IE', 'IR', 'MD', 'RO', 'CO', 'HU', 'BF', 'FJ', 'HR', 'DZ', 'SC', 'SB', 'VE', 'BS', 'MM', 'CU', 'FI', 'SE', 'KR', 'MT', 'PG', 'AZ', 'MK', 'GR', 'MX', 'TR', 'PF', 'VN', 'TH', 'FR', 'UG', 'NO', 'LV', 'GL', 'IT', 'JP', 'MV', 'CL', 'SI', 'PH', 'GB', 'ID')\n",
      "Fallback CF could not be computed for supplier=(('location', 'CN-SC'), ('name', 'rare earth element mine operation and beneficiation, bastnaesite ore'), ('reference product', 'rare earth oxide concentrate, 70% REO')), consumer=(('location', 'GLO'),) with candidate suppliers=('CN-SC',) and consumers=('AW', 'CW', 'GI', 'SX', 'MO', 'PM', 'PS', 'ST', 'TK', 'BQ', 'KM', 'KY', 'LU', 'MS', 'BN', 'CY', 'SH', 'SZ', 'WF', 'RW', 'SG', 'SL', 'TG', 'DJ', 'GM', 'IL', 'LB', 'VG', 'AD', 'BY', 'GD', 'GQ', 'TJ', 'TM', 'AG', 'ER', 'KG', 'NE', 'QA', 'SK', 'BO', 'KE', 'KW', 'ML', 'PK', 'SM', 'TV', 'VC', 'AT', 'BH', 'DM', 'GA', 'GH', 'SR', 'SS', 'ZM', 'ZW', 'BB', 'CM', 'CR', 'LC', 'LS', 'LT', 'NC', 'TO', 'ZA', 'AL', 'AM', 'BJ', 'CD', 'CG', 'GE', 'GY', 'JO', 'TC', 'BE', 'IS', 'NA', 'SO', 'CZ', 'ET', 'HT', 'JM', 'KN', 'MZ', 'NP', 'TL', 'AI', 'BW', 'BZ', 'FK', 'LR', 'OM', 'SY', 'BM', 'MA', 'MU', 'PL', 'SN', 'SV', 'TT', 'BI', 'CF', 'LA', 'MR', 'UZ', 'WS', 'IQ', 'PW', 'PY', 'SD', 'AO', 'DK', 'UY', 'BA', 'BT', 'EE', 'KP', 'NI', 'CI', 'GW', 'HK', 'GT', 'KZ', 'LY', 'ME', 'MH', 'MN', 'NL', 'TD', 'HN', 'SA', 'CV', 'MG', 'RS', 'TN', 'VU', 'BD', 'BG', 'PA', 'KH', 'KI', 'MW', 'YE', 'AE', 'AR', 'MY', 'PE', 'UA', 'LK', 'AF', 'DO', 'GN', 'TZ', 'PT', 'EG', 'DE', 'NZ', 'CH', 'EC', 'NG', 'IE', 'IR', 'MD', 'RO', 'CO', 'HU', 'BF', 'FJ', 'HR', 'DZ', 'SC', 'SB', 'VE', 'BS', 'MM', 'CU', 'FI', 'SE', 'KR', 'MT', 'PG', 'AZ', 'MK', 'GR', 'MX', 'TR', 'PF', 'VN', 'TH', 'FR', 'UG', 'NO', 'LV', 'GL', 'IT', 'JP', 'MV', 'CL', 'SI', 'PH', 'GB', 'ID')\n",
      "Fallback CF could not be computed for supplier=(('location', 'CN-SC'), ('name', 'rare earth oxides production, from rare earth oxide concentrate, 70% REO'), ('reference product', 'gadolinium oxide')), consumer=(('location', 'GLO'),) with candidate suppliers=('CN-SC',) and consumers=('AW', 'CW', 'GI', 'SX', 'MO', 'PM', 'PS', 'ST', 'TK', 'BQ', 'KM', 'KY', 'LU', 'MS', 'BN', 'CY', 'SH', 'SZ', 'WF', 'RW', 'SG', 'SL', 'TG', 'DJ', 'GM', 'IL', 'LB', 'VG', 'AD', 'BY', 'GD', 'GQ', 'TJ', 'TM', 'AG', 'ER', 'KG', 'NE', 'QA', 'SK', 'BO', 'KE', 'KW', 'ML', 'PK', 'SM', 'TV', 'VC', 'AT', 'BH', 'DM', 'GA', 'GH', 'SR', 'SS', 'ZM', 'ZW', 'BB', 'CM', 'CR', 'LC', 'LS', 'LT', 'NC', 'TO', 'ZA', 'AL', 'AM', 'BJ', 'CD', 'CG', 'GE', 'GY', 'JO', 'TC', 'BE', 'IS', 'NA', 'SO', 'CZ', 'ET', 'HT', 'JM', 'KN', 'MZ', 'NP', 'TL', 'AI', 'BW', 'BZ', 'FK', 'LR', 'OM', 'SY', 'BM', 'MA', 'MU', 'PL', 'SN', 'SV', 'TT', 'BI', 'CF', 'LA', 'MR', 'UZ', 'WS', 'IQ', 'PW', 'PY', 'SD', 'AO', 'DK', 'UY', 'BA', 'BT', 'EE', 'KP', 'NI', 'CI', 'GW', 'HK', 'GT', 'KZ', 'LY', 'ME', 'MH', 'MN', 'NL', 'TD', 'HN', 'SA', 'CV', 'MG', 'RS', 'TN', 'VU', 'BD', 'BG', 'PA', 'KH', 'KI', 'MW', 'YE', 'AE', 'AR', 'MY', 'PE', 'UA', 'LK', 'AF', 'DO', 'GN', 'TZ', 'PT', 'EG', 'DE', 'NZ', 'CH', 'EC', 'NG', 'IE', 'IR', 'MD', 'RO', 'CO', 'HU', 'BF', 'FJ', 'HR', 'DZ', 'SC', 'SB', 'VE', 'BS', 'MM', 'CU', 'FI', 'SE', 'KR', 'MT', 'PG', 'AZ', 'MK', 'GR', 'MX', 'TR', 'PF', 'VN', 'TH', 'FR', 'UG', 'NO', 'LV', 'GL', 'IT', 'JP', 'MV', 'CL', 'SI', 'PH', 'GB', 'ID')\n",
      "Fallback CF could not be computed for supplier=(('location', 'CN-SC'), ('name', 'rare earth oxides production, from rare earth oxide concentrate, 70% REO'), ('reference product', 'lanthanum oxide')), consumer=(('location', 'GLO'),) with candidate suppliers=('CN-SC',) and consumers=('AW', 'CW', 'GI', 'SX', 'MO', 'PM', 'PS', 'ST', 'TK', 'BQ', 'KM', 'KY', 'LU', 'MS', 'BN', 'CY', 'SH', 'SZ', 'WF', 'RW', 'SG', 'SL', 'TG', 'DJ', 'GM', 'IL', 'LB', 'VG', 'AD', 'BY', 'GD', 'GQ', 'TJ', 'TM', 'AG', 'ER', 'KG', 'NE', 'QA', 'SK', 'BO', 'KE', 'KW', 'ML', 'PK', 'SM', 'TV', 'VC', 'AT', 'BH', 'DM', 'GA', 'GH', 'SR', 'SS', 'ZM', 'ZW', 'BB', 'CM', 'CR', 'LC', 'LS', 'LT', 'NC', 'TO', 'ZA', 'AL', 'AM', 'BJ', 'CD', 'CG', 'GE', 'GY', 'JO', 'TC', 'BE', 'IS', 'NA', 'SO', 'CZ', 'ET', 'HT', 'JM', 'KN', 'MZ', 'NP', 'TL', 'AI', 'BW', 'BZ', 'FK', 'LR', 'OM', 'SY', 'BM', 'MA', 'MU', 'PL', 'SN', 'SV', 'TT', 'BI', 'CF', 'LA', 'MR', 'UZ', 'WS', 'IQ', 'PW', 'PY', 'SD', 'AO', 'DK', 'UY', 'BA', 'BT', 'EE', 'KP', 'NI', 'CI', 'GW', 'HK', 'GT', 'KZ', 'LY', 'ME', 'MH', 'MN', 'NL', 'TD', 'HN', 'SA', 'CV', 'MG', 'RS', 'TN', 'VU', 'BD', 'BG', 'PA', 'KH', 'KI', 'MW', 'YE', 'AE', 'AR', 'MY', 'PE', 'UA', 'LK', 'AF', 'DO', 'GN', 'TZ', 'PT', 'EG', 'DE', 'NZ', 'CH', 'EC', 'NG', 'IE', 'IR', 'MD', 'RO', 'CO', 'HU', 'BF', 'FJ', 'HR', 'DZ', 'SC', 'SB', 'VE', 'BS', 'MM', 'CU', 'FI', 'SE', 'KR', 'MT', 'PG', 'AZ', 'MK', 'GR', 'MX', 'TR', 'PF', 'VN', 'TH', 'FR', 'UG', 'NO', 'LV', 'GL', 'IT', 'JP', 'MV', 'CL', 'SI', 'PH', 'GB', 'ID')\n",
      "Fallback CF could not be computed for supplier=(('location', 'CN-SC'), ('name', 'rare earth oxides production, from rare earth oxide concentrate, 70% REO'), ('reference product', 'sulfur')), consumer=(('location', 'GLO'),) with candidate suppliers=('CN-SC',) and consumers=('AW', 'CW', 'GI', 'SX', 'MO', 'PM', 'PS', 'ST', 'TK', 'BQ', 'KM', 'KY', 'LU', 'MS', 'BN', 'CY', 'SH', 'SZ', 'WF', 'RW', 'SG', 'SL', 'TG', 'DJ', 'GM', 'IL', 'LB', 'VG', 'AD', 'BY', 'GD', 'GQ', 'TJ', 'TM', 'AG', 'ER', 'KG', 'NE', 'QA', 'SK', 'BO', 'KE', 'KW', 'ML', 'PK', 'SM', 'TV', 'VC', 'AT', 'BH', 'DM', 'GA', 'GH', 'SR', 'SS', 'ZM', 'ZW', 'BB', 'CM', 'CR', 'LC', 'LS', 'LT', 'NC', 'TO', 'ZA', 'AL', 'AM', 'BJ', 'CD', 'CG', 'GE', 'GY', 'JO', 'TC', 'BE', 'IS', 'NA', 'SO', 'CZ', 'ET', 'HT', 'JM', 'KN', 'MZ', 'NP', 'TL', 'AI', 'BW', 'BZ', 'FK', 'LR', 'OM', 'SY', 'BM', 'MA', 'MU', 'PL', 'SN', 'SV', 'TT', 'BI', 'CF', 'LA', 'MR', 'UZ', 'WS', 'IQ', 'PW', 'PY', 'SD', 'AO', 'DK', 'UY', 'BA', 'BT', 'EE', 'KP', 'NI', 'CI', 'GW', 'HK', 'GT', 'KZ', 'LY', 'ME', 'MH', 'MN', 'NL', 'TD', 'HN', 'SA', 'CV', 'MG', 'RS', 'TN', 'VU', 'BD', 'BG', 'PA', 'KH', 'KI', 'MW', 'YE', 'AE', 'AR', 'MY', 'PE', 'UA', 'LK', 'AF', 'DO', 'GN', 'TZ', 'PT', 'EG', 'DE', 'NZ', 'CH', 'EC', 'NG', 'IE', 'IR', 'MD', 'RO', 'CO', 'HU', 'BF', 'FJ', 'HR', 'DZ', 'SC', 'SB', 'VE', 'BS', 'MM', 'CU', 'FI', 'SE', 'KR', 'MT', 'PG', 'AZ', 'MK', 'GR', 'MX', 'TR', 'PF', 'VN', 'TH', 'FR', 'UG', 'NO', 'LV', 'GL', 'IT', 'JP', 'MV', 'CL', 'SI', 'PH', 'GB', 'ID')\n",
      "Fallback CF could not be computed for supplier=(('location', 'CN-SC'), ('name', 'rare earth oxides production, from rare earth oxide concentrate, 70% REO'), ('reference product', 'lanthanum-cerium oxide')), consumer=(('location', 'GLO'),) with candidate suppliers=('CN-SC',) and consumers=('AW', 'CW', 'GI', 'SX', 'MO', 'PM', 'PS', 'ST', 'TK', 'BQ', 'KM', 'KY', 'LU', 'MS', 'BN', 'CY', 'SH', 'SZ', 'WF', 'RW', 'SG', 'SL', 'TG', 'DJ', 'GM', 'IL', 'LB', 'VG', 'AD', 'BY', 'GD', 'GQ', 'TJ', 'TM', 'AG', 'ER', 'KG', 'NE', 'QA', 'SK', 'BO', 'KE', 'KW', 'ML', 'PK', 'SM', 'TV', 'VC', 'AT', 'BH', 'DM', 'GA', 'GH', 'SR', 'SS', 'ZM', 'ZW', 'BB', 'CM', 'CR', 'LC', 'LS', 'LT', 'NC', 'TO', 'ZA', 'AL', 'AM', 'BJ', 'CD', 'CG', 'GE', 'GY', 'JO', 'TC', 'BE', 'IS', 'NA', 'SO', 'CZ', 'ET', 'HT', 'JM', 'KN', 'MZ', 'NP', 'TL', 'AI', 'BW', 'BZ', 'FK', 'LR', 'OM', 'SY', 'BM', 'MA', 'MU', 'PL', 'SN', 'SV', 'TT', 'BI', 'CF', 'LA', 'MR', 'UZ', 'WS', 'IQ', 'PW', 'PY', 'SD', 'AO', 'DK', 'UY', 'BA', 'BT', 'EE', 'KP', 'NI', 'CI', 'GW', 'HK', 'GT', 'KZ', 'LY', 'ME', 'MH', 'MN', 'NL', 'TD', 'HN', 'SA', 'CV', 'MG', 'RS', 'TN', 'VU', 'BD', 'BG', 'PA', 'KH', 'KI', 'MW', 'YE', 'AE', 'AR', 'MY', 'PE', 'UA', 'LK', 'AF', 'DO', 'GN', 'TZ', 'PT', 'EG', 'DE', 'NZ', 'CH', 'EC', 'NG', 'IE', 'IR', 'MD', 'RO', 'CO', 'HU', 'BF', 'FJ', 'HR', 'DZ', 'SC', 'SB', 'VE', 'BS', 'MM', 'CU', 'FI', 'SE', 'KR', 'MT', 'PG', 'AZ', 'MK', 'GR', 'MX', 'TR', 'PF', 'VN', 'TH', 'FR', 'UG', 'NO', 'LV', 'GL', 'IT', 'JP', 'MV', 'CL', 'SI', 'PH', 'GB', 'ID')\n",
      "Fallback CF could not be computed for supplier=(('location', 'CN-SC'), ('name', 'rare earth oxides production, from rare earth oxide concentrate, 70% REO'), ('reference product', 'praseodymium-neodymium oxide')), consumer=(('location', 'GLO'),) with candidate suppliers=('CN-SC',) and consumers=('AW', 'CW', 'GI', 'SX', 'MO', 'PM', 'PS', 'ST', 'TK', 'BQ', 'KM', 'KY', 'LU', 'MS', 'BN', 'CY', 'SH', 'SZ', 'WF', 'RW', 'SG', 'SL', 'TG', 'DJ', 'GM', 'IL', 'LB', 'VG', 'AD', 'BY', 'GD', 'GQ', 'TJ', 'TM', 'AG', 'ER', 'KG', 'NE', 'QA', 'SK', 'BO', 'KE', 'KW', 'ML', 'PK', 'SM', 'TV', 'VC', 'AT', 'BH', 'DM', 'GA', 'GH', 'SR', 'SS', 'ZM', 'ZW', 'BB', 'CM', 'CR', 'LC', 'LS', 'LT', 'NC', 'TO', 'ZA', 'AL', 'AM', 'BJ', 'CD', 'CG', 'GE', 'GY', 'JO', 'TC', 'BE', 'IS', 'NA', 'SO', 'CZ', 'ET', 'HT', 'JM', 'KN', 'MZ', 'NP', 'TL', 'AI', 'BW', 'BZ', 'FK', 'LR', 'OM', 'SY', 'BM', 'MA', 'MU', 'PL', 'SN', 'SV', 'TT', 'BI', 'CF', 'LA', 'MR', 'UZ', 'WS', 'IQ', 'PW', 'PY', 'SD', 'AO', 'DK', 'UY', 'BA', 'BT', 'EE', 'KP', 'NI', 'CI', 'GW', 'HK', 'GT', 'KZ', 'LY', 'ME', 'MH', 'MN', 'NL', 'TD', 'HN', 'SA', 'CV', 'MG', 'RS', 'TN', 'VU', 'BD', 'BG', 'PA', 'KH', 'KI', 'MW', 'YE', 'AE', 'AR', 'MY', 'PE', 'UA', 'LK', 'AF', 'DO', 'GN', 'TZ', 'PT', 'EG', 'DE', 'NZ', 'CH', 'EC', 'NG', 'IE', 'IR', 'MD', 'RO', 'CO', 'HU', 'BF', 'FJ', 'HR', 'DZ', 'SC', 'SB', 'VE', 'BS', 'MM', 'CU', 'FI', 'SE', 'KR', 'MT', 'PG', 'AZ', 'MK', 'GR', 'MX', 'TR', 'PF', 'VN', 'TH', 'FR', 'UG', 'NO', 'LV', 'GL', 'IT', 'JP', 'MV', 'CL', 'SI', 'PH', 'GB', 'ID')\n",
      "Fallback CF could not be computed for supplier=(('location', 'TT'), ('name', 'petroleum and gas production, offshore'), ('reference product', 'petroleum')), consumer=(('location', 'RNA'),) with candidate suppliers=('TT',) and consumers=('PM', 'BM', 'GL')\n",
      "Fallback CF could not be computed for supplier=(('location', 'TT'), ('name', 'petroleum and gas production, onshore'), ('reference product', 'petroleum')), consumer=(('location', 'RNA'),) with candidate suppliers=('TT',) and consumers=('PM', 'BM', 'GL')\n",
      "Fallback CF could not be computed for supplier=(('location', 'RU'), ('name', 'uranium production, centrifuge, enriched 4.0%'), ('reference product', 'uranium, enriched 4.0%, per separative work unit')), consumer=(('location', 'GLO'),) with candidate suppliers=('RU',) and consumers=('AW', 'CW', 'GI', 'SX', 'MO', 'PM', 'PS', 'ST', 'TK', 'BQ', 'KM', 'KY', 'LU', 'MS', 'BN', 'CY', 'SH', 'SZ', 'WF', 'RW', 'SG', 'SL', 'TG', 'DJ', 'GM', 'IL', 'LB', 'VG', 'AD', 'BY', 'GD', 'GQ', 'TJ', 'TM', 'AG', 'ER', 'KG', 'NE', 'QA', 'SK', 'BO', 'KE', 'KW', 'ML', 'PK', 'SM', 'TV', 'VC', 'AT', 'BH', 'DM', 'GA', 'GH', 'SR', 'SS', 'ZM', 'ZW', 'BB', 'CM', 'CR', 'LC', 'LS', 'LT', 'NC', 'TO', 'ZA', 'AL', 'AM', 'BJ', 'CD', 'CG', 'GE', 'GY', 'JO', 'TC', 'BE', 'IS', 'NA', 'SO', 'CZ', 'ET', 'HT', 'JM', 'KN', 'MZ', 'NP', 'TL', 'AI', 'BW', 'BZ', 'FK', 'LR', 'OM', 'SY', 'BM', 'MA', 'MU', 'PL', 'SN', 'SV', 'TT', 'BI', 'CF', 'LA', 'MR', 'UZ', 'WS', 'IQ', 'PW', 'PY', 'SD', 'AO', 'DK', 'UY', 'BA', 'BT', 'EE', 'KP', 'NI', 'CI', 'GW', 'HK', 'GT', 'KZ', 'LY', 'ME', 'MH', 'MN', 'NL', 'TD', 'HN', 'SA', 'CV', 'MG', 'RS', 'TN', 'VU', 'BD', 'BG', 'PA', 'KH', 'KI', 'MW', 'YE', 'AE', 'AR', 'MY', 'PE', 'UA', 'LK', 'AF', 'DO', 'GN', 'TZ', 'PT', 'EG', 'DE', 'NZ', 'CH', 'EC', 'NG', 'IE', 'IR', 'MD', 'RO', 'CO', 'HU', 'BF', 'FJ', 'HR', 'DZ', 'SC', 'SB', 'VE', 'BS', 'MM', 'CU', 'FI', 'SE', 'KR', 'MT', 'PG', 'AZ', 'MK', 'GR', 'MX', 'TR', 'PF', 'VN', 'TH', 'FR', 'UG', 'NO', 'LV', 'GL', 'IT', 'JP', 'MV', 'CL', 'SI', 'PH', 'GB', 'ID')\n",
      "Fallback CF could not be computed for supplier=(('location', 'RU'), ('name', 'uranium production, centrifuge, enriched 3.8%'), ('reference product', 'uranium, enriched 3.8%, per separative work unit')), consumer=(('location', 'GLO'),) with candidate suppliers=('RU',) and consumers=('AW', 'CW', 'GI', 'SX', 'MO', 'PM', 'PS', 'ST', 'TK', 'BQ', 'KM', 'KY', 'LU', 'MS', 'BN', 'CY', 'SH', 'SZ', 'WF', 'RW', 'SG', 'SL', 'TG', 'DJ', 'GM', 'IL', 'LB', 'VG', 'AD', 'BY', 'GD', 'GQ', 'TJ', 'TM', 'AG', 'ER', 'KG', 'NE', 'QA', 'SK', 'BO', 'KE', 'KW', 'ML', 'PK', 'SM', 'TV', 'VC', 'AT', 'BH', 'DM', 'GA', 'GH', 'SR', 'SS', 'ZM', 'ZW', 'BB', 'CM', 'CR', 'LC', 'LS', 'LT', 'NC', 'TO', 'ZA', 'AL', 'AM', 'BJ', 'CD', 'CG', 'GE', 'GY', 'JO', 'TC', 'BE', 'IS', 'NA', 'SO', 'CZ', 'ET', 'HT', 'JM', 'KN', 'MZ', 'NP', 'TL', 'AI', 'BW', 'BZ', 'FK', 'LR', 'OM', 'SY', 'BM', 'MA', 'MU', 'PL', 'SN', 'SV', 'TT', 'BI', 'CF', 'LA', 'MR', 'UZ', 'WS', 'IQ', 'PW', 'PY', 'SD', 'AO', 'DK', 'UY', 'BA', 'BT', 'EE', 'KP', 'NI', 'CI', 'GW', 'HK', 'GT', 'KZ', 'LY', 'ME', 'MH', 'MN', 'NL', 'TD', 'HN', 'SA', 'CV', 'MG', 'RS', 'TN', 'VU', 'BD', 'BG', 'PA', 'KH', 'KI', 'MW', 'YE', 'AE', 'AR', 'MY', 'PE', 'UA', 'LK', 'AF', 'DO', 'GN', 'TZ', 'PT', 'EG', 'DE', 'NZ', 'CH', 'EC', 'NG', 'IE', 'IR', 'MD', 'RO', 'CO', 'HU', 'BF', 'FJ', 'HR', 'DZ', 'SC', 'SB', 'VE', 'BS', 'MM', 'CU', 'FI', 'SE', 'KR', 'MT', 'PG', 'AZ', 'MK', 'GR', 'MX', 'TR', 'PF', 'VN', 'TH', 'FR', 'UG', 'NO', 'LV', 'GL', 'IT', 'JP', 'MV', 'CL', 'SI', 'PH', 'GB', 'ID')\n",
      "Fallback CF could not be computed for supplier=(('location', 'RU'), ('name', 'uranium production, centrifuge, enriched 4.2%'), ('reference product', 'uranium, enriched 4.2%, per separative work unit')), consumer=(('location', 'GLO'),) with candidate suppliers=('RU',) and consumers=('AW', 'CW', 'GI', 'SX', 'MO', 'PM', 'PS', 'ST', 'TK', 'BQ', 'KM', 'KY', 'LU', 'MS', 'BN', 'CY', 'SH', 'SZ', 'WF', 'RW', 'SG', 'SL', 'TG', 'DJ', 'GM', 'IL', 'LB', 'VG', 'AD', 'BY', 'GD', 'GQ', 'TJ', 'TM', 'AG', 'ER', 'KG', 'NE', 'QA', 'SK', 'BO', 'KE', 'KW', 'ML', 'PK', 'SM', 'TV', 'VC', 'AT', 'BH', 'DM', 'GA', 'GH', 'SR', 'SS', 'ZM', 'ZW', 'BB', 'CM', 'CR', 'LC', 'LS', 'LT', 'NC', 'TO', 'ZA', 'AL', 'AM', 'BJ', 'CD', 'CG', 'GE', 'GY', 'JO', 'TC', 'BE', 'IS', 'NA', 'SO', 'CZ', 'ET', 'HT', 'JM', 'KN', 'MZ', 'NP', 'TL', 'AI', 'BW', 'BZ', 'FK', 'LR', 'OM', 'SY', 'BM', 'MA', 'MU', 'PL', 'SN', 'SV', 'TT', 'BI', 'CF', 'LA', 'MR', 'UZ', 'WS', 'IQ', 'PW', 'PY', 'SD', 'AO', 'DK', 'UY', 'BA', 'BT', 'EE', 'KP', 'NI', 'CI', 'GW', 'HK', 'GT', 'KZ', 'LY', 'ME', 'MH', 'MN', 'NL', 'TD', 'HN', 'SA', 'CV', 'MG', 'RS', 'TN', 'VU', 'BD', 'BG', 'PA', 'KH', 'KI', 'MW', 'YE', 'AE', 'AR', 'MY', 'PE', 'UA', 'LK', 'AF', 'DO', 'GN', 'TZ', 'PT', 'EG', 'DE', 'NZ', 'CH', 'EC', 'NG', 'IE', 'IR', 'MD', 'RO', 'CO', 'HU', 'BF', 'FJ', 'HR', 'DZ', 'SC', 'SB', 'VE', 'BS', 'MM', 'CU', 'FI', 'SE', 'KR', 'MT', 'PG', 'AZ', 'MK', 'GR', 'MX', 'TR', 'PF', 'VN', 'TH', 'FR', 'UG', 'NO', 'LV', 'GL', 'IT', 'JP', 'MV', 'CL', 'SI', 'PH', 'GB', 'ID')\n",
      "Fallback CF could not be computed for supplier=(('location', 'CA-QC'), ('name', 'nickel mine operation and benefication to nickel concentrate, 16% Ni'), ('reference product', 'nickel concentrate, 16% Ni')), consumer=(('location', 'GLO'),) with candidate suppliers=('CA-QC',) and consumers=('AW', 'CW', 'GI', 'SX', 'MO', 'PM', 'PS', 'ST', 'TK', 'BQ', 'KM', 'KY', 'LU', 'MS', 'BN', 'CY', 'SH', 'SZ', 'WF', 'RW', 'SG', 'SL', 'TG', 'DJ', 'GM', 'IL', 'LB', 'VG', 'AD', 'BY', 'GD', 'GQ', 'TJ', 'TM', 'AG', 'ER', 'KG', 'NE', 'QA', 'SK', 'BO', 'KE', 'KW', 'ML', 'PK', 'SM', 'TV', 'VC', 'AT', 'BH', 'DM', 'GA', 'GH', 'SR', 'SS', 'ZM', 'ZW', 'BB', 'CM', 'CR', 'LC', 'LS', 'LT', 'NC', 'TO', 'ZA', 'AL', 'AM', 'BJ', 'CD', 'CG', 'GE', 'GY', 'JO', 'TC', 'BE', 'IS', 'NA', 'SO', 'CZ', 'ET', 'HT', 'JM', 'KN', 'MZ', 'NP', 'TL', 'AI', 'BW', 'BZ', 'FK', 'LR', 'OM', 'SY', 'BM', 'MA', 'MU', 'PL', 'SN', 'SV', 'TT', 'BI', 'CF', 'LA', 'MR', 'UZ', 'WS', 'IQ', 'PW', 'PY', 'SD', 'AO', 'DK', 'UY', 'BA', 'BT', 'EE', 'KP', 'NI', 'CI', 'GW', 'HK', 'GT', 'KZ', 'LY', 'ME', 'MH', 'MN', 'NL', 'TD', 'HN', 'SA', 'CV', 'MG', 'RS', 'TN', 'VU', 'BD', 'BG', 'PA', 'KH', 'KI', 'MW', 'YE', 'AE', 'AR', 'MY', 'PE', 'UA', 'LK', 'AF', 'DO', 'GN', 'TZ', 'PT', 'EG', 'DE', 'NZ', 'CH', 'EC', 'NG', 'IE', 'IR', 'MD', 'RO', 'CO', 'HU', 'BF', 'FJ', 'HR', 'DZ', 'SC', 'SB', 'VE', 'BS', 'MM', 'CU', 'FI', 'SE', 'KR', 'MT', 'PG', 'AZ', 'MK', 'GR', 'MX', 'TR', 'PF', 'VN', 'TH', 'FR', 'UG', 'NO', 'LV', 'GL', 'IT', 'JP', 'MV', 'CL', 'SI', 'PH', 'GB', 'ID')\n",
      "Fallback CF could not be computed for supplier=(('location', 'CA-QC'), ('name', 'gold-silver mine operation with refinery'), ('reference product', 'gold')), consumer=(('location', 'GLO'),) with candidate suppliers=('CA-QC',) and consumers=('AW', 'CW', 'GI', 'SX', 'MO', 'PM', 'PS', 'ST', 'TK', 'BQ', 'KM', 'KY', 'LU', 'MS', 'BN', 'CY', 'SH', 'SZ', 'WF', 'RW', 'SG', 'SL', 'TG', 'DJ', 'GM', 'IL', 'LB', 'VG', 'AD', 'BY', 'GD', 'GQ', 'TJ', 'TM', 'AG', 'ER', 'KG', 'NE', 'QA', 'SK', 'BO', 'KE', 'KW', 'ML', 'PK', 'SM', 'TV', 'VC', 'AT', 'BH', 'DM', 'GA', 'GH', 'SR', 'SS', 'ZM', 'ZW', 'BB', 'CM', 'CR', 'LC', 'LS', 'LT', 'NC', 'TO', 'ZA', 'AL', 'AM', 'BJ', 'CD', 'CG', 'GE', 'GY', 'JO', 'TC', 'BE', 'IS', 'NA', 'SO', 'CZ', 'ET', 'HT', 'JM', 'KN', 'MZ', 'NP', 'TL', 'AI', 'BW', 'BZ', 'FK', 'LR', 'OM', 'SY', 'BM', 'MA', 'MU', 'PL', 'SN', 'SV', 'TT', 'BI', 'CF', 'LA', 'MR', 'UZ', 'WS', 'IQ', 'PW', 'PY', 'SD', 'AO', 'DK', 'UY', 'BA', 'BT', 'EE', 'KP', 'NI', 'CI', 'GW', 'HK', 'GT', 'KZ', 'LY', 'ME', 'MH', 'MN', 'NL', 'TD', 'HN', 'SA', 'CV', 'MG', 'RS', 'TN', 'VU', 'BD', 'BG', 'PA', 'KH', 'KI', 'MW', 'YE', 'AE', 'AR', 'MY', 'PE', 'UA', 'LK', 'AF', 'DO', 'GN', 'TZ', 'PT', 'EG', 'DE', 'NZ', 'CH', 'EC', 'NG', 'IE', 'IR', 'MD', 'RO', 'CO', 'HU', 'BF', 'FJ', 'HR', 'DZ', 'SC', 'SB', 'VE', 'BS', 'MM', 'CU', 'FI', 'SE', 'KR', 'MT', 'PG', 'AZ', 'MK', 'GR', 'MX', 'TR', 'PF', 'VN', 'TH', 'FR', 'UG', 'NO', 'LV', 'GL', 'IT', 'JP', 'MV', 'CL', 'SI', 'PH', 'GB', 'ID')\n",
      "Fallback CF could not be computed for supplier=(('location', 'CA-QC'), ('name', 'tellurium production, semiconductor-grade'), ('reference product', 'tellurium, semiconductor-grade')), consumer=(('location', 'GLO'),) with candidate suppliers=('CA-QC',) and consumers=('AW', 'CW', 'GI', 'SX', 'MO', 'PM', 'PS', 'ST', 'TK', 'BQ', 'KM', 'KY', 'LU', 'MS', 'BN', 'CY', 'SH', 'SZ', 'WF', 'RW', 'SG', 'SL', 'TG', 'DJ', 'GM', 'IL', 'LB', 'VG', 'AD', 'BY', 'GD', 'GQ', 'TJ', 'TM', 'AG', 'ER', 'KG', 'NE', 'QA', 'SK', 'BO', 'KE', 'KW', 'ML', 'PK', 'SM', 'TV', 'VC', 'AT', 'BH', 'DM', 'GA', 'GH', 'SR', 'SS', 'ZM', 'ZW', 'BB', 'CM', 'CR', 'LC', 'LS', 'LT', 'NC', 'TO', 'ZA', 'AL', 'AM', 'BJ', 'CD', 'CG', 'GE', 'GY', 'JO', 'TC', 'BE', 'IS', 'NA', 'SO', 'CZ', 'ET', 'HT', 'JM', 'KN', 'MZ', 'NP', 'TL', 'AI', 'BW', 'BZ', 'FK', 'LR', 'OM', 'SY', 'BM', 'MA', 'MU', 'PL', 'SN', 'SV', 'TT', 'BI', 'CF', 'LA', 'MR', 'UZ', 'WS', 'IQ', 'PW', 'PY', 'SD', 'AO', 'DK', 'UY', 'BA', 'BT', 'EE', 'KP', 'NI', 'CI', 'GW', 'HK', 'GT', 'KZ', 'LY', 'ME', 'MH', 'MN', 'NL', 'TD', 'HN', 'SA', 'CV', 'MG', 'RS', 'TN', 'VU', 'BD', 'BG', 'PA', 'KH', 'KI', 'MW', 'YE', 'AE', 'AR', 'MY', 'PE', 'UA', 'LK', 'AF', 'DO', 'GN', 'TZ', 'PT', 'EG', 'DE', 'NZ', 'CH', 'EC', 'NG', 'IE', 'IR', 'MD', 'RO', 'CO', 'HU', 'BF', 'FJ', 'HR', 'DZ', 'SC', 'SB', 'VE', 'BS', 'MM', 'CU', 'FI', 'SE', 'KR', 'MT', 'PG', 'AZ', 'MK', 'GR', 'MX', 'TR', 'PF', 'VN', 'TH', 'FR', 'UG', 'NO', 'LV', 'GL', 'IT', 'JP', 'MV', 'CL', 'SI', 'PH', 'GB', 'ID')\n",
      "Fallback CF could not be computed for supplier=(('location', 'CA-QC'), ('name', 'cadmium production, primary'), ('reference product', 'cadmium')), consumer=(('location', 'GLO'),) with candidate suppliers=('CA-QC',) and consumers=('AW', 'CW', 'GI', 'SX', 'MO', 'PM', 'PS', 'ST', 'TK', 'BQ', 'KM', 'KY', 'LU', 'MS', 'BN', 'CY', 'SH', 'SZ', 'WF', 'RW', 'SG', 'SL', 'TG', 'DJ', 'GM', 'IL', 'LB', 'VG', 'AD', 'BY', 'GD', 'GQ', 'TJ', 'TM', 'AG', 'ER', 'KG', 'NE', 'QA', 'SK', 'BO', 'KE', 'KW', 'ML', 'PK', 'SM', 'TV', 'VC', 'AT', 'BH', 'DM', 'GA', 'GH', 'SR', 'SS', 'ZM', 'ZW', 'BB', 'CM', 'CR', 'LC', 'LS', 'LT', 'NC', 'TO', 'ZA', 'AL', 'AM', 'BJ', 'CD', 'CG', 'GE', 'GY', 'JO', 'TC', 'BE', 'IS', 'NA', 'SO', 'CZ', 'ET', 'HT', 'JM', 'KN', 'MZ', 'NP', 'TL', 'AI', 'BW', 'BZ', 'FK', 'LR', 'OM', 'SY', 'BM', 'MA', 'MU', 'PL', 'SN', 'SV', 'TT', 'BI', 'CF', 'LA', 'MR', 'UZ', 'WS', 'IQ', 'PW', 'PY', 'SD', 'AO', 'DK', 'UY', 'BA', 'BT', 'EE', 'KP', 'NI', 'CI', 'GW', 'HK', 'GT', 'KZ', 'LY', 'ME', 'MH', 'MN', 'NL', 'TD', 'HN', 'SA', 'CV', 'MG', 'RS', 'TN', 'VU', 'BD', 'BG', 'PA', 'KH', 'KI', 'MW', 'YE', 'AE', 'AR', 'MY', 'PE', 'UA', 'LK', 'AF', 'DO', 'GN', 'TZ', 'PT', 'EG', 'DE', 'NZ', 'CH', 'EC', 'NG', 'IE', 'IR', 'MD', 'RO', 'CO', 'HU', 'BF', 'FJ', 'HR', 'DZ', 'SC', 'SB', 'VE', 'BS', 'MM', 'CU', 'FI', 'SE', 'KR', 'MT', 'PG', 'AZ', 'MK', 'GR', 'MX', 'TR', 'PF', 'VN', 'TH', 'FR', 'UG', 'NO', 'LV', 'GL', 'IT', 'JP', 'MV', 'CL', 'SI', 'PH', 'GB', 'ID')\n",
      "Fallback CF could not be computed for supplier=(('location', 'CA-QC'), ('name', 'barite production'), ('reference product', 'barite')), consumer=(('location', 'GLO'),) with candidate suppliers=('CA-QC',) and consumers=('AW', 'CW', 'GI', 'SX', 'MO', 'PM', 'PS', 'ST', 'TK', 'BQ', 'KM', 'KY', 'LU', 'MS', 'BN', 'CY', 'SH', 'SZ', 'WF', 'RW', 'SG', 'SL', 'TG', 'DJ', 'GM', 'IL', 'LB', 'VG', 'AD', 'BY', 'GD', 'GQ', 'TJ', 'TM', 'AG', 'ER', 'KG', 'NE', 'QA', 'SK', 'BO', 'KE', 'KW', 'ML', 'PK', 'SM', 'TV', 'VC', 'AT', 'BH', 'DM', 'GA', 'GH', 'SR', 'SS', 'ZM', 'ZW', 'BB', 'CM', 'CR', 'LC', 'LS', 'LT', 'NC', 'TO', 'ZA', 'AL', 'AM', 'BJ', 'CD', 'CG', 'GE', 'GY', 'JO', 'TC', 'BE', 'IS', 'NA', 'SO', 'CZ', 'ET', 'HT', 'JM', 'KN', 'MZ', 'NP', 'TL', 'AI', 'BW', 'BZ', 'FK', 'LR', 'OM', 'SY', 'BM', 'MA', 'MU', 'PL', 'SN', 'SV', 'TT', 'BI', 'CF', 'LA', 'MR', 'UZ', 'WS', 'IQ', 'PW', 'PY', 'SD', 'AO', 'DK', 'UY', 'BA', 'BT', 'EE', 'KP', 'NI', 'CI', 'GW', 'HK', 'GT', 'KZ', 'LY', 'ME', 'MH', 'MN', 'NL', 'TD', 'HN', 'SA', 'CV', 'MG', 'RS', 'TN', 'VU', 'BD', 'BG', 'PA', 'KH', 'KI', 'MW', 'YE', 'AE', 'AR', 'MY', 'PE', 'UA', 'LK', 'AF', 'DO', 'GN', 'TZ', 'PT', 'EG', 'DE', 'NZ', 'CH', 'EC', 'NG', 'IE', 'IR', 'MD', 'RO', 'CO', 'HU', 'BF', 'FJ', 'HR', 'DZ', 'SC', 'SB', 'VE', 'BS', 'MM', 'CU', 'FI', 'SE', 'KR', 'MT', 'PG', 'AZ', 'MK', 'GR', 'MX', 'TR', 'PF', 'VN', 'TH', 'FR', 'UG', 'NO', 'LV', 'GL', 'IT', 'JP', 'MV', 'CL', 'SI', 'PH', 'GB', 'ID')\n",
      "Fallback CF could not be computed for supplier=(('location', 'CA-QC'), ('name', 'gold-silver mine operation with refinery'), ('reference product', 'silver')), consumer=(('location', 'GLO'),) with candidate suppliers=('CA-QC',) and consumers=('AW', 'CW', 'GI', 'SX', 'MO', 'PM', 'PS', 'ST', 'TK', 'BQ', 'KM', 'KY', 'LU', 'MS', 'BN', 'CY', 'SH', 'SZ', 'WF', 'RW', 'SG', 'SL', 'TG', 'DJ', 'GM', 'IL', 'LB', 'VG', 'AD', 'BY', 'GD', 'GQ', 'TJ', 'TM', 'AG', 'ER', 'KG', 'NE', 'QA', 'SK', 'BO', 'KE', 'KW', 'ML', 'PK', 'SM', 'TV', 'VC', 'AT', 'BH', 'DM', 'GA', 'GH', 'SR', 'SS', 'ZM', 'ZW', 'BB', 'CM', 'CR', 'LC', 'LS', 'LT', 'NC', 'TO', 'ZA', 'AL', 'AM', 'BJ', 'CD', 'CG', 'GE', 'GY', 'JO', 'TC', 'BE', 'IS', 'NA', 'SO', 'CZ', 'ET', 'HT', 'JM', 'KN', 'MZ', 'NP', 'TL', 'AI', 'BW', 'BZ', 'FK', 'LR', 'OM', 'SY', 'BM', 'MA', 'MU', 'PL', 'SN', 'SV', 'TT', 'BI', 'CF', 'LA', 'MR', 'UZ', 'WS', 'IQ', 'PW', 'PY', 'SD', 'AO', 'DK', 'UY', 'BA', 'BT', 'EE', 'KP', 'NI', 'CI', 'GW', 'HK', 'GT', 'KZ', 'LY', 'ME', 'MH', 'MN', 'NL', 'TD', 'HN', 'SA', 'CV', 'MG', 'RS', 'TN', 'VU', 'BD', 'BG', 'PA', 'KH', 'KI', 'MW', 'YE', 'AE', 'AR', 'MY', 'PE', 'UA', 'LK', 'AF', 'DO', 'GN', 'TZ', 'PT', 'EG', 'DE', 'NZ', 'CH', 'EC', 'NG', 'IE', 'IR', 'MD', 'RO', 'CO', 'HU', 'BF', 'FJ', 'HR', 'DZ', 'SC', 'SB', 'VE', 'BS', 'MM', 'CU', 'FI', 'SE', 'KR', 'MT', 'PG', 'AZ', 'MK', 'GR', 'MX', 'TR', 'PF', 'VN', 'TH', 'FR', 'UG', 'NO', 'LV', 'GL', 'IT', 'JP', 'MV', 'CL', 'SI', 'PH', 'GB', 'ID')\n",
      "Fallback CF could not be computed for supplier=(('location', 'CA-QC'), ('name', 'gold-silver mine operation and beneficiation'), ('reference product', 'lead concentrate')), consumer=(('location', 'GLO'),) with candidate suppliers=('CA-QC',) and consumers=('AW', 'CW', 'GI', 'SX', 'MO', 'PM', 'PS', 'ST', 'TK', 'BQ', 'KM', 'KY', 'LU', 'MS', 'BN', 'CY', 'SH', 'SZ', 'WF', 'RW', 'SG', 'SL', 'TG', 'DJ', 'GM', 'IL', 'LB', 'VG', 'AD', 'BY', 'GD', 'GQ', 'TJ', 'TM', 'AG', 'ER', 'KG', 'NE', 'QA', 'SK', 'BO', 'KE', 'KW', 'ML', 'PK', 'SM', 'TV', 'VC', 'AT', 'BH', 'DM', 'GA', 'GH', 'SR', 'SS', 'ZM', 'ZW', 'BB', 'CM', 'CR', 'LC', 'LS', 'LT', 'NC', 'TO', 'ZA', 'AL', 'AM', 'BJ', 'CD', 'CG', 'GE', 'GY', 'JO', 'TC', 'BE', 'IS', 'NA', 'SO', 'CZ', 'ET', 'HT', 'JM', 'KN', 'MZ', 'NP', 'TL', 'AI', 'BW', 'BZ', 'FK', 'LR', 'OM', 'SY', 'BM', 'MA', 'MU', 'PL', 'SN', 'SV', 'TT', 'BI', 'CF', 'LA', 'MR', 'UZ', 'WS', 'IQ', 'PW', 'PY', 'SD', 'AO', 'DK', 'UY', 'BA', 'BT', 'EE', 'KP', 'NI', 'CI', 'GW', 'HK', 'GT', 'KZ', 'LY', 'ME', 'MH', 'MN', 'NL', 'TD', 'HN', 'SA', 'CV', 'MG', 'RS', 'TN', 'VU', 'BD', 'BG', 'PA', 'KH', 'KI', 'MW', 'YE', 'AE', 'AR', 'MY', 'PE', 'UA', 'LK', 'AF', 'DO', 'GN', 'TZ', 'PT', 'EG', 'DE', 'NZ', 'CH', 'EC', 'NG', 'IE', 'IR', 'MD', 'RO', 'CO', 'HU', 'BF', 'FJ', 'HR', 'DZ', 'SC', 'SB', 'VE', 'BS', 'MM', 'CU', 'FI', 'SE', 'KR', 'MT', 'PG', 'AZ', 'MK', 'GR', 'MX', 'TR', 'PF', 'VN', 'TH', 'FR', 'UG', 'NO', 'LV', 'GL', 'IT', 'JP', 'MV', 'CL', 'SI', 'PH', 'GB', 'ID')\n",
      "Fallback CF could not be computed for supplier=(('location', 'CA-QC'), ('name', 'primary zinc production from concentrate'), ('reference product', 'zinc')), consumer=(('location', 'GLO'),) with candidate suppliers=('CA-QC',) and consumers=('AW', 'CW', 'GI', 'SX', 'MO', 'PM', 'PS', 'ST', 'TK', 'BQ', 'KM', 'KY', 'LU', 'MS', 'BN', 'CY', 'SH', 'SZ', 'WF', 'RW', 'SG', 'SL', 'TG', 'DJ', 'GM', 'IL', 'LB', 'VG', 'AD', 'BY', 'GD', 'GQ', 'TJ', 'TM', 'AG', 'ER', 'KG', 'NE', 'QA', 'SK', 'BO', 'KE', 'KW', 'ML', 'PK', 'SM', 'TV', 'VC', 'AT', 'BH', 'DM', 'GA', 'GH', 'SR', 'SS', 'ZM', 'ZW', 'BB', 'CM', 'CR', 'LC', 'LS', 'LT', 'NC', 'TO', 'ZA', 'AL', 'AM', 'BJ', 'CD', 'CG', 'GE', 'GY', 'JO', 'TC', 'BE', 'IS', 'NA', 'SO', 'CZ', 'ET', 'HT', 'JM', 'KN', 'MZ', 'NP', 'TL', 'AI', 'BW', 'BZ', 'FK', 'LR', 'OM', 'SY', 'BM', 'MA', 'MU', 'PL', 'SN', 'SV', 'TT', 'BI', 'CF', 'LA', 'MR', 'UZ', 'WS', 'IQ', 'PW', 'PY', 'SD', 'AO', 'DK', 'UY', 'BA', 'BT', 'EE', 'KP', 'NI', 'CI', 'GW', 'HK', 'GT', 'KZ', 'LY', 'ME', 'MH', 'MN', 'NL', 'TD', 'HN', 'SA', 'CV', 'MG', 'RS', 'TN', 'VU', 'BD', 'BG', 'PA', 'KH', 'KI', 'MW', 'YE', 'AE', 'AR', 'MY', 'PE', 'UA', 'LK', 'AF', 'DO', 'GN', 'TZ', 'PT', 'EG', 'DE', 'NZ', 'CH', 'EC', 'NG', 'IE', 'IR', 'MD', 'RO', 'CO', 'HU', 'BF', 'FJ', 'HR', 'DZ', 'SC', 'SB', 'VE', 'BS', 'MM', 'CU', 'FI', 'SE', 'KR', 'MT', 'PG', 'AZ', 'MK', 'GR', 'MX', 'TR', 'PF', 'VN', 'TH', 'FR', 'UG', 'NO', 'LV', 'GL', 'IT', 'JP', 'MV', 'CL', 'SI', 'PH', 'GB', 'ID')\n",
      "Processing static groups (pass 2):  49%|█████████████████████████████████████████████████████████████████▌                                                                   | 140/284 [00:04<00:01, 120.48it/s]Fallback CF could not be computed for supplier=(('location', 'AR'), ('name', 'petroleum and gas production, offshore'), ('reference product', 'petroleum')), consumer=(('location', 'RNA'),) with candidate suppliers=('AR',) and consumers=('PM', 'BM', 'GL')\n",
      "Fallback CF could not be computed for supplier=(('location', 'AR'), ('name', 'petroleum and gas production, onshore'), ('reference product', 'petroleum')), consumer=(('location', 'RNA'),) with candidate suppliers=('AR',) and consumers=('PM', 'BM', 'GL')\n",
      "Processing static groups (pass 2):  54%|████████████████████████████████████████████████████████████████████████▋                                                             | 154/284 [00:04<00:01, 70.17it/s]Fallback CF could not be computed for supplier=(('location', 'IAI Area, South America'), ('name', 'aluminium production, primary, ingot'), ('reference product', 'aluminium, primary, ingot')), consumer=(('location', 'IAI Area, North America'),) with candidate suppliers=('AR', 'VE') and consumers=('IAI Area, North America',)\n",
      "Fallback CF could not be computed for supplier=(('location', 'CN-NM'), ('name', 'rare earth oxides production, from rare earth oxide concentrate, 50% REO'), ('reference product', 'praseodymium oxide')), consumer=(('location', 'GLO'),) with candidate suppliers=('CN-NM',) and consumers=('AW', 'CW', 'GI', 'SX', 'MO', 'PM', 'PS', 'ST', 'TK', 'BQ', 'KM', 'KY', 'LU', 'MS', 'BN', 'CY', 'SH', 'SZ', 'WF', 'RW', 'SG', 'SL', 'TG', 'DJ', 'GM', 'IL', 'LB', 'VG', 'AD', 'BY', 'GD', 'GQ', 'TJ', 'TM', 'AG', 'ER', 'KG', 'NE', 'QA', 'SK', 'BO', 'KE', 'KW', 'ML', 'PK', 'SM', 'TV', 'VC', 'AT', 'BH', 'DM', 'GA', 'GH', 'SR', 'SS', 'ZM', 'ZW', 'BB', 'CM', 'CR', 'LC', 'LS', 'LT', 'NC', 'TO', 'ZA', 'AL', 'AM', 'BJ', 'CD', 'CG', 'GE', 'GY', 'JO', 'TC', 'BE', 'IS', 'NA', 'SO', 'CZ', 'ET', 'HT', 'JM', 'KN', 'MZ', 'NP', 'TL', 'AI', 'BW', 'BZ', 'FK', 'LR', 'OM', 'SY', 'BM', 'MA', 'MU', 'PL', 'SN', 'SV', 'TT', 'BI', 'CF', 'LA', 'MR', 'UZ', 'WS', 'IQ', 'PW', 'PY', 'SD', 'AO', 'DK', 'UY', 'BA', 'BT', 'EE', 'KP', 'NI', 'CI', 'GW', 'HK', 'GT', 'KZ', 'LY', 'ME', 'MH', 'MN', 'NL', 'TD', 'HN', 'SA', 'CV', 'MG', 'RS', 'TN', 'VU', 'BD', 'BG', 'PA', 'KH', 'KI', 'MW', 'YE', 'AE', 'AR', 'MY', 'PE', 'UA', 'LK', 'AF', 'DO', 'GN', 'TZ', 'PT', 'EG', 'DE', 'NZ', 'CH', 'EC', 'NG', 'IE', 'IR', 'MD', 'RO', 'CO', 'HU', 'BF', 'FJ', 'HR', 'DZ', 'SC', 'SB', 'VE', 'BS', 'MM', 'CU', 'FI', 'SE', 'KR', 'MT', 'PG', 'AZ', 'MK', 'GR', 'MX', 'TR', 'PF', 'VN', 'TH', 'FR', 'UG', 'NO', 'LV', 'GL', 'IT', 'JP', 'MV', 'CL', 'SI', 'PH', 'GB', 'ID')\n",
      "Fallback CF could not be computed for supplier=(('location', 'CN-NM'), ('name', 'rare earth oxides production, from rare earth oxide concentrate, 50% REO'), ('reference product', 'samarium-europium-gadolinium oxide')), consumer=(('location', 'GLO'),) with candidate suppliers=('CN-NM',) and consumers=('AW', 'CW', 'GI', 'SX', 'MO', 'PM', 'PS', 'ST', 'TK', 'BQ', 'KM', 'KY', 'LU', 'MS', 'BN', 'CY', 'SH', 'SZ', 'WF', 'RW', 'SG', 'SL', 'TG', 'DJ', 'GM', 'IL', 'LB', 'VG', 'AD', 'BY', 'GD', 'GQ', 'TJ', 'TM', 'AG', 'ER', 'KG', 'NE', 'QA', 'SK', 'BO', 'KE', 'KW', 'ML', 'PK', 'SM', 'TV', 'VC', 'AT', 'BH', 'DM', 'GA', 'GH', 'SR', 'SS', 'ZM', 'ZW', 'BB', 'CM', 'CR', 'LC', 'LS', 'LT', 'NC', 'TO', 'ZA', 'AL', 'AM', 'BJ', 'CD', 'CG', 'GE', 'GY', 'JO', 'TC', 'BE', 'IS', 'NA', 'SO', 'CZ', 'ET', 'HT', 'JM', 'KN', 'MZ', 'NP', 'TL', 'AI', 'BW', 'BZ', 'FK', 'LR', 'OM', 'SY', 'BM', 'MA', 'MU', 'PL', 'SN', 'SV', 'TT', 'BI', 'CF', 'LA', 'MR', 'UZ', 'WS', 'IQ', 'PW', 'PY', 'SD', 'AO', 'DK', 'UY', 'BA', 'BT', 'EE', 'KP', 'NI', 'CI', 'GW', 'HK', 'GT', 'KZ', 'LY', 'ME', 'MH', 'MN', 'NL', 'TD', 'HN', 'SA', 'CV', 'MG', 'RS', 'TN', 'VU', 'BD', 'BG', 'PA', 'KH', 'KI', 'MW', 'YE', 'AE', 'AR', 'MY', 'PE', 'UA', 'LK', 'AF', 'DO', 'GN', 'TZ', 'PT', 'EG', 'DE', 'NZ', 'CH', 'EC', 'NG', 'IE', 'IR', 'MD', 'RO', 'CO', 'HU', 'BF', 'FJ', 'HR', 'DZ', 'SC', 'SB', 'VE', 'BS', 'MM', 'CU', 'FI', 'SE', 'KR', 'MT', 'PG', 'AZ', 'MK', 'GR', 'MX', 'TR', 'PF', 'VN', 'TH', 'FR', 'UG', 'NO', 'LV', 'GL', 'IT', 'JP', 'MV', 'CL', 'SI', 'PH', 'GB', 'ID')\n",
      "Fallback CF could not be computed for supplier=(('location', 'CN-NM'), ('name', 'rare earth oxides production, from rare earth oxide concentrate, 50% REO'), ('reference product', 'lanthanum oxide')), consumer=(('location', 'GLO'),) with candidate suppliers=('CN-NM',) and consumers=('AW', 'CW', 'GI', 'SX', 'MO', 'PM', 'PS', 'ST', 'TK', 'BQ', 'KM', 'KY', 'LU', 'MS', 'BN', 'CY', 'SH', 'SZ', 'WF', 'RW', 'SG', 'SL', 'TG', 'DJ', 'GM', 'IL', 'LB', 'VG', 'AD', 'BY', 'GD', 'GQ', 'TJ', 'TM', 'AG', 'ER', 'KG', 'NE', 'QA', 'SK', 'BO', 'KE', 'KW', 'ML', 'PK', 'SM', 'TV', 'VC', 'AT', 'BH', 'DM', 'GA', 'GH', 'SR', 'SS', 'ZM', 'ZW', 'BB', 'CM', 'CR', 'LC', 'LS', 'LT', 'NC', 'TO', 'ZA', 'AL', 'AM', 'BJ', 'CD', 'CG', 'GE', 'GY', 'JO', 'TC', 'BE', 'IS', 'NA', 'SO', 'CZ', 'ET', 'HT', 'JM', 'KN', 'MZ', 'NP', 'TL', 'AI', 'BW', 'BZ', 'FK', 'LR', 'OM', 'SY', 'BM', 'MA', 'MU', 'PL', 'SN', 'SV', 'TT', 'BI', 'CF', 'LA', 'MR', 'UZ', 'WS', 'IQ', 'PW', 'PY', 'SD', 'AO', 'DK', 'UY', 'BA', 'BT', 'EE', 'KP', 'NI', 'CI', 'GW', 'HK', 'GT', 'KZ', 'LY', 'ME', 'MH', 'MN', 'NL', 'TD', 'HN', 'SA', 'CV', 'MG', 'RS', 'TN', 'VU', 'BD', 'BG', 'PA', 'KH', 'KI', 'MW', 'YE', 'AE', 'AR', 'MY', 'PE', 'UA', 'LK', 'AF', 'DO', 'GN', 'TZ', 'PT', 'EG', 'DE', 'NZ', 'CH', 'EC', 'NG', 'IE', 'IR', 'MD', 'RO', 'CO', 'HU', 'BF', 'FJ', 'HR', 'DZ', 'SC', 'SB', 'VE', 'BS', 'MM', 'CU', 'FI', 'SE', 'KR', 'MT', 'PG', 'AZ', 'MK', 'GR', 'MX', 'TR', 'PF', 'VN', 'TH', 'FR', 'UG', 'NO', 'LV', 'GL', 'IT', 'JP', 'MV', 'CL', 'SI', 'PH', 'GB', 'ID')\n",
      "Fallback CF could not be computed for supplier=(('location', 'CN-NM'), ('name', 'rare earth oxides production, from rare earth oxide concentrate, 50% REO'), ('reference product', 'neodymium oxide')), consumer=(('location', 'GLO'),) with candidate suppliers=('CN-NM',) and consumers=('AW', 'CW', 'GI', 'SX', 'MO', 'PM', 'PS', 'ST', 'TK', 'BQ', 'KM', 'KY', 'LU', 'MS', 'BN', 'CY', 'SH', 'SZ', 'WF', 'RW', 'SG', 'SL', 'TG', 'DJ', 'GM', 'IL', 'LB', 'VG', 'AD', 'BY', 'GD', 'GQ', 'TJ', 'TM', 'AG', 'ER', 'KG', 'NE', 'QA', 'SK', 'BO', 'KE', 'KW', 'ML', 'PK', 'SM', 'TV', 'VC', 'AT', 'BH', 'DM', 'GA', 'GH', 'SR', 'SS', 'ZM', 'ZW', 'BB', 'CM', 'CR', 'LC', 'LS', 'LT', 'NC', 'TO', 'ZA', 'AL', 'AM', 'BJ', 'CD', 'CG', 'GE', 'GY', 'JO', 'TC', 'BE', 'IS', 'NA', 'SO', 'CZ', 'ET', 'HT', 'JM', 'KN', 'MZ', 'NP', 'TL', 'AI', 'BW', 'BZ', 'FK', 'LR', 'OM', 'SY', 'BM', 'MA', 'MU', 'PL', 'SN', 'SV', 'TT', 'BI', 'CF', 'LA', 'MR', 'UZ', 'WS', 'IQ', 'PW', 'PY', 'SD', 'AO', 'DK', 'UY', 'BA', 'BT', 'EE', 'KP', 'NI', 'CI', 'GW', 'HK', 'GT', 'KZ', 'LY', 'ME', 'MH', 'MN', 'NL', 'TD', 'HN', 'SA', 'CV', 'MG', 'RS', 'TN', 'VU', 'BD', 'BG', 'PA', 'KH', 'KI', 'MW', 'YE', 'AE', 'AR', 'MY', 'PE', 'UA', 'LK', 'AF', 'DO', 'GN', 'TZ', 'PT', 'EG', 'DE', 'NZ', 'CH', 'EC', 'NG', 'IE', 'IR', 'MD', 'RO', 'CO', 'HU', 'BF', 'FJ', 'HR', 'DZ', 'SC', 'SB', 'VE', 'BS', 'MM', 'CU', 'FI', 'SE', 'KR', 'MT', 'PG', 'AZ', 'MK', 'GR', 'MX', 'TR', 'PF', 'VN', 'TH', 'FR', 'UG', 'NO', 'LV', 'GL', 'IT', 'JP', 'MV', 'CL', 'SI', 'PH', 'GB', 'ID')\n",
      "Fallback CF could not be computed for supplier=(('location', 'CN-NM'), ('name', 'scandium oxide production, from rare earth tailings'), ('reference product', 'sulfur')), consumer=(('location', 'GLO'),) with candidate suppliers=('CN-NM',) and consumers=('AW', 'CW', 'GI', 'SX', 'MO', 'PM', 'PS', 'ST', 'TK', 'BQ', 'KM', 'KY', 'LU', 'MS', 'BN', 'CY', 'SH', 'SZ', 'WF', 'RW', 'SG', 'SL', 'TG', 'DJ', 'GM', 'IL', 'LB', 'VG', 'AD', 'BY', 'GD', 'GQ', 'TJ', 'TM', 'AG', 'ER', 'KG', 'NE', 'QA', 'SK', 'BO', 'KE', 'KW', 'ML', 'PK', 'SM', 'TV', 'VC', 'AT', 'BH', 'DM', 'GA', 'GH', 'SR', 'SS', 'ZM', 'ZW', 'BB', 'CM', 'CR', 'LC', 'LS', 'LT', 'NC', 'TO', 'ZA', 'AL', 'AM', 'BJ', 'CD', 'CG', 'GE', 'GY', 'JO', 'TC', 'BE', 'IS', 'NA', 'SO', 'CZ', 'ET', 'HT', 'JM', 'KN', 'MZ', 'NP', 'TL', 'AI', 'BW', 'BZ', 'FK', 'LR', 'OM', 'SY', 'BM', 'MA', 'MU', 'PL', 'SN', 'SV', 'TT', 'BI', 'CF', 'LA', 'MR', 'UZ', 'WS', 'IQ', 'PW', 'PY', 'SD', 'AO', 'DK', 'UY', 'BA', 'BT', 'EE', 'KP', 'NI', 'CI', 'GW', 'HK', 'GT', 'KZ', 'LY', 'ME', 'MH', 'MN', 'NL', 'TD', 'HN', 'SA', 'CV', 'MG', 'RS', 'TN', 'VU', 'BD', 'BG', 'PA', 'KH', 'KI', 'MW', 'YE', 'AE', 'AR', 'MY', 'PE', 'UA', 'LK', 'AF', 'DO', 'GN', 'TZ', 'PT', 'EG', 'DE', 'NZ', 'CH', 'EC', 'NG', 'IE', 'IR', 'MD', 'RO', 'CO', 'HU', 'BF', 'FJ', 'HR', 'DZ', 'SC', 'SB', 'VE', 'BS', 'MM', 'CU', 'FI', 'SE', 'KR', 'MT', 'PG', 'AZ', 'MK', 'GR', 'MX', 'TR', 'PF', 'VN', 'TH', 'FR', 'UG', 'NO', 'LV', 'GL', 'IT', 'JP', 'MV', 'CL', 'SI', 'PH', 'GB', 'ID')\n",
      "Fallback CF could not be computed for supplier=(('location', 'CN-NM'), ('name', 'rare earth oxides production, from rare earth oxide concentrate, 50% REO'), ('reference product', 'cerium oxide')), consumer=(('location', 'GLO'),) with candidate suppliers=('CN-NM',) and consumers=('AW', 'CW', 'GI', 'SX', 'MO', 'PM', 'PS', 'ST', 'TK', 'BQ', 'KM', 'KY', 'LU', 'MS', 'BN', 'CY', 'SH', 'SZ', 'WF', 'RW', 'SG', 'SL', 'TG', 'DJ', 'GM', 'IL', 'LB', 'VG', 'AD', 'BY', 'GD', 'GQ', 'TJ', 'TM', 'AG', 'ER', 'KG', 'NE', 'QA', 'SK', 'BO', 'KE', 'KW', 'ML', 'PK', 'SM', 'TV', 'VC', 'AT', 'BH', 'DM', 'GA', 'GH', 'SR', 'SS', 'ZM', 'ZW', 'BB', 'CM', 'CR', 'LC', 'LS', 'LT', 'NC', 'TO', 'ZA', 'AL', 'AM', 'BJ', 'CD', 'CG', 'GE', 'GY', 'JO', 'TC', 'BE', 'IS', 'NA', 'SO', 'CZ', 'ET', 'HT', 'JM', 'KN', 'MZ', 'NP', 'TL', 'AI', 'BW', 'BZ', 'FK', 'LR', 'OM', 'SY', 'BM', 'MA', 'MU', 'PL', 'SN', 'SV', 'TT', 'BI', 'CF', 'LA', 'MR', 'UZ', 'WS', 'IQ', 'PW', 'PY', 'SD', 'AO', 'DK', 'UY', 'BA', 'BT', 'EE', 'KP', 'NI', 'CI', 'GW', 'HK', 'GT', 'KZ', 'LY', 'ME', 'MH', 'MN', 'NL', 'TD', 'HN', 'SA', 'CV', 'MG', 'RS', 'TN', 'VU', 'BD', 'BG', 'PA', 'KH', 'KI', 'MW', 'YE', 'AE', 'AR', 'MY', 'PE', 'UA', 'LK', 'AF', 'DO', 'GN', 'TZ', 'PT', 'EG', 'DE', 'NZ', 'CH', 'EC', 'NG', 'IE', 'IR', 'MD', 'RO', 'CO', 'HU', 'BF', 'FJ', 'HR', 'DZ', 'SC', 'SB', 'VE', 'BS', 'MM', 'CU', 'FI', 'SE', 'KR', 'MT', 'PG', 'AZ', 'MK', 'GR', 'MX', 'TR', 'PF', 'VN', 'TH', 'FR', 'UG', 'NO', 'LV', 'GL', 'IT', 'JP', 'MV', 'CL', 'SI', 'PH', 'GB', 'ID')\n",
      "Fallback CF could not be computed for supplier=(('location', 'CN-NM'), ('name', 'rare earth oxides production, from rare earth oxide concentrate, 50% REO'), ('reference product', 'magnesium sulfate')), consumer=(('location', 'GLO'),) with candidate suppliers=('CN-NM',) and consumers=('AW', 'CW', 'GI', 'SX', 'MO', 'PM', 'PS', 'ST', 'TK', 'BQ', 'KM', 'KY', 'LU', 'MS', 'BN', 'CY', 'SH', 'SZ', 'WF', 'RW', 'SG', 'SL', 'TG', 'DJ', 'GM', 'IL', 'LB', 'VG', 'AD', 'BY', 'GD', 'GQ', 'TJ', 'TM', 'AG', 'ER', 'KG', 'NE', 'QA', 'SK', 'BO', 'KE', 'KW', 'ML', 'PK', 'SM', 'TV', 'VC', 'AT', 'BH', 'DM', 'GA', 'GH', 'SR', 'SS', 'ZM', 'ZW', 'BB', 'CM', 'CR', 'LC', 'LS', 'LT', 'NC', 'TO', 'ZA', 'AL', 'AM', 'BJ', 'CD', 'CG', 'GE', 'GY', 'JO', 'TC', 'BE', 'IS', 'NA', 'SO', 'CZ', 'ET', 'HT', 'JM', 'KN', 'MZ', 'NP', 'TL', 'AI', 'BW', 'BZ', 'FK', 'LR', 'OM', 'SY', 'BM', 'MA', 'MU', 'PL', 'SN', 'SV', 'TT', 'BI', 'CF', 'LA', 'MR', 'UZ', 'WS', 'IQ', 'PW', 'PY', 'SD', 'AO', 'DK', 'UY', 'BA', 'BT', 'EE', 'KP', 'NI', 'CI', 'GW', 'HK', 'GT', 'KZ', 'LY', 'ME', 'MH', 'MN', 'NL', 'TD', 'HN', 'SA', 'CV', 'MG', 'RS', 'TN', 'VU', 'BD', 'BG', 'PA', 'KH', 'KI', 'MW', 'YE', 'AE', 'AR', 'MY', 'PE', 'UA', 'LK', 'AF', 'DO', 'GN', 'TZ', 'PT', 'EG', 'DE', 'NZ', 'CH', 'EC', 'NG', 'IE', 'IR', 'MD', 'RO', 'CO', 'HU', 'BF', 'FJ', 'HR', 'DZ', 'SC', 'SB', 'VE', 'BS', 'MM', 'CU', 'FI', 'SE', 'KR', 'MT', 'PG', 'AZ', 'MK', 'GR', 'MX', 'TR', 'PF', 'VN', 'TH', 'FR', 'UG', 'NO', 'LV', 'GL', 'IT', 'JP', 'MV', 'CL', 'SI', 'PH', 'GB', 'ID')\n",
      "Fallback CF could not be computed for supplier=(('location', 'ID'), ('name', 'petroleum and gas production, offshore'), ('reference product', 'petroleum')), consumer=(('location', 'RNA'),) with candidate suppliers=('ID',) and consumers=('PM', 'BM', 'GL')\n",
      "Fallback CF could not be computed for supplier=(('location', 'ID'), ('name', 'petroleum and gas production, onshore'), ('reference product', 'petroleum')), consumer=(('location', 'RNA'),) with candidate suppliers=('ID',) and consumers=('PM', 'BM', 'GL')\n",
      "Fallback CF could not be computed for supplier=(('location', 'MY'), ('name', 'petroleum and gas production, offshore'), ('reference product', 'petroleum')), consumer=(('location', 'RNA'),) with candidate suppliers=('MY',) and consumers=('PM', 'BM', 'GL')\n",
      "Fallback CF could not be computed for supplier=(('location', 'MY'), ('name', 'petroleum and gas production, onshore'), ('reference product', 'petroleum')), consumer=(('location', 'RNA'),) with candidate suppliers=('MY',) and consumers=('PM', 'BM', 'GL')\n",
      "Fallback CF could not be computed for supplier=(('location', 'BR'), ('name', 'petroleum and gas production, onshore'), ('reference product', 'petroleum')), consumer=(('location', 'RNA'),) with candidate suppliers=('BR',) and consumers=('PM', 'BM', 'GL')\n",
      "Fallback CF could not be computed for supplier=(('location', 'BR'), ('name', 'petroleum and gas production, offshore'), ('reference product', 'petroleum')), consumer=(('location', 'RNA'),) with candidate suppliers=('BR',) and consumers=('PM', 'BM', 'GL')\n",
      "Fallback CF could not be computed for supplier=(('location', 'EG'), ('name', 'petroleum and gas production, onshore'), ('reference product', 'petroleum')), consumer=(('location', 'RNA'),) with candidate suppliers=('EG',) and consumers=('PM', 'BM', 'GL')\n",
      "Fallback CF could not be computed for supplier=(('location', 'EG'), ('name', 'petroleum and gas production, offshore'), ('reference product', 'petroleum')), consumer=(('location', 'RNA'),) with candidate suppliers=('EG',) and consumers=('PM', 'BM', 'GL')\n",
      "Fallback CF could not be computed for supplier=(('location', 'IAI Area, Gulf Cooperation Council'), ('name', 'aluminium production, primary, ingot'), ('reference product', 'aluminium, primary, ingot')), consumer=(('location', 'IAI Area, North America'),) with candidate suppliers=('QA', 'BH', 'OM', 'AE') and consumers=('IAI Area, North America',)\n",
      "Fallback CF could not be computed for supplier=(('location', 'DZ'), ('name', 'petroleum and gas production, onshore'), ('reference product', 'petroleum')), consumer=(('location', 'RNA'),) with candidate suppliers=('DZ',) and consumers=('PM', 'BM', 'GL')\n",
      "Fallback CF could not be computed for supplier=(('location', 'IAI Area, Africa'), ('name', 'aluminium production, primary, ingot'), ('reference product', 'aluminium, primary, ingot')), consumer=(('location', 'IAI Area, North America'),) with candidate suppliers=('GH', 'CM', 'ZA', 'MZ', 'EG', 'NG') and consumers=('IAI Area, North America',)\n",
      "Fallback CF could not be computed for supplier=(('location', 'DE'), ('name', 'uranium production, centrifuge, enriched 4.2%'), ('reference product', 'uranium, enriched 4.2%, per separative work unit')), consumer=(('location', 'GLO'),) with candidate suppliers=('DE',) and consumers=('AW', 'CW', 'GI', 'SX', 'MO', 'PM', 'PS', 'ST', 'TK', 'BQ', 'KM', 'KY', 'LU', 'MS', 'BN', 'CY', 'SH', 'SZ', 'WF', 'RW', 'SG', 'SL', 'TG', 'DJ', 'GM', 'IL', 'LB', 'VG', 'AD', 'BY', 'GD', 'GQ', 'TJ', 'TM', 'AG', 'ER', 'KG', 'NE', 'QA', 'SK', 'BO', 'KE', 'KW', 'ML', 'PK', 'SM', 'TV', 'VC', 'AT', 'BH', 'DM', 'GA', 'GH', 'SR', 'SS', 'ZM', 'ZW', 'BB', 'CM', 'CR', 'LC', 'LS', 'LT', 'NC', 'TO', 'ZA', 'AL', 'AM', 'BJ', 'CD', 'CG', 'GE', 'GY', 'JO', 'TC', 'BE', 'IS', 'NA', 'SO', 'CZ', 'ET', 'HT', 'JM', 'KN', 'MZ', 'NP', 'TL', 'AI', 'BW', 'BZ', 'FK', 'LR', 'OM', 'SY', 'BM', 'MA', 'MU', 'PL', 'SN', 'SV', 'TT', 'BI', 'CF', 'LA', 'MR', 'UZ', 'WS', 'IQ', 'PW', 'PY', 'SD', 'AO', 'DK', 'UY', 'BA', 'BT', 'EE', 'KP', 'NI', 'CI', 'GW', 'HK', 'GT', 'KZ', 'LY', 'ME', 'MH', 'MN', 'NL', 'TD', 'HN', 'SA', 'CV', 'MG', 'RS', 'TN', 'VU', 'BD', 'BG', 'PA', 'KH', 'KI', 'MW', 'YE', 'AE', 'AR', 'MY', 'PE', 'UA', 'LK', 'AF', 'DO', 'GN', 'TZ', 'PT', 'EG', 'DE', 'NZ', 'CH', 'EC', 'NG', 'IE', 'IR', 'MD', 'RO', 'CO', 'HU', 'BF', 'FJ', 'HR', 'DZ', 'SC', 'SB', 'VE', 'BS', 'MM', 'CU', 'FI', 'SE', 'KR', 'MT', 'PG', 'AZ', 'MK', 'GR', 'MX', 'TR', 'PF', 'VN', 'TH', 'FR', 'UG', 'NO', 'LV', 'GL', 'IT', 'JP', 'MV', 'CL', 'SI', 'PH', 'GB', 'ID')\n",
      "Processing static groups (pass 2):  70%|████████████████████████████████████████████████████████████████████████████████████████████▋                                        | 198/284 [00:04<00:00, 126.44it/s]Fallback CF could not be computed for supplier=(('location', 'DE'), ('name', 'uranium production, centrifuge, enriched 4.0%'), ('reference product', 'uranium, enriched 4.0%, per separative work unit')), consumer=(('location', 'GLO'),) with candidate suppliers=('DE',) and consumers=('AW', 'CW', 'GI', 'SX', 'MO', 'PM', 'PS', 'ST', 'TK', 'BQ', 'KM', 'KY', 'LU', 'MS', 'BN', 'CY', 'SH', 'SZ', 'WF', 'RW', 'SG', 'SL', 'TG', 'DJ', 'GM', 'IL', 'LB', 'VG', 'AD', 'BY', 'GD', 'GQ', 'TJ', 'TM', 'AG', 'ER', 'KG', 'NE', 'QA', 'SK', 'BO', 'KE', 'KW', 'ML', 'PK', 'SM', 'TV', 'VC', 'AT', 'BH', 'DM', 'GA', 'GH', 'SR', 'SS', 'ZM', 'ZW', 'BB', 'CM', 'CR', 'LC', 'LS', 'LT', 'NC', 'TO', 'ZA', 'AL', 'AM', 'BJ', 'CD', 'CG', 'GE', 'GY', 'JO', 'TC', 'BE', 'IS', 'NA', 'SO', 'CZ', 'ET', 'HT', 'JM', 'KN', 'MZ', 'NP', 'TL', 'AI', 'BW', 'BZ', 'FK', 'LR', 'OM', 'SY', 'BM', 'MA', 'MU', 'PL', 'SN', 'SV', 'TT', 'BI', 'CF', 'LA', 'MR', 'UZ', 'WS', 'IQ', 'PW', 'PY', 'SD', 'AO', 'DK', 'UY', 'BA', 'BT', 'EE', 'KP', 'NI', 'CI', 'GW', 'HK', 'GT', 'KZ', 'LY', 'ME', 'MH', 'MN', 'NL', 'TD', 'HN', 'SA', 'CV', 'MG', 'RS', 'TN', 'VU', 'BD', 'BG', 'PA', 'KH', 'KI', 'MW', 'YE', 'AE', 'AR', 'MY', 'PE', 'UA', 'LK', 'AF', 'DO', 'GN', 'TZ', 'PT', 'EG', 'DE', 'NZ', 'CH', 'EC', 'NG', 'IE', 'IR', 'MD', 'RO', 'CO', 'HU', 'BF', 'FJ', 'HR', 'DZ', 'SC', 'SB', 'VE', 'BS', 'MM', 'CU', 'FI', 'SE', 'KR', 'MT', 'PG', 'AZ', 'MK', 'GR', 'MX', 'TR', 'PF', 'VN', 'TH', 'FR', 'UG', 'NO', 'LV', 'GL', 'IT', 'JP', 'MV', 'CL', 'SI', 'PH', 'GB', 'ID')\n",
      "Fallback CF could not be computed for supplier=(('location', 'DE'), ('name', 'uranium production, centrifuge, enriched 3.8%'), ('reference product', 'uranium, enriched 3.8%, per separative work unit')), consumer=(('location', 'GLO'),) with candidate suppliers=('DE',) and consumers=('AW', 'CW', 'GI', 'SX', 'MO', 'PM', 'PS', 'ST', 'TK', 'BQ', 'KM', 'KY', 'LU', 'MS', 'BN', 'CY', 'SH', 'SZ', 'WF', 'RW', 'SG', 'SL', 'TG', 'DJ', 'GM', 'IL', 'LB', 'VG', 'AD', 'BY', 'GD', 'GQ', 'TJ', 'TM', 'AG', 'ER', 'KG', 'NE', 'QA', 'SK', 'BO', 'KE', 'KW', 'ML', 'PK', 'SM', 'TV', 'VC', 'AT', 'BH', 'DM', 'GA', 'GH', 'SR', 'SS', 'ZM', 'ZW', 'BB', 'CM', 'CR', 'LC', 'LS', 'LT', 'NC', 'TO', 'ZA', 'AL', 'AM', 'BJ', 'CD', 'CG', 'GE', 'GY', 'JO', 'TC', 'BE', 'IS', 'NA', 'SO', 'CZ', 'ET', 'HT', 'JM', 'KN', 'MZ', 'NP', 'TL', 'AI', 'BW', 'BZ', 'FK', 'LR', 'OM', 'SY', 'BM', 'MA', 'MU', 'PL', 'SN', 'SV', 'TT', 'BI', 'CF', 'LA', 'MR', 'UZ', 'WS', 'IQ', 'PW', 'PY', 'SD', 'AO', 'DK', 'UY', 'BA', 'BT', 'EE', 'KP', 'NI', 'CI', 'GW', 'HK', 'GT', 'KZ', 'LY', 'ME', 'MH', 'MN', 'NL', 'TD', 'HN', 'SA', 'CV', 'MG', 'RS', 'TN', 'VU', 'BD', 'BG', 'PA', 'KH', 'KI', 'MW', 'YE', 'AE', 'AR', 'MY', 'PE', 'UA', 'LK', 'AF', 'DO', 'GN', 'TZ', 'PT', 'EG', 'DE', 'NZ', 'CH', 'EC', 'NG', 'IE', 'IR', 'MD', 'RO', 'CO', 'HU', 'BF', 'FJ', 'HR', 'DZ', 'SC', 'SB', 'VE', 'BS', 'MM', 'CU', 'FI', 'SE', 'KR', 'MT', 'PG', 'AZ', 'MK', 'GR', 'MX', 'TR', 'PF', 'VN', 'TH', 'FR', 'UG', 'NO', 'LV', 'GL', 'IT', 'JP', 'MV', 'CL', 'SI', 'PH', 'GB', 'ID')\n",
      "Fallback CF could not be computed for supplier=(('location', 'DE'), ('name', 'uranium fuel element production, enriched 4%, for light water reactor'), ('reference product', 'uranium, enriched 4%, in fuel element for light water reactor')), consumer=(('location', 'GLO'),) with candidate suppliers=('DE',) and consumers=('AW', 'CW', 'GI', 'SX', 'MO', 'PM', 'PS', 'ST', 'TK', 'BQ', 'KM', 'KY', 'LU', 'MS', 'BN', 'CY', 'SH', 'SZ', 'WF', 'RW', 'SG', 'SL', 'TG', 'DJ', 'GM', 'IL', 'LB', 'VG', 'AD', 'BY', 'GD', 'GQ', 'TJ', 'TM', 'AG', 'ER', 'KG', 'NE', 'QA', 'SK', 'BO', 'KE', 'KW', 'ML', 'PK', 'SM', 'TV', 'VC', 'AT', 'BH', 'DM', 'GA', 'GH', 'SR', 'SS', 'ZM', 'ZW', 'BB', 'CM', 'CR', 'LC', 'LS', 'LT', 'NC', 'TO', 'ZA', 'AL', 'AM', 'BJ', 'CD', 'CG', 'GE', 'GY', 'JO', 'TC', 'BE', 'IS', 'NA', 'SO', 'CZ', 'ET', 'HT', 'JM', 'KN', 'MZ', 'NP', 'TL', 'AI', 'BW', 'BZ', 'FK', 'LR', 'OM', 'SY', 'BM', 'MA', 'MU', 'PL', 'SN', 'SV', 'TT', 'BI', 'CF', 'LA', 'MR', 'UZ', 'WS', 'IQ', 'PW', 'PY', 'SD', 'AO', 'DK', 'UY', 'BA', 'BT', 'EE', 'KP', 'NI', 'CI', 'GW', 'HK', 'GT', 'KZ', 'LY', 'ME', 'MH', 'MN', 'NL', 'TD', 'HN', 'SA', 'CV', 'MG', 'RS', 'TN', 'VU', 'BD', 'BG', 'PA', 'KH', 'KI', 'MW', 'YE', 'AE', 'AR', 'MY', 'PE', 'UA', 'LK', 'AF', 'DO', 'GN', 'TZ', 'PT', 'EG', 'DE', 'NZ', 'CH', 'EC', 'NG', 'IE', 'IR', 'MD', 'RO', 'CO', 'HU', 'BF', 'FJ', 'HR', 'DZ', 'SC', 'SB', 'VE', 'BS', 'MM', 'CU', 'FI', 'SE', 'KR', 'MT', 'PG', 'AZ', 'MK', 'GR', 'MX', 'TR', 'PF', 'VN', 'TH', 'FR', 'UG', 'NO', 'LV', 'GL', 'IT', 'JP', 'MV', 'CL', 'SI', 'PH', 'GB', 'ID')\n",
      "Fallback CF could not be computed for supplier=(('location', 'RNA'), ('name', 'uranium mine operation, open cast'), ('reference product', 'uranium ore, as U')), consumer=(('location', 'GLO'),) with candidate suppliers=('BM', 'GL') and consumers=('AW', 'CW', 'GI', 'SX', 'MO', 'PM', 'PS', 'ST', 'TK', 'BQ', 'KM', 'KY', 'LU', 'MS', 'BN', 'CY', 'SH', 'SZ', 'WF', 'RW', 'SG', 'SL', 'TG', 'DJ', 'GM', 'IL', 'LB', 'VG', 'AD', 'BY', 'GD', 'GQ', 'TJ', 'TM', 'AG', 'ER', 'KG', 'NE', 'QA', 'SK', 'BO', 'KE', 'KW', 'ML', 'PK', 'SM', 'TV', 'VC', 'AT', 'BH', 'DM', 'GA', 'GH', 'SR', 'SS', 'ZM', 'ZW', 'BB', 'CM', 'CR', 'LC', 'LS', 'LT', 'NC', 'TO', 'ZA', 'AL', 'AM', 'BJ', 'CD', 'CG', 'GE', 'GY', 'JO', 'TC', 'BE', 'IS', 'NA', 'SO', 'CZ', 'ET', 'HT', 'JM', 'KN', 'MZ', 'NP', 'TL', 'AI', 'BW', 'BZ', 'FK', 'LR', 'OM', 'SY', 'BM', 'MA', 'MU', 'PL', 'SN', 'SV', 'TT', 'BI', 'CF', 'LA', 'MR', 'UZ', 'WS', 'IQ', 'PW', 'PY', 'SD', 'AO', 'DK', 'UY', 'BA', 'BT', 'EE', 'KP', 'NI', 'CI', 'GW', 'HK', 'GT', 'KZ', 'LY', 'ME', 'MH', 'MN', 'NL', 'TD', 'HN', 'SA', 'CV', 'MG', 'RS', 'TN', 'VU', 'BD', 'BG', 'PA', 'KH', 'KI', 'MW', 'YE', 'AE', 'AR', 'MY', 'PE', 'UA', 'LK', 'AF', 'DO', 'GN', 'TZ', 'PT', 'EG', 'DE', 'NZ', 'CH', 'EC', 'NG', 'IE', 'IR', 'MD', 'RO', 'CO', 'HU', 'BF', 'FJ', 'HR', 'DZ', 'SC', 'SB', 'VE', 'BS', 'MM', 'CU', 'FI', 'SE', 'KR', 'MT', 'PG', 'AZ', 'MK', 'GR', 'MX', 'TR', 'PF', 'VN', 'TH', 'FR', 'UG', 'NO', 'LV', 'GL', 'IT', 'JP', 'MV', 'CL', 'SI', 'PH', 'GB', 'ID')\n",
      "Fallback CF could not be computed for supplier=(('location', 'RNA'), ('name', 'uranium mine operation, underground'), ('reference product', 'uranium ore, as U')), consumer=(('location', 'GLO'),) with candidate suppliers=('BM', 'GL') and consumers=('AW', 'CW', 'GI', 'SX', 'MO', 'PM', 'PS', 'ST', 'TK', 'BQ', 'KM', 'KY', 'LU', 'MS', 'BN', 'CY', 'SH', 'SZ', 'WF', 'RW', 'SG', 'SL', 'TG', 'DJ', 'GM', 'IL', 'LB', 'VG', 'AD', 'BY', 'GD', 'GQ', 'TJ', 'TM', 'AG', 'ER', 'KG', 'NE', 'QA', 'SK', 'BO', 'KE', 'KW', 'ML', 'PK', 'SM', 'TV', 'VC', 'AT', 'BH', 'DM', 'GA', 'GH', 'SR', 'SS', 'ZM', 'ZW', 'BB', 'CM', 'CR', 'LC', 'LS', 'LT', 'NC', 'TO', 'ZA', 'AL', 'AM', 'BJ', 'CD', 'CG', 'GE', 'GY', 'JO', 'TC', 'BE', 'IS', 'NA', 'SO', 'CZ', 'ET', 'HT', 'JM', 'KN', 'MZ', 'NP', 'TL', 'AI', 'BW', 'BZ', 'FK', 'LR', 'OM', 'SY', 'BM', 'MA', 'MU', 'PL', 'SN', 'SV', 'TT', 'BI', 'CF', 'LA', 'MR', 'UZ', 'WS', 'IQ', 'PW', 'PY', 'SD', 'AO', 'DK', 'UY', 'BA', 'BT', 'EE', 'KP', 'NI', 'CI', 'GW', 'HK', 'GT', 'KZ', 'LY', 'ME', 'MH', 'MN', 'NL', 'TD', 'HN', 'SA', 'CV', 'MG', 'RS', 'TN', 'VU', 'BD', 'BG', 'PA', 'KH', 'KI', 'MW', 'YE', 'AE', 'AR', 'MY', 'PE', 'UA', 'LK', 'AF', 'DO', 'GN', 'TZ', 'PT', 'EG', 'DE', 'NZ', 'CH', 'EC', 'NG', 'IE', 'IR', 'MD', 'RO', 'CO', 'HU', 'BF', 'FJ', 'HR', 'DZ', 'SC', 'SB', 'VE', 'BS', 'MM', 'CU', 'FI', 'SE', 'KR', 'MT', 'PG', 'AZ', 'MK', 'GR', 'MX', 'TR', 'PF', 'VN', 'TH', 'FR', 'UG', 'NO', 'LV', 'GL', 'IT', 'JP', 'MV', 'CL', 'SI', 'PH', 'GB', 'ID')\n",
      "Fallback CF could not be computed for supplier=(('location', 'RNA'), ('name', 'uranium production, in yellowcake'), ('reference product', 'uranium, in yellowcake')), consumer=(('location', 'GLO'),) with candidate suppliers=('BM', 'GL') and consumers=('AW', 'CW', 'GI', 'SX', 'MO', 'PM', 'PS', 'ST', 'TK', 'BQ', 'KM', 'KY', 'LU', 'MS', 'BN', 'CY', 'SH', 'SZ', 'WF', 'RW', 'SG', 'SL', 'TG', 'DJ', 'GM', 'IL', 'LB', 'VG', 'AD', 'BY', 'GD', 'GQ', 'TJ', 'TM', 'AG', 'ER', 'KG', 'NE', 'QA', 'SK', 'BO', 'KE', 'KW', 'ML', 'PK', 'SM', 'TV', 'VC', 'AT', 'BH', 'DM', 'GA', 'GH', 'SR', 'SS', 'ZM', 'ZW', 'BB', 'CM', 'CR', 'LC', 'LS', 'LT', 'NC', 'TO', 'ZA', 'AL', 'AM', 'BJ', 'CD', 'CG', 'GE', 'GY', 'JO', 'TC', 'BE', 'IS', 'NA', 'SO', 'CZ', 'ET', 'HT', 'JM', 'KN', 'MZ', 'NP', 'TL', 'AI', 'BW', 'BZ', 'FK', 'LR', 'OM', 'SY', 'BM', 'MA', 'MU', 'PL', 'SN', 'SV', 'TT', 'BI', 'CF', 'LA', 'MR', 'UZ', 'WS', 'IQ', 'PW', 'PY', 'SD', 'AO', 'DK', 'UY', 'BA', 'BT', 'EE', 'KP', 'NI', 'CI', 'GW', 'HK', 'GT', 'KZ', 'LY', 'ME', 'MH', 'MN', 'NL', 'TD', 'HN', 'SA', 'CV', 'MG', 'RS', 'TN', 'VU', 'BD', 'BG', 'PA', 'KH', 'KI', 'MW', 'YE', 'AE', 'AR', 'MY', 'PE', 'UA', 'LK', 'AF', 'DO', 'GN', 'TZ', 'PT', 'EG', 'DE', 'NZ', 'CH', 'EC', 'NG', 'IE', 'IR', 'MD', 'RO', 'CO', 'HU', 'BF', 'FJ', 'HR', 'DZ', 'SC', 'SB', 'VE', 'BS', 'MM', 'CU', 'FI', 'SE', 'KR', 'MT', 'PG', 'AZ', 'MK', 'GR', 'MX', 'TR', 'PF', 'VN', 'TH', 'FR', 'UG', 'NO', 'LV', 'GL', 'IT', 'JP', 'MV', 'CL', 'SI', 'PH', 'GB', 'ID')\n",
      "Fallback CF could not be computed for supplier=(('location', 'AE'), ('name', 'petroleum and gas production, onshore'), ('reference product', 'petroleum')), consumer=(('location', 'RNA'),) with candidate suppliers=('AE',) and consumers=('PM', 'BM', 'GL')\n",
      "Fallback CF could not be computed for supplier=(('location', 'AE'), ('name', 'petroleum and gas production, offshore'), ('reference product', 'petroleum')), consumer=(('location', 'RNA'),) with candidate suppliers=('AE',) and consumers=('PM', 'BM', 'GL')\n",
      "Fallback CF could not be computed for supplier=(('location', 'SA'), ('name', 'petroleum and gas production, offshore'), ('reference product', 'petroleum')), consumer=(('location', 'RNA'),) with candidate suppliers=('SA',) and consumers=('PM', 'BM', 'GL')\n",
      "Fallback CF could not be computed for supplier=(('location', 'SA'), ('name', 'petroleum and gas production, onshore'), ('reference product', 'petroleum')), consumer=(('location', 'RNA'),) with candidate suppliers=('SA',) and consumers=('PM', 'BM', 'GL')\n",
      "Fallback CF could not be computed for supplier=(('location', 'NL'), ('name', 'uranium production, centrifuge, enriched 4.0%'), ('reference product', 'uranium, enriched 4.0%, per separative work unit')), consumer=(('location', 'GLO'),) with candidate suppliers=('NL',) and consumers=('AW', 'CW', 'GI', 'SX', 'MO', 'PM', 'PS', 'ST', 'TK', 'BQ', 'KM', 'KY', 'LU', 'MS', 'BN', 'CY', 'SH', 'SZ', 'WF', 'RW', 'SG', 'SL', 'TG', 'DJ', 'GM', 'IL', 'LB', 'VG', 'AD', 'BY', 'GD', 'GQ', 'TJ', 'TM', 'AG', 'ER', 'KG', 'NE', 'QA', 'SK', 'BO', 'KE', 'KW', 'ML', 'PK', 'SM', 'TV', 'VC', 'AT', 'BH', 'DM', 'GA', 'GH', 'SR', 'SS', 'ZM', 'ZW', 'BB', 'CM', 'CR', 'LC', 'LS', 'LT', 'NC', 'TO', 'ZA', 'AL', 'AM', 'BJ', 'CD', 'CG', 'GE', 'GY', 'JO', 'TC', 'BE', 'IS', 'NA', 'SO', 'CZ', 'ET', 'HT', 'JM', 'KN', 'MZ', 'NP', 'TL', 'AI', 'BW', 'BZ', 'FK', 'LR', 'OM', 'SY', 'BM', 'MA', 'MU', 'PL', 'SN', 'SV', 'TT', 'BI', 'CF', 'LA', 'MR', 'UZ', 'WS', 'IQ', 'PW', 'PY', 'SD', 'AO', 'DK', 'UY', 'BA', 'BT', 'EE', 'KP', 'NI', 'CI', 'GW', 'HK', 'GT', 'KZ', 'LY', 'ME', 'MH', 'MN', 'NL', 'TD', 'HN', 'SA', 'CV', 'MG', 'RS', 'TN', 'VU', 'BD', 'BG', 'PA', 'KH', 'KI', 'MW', 'YE', 'AE', 'AR', 'MY', 'PE', 'UA', 'LK', 'AF', 'DO', 'GN', 'TZ', 'PT', 'EG', 'DE', 'NZ', 'CH', 'EC', 'NG', 'IE', 'IR', 'MD', 'RO', 'CO', 'HU', 'BF', 'FJ', 'HR', 'DZ', 'SC', 'SB', 'VE', 'BS', 'MM', 'CU', 'FI', 'SE', 'KR', 'MT', 'PG', 'AZ', 'MK', 'GR', 'MX', 'TR', 'PF', 'VN', 'TH', 'FR', 'UG', 'NO', 'LV', 'GL', 'IT', 'JP', 'MV', 'CL', 'SI', 'PH', 'GB', 'ID')\n",
      "Fallback CF could not be computed for supplier=(('location', 'NL'), ('name', 'uranium production, centrifuge, enriched 3.8%'), ('reference product', 'uranium, enriched 3.8%, per separative work unit')), consumer=(('location', 'GLO'),) with candidate suppliers=('NL',) and consumers=('AW', 'CW', 'GI', 'SX', 'MO', 'PM', 'PS', 'ST', 'TK', 'BQ', 'KM', 'KY', 'LU', 'MS', 'BN', 'CY', 'SH', 'SZ', 'WF', 'RW', 'SG', 'SL', 'TG', 'DJ', 'GM', 'IL', 'LB', 'VG', 'AD', 'BY', 'GD', 'GQ', 'TJ', 'TM', 'AG', 'ER', 'KG', 'NE', 'QA', 'SK', 'BO', 'KE', 'KW', 'ML', 'PK', 'SM', 'TV', 'VC', 'AT', 'BH', 'DM', 'GA', 'GH', 'SR', 'SS', 'ZM', 'ZW', 'BB', 'CM', 'CR', 'LC', 'LS', 'LT', 'NC', 'TO', 'ZA', 'AL', 'AM', 'BJ', 'CD', 'CG', 'GE', 'GY', 'JO', 'TC', 'BE', 'IS', 'NA', 'SO', 'CZ', 'ET', 'HT', 'JM', 'KN', 'MZ', 'NP', 'TL', 'AI', 'BW', 'BZ', 'FK', 'LR', 'OM', 'SY', 'BM', 'MA', 'MU', 'PL', 'SN', 'SV', 'TT', 'BI', 'CF', 'LA', 'MR', 'UZ', 'WS', 'IQ', 'PW', 'PY', 'SD', 'AO', 'DK', 'UY', 'BA', 'BT', 'EE', 'KP', 'NI', 'CI', 'GW', 'HK', 'GT', 'KZ', 'LY', 'ME', 'MH', 'MN', 'NL', 'TD', 'HN', 'SA', 'CV', 'MG', 'RS', 'TN', 'VU', 'BD', 'BG', 'PA', 'KH', 'KI', 'MW', 'YE', 'AE', 'AR', 'MY', 'PE', 'UA', 'LK', 'AF', 'DO', 'GN', 'TZ', 'PT', 'EG', 'DE', 'NZ', 'CH', 'EC', 'NG', 'IE', 'IR', 'MD', 'RO', 'CO', 'HU', 'BF', 'FJ', 'HR', 'DZ', 'SC', 'SB', 'VE', 'BS', 'MM', 'CU', 'FI', 'SE', 'KR', 'MT', 'PG', 'AZ', 'MK', 'GR', 'MX', 'TR', 'PF', 'VN', 'TH', 'FR', 'UG', 'NO', 'LV', 'GL', 'IT', 'JP', 'MV', 'CL', 'SI', 'PH', 'GB', 'ID')\n",
      "Fallback CF could not be computed for supplier=(('location', 'NL'), ('name', 'uranium production, centrifuge, enriched 4.2%'), ('reference product', 'uranium, enriched 4.2%, per separative work unit')), consumer=(('location', 'GLO'),) with candidate suppliers=('NL',) and consumers=('AW', 'CW', 'GI', 'SX', 'MO', 'PM', 'PS', 'ST', 'TK', 'BQ', 'KM', 'KY', 'LU', 'MS', 'BN', 'CY', 'SH', 'SZ', 'WF', 'RW', 'SG', 'SL', 'TG', 'DJ', 'GM', 'IL', 'LB', 'VG', 'AD', 'BY', 'GD', 'GQ', 'TJ', 'TM', 'AG', 'ER', 'KG', 'NE', 'QA', 'SK', 'BO', 'KE', 'KW', 'ML', 'PK', 'SM', 'TV', 'VC', 'AT', 'BH', 'DM', 'GA', 'GH', 'SR', 'SS', 'ZM', 'ZW', 'BB', 'CM', 'CR', 'LC', 'LS', 'LT', 'NC', 'TO', 'ZA', 'AL', 'AM', 'BJ', 'CD', 'CG', 'GE', 'GY', 'JO', 'TC', 'BE', 'IS', 'NA', 'SO', 'CZ', 'ET', 'HT', 'JM', 'KN', 'MZ', 'NP', 'TL', 'AI', 'BW', 'BZ', 'FK', 'LR', 'OM', 'SY', 'BM', 'MA', 'MU', 'PL', 'SN', 'SV', 'TT', 'BI', 'CF', 'LA', 'MR', 'UZ', 'WS', 'IQ', 'PW', 'PY', 'SD', 'AO', 'DK', 'UY', 'BA', 'BT', 'EE', 'KP', 'NI', 'CI', 'GW', 'HK', 'GT', 'KZ', 'LY', 'ME', 'MH', 'MN', 'NL', 'TD', 'HN', 'SA', 'CV', 'MG', 'RS', 'TN', 'VU', 'BD', 'BG', 'PA', 'KH', 'KI', 'MW', 'YE', 'AE', 'AR', 'MY', 'PE', 'UA', 'LK', 'AF', 'DO', 'GN', 'TZ', 'PT', 'EG', 'DE', 'NZ', 'CH', 'EC', 'NG', 'IE', 'IR', 'MD', 'RO', 'CO', 'HU', 'BF', 'FJ', 'HR', 'DZ', 'SC', 'SB', 'VE', 'BS', 'MM', 'CU', 'FI', 'SE', 'KR', 'MT', 'PG', 'AZ', 'MK', 'GR', 'MX', 'TR', 'PF', 'VN', 'TH', 'FR', 'UG', 'NO', 'LV', 'GL', 'IT', 'JP', 'MV', 'CL', 'SI', 'PH', 'GB', 'ID')\n",
      "Fallback CF could not be computed for supplier=(('location', 'UN-OCEANIA'), ('name', 'aluminium production, primary, ingot'), ('reference product', 'aluminium, primary, ingot')), consumer=(('location', 'IAI Area, North America'),) with candidate suppliers=('TK', 'NC', 'WS', 'PW', 'NZ', 'FJ', 'SB', 'PG', 'PF') and consumers=('IAI Area, North America',)\n",
      "Fallback CF could not be computed for supplier=(('location', 'AZ'), ('name', 'petroleum and gas production, offshore'), ('reference product', 'petroleum')), consumer=(('location', 'RNA'),) with candidate suppliers=('AZ',) and consumers=('PM', 'BM', 'GL')\n",
      "Fallback CF could not be computed for supplier=(('location', 'AZ'), ('name', 'petroleum and gas production, onshore'), ('reference product', 'petroleum')), consumer=(('location', 'RNA'),) with candidate suppliers=('AZ',) and consumers=('PM', 'BM', 'GL')\n",
      "Processing static groups (pass 2):  77%|██████████████████████████████████████████████████████████████████████████████████████████████████████                               | 218/284 [00:05<00:00, 135.88it/s]Fallback CF could not be computed for supplier=(('location', 'KW'), ('name', 'petroleum and gas production, onshore'), ('reference product', 'petroleum')), consumer=(('location', 'RNA'),) with candidate suppliers=('KW',) and consumers=('PM', 'BM', 'GL')\n",
      "Fallback CF could not be computed for supplier=(('location', 'KW'), ('name', 'petroleum and gas production, offshore'), ('reference product', 'petroleum')), consumer=(('location', 'RNA'),) with candidate suppliers=('KW',) and consumers=('PM', 'BM', 'GL')\n",
      "Fallback CF could not be computed for supplier=(('location', 'IQ'), ('name', 'petroleum and gas production, onshore'), ('reference product', 'petroleum')), consumer=(('location', 'RNA'),) with candidate suppliers=('IQ',) and consumers=('PM', 'BM', 'GL')\n",
      "Fallback CF could not be computed for supplier=(('location', 'US'), ('name', 'petroleum and gas production, onshore'), ('reference product', 'petroleum')), consumer=(('location', 'RNA'),) with candidate suppliers=('US',) and consumers=('PM', 'BM', 'GL')\n",
      "Fallback CF could not be computed for supplier=(('location', 'US'), ('name', 'petroleum and gas production, offshore'), ('reference product', 'petroleum')), consumer=(('location', 'RNA'),) with candidate suppliers=('US',) and consumers=('PM', 'BM', 'GL')\n",
      "Fallback CF could not be computed for supplier=(('location', 'NO'), ('name', 'petroleum and gas production, offshore'), ('reference product', 'petroleum')), consumer=(('location', 'RNA'),) with candidate suppliers=('NO',) and consumers=('PM', 'BM', 'GL')\n",
      "Fallback CF could not be computed for supplier=(('location', 'RNA'), ('name', 'hard coal, import from RLA'), ('reference product', 'hard coal')), consumer=(('location', 'RNA'),) with candidate suppliers=('BM', 'GL') and consumers=('PM', 'BM', 'GL')\n",
      "Fallback CF could not be computed for supplier=(('location', 'RNA'), ('name', 'hard coal mine operation and hard coal preparation'), ('reference product', 'hard coal')), consumer=(('location', 'RNA'),) with candidate suppliers=('BM', 'GL') and consumers=('PM', 'BM', 'GL')\n",
      "Fallback CF could not be computed for supplier=(('location', 'RNA'), ('name', 'monoammonium phosphate production'), ('reference product', 'monoammonium phosphate')), consumer=(('location', 'RNA'),) with candidate suppliers=('BM', 'GL') and consumers=('PM', 'BM', 'GL')\n",
      "Fallback CF could not be computed for supplier=(('location', 'RNA'), ('name', 'hard coal, import from AU'), ('reference product', 'hard coal')), consumer=(('location', 'RNA'),) with candidate suppliers=('BM', 'GL') and consumers=('PM', 'BM', 'GL')\n",
      "Processing static groups (pass 2):  83%|██████████████████████████████████████████████████████████████████████████████████████████████████████████████▉                      | 237/284 [00:05<00:00, 138.06it/s]Fallback CF could not be computed for supplier=(('location', 'RNA'), ('name', 'ammonium nitrate phosphate production'), ('reference product', 'ammonium nitrate phosphate')), consumer=(('location', 'RNA'),) with candidate suppliers=('BM', 'GL') and consumers=('PM', 'BM', 'GL')\n",
      "Fallback CF could not be computed for supplier=(('location', 'RNA'), ('name', 'diammonium phosphate production'), ('reference product', 'diammonium phosphate')), consumer=(('location', 'RNA'),) with candidate suppliers=('BM', 'GL') and consumers=('PM', 'BM', 'GL')\n",
      "Fallback CF could not be computed for supplier=(('location', 'RNA'), ('name', 'hard coal, import from ID'), ('reference product', 'hard coal')), consumer=(('location', 'RNA'),) with candidate suppliers=('BM', 'GL') and consumers=('PM', 'BM', 'GL')\n",
      "Fallback CF could not be computed for supplier=(('location', 'IAI Area, Russia & RER w/o EU27 & EFTA'), ('name', 'aluminium production, primary, ingot'), ('reference product', 'aluminium, primary, ingot')), consumer=(('location', 'IAI Area, North America'),) with candidate suppliers=('BA', 'ME') and consumers=('IAI Area, North America',)\n",
      "Fallback CF could not be computed for supplier=(('location', 'CD'), ('name', 'tantalum mine operation and beneficiation'), ('reference product', 'tantalum concentrate, 30% Ta2O5')), consumer=(('location', 'GLO'),) with candidate suppliers=('CD',) and consumers=('AW', 'CW', 'GI', 'SX', 'MO', 'PM', 'PS', 'ST', 'TK', 'BQ', 'KM', 'KY', 'LU', 'MS', 'BN', 'CY', 'SH', 'SZ', 'WF', 'RW', 'SG', 'SL', 'TG', 'DJ', 'GM', 'IL', 'LB', 'VG', 'AD', 'BY', 'GD', 'GQ', 'TJ', 'TM', 'AG', 'ER', 'KG', 'NE', 'QA', 'SK', 'BO', 'KE', 'KW', 'ML', 'PK', 'SM', 'TV', 'VC', 'AT', 'BH', 'DM', 'GA', 'GH', 'SR', 'SS', 'ZM', 'ZW', 'BB', 'CM', 'CR', 'LC', 'LS', 'LT', 'NC', 'TO', 'ZA', 'AL', 'AM', 'BJ', 'CD', 'CG', 'GE', 'GY', 'JO', 'TC', 'BE', 'IS', 'NA', 'SO', 'CZ', 'ET', 'HT', 'JM', 'KN', 'MZ', 'NP', 'TL', 'AI', 'BW', 'BZ', 'FK', 'LR', 'OM', 'SY', 'BM', 'MA', 'MU', 'PL', 'SN', 'SV', 'TT', 'BI', 'CF', 'LA', 'MR', 'UZ', 'WS', 'IQ', 'PW', 'PY', 'SD', 'AO', 'DK', 'UY', 'BA', 'BT', 'EE', 'KP', 'NI', 'CI', 'GW', 'HK', 'GT', 'KZ', 'LY', 'ME', 'MH', 'MN', 'NL', 'TD', 'HN', 'SA', 'CV', 'MG', 'RS', 'TN', 'VU', 'BD', 'BG', 'PA', 'KH', 'KI', 'MW', 'YE', 'AE', 'AR', 'MY', 'PE', 'UA', 'LK', 'AF', 'DO', 'GN', 'TZ', 'PT', 'EG', 'DE', 'NZ', 'CH', 'EC', 'NG', 'IE', 'IR', 'MD', 'RO', 'CO', 'HU', 'BF', 'FJ', 'HR', 'DZ', 'SC', 'SB', 'VE', 'BS', 'MM', 'CU', 'FI', 'SE', 'KR', 'MT', 'PG', 'AZ', 'MK', 'GR', 'MX', 'TR', 'PF', 'VN', 'TH', 'FR', 'UG', 'NO', 'LV', 'GL', 'IT', 'JP', 'MV', 'CL', 'SI', 'PH', 'GB', 'ID')\n",
      "Fallback CF could not be computed for supplier=(('location', 'IAI Area, Asia, without China and GCC'), ('name', 'aluminium production, primary, ingot'), ('reference product', 'aluminium, primary, ingot')), consumer=(('location', 'IAI Area, North America'),) with candidate suppliers=('TJ', 'KP', 'KZ', 'IR', 'AZ', 'TR', 'JP', 'ID') and consumers=('IAI Area, North America',)\n",
      "Fallback CF could not be computed for supplier=(('location', 'LY'), ('name', 'petroleum and gas production, onshore'), ('reference product', 'petroleum')), consumer=(('location', 'RNA'),) with candidate suppliers=('LY',) and consumers=('PM', 'BM', 'GL')\n",
      "Fallback CF could not be computed for supplier=(('location', 'LY'), ('name', 'petroleum and gas production, offshore'), ('reference product', 'petroleum')), consumer=(('location', 'RNA'),) with candidate suppliers=('LY',) and consumers=('PM', 'BM', 'GL')\n",
      "Fallback CF could not be computed for supplier=(('location', 'KZ'), ('name', 'petroleum and gas production, offshore'), ('reference product', 'petroleum')), consumer=(('location', 'RNA'),) with candidate suppliers=('KZ',) and consumers=('PM', 'BM', 'GL')\n",
      "Fallback CF could not be computed for supplier=(('location', 'KZ'), ('name', 'petroleum and gas production, onshore'), ('reference product', 'petroleum')), consumer=(('location', 'RNA'),) with candidate suppliers=('KZ',) and consumers=('PM', 'BM', 'GL')\n",
      "Fallback CF could not be computed for supplier=(('location', 'GB'), ('name', 'petroleum and gas production, onshore'), ('reference product', 'petroleum')), consumer=(('location', 'RNA'),) with candidate suppliers=('GB',) and consumers=('PM', 'BM', 'GL')\n",
      "Fallback CF could not be computed for supplier=(('location', 'GB'), ('name', 'petroleum and gas production, offshore'), ('reference product', 'petroleum')), consumer=(('location', 'RNA'),) with candidate suppliers=('GB',) and consumers=('PM', 'BM', 'GL')\n",
      "Fallback CF could not be computed for supplier=(('location', 'PE'), ('name', 'petroleum and gas production, offshore'), ('reference product', 'petroleum')), consumer=(('location', 'RNA'),) with candidate suppliers=('PE',) and consumers=('PM', 'BM', 'GL')\n",
      "Fallback CF could not be computed for supplier=(('location', 'PE'), ('name', 'petroleum and gas production, onshore'), ('reference product', 'petroleum')), consumer=(('location', 'RNA'),) with candidate suppliers=('PE',) and consumers=('PM', 'BM', 'GL')\n",
      "Processing static groups (pass 2):  92%|███████████████████████████████████████████████████████████████████████████████████████████████████████████████████████████▌          | 262/284 [00:05<00:00, 97.19it/s]Fallback CF could not be computed for supplier=(('location', 'UZ'), ('name', 'petroleum and gas production, onshore'), ('reference product', 'petroleum')), consumer=(('location', 'Europe without Switzerland'),) with candidate suppliers=('UZ',) and consumers=('GI', 'LU', 'AD', 'BY', 'SK', 'SM', 'AT', 'LT', 'AL', 'BE', 'IS', 'CZ', 'PL', 'DK', 'BA', 'EE', 'ME', 'NL', 'RS', 'BG', 'UA', 'PT', 'DE', 'IE', 'MD', 'RO', 'HU', 'HR', 'FI', 'SE', 'MT', 'MK', 'GR', 'FR', 'NO', 'LV', 'IT', 'SI', 'GB')\n",
      "Fallback CF could not be computed for supplier=(('location', 'CO'), ('name', 'petroleum and gas production, onshore'), ('reference product', 'petroleum')), consumer=(('location', 'RNA'),) with candidate suppliers=('CO',) and consumers=('PM', 'BM', 'GL')\n",
      "Fallback CF could not be computed for supplier=(('location', 'CO'), ('name', 'petroleum and gas production, offshore'), ('reference product', 'petroleum')), consumer=(('location', 'RNA'),) with candidate suppliers=('CO',) and consumers=('PM', 'BM', 'GL')\n",
      "Fallback CF could not be computed for supplier=(('location', 'RW'), ('name', 'tantalum mine operation and beneficiation'), ('reference product', 'tantalum concentrate, 30% Ta2O5')), consumer=(('location', 'GLO'),) with candidate suppliers=('RW',) and consumers=('AW', 'CW', 'GI', 'SX', 'MO', 'PM', 'PS', 'ST', 'TK', 'BQ', 'KM', 'KY', 'LU', 'MS', 'BN', 'CY', 'SH', 'SZ', 'WF', 'RW', 'SG', 'SL', 'TG', 'DJ', 'GM', 'IL', 'LB', 'VG', 'AD', 'BY', 'GD', 'GQ', 'TJ', 'TM', 'AG', 'ER', 'KG', 'NE', 'QA', 'SK', 'BO', 'KE', 'KW', 'ML', 'PK', 'SM', 'TV', 'VC', 'AT', 'BH', 'DM', 'GA', 'GH', 'SR', 'SS', 'ZM', 'ZW', 'BB', 'CM', 'CR', 'LC', 'LS', 'LT', 'NC', 'TO', 'ZA', 'AL', 'AM', 'BJ', 'CD', 'CG', 'GE', 'GY', 'JO', 'TC', 'BE', 'IS', 'NA', 'SO', 'CZ', 'ET', 'HT', 'JM', 'KN', 'MZ', 'NP', 'TL', 'AI', 'BW', 'BZ', 'FK', 'LR', 'OM', 'SY', 'BM', 'MA', 'MU', 'PL', 'SN', 'SV', 'TT', 'BI', 'CF', 'LA', 'MR', 'UZ', 'WS', 'IQ', 'PW', 'PY', 'SD', 'AO', 'DK', 'UY', 'BA', 'BT', 'EE', 'KP', 'NI', 'CI', 'GW', 'HK', 'GT', 'KZ', 'LY', 'ME', 'MH', 'MN', 'NL', 'TD', 'HN', 'SA', 'CV', 'MG', 'RS', 'TN', 'VU', 'BD', 'BG', 'PA', 'KH', 'KI', 'MW', 'YE', 'AE', 'AR', 'MY', 'PE', 'UA', 'LK', 'AF', 'DO', 'GN', 'TZ', 'PT', 'EG', 'DE', 'NZ', 'CH', 'EC', 'NG', 'IE', 'IR', 'MD', 'RO', 'CO', 'HU', 'BF', 'FJ', 'HR', 'DZ', 'SC', 'SB', 'VE', 'BS', 'MM', 'CU', 'FI', 'SE', 'KR', 'MT', 'PG', 'AZ', 'MK', 'GR', 'MX', 'TR', 'PF', 'VN', 'TH', 'FR', 'UG', 'NO', 'LV', 'GL', 'IT', 'JP', 'MV', 'CL', 'SI', 'PH', 'GB', 'ID')\n",
      "Fallback CF could not be computed for supplier=(('location', 'MX'), ('name', 'petroleum and gas production, onshore'), ('reference product', 'petroleum')), consumer=(('location', 'Europe without Switzerland'),) with candidate suppliers=('MX',) and consumers=('GI', 'LU', 'AD', 'BY', 'SK', 'SM', 'AT', 'LT', 'AL', 'BE', 'IS', 'CZ', 'PL', 'DK', 'BA', 'EE', 'ME', 'NL', 'RS', 'BG', 'UA', 'PT', 'DE', 'IE', 'MD', 'RO', 'HU', 'HR', 'FI', 'SE', 'MT', 'MK', 'GR', 'FR', 'NO', 'LV', 'IT', 'SI', 'GB')\n",
      "Fallback CF could not be computed for supplier=(('location', 'MX'), ('name', 'petroleum and gas production, offshore'), ('reference product', 'petroleum')), consumer=(('location', 'Europe without Switzerland'),) with candidate suppliers=('MX',) and consumers=('GI', 'LU', 'AD', 'BY', 'SK', 'SM', 'AT', 'LT', 'AL', 'BE', 'IS', 'CZ', 'PL', 'DK', 'BA', 'EE', 'ME', 'NL', 'RS', 'BG', 'UA', 'PT', 'DE', 'IE', 'MD', 'RO', 'HU', 'HR', 'FI', 'SE', 'MT', 'MK', 'GR', 'FR', 'NO', 'LV', 'IT', 'SI', 'GB')\n",
      "Processing static groups (pass 2):  97%|█████████████████████████████████████████████████████████████████████████████████████████████████████████████████████████████████▎   | 276/284 [00:05<00:00, 103.04it/s]Fallback CF could not be computed for supplier=(('location', 'PG'), ('name', 'gold-silver mine operation with refinery'), ('reference product', 'silver')), consumer=(('location', 'GLO'),) with candidate suppliers=('PG',) and consumers=('AW', 'CW', 'GI', 'SX', 'MO', 'PM', 'PS', 'ST', 'TK', 'BQ', 'KM', 'KY', 'LU', 'MS', 'BN', 'CY', 'SH', 'SZ', 'WF', 'RW', 'SG', 'SL', 'TG', 'DJ', 'GM', 'IL', 'LB', 'VG', 'AD', 'BY', 'GD', 'GQ', 'TJ', 'TM', 'AG', 'ER', 'KG', 'NE', 'QA', 'SK', 'BO', 'KE', 'KW', 'ML', 'PK', 'SM', 'TV', 'VC', 'AT', 'BH', 'DM', 'GA', 'GH', 'SR', 'SS', 'ZM', 'ZW', 'BB', 'CM', 'CR', 'LC', 'LS', 'LT', 'NC', 'TO', 'ZA', 'AL', 'AM', 'BJ', 'CD', 'CG', 'GE', 'GY', 'JO', 'TC', 'BE', 'IS', 'NA', 'SO', 'CZ', 'ET', 'HT', 'JM', 'KN', 'MZ', 'NP', 'TL', 'AI', 'BW', 'BZ', 'FK', 'LR', 'OM', 'SY', 'BM', 'MA', 'MU', 'PL', 'SN', 'SV', 'TT', 'BI', 'CF', 'LA', 'MR', 'UZ', 'WS', 'IQ', 'PW', 'PY', 'SD', 'AO', 'DK', 'UY', 'BA', 'BT', 'EE', 'KP', 'NI', 'CI', 'GW', 'HK', 'GT', 'KZ', 'LY', 'ME', 'MH', 'MN', 'NL', 'TD', 'HN', 'SA', 'CV', 'MG', 'RS', 'TN', 'VU', 'BD', 'BG', 'PA', 'KH', 'KI', 'MW', 'YE', 'AE', 'AR', 'MY', 'PE', 'UA', 'LK', 'AF', 'DO', 'GN', 'TZ', 'PT', 'EG', 'DE', 'NZ', 'CH', 'EC', 'NG', 'IE', 'IR', 'MD', 'RO', 'CO', 'HU', 'BF', 'FJ', 'HR', 'DZ', 'SC', 'SB', 'VE', 'BS', 'MM', 'CU', 'FI', 'SE', 'KR', 'MT', 'PG', 'AZ', 'MK', 'GR', 'MX', 'TR', 'PF', 'VN', 'TH', 'FR', 'UG', 'NO', 'LV', 'GL', 'IT', 'JP', 'MV', 'CL', 'SI', 'PH', 'GB', 'ID')\n",
      "Processing static groups (pass 2): 100%|██████████████████████████████████████████████████████████████████████████████████████████████████████████████████████████████████████| 284/284 [00:05<00:00, 49.99it/s]\n"
     ]
    },
    {
     "name": "stdout",
     "output_type": "stream",
     "text": [
      "Processed edges: 387\n",
      "Handling dynamic regions...\n"
     ]
    },
    {
     "name": "stderr",
     "output_type": "stream",
     "text": [
      "US-PR not found in regex\n",
      "IN-DD not found in regex\n",
      "Processing dynamic groups (pass 1): 0it [00:00, ?it/s]\n",
      "Processing dynamic groups (pass 2): 0it [00:00, ?it/s]\n",
      "Processing dynamic groups (pass 1): 0it [00:00, ?it/s]\n",
      "Processing dynamic groups (pass 2):   4%|█████▏                                                                                                                                | 13/335 [00:00<00:19, 16.52it/s]Fallback CF could not be computed for supplier=(('location', 'RoW'), ('name', 'uranium fuel element production, enriched 3.8%, for light water reactor'), ('reference product', 'uranium, enriched 3.8%, in fuel element for light water reactor')), consumer=(('location', 'GLO'),) with candidate suppliers=('AW', 'CW', 'GI', 'SX', 'MO', 'PS', 'ST', 'TK', 'KM', 'KY', 'LU', 'BN', 'CY', 'SZ', 'RW', 'SG', 'SL', 'TG', 'DJ', 'GM', 'IL', 'LB', 'VG', 'AD', 'BY', 'GQ', 'TJ', 'TM', 'AG', 'ER', 'KG', 'NE', 'QA', 'SK', 'BO', 'KE', 'KW', 'ML', 'PK', 'SM', 'VC', 'AT', 'BH', 'DM', 'GA', 'GH', 'SR', 'SS', 'ZM', 'ZW', 'BB', 'CM', 'CR', 'LC', 'LS', 'LT', 'NC', 'ZA', 'AL', 'AM', 'BJ', 'CD', 'CG', 'GE', 'GY', 'JO', 'TC', 'BE', 'IS', 'NA', 'SO', 'CZ', 'ET', 'HT', 'JM', 'KN', 'MZ', 'NP', 'TL', 'BW', 'BZ', 'LR', 'OM', 'SY', 'BM', 'MA', 'MU', 'PL', 'SN', 'SV', 'TT', 'BI', 'CF', 'LA', 'MR', 'UZ', 'WS', 'IQ', 'PW', 'PY', 'SD', 'AO', 'DK', 'UY', 'BA', 'BT', 'EE', 'KP', 'NI', 'CI', 'HK', 'GT', 'KZ', 'LY', 'ME', 'MN', 'NL', 'TD', 'HN', 'SA', 'CV', 'MG', 'RS', 'TN', 'BD', 'BG', 'PA', 'KH', 'MW', 'YE', 'AE', 'AR', 'MY', 'PE', 'UA', 'LK', 'AF', 'DO', 'GN', 'TZ', 'PT', 'EG', 'DE', 'NZ', 'CH', 'EC', 'NG', 'IE', 'IR', 'MD', 'RO', 'CO', 'HU', 'BF', 'FJ', 'HR', 'DZ', 'SC', 'SB', 'VE', 'BS', 'MM', 'CU', 'FI', 'SE', 'KR', 'MT', 'PG', 'AZ', 'MK', 'GR', 'MX', 'TR', 'PF', 'VN', 'TH', 'FR', 'UG', 'NO', 'LV', 'GL', 'IT', 'JP', 'MV', 'CL', 'SI', 'PH', 'GB', 'ID') and consumers=('GLO',)\n",
      "Processing dynamic groups (pass 2):   7%|████████▊                                                                                                                             | 22/335 [00:01<00:12, 24.37it/s]Fallback CF could not be computed for supplier=(('location', 'VE'), ('name', 'petroleum and gas production, onshore'), ('reference product', 'petroleum')), consumer=(('location', 'RoW'),) with candidate suppliers=('VE',) and consumers=('AW', 'CW', 'SX', 'MO', 'PS', 'ST', 'TK', 'BQ', 'KM', 'KY', 'MS', 'BN', 'CY', 'SH', 'SZ', 'WF', 'RW', 'SG', 'SL', 'TG', 'DJ', 'GM', 'IL', 'LB', 'VG', 'GD', 'GQ', 'TJ', 'TM', 'AG', 'ER', 'KG', 'NE', 'QA', 'BO', 'KE', 'KW', 'ML', 'PK', 'TV', 'VC', 'BH', 'DM', 'GA', 'GH', 'SR', 'SS', 'ZM', 'ZW', 'BB', 'CM', 'CR', 'LC', 'LS', 'NC', 'TO', 'ZA', 'AM', 'BJ', 'CD', 'CG', 'GE', 'GY', 'JO', 'TC', 'NA', 'SO', 'ET', 'HT', 'JM', 'KN', 'MZ', 'NP', 'TL', 'AI', 'BW', 'BZ', 'FK', 'LR', 'OM', 'SY', 'MA', 'MU', 'SN', 'SV', 'TT', 'BI', 'CF', 'LA', 'MR', 'UZ', 'WS', 'IQ', 'PW', 'PY', 'SD', 'AO', 'UY', 'BT', 'KP', 'NI', 'CI', 'GW', 'HK', 'GT', 'KZ', 'LY', 'MH', 'MN', 'TD', 'HN', 'SA', 'CV', 'MG', 'TN', 'VU', 'BD', 'PA', 'KH', 'KI', 'MW', 'YE', 'AE', 'AR', 'MY', 'PE', 'LK', 'AF', 'DO', 'GN', 'TZ', 'EG', 'NZ', 'CH', 'EC', 'NG', 'IR', 'CO', 'BF', 'FJ', 'DZ', 'SC', 'SB', 'VE', 'BS', 'MM', 'CU', 'KR', 'PG', 'AZ', 'MX', 'TR', 'PF', 'VN', 'TH', 'UG', 'JP', 'MV', 'CL', 'PH', 'ID')\n",
      "Processing dynamic groups (pass 2):  10%|██████████████                                                                                                                        | 35/335 [00:01<00:07, 41.36it/s]Fallback CF could not be computed for supplier=(('location', 'RoW'), ('name', 'natural gas, high pressure, import from QA'), ('reference product', 'natural gas, high pressure')), consumer=(('location', 'TW'),) with candidate suppliers=('AW', 'CW', 'GI', 'SX', 'MO', 'PS', 'ST', 'TK', 'KM', 'KY', 'LU', 'BN', 'CY', 'SZ', 'RW', 'SG', 'SL', 'TG', 'DJ', 'GM', 'IL', 'LB', 'VG', 'AD', 'BY', 'GQ', 'TJ', 'TM', 'AG', 'ER', 'KG', 'NE', 'QA', 'SK', 'BO', 'KE', 'KW', 'ML', 'PK', 'SM', 'VC', 'AT', 'BH', 'DM', 'GA', 'GH', 'SR', 'SS', 'ZM', 'ZW', 'BB', 'CM', 'CR', 'LC', 'LS', 'LT', 'NC', 'ZA', 'AL', 'AM', 'BJ', 'CD', 'CG', 'GE', 'GY', 'JO', 'TC', 'BE', 'IS', 'NA', 'SO', 'CZ', 'ET', 'HT', 'JM', 'KN', 'MZ', 'NP', 'TL', 'BW', 'BZ', 'LR', 'OM', 'SY', 'BM', 'MA', 'MU', 'PL', 'SN', 'SV', 'TT', 'BI', 'CF', 'LA', 'MR', 'UZ', 'WS', 'IQ', 'PW', 'PY', 'SD', 'AO', 'DK', 'UY', 'BA', 'BT', 'EE', 'KP', 'NI', 'CI', 'HK', 'GT', 'KZ', 'LY', 'ME', 'MN', 'NL', 'TD', 'HN', 'SA', 'CV', 'MG', 'RS', 'TN', 'BD', 'BG', 'PA', 'KH', 'MW', 'YE', 'AE', 'AR', 'MY', 'PE', 'UA', 'LK', 'AF', 'DO', 'GN', 'TZ', 'PT', 'EG', 'DE', 'NZ', 'CH', 'EC', 'NG', 'IE', 'IR', 'MD', 'RO', 'CO', 'HU', 'BF', 'FJ', 'HR', 'DZ', 'SC', 'SB', 'VE', 'BS', 'MM', 'CU', 'FI', 'SE', 'KR', 'MT', 'PG', 'AZ', 'MK', 'GR', 'MX', 'TR', 'PF', 'VN', 'TH', 'FR', 'UG', 'NO', 'LV', 'GL', 'IT', 'JP', 'MV', 'CL', 'SI', 'PH', 'GB', 'ID') and consumers=('TW',)\n",
      "Processing dynamic groups (pass 2):  14%|██████████████████▊                                                                                                                   | 47/335 [00:01<00:11, 25.65it/s]Fallback CF could not be computed for supplier=(('location', 'CA-QC'), ('name', 'primary zinc production from concentrate'), ('reference product', 'sulfuric acid')), consumer=(('location', 'RoW'),) with candidate suppliers=('CA-QC',) and consumers=('AW', 'CW', 'SX', 'MO', 'PM', 'PS', 'ST', 'TK', 'BQ', 'KM', 'KY', 'MS', 'BN', 'CY', 'SH', 'SZ', 'WF', 'RW', 'SG', 'SL', 'TG', 'DJ', 'GM', 'IL', 'LB', 'VG', 'GD', 'GQ', 'TJ', 'TM', 'AG', 'ER', 'KG', 'NE', 'QA', 'BO', 'KE', 'KW', 'ML', 'PK', 'TV', 'VC', 'BH', 'DM', 'GA', 'GH', 'SR', 'SS', 'ZM', 'ZW', 'BB', 'CM', 'CR', 'LC', 'LS', 'NC', 'TO', 'ZA', 'AM', 'BJ', 'CD', 'CG', 'GE', 'GY', 'JO', 'TC', 'NA', 'SO', 'ET', 'HT', 'JM', 'KN', 'MZ', 'NP', 'TL', 'AI', 'BW', 'BZ', 'FK', 'LR', 'OM', 'SY', 'BM', 'MA', 'MU', 'SN', 'SV', 'TT', 'BI', 'CF', 'LA', 'MR', 'UZ', 'WS', 'IQ', 'PW', 'PY', 'SD', 'AO', 'UY', 'BT', 'KP', 'NI', 'CI', 'GW', 'HK', 'GT', 'KZ', 'LY', 'MH', 'MN', 'TD', 'HN', 'SA', 'CV', 'MG', 'TN', 'VU', 'BD', 'PA', 'KH', 'KI', 'MW', 'YE', 'AE', 'AR', 'MY', 'PE', 'LK', 'AF', 'DO', 'GN', 'TZ', 'EG', 'NZ', 'EC', 'NG', 'IR', 'CO', 'BF', 'FJ', 'DZ', 'SC', 'SB', 'VE', 'BS', 'MM', 'CU', 'KR', 'PG', 'AZ', 'MX', 'TR', 'PF', 'VN', 'TH', 'UG', 'GL', 'JP', 'MV', 'CL', 'PH', 'ID')\n",
      "Processing dynamic groups (pass 2):  15%|████████████████████▍                                                                                                                 | 51/335 [00:02<00:15, 18.72it/s]Fallback CF could not be computed for supplier=(('location', 'RoW'), ('name', 'uranium production, centrifuge, enriched 4.0%'), ('reference product', 'uranium, enriched 4.0%, per separative work unit')), consumer=(('location', 'GLO'),) with candidate suppliers=('AW', 'CW', 'GI', 'SX', 'MO', 'PS', 'ST', 'TK', 'KM', 'KY', 'LU', 'BN', 'CY', 'SZ', 'RW', 'SG', 'SL', 'TG', 'DJ', 'GM', 'IL', 'LB', 'VG', 'AD', 'BY', 'GQ', 'TJ', 'TM', 'AG', 'ER', 'KG', 'NE', 'QA', 'SK', 'BO', 'KE', 'KW', 'ML', 'PK', 'SM', 'VC', 'AT', 'BH', 'DM', 'GA', 'GH', 'SR', 'SS', 'ZM', 'ZW', 'BB', 'CM', 'CR', 'LC', 'LS', 'LT', 'NC', 'ZA', 'AL', 'AM', 'BJ', 'CD', 'CG', 'GE', 'GY', 'JO', 'TC', 'BE', 'IS', 'NA', 'SO', 'CZ', 'ET', 'HT', 'JM', 'KN', 'MZ', 'NP', 'TL', 'BW', 'BZ', 'LR', 'OM', 'SY', 'BM', 'MA', 'MU', 'PL', 'SN', 'SV', 'TT', 'BI', 'CF', 'LA', 'MR', 'UZ', 'WS', 'IQ', 'PW', 'PY', 'SD', 'AO', 'DK', 'UY', 'BA', 'BT', 'EE', 'KP', 'NI', 'CI', 'HK', 'GT', 'KZ', 'LY', 'ME', 'MN', 'NL', 'TD', 'HN', 'SA', 'CV', 'MG', 'RS', 'TN', 'BD', 'BG', 'PA', 'KH', 'MW', 'YE', 'AE', 'AR', 'MY', 'PE', 'UA', 'LK', 'AF', 'DO', 'GN', 'TZ', 'PT', 'EG', 'DE', 'NZ', 'CH', 'EC', 'NG', 'IE', 'IR', 'MD', 'RO', 'CO', 'HU', 'BF', 'FJ', 'HR', 'DZ', 'SC', 'SB', 'VE', 'BS', 'MM', 'CU', 'FI', 'SE', 'KR', 'MT', 'PG', 'AZ', 'MK', 'GR', 'MX', 'TR', 'PF', 'VN', 'TH', 'FR', 'UG', 'NO', 'LV', 'GL', 'IT', 'JP', 'MV', 'CL', 'SI', 'PH', 'GB', 'ID') and consumers=('GLO',)\n",
      "Processing dynamic groups (pass 2):  17%|███████████████████████▏                                                                                                              | 58/335 [00:02<00:16, 17.31it/s]Fallback CF could not be computed for supplier=(('location', 'RoW'), ('name', 'uranium fuel element production, enriched 4%, for light water reactor'), ('reference product', 'uranium, enriched 4%, in fuel element for light water reactor')), consumer=(('location', 'GLO'),) with candidate suppliers=('AW', 'CW', 'SX', 'MO', 'PS', 'ST', 'TK', 'KM', 'KY', 'BN', 'CY', 'SZ', 'RW', 'SG', 'SL', 'TG', 'DJ', 'GM', 'IL', 'LB', 'VG', 'BY', 'GQ', 'TJ', 'TM', 'AG', 'ER', 'KG', 'NE', 'QA', 'BO', 'KE', 'KW', 'ML', 'PK', 'VC', 'BH', 'DM', 'GA', 'GH', 'SR', 'SS', 'ZM', 'ZW', 'BB', 'CM', 'CR', 'LC', 'LS', 'LT', 'NC', 'ZA', 'AL', 'AM', 'BJ', 'CD', 'CG', 'GE', 'GY', 'JO', 'TC', 'IS', 'NA', 'SO', 'ET', 'HT', 'JM', 'KN', 'MZ', 'NP', 'TL', 'BW', 'BZ', 'LR', 'OM', 'SY', 'BM', 'MA', 'MU', 'SN', 'SV', 'TT', 'BI', 'CF', 'LA', 'MR', 'UZ', 'WS', 'IQ', 'PW', 'PY', 'SD', 'AO', 'DK', 'UY', 'BT', 'EE', 'KP', 'NI', 'CI', 'HK', 'GT', 'KZ', 'LY', 'MN', 'TD', 'HN', 'SA', 'CV', 'MG', 'TN', 'BD', 'PA', 'KH', 'MW', 'YE', 'AE', 'AR', 'MY', 'PE', 'UA', 'LK', 'AF', 'DO', 'GN', 'TZ', 'EG', 'DE', 'NZ', 'EC', 'NG', 'IE', 'IR', 'MD', 'CO', 'BF', 'FJ', 'DZ', 'SC', 'SB', 'VE', 'BS', 'MM', 'CU', 'FI', 'SE', 'KR', 'MT', 'PG', 'AZ', 'MX', 'TR', 'PF', 'VN', 'TH', 'UG', 'NO', 'LV', 'GL', 'JP', 'MV', 'CL', 'PH', 'GB', 'ID') and consumers=('GLO',)\n",
      "Processing dynamic groups (pass 2):  18%|████████████████████████▍                                                                                                             | 61/335 [00:03<00:16, 16.36it/s]Fallback CF could not be computed for supplier=(('location', 'RoW'), ('name', 'natural gas, high pressure, import from RU'), ('reference product', 'natural gas, high pressure')), consumer=(('location', 'TW'),) with candidate suppliers=('AW', 'CW', 'GI', 'SX', 'MO', 'PS', 'ST', 'TK', 'KM', 'KY', 'LU', 'BN', 'CY', 'SZ', 'RW', 'SG', 'SL', 'TG', 'DJ', 'GM', 'IL', 'LB', 'VG', 'AD', 'BY', 'GQ', 'TJ', 'TM', 'AG', 'ER', 'KG', 'NE', 'QA', 'SK', 'BO', 'KE', 'KW', 'ML', 'PK', 'SM', 'VC', 'AT', 'BH', 'DM', 'GA', 'GH', 'SR', 'SS', 'ZM', 'ZW', 'BB', 'CM', 'CR', 'LC', 'LS', 'LT', 'NC', 'ZA', 'AL', 'AM', 'BJ', 'CD', 'CG', 'GE', 'GY', 'JO', 'TC', 'BE', 'IS', 'NA', 'SO', 'CZ', 'ET', 'HT', 'JM', 'KN', 'MZ', 'NP', 'TL', 'BW', 'BZ', 'LR', 'OM', 'SY', 'BM', 'MA', 'MU', 'PL', 'SN', 'SV', 'TT', 'BI', 'CF', 'LA', 'MR', 'UZ', 'WS', 'IQ', 'PW', 'PY', 'SD', 'AO', 'DK', 'UY', 'BA', 'BT', 'EE', 'KP', 'NI', 'CI', 'HK', 'GT', 'KZ', 'LY', 'ME', 'MN', 'NL', 'TD', 'HN', 'SA', 'CV', 'MG', 'RS', 'TN', 'BD', 'BG', 'PA', 'KH', 'MW', 'YE', 'AE', 'AR', 'MY', 'PE', 'UA', 'LK', 'AF', 'DO', 'GN', 'TZ', 'PT', 'EG', 'DE', 'NZ', 'CH', 'EC', 'NG', 'IE', 'IR', 'MD', 'RO', 'CO', 'HU', 'BF', 'FJ', 'HR', 'DZ', 'SC', 'SB', 'VE', 'BS', 'MM', 'CU', 'FI', 'SE', 'KR', 'MT', 'PG', 'AZ', 'MK', 'GR', 'MX', 'TR', 'PF', 'VN', 'TH', 'FR', 'UG', 'NO', 'LV', 'GL', 'IT', 'JP', 'MV', 'CL', 'SI', 'PH', 'GB', 'ID') and consumers=('TW',)\n",
      "Processing dynamic groups (pass 2):  19%|██████████████████████████                                                                                                            | 65/335 [00:03<00:17, 15.42it/s]Fallback CF could not be computed for supplier=(('location', 'IAI Area, South America'), ('name', 'aluminium production, primary, ingot'), ('reference product', 'aluminium, primary, ingot')), consumer=(('location', 'RoW'),) with candidate suppliers=('IAI Area, South America',) and consumers=('AW', 'CW', 'GI', 'SX', 'MO', 'PM', 'PS', 'ST', 'TK', 'BQ', 'KM', 'KY', 'LU', 'MS', 'BN', 'CY', 'SH', 'SZ', 'WF', 'RW', 'SG', 'SL', 'TG', 'DJ', 'GM', 'IL', 'LB', 'VG', 'AD', 'BY', 'GD', 'GQ', 'TJ', 'TM', 'AG', 'ER', 'KG', 'NE', 'QA', 'BO', 'KE', 'KW', 'ML', 'PK', 'SM', 'TV', 'VC', 'AT', 'BH', 'DM', 'GA', 'GH', 'SR', 'SS', 'ZM', 'ZW', 'BB', 'CM', 'CR', 'LC', 'LS', 'LT', 'NC', 'TO', 'ZA', 'AL', 'AM', 'BJ', 'CD', 'CG', 'GE', 'GY', 'JO', 'TC', 'BE', 'NA', 'SO', 'CZ', 'ET', 'HT', 'JM', 'KN', 'MZ', 'NP', 'TL', 'AI', 'BW', 'BZ', 'FK', 'LR', 'OM', 'SY', 'BM', 'MA', 'MU', 'PL', 'SN', 'SV', 'TT', 'BI', 'CF', 'LA', 'MR', 'UZ', 'WS', 'IQ', 'PW', 'PY', 'SD', 'AO', 'DK', 'UY', 'BA', 'BT', 'EE', 'KP', 'NI', 'CI', 'GW', 'HK', 'GT', 'KZ', 'LY', 'ME', 'MH', 'MN', 'TD', 'HN', 'SA', 'CV', 'MG', 'RS', 'TN', 'VU', 'BD', 'BG', 'PA', 'KH', 'KI', 'MW', 'YE', 'AE', 'AR', 'MY', 'PE', 'UA', 'LK', 'AF', 'DO', 'GN', 'TZ', 'PT', 'EG', 'NZ', 'CH', 'EC', 'NG', 'IE', 'IR', 'MD', 'CO', 'HU', 'BF', 'FJ', 'HR', 'DZ', 'SC', 'SB', 'VE', 'BS', 'MM', 'CU', 'FI', 'KR', 'MT', 'PG', 'AZ', 'MK', 'MX', 'TR', 'PF', 'VN', 'TH', 'UG', 'LV', 'GL', 'JP', 'MV', 'CL', 'PH', 'ID')\n",
      "Processing dynamic groups (pass 2):  21%|████████████████████████████                                                                                                          | 70/335 [00:03<00:13, 20.23it/s]Fallback CF could not be computed for supplier=(('location', 'RoW'), ('name', 'uranium fuel element production, enriched 4.2%, for light water reactor'), ('reference product', 'uranium, enriched 4.2%, in fuel element for light water reactor')), consumer=(('location', 'GLO'),) with candidate suppliers=('AW', 'CW', 'GI', 'SX', 'MO', 'PS', 'ST', 'TK', 'KM', 'KY', 'LU', 'BN', 'CY', 'SZ', 'RW', 'SG', 'SL', 'TG', 'DJ', 'GM', 'IL', 'LB', 'VG', 'AD', 'BY', 'GQ', 'TJ', 'TM', 'AG', 'ER', 'KG', 'NE', 'QA', 'SK', 'BO', 'KE', 'KW', 'ML', 'PK', 'SM', 'VC', 'AT', 'BH', 'DM', 'GA', 'GH', 'SR', 'SS', 'ZM', 'ZW', 'BB', 'CM', 'CR', 'LC', 'LS', 'LT', 'NC', 'ZA', 'AL', 'AM', 'BJ', 'CD', 'CG', 'GE', 'GY', 'JO', 'TC', 'BE', 'IS', 'NA', 'SO', 'CZ', 'ET', 'HT', 'JM', 'KN', 'MZ', 'NP', 'TL', 'BW', 'BZ', 'LR', 'OM', 'SY', 'BM', 'MA', 'MU', 'PL', 'SN', 'SV', 'TT', 'BI', 'CF', 'LA', 'MR', 'UZ', 'WS', 'IQ', 'PW', 'PY', 'SD', 'AO', 'DK', 'UY', 'BA', 'BT', 'EE', 'KP', 'NI', 'CI', 'HK', 'GT', 'KZ', 'LY', 'ME', 'MN', 'NL', 'TD', 'HN', 'SA', 'CV', 'MG', 'RS', 'TN', 'BD', 'BG', 'PA', 'KH', 'MW', 'YE', 'AE', 'AR', 'MY', 'PE', 'UA', 'LK', 'AF', 'DO', 'GN', 'TZ', 'PT', 'EG', 'DE', 'NZ', 'CH', 'EC', 'NG', 'IE', 'IR', 'MD', 'RO', 'CO', 'HU', 'BF', 'FJ', 'HR', 'DZ', 'SC', 'SB', 'VE', 'BS', 'MM', 'CU', 'FI', 'SE', 'KR', 'MT', 'PG', 'AZ', 'MK', 'GR', 'MX', 'TR', 'PF', 'VN', 'TH', 'FR', 'UG', 'NO', 'LV', 'GL', 'IT', 'JP', 'MV', 'CL', 'SI', 'PH', 'GB', 'ID') and consumers=('GLO',)\n",
      "Fallback CF could not be computed for supplier=(('location', 'IAI Area, Africa'), ('name', 'aluminium production, primary, ingot'), ('reference product', 'aluminium, primary, ingot')), consumer=(('location', 'RoW'),) with candidate suppliers=('IAI Area, Africa',) and consumers=('AW', 'CW', 'GI', 'SX', 'MO', 'PM', 'PS', 'ST', 'TK', 'BQ', 'KM', 'KY', 'LU', 'MS', 'BN', 'CY', 'SH', 'SZ', 'WF', 'RW', 'SG', 'SL', 'TG', 'DJ', 'GM', 'IL', 'LB', 'VG', 'AD', 'BY', 'GD', 'GQ', 'TJ', 'TM', 'AG', 'ER', 'KG', 'NE', 'QA', 'BO', 'KE', 'KW', 'ML', 'PK', 'SM', 'TV', 'VC', 'AT', 'BH', 'DM', 'GA', 'GH', 'SR', 'SS', 'ZM', 'ZW', 'BB', 'CM', 'CR', 'LC', 'LS', 'LT', 'NC', 'TO', 'ZA', 'AL', 'AM', 'BJ', 'CD', 'CG', 'GE', 'GY', 'JO', 'TC', 'BE', 'NA', 'SO', 'CZ', 'ET', 'HT', 'JM', 'KN', 'MZ', 'NP', 'TL', 'AI', 'BW', 'BZ', 'FK', 'LR', 'OM', 'SY', 'BM', 'MA', 'MU', 'PL', 'SN', 'SV', 'TT', 'BI', 'CF', 'LA', 'MR', 'UZ', 'WS', 'IQ', 'PW', 'PY', 'SD', 'AO', 'DK', 'UY', 'BA', 'BT', 'EE', 'KP', 'NI', 'CI', 'GW', 'HK', 'GT', 'KZ', 'LY', 'ME', 'MH', 'MN', 'TD', 'HN', 'SA', 'CV', 'MG', 'RS', 'TN', 'VU', 'BD', 'BG', 'PA', 'KH', 'KI', 'MW', 'YE', 'AE', 'AR', 'MY', 'PE', 'UA', 'LK', 'AF', 'DO', 'GN', 'TZ', 'PT', 'EG', 'NZ', 'CH', 'EC', 'NG', 'IE', 'IR', 'MD', 'CO', 'HU', 'BF', 'FJ', 'HR', 'DZ', 'SC', 'SB', 'VE', 'BS', 'MM', 'CU', 'FI', 'KR', 'MT', 'PG', 'AZ', 'MK', 'MX', 'TR', 'PF', 'VN', 'TH', 'UG', 'LV', 'GL', 'JP', 'MV', 'CL', 'PH', 'ID')\n",
      "Processing dynamic groups (pass 2):  25%|█████████████████████████████████▌                                                                                                    | 84/335 [00:03<00:07, 31.50it/s]Fallback CF could not be computed for supplier=(('location', 'UN-OCEANIA'), ('name', 'aluminium production, primary, ingot'), ('reference product', 'aluminium, primary, ingot')), consumer=(('location', 'RoW'),) with candidate suppliers=('UN-OCEANIA',) and consumers=('AW', 'CW', 'GI', 'SX', 'MO', 'PM', 'PS', 'ST', 'TK', 'BQ', 'KM', 'KY', 'LU', 'MS', 'BN', 'CY', 'SH', 'SZ', 'WF', 'RW', 'SG', 'SL', 'TG', 'DJ', 'GM', 'IL', 'LB', 'VG', 'AD', 'BY', 'GD', 'GQ', 'TJ', 'TM', 'AG', 'ER', 'KG', 'NE', 'QA', 'BO', 'KE', 'KW', 'ML', 'PK', 'SM', 'TV', 'VC', 'AT', 'BH', 'DM', 'GA', 'GH', 'SR', 'SS', 'ZM', 'ZW', 'BB', 'CM', 'CR', 'LC', 'LS', 'LT', 'NC', 'TO', 'ZA', 'AL', 'AM', 'BJ', 'CD', 'CG', 'GE', 'GY', 'JO', 'TC', 'BE', 'NA', 'SO', 'CZ', 'ET', 'HT', 'JM', 'KN', 'MZ', 'NP', 'TL', 'AI', 'BW', 'BZ', 'FK', 'LR', 'OM', 'SY', 'BM', 'MA', 'MU', 'PL', 'SN', 'SV', 'TT', 'BI', 'CF', 'LA', 'MR', 'UZ', 'WS', 'IQ', 'PW', 'PY', 'SD', 'AO', 'DK', 'UY', 'BA', 'BT', 'EE', 'KP', 'NI', 'CI', 'GW', 'HK', 'GT', 'KZ', 'LY', 'ME', 'MH', 'MN', 'TD', 'HN', 'SA', 'CV', 'MG', 'RS', 'TN', 'VU', 'BD', 'BG', 'PA', 'KH', 'KI', 'MW', 'YE', 'AE', 'AR', 'MY', 'PE', 'UA', 'LK', 'AF', 'DO', 'GN', 'TZ', 'PT', 'EG', 'NZ', 'CH', 'EC', 'NG', 'IE', 'IR', 'MD', 'CO', 'HU', 'BF', 'FJ', 'HR', 'DZ', 'SC', 'SB', 'VE', 'BS', 'MM', 'CU', 'FI', 'KR', 'MT', 'PG', 'AZ', 'MK', 'MX', 'TR', 'PF', 'VN', 'TH', 'UG', 'LV', 'GL', 'JP', 'MV', 'CL', 'PH', 'ID')\n",
      "Fallback CF could not be computed for supplier=(('location', 'RoW'), ('name', 'natural gas, high pressure, import from TT'), ('reference product', 'natural gas, high pressure')), consumer=(('location', 'TW'),) with candidate suppliers=('AW', 'CW', 'GI', 'SX', 'MO', 'PS', 'ST', 'TK', 'KM', 'KY', 'LU', 'BN', 'CY', 'SZ', 'RW', 'SG', 'SL', 'TG', 'DJ', 'GM', 'IL', 'LB', 'VG', 'AD', 'BY', 'GQ', 'TJ', 'TM', 'AG', 'ER', 'KG', 'NE', 'QA', 'SK', 'BO', 'KE', 'KW', 'ML', 'PK', 'SM', 'VC', 'AT', 'BH', 'DM', 'GA', 'GH', 'SR', 'SS', 'ZM', 'ZW', 'BB', 'CM', 'CR', 'LC', 'LS', 'LT', 'NC', 'ZA', 'AL', 'AM', 'BJ', 'CD', 'CG', 'GE', 'GY', 'JO', 'TC', 'BE', 'IS', 'NA', 'SO', 'CZ', 'ET', 'HT', 'JM', 'KN', 'MZ', 'NP', 'TL', 'BW', 'BZ', 'LR', 'OM', 'SY', 'BM', 'MA', 'MU', 'PL', 'SN', 'SV', 'TT', 'BI', 'CF', 'LA', 'MR', 'UZ', 'WS', 'IQ', 'PW', 'PY', 'SD', 'AO', 'DK', 'UY', 'BA', 'BT', 'EE', 'KP', 'NI', 'CI', 'HK', 'GT', 'KZ', 'LY', 'ME', 'MN', 'NL', 'TD', 'HN', 'SA', 'CV', 'MG', 'RS', 'TN', 'BD', 'BG', 'PA', 'KH', 'MW', 'YE', 'AE', 'AR', 'MY', 'PE', 'UA', 'LK', 'AF', 'DO', 'GN', 'TZ', 'PT', 'EG', 'DE', 'NZ', 'CH', 'EC', 'NG', 'IE', 'IR', 'MD', 'RO', 'CO', 'HU', 'BF', 'FJ', 'HR', 'DZ', 'SC', 'SB', 'VE', 'BS', 'MM', 'CU', 'FI', 'SE', 'KR', 'MT', 'PG', 'AZ', 'MK', 'GR', 'MX', 'TR', 'PF', 'VN', 'TH', 'FR', 'UG', 'NO', 'LV', 'GL', 'IT', 'JP', 'MV', 'CL', 'SI', 'PH', 'GB', 'ID') and consumers=('TW',)\n",
      "Fallback CF could not be computed for supplier=(('location', 'RoW'), ('name', 'primary zinc production from concentrate'), ('reference product', 'zinc')), consumer=(('location', 'GLO'),) with candidate suppliers=('AW', 'CW', 'GI', 'SX', 'MO', 'PS', 'ST', 'TK', 'KM', 'KY', 'LU', 'BN', 'CY', 'SZ', 'RW', 'SG', 'SL', 'TG', 'DJ', 'GM', 'IL', 'LB', 'VG', 'AD', 'BY', 'GQ', 'TJ', 'TM', 'AG', 'ER', 'KG', 'NE', 'QA', 'SK', 'BO', 'KE', 'KW', 'ML', 'PK', 'SM', 'VC', 'AT', 'BH', 'DM', 'GA', 'GH', 'SR', 'SS', 'ZM', 'ZW', 'BB', 'CM', 'CR', 'LC', 'LS', 'LT', 'NC', 'ZA', 'AL', 'AM', 'BJ', 'CD', 'CG', 'GE', 'GY', 'JO', 'TC', 'BE', 'IS', 'NA', 'SO', 'CZ', 'ET', 'HT', 'JM', 'KN', 'MZ', 'NP', 'TL', 'BW', 'BZ', 'LR', 'OM', 'SY', 'BM', 'MA', 'MU', 'PL', 'SN', 'SV', 'TT', 'BI', 'CF', 'LA', 'MR', 'UZ', 'WS', 'IQ', 'PW', 'PY', 'SD', 'AO', 'DK', 'UY', 'BA', 'BT', 'EE', 'KP', 'NI', 'CI', 'HK', 'GT', 'KZ', 'LY', 'ME', 'MN', 'NL', 'TD', 'HN', 'SA', 'CV', 'MG', 'RS', 'TN', 'BD', 'BG', 'PA', 'KH', 'MW', 'YE', 'AE', 'AR', 'MY', 'PE', 'UA', 'LK', 'AF', 'DO', 'GN', 'TZ', 'PT', 'EG', 'DE', 'NZ', 'CH', 'EC', 'NG', 'IE', 'IR', 'MD', 'RO', 'CO', 'HU', 'BF', 'FJ', 'HR', 'DZ', 'SC', 'SB', 'VE', 'BS', 'MM', 'CU', 'FI', 'SE', 'KR', 'MT', 'PG', 'AZ', 'MK', 'GR', 'MX', 'TR', 'PF', 'VN', 'TH', 'FR', 'UG', 'NO', 'LV', 'GL', 'IT', 'JP', 'MV', 'CL', 'SI', 'PH', 'GB', 'ID') and consumers=('GLO',)\n",
      "Processing dynamic groups (pass 2):  37%|████████████████████████████████████████████████▊                                                                                    | 123/335 [00:05<00:09, 22.18it/s]Fallback CF could not be computed for supplier=(('location', 'RoW'), ('name', 'natural gas, high pressure, import from MY'), ('reference product', 'natural gas, high pressure')), consumer=(('location', 'TW'),) with candidate suppliers=('AW', 'CW', 'GI', 'SX', 'MO', 'PS', 'ST', 'TK', 'KM', 'KY', 'LU', 'BN', 'CY', 'SZ', 'RW', 'SG', 'SL', 'TG', 'DJ', 'GM', 'IL', 'LB', 'VG', 'AD', 'BY', 'GQ', 'TJ', 'TM', 'AG', 'ER', 'KG', 'NE', 'QA', 'SK', 'BO', 'KE', 'KW', 'ML', 'PK', 'SM', 'VC', 'AT', 'BH', 'DM', 'GA', 'GH', 'SR', 'SS', 'ZM', 'ZW', 'BB', 'CM', 'CR', 'LC', 'LS', 'LT', 'NC', 'ZA', 'AL', 'AM', 'BJ', 'CD', 'CG', 'GE', 'GY', 'JO', 'TC', 'BE', 'IS', 'NA', 'SO', 'CZ', 'ET', 'HT', 'JM', 'KN', 'MZ', 'NP', 'TL', 'BW', 'BZ', 'LR', 'OM', 'SY', 'BM', 'MA', 'MU', 'PL', 'SN', 'SV', 'TT', 'BI', 'CF', 'LA', 'MR', 'UZ', 'WS', 'IQ', 'PW', 'PY', 'SD', 'AO', 'DK', 'UY', 'BA', 'BT', 'EE', 'KP', 'NI', 'CI', 'HK', 'GT', 'KZ', 'LY', 'ME', 'MN', 'NL', 'TD', 'HN', 'SA', 'CV', 'MG', 'RS', 'TN', 'BD', 'BG', 'PA', 'KH', 'MW', 'YE', 'AE', 'AR', 'MY', 'PE', 'UA', 'LK', 'AF', 'DO', 'GN', 'TZ', 'PT', 'EG', 'DE', 'NZ', 'CH', 'EC', 'NG', 'IE', 'IR', 'MD', 'RO', 'CO', 'HU', 'BF', 'FJ', 'HR', 'DZ', 'SC', 'SB', 'VE', 'BS', 'MM', 'CU', 'FI', 'SE', 'KR', 'MT', 'PG', 'AZ', 'MK', 'GR', 'MX', 'TR', 'PF', 'VN', 'TH', 'FR', 'UG', 'NO', 'LV', 'GL', 'IT', 'JP', 'MV', 'CL', 'SI', 'PH', 'GB', 'ID') and consumers=('TW',)\n",
      "Processing dynamic groups (pass 2):  38%|██████████████████████████████████████████████████▊                                                                                  | 128/335 [00:05<00:09, 22.53it/s]Fallback CF could not be computed for supplier=(('location', 'RoW'), ('name', 'uranium production, centrifuge, enriched 4.2%'), ('reference product', 'uranium, enriched 4.2%, per separative work unit')), consumer=(('location', 'GLO'),) with candidate suppliers=('AW', 'CW', 'GI', 'SX', 'MO', 'PS', 'ST', 'TK', 'KM', 'KY', 'LU', 'BN', 'CY', 'SZ', 'RW', 'SG', 'SL', 'TG', 'DJ', 'GM', 'IL', 'LB', 'VG', 'AD', 'BY', 'GQ', 'TJ', 'TM', 'AG', 'ER', 'KG', 'NE', 'QA', 'SK', 'BO', 'KE', 'KW', 'ML', 'PK', 'SM', 'VC', 'AT', 'BH', 'DM', 'GA', 'GH', 'SR', 'SS', 'ZM', 'ZW', 'BB', 'CM', 'CR', 'LC', 'LS', 'LT', 'NC', 'ZA', 'AL', 'AM', 'BJ', 'CD', 'CG', 'GE', 'GY', 'JO', 'TC', 'BE', 'IS', 'NA', 'SO', 'CZ', 'ET', 'HT', 'JM', 'KN', 'MZ', 'NP', 'TL', 'BW', 'BZ', 'LR', 'OM', 'SY', 'BM', 'MA', 'MU', 'PL', 'SN', 'SV', 'TT', 'BI', 'CF', 'LA', 'MR', 'UZ', 'WS', 'IQ', 'PW', 'PY', 'SD', 'AO', 'DK', 'UY', 'BA', 'BT', 'EE', 'KP', 'NI', 'CI', 'HK', 'GT', 'KZ', 'LY', 'ME', 'MN', 'NL', 'TD', 'HN', 'SA', 'CV', 'MG', 'RS', 'TN', 'BD', 'BG', 'PA', 'KH', 'MW', 'YE', 'AE', 'AR', 'MY', 'PE', 'UA', 'LK', 'AF', 'DO', 'GN', 'TZ', 'PT', 'EG', 'DE', 'NZ', 'CH', 'EC', 'NG', 'IE', 'IR', 'MD', 'RO', 'CO', 'HU', 'BF', 'FJ', 'HR', 'DZ', 'SC', 'SB', 'VE', 'BS', 'MM', 'CU', 'FI', 'SE', 'KR', 'MT', 'PG', 'AZ', 'MK', 'GR', 'MX', 'TR', 'PF', 'VN', 'TH', 'FR', 'UG', 'NO', 'LV', 'GL', 'IT', 'JP', 'MV', 'CL', 'SI', 'PH', 'GB', 'ID') and consumers=('GLO',)\n",
      "Processing dynamic groups (pass 2):  43%|████████████████████████████████████████████████████████▊                                                                            | 143/335 [00:06<00:10, 18.10it/s]Fallback CF could not be computed for supplier=(('location', 'RoW'), ('name', 'natural gas, high pressure, import from ID'), ('reference product', 'natural gas, high pressure')), consumer=(('location', 'TW'),) with candidate suppliers=('AW', 'CW', 'GI', 'SX', 'MO', 'PS', 'ST', 'TK', 'KM', 'KY', 'LU', 'BN', 'CY', 'SZ', 'RW', 'SG', 'SL', 'TG', 'DJ', 'GM', 'IL', 'LB', 'VG', 'AD', 'BY', 'GQ', 'TJ', 'TM', 'AG', 'ER', 'KG', 'NE', 'QA', 'SK', 'BO', 'KE', 'KW', 'ML', 'PK', 'SM', 'VC', 'AT', 'BH', 'DM', 'GA', 'GH', 'SR', 'SS', 'ZM', 'ZW', 'BB', 'CM', 'CR', 'LC', 'LS', 'LT', 'NC', 'ZA', 'AL', 'AM', 'BJ', 'CD', 'CG', 'GE', 'GY', 'JO', 'TC', 'BE', 'IS', 'NA', 'SO', 'CZ', 'ET', 'HT', 'JM', 'KN', 'MZ', 'NP', 'TL', 'BW', 'BZ', 'LR', 'OM', 'SY', 'BM', 'MA', 'MU', 'PL', 'SN', 'SV', 'TT', 'BI', 'CF', 'LA', 'MR', 'UZ', 'WS', 'IQ', 'PW', 'PY', 'SD', 'AO', 'DK', 'UY', 'BA', 'BT', 'EE', 'KP', 'NI', 'CI', 'HK', 'GT', 'KZ', 'LY', 'ME', 'MN', 'NL', 'TD', 'HN', 'SA', 'CV', 'MG', 'RS', 'TN', 'BD', 'BG', 'PA', 'KH', 'MW', 'YE', 'AE', 'AR', 'MY', 'PE', 'UA', 'LK', 'AF', 'DO', 'GN', 'TZ', 'PT', 'EG', 'DE', 'NZ', 'CH', 'EC', 'NG', 'IE', 'IR', 'MD', 'RO', 'CO', 'HU', 'BF', 'FJ', 'HR', 'DZ', 'SC', 'SB', 'VE', 'BS', 'MM', 'CU', 'FI', 'SE', 'KR', 'MT', 'PG', 'AZ', 'MK', 'GR', 'MX', 'TR', 'PF', 'VN', 'TH', 'FR', 'UG', 'NO', 'LV', 'GL', 'IT', 'JP', 'MV', 'CL', 'SI', 'PH', 'GB', 'ID') and consumers=('TW',)\n",
      "Processing dynamic groups (pass 2):  47%|██████████████████████████████████████████████████████████████▎                                                                      | 157/335 [00:07<00:08, 20.01it/s]Fallback CF could not be computed for supplier=(('location', 'RoW'), ('name', 'natural gas, high pressure, import from NG'), ('reference product', 'natural gas, high pressure')), consumer=(('location', 'TW'),) with candidate suppliers=('AW', 'CW', 'GI', 'SX', 'MO', 'PS', 'ST', 'TK', 'KM', 'KY', 'LU', 'BN', 'CY', 'SZ', 'RW', 'SG', 'SL', 'TG', 'DJ', 'GM', 'IL', 'LB', 'VG', 'AD', 'BY', 'GQ', 'TJ', 'TM', 'AG', 'ER', 'KG', 'NE', 'QA', 'SK', 'BO', 'KE', 'KW', 'ML', 'PK', 'SM', 'VC', 'AT', 'BH', 'DM', 'GA', 'GH', 'SR', 'SS', 'ZM', 'ZW', 'BB', 'CM', 'CR', 'LC', 'LS', 'LT', 'NC', 'ZA', 'AL', 'AM', 'BJ', 'CD', 'CG', 'GE', 'GY', 'JO', 'TC', 'BE', 'IS', 'NA', 'SO', 'CZ', 'ET', 'HT', 'JM', 'KN', 'MZ', 'NP', 'TL', 'BW', 'BZ', 'LR', 'OM', 'SY', 'BM', 'MA', 'MU', 'PL', 'SN', 'SV', 'TT', 'BI', 'CF', 'LA', 'MR', 'UZ', 'WS', 'IQ', 'PW', 'PY', 'SD', 'AO', 'DK', 'UY', 'BA', 'BT', 'EE', 'KP', 'NI', 'CI', 'HK', 'GT', 'KZ', 'LY', 'ME', 'MN', 'NL', 'TD', 'HN', 'SA', 'CV', 'MG', 'RS', 'TN', 'BD', 'BG', 'PA', 'KH', 'MW', 'YE', 'AE', 'AR', 'MY', 'PE', 'UA', 'LK', 'AF', 'DO', 'GN', 'TZ', 'PT', 'EG', 'DE', 'NZ', 'CH', 'EC', 'NG', 'IE', 'IR', 'MD', 'RO', 'CO', 'HU', 'BF', 'FJ', 'HR', 'DZ', 'SC', 'SB', 'VE', 'BS', 'MM', 'CU', 'FI', 'SE', 'KR', 'MT', 'PG', 'AZ', 'MK', 'GR', 'MX', 'TR', 'PF', 'VN', 'TH', 'FR', 'UG', 'NO', 'LV', 'GL', 'IT', 'JP', 'MV', 'CL', 'SI', 'PH', 'GB', 'ID') and consumers=('TW',)\n",
      "Fallback CF could not be computed for supplier=(('location', 'IAI Area, Asia, without China and GCC'), ('name', 'aluminium production, primary, ingot'), ('reference product', 'aluminium, primary, ingot')), consumer=(('location', 'RoW'),) with candidate suppliers=('IAI Area, Asia, without China and GCC',) and consumers=('AW', 'CW', 'GI', 'SX', 'MO', 'PM', 'PS', 'ST', 'TK', 'BQ', 'KM', 'KY', 'LU', 'MS', 'BN', 'CY', 'SH', 'SZ', 'WF', 'RW', 'SG', 'SL', 'TG', 'DJ', 'GM', 'IL', 'LB', 'VG', 'AD', 'BY', 'GD', 'GQ', 'TJ', 'TM', 'AG', 'ER', 'KG', 'NE', 'QA', 'BO', 'KE', 'KW', 'ML', 'PK', 'SM', 'TV', 'VC', 'AT', 'BH', 'DM', 'GA', 'GH', 'SR', 'SS', 'ZM', 'ZW', 'BB', 'CM', 'CR', 'LC', 'LS', 'LT', 'NC', 'TO', 'ZA', 'AL', 'AM', 'BJ', 'CD', 'CG', 'GE', 'GY', 'JO', 'TC', 'BE', 'NA', 'SO', 'CZ', 'ET', 'HT', 'JM', 'KN', 'MZ', 'NP', 'TL', 'AI', 'BW', 'BZ', 'FK', 'LR', 'OM', 'SY', 'BM', 'MA', 'MU', 'PL', 'SN', 'SV', 'TT', 'BI', 'CF', 'LA', 'MR', 'UZ', 'WS', 'IQ', 'PW', 'PY', 'SD', 'AO', 'DK', 'UY', 'BA', 'BT', 'EE', 'KP', 'NI', 'CI', 'GW', 'HK', 'GT', 'KZ', 'LY', 'ME', 'MH', 'MN', 'TD', 'HN', 'SA', 'CV', 'MG', 'RS', 'TN', 'VU', 'BD', 'BG', 'PA', 'KH', 'KI', 'MW', 'YE', 'AE', 'AR', 'MY', 'PE', 'UA', 'LK', 'AF', 'DO', 'GN', 'TZ', 'PT', 'EG', 'NZ', 'CH', 'EC', 'NG', 'IE', 'IR', 'MD', 'CO', 'HU', 'BF', 'FJ', 'HR', 'DZ', 'SC', 'SB', 'VE', 'BS', 'MM', 'CU', 'FI', 'KR', 'MT', 'PG', 'AZ', 'MK', 'MX', 'TR', 'PF', 'VN', 'TH', 'UG', 'LV', 'GL', 'JP', 'MV', 'CL', 'PH', 'ID')\n",
      "Fallback CF could not be computed for supplier=(('location', 'IAI Area, Russia & RER w/o EU27 & EFTA'), ('name', 'aluminium production, primary, ingot'), ('reference product', 'aluminium, primary, ingot')), consumer=(('location', 'RoW'),) with candidate suppliers=('IAI Area, Russia & RER w/o EU27 & EFTA',) and consumers=('AW', 'CW', 'GI', 'SX', 'MO', 'PM', 'PS', 'ST', 'TK', 'BQ', 'KM', 'KY', 'LU', 'MS', 'BN', 'CY', 'SH', 'SZ', 'WF', 'RW', 'SG', 'SL', 'TG', 'DJ', 'GM', 'IL', 'LB', 'VG', 'AD', 'BY', 'GD', 'GQ', 'TJ', 'TM', 'AG', 'ER', 'KG', 'NE', 'QA', 'BO', 'KE', 'KW', 'ML', 'PK', 'SM', 'TV', 'VC', 'AT', 'BH', 'DM', 'GA', 'GH', 'SR', 'SS', 'ZM', 'ZW', 'BB', 'CM', 'CR', 'LC', 'LS', 'LT', 'NC', 'TO', 'ZA', 'AL', 'AM', 'BJ', 'CD', 'CG', 'GE', 'GY', 'JO', 'TC', 'BE', 'NA', 'SO', 'CZ', 'ET', 'HT', 'JM', 'KN', 'MZ', 'NP', 'TL', 'AI', 'BW', 'BZ', 'FK', 'LR', 'OM', 'SY', 'BM', 'MA', 'MU', 'PL', 'SN', 'SV', 'TT', 'BI', 'CF', 'LA', 'MR', 'UZ', 'WS', 'IQ', 'PW', 'PY', 'SD', 'AO', 'DK', 'UY', 'BA', 'BT', 'EE', 'KP', 'NI', 'CI', 'GW', 'HK', 'GT', 'KZ', 'LY', 'ME', 'MH', 'MN', 'TD', 'HN', 'SA', 'CV', 'MG', 'RS', 'TN', 'VU', 'BD', 'BG', 'PA', 'KH', 'KI', 'MW', 'YE', 'AE', 'AR', 'MY', 'PE', 'UA', 'LK', 'AF', 'DO', 'GN', 'TZ', 'PT', 'EG', 'NZ', 'CH', 'EC', 'NG', 'IE', 'IR', 'MD', 'CO', 'HU', 'BF', 'FJ', 'HR', 'DZ', 'SC', 'SB', 'VE', 'BS', 'MM', 'CU', 'FI', 'KR', 'MT', 'PG', 'AZ', 'MK', 'MX', 'TR', 'PF', 'VN', 'TH', 'UG', 'LV', 'GL', 'JP', 'MV', 'CL', 'PH', 'ID')\n",
      "Processing dynamic groups (pass 2):  56%|██████████████████████████████████████████████████████████████████████████▏                                                          | 187/335 [00:09<00:08, 17.30it/s]Fallback CF could not be computed for supplier=(('location', 'RoW'), ('name', 'treatment of automobile catalyst'), ('reference product', 'rhodium')), consumer=(('location', 'GLO'),) with candidate suppliers=('AW', 'CW', 'SX', 'MO', 'PS', 'ST', 'TK', 'KM', 'KY', 'BN', 'CY', 'SZ', 'RW', 'SG', 'SL', 'TG', 'DJ', 'GM', 'IL', 'LB', 'VG', 'GQ', 'TJ', 'TM', 'AG', 'ER', 'KG', 'NE', 'QA', 'BO', 'KE', 'KW', 'ML', 'PK', 'VC', 'BH', 'DM', 'GA', 'GH', 'SR', 'SS', 'ZM', 'ZW', 'BB', 'CM', 'CR', 'LC', 'LS', 'NC', 'ZA', 'AM', 'BJ', 'CD', 'CG', 'GE', 'GY', 'JO', 'TC', 'NA', 'SO', 'ET', 'HT', 'JM', 'KN', 'MZ', 'NP', 'TL', 'BW', 'BZ', 'LR', 'OM', 'SY', 'BM', 'MA', 'MU', 'SN', 'SV', 'TT', 'BI', 'CF', 'LA', 'MR', 'UZ', 'WS', 'IQ', 'PW', 'PY', 'SD', 'AO', 'UY', 'BT', 'KP', 'NI', 'CI', 'HK', 'GT', 'KZ', 'LY', 'MN', 'TD', 'HN', 'SA', 'CV', 'MG', 'TN', 'BD', 'PA', 'KH', 'MW', 'YE', 'AE', 'AR', 'MY', 'PE', 'LK', 'AF', 'DO', 'GN', 'TZ', 'EG', 'NZ', 'EC', 'NG', 'IR', 'CO', 'BF', 'FJ', 'DZ', 'SC', 'SB', 'VE', 'BS', 'MM', 'CU', 'KR', 'PG', 'AZ', 'MX', 'TR', 'PF', 'VN', 'TH', 'UG', 'GL', 'JP', 'MV', 'CL', 'PH', 'ID') and consumers=('GLO',)\n",
      "Processing dynamic groups (pass 2):  57%|████████████████████████████████████████████████████████████████████████████▏                                                        | 192/335 [00:09<00:08, 17.50it/s]Fallback CF could not be computed for supplier=(('location', 'RoW'), ('name', 'antimony production'), ('reference product', 'antimony')), consumer=(('location', 'GLO'),) with candidate suppliers=('AW', 'CW', 'GI', 'SX', 'MO', 'PS', 'ST', 'TK', 'KM', 'KY', 'LU', 'BN', 'CY', 'SZ', 'RW', 'SG', 'SL', 'TG', 'DJ', 'GM', 'IL', 'LB', 'VG', 'AD', 'BY', 'GQ', 'TJ', 'TM', 'AG', 'ER', 'KG', 'NE', 'QA', 'SK', 'BO', 'KE', 'KW', 'ML', 'PK', 'SM', 'VC', 'AT', 'BH', 'DM', 'GA', 'GH', 'SR', 'SS', 'ZM', 'ZW', 'BB', 'CM', 'CR', 'LC', 'LS', 'LT', 'NC', 'ZA', 'AL', 'AM', 'BJ', 'CD', 'CG', 'GE', 'GY', 'JO', 'TC', 'BE', 'IS', 'NA', 'SO', 'CZ', 'ET', 'HT', 'JM', 'KN', 'MZ', 'NP', 'TL', 'BW', 'BZ', 'LR', 'OM', 'SY', 'BM', 'MA', 'MU', 'PL', 'SN', 'SV', 'TT', 'BI', 'CF', 'LA', 'MR', 'UZ', 'WS', 'IQ', 'PW', 'PY', 'SD', 'AO', 'DK', 'UY', 'BA', 'BT', 'EE', 'KP', 'NI', 'CI', 'HK', 'GT', 'KZ', 'LY', 'ME', 'MN', 'NL', 'TD', 'HN', 'SA', 'CV', 'MG', 'RS', 'TN', 'BD', 'BG', 'PA', 'KH', 'MW', 'YE', 'AE', 'AR', 'MY', 'PE', 'UA', 'LK', 'AF', 'DO', 'GN', 'TZ', 'PT', 'EG', 'DE', 'NZ', 'CH', 'EC', 'NG', 'IE', 'IR', 'MD', 'RO', 'CO', 'HU', 'BF', 'FJ', 'HR', 'DZ', 'SC', 'SB', 'VE', 'BS', 'MM', 'CU', 'FI', 'SE', 'KR', 'MT', 'PG', 'AZ', 'MK', 'GR', 'MX', 'TR', 'PF', 'VN', 'TH', 'FR', 'UG', 'NO', 'LV', 'GL', 'IT', 'JP', 'MV', 'CL', 'SI', 'PH', 'GB', 'ID') and consumers=('GLO',)\n",
      "Processing dynamic groups (pass 2):  62%|██████████████████████████████████████████████████████████████████████████████████▏                                                  | 207/335 [00:09<00:05, 25.13it/s]Fallback CF could not be computed for supplier=(('location', 'RoW'), ('name', 'uranium mine operation, underground'), ('reference product', 'uranium ore, as U')), consumer=(('location', 'GLO'),) with candidate suppliers=('AW', 'CW', 'GI', 'SX', 'MO', 'PS', 'ST', 'TK', 'KM', 'KY', 'LU', 'BN', 'CY', 'SZ', 'RW', 'SG', 'SL', 'TG', 'DJ', 'GM', 'IL', 'LB', 'VG', 'AD', 'BY', 'GQ', 'TJ', 'TM', 'AG', 'ER', 'KG', 'NE', 'QA', 'SK', 'BO', 'KE', 'KW', 'ML', 'PK', 'SM', 'VC', 'AT', 'BH', 'DM', 'GA', 'GH', 'SR', 'SS', 'ZM', 'ZW', 'BB', 'CM', 'CR', 'LC', 'LS', 'LT', 'NC', 'ZA', 'AL', 'AM', 'BJ', 'CD', 'CG', 'GE', 'GY', 'JO', 'TC', 'BE', 'IS', 'NA', 'SO', 'CZ', 'ET', 'HT', 'JM', 'KN', 'MZ', 'NP', 'TL', 'BW', 'BZ', 'LR', 'OM', 'SY', 'MA', 'MU', 'PL', 'SN', 'SV', 'TT', 'BI', 'CF', 'LA', 'MR', 'UZ', 'WS', 'IQ', 'PW', 'PY', 'SD', 'AO', 'DK', 'UY', 'BA', 'BT', 'EE', 'KP', 'NI', 'CI', 'HK', 'GT', 'KZ', 'LY', 'ME', 'MN', 'NL', 'TD', 'HN', 'SA', 'CV', 'MG', 'RS', 'TN', 'BD', 'BG', 'PA', 'KH', 'MW', 'YE', 'AE', 'AR', 'MY', 'PE', 'UA', 'LK', 'AF', 'DO', 'GN', 'TZ', 'PT', 'EG', 'DE', 'NZ', 'CH', 'EC', 'NG', 'IE', 'IR', 'MD', 'RO', 'CO', 'HU', 'BF', 'FJ', 'HR', 'DZ', 'SC', 'SB', 'VE', 'BS', 'MM', 'CU', 'FI', 'SE', 'KR', 'MT', 'PG', 'AZ', 'MK', 'GR', 'MX', 'TR', 'PF', 'VN', 'TH', 'FR', 'UG', 'NO', 'LV', 'IT', 'JP', 'MV', 'CL', 'SI', 'PH', 'GB', 'ID') and consumers=('GLO',)\n",
      "Fallback CF could not be computed for supplier=(('location', 'RoW'), ('name', 'uranium production, in yellowcake'), ('reference product', 'uranium, in yellowcake')), consumer=(('location', 'GLO'),) with candidate suppliers=('AW', 'CW', 'GI', 'SX', 'MO', 'PS', 'ST', 'TK', 'KM', 'KY', 'LU', 'BN', 'CY', 'SZ', 'RW', 'SG', 'SL', 'TG', 'DJ', 'GM', 'IL', 'LB', 'VG', 'AD', 'BY', 'GQ', 'TJ', 'TM', 'AG', 'ER', 'KG', 'NE', 'QA', 'SK', 'BO', 'KE', 'KW', 'ML', 'PK', 'SM', 'VC', 'AT', 'BH', 'DM', 'GA', 'GH', 'SR', 'SS', 'ZM', 'ZW', 'BB', 'CM', 'CR', 'LC', 'LS', 'LT', 'NC', 'ZA', 'AL', 'AM', 'BJ', 'CD', 'CG', 'GE', 'GY', 'JO', 'TC', 'BE', 'IS', 'NA', 'SO', 'CZ', 'ET', 'HT', 'JM', 'KN', 'MZ', 'NP', 'TL', 'BW', 'BZ', 'LR', 'OM', 'SY', 'MA', 'MU', 'PL', 'SN', 'SV', 'TT', 'BI', 'CF', 'LA', 'MR', 'UZ', 'WS', 'IQ', 'PW', 'PY', 'SD', 'AO', 'DK', 'UY', 'BA', 'BT', 'EE', 'KP', 'NI', 'CI', 'HK', 'GT', 'KZ', 'LY', 'ME', 'MN', 'NL', 'TD', 'HN', 'SA', 'CV', 'MG', 'RS', 'TN', 'BD', 'BG', 'PA', 'KH', 'MW', 'YE', 'AE', 'AR', 'MY', 'PE', 'UA', 'LK', 'AF', 'DO', 'GN', 'TZ', 'PT', 'EG', 'DE', 'NZ', 'CH', 'EC', 'NG', 'IE', 'IR', 'MD', 'RO', 'CO', 'HU', 'BF', 'FJ', 'HR', 'DZ', 'SC', 'SB', 'VE', 'BS', 'MM', 'CU', 'FI', 'SE', 'KR', 'MT', 'PG', 'AZ', 'MK', 'GR', 'MX', 'TR', 'PF', 'VN', 'TH', 'FR', 'UG', 'NO', 'LV', 'IT', 'JP', 'MV', 'CL', 'SI', 'PH', 'GB', 'ID') and consumers=('GLO',)\n",
      "Processing dynamic groups (pass 2):  65%|██████████████████████████████████████████████████████████████████████████████████████▉                                              | 219/335 [00:10<00:03, 29.51it/s]Fallback CF could not be computed for supplier=(('location', 'VE'), ('name', 'petroleum and gas production, offshore'), ('reference product', 'petroleum')), consumer=(('location', 'RoW'),) with candidate suppliers=('VE',) and consumers=('AW', 'CW', 'SX', 'MO', 'PS', 'ST', 'TK', 'BQ', 'KM', 'KY', 'MS', 'BN', 'CY', 'SH', 'SZ', 'WF', 'RW', 'SG', 'SL', 'TG', 'DJ', 'GM', 'IL', 'LB', 'VG', 'GD', 'GQ', 'TJ', 'TM', 'AG', 'ER', 'KG', 'NE', 'QA', 'BO', 'KE', 'KW', 'ML', 'PK', 'TV', 'VC', 'BH', 'DM', 'GA', 'GH', 'SR', 'SS', 'ZM', 'ZW', 'BB', 'CM', 'CR', 'LC', 'LS', 'NC', 'TO', 'ZA', 'AM', 'BJ', 'CD', 'CG', 'GE', 'GY', 'JO', 'TC', 'NA', 'SO', 'ET', 'HT', 'JM', 'KN', 'MZ', 'NP', 'TL', 'AI', 'BW', 'BZ', 'FK', 'LR', 'OM', 'SY', 'MA', 'MU', 'SN', 'SV', 'TT', 'BI', 'CF', 'LA', 'MR', 'UZ', 'WS', 'IQ', 'PW', 'PY', 'SD', 'AO', 'UY', 'BT', 'KP', 'NI', 'CI', 'GW', 'HK', 'GT', 'KZ', 'LY', 'MH', 'MN', 'TD', 'HN', 'SA', 'CV', 'MG', 'TN', 'VU', 'BD', 'PA', 'KH', 'KI', 'MW', 'YE', 'AE', 'AR', 'MY', 'PE', 'LK', 'AF', 'DO', 'GN', 'TZ', 'EG', 'NZ', 'CH', 'EC', 'NG', 'IR', 'CO', 'BF', 'FJ', 'DZ', 'SC', 'SB', 'VE', 'BS', 'MM', 'CU', 'KR', 'PG', 'AZ', 'MX', 'TR', 'PF', 'VN', 'TH', 'UG', 'JP', 'MV', 'CL', 'PH', 'ID')\n",
      "Fallback CF could not be computed for supplier=(('location', 'RoW'), ('name', 'uranium production, centrifuge, enriched 3.8%'), ('reference product', 'uranium, enriched 3.8%, per separative work unit')), consumer=(('location', 'GLO'),) with candidate suppliers=('AW', 'CW', 'GI', 'SX', 'MO', 'PS', 'ST', 'TK', 'KM', 'KY', 'LU', 'BN', 'CY', 'SZ', 'RW', 'SG', 'SL', 'TG', 'DJ', 'GM', 'IL', 'LB', 'VG', 'AD', 'BY', 'GQ', 'TJ', 'TM', 'AG', 'ER', 'KG', 'NE', 'QA', 'SK', 'BO', 'KE', 'KW', 'ML', 'PK', 'SM', 'VC', 'AT', 'BH', 'DM', 'GA', 'GH', 'SR', 'SS', 'ZM', 'ZW', 'BB', 'CM', 'CR', 'LC', 'LS', 'LT', 'NC', 'ZA', 'AL', 'AM', 'BJ', 'CD', 'CG', 'GE', 'GY', 'JO', 'TC', 'BE', 'IS', 'NA', 'SO', 'CZ', 'ET', 'HT', 'JM', 'KN', 'MZ', 'NP', 'TL', 'BW', 'BZ', 'LR', 'OM', 'SY', 'BM', 'MA', 'MU', 'PL', 'SN', 'SV', 'TT', 'BI', 'CF', 'LA', 'MR', 'UZ', 'WS', 'IQ', 'PW', 'PY', 'SD', 'AO', 'DK', 'UY', 'BA', 'BT', 'EE', 'KP', 'NI', 'CI', 'HK', 'GT', 'KZ', 'LY', 'ME', 'MN', 'NL', 'TD', 'HN', 'SA', 'CV', 'MG', 'RS', 'TN', 'BD', 'BG', 'PA', 'KH', 'MW', 'YE', 'AE', 'AR', 'MY', 'PE', 'UA', 'LK', 'AF', 'DO', 'GN', 'TZ', 'PT', 'EG', 'DE', 'NZ', 'CH', 'EC', 'NG', 'IE', 'IR', 'MD', 'RO', 'CO', 'HU', 'BF', 'FJ', 'HR', 'DZ', 'SC', 'SB', 'VE', 'BS', 'MM', 'CU', 'FI', 'SE', 'KR', 'MT', 'PG', 'AZ', 'MK', 'GR', 'MX', 'TR', 'PF', 'VN', 'TH', 'FR', 'UG', 'NO', 'LV', 'GL', 'IT', 'JP', 'MV', 'CL', 'SI', 'PH', 'GB', 'ID') and consumers=('GLO',)\n",
      "Processing dynamic groups (pass 2):  68%|██████████████████████████████████████████████████████████████████████████████████████████                                           | 227/335 [00:10<00:04, 24.31it/s]Fallback CF could not be computed for supplier=(('location', 'RoW'), ('name', 'natural gas, high pressure, import from AE'), ('reference product', 'natural gas, high pressure')), consumer=(('location', 'TW'),) with candidate suppliers=('AW', 'CW', 'GI', 'SX', 'MO', 'PS', 'ST', 'TK', 'KM', 'KY', 'LU', 'BN', 'CY', 'SZ', 'RW', 'SG', 'SL', 'TG', 'DJ', 'GM', 'IL', 'LB', 'VG', 'AD', 'BY', 'GQ', 'TJ', 'TM', 'AG', 'ER', 'KG', 'NE', 'QA', 'SK', 'BO', 'KE', 'KW', 'ML', 'PK', 'SM', 'VC', 'AT', 'BH', 'DM', 'GA', 'GH', 'SR', 'SS', 'ZM', 'ZW', 'BB', 'CM', 'CR', 'LC', 'LS', 'LT', 'NC', 'ZA', 'AL', 'AM', 'BJ', 'CD', 'CG', 'GE', 'GY', 'JO', 'TC', 'BE', 'IS', 'NA', 'SO', 'CZ', 'ET', 'HT', 'JM', 'KN', 'MZ', 'NP', 'TL', 'BW', 'BZ', 'LR', 'OM', 'SY', 'BM', 'MA', 'MU', 'PL', 'SN', 'SV', 'TT', 'BI', 'CF', 'LA', 'MR', 'UZ', 'WS', 'IQ', 'PW', 'PY', 'SD', 'AO', 'DK', 'UY', 'BA', 'BT', 'EE', 'KP', 'NI', 'CI', 'HK', 'GT', 'KZ', 'LY', 'ME', 'MN', 'NL', 'TD', 'HN', 'SA', 'CV', 'MG', 'RS', 'TN', 'BD', 'BG', 'PA', 'KH', 'MW', 'YE', 'AE', 'AR', 'MY', 'PE', 'UA', 'LK', 'AF', 'DO', 'GN', 'TZ', 'PT', 'EG', 'DE', 'NZ', 'CH', 'EC', 'NG', 'IE', 'IR', 'MD', 'RO', 'CO', 'HU', 'BF', 'FJ', 'HR', 'DZ', 'SC', 'SB', 'VE', 'BS', 'MM', 'CU', 'FI', 'SE', 'KR', 'MT', 'PG', 'AZ', 'MK', 'GR', 'MX', 'TR', 'PF', 'VN', 'TH', 'FR', 'UG', 'NO', 'LV', 'GL', 'IT', 'JP', 'MV', 'CL', 'SI', 'PH', 'GB', 'ID') and consumers=('TW',)\n",
      "Processing dynamic groups (pass 2):  79%|████████████████████████████████████████████████████████████████████████████████████████████████████████▊                            | 264/335 [00:12<00:04, 14.37it/s]Fallback CF could not be computed for supplier=(('location', 'RoW'), ('name', 'primary zinc production from concentrate'), ('reference product', 'lead concentrate')), consumer=(('location', 'GLO'),) with candidate suppliers=('AW', 'CW', 'GI', 'SX', 'MO', 'PS', 'ST', 'TK', 'KM', 'KY', 'LU', 'BN', 'CY', 'SZ', 'RW', 'SG', 'SL', 'TG', 'DJ', 'GM', 'IL', 'LB', 'VG', 'AD', 'BY', 'GQ', 'TJ', 'TM', 'AG', 'ER', 'KG', 'NE', 'QA', 'SK', 'BO', 'KE', 'KW', 'ML', 'PK', 'SM', 'VC', 'AT', 'BH', 'DM', 'GA', 'GH', 'SR', 'SS', 'ZM', 'ZW', 'BB', 'CM', 'CR', 'LC', 'LS', 'LT', 'NC', 'ZA', 'AL', 'AM', 'BJ', 'CD', 'CG', 'GE', 'GY', 'JO', 'TC', 'BE', 'IS', 'NA', 'SO', 'CZ', 'ET', 'HT', 'JM', 'KN', 'MZ', 'NP', 'TL', 'BW', 'BZ', 'LR', 'OM', 'SY', 'BM', 'MA', 'MU', 'PL', 'SN', 'SV', 'TT', 'BI', 'CF', 'LA', 'MR', 'UZ', 'WS', 'IQ', 'PW', 'PY', 'SD', 'AO', 'DK', 'UY', 'BA', 'BT', 'EE', 'KP', 'NI', 'CI', 'HK', 'GT', 'KZ', 'LY', 'ME', 'MN', 'NL', 'TD', 'HN', 'SA', 'CV', 'MG', 'RS', 'TN', 'BD', 'BG', 'PA', 'KH', 'MW', 'YE', 'AE', 'AR', 'MY', 'PE', 'UA', 'LK', 'AF', 'DO', 'GN', 'TZ', 'PT', 'EG', 'DE', 'NZ', 'CH', 'EC', 'NG', 'IE', 'IR', 'MD', 'RO', 'CO', 'HU', 'BF', 'FJ', 'HR', 'DZ', 'SC', 'SB', 'VE', 'BS', 'MM', 'CU', 'FI', 'SE', 'KR', 'MT', 'PG', 'AZ', 'MK', 'GR', 'MX', 'TR', 'PF', 'VN', 'TH', 'FR', 'UG', 'NO', 'LV', 'GL', 'IT', 'JP', 'MV', 'CL', 'SI', 'PH', 'GB', 'ID') and consumers=('GLO',)\n",
      "Fallback CF could not be computed for supplier=(('location', 'CA-QC'), ('name', 'primary zinc production from concentrate'), ('reference product', 'sulfur dioxide, liquid')), consumer=(('location', 'RoW'),) with candidate suppliers=('CA-QC',) and consumers=('AW', 'CW', 'SX', 'MO', 'PM', 'PS', 'ST', 'TK', 'BQ', 'KM', 'KY', 'MS', 'BN', 'CY', 'SH', 'SZ', 'WF', 'RW', 'SG', 'SL', 'TG', 'DJ', 'GM', 'IL', 'LB', 'VG', 'GD', 'GQ', 'TJ', 'TM', 'AG', 'ER', 'KG', 'NE', 'QA', 'BO', 'KE', 'KW', 'ML', 'PK', 'TV', 'VC', 'BH', 'DM', 'GA', 'GH', 'SR', 'SS', 'ZM', 'ZW', 'BB', 'CM', 'CR', 'LC', 'LS', 'NC', 'TO', 'ZA', 'AM', 'BJ', 'CD', 'CG', 'GE', 'GY', 'JO', 'TC', 'NA', 'SO', 'ET', 'HT', 'JM', 'KN', 'MZ', 'NP', 'TL', 'AI', 'BW', 'BZ', 'FK', 'LR', 'OM', 'SY', 'BM', 'MA', 'MU', 'SN', 'SV', 'TT', 'BI', 'CF', 'LA', 'MR', 'UZ', 'WS', 'IQ', 'PW', 'PY', 'SD', 'AO', 'UY', 'BT', 'KP', 'NI', 'CI', 'GW', 'HK', 'GT', 'KZ', 'LY', 'MH', 'MN', 'TD', 'HN', 'SA', 'CV', 'MG', 'TN', 'VU', 'BD', 'PA', 'KH', 'KI', 'MW', 'YE', 'AE', 'AR', 'MY', 'PE', 'LK', 'AF', 'DO', 'GN', 'TZ', 'EG', 'NZ', 'EC', 'NG', 'IR', 'CO', 'BF', 'FJ', 'DZ', 'SC', 'SB', 'VE', 'BS', 'MM', 'CU', 'KR', 'PG', 'AZ', 'MX', 'TR', 'PF', 'VN', 'TH', 'UG', 'GL', 'JP', 'MV', 'CL', 'PH', 'ID')\n",
      "Processing dynamic groups (pass 2):  81%|███████████████████████████████████████████████████████████████████████████████████████████████████████████▏                         | 270/335 [00:12<00:03, 18.65it/s]Fallback CF could not be computed for supplier=(('location', 'RoW'), ('name', 'aluminium production, primary, ingot'), ('reference product', 'aluminium, primary, ingot')), consumer=(('location', 'IAI Area, North America'),) with candidate suppliers=('AW', 'CW', 'GI', 'SX', 'MO', 'PS', 'ST', 'KM', 'KY', 'LU', 'BN', 'CY', 'SZ', 'RW', 'SG', 'SL', 'TG', 'DJ', 'GM', 'IL', 'LB', 'VG', 'AD', 'BY', 'GQ', 'TM', 'AG', 'ER', 'KG', 'NE', 'BO', 'KE', 'KW', 'ML', 'PK', 'SM', 'VC', 'AT', 'DM', 'GA', 'SR', 'SS', 'ZM', 'ZW', 'BB', 'CR', 'LC', 'LS', 'LT', 'AL', 'AM', 'BJ', 'CD', 'CG', 'GE', 'GY', 'JO', 'TC', 'BE', 'NA', 'SO', 'CZ', 'ET', 'HT', 'JM', 'KN', 'NP', 'TL', 'BW', 'BZ', 'LR', 'SY', 'BM', 'MA', 'MU', 'PL', 'SN', 'SV', 'TT', 'BI', 'CF', 'LA', 'MR', 'UZ', 'IQ', 'PY', 'SD', 'AO', 'DK', 'UY', 'BT', 'EE', 'NI', 'CI', 'HK', 'GT', 'LY', 'MN', 'TD', 'HN', 'SA', 'CV', 'MG', 'RS', 'TN', 'BD', 'BG', 'PA', 'KH', 'MW', 'YE', 'MY', 'PE', 'UA', 'LK', 'AF', 'DO', 'GN', 'TZ', 'PT', 'CH', 'EC', 'IE', 'MD', 'CO', 'HU', 'BF', 'HR', 'DZ', 'SC', 'BS', 'MM', 'CU', 'FI', 'KR', 'MT', 'MK', 'MX', 'VN', 'TH', 'UG', 'LV', 'GL', 'MV', 'CL', 'PH') and consumers=('IAI Area, North America',)\n",
      "Processing dynamic groups (pass 2):  81%|████████████████████████████████████████████████████████████████████████████████████████████████████████████▍                        | 273/335 [00:13<00:04, 12.99it/s]Fallback CF could not be computed for supplier=(('location', 'RoW'), ('name', 'natural gas, high pressure, import from AU'), ('reference product', 'natural gas, high pressure')), consumer=(('location', 'TW'),) with candidate suppliers=('AW', 'CW', 'GI', 'SX', 'MO', 'PS', 'ST', 'TK', 'KM', 'KY', 'LU', 'BN', 'CY', 'SZ', 'RW', 'SG', 'SL', 'TG', 'DJ', 'GM', 'IL', 'LB', 'VG', 'AD', 'BY', 'GQ', 'TJ', 'TM', 'AG', 'ER', 'KG', 'NE', 'QA', 'SK', 'BO', 'KE', 'KW', 'ML', 'PK', 'SM', 'VC', 'AT', 'BH', 'DM', 'GA', 'GH', 'SR', 'SS', 'ZM', 'ZW', 'BB', 'CM', 'CR', 'LC', 'LS', 'LT', 'NC', 'ZA', 'AL', 'AM', 'BJ', 'CD', 'CG', 'GE', 'GY', 'JO', 'TC', 'BE', 'IS', 'NA', 'SO', 'CZ', 'ET', 'HT', 'JM', 'KN', 'MZ', 'NP', 'TL', 'BW', 'BZ', 'LR', 'OM', 'SY', 'BM', 'MA', 'MU', 'PL', 'SN', 'SV', 'TT', 'BI', 'CF', 'LA', 'MR', 'UZ', 'WS', 'IQ', 'PW', 'PY', 'SD', 'AO', 'DK', 'UY', 'BA', 'BT', 'EE', 'KP', 'NI', 'CI', 'HK', 'GT', 'KZ', 'LY', 'ME', 'MN', 'NL', 'TD', 'HN', 'SA', 'CV', 'MG', 'RS', 'TN', 'BD', 'BG', 'PA', 'KH', 'MW', 'YE', 'AE', 'AR', 'MY', 'PE', 'UA', 'LK', 'AF', 'DO', 'GN', 'TZ', 'PT', 'EG', 'DE', 'NZ', 'CH', 'EC', 'NG', 'IE', 'IR', 'MD', 'RO', 'CO', 'HU', 'BF', 'FJ', 'HR', 'DZ', 'SC', 'SB', 'VE', 'BS', 'MM', 'CU', 'FI', 'SE', 'KR', 'MT', 'PG', 'AZ', 'MK', 'GR', 'MX', 'TR', 'PF', 'VN', 'TH', 'FR', 'UG', 'NO', 'LV', 'GL', 'IT', 'JP', 'MV', 'CL', 'SI', 'PH', 'GB', 'ID') and consumers=('TW',)\n",
      "Fallback CF could not be computed for supplier=(('location', 'IAI Area, Gulf Cooperation Council'), ('name', 'aluminium production, primary, ingot'), ('reference product', 'aluminium, primary, ingot')), consumer=(('location', 'RoW'),) with candidate suppliers=('IAI Area, Gulf Cooperation Council',) and consumers=('AW', 'CW', 'GI', 'SX', 'MO', 'PM', 'PS', 'ST', 'TK', 'BQ', 'KM', 'KY', 'LU', 'MS', 'BN', 'CY', 'SH', 'SZ', 'WF', 'RW', 'SG', 'SL', 'TG', 'DJ', 'GM', 'IL', 'LB', 'VG', 'AD', 'BY', 'GD', 'GQ', 'TJ', 'TM', 'AG', 'ER', 'KG', 'NE', 'QA', 'BO', 'KE', 'KW', 'ML', 'PK', 'SM', 'TV', 'VC', 'AT', 'BH', 'DM', 'GA', 'GH', 'SR', 'SS', 'ZM', 'ZW', 'BB', 'CM', 'CR', 'LC', 'LS', 'LT', 'NC', 'TO', 'ZA', 'AL', 'AM', 'BJ', 'CD', 'CG', 'GE', 'GY', 'JO', 'TC', 'BE', 'NA', 'SO', 'CZ', 'ET', 'HT', 'JM', 'KN', 'MZ', 'NP', 'TL', 'AI', 'BW', 'BZ', 'FK', 'LR', 'OM', 'SY', 'BM', 'MA', 'MU', 'PL', 'SN', 'SV', 'TT', 'BI', 'CF', 'LA', 'MR', 'UZ', 'WS', 'IQ', 'PW', 'PY', 'SD', 'AO', 'DK', 'UY', 'BA', 'BT', 'EE', 'KP', 'NI', 'CI', 'GW', 'HK', 'GT', 'KZ', 'LY', 'ME', 'MH', 'MN', 'TD', 'HN', 'SA', 'CV', 'MG', 'RS', 'TN', 'VU', 'BD', 'BG', 'PA', 'KH', 'KI', 'MW', 'YE', 'AE', 'AR', 'MY', 'PE', 'UA', 'LK', 'AF', 'DO', 'GN', 'TZ', 'PT', 'EG', 'NZ', 'CH', 'EC', 'NG', 'IE', 'IR', 'MD', 'CO', 'HU', 'BF', 'FJ', 'HR', 'DZ', 'SC', 'SB', 'VE', 'BS', 'MM', 'CU', 'FI', 'KR', 'MT', 'PG', 'AZ', 'MK', 'MX', 'TR', 'PF', 'VN', 'TH', 'UG', 'LV', 'GL', 'JP', 'MV', 'CL', 'PH', 'ID')\n",
      "Processing dynamic groups (pass 2):  87%|███████████████████████████████████████████████████████████████████████████████████████████████████████████████████▉                 | 292/335 [00:14<00:02, 19.15it/s]Fallback CF could not be computed for supplier=(('location', 'RoW'), ('name', 'natural gas, high pressure, import from OM'), ('reference product', 'natural gas, high pressure')), consumer=(('location', 'TW'),) with candidate suppliers=('AW', 'CW', 'GI', 'SX', 'MO', 'PS', 'ST', 'TK', 'KM', 'KY', 'LU', 'BN', 'CY', 'SZ', 'RW', 'SG', 'SL', 'TG', 'DJ', 'GM', 'IL', 'LB', 'VG', 'AD', 'BY', 'GQ', 'TJ', 'TM', 'AG', 'ER', 'KG', 'NE', 'QA', 'SK', 'BO', 'KE', 'KW', 'ML', 'PK', 'SM', 'VC', 'AT', 'BH', 'DM', 'GA', 'GH', 'SR', 'SS', 'ZM', 'ZW', 'BB', 'CM', 'CR', 'LC', 'LS', 'LT', 'NC', 'ZA', 'AL', 'AM', 'BJ', 'CD', 'CG', 'GE', 'GY', 'JO', 'TC', 'BE', 'IS', 'NA', 'SO', 'CZ', 'ET', 'HT', 'JM', 'KN', 'MZ', 'NP', 'TL', 'BW', 'BZ', 'LR', 'OM', 'SY', 'BM', 'MA', 'MU', 'PL', 'SN', 'SV', 'TT', 'BI', 'CF', 'LA', 'MR', 'UZ', 'WS', 'IQ', 'PW', 'PY', 'SD', 'AO', 'DK', 'UY', 'BA', 'BT', 'EE', 'KP', 'NI', 'CI', 'HK', 'GT', 'KZ', 'LY', 'ME', 'MN', 'NL', 'TD', 'HN', 'SA', 'CV', 'MG', 'RS', 'TN', 'BD', 'BG', 'PA', 'KH', 'MW', 'YE', 'AE', 'AR', 'MY', 'PE', 'UA', 'LK', 'AF', 'DO', 'GN', 'TZ', 'PT', 'EG', 'DE', 'NZ', 'CH', 'EC', 'NG', 'IE', 'IR', 'MD', 'RO', 'CO', 'HU', 'BF', 'FJ', 'HR', 'DZ', 'SC', 'SB', 'VE', 'BS', 'MM', 'CU', 'FI', 'SE', 'KR', 'MT', 'PG', 'AZ', 'MK', 'GR', 'MX', 'TR', 'PF', 'VN', 'TH', 'FR', 'UG', 'NO', 'LV', 'GL', 'IT', 'JP', 'MV', 'CL', 'SI', 'PH', 'GB', 'ID') and consumers=('TW',)\n",
      "Processing dynamic groups (pass 2):  89%|██████████████████████████████████████████████████████████████████████████████████████████████████████████████████████▋              | 299/335 [00:14<00:01, 21.36it/s]Fallback CF could not be computed for supplier=(('location', 'RoW'), ('name', 'natural gas, high pressure, import from EG'), ('reference product', 'natural gas, high pressure')), consumer=(('location', 'TW'),) with candidate suppliers=('AW', 'CW', 'GI', 'SX', 'MO', 'PS', 'ST', 'TK', 'KM', 'KY', 'LU', 'BN', 'CY', 'SZ', 'RW', 'SG', 'SL', 'TG', 'DJ', 'GM', 'IL', 'LB', 'VG', 'AD', 'BY', 'GQ', 'TJ', 'TM', 'AG', 'ER', 'KG', 'NE', 'QA', 'SK', 'BO', 'KE', 'KW', 'ML', 'PK', 'SM', 'VC', 'AT', 'BH', 'DM', 'GA', 'GH', 'SR', 'SS', 'ZM', 'ZW', 'BB', 'CM', 'CR', 'LC', 'LS', 'LT', 'NC', 'ZA', 'AL', 'AM', 'BJ', 'CD', 'CG', 'GE', 'GY', 'JO', 'TC', 'BE', 'IS', 'NA', 'SO', 'CZ', 'ET', 'HT', 'JM', 'KN', 'MZ', 'NP', 'TL', 'BW', 'BZ', 'LR', 'OM', 'SY', 'BM', 'MA', 'MU', 'PL', 'SN', 'SV', 'TT', 'BI', 'CF', 'LA', 'MR', 'UZ', 'WS', 'IQ', 'PW', 'PY', 'SD', 'AO', 'DK', 'UY', 'BA', 'BT', 'EE', 'KP', 'NI', 'CI', 'HK', 'GT', 'KZ', 'LY', 'ME', 'MN', 'NL', 'TD', 'HN', 'SA', 'CV', 'MG', 'RS', 'TN', 'BD', 'BG', 'PA', 'KH', 'MW', 'YE', 'AE', 'AR', 'MY', 'PE', 'UA', 'LK', 'AF', 'DO', 'GN', 'TZ', 'PT', 'EG', 'DE', 'NZ', 'CH', 'EC', 'NG', 'IE', 'IR', 'MD', 'RO', 'CO', 'HU', 'BF', 'FJ', 'HR', 'DZ', 'SC', 'SB', 'VE', 'BS', 'MM', 'CU', 'FI', 'SE', 'KR', 'MT', 'PG', 'AZ', 'MK', 'GR', 'MX', 'TR', 'PF', 'VN', 'TH', 'FR', 'UG', 'NO', 'LV', 'GL', 'IT', 'JP', 'MV', 'CL', 'SI', 'PH', 'GB', 'ID') and consumers=('TW',)\n",
      "Processing dynamic groups (pass 2):  94%|█████████████████████████████████████████████████████████████████████████████████████████████████████████████████████████████        | 315/335 [00:15<00:01, 19.83it/s]Fallback CF could not be computed for supplier=(('location', 'RoW'), ('name', 'uranium mine operation, open cast'), ('reference product', 'uranium ore, as U')), consumer=(('location', 'GLO'),) with candidate suppliers=('AW', 'CW', 'GI', 'SX', 'MO', 'PS', 'ST', 'TK', 'KM', 'KY', 'LU', 'BN', 'CY', 'SZ', 'RW', 'SG', 'SL', 'TG', 'DJ', 'GM', 'IL', 'LB', 'VG', 'AD', 'BY', 'GQ', 'TJ', 'TM', 'AG', 'ER', 'KG', 'NE', 'QA', 'SK', 'BO', 'KE', 'KW', 'ML', 'PK', 'SM', 'VC', 'AT', 'BH', 'DM', 'GA', 'GH', 'SR', 'SS', 'ZM', 'ZW', 'BB', 'CM', 'CR', 'LC', 'LS', 'LT', 'NC', 'ZA', 'AL', 'AM', 'BJ', 'CD', 'CG', 'GE', 'GY', 'JO', 'TC', 'BE', 'IS', 'NA', 'SO', 'CZ', 'ET', 'HT', 'JM', 'KN', 'MZ', 'NP', 'TL', 'BW', 'BZ', 'LR', 'OM', 'SY', 'MA', 'MU', 'PL', 'SN', 'SV', 'TT', 'BI', 'CF', 'LA', 'MR', 'UZ', 'WS', 'IQ', 'PW', 'PY', 'SD', 'AO', 'DK', 'UY', 'BA', 'BT', 'EE', 'KP', 'NI', 'CI', 'HK', 'GT', 'KZ', 'LY', 'ME', 'MN', 'NL', 'TD', 'HN', 'SA', 'CV', 'MG', 'RS', 'TN', 'BD', 'BG', 'PA', 'KH', 'MW', 'YE', 'AE', 'AR', 'MY', 'PE', 'UA', 'LK', 'AF', 'DO', 'GN', 'TZ', 'PT', 'EG', 'DE', 'NZ', 'CH', 'EC', 'NG', 'IE', 'IR', 'MD', 'RO', 'CO', 'HU', 'BF', 'FJ', 'HR', 'DZ', 'SC', 'SB', 'VE', 'BS', 'MM', 'CU', 'FI', 'SE', 'KR', 'MT', 'PG', 'AZ', 'MK', 'GR', 'MX', 'TR', 'PF', 'VN', 'TH', 'FR', 'UG', 'NO', 'LV', 'IT', 'JP', 'MV', 'CL', 'SI', 'PH', 'GB', 'ID') and consumers=('GLO',)\n",
      "Fallback CF could not be computed for supplier=(('location', 'RoW'), ('name', 'natural gas, high pressure, import from US'), ('reference product', 'natural gas, high pressure')), consumer=(('location', 'TW'),) with candidate suppliers=('AW', 'CW', 'GI', 'SX', 'MO', 'PS', 'ST', 'TK', 'KM', 'KY', 'LU', 'BN', 'CY', 'SZ', 'RW', 'SG', 'SL', 'TG', 'DJ', 'GM', 'IL', 'LB', 'VG', 'AD', 'BY', 'GQ', 'TJ', 'TM', 'AG', 'ER', 'KG', 'NE', 'QA', 'SK', 'BO', 'KE', 'KW', 'ML', 'PK', 'SM', 'VC', 'AT', 'BH', 'DM', 'GA', 'GH', 'SR', 'SS', 'ZM', 'ZW', 'BB', 'CM', 'CR', 'LC', 'LS', 'LT', 'NC', 'ZA', 'AL', 'AM', 'BJ', 'CD', 'CG', 'GE', 'GY', 'JO', 'TC', 'BE', 'IS', 'NA', 'SO', 'CZ', 'ET', 'HT', 'JM', 'KN', 'MZ', 'NP', 'TL', 'BW', 'BZ', 'LR', 'OM', 'SY', 'BM', 'MA', 'MU', 'PL', 'SN', 'SV', 'TT', 'BI', 'CF', 'LA', 'MR', 'UZ', 'WS', 'IQ', 'PW', 'PY', 'SD', 'AO', 'DK', 'UY', 'BA', 'BT', 'EE', 'KP', 'NI', 'CI', 'HK', 'GT', 'KZ', 'LY', 'ME', 'MN', 'NL', 'TD', 'HN', 'SA', 'CV', 'MG', 'RS', 'TN', 'BD', 'BG', 'PA', 'KH', 'MW', 'YE', 'AE', 'AR', 'MY', 'PE', 'UA', 'LK', 'AF', 'DO', 'GN', 'TZ', 'PT', 'EG', 'DE', 'NZ', 'CH', 'EC', 'NG', 'IE', 'IR', 'MD', 'RO', 'CO', 'HU', 'BF', 'FJ', 'HR', 'DZ', 'SC', 'SB', 'VE', 'BS', 'MM', 'CU', 'FI', 'SE', 'KR', 'MT', 'PG', 'AZ', 'MK', 'GR', 'MX', 'TR', 'PF', 'VN', 'TH', 'FR', 'UG', 'NO', 'LV', 'GL', 'IT', 'JP', 'MV', 'CL', 'SI', 'PH', 'GB', 'ID') and consumers=('TW',)\n",
      "Processing dynamic groups (pass 2):  99%|███████████████████████████████████████████████████████████████████████████████████████████████████████████████████████████████████  | 330/335 [00:15<00:00, 32.78it/s]Fallback CF could not be computed for supplier=(('location', 'RoW'), ('name', 'zinc sulfide production'), ('reference product', 'zinc sulfide')), consumer=(('location', 'GLO'),) with candidate suppliers=('AW', 'CW', 'SX', 'MO', 'PS', 'ST', 'TK', 'KM', 'KY', 'BN', 'CY', 'SZ', 'RW', 'SG', 'SL', 'TG', 'DJ', 'GM', 'IL', 'LB', 'VG', 'GQ', 'TJ', 'TM', 'AG', 'ER', 'KG', 'NE', 'QA', 'BO', 'KE', 'KW', 'ML', 'PK', 'VC', 'BH', 'DM', 'GA', 'GH', 'SR', 'SS', 'ZM', 'ZW', 'BB', 'CM', 'CR', 'LC', 'LS', 'NC', 'ZA', 'AM', 'BJ', 'CD', 'CG', 'GE', 'GY', 'JO', 'TC', 'NA', 'SO', 'ET', 'HT', 'JM', 'KN', 'MZ', 'NP', 'TL', 'BW', 'BZ', 'LR', 'OM', 'SY', 'BM', 'MA', 'MU', 'SN', 'SV', 'TT', 'BI', 'CF', 'LA', 'MR', 'UZ', 'WS', 'IQ', 'PW', 'PY', 'SD', 'AO', 'UY', 'BT', 'KP', 'NI', 'CI', 'HK', 'GT', 'KZ', 'LY', 'MN', 'TD', 'HN', 'SA', 'CV', 'MG', 'TN', 'BD', 'PA', 'KH', 'MW', 'YE', 'AE', 'AR', 'MY', 'PE', 'LK', 'AF', 'DO', 'GN', 'TZ', 'EG', 'NZ', 'EC', 'NG', 'IR', 'CO', 'BF', 'FJ', 'DZ', 'SC', 'SB', 'VE', 'BS', 'MM', 'CU', 'KR', 'PG', 'AZ', 'MX', 'TR', 'PF', 'VN', 'TH', 'UG', 'GL', 'JP', 'MV', 'CL', 'PH', 'ID') and consumers=('GLO',)\n",
      "Fallback CF could not be computed for supplier=(('location', 'RoW'), ('name', 'zinc oxide production'), ('reference product', 'zinc oxide')), consumer=(('location', 'GLO'),) with candidate suppliers=('AW', 'CW', 'SX', 'MO', 'PS', 'ST', 'TK', 'KM', 'KY', 'BN', 'CY', 'SZ', 'RW', 'SG', 'SL', 'TG', 'DJ', 'GM', 'IL', 'LB', 'VG', 'GQ', 'TJ', 'TM', 'AG', 'ER', 'KG', 'NE', 'QA', 'BO', 'KE', 'KW', 'ML', 'PK', 'VC', 'BH', 'DM', 'GA', 'GH', 'SR', 'SS', 'ZM', 'ZW', 'BB', 'CM', 'CR', 'LC', 'LS', 'NC', 'ZA', 'AM', 'BJ', 'CD', 'CG', 'GE', 'GY', 'JO', 'TC', 'NA', 'SO', 'ET', 'HT', 'JM', 'KN', 'MZ', 'NP', 'TL', 'BW', 'BZ', 'LR', 'OM', 'SY', 'BM', 'MA', 'MU', 'SN', 'SV', 'TT', 'BI', 'CF', 'LA', 'MR', 'UZ', 'WS', 'IQ', 'PW', 'PY', 'SD', 'AO', 'UY', 'BT', 'KP', 'NI', 'CI', 'HK', 'GT', 'KZ', 'LY', 'MN', 'TD', 'HN', 'SA', 'CV', 'MG', 'TN', 'BD', 'PA', 'KH', 'MW', 'YE', 'AE', 'AR', 'MY', 'PE', 'LK', 'AF', 'DO', 'GN', 'TZ', 'EG', 'NZ', 'EC', 'NG', 'IR', 'CO', 'BF', 'FJ', 'DZ', 'SC', 'SB', 'VE', 'BS', 'MM', 'CU', 'KR', 'PG', 'AZ', 'MX', 'TR', 'PF', 'VN', 'TH', 'UG', 'GL', 'JP', 'MV', 'CL', 'PH', 'ID') and consumers=('GLO',)\n",
      "Processing dynamic groups (pass 2): 100%|█████████████████████████████████████████████████████████████████████████████████████████████████████████████████████████████████████| 335/335 [00:15<00:00, 21.37it/s]\n"
     ]
    },
    {
     "name": "stdout",
     "output_type": "stream",
     "text": [
      "Processed edges: 685\n",
      "Handling contained locations...\n"
     ]
    },
    {
     "name": "stderr",
     "output_type": "stream",
     "text": [
      "Processing contained groups (pass 1): 0it [00:00, ?it/s]\n",
      "Processing contained groups (pass 2): 0it [00:00, ?it/s]\n",
      "Processing contained groups (pass 1): 100%|█████████████████████████████████████████████████████████████████████████████████████████████████████████████████████████████████████| 2/2 [00:00<00:00, 1964.09it/s]\n",
      "Processing contained groups (pass 2):   0%|                                                                                                                                             | 0/514 [00:00<?, ?it/s]Fallback CF could not be computed for supplier=(('location', 'CN'), ('name', 'uranium hexafluoride production'), ('reference product', 'uranium hexafluoride')), consumer=(('location', 'CN'),) with candidate suppliers=('GLO',) and consumers=('GLO',)\n",
      "Fallback CF could not be computed for supplier=(('location', 'CN-SC'), ('name', 'rare earth element mine operation and beneficiation, bastnaesite ore'), ('reference product', 'rare earth oxide concentrate, 70% REO')), consumer=(('location', 'CN-SC'),) with candidate suppliers=('CN',) and consumers=('CN',)\n",
      "Fallback CF could not be computed for supplier=(('location', 'US'), ('name', 'uranium hexafluoride production'), ('reference product', 'uranium hexafluoride')), consumer=(('location', 'US'),) with candidate suppliers=('GLO',) and consumers=('GLO',)\n",
      "Fallback CF could not be computed for supplier=(('location', 'CN-NM'), ('name', 'rare earth element mine operation and beneficiation, bastnaesite and monazite ore'), ('reference product', 'rare earth oxide concentrate, 50% REO')), consumer=(('location', 'CN-NM'),) with candidate suppliers=('CN',) and consumers=('CN',)\n",
      "Fallback CF could not be computed for supplier=(('location', 'CN-FJ'), ('name', 'rare earth oxides production, from rare earth carbonate concentrate'), ('reference product', 'europium oxide')), consumer=(('location', 'GLO'),) with candidate suppliers=('CN',) and consumers=()\n",
      "Fallback CF could not be computed for supplier=(('location', 'CN-FJ'), ('name', 'rare earth oxides production, from rare earth carbonate concentrate'), ('reference product', 'cerium oxide')), consumer=(('location', 'GLO'),) with candidate suppliers=('CN',) and consumers=()\n",
      "Fallback CF could not be computed for supplier=(('location', 'CN-FJ'), ('name', 'rare earth oxides production, from rare earth carbonate concentrate'), ('reference product', 'holmium oxide')), consumer=(('location', 'GLO'),) with candidate suppliers=('CN',) and consumers=()\n",
      "Fallback CF could not be computed for supplier=(('location', 'CN-FJ'), ('name', 'rare earth oxides production, from rare earth carbonate concentrate'), ('reference product', 'yttrium oxide')), consumer=(('location', 'GLO'),) with candidate suppliers=('CN',) and consumers=()\n",
      "Fallback CF could not be computed for supplier=(('location', 'CN-FJ'), ('name', 'rare earth oxides production, from rare earth carbonate concentrate'), ('reference product', 'lutetium oxide')), consumer=(('location', 'GLO'),) with candidate suppliers=('CN',) and consumers=()\n",
      "Fallback CF could not be computed for supplier=(('location', 'CN-FJ'), ('name', 'rare earth oxides production, from rare earth carbonate concentrate'), ('reference product', 'praseodymium oxide')), consumer=(('location', 'GLO'),) with candidate suppliers=('CN',) and consumers=()\n",
      "Fallback CF could not be computed for supplier=(('location', 'CN-FJ'), ('name', 'rare earth oxides production, from rare earth carbonate concentrate'), ('reference product', 'erbium oxide')), consumer=(('location', 'GLO'),) with candidate suppliers=('CN',) and consumers=()\n",
      "Fallback CF could not be computed for supplier=(('location', 'CN-FJ'), ('name', 'rare earth oxides production, from rare earth carbonate concentrate'), ('reference product', 'ytterbium oxide')), consumer=(('location', 'GLO'),) with candidate suppliers=('CN',) and consumers=()\n",
      "Fallback CF could not be computed for supplier=(('location', 'CN-FJ'), ('name', 'rare earth oxides production, from rare earth carbonate concentrate'), ('reference product', 'lanthanum oxide')), consumer=(('location', 'GLO'),) with candidate suppliers=('CN',) and consumers=()\n",
      "Fallback CF could not be computed for supplier=(('location', 'CN-FJ'), ('name', 'rare earth oxides production, from rare earth carbonate concentrate'), ('reference product', 'thulium oxide')), consumer=(('location', 'GLO'),) with candidate suppliers=('CN',) and consumers=()\n",
      "Fallback CF could not be computed for supplier=(('location', 'CN-FJ'), ('name', 'rare earth oxides production, from rare earth carbonate concentrate'), ('reference product', 'terbium oxide')), consumer=(('location', 'GLO'),) with candidate suppliers=('CN',) and consumers=()\n",
      "Fallback CF could not be computed for supplier=(('location', 'CN-FJ'), ('name', 'rare earth oxides production, from rare earth carbonate concentrate'), ('reference product', 'gadolinium oxide')), consumer=(('location', 'GLO'),) with candidate suppliers=('CN',) and consumers=()\n",
      "Fallback CF could not be computed for supplier=(('location', 'CN-FJ'), ('name', 'rare earth oxides production, from rare earth carbonate concentrate'), ('reference product', 'dysprosium oxide')), consumer=(('location', 'GLO'),) with candidate suppliers=('CN',) and consumers=()\n",
      "Fallback CF could not be computed for supplier=(('location', 'CN-FJ'), ('name', 'rare earth oxides production, from rare earth carbonate concentrate'), ('reference product', 'neodymium oxide')), consumer=(('location', 'GLO'),) with candidate suppliers=('CN',) and consumers=()\n",
      "Fallback CF could not be computed for supplier=(('location', 'CN-FJ'), ('name', 'rare earth oxides production, from rare earth carbonate concentrate'), ('reference product', 'samarium oxide')), consumer=(('location', 'GLO'),) with candidate suppliers=('CN',) and consumers=()\n",
      "Processing contained groups (pass 2):  42%|██████████████████████████████████████████████████████▋                                                                          | 218/514 [00:00<00:00, 2089.35it/s]Fallback CF could not be computed for supplier=(('location', 'CN-SC'), ('name', 'rare earth oxides production, from rare earth oxide concentrate, 70% REO'), ('reference product', 'samarium oxide')), consumer=(('location', 'GLO'),) with candidate suppliers=('CN',) and consumers=()\n",
      "Fallback CF could not be computed for supplier=(('location', 'CN-SC'), ('name', 'rare earth oxides production, from rare earth oxide concentrate, 70% REO'), ('reference product', 'terbium-dysprosium oxide')), consumer=(('location', 'GLO'),) with candidate suppliers=('CN',) and consumers=()\n",
      "Fallback CF could not be computed for supplier=(('location', 'CN-SC'), ('name', 'rare earth oxides production, from rare earth oxide concentrate, 70% REO'), ('reference product', 'europium oxide')), consumer=(('location', 'GLO'),) with candidate suppliers=('CN',) and consumers=()\n",
      "Fallback CF could not be computed for supplier=(('location', 'CN-SC'), ('name', 'rare earth oxides production, from rare earth oxide concentrate, 70% REO'), ('reference product', 'yttrium oxide')), consumer=(('location', 'GLO'),) with candidate suppliers=('CN',) and consumers=()\n",
      "Fallback CF could not be computed for supplier=(('location', 'CN-SC'), ('name', 'rare earth oxides production, from rare earth oxide concentrate, 70% REO'), ('reference product', 'cerium oxide')), consumer=(('location', 'GLO'),) with candidate suppliers=('CN',) and consumers=()\n",
      "Fallback CF could not be computed for supplier=(('location', 'CN-SC'), ('name', 'rare earth element mine operation and beneficiation, bastnaesite ore'), ('reference product', 'rare earth oxide concentrate, 70% REO')), consumer=(('location', 'GLO'),) with candidate suppliers=('CN',) and consumers=()\n",
      "Fallback CF could not be computed for supplier=(('location', 'CN-SC'), ('name', 'rare earth oxides production, from rare earth oxide concentrate, 70% REO'), ('reference product', 'gadolinium oxide')), consumer=(('location', 'GLO'),) with candidate suppliers=('CN',) and consumers=()\n",
      "Fallback CF could not be computed for supplier=(('location', 'CN-SC'), ('name', 'rare earth oxides production, from rare earth oxide concentrate, 70% REO'), ('reference product', 'lanthanum oxide')), consumer=(('location', 'GLO'),) with candidate suppliers=('CN',) and consumers=()\n",
      "Fallback CF could not be computed for supplier=(('location', 'CN-SC'), ('name', 'rare earth oxides production, from rare earth oxide concentrate, 70% REO'), ('reference product', 'sulfur')), consumer=(('location', 'GLO'),) with candidate suppliers=('CN',) and consumers=()\n",
      "Fallback CF could not be computed for supplier=(('location', 'CN-SC'), ('name', 'rare earth oxides production, from rare earth oxide concentrate, 70% REO'), ('reference product', 'lanthanum-cerium oxide')), consumer=(('location', 'GLO'),) with candidate suppliers=('CN',) and consumers=()\n",
      "Fallback CF could not be computed for supplier=(('location', 'CN-SC'), ('name', 'rare earth oxides production, from rare earth oxide concentrate, 70% REO'), ('reference product', 'praseodymium-neodymium oxide')), consumer=(('location', 'GLO'),) with candidate suppliers=('CN',) and consumers=()\n",
      "Fallback CF could not be computed for supplier=(('location', 'RU'), ('name', 'uranium production, centrifuge, enriched 4.0%'), ('reference product', 'uranium, enriched 4.0%, per separative work unit')), consumer=(('location', 'GLO'),) with candidate suppliers=('GLO',) and consumers=()\n",
      "Fallback CF could not be computed for supplier=(('location', 'RU'), ('name', 'uranium production, centrifuge, enriched 3.8%'), ('reference product', 'uranium, enriched 3.8%, per separative work unit')), consumer=(('location', 'GLO'),) with candidate suppliers=('GLO',) and consumers=()\n",
      "Fallback CF could not be computed for supplier=(('location', 'RU'), ('name', 'uranium production, centrifuge, enriched 4.2%'), ('reference product', 'uranium, enriched 4.2%, per separative work unit')), consumer=(('location', 'GLO'),) with candidate suppliers=('GLO',) and consumers=()\n",
      "Fallback CF could not be computed for supplier=(('location', 'CA-QC'), ('name', 'nickel mine operation and benefication to nickel concentrate, 16% Ni'), ('reference product', 'nickel concentrate, 16% Ni')), consumer=(('location', 'GLO'),) with candidate suppliers=('CA',) and consumers=()\n",
      "Fallback CF could not be computed for supplier=(('location', 'CA-QC'), ('name', 'gold-silver mine operation with refinery'), ('reference product', 'gold')), consumer=(('location', 'GLO'),) with candidate suppliers=('CA',) and consumers=()\n",
      "Fallback CF could not be computed for supplier=(('location', 'CA-QC'), ('name', 'tellurium production, semiconductor-grade'), ('reference product', 'tellurium, semiconductor-grade')), consumer=(('location', 'GLO'),) with candidate suppliers=('CA',) and consumers=()\n",
      "Fallback CF could not be computed for supplier=(('location', 'CA-QC'), ('name', 'cadmium production, primary'), ('reference product', 'cadmium')), consumer=(('location', 'GLO'),) with candidate suppliers=('CA',) and consumers=()\n",
      "Fallback CF could not be computed for supplier=(('location', 'CA-QC'), ('name', 'barite production'), ('reference product', 'barite')), consumer=(('location', 'GLO'),) with candidate suppliers=('CA',) and consumers=()\n",
      "Fallback CF could not be computed for supplier=(('location', 'CA-QC'), ('name', 'gold-silver mine operation with refinery'), ('reference product', 'silver')), consumer=(('location', 'GLO'),) with candidate suppliers=('CA',) and consumers=()\n",
      "Fallback CF could not be computed for supplier=(('location', 'CA-QC'), ('name', 'gold-silver mine operation and beneficiation'), ('reference product', 'lead concentrate')), consumer=(('location', 'GLO'),) with candidate suppliers=('CA',) and consumers=()\n",
      "Fallback CF could not be computed for supplier=(('location', 'CA-QC'), ('name', 'primary zinc production from concentrate'), ('reference product', 'zinc')), consumer=(('location', 'GLO'),) with candidate suppliers=('CA',) and consumers=()\n",
      "Fallback CF could not be computed for supplier=(('location', 'CN-NM'), ('name', 'rare earth oxides production, from rare earth oxide concentrate, 50% REO'), ('reference product', 'praseodymium oxide')), consumer=(('location', 'GLO'),) with candidate suppliers=('CN',) and consumers=()\n",
      "Fallback CF could not be computed for supplier=(('location', 'CN-NM'), ('name', 'rare earth oxides production, from rare earth oxide concentrate, 50% REO'), ('reference product', 'samarium-europium-gadolinium oxide')), consumer=(('location', 'GLO'),) with candidate suppliers=('CN',) and consumers=()\n",
      "Fallback CF could not be computed for supplier=(('location', 'CN-NM'), ('name', 'rare earth oxides production, from rare earth oxide concentrate, 50% REO'), ('reference product', 'lanthanum oxide')), consumer=(('location', 'GLO'),) with candidate suppliers=('CN',) and consumers=()\n",
      "Fallback CF could not be computed for supplier=(('location', 'CN-NM'), ('name', 'rare earth oxides production, from rare earth oxide concentrate, 50% REO'), ('reference product', 'neodymium oxide')), consumer=(('location', 'GLO'),) with candidate suppliers=('CN',) and consumers=()\n",
      "Fallback CF could not be computed for supplier=(('location', 'CN-NM'), ('name', 'scandium oxide production, from rare earth tailings'), ('reference product', 'sulfur')), consumer=(('location', 'GLO'),) with candidate suppliers=('CN',) and consumers=()\n",
      "Fallback CF could not be computed for supplier=(('location', 'CN-NM'), ('name', 'rare earth oxides production, from rare earth oxide concentrate, 50% REO'), ('reference product', 'cerium oxide')), consumer=(('location', 'GLO'),) with candidate suppliers=('CN',) and consumers=()\n",
      "Fallback CF could not be computed for supplier=(('location', 'CN-NM'), ('name', 'rare earth oxides production, from rare earth oxide concentrate, 50% REO'), ('reference product', 'magnesium sulfate')), consumer=(('location', 'GLO'),) with candidate suppliers=('CN',) and consumers=()\n",
      "Fallback CF could not be computed for supplier=(('location', 'DE'), ('name', 'uranium production, centrifuge, enriched 4.2%'), ('reference product', 'uranium, enriched 4.2%, per separative work unit')), consumer=(('location', 'GLO'),) with candidate suppliers=('GLO',) and consumers=()\n",
      "Fallback CF could not be computed for supplier=(('location', 'DE'), ('name', 'uranium production, centrifuge, enriched 4.0%'), ('reference product', 'uranium, enriched 4.0%, per separative work unit')), consumer=(('location', 'GLO'),) with candidate suppliers=('GLO',) and consumers=()\n",
      "Fallback CF could not be computed for supplier=(('location', 'DE'), ('name', 'uranium production, centrifuge, enriched 3.8%'), ('reference product', 'uranium, enriched 3.8%, per separative work unit')), consumer=(('location', 'GLO'),) with candidate suppliers=('GLO',) and consumers=()\n",
      "Fallback CF could not be computed for supplier=(('location', 'DE'), ('name', 'uranium fuel element production, enriched 4%, for light water reactor'), ('reference product', 'uranium, enriched 4%, in fuel element for light water reactor')), consumer=(('location', 'GLO'),) with candidate suppliers=('GLO',) and consumers=()\n",
      "Fallback CF could not be computed for supplier=(('location', 'RNA'), ('name', 'uranium mine operation, open cast'), ('reference product', 'uranium ore, as U')), consumer=(('location', 'GLO'),) with candidate suppliers=('GLO',) and consumers=()\n",
      "Fallback CF could not be computed for supplier=(('location', 'RNA'), ('name', 'uranium mine operation, underground'), ('reference product', 'uranium ore, as U')), consumer=(('location', 'GLO'),) with candidate suppliers=('GLO',) and consumers=()\n",
      "Fallback CF could not be computed for supplier=(('location', 'RNA'), ('name', 'uranium production, in yellowcake'), ('reference product', 'uranium, in yellowcake')), consumer=(('location', 'GLO'),) with candidate suppliers=('GLO',) and consumers=()\n",
      "Fallback CF could not be computed for supplier=(('location', 'NL'), ('name', 'uranium production, centrifuge, enriched 4.0%'), ('reference product', 'uranium, enriched 4.0%, per separative work unit')), consumer=(('location', 'GLO'),) with candidate suppliers=('GLO',) and consumers=()\n",
      "Processing contained groups (pass 2):  83%|███████████████████████████████████████████████████████████████████████████████████████████████████████████▏                     | 427/514 [00:00<00:00, 1574.27it/s]Fallback CF could not be computed for supplier=(('location', 'NL'), ('name', 'uranium production, centrifuge, enriched 3.8%'), ('reference product', 'uranium, enriched 3.8%, per separative work unit')), consumer=(('location', 'GLO'),) with candidate suppliers=('GLO',) and consumers=()\n",
      "Fallback CF could not be computed for supplier=(('location', 'NL'), ('name', 'uranium production, centrifuge, enriched 4.2%'), ('reference product', 'uranium, enriched 4.2%, per separative work unit')), consumer=(('location', 'GLO'),) with candidate suppliers=('GLO',) and consumers=()\n",
      "Fallback CF could not be computed for supplier=(('location', 'CD'), ('name', 'tantalum mine operation and beneficiation'), ('reference product', 'tantalum concentrate, 30% Ta2O5')), consumer=(('location', 'GLO'),) with candidate suppliers=('GLO',) and consumers=()\n",
      "Fallback CF could not be computed for supplier=(('location', 'RW'), ('name', 'tantalum mine operation and beneficiation'), ('reference product', 'tantalum concentrate, 30% Ta2O5')), consumer=(('location', 'GLO'),) with candidate suppliers=('GLO',) and consumers=()\n",
      "Fallback CF could not be computed for supplier=(('location', 'PG'), ('name', 'gold-silver mine operation with refinery'), ('reference product', 'silver')), consumer=(('location', 'GLO'),) with candidate suppliers=('GLO',) and consumers=()\n",
      "Processing contained groups (pass 2): 100%|█████████████████████████████████████████████████████████████████████████████████████████████████████████████████████████████████| 514/514 [00:00<00:00, 1486.94it/s]\n"
     ]
    },
    {
     "name": "stdout",
     "output_type": "stream",
     "text": [
      "Processed edges: 1144\n",
      "Handling remaining exchanges...\n"
     ]
    },
    {
     "name": "stderr",
     "output_type": "stream",
     "text": [
      "Processing global groups (pass 1): 0it [00:00, ?it/s]\n",
      "Processing global groups (pass 2): 0it [00:00, ?it/s]\n",
      "Processing global groups (pass 1): 0it [00:00, ?it/s]\n",
      "Processing global groups (pass 2): 100%|████████████████████████████████████████████████████████████████████████████████████████████████████████████████████████████████████████| 98/98 [00:23<00:00,  4.18it/s]\n"
     ]
    },
    {
     "name": "stdout",
     "output_type": "stream",
     "text": [
      "Processed edges: 1266\n",
      "CPU times: total: 3min 18s\n",
      "Wall time: 4min 50s\n"
     ]
    }
   ],
   "source": [
    "%%time\n",
    "LCA = EdgeLCIA({act: 1}, method)\n",
    "LCA.lci()\n",
    "\n",
    "LCA.map_exchanges()\n",
    "LCA.map_aggregate_locations()\n",
    "LCA.map_dynamic_locations()\n",
    "LCA.map_contained_locations()\n",
    "LCA.map_remaining_locations_to_global()"
   ]
  },
  {
   "cell_type": "code",
   "execution_count": 8,
   "id": "6e01e34f-fb3f-40b2-b87e-06915aaf53dd",
   "metadata": {},
   "outputs": [
    {
     "name": "stderr",
     "output_type": "stream",
     "text": [
      "No parameter set found for scenario 'None'. Using empty defaults.\n"
     ]
    },
    {
     "name": "stdout",
     "output_type": "stream",
     "text": [
      "0.38563785420634406\n"
     ]
    }
   ],
   "source": [
    "LCA.evaluate_cfs()\n",
    "LCA.lcia()\n",
    "current_score = LCA.score\n",
    "print(current_score)\n",
    "df_table = LCA.generate_cf_table(include_unmatched=True)"
   ]
  },
  {
   "cell_type": "markdown",
   "id": "151cab42-111c-47aa-bbda-bec31025ef65",
   "metadata": {},
   "source": [
    "#### Run alternative method"
   ]
  },
  {
   "cell_type": "code",
   "execution_count": 9,
   "id": "591abbf2-ac99-49c9-b416-33092f1dd0f8",
   "metadata": {},
   "outputs": [
    {
     "name": "stderr",
     "output_type": "stream",
     "text": [
      "No parameters or scenarios found in method file: C:\\Users\\hahnme_a\\PycharmProjects\\edges\\edges\\data\\GeoPolRisk_elementary flows_2024.json\n",
      "Mapping exchanges: 100%|███████████████████████████████████████████████████████████████████████████████████████████████████████████████████████████████████████████████████████| 58/58 [00:00<00:00, 146.17it/s]\n"
     ]
    },
    {
     "name": "stdout",
     "output_type": "stream",
     "text": [
      "Processed edges: 2829\n",
      "Handling static regions...\n"
     ]
    },
    {
     "name": "stderr",
     "output_type": "stream",
     "text": [
      "US-PR not found in regex\n",
      "IN-DD not found in regex\n",
      "Processing static groups (pass 1): 0it [00:00, ?it/s]\n",
      "Processing static groups (pass 2): 0it [00:00, ?it/s]\n",
      "Processing static groups (pass 1): 0it [00:00, ?it/s]\n",
      "Processing static groups (pass 2): 0it [00:00, ?it/s]\n"
     ]
    },
    {
     "name": "stdout",
     "output_type": "stream",
     "text": [
      "Processed edges: 2829\n",
      "Handling dynamic regions...\n"
     ]
    },
    {
     "name": "stderr",
     "output_type": "stream",
     "text": [
      "Processing dynamic groups (pass 1): 0it [00:00, ?it/s]\n",
      "Processing dynamic groups (pass 2): 0it [00:00, ?it/s]\n",
      "Processing dynamic groups (pass 1): 0it [00:00, ?it/s]\n",
      "Processing dynamic groups (pass 2): 0it [00:00, ?it/s]\n"
     ]
    },
    {
     "name": "stdout",
     "output_type": "stream",
     "text": [
      "Processed edges: 2829\n",
      "Handling contained locations...\n"
     ]
    },
    {
     "name": "stderr",
     "output_type": "stream",
     "text": [
      "US-PR not found in regex\n",
      "IN-DD not found in regex\n",
      "Processing contained groups (pass 1): 0it [00:00, ?it/s]\n",
      "Processing contained groups (pass 2): 0it [00:00, ?it/s]\n",
      "Processing contained groups (pass 1): 0it [00:00, ?it/s]\n",
      "Processing contained groups (pass 2): 0it [00:00, ?it/s]\n"
     ]
    },
    {
     "name": "stdout",
     "output_type": "stream",
     "text": [
      "Processed edges: 2829\n",
      "Handling remaining exchanges...\n"
     ]
    },
    {
     "name": "stderr",
     "output_type": "stream",
     "text": [
      "Processing global groups (pass 1): 0it [00:00, ?it/s]\n",
      "Processing global groups (pass 2): 0it [00:00, ?it/s]\n",
      "Processing global groups (pass 1): 0it [00:00, ?it/s]\n",
      "Processing global groups (pass 2): 0it [00:00, ?it/s]\n"
     ]
    },
    {
     "name": "stdout",
     "output_type": "stream",
     "text": [
      "Processed edges: 2829\n"
     ]
    },
    {
     "name": "stderr",
     "output_type": "stream",
     "text": [
      "No parameter set found for scenario 'None'. Using empty defaults.\n"
     ]
    },
    {
     "name": "stdout",
     "output_type": "stream",
     "text": [
      "0.1350014089718537\n"
     ]
    }
   ],
   "source": [
    "LCA_alt = EdgeLCIA({act: 1}, method_alt)\n",
    "LCA_alt.lci()\n",
    "LCA_alt.map_exchanges()\n",
    "LCA_alt.map_aggregate_locations()\n",
    "LCA_alt.map_dynamic_locations()\n",
    "LCA_alt.map_contained_locations()\n",
    "LCA_alt.map_remaining_locations_to_global()\n",
    "LCA_alt.evaluate_cfs()\n",
    "LCA_alt.lcia()\n",
    "alternative_score = LCA_alt.score\n",
    "print(alternative_score)"
   ]
  },
  {
   "cell_type": "markdown",
   "id": "3025cb26-e148-467e-a14d-774859b8dfa5",
   "metadata": {},
   "source": [
    "<a id=\"sec_export_results\"></a>\n",
    "# 5. Export results"
   ]
  },
  {
   "cell_type": "code",
   "execution_count": 10,
   "id": "2e08d218-4ee4-4aa9-b0e0-e95c1baec549",
   "metadata": {},
   "outputs": [
    {
     "data": {
      "text/plain": [
       "160795"
      ]
     },
     "execution_count": 10,
     "metadata": {},
     "output_type": "execute_result"
    }
   ],
   "source": [
    "len(df_table)"
   ]
  },
  {
   "cell_type": "code",
   "execution_count": 11,
   "id": "2e56cab4-e846-4494-9efe-3108628e0e43",
   "metadata": {},
   "outputs": [
    {
     "data": {
      "text/plain": [
       "160795"
      ]
     },
     "execution_count": 11,
     "metadata": {},
     "output_type": "execute_result"
    }
   ],
   "source": [
    "len(df_table)"
   ]
  },
  {
   "cell_type": "code",
   "execution_count": 12,
   "id": "3b51c12e-0f0f-42ef-9693-1ac6e33f8182",
   "metadata": {},
   "outputs": [
    {
     "data": {
      "text/html": [
       "<div>\n",
       "<style scoped>\n",
       "    .dataframe tbody tr th:only-of-type {\n",
       "        vertical-align: middle;\n",
       "    }\n",
       "\n",
       "    .dataframe tbody tr th {\n",
       "        vertical-align: top;\n",
       "    }\n",
       "\n",
       "    .dataframe thead th {\n",
       "        text-align: right;\n",
       "    }\n",
       "</style>\n",
       "<table border=\"1\" class=\"dataframe\">\n",
       "  <thead>\n",
       "    <tr style=\"text-align: right;\">\n",
       "      <th></th>\n",
       "      <th>supplier name</th>\n",
       "      <th>supplier reference product</th>\n",
       "      <th>supplier location</th>\n",
       "      <th>consumer name</th>\n",
       "      <th>consumer reference product</th>\n",
       "      <th>consumer location</th>\n",
       "      <th>amount</th>\n",
       "      <th>CF</th>\n",
       "      <th>impact</th>\n",
       "    </tr>\n",
       "  </thead>\n",
       "  <tbody>\n",
       "    <tr>\n",
       "      <th>0</th>\n",
       "      <td>sodium arsenide production from Imperial smelt...</td>\n",
       "      <td>sodium arsenide</td>\n",
       "      <td>GLO</td>\n",
       "      <td>market for sodium arsenide</td>\n",
       "      <td>sodium arsenide</td>\n",
       "      <td>GLO</td>\n",
       "      <td>2.582327e-12</td>\n",
       "      <td>60.984817</td>\n",
       "      <td>1.574827e-10</td>\n",
       "    </tr>\n",
       "    <tr>\n",
       "      <th>1</th>\n",
       "      <td>asbestos production, chrysotile type</td>\n",
       "      <td>asbestos, chrysotile type</td>\n",
       "      <td>GLO</td>\n",
       "      <td>market for asbestos, chrysotile type</td>\n",
       "      <td>asbestos, chrysotile type</td>\n",
       "      <td>GLO</td>\n",
       "      <td>1.464823e-06</td>\n",
       "      <td>0.233699</td>\n",
       "      <td>3.423270e-07</td>\n",
       "    </tr>\n",
       "    <tr>\n",
       "      <th>2</th>\n",
       "      <td>bauxite mine operation</td>\n",
       "      <td>bauxite</td>\n",
       "      <td>GLO</td>\n",
       "      <td>market for bauxite</td>\n",
       "      <td>bauxite</td>\n",
       "      <td>GLO</td>\n",
       "      <td>1.130260e-02</td>\n",
       "      <td>9.742032</td>\n",
       "      <td>1.101103e-01</td>\n",
       "    </tr>\n",
       "    <tr>\n",
       "      <th>3</th>\n",
       "      <td>bentonite quarry operation</td>\n",
       "      <td>bentonite</td>\n",
       "      <td>DE</td>\n",
       "      <td>market for bentonite</td>\n",
       "      <td>bentonite</td>\n",
       "      <td>GLO</td>\n",
       "      <td>1.683820e-06</td>\n",
       "      <td>0.000304</td>\n",
       "      <td>5.115543e-10</td>\n",
       "    </tr>\n",
       "    <tr>\n",
       "      <th>4</th>\n",
       "      <td>sodium tetrahydridoborate production, Brown-Sc...</td>\n",
       "      <td>sodium tetrahydridoborate</td>\n",
       "      <td>GLO</td>\n",
       "      <td>market for sodium tetrahydridoborate</td>\n",
       "      <td>sodium tetrahydridoborate</td>\n",
       "      <td>GLO</td>\n",
       "      <td>1.151612e-09</td>\n",
       "      <td>0.267894</td>\n",
       "      <td>3.085099e-10</td>\n",
       "    </tr>\n",
       "    <tr>\n",
       "      <th>...</th>\n",
       "      <td>...</td>\n",
       "      <td>...</td>\n",
       "      <td>...</td>\n",
       "      <td>...</td>\n",
       "      <td>...</td>\n",
       "      <td>...</td>\n",
       "      <td>...</td>\n",
       "      <td>...</td>\n",
       "      <td>...</td>\n",
       "    </tr>\n",
       "    <tr>\n",
       "      <th>160790</th>\n",
       "      <td>market for electricity, medium voltage</td>\n",
       "      <td>electricity, medium voltage</td>\n",
       "      <td>TG</td>\n",
       "      <td>water production, decarbonised</td>\n",
       "      <td>water, decarbonised</td>\n",
       "      <td>RoW</td>\n",
       "      <td>6.456973e-09</td>\n",
       "      <td>NaN</td>\n",
       "      <td>NaN</td>\n",
       "    </tr>\n",
       "    <tr>\n",
       "      <th>160791</th>\n",
       "      <td>market group for electricity, medium voltage</td>\n",
       "      <td>electricity, medium voltage</td>\n",
       "      <td>CA</td>\n",
       "      <td>zinc mine operation</td>\n",
       "      <td>copper concentrate, sulfide ore</td>\n",
       "      <td>GLO</td>\n",
       "      <td>3.528281e-05</td>\n",
       "      <td>NaN</td>\n",
       "      <td>NaN</td>\n",
       "    </tr>\n",
       "    <tr>\n",
       "      <th>160792</th>\n",
       "      <td>market for cement, unspecified</td>\n",
       "      <td>cement, unspecified</td>\n",
       "      <td>US</td>\n",
       "      <td>uranium fuel element production, enriched 4.2%...</td>\n",
       "      <td>uranium, enriched 4.2%, in fuel element for li...</td>\n",
       "      <td>RoW</td>\n",
       "      <td>1.737599e-11</td>\n",
       "      <td>NaN</td>\n",
       "      <td>NaN</td>\n",
       "    </tr>\n",
       "    <tr>\n",
       "      <th>160793</th>\n",
       "      <td>market for irrigation</td>\n",
       "      <td>irrigation</td>\n",
       "      <td>ZA</td>\n",
       "      <td>maize grain production</td>\n",
       "      <td>maize grain</td>\n",
       "      <td>ZA</td>\n",
       "      <td>3.850597e-10</td>\n",
       "      <td>NaN</td>\n",
       "      <td>NaN</td>\n",
       "    </tr>\n",
       "    <tr>\n",
       "      <th>160794</th>\n",
       "      <td>market for heat, for reuse in municipal waste ...</td>\n",
       "      <td>heat, for reuse in municipal waste incineratio...</td>\n",
       "      <td>BE</td>\n",
       "      <td>treatment of scrap steel, municipal incineration</td>\n",
       "      <td>scrap steel</td>\n",
       "      <td>Europe without Switzerland</td>\n",
       "      <td>1.964123e-07</td>\n",
       "      <td>NaN</td>\n",
       "      <td>NaN</td>\n",
       "    </tr>\n",
       "  </tbody>\n",
       "</table>\n",
       "<p>160795 rows × 9 columns</p>\n",
       "</div>"
      ],
      "text/plain": [
       "                                            supplier name  \\\n",
       "0       sodium arsenide production from Imperial smelt...   \n",
       "1                    asbestos production, chrysotile type   \n",
       "2                                  bauxite mine operation   \n",
       "3                              bentonite quarry operation   \n",
       "4       sodium tetrahydridoborate production, Brown-Sc...   \n",
       "...                                                   ...   \n",
       "160790             market for electricity, medium voltage   \n",
       "160791       market group for electricity, medium voltage   \n",
       "160792                     market for cement, unspecified   \n",
       "160793                              market for irrigation   \n",
       "160794  market for heat, for reuse in municipal waste ...   \n",
       "\n",
       "                               supplier reference product supplier location  \\\n",
       "0                                         sodium arsenide               GLO   \n",
       "1                               asbestos, chrysotile type               GLO   \n",
       "2                                                 bauxite               GLO   \n",
       "3                                               bentonite                DE   \n",
       "4                               sodium tetrahydridoborate               GLO   \n",
       "...                                                   ...               ...   \n",
       "160790                        electricity, medium voltage                TG   \n",
       "160791                        electricity, medium voltage                CA   \n",
       "160792                                cement, unspecified                US   \n",
       "160793                                         irrigation                ZA   \n",
       "160794  heat, for reuse in municipal waste incineratio...                BE   \n",
       "\n",
       "                                            consumer name  \\\n",
       "0                              market for sodium arsenide   \n",
       "1                    market for asbestos, chrysotile type   \n",
       "2                                      market for bauxite   \n",
       "3                                    market for bentonite   \n",
       "4                    market for sodium tetrahydridoborate   \n",
       "...                                                   ...   \n",
       "160790                     water production, decarbonised   \n",
       "160791                                zinc mine operation   \n",
       "160792  uranium fuel element production, enriched 4.2%...   \n",
       "160793                             maize grain production   \n",
       "160794   treatment of scrap steel, municipal incineration   \n",
       "\n",
       "                               consumer reference product  \\\n",
       "0                                         sodium arsenide   \n",
       "1                               asbestos, chrysotile type   \n",
       "2                                                 bauxite   \n",
       "3                                               bentonite   \n",
       "4                               sodium tetrahydridoborate   \n",
       "...                                                   ...   \n",
       "160790                                water, decarbonised   \n",
       "160791                    copper concentrate, sulfide ore   \n",
       "160792  uranium, enriched 4.2%, in fuel element for li...   \n",
       "160793                                        maize grain   \n",
       "160794                                        scrap steel   \n",
       "\n",
       "                 consumer location        amount         CF        impact  \n",
       "0                              GLO  2.582327e-12  60.984817  1.574827e-10  \n",
       "1                              GLO  1.464823e-06   0.233699  3.423270e-07  \n",
       "2                              GLO  1.130260e-02   9.742032  1.101103e-01  \n",
       "3                              GLO  1.683820e-06   0.000304  5.115543e-10  \n",
       "4                              GLO  1.151612e-09   0.267894  3.085099e-10  \n",
       "...                            ...           ...        ...           ...  \n",
       "160790                         RoW  6.456973e-09        NaN           NaN  \n",
       "160791                         GLO  3.528281e-05        NaN           NaN  \n",
       "160792                         RoW  1.737599e-11        NaN           NaN  \n",
       "160793                          ZA  3.850597e-10        NaN           NaN  \n",
       "160794  Europe without Switzerland  1.964123e-07        NaN           NaN  \n",
       "\n",
       "[160795 rows x 9 columns]"
      ]
     },
     "execution_count": 12,
     "metadata": {},
     "output_type": "execute_result"
    }
   ],
   "source": [
    "df_table"
   ]
  },
  {
   "cell_type": "code",
   "execution_count": 13,
   "id": "70874f25-631e-4175-9079-59ef567ddd5b",
   "metadata": {},
   "outputs": [
    {
     "data": {
      "text/html": [
       "<div>\n",
       "<style scoped>\n",
       "    .dataframe tbody tr th:only-of-type {\n",
       "        vertical-align: middle;\n",
       "    }\n",
       "\n",
       "    .dataframe tbody tr th {\n",
       "        vertical-align: top;\n",
       "    }\n",
       "\n",
       "    .dataframe thead th {\n",
       "        text-align: right;\n",
       "    }\n",
       "</style>\n",
       "<table border=\"1\" class=\"dataframe\">\n",
       "  <thead>\n",
       "    <tr style=\"text-align: right;\">\n",
       "      <th></th>\n",
       "      <th>supplier name</th>\n",
       "      <th>supplier reference product</th>\n",
       "      <th>supplier location</th>\n",
       "      <th>consumer name</th>\n",
       "      <th>consumer reference product</th>\n",
       "      <th>consumer location</th>\n",
       "      <th>amount</th>\n",
       "      <th>CF</th>\n",
       "      <th>impact</th>\n",
       "    </tr>\n",
       "  </thead>\n",
       "  <tbody>\n",
       "    <tr>\n",
       "      <th>0</th>\n",
       "      <td>sodium arsenide production from Imperial smelt...</td>\n",
       "      <td>sodium arsenide</td>\n",
       "      <td>GLO</td>\n",
       "      <td>market for sodium arsenide</td>\n",
       "      <td>sodium arsenide</td>\n",
       "      <td>GLO</td>\n",
       "      <td>2.582327e-12</td>\n",
       "      <td>60.984817</td>\n",
       "      <td>1.574827e-10</td>\n",
       "    </tr>\n",
       "    <tr>\n",
       "      <th>1</th>\n",
       "      <td>asbestos production, chrysotile type</td>\n",
       "      <td>asbestos, chrysotile type</td>\n",
       "      <td>GLO</td>\n",
       "      <td>market for asbestos, chrysotile type</td>\n",
       "      <td>asbestos, chrysotile type</td>\n",
       "      <td>GLO</td>\n",
       "      <td>1.464823e-06</td>\n",
       "      <td>0.233699</td>\n",
       "      <td>3.423270e-07</td>\n",
       "    </tr>\n",
       "    <tr>\n",
       "      <th>2</th>\n",
       "      <td>bauxite mine operation</td>\n",
       "      <td>bauxite</td>\n",
       "      <td>GLO</td>\n",
       "      <td>market for bauxite</td>\n",
       "      <td>bauxite</td>\n",
       "      <td>GLO</td>\n",
       "      <td>1.130260e-02</td>\n",
       "      <td>9.742032</td>\n",
       "      <td>1.101103e-01</td>\n",
       "    </tr>\n",
       "    <tr>\n",
       "      <th>3</th>\n",
       "      <td>bentonite quarry operation</td>\n",
       "      <td>bentonite</td>\n",
       "      <td>DE</td>\n",
       "      <td>market for bentonite</td>\n",
       "      <td>bentonite</td>\n",
       "      <td>GLO</td>\n",
       "      <td>1.683820e-06</td>\n",
       "      <td>0.000304</td>\n",
       "      <td>5.115543e-10</td>\n",
       "    </tr>\n",
       "    <tr>\n",
       "      <th>4</th>\n",
       "      <td>sodium tetrahydridoborate production, Brown-Sc...</td>\n",
       "      <td>sodium tetrahydridoborate</td>\n",
       "      <td>GLO</td>\n",
       "      <td>market for sodium tetrahydridoborate</td>\n",
       "      <td>sodium tetrahydridoborate</td>\n",
       "      <td>GLO</td>\n",
       "      <td>1.151612e-09</td>\n",
       "      <td>0.267894</td>\n",
       "      <td>3.085099e-10</td>\n",
       "    </tr>\n",
       "    <tr>\n",
       "      <th>...</th>\n",
       "      <td>...</td>\n",
       "      <td>...</td>\n",
       "      <td>...</td>\n",
       "      <td>...</td>\n",
       "      <td>...</td>\n",
       "      <td>...</td>\n",
       "      <td>...</td>\n",
       "      <td>...</td>\n",
       "      <td>...</td>\n",
       "    </tr>\n",
       "    <tr>\n",
       "      <th>160790</th>\n",
       "      <td>market for electricity, medium voltage</td>\n",
       "      <td>electricity, medium voltage</td>\n",
       "      <td>TG</td>\n",
       "      <td>water production, decarbonised</td>\n",
       "      <td>water, decarbonised</td>\n",
       "      <td>RoW</td>\n",
       "      <td>6.456973e-09</td>\n",
       "      <td>NaN</td>\n",
       "      <td>NaN</td>\n",
       "    </tr>\n",
       "    <tr>\n",
       "      <th>160791</th>\n",
       "      <td>market group for electricity, medium voltage</td>\n",
       "      <td>electricity, medium voltage</td>\n",
       "      <td>CA</td>\n",
       "      <td>zinc mine operation</td>\n",
       "      <td>copper concentrate, sulfide ore</td>\n",
       "      <td>GLO</td>\n",
       "      <td>3.528281e-05</td>\n",
       "      <td>NaN</td>\n",
       "      <td>NaN</td>\n",
       "    </tr>\n",
       "    <tr>\n",
       "      <th>160792</th>\n",
       "      <td>market for cement, unspecified</td>\n",
       "      <td>cement, unspecified</td>\n",
       "      <td>US</td>\n",
       "      <td>uranium fuel element production, enriched 4.2%...</td>\n",
       "      <td>uranium, enriched 4.2%, in fuel element for li...</td>\n",
       "      <td>RoW</td>\n",
       "      <td>1.737599e-11</td>\n",
       "      <td>NaN</td>\n",
       "      <td>NaN</td>\n",
       "    </tr>\n",
       "    <tr>\n",
       "      <th>160793</th>\n",
       "      <td>market for irrigation</td>\n",
       "      <td>irrigation</td>\n",
       "      <td>ZA</td>\n",
       "      <td>maize grain production</td>\n",
       "      <td>maize grain</td>\n",
       "      <td>ZA</td>\n",
       "      <td>3.850597e-10</td>\n",
       "      <td>NaN</td>\n",
       "      <td>NaN</td>\n",
       "    </tr>\n",
       "    <tr>\n",
       "      <th>160794</th>\n",
       "      <td>market for heat, for reuse in municipal waste ...</td>\n",
       "      <td>heat, for reuse in municipal waste incineratio...</td>\n",
       "      <td>BE</td>\n",
       "      <td>treatment of scrap steel, municipal incineration</td>\n",
       "      <td>scrap steel</td>\n",
       "      <td>Europe without Switzerland</td>\n",
       "      <td>1.964123e-07</td>\n",
       "      <td>NaN</td>\n",
       "      <td>NaN</td>\n",
       "    </tr>\n",
       "  </tbody>\n",
       "</table>\n",
       "<p>160795 rows × 9 columns</p>\n",
       "</div>"
      ],
      "text/plain": [
       "                                            supplier name  \\\n",
       "0       sodium arsenide production from Imperial smelt...   \n",
       "1                    asbestos production, chrysotile type   \n",
       "2                                  bauxite mine operation   \n",
       "3                              bentonite quarry operation   \n",
       "4       sodium tetrahydridoborate production, Brown-Sc...   \n",
       "...                                                   ...   \n",
       "160790             market for electricity, medium voltage   \n",
       "160791       market group for electricity, medium voltage   \n",
       "160792                     market for cement, unspecified   \n",
       "160793                              market for irrigation   \n",
       "160794  market for heat, for reuse in municipal waste ...   \n",
       "\n",
       "                               supplier reference product supplier location  \\\n",
       "0                                         sodium arsenide               GLO   \n",
       "1                               asbestos, chrysotile type               GLO   \n",
       "2                                                 bauxite               GLO   \n",
       "3                                               bentonite                DE   \n",
       "4                               sodium tetrahydridoborate               GLO   \n",
       "...                                                   ...               ...   \n",
       "160790                        electricity, medium voltage                TG   \n",
       "160791                        electricity, medium voltage                CA   \n",
       "160792                                cement, unspecified                US   \n",
       "160793                                         irrigation                ZA   \n",
       "160794  heat, for reuse in municipal waste incineratio...                BE   \n",
       "\n",
       "                                            consumer name  \\\n",
       "0                              market for sodium arsenide   \n",
       "1                    market for asbestos, chrysotile type   \n",
       "2                                      market for bauxite   \n",
       "3                                    market for bentonite   \n",
       "4                    market for sodium tetrahydridoborate   \n",
       "...                                                   ...   \n",
       "160790                     water production, decarbonised   \n",
       "160791                                zinc mine operation   \n",
       "160792  uranium fuel element production, enriched 4.2%...   \n",
       "160793                             maize grain production   \n",
       "160794   treatment of scrap steel, municipal incineration   \n",
       "\n",
       "                               consumer reference product  \\\n",
       "0                                         sodium arsenide   \n",
       "1                               asbestos, chrysotile type   \n",
       "2                                                 bauxite   \n",
       "3                                               bentonite   \n",
       "4                               sodium tetrahydridoborate   \n",
       "...                                                   ...   \n",
       "160790                                water, decarbonised   \n",
       "160791                    copper concentrate, sulfide ore   \n",
       "160792  uranium, enriched 4.2%, in fuel element for li...   \n",
       "160793                                        maize grain   \n",
       "160794                                        scrap steel   \n",
       "\n",
       "                 consumer location        amount         CF        impact  \n",
       "0                              GLO  2.582327e-12  60.984817  1.574827e-10  \n",
       "1                              GLO  1.464823e-06   0.233699  3.423270e-07  \n",
       "2                              GLO  1.130260e-02   9.742032  1.101103e-01  \n",
       "3                              GLO  1.683820e-06   0.000304  5.115543e-10  \n",
       "4                              GLO  1.151612e-09   0.267894  3.085099e-10  \n",
       "...                            ...           ...        ...           ...  \n",
       "160790                         RoW  6.456973e-09        NaN           NaN  \n",
       "160791                         GLO  3.528281e-05        NaN           NaN  \n",
       "160792                         RoW  1.737599e-11        NaN           NaN  \n",
       "160793                          ZA  3.850597e-10        NaN           NaN  \n",
       "160794  Europe without Switzerland  1.964123e-07        NaN           NaN  \n",
       "\n",
       "[160795 rows x 9 columns]"
      ]
     },
     "execution_count": 13,
     "metadata": {},
     "output_type": "execute_result"
    }
   ],
   "source": [
    "df_table"
   ]
  },
  {
   "cell_type": "code",
   "execution_count": 14,
   "id": "98dc0b3a-118e-41bf-9c5e-1351addd919c",
   "metadata": {},
   "outputs": [],
   "source": [
    "df_table.to_excel(\"df.xlsx\")"
   ]
  },
  {
   "cell_type": "code",
   "execution_count": 15,
   "id": "5f9766ac-6c92-4c9a-aaf1-9f9258268a02",
   "metadata": {},
   "outputs": [
    {
     "name": "stdout",
     "output_type": "stream",
     "text": [
      "+----------------------+--------------------------------------------+\n",
      "|       Activity       | hydrogen production, gaseous, 30 bar, from |\n",
      "|                      |    PEM electrolysis, from offshore wind    |\n",
      "|                      |                electricity                 |\n",
      "|     Method name      |      ('GeoPolRisk', 'paired', '2024')      |\n",
      "|         Unit         |               kg copper-eq.                |\n",
      "|      Data file       |           GeoPolRisk_paired_2024           |\n",
      "|    CFs in method     |                   40362                    |\n",
      "|       CFs used       |                    1205                    |\n",
      "|   Unique CFs used    |                    417                     |\n",
      "|  Exc. characterized  |                    1266                    |\n",
      "| Exc. uncharacterized |                   159529                   |\n",
      "+----------------------+--------------------------------------------+\n"
     ]
    }
   ],
   "source": [
    "LCA.statistics()"
   ]
  },
  {
   "cell_type": "code",
   "execution_count": 16,
   "id": "5825bdc2-1a9a-44dc-a755-4c28a0a226bf",
   "metadata": {},
   "outputs": [
    {
     "name": "stdout",
     "output_type": "stream",
     "text": [
      "+----------------------+--------------------------------------------+\n",
      "|       Activity       | hydrogen production, gaseous, 30 bar, from |\n",
      "|                      |    PEM electrolysis, from offshore wind    |\n",
      "|                      |                electricity                 |\n",
      "|     Method name      |      ('GeoPolRisk', 'paired', '2024')      |\n",
      "|         Unit         |               kg copper-eq.                |\n",
      "|      Data file       |           GeoPolRisk_paired_2024           |\n",
      "|    CFs in method     |                   40362                    |\n",
      "|       CFs used       |                    1205                    |\n",
      "|   Unique CFs used    |                    417                     |\n",
      "|  Exc. characterized  |                    1266                    |\n",
      "| Exc. uncharacterized |                   159529                   |\n",
      "+----------------------+--------------------------------------------+\n"
     ]
    }
   ],
   "source": [
    "LCA.statistics()"
   ]
  },
  {
   "cell_type": "code",
   "execution_count": 17,
   "id": "68a4a11c-50fc-44e5-85f0-0e963e5bdcb7",
   "metadata": {},
   "outputs": [],
   "source": [
    "df_table = df_table.loc[df_table[\"supplier reference product\"] != \"coke\"]"
   ]
  },
  {
   "cell_type": "markdown",
   "id": "1e8af74d-6e69-4ee6-94c7-0d9c43e70f8f",
   "metadata": {},
   "source": [
    "<a id=\"sec_plot_results\"></a>\n",
    "# 6. Plot results"
   ]
  },
  {
   "cell_type": "code",
   "execution_count": 18,
   "id": "d1b5dcb4-91f2-44f5-9fe3-c6c5b68572ed",
   "metadata": {},
   "outputs": [],
   "source": [
    "import matplotlib.pyplot as plt\n",
    "import matplotlib.ticker as ticker"
   ]
  },
  {
   "cell_type": "code",
   "execution_count": 19,
   "id": "f92c47bc-4a25-4224-8804-ca8a94537c7f",
   "metadata": {},
   "outputs": [
    {
     "data": {
      "image/png": "[encoded data removed]",
      "text/plain": [
       "<Figure size 350x1000 with 5 Axes>"
      ]
     },
     "metadata": {},
     "output_type": "display_data"
    }
   ],
   "source": [
    "cutoff = 0.00\n",
    "# remove rows for which \"amount\" is below the cutoff\n",
    "m = df_table.loc[df_table[\"impact\"] > 0, \"impact\"].max()\n",
    "df = df_table[df_table[\"impact\"] > cutoff * m]\n",
    "# Plotting\n",
    "fig, axes = plt.subplots(5, 1, figsize=(3.5, 10))\n",
    "df_net = df.copy()\n",
    "d = df_net.groupby([\"supplier reference product\"])\n",
    "d = d.sum().sort_values(by=\"amount\", ascending=False)\n",
    "d[\"amount\"].head(15).plot(kind=\"bar\", ax=axes[0], xlabel='')\n",
    "axes[0].set_yscale('log')\n",
    "axes[0].set_title(\"a) Resource use\")\n",
    "axes[0].set_ylabel(\"kg\")\n",
    "axes[0].set_xticklabels(\n",
    "    [x.get_text()[:15] for x in axes[0].get_xticklabels()],\n",
    "    rotation=90,\n",
    ")\n",
    "axes[0].tick_params(axis=\"x\", labelsize=6)\n",
    "axes[0].set_yticks([1e-6, 1e-4, 1e-2, 1e-1,])\n",
    "d[\"CF\"] = d[\"impact\"] / d[\"amount\"]\n",
    "d[\"CF\"].sort_values(ascending=False).head(15).plot(kind=\"bar\", ax=axes[1], xlabel='')\n",
    "axes[1].set_yscale('log')\n",
    "axes[1].set_title(\"b) Characterization factor by resource\")\n",
    "axes[1].set_ylabel(\"kg copper-eq./kg\")\n",
    "axes[1].set_xticklabels(\n",
    "    [x.get_text()[:15] for x in axes[1].get_xticklabels()],\n",
    "    rotation=90,\n",
    ")\n",
    "axes[1].tick_params(axis=\"x\", labelsize=6)\n",
    "axes[1].set_yticks([1e-4, 1e-2, 1e-0, 1e+2, 1e+4])\n",
    "df_net[\"CF\"] = df_net[\"impact\"] / df_net[\"amount\"]\n",
    "df_net.replace(\"Europe without Switzerland\", \"RER\", regex=True, inplace=True)\n",
    "df_net = df_net.loc[df_net[\"supplier location\"] != df_net[\"consumer location\"]]\n",
    "df_net = df_net.drop_duplicates(subset=[\"supplier location\", \"consumer location\"], keep='first')\n",
    "df_net = df_net.loc[df_net[\"supplier location\"] != \"RoW\"]\n",
    "df_net = df_net.loc[df_net[\"supplier location\"] != \"RoE\"]\n",
    "df_net = df_net.set_index([\"supplier location\", \"consumer location\"])\n",
    "df_net.loc[df_net[\"supplier reference product\"] == \"petroleum\", \"CF\"].sort_values(ascending=True).head(20).plot(kind=\"bar\", ax=axes[2], xlabel='')\n",
    "axes[2].set_yscale('log')\n",
    "axes[2].set_title(\"c) Characterization factor for petroleum\")\n",
    "axes[2].set_ylabel(\"kg copper-eq./kg\")\n",
    "axes[2].tick_params(axis=\"x\", labelsize=8, rotation=90)\n",
    "axes[2].set_yticks([1e-10, 1e-8, 1e-6, 1e-4, 1e-2,])\n",
    "# 3. Stacked bar plot for \"amount\" by \"consumer name\" and \"consumer location\"\n",
    "df.loc[:, \"supplier reference product\"] = df[\"supplier reference product\"].str.split(\", \").str[0]\n",
    "df_grouped = df.groupby([\"supplier reference product\", \"supplier location\"])[\"impact\"].sum().unstack()\n",
    "df_grouped = df_grouped.dropna(how='all', axis=0).dropna(how='all', axis=1)\n",
    "df_grouped = df_grouped[df_grouped.sum(axis=1) != 0]\n",
    "df_grouped = df_grouped.loc[:, df_grouped.sum(axis=0) != 0]\n",
    "df_grouped = df_grouped[df_grouped.sum(axis=1) > 1e-4]\n",
    "df_grouped = df_grouped.dropna(how='all', axis=0).dropna(how='all', axis=1)\n",
    "df_grouped = df_grouped.loc[df_grouped.sum(axis=1).sort_values(ascending=False).index]\n",
    "df_grouped = df_grouped.loc[:, df_grouped.sum() > 1e-4]\n",
    "row_order = df_grouped.sum(axis=1).sort_values(ascending=False).index\n",
    "df_grouped = df_grouped.loc[row_order]\n",
    "df_grouped.head(10).plot(kind=\"bar\", stacked=True, ax=axes[3], xlabel='')\n",
    "#axes[3].set_yscale('log')\n",
    "axes[3].set_title(\"d) LCIA score by resource & location\")\n",
    "axes[3].set_ylabel(\"kg copper-eq.\")\n",
    "axes[3].set_xticklabels(\n",
    "    [x.get_text()[:15] for x in axes[3].get_xticklabels()],\n",
    "    rotation=90,\n",
    ")\n",
    "axes[3].tick_params(axis=\"x\", labelsize=6)\n",
    "#axes[3].legend_.remove()\n",
    "#axes[3].legend(\n",
    "#    loc='upper right',\n",
    "#    #bbox_to_anchor=(0.1, 0),\n",
    "#    ncol=6,\n",
    "#    fontsize=7,\n",
    "#    frameon=False\n",
    "#)\n",
    "axes[3].legend().remove()\n",
    "#axes[3].yaxis.set_major_locator(ticker.LogLocator(base=10.0, subs=(1.0, 2.0, 5.0), numticks=10))\n",
    "axes[3].set_yticks([0.0, 0.05, 0.10])\n",
    "\n",
    "# New fifth panel - Method comparison\n",
    "import pandas as pd\n",
    "method_comparison = pd.DataFrame({\n",
    "    'Method': ['Paired', 'Elementary flows'],\n",
    "    'Score': [current_score, alternative_score]\n",
    "})\n",
    "method_comparison.plot(x='Method', y='Score', kind='bar', ax=axes[4], xlabel='', legend=False)\n",
    "axes[4].set_title(\"e) Method comparison\")\n",
    "axes[4].set_ylabel(\"kg copper-eq.\")\n",
    "axes[4].set_xticklabels(['Paired', 'Elementary flows'], rotation=0)\n",
    "axes[4].tick_params(axis=\"x\", labelsize=8)\n",
    "\n",
    "plt.tight_layout(rect=[0, 0, 1, 1])  # leave space at the top for the legend\n",
    "#plt.savefig(\"figure_2.png\", bbox_inches=\"tight\", dpi=150)\n",
    "plt.show()"
   ]
  },
  {
   "cell_type": "code",
   "execution_count": null,
   "id": "dc27e21e-567c-4df8-ad6f-6b9ec7e7c5ca",
   "metadata": {},
   "outputs": [],
   "source": []
  }
 ],
 "metadata": {
  "kernelspec": {
   "display_name": "Python 3 (ipykernel)",
   "language": "python",
   "name": "python3"
  },
  "language_info": {
   "codemirror_mode": {
    "name": "ipython",
    "version": 3
   },
   "file_extension": ".py",
   "mimetype": "text/x-python",
   "name": "python",
   "nbconvert_exporter": "python",
   "pygments_lexer": "ipython3",
   "version": "3.11.13"
  }
 },
 "nbformat": 4,
 "nbformat_minor": 5
}
